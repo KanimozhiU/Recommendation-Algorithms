{
 "cells": [
  {
   "cell_type": "code",
   "execution_count": 1,
   "metadata": {
    "colab": {
     "base_uri": "https://localhost:8080/",
     "height": 301
    },
    "colab_type": "code",
    "id": "zcmoniPer8_R",
    "outputId": "b4806d8b-9db3-4225-a9ed-6e47fbc90bcb"
   },
   "outputs": [
    {
     "name": "stdout",
     "output_type": "stream",
     "text": [
      "Collecting mxnet\n",
      "\u001b[?25l  Downloading https://files.pythonhosted.org/packages/81/f5/d79b5b40735086ff1100c680703e0f3efc830fa455e268e9e96f3c857e93/mxnet-1.6.0-py2.py3-none-any.whl (68.7MB)\n",
      "\u001b[K     |████████████████████████████████| 68.7MB 53kB/s \n",
      "\u001b[?25hRequirement already satisfied: numpy<2.0.0,>1.16.0 in /usr/local/lib/python3.6/dist-packages (from mxnet) (1.18.5)\n",
      "Collecting graphviz<0.9.0,>=0.8.1\n",
      "  Downloading https://files.pythonhosted.org/packages/53/39/4ab213673844e0c004bed8a0781a0721a3f6bb23eb8854ee75c236428892/graphviz-0.8.4-py2.py3-none-any.whl\n",
      "Requirement already satisfied: requests<3,>=2.20.0 in /usr/local/lib/python3.6/dist-packages (from mxnet) (2.23.0)\n",
      "Requirement already satisfied: chardet<4,>=3.0.2 in /usr/local/lib/python3.6/dist-packages (from requests<3,>=2.20.0->mxnet) (3.0.4)\n",
      "Requirement already satisfied: urllib3!=1.25.0,!=1.25.1,<1.26,>=1.21.1 in /usr/local/lib/python3.6/dist-packages (from requests<3,>=2.20.0->mxnet) (1.24.3)\n",
      "Requirement already satisfied: certifi>=2017.4.17 in /usr/local/lib/python3.6/dist-packages (from requests<3,>=2.20.0->mxnet) (2020.6.20)\n",
      "Requirement already satisfied: idna<3,>=2.5 in /usr/local/lib/python3.6/dist-packages (from requests<3,>=2.20.0->mxnet) (2.9)\n",
      "Installing collected packages: graphviz, mxnet\n",
      "  Found existing installation: graphviz 0.10.1\n",
      "    Uninstalling graphviz-0.10.1:\n",
      "      Successfully uninstalled graphviz-0.10.1\n",
      "Successfully installed graphviz-0.8.4 mxnet-1.6.0\n"
     ]
    }
   ],
   "source": [
    "!pip install mxnet"
   ]
  },
  {
   "cell_type": "code",
   "execution_count": 2,
   "metadata": {
    "colab": {
     "base_uri": "https://localhost:8080/",
     "height": 90
    },
    "colab_type": "code",
    "id": "A4DxYHT3rX-_",
    "outputId": "3d892f8b-2367-4f32-bcf8-309b30d59130"
   },
   "outputs": [
    {
     "name": "stdout",
     "output_type": "stream",
     "text": [
      "Populating the interactive namespace from numpy and matplotlib\n"
     ]
    },
    {
     "name": "stderr",
     "output_type": "stream",
     "text": [
      "/usr/local/lib/python3.6/dist-packages/statsmodels/tools/_testing.py:19: FutureWarning: pandas.util.testing is deprecated. Use the functions in the public API at pandas.testing instead.\n",
      "  import pandas.util.testing as tm\n"
     ]
    }
   ],
   "source": [
    "%pylab inline\n",
    "import mxnet as mx\n",
    "import pandas as pd\n",
    "import sys\n",
    "import seaborn; seaborn.set_style('whitegrid')\n",
    "import logging\n",
    "logger = logging.getLogger()\n",
    "logger.setLevel(logging.DEBUG)"
   ]
  },
  {
   "cell_type": "code",
   "execution_count": 3,
   "metadata": {
    "colab": {},
    "colab_type": "code",
    "id": "iGdOqNYyrlbH"
   },
   "outputs": [],
   "source": [
    "from google.colab import files\n",
    "from google.colab import drive"
   ]
  },
  {
   "cell_type": "code",
   "execution_count": 4,
   "metadata": {
    "colab": {
     "base_uri": "https://localhost:8080/",
     "height": 126
    },
    "colab_type": "code",
    "id": "coWR72bCrz2j",
    "outputId": "5604e152-0bd6-4261-f1c2-8782fb37eec8"
   },
   "outputs": [
    {
     "name": "stdout",
     "output_type": "stream",
     "text": [
      "Go to this URL in a browser: https://accounts.google.com/o/oauth2/auth?client_id=947318989803-6bn6qk8qdgf4n4g3pfee6491hc0brc4i.apps.googleusercontent.com&redirect_uri=urn%3aietf%3awg%3aoauth%3a2.0%3aoob&response_type=code&scope=email%20https%3a%2f%2fwww.googleapis.com%2fauth%2fdocs.test%20https%3a%2f%2fwww.googleapis.com%2fauth%2fdrive%20https%3a%2f%2fwww.googleapis.com%2fauth%2fdrive.photos.readonly%20https%3a%2f%2fwww.googleapis.com%2fauth%2fpeopleapi.readonly\n",
      "\n",
      "Enter your authorization code:\n",
      "··········\n",
      "Mounted at /content/gdrive\n"
     ]
    }
   ],
   "source": [
    "drive.mount('/content/gdrive',) # force_remount=True)\n",
    "root_dir = \"/content/gdrive/My Drive/\""
   ]
  },
  {
   "cell_type": "code",
   "execution_count": 5,
   "metadata": {
    "colab": {
     "base_uri": "https://localhost:8080/",
     "height": 35
    },
    "colab_type": "code",
    "id": "1fuM1yP90abC",
    "outputId": "5fb04e65-a0d2-43d9-b410-658f1d3bab78"
   },
   "outputs": [
    {
     "data": {
      "application/vnd.google.colaboratory.intrinsic": {
       "type": "string"
      },
      "text/plain": [
       "'/content'"
      ]
     },
     "execution_count": 5,
     "metadata": {
      "tags": []
     },
     "output_type": "execute_result"
    }
   ],
   "source": [
    "import os\n",
    "os.getcwd()"
   ]
  },
  {
   "cell_type": "code",
   "execution_count": 6,
   "metadata": {
    "colab": {},
    "colab_type": "code",
    "id": "fKsNebg10cO3"
   },
   "outputs": [],
   "source": [
    "# data_path = '/content/gdrive/My Drive/transaction_all2_with_merch.csv'\n",
    "data_path = '/content/gdrive/My Drive/transaction_all2_with_merch.csv'"
   ]
  },
  {
   "cell_type": "code",
   "execution_count": 8,
   "metadata": {
    "colab": {},
    "colab_type": "code",
    "id": "kcgan9huKZr4"
   },
   "outputs": [],
   "source": [
    "#data = pd.read_csv('transaction_all2_with_merch.csv', sep=',')\n",
    "#data.head()"
   ]
  },
  {
   "cell_type": "code",
   "execution_count": 9,
   "metadata": {
    "colab": {
     "base_uri": "https://localhost:8080/",
     "height": 200
    },
    "colab_type": "code",
    "id": "Wt2AHJkv0kyH",
    "outputId": "5fac0aa1-7032-4ee0-a9df-ded8d769c0d9"
   },
   "outputs": [
    {
     "data": {
      "text/html": [
       "<div>\n",
       "<style scoped>\n",
       "    .dataframe tbody tr th:only-of-type {\n",
       "        vertical-align: middle;\n",
       "    }\n",
       "\n",
       "    .dataframe tbody tr th {\n",
       "        vertical-align: top;\n",
       "    }\n",
       "\n",
       "    .dataframe thead th {\n",
       "        text-align: right;\n",
       "    }\n",
       "</style>\n",
       "<table border=\"1\" class=\"dataframe\">\n",
       "  <thead>\n",
       "    <tr style=\"text-align: right;\">\n",
       "      <th></th>\n",
       "      <th>customer_id</th>\n",
       "      <th>merchant_id</th>\n",
       "      <th>rating</th>\n",
       "      <th>timestamp</th>\n",
       "      <th>merchant_name_new</th>\n",
       "      <th>behav_category</th>\n",
       "      <th>customer_id_map</th>\n",
       "      <th>mechant_id_map</th>\n",
       "    </tr>\n",
       "  </thead>\n",
       "  <tbody>\n",
       "    <tr>\n",
       "      <th>0</th>\n",
       "      <td>1000000</td>\n",
       "      <td>1000004</td>\n",
       "      <td>1.0</td>\n",
       "      <td>1559779200</td>\n",
       "      <td>13thcuptealounge</td>\n",
       "      <td>dining</td>\n",
       "      <td>1</td>\n",
       "      <td>1</td>\n",
       "    </tr>\n",
       "    <tr>\n",
       "      <th>1</th>\n",
       "      <td>1000010</td>\n",
       "      <td>1000004</td>\n",
       "      <td>1.0</td>\n",
       "      <td>1565395200</td>\n",
       "      <td>13thcuptealounge</td>\n",
       "      <td>dining</td>\n",
       "      <td>1</td>\n",
       "      <td>2</td>\n",
       "    </tr>\n",
       "    <tr>\n",
       "      <th>2</th>\n",
       "      <td>1000041</td>\n",
       "      <td>1000004</td>\n",
       "      <td>1.0</td>\n",
       "      <td>1577059200</td>\n",
       "      <td>13thcuptealounge</td>\n",
       "      <td>dining</td>\n",
       "      <td>1</td>\n",
       "      <td>3</td>\n",
       "    </tr>\n",
       "    <tr>\n",
       "      <th>3</th>\n",
       "      <td>1000111</td>\n",
       "      <td>1000004</td>\n",
       "      <td>1.0</td>\n",
       "      <td>1550016000</td>\n",
       "      <td>13thcuptealounge</td>\n",
       "      <td>dining</td>\n",
       "      <td>1</td>\n",
       "      <td>4</td>\n",
       "    </tr>\n",
       "    <tr>\n",
       "      <th>4</th>\n",
       "      <td>1000135</td>\n",
       "      <td>1000004</td>\n",
       "      <td>1.0</td>\n",
       "      <td>1559520000</td>\n",
       "      <td>13thcuptealounge</td>\n",
       "      <td>dining</td>\n",
       "      <td>1</td>\n",
       "      <td>5</td>\n",
       "    </tr>\n",
       "  </tbody>\n",
       "</table>\n",
       "</div>"
      ],
      "text/plain": [
       "   customer_id  merchant_id  ...  customer_id_map  mechant_id_map\n",
       "0      1000000      1000004  ...                1               1\n",
       "1      1000010      1000004  ...                1               2\n",
       "2      1000041      1000004  ...                1               3\n",
       "3      1000111      1000004  ...                1               4\n",
       "4      1000135      1000004  ...                1               5\n",
       "\n",
       "[5 rows x 8 columns]"
      ]
     },
     "execution_count": 9,
     "metadata": {
      "tags": []
     },
     "output_type": "execute_result"
    }
   ],
   "source": [
    "data = pd.read_csv(data_path, sep=',')\n",
    "data.head()"
   ]
  },
  {
   "cell_type": "code",
   "execution_count": 10,
   "metadata": {
    "colab": {
     "base_uri": "https://localhost:8080/",
     "height": 141
    },
    "colab_type": "code",
    "id": "F2ebIEZ48aXs",
    "outputId": "29d32802-938a-4fce-910e-597b543eee06"
   },
   "outputs": [
    {
     "data": {
      "text/plain": [
       "array([1.        , 1.12195122, 1.36585366, 1.24390244, 1.48780488,\n",
       "       1.6097561 , 1.73170732, 1.85365854, 1.97560976, 2.09756098,\n",
       "       2.2195122 , 2.34146342, 2.46341463, 2.95121951, 2.58536585,\n",
       "       2.70731707, 3.07317073, 3.31707317, 3.56097561, 2.82926829,\n",
       "       3.43902439, 4.04878049, 3.80487805, 3.19512195, 3.92682927,\n",
       "       4.41463415, 4.53658537, 5.        , 4.7804878 , 4.17073171,\n",
       "       3.68292683, 4.29268293, 4.90243902])"
      ]
     },
     "execution_count": 10,
     "metadata": {
      "tags": []
     },
     "output_type": "execute_result"
    }
   ],
   "source": [
    "data['rating'].unique()"
   ]
  },
  {
   "cell_type": "code",
   "execution_count": 10,
   "metadata": {
    "colab": {},
    "colab_type": "code",
    "id": "O5zvLYTP8d0m"
   },
   "outputs": [],
   "source": []
  },
  {
   "cell_type": "code",
   "execution_count": 11,
   "metadata": {
    "colab": {},
    "colab_type": "code",
    "id": "DlYSPnCsrX_M"
   },
   "outputs": [],
   "source": [
    "#data = pd.read_csv('transaction_all2_2.csv', sep=',', usecols=(2, 4, 5))\n",
    "\n",
    "#data = pd.read_csv('/content/gdrive/My Drive/Colab Notebooks/DeepFM/transaction_all2_with_merch.csv', sep=',')\n",
    "#data.head()"
   ]
  },
  {
   "cell_type": "code",
   "execution_count": 12,
   "metadata": {
    "colab": {},
    "colab_type": "code",
    "id": "WJTWlhqErX_X"
   },
   "outputs": [],
   "source": [
    "#data.rename(columns={\"customer_id_map\": \"userId\", \"mechant_id_map\": \"merchantId\", \"merchant_name_new\": \"merchantname\",\"behav_category\": \"category\"})"
   ]
  },
  {
   "cell_type": "code",
   "execution_count": 13,
   "metadata": {
    "colab": {
     "base_uri": "https://localhost:8080/",
     "height": 200
    },
    "colab_type": "code",
    "id": "GdREZUg1rX_f",
    "outputId": "3d221357-4458-4f11-d9db-14f8f28b6ed7"
   },
   "outputs": [
    {
     "data": {
      "text/html": [
       "<div>\n",
       "<style scoped>\n",
       "    .dataframe tbody tr th:only-of-type {\n",
       "        vertical-align: middle;\n",
       "    }\n",
       "\n",
       "    .dataframe tbody tr th {\n",
       "        vertical-align: top;\n",
       "    }\n",
       "\n",
       "    .dataframe thead th {\n",
       "        text-align: right;\n",
       "    }\n",
       "</style>\n",
       "<table border=\"1\" class=\"dataframe\">\n",
       "  <thead>\n",
       "    <tr style=\"text-align: right;\">\n",
       "      <th></th>\n",
       "      <th>customer_id</th>\n",
       "      <th>merchant_id</th>\n",
       "      <th>rating</th>\n",
       "      <th>timestamp</th>\n",
       "      <th>merchantname</th>\n",
       "      <th>category</th>\n",
       "      <th>userId</th>\n",
       "      <th>merchantId</th>\n",
       "    </tr>\n",
       "  </thead>\n",
       "  <tbody>\n",
       "    <tr>\n",
       "      <th>0</th>\n",
       "      <td>1000000</td>\n",
       "      <td>1000004</td>\n",
       "      <td>1.0</td>\n",
       "      <td>1559779200</td>\n",
       "      <td>13thcuptealounge</td>\n",
       "      <td>dining</td>\n",
       "      <td>1</td>\n",
       "      <td>1</td>\n",
       "    </tr>\n",
       "    <tr>\n",
       "      <th>1</th>\n",
       "      <td>1000010</td>\n",
       "      <td>1000004</td>\n",
       "      <td>1.0</td>\n",
       "      <td>1565395200</td>\n",
       "      <td>13thcuptealounge</td>\n",
       "      <td>dining</td>\n",
       "      <td>1</td>\n",
       "      <td>2</td>\n",
       "    </tr>\n",
       "    <tr>\n",
       "      <th>2</th>\n",
       "      <td>1000041</td>\n",
       "      <td>1000004</td>\n",
       "      <td>1.0</td>\n",
       "      <td>1577059200</td>\n",
       "      <td>13thcuptealounge</td>\n",
       "      <td>dining</td>\n",
       "      <td>1</td>\n",
       "      <td>3</td>\n",
       "    </tr>\n",
       "    <tr>\n",
       "      <th>3</th>\n",
       "      <td>1000111</td>\n",
       "      <td>1000004</td>\n",
       "      <td>1.0</td>\n",
       "      <td>1550016000</td>\n",
       "      <td>13thcuptealounge</td>\n",
       "      <td>dining</td>\n",
       "      <td>1</td>\n",
       "      <td>4</td>\n",
       "    </tr>\n",
       "    <tr>\n",
       "      <th>4</th>\n",
       "      <td>1000135</td>\n",
       "      <td>1000004</td>\n",
       "      <td>1.0</td>\n",
       "      <td>1559520000</td>\n",
       "      <td>13thcuptealounge</td>\n",
       "      <td>dining</td>\n",
       "      <td>1</td>\n",
       "      <td>5</td>\n",
       "    </tr>\n",
       "  </tbody>\n",
       "</table>\n",
       "</div>"
      ],
      "text/plain": [
       "   customer_id  merchant_id  rating  ...  category userId merchantId\n",
       "0      1000000      1000004     1.0  ...    dining      1          1\n",
       "1      1000010      1000004     1.0  ...    dining      1          2\n",
       "2      1000041      1000004     1.0  ...    dining      1          3\n",
       "3      1000111      1000004     1.0  ...    dining      1          4\n",
       "4      1000135      1000004     1.0  ...    dining      1          5\n",
       "\n",
       "[5 rows x 8 columns]"
      ]
     },
     "execution_count": 13,
     "metadata": {
      "tags": []
     },
     "output_type": "execute_result"
    }
   ],
   "source": [
    "data = data.rename(columns={\"customer_id_map\": \"userId\", \"mechant_id_map\": \"merchantId\", \"merchant_name_new\": \"merchantname\",\"behav_category\": \"category\"})\n",
    "data.head()"
   ]
  },
  {
   "cell_type": "code",
   "execution_count": 14,
   "metadata": {
    "colab": {
     "base_uri": "https://localhost:8080/",
     "height": 300
    },
    "colab_type": "code",
    "id": "7Wzn1udBrX_p",
    "outputId": "d384a29b-ab15-48b1-fe58-b1c10adb0809"
   },
   "outputs": [
    {
     "data": {
      "image/png": "[encoded data removed]",
      "text/plain": [
       "<Figure size 432x288 with 1 Axes>"
      ]
     },
     "metadata": {
      "tags": []
     },
     "output_type": "display_data"
    }
   ],
   "source": [
    "plt.hist(data['rating'])\n",
    "plt.xlabel(\"Rating\", fontsize=14)\n",
    "plt.ylabel(\"Count\", fontsize=14)\n",
    "plt.title(\"Distribution of Ratings in Transaction Data\", fontsize=14)\n",
    "plt.show()"
   ]
  },
  {
   "cell_type": "markdown",
   "metadata": {
    "colab_type": "text",
    "id": "rIxuC7rIrmZW"
   },
   "source": [
    "### Looks Ratings \n",
    "- Ratings has only 2 value s- 1.0 and 1.5"
   ]
  },
  {
   "cell_type": "markdown",
   "metadata": {
    "colab_type": "text",
    "id": "Gk1WCQXprxPv"
   },
   "source": [
    "### Continue ..."
   ]
  },
  {
   "cell_type": "markdown",
   "metadata": {
    "colab_type": "text",
    "id": "JO9zd3HdrvlC"
   },
   "source": [
    "##"
   ]
  },
  {
   "cell_type": "code",
   "execution_count": 15,
   "metadata": {
    "colab": {
     "base_uri": "https://localhost:8080/",
     "height": 106
    },
    "colab_type": "code",
    "id": "Ap8VPxjvrX_z",
    "outputId": "26ae9033-0714-4661-f5f7-369036762275"
   },
   "outputs": [
    {
     "name": "stdout",
     "output_type": "stream",
     "text": [
      "user id min/max:  1 8699\n",
      "# unique users:  8699\n",
      "\n",
      "merchant id min/max:  1 8540\n",
      "# unique merchants:  8540\n"
     ]
    }
   ],
   "source": [
    "print(\"user id min/max: \", data['userId'].min(), data['userId'].max())\n",
    "print(\"# unique users: \", numpy.unique(data['userId']).shape[0])\n",
    "print(\"\")\n",
    "print(\"merchant id min/max: \", data['merchantId'].min(), data['merchantId'].max())\n",
    "print(\"# unique merchants: \", numpy.unique(data['merchantId']).shape[0])"
   ]
  },
  {
   "cell_type": "code",
   "execution_count": 16,
   "metadata": {
    "colab": {},
    "colab_type": "code",
    "id": "w-__xEV7rX_8"
   },
   "outputs": [],
   "source": [
    "n_users, n_merchants = 8699, 8540\n",
    "batch_size = 2500"
   ]
  },
  {
   "cell_type": "code",
   "execution_count": 17,
   "metadata": {
    "colab": {
     "base_uri": "https://localhost:8080/",
     "height": 35
    },
    "colab_type": "code",
    "id": "g7NpMgkpsSH2",
    "outputId": "057e5d59-1158-4fe3-d214-73c559b828a4"
   },
   "outputs": [
    {
     "data": {
      "text/plain": [
       "(403046, 8)"
      ]
     },
     "execution_count": 17,
     "metadata": {
      "tags": []
     },
     "output_type": "execute_result"
    }
   ],
   "source": [
    "data.shape"
   ]
  },
  {
   "cell_type": "code",
   "execution_count": 18,
   "metadata": {
    "colab": {},
    "colab_type": "code",
    "id": "HMporJInrYAG"
   },
   "outputs": [],
   "source": [
    "n = 303046\n",
    "\n",
    "data = data.sample(frac=1).reset_index(drop=True) # Shuffle the data in place row-wise\n",
    "\n",
    "# Use the first 19M samples to train the model\n",
    "train_users = data['userId'].values[:n] - 1 # Offset by 1 so that the IDs start at 0\n",
    "train_merchants = data['merchantId'].values[:n] - 1 # Offset by 1 so that the IDs start at 0\n",
    "train_ratings = data['rating'].values[:n]\n",
    "\n",
    "# Use the remaining ~1M samples for validation of the model\n",
    "valid_users = data['userId'].values[n:] - 1 # Offset by 1 so that the IDs start at 0\n",
    "valid_merchants = data['merchantId'].values[n:] - 1 # Offset by 1 so that the IDs start at 0\n",
    "valid_ratings = data['rating'].values[n:]"
   ]
  },
  {
   "cell_type": "code",
   "execution_count": 19,
   "metadata": {
    "colab": {},
    "colab_type": "code",
    "id": "Q97PN04V10rW"
   },
   "outputs": [],
   "source": [
    "#valid_ratings"
   ]
  },
  {
   "cell_type": "code",
   "execution_count": 20,
   "metadata": {
    "colab": {},
    "colab_type": "code",
    "id": "rkkmei_8139o"
   },
   "outputs": [],
   "source": [
    "#valid_merchants,valid_ratings,valid_users"
   ]
  },
  {
   "cell_type": "code",
   "execution_count": 21,
   "metadata": {
    "colab": {},
    "colab_type": "code",
    "id": "jw5BufLv154C"
   },
   "outputs": [],
   "source": [
    "#valid_users"
   ]
  },
  {
   "cell_type": "code",
   "execution_count": 22,
   "metadata": {
    "colab": {},
    "colab_type": "code",
    "id": "WrmN_Xbr16ub"
   },
   "outputs": [],
   "source": [
    "#train_users"
   ]
  },
  {
   "cell_type": "code",
   "execution_count": 23,
   "metadata": {
    "colab": {},
    "colab_type": "code",
    "id": "ipk4gV_0174N"
   },
   "outputs": [],
   "source": [
    "#train_merchants"
   ]
  },
  {
   "cell_type": "code",
   "execution_count": 24,
   "metadata": {
    "colab": {},
    "colab_type": "code",
    "id": "qcwyU9Dm188T"
   },
   "outputs": [],
   "source": [
    "#train_ratings"
   ]
  },
  {
   "cell_type": "code",
   "execution_count": 24,
   "metadata": {
    "colab": {},
    "colab_type": "code",
    "id": "FR6Gj9-31-NT"
   },
   "outputs": [],
   "source": []
  },
  {
   "cell_type": "code",
   "execution_count": 25,
   "metadata": {
    "colab": {
     "base_uri": "https://localhost:8080/",
     "height": 284
    },
    "colab_type": "code",
    "id": "4Dop_LY4rYAO",
    "outputId": "4c891ea5-8782-4d64-8865-62b9347852f4"
   },
   "outputs": [
    {
     "name": "stderr",
     "output_type": "stream",
     "text": [
      "INFO:root:Epoch[0] Train-rmse=0.486440\n",
      "INFO:root:Epoch[0] Time cost=2.157\n",
      "INFO:root:Epoch[0] Validation-rmse=0.136970\n",
      "INFO:root:Epoch[1] Train-rmse=0.128922\n",
      "INFO:root:Epoch[1] Time cost=2.172\n",
      "INFO:root:Epoch[1] Validation-rmse=0.127093\n",
      "INFO:root:Epoch[2] Train-rmse=0.125153\n",
      "INFO:root:Epoch[2] Time cost=2.143\n",
      "INFO:root:Epoch[2] Validation-rmse=0.126738\n",
      "INFO:root:Epoch[3] Train-rmse=0.124766\n",
      "INFO:root:Epoch[3] Time cost=2.147\n",
      "INFO:root:Epoch[3] Validation-rmse=0.126791\n",
      "INFO:root:Epoch[4] Train-rmse=0.124581\n",
      "INFO:root:Epoch[4] Time cost=2.149\n",
      "INFO:root:Epoch[4] Validation-rmse=0.126792\n"
     ]
    }
   ],
   "source": [
    "#Deep matrix factorization\n",
    "X_train = mx.io.NDArrayIter({'user': train_users, 'merchant': train_merchants}, \n",
    "                            label=train_ratings, batch_size=batch_size)\n",
    "X_eval = mx.io.NDArrayIter({'user': valid_users, 'merchant': valid_merchants}, \n",
    "                           label=valid_ratings, batch_size=batch_size)\n",
    "\n",
    "user = mx.symbol.Variable(\"user\")\n",
    "user = mx.symbol.Embedding(data=user, input_dim=n_users, output_dim=25)\n",
    "\n",
    "merchant = mx.symbol.Variable(\"merchant\")\n",
    "merchant = mx.symbol.Embedding(data=merchant, input_dim=n_merchants, output_dim=25)\n",
    "\n",
    "y_true = mx.symbol.Variable(\"softmax_label\")\n",
    "\n",
    "nn = mx.symbol.concat(user, merchant)\n",
    "nn = mx.symbol.flatten(nn)\n",
    "\n",
    "# Since we are using a two layer neural network here, we will create two FullyConnected layers\n",
    "# with activation functions before the output layer\n",
    "nn = mx.symbol.FullyConnected(data=nn, num_hidden=64)\n",
    "nn = mx.symbol.Activation(data=nn, act_type='relu')\n",
    "nn = mx.symbol.FullyConnected(data=nn, num_hidden=64)\n",
    "nn = mx.symbol.Activation(data=nn, act_type='relu')\n",
    "nn = mx.symbol.FullyConnected(data=nn, num_hidden=1)\n",
    "\n",
    "y_pred = mx.symbol.LinearRegressionOutput(data=nn, label=y_true)\n",
    "\n",
    "model = mx.module.Module(context=mx.cpu(0), data_names=('user', 'merchant'), symbol=y_pred)\n",
    "model.fit(X_train, num_epoch=5, optimizer='adam', optimizer_params=(('learning_rate', 0.001),),\n",
    "          eval_metric='rmse', eval_data=X_eval, batch_end_callback=mx.callback.Speedometer(batch_size, 250))"
   ]
  },
  {
   "cell_type": "code",
   "execution_count": 26,
   "metadata": {
    "colab": {
     "base_uri": "https://localhost:8080/",
     "height": 200
    },
    "colab_type": "code",
    "id": "haCh6nPOrYAV",
    "outputId": "81b36bef-1ef0-4b3d-f6dd-5eda6951c8e3"
   },
   "outputs": [
    {
     "data": {
      "text/html": [
       "<div>\n",
       "<style scoped>\n",
       "    .dataframe tbody tr th:only-of-type {\n",
       "        vertical-align: middle;\n",
       "    }\n",
       "\n",
       "    .dataframe tbody tr th {\n",
       "        vertical-align: top;\n",
       "    }\n",
       "\n",
       "    .dataframe thead th {\n",
       "        text-align: right;\n",
       "    }\n",
       "</style>\n",
       "<table border=\"1\" class=\"dataframe\">\n",
       "  <thead>\n",
       "    <tr style=\"text-align: right;\">\n",
       "      <th></th>\n",
       "      <th>customer_id</th>\n",
       "      <th>merchant_id</th>\n",
       "      <th>rating</th>\n",
       "      <th>timestamp</th>\n",
       "      <th>merchantname</th>\n",
       "      <th>category</th>\n",
       "      <th>userId</th>\n",
       "      <th>merchantId</th>\n",
       "    </tr>\n",
       "  </thead>\n",
       "  <tbody>\n",
       "    <tr>\n",
       "      <th>0</th>\n",
       "      <td>1004455</td>\n",
       "      <td>1000117</td>\n",
       "      <td>1.000000</td>\n",
       "      <td>1548374400</td>\n",
       "      <td>absolutescuba</td>\n",
       "      <td>entertainment</td>\n",
       "      <td>3149</td>\n",
       "      <td>977</td>\n",
       "    </tr>\n",
       "    <tr>\n",
       "      <th>1</th>\n",
       "      <td>1000734</td>\n",
       "      <td>1008131</td>\n",
       "      <td>1.121951</td>\n",
       "      <td>1554768000</td>\n",
       "      <td>venusdailymart</td>\n",
       "      <td>retail stores</td>\n",
       "      <td>5495</td>\n",
       "      <td>2706</td>\n",
       "    </tr>\n",
       "    <tr>\n",
       "      <th>2</th>\n",
       "      <td>1000300</td>\n",
       "      <td>1008252</td>\n",
       "      <td>1.000000</td>\n",
       "      <td>1564099200</td>\n",
       "      <td>wabisabi</td>\n",
       "      <td>dining</td>\n",
       "      <td>5673</td>\n",
       "      <td>1713</td>\n",
       "    </tr>\n",
       "    <tr>\n",
       "      <th>3</th>\n",
       "      <td>1000315</td>\n",
       "      <td>1000876</td>\n",
       "      <td>1.000000</td>\n",
       "      <td>1555718400</td>\n",
       "      <td>bigvaluesupermarket</td>\n",
       "      <td>retail stores</td>\n",
       "      <td>372</td>\n",
       "      <td>221</td>\n",
       "    </tr>\n",
       "    <tr>\n",
       "      <th>4</th>\n",
       "      <td>1003524</td>\n",
       "      <td>1002801</td>\n",
       "      <td>1.731707</td>\n",
       "      <td>1572480000</td>\n",
       "      <td>goldenresidency</td>\n",
       "      <td>travel</td>\n",
       "      <td>1273</td>\n",
       "      <td>817</td>\n",
       "    </tr>\n",
       "  </tbody>\n",
       "</table>\n",
       "</div>"
      ],
      "text/plain": [
       "   customer_id  merchant_id    rating  ...       category userId merchantId\n",
       "0      1004455      1000117  1.000000  ...  entertainment   3149        977\n",
       "1      1000734      1008131  1.121951  ...  retail stores   5495       2706\n",
       "2      1000300      1008252  1.000000  ...         dining   5673       1713\n",
       "3      1000315      1000876  1.000000  ...  retail stores    372        221\n",
       "4      1003524      1002801  1.731707  ...         travel   1273        817\n",
       "\n",
       "[5 rows x 8 columns]"
      ]
     },
     "execution_count": 26,
     "metadata": {
      "tags": []
     },
     "output_type": "execute_result"
    }
   ],
   "source": [
    "category = data\n",
    "category.head()"
   ]
  },
  {
   "cell_type": "code",
   "execution_count": 27,
   "metadata": {
    "colab": {
     "base_uri": "https://localhost:8080/",
     "height": 141
    },
    "colab_type": "code",
    "id": "VyGnHwfKrYAe",
    "outputId": "3af8f482-a8f6-4bb7-d4de-df434a4fe939"
   },
   "outputs": [
    {
     "data": {
      "text/plain": [
       "{'apparel and accessories': 0,\n",
       " 'dining': 1,\n",
       " 'entertainment': 2,\n",
       " 'miscellaneous stores': 3,\n",
       " 'personal service providers': 4,\n",
       " 'retail stores': 5,\n",
       " 'travel': 6}"
      ]
     },
     "execution_count": 27,
     "metadata": {
      "tags": []
     },
     "output_type": "execute_result"
    }
   ],
   "source": [
    "labels_str = [label for label in category['category']]\n",
    "label_set = numpy.unique(labels_str)\n",
    "label_idxs = {l: i for i, l in enumerate(label_set)}\n",
    "label_idxs"
   ]
  },
  {
   "cell_type": "code",
   "execution_count": 28,
   "metadata": {
    "colab": {
     "base_uri": "https://localhost:8080/",
     "height": 35
    },
    "colab_type": "code",
    "id": "51rkXoIcrYAl",
    "outputId": "d215ded0-caa7-48f3-fc9d-aad800b29678"
   },
   "outputs": [
    {
     "data": {
      "text/plain": [
       "array([1., 5., 0., 6., 5., 1., 6., 5., 5., 6.])"
      ]
     },
     "execution_count": 28,
     "metadata": {
      "tags": []
     },
     "output_type": "execute_result"
    }
   ],
   "source": [
    "labels = np.empty(n_merchants)\n",
    "for merchantId, label in zip(category['merchantId'], labels_str):\n",
    "    labels[merchantId-1] = label_idxs[label]\n",
    "\n",
    "train_category = np.array([labels[int(j)] for j in train_merchants])\n",
    "valid_category = np.array([labels[int(j)] for j in valid_merchants])\n",
    "train_category[:10]"
   ]
  },
  {
   "cell_type": "code",
   "execution_count": 29,
   "metadata": {
    "colab": {
     "base_uri": "https://localhost:8080/",
     "height": 284
    },
    "colab_type": "code",
    "id": "dZWDI3-ErYAt",
    "outputId": "c6117502-b85e-4202-e58a-d246c379f729"
   },
   "outputs": [
    {
     "name": "stderr",
     "output_type": "stream",
     "text": [
      "INFO:root:Epoch[0] Train-rmse=0.467230\n",
      "INFO:root:Epoch[0] Time cost=2.069\n",
      "INFO:root:Epoch[0] Validation-rmse=0.136883\n",
      "INFO:root:Epoch[1] Train-rmse=0.129061\n",
      "INFO:root:Epoch[1] Time cost=2.061\n",
      "INFO:root:Epoch[1] Validation-rmse=0.126928\n",
      "INFO:root:Epoch[2] Train-rmse=0.124479\n",
      "INFO:root:Epoch[2] Time cost=2.075\n",
      "INFO:root:Epoch[2] Validation-rmse=0.126114\n",
      "INFO:root:Epoch[3] Train-rmse=0.123780\n",
      "INFO:root:Epoch[3] Time cost=2.067\n",
      "INFO:root:Epoch[3] Validation-rmse=0.126083\n",
      "INFO:root:Epoch[4] Train-rmse=0.123477\n",
      "INFO:root:Epoch[4] Time cost=2.093\n",
      "INFO:root:Epoch[4] Validation-rmse=0.126070\n"
     ]
    }
   ],
   "source": [
    "X_train = mx.io.NDArrayIter({'user': train_users, 'merchant': train_merchants, 'merchant_category': train_category}, \n",
    "                            label=train_ratings, batch_size=batch_size)\n",
    "X_eval = mx.io.NDArrayIter({'user': valid_users, 'merchant': valid_merchants, 'merchant_category': valid_category}, \n",
    "                           label=valid_ratings, batch_size=batch_size)\n",
    "\n",
    "user = mx.symbol.Variable(\"user\")\n",
    "user = mx.symbol.Embedding(data=user, input_dim=n_users, output_dim=15)\n",
    "\n",
    "merchant = mx.symbol.Variable(\"merchant\")\n",
    "merchant = mx.symbol.Embedding(data=merchant, input_dim=n_merchants, output_dim=20) # Reduce from 25 to 20\n",
    "\n",
    "# We need to add in a third embedding layer for genre\n",
    "merchant_category = mx.symbol.Variable(\"merchant_category\")\n",
    "merchant_category = mx.symbol.Embedding(data=merchant_category, input_dim=20, output_dim=5) # Set to 5\n",
    "\n",
    "y_true = mx.symbol.Variable(\"softmax_label\")\n",
    "\n",
    "nn = mx.symbol.concat(user, merchant, merchant_category)\n",
    "nn = mx.symbol.flatten(nn)\n",
    "nn = mx.symbol.FullyConnected(data=nn, num_hidden=64)\n",
    "nn = mx.symbol.Activation(data=nn, act_type='relu')\n",
    "nn = mx.symbol.FullyConnected(data=nn, num_hidden=64)\n",
    "nn = mx.symbol.Activation(data=nn, act_type='relu')\n",
    "nn = mx.symbol.FullyConnected(data=nn, num_hidden=1)\n",
    "\n",
    "y_pred = mx.symbol.LinearRegressionOutput(data=nn, label=y_true)\n",
    "\n",
    "model = mx.module.Module(context=mx.cpu(0), data_names=('user', 'merchant', 'merchant_category'), symbol=y_pred)\n",
    "model.fit(X_train, num_epoch=5, optimizer='adam', optimizer_params=(('learning_rate', 0.001),),\n",
    "          eval_metric='rmse', eval_data=X_eval, batch_end_callback=mx.callback.Speedometer(batch_size, 250))"
   ]
  },
  {
   "cell_type": "code",
   "execution_count": 29,
   "metadata": {
    "colab": {},
    "colab_type": "code",
    "id": "FMXWD4G2xunL"
   },
   "outputs": [],
   "source": []
  },
  {
   "cell_type": "markdown",
   "metadata": {
    "colab_type": "text",
    "id": "sFZ4MmjO07GC"
   },
   "source": [
    "### Inferenec Experiment"
   ]
  },
  {
   "cell_type": "code",
   "execution_count": 30,
   "metadata": {
    "colab": {},
    "colab_type": "code",
    "id": "n6ZJbrKf4YAU"
   },
   "outputs": [],
   "source": [
    "all_category = np.array([labels[int(j)] for j in train_merchants] + [labels[int(j)] for j in valid_merchants])\n"
   ]
  },
  {
   "cell_type": "code",
   "execution_count": 31,
   "metadata": {
    "colab": {
     "base_uri": "https://localhost:8080/",
     "height": 35
    },
    "colab_type": "code",
    "id": "G4ezzFtN4fsM",
    "outputId": "74423921-d789-4c9f-f29d-60ed42540f44"
   },
   "outputs": [
    {
     "data": {
      "text/plain": [
       "(403046,)"
      ]
     },
     "execution_count": 31,
     "metadata": {
      "tags": []
     },
     "output_type": "execute_result"
    }
   ],
   "source": [
    "all_category.shape"
   ]
  },
  {
   "cell_type": "code",
   "execution_count": 32,
   "metadata": {
    "colab": {},
    "colab_type": "code",
    "id": "O2u4lJPG3-BV"
   },
   "outputs": [],
   "source": [
    "all_users = data['userId'].values[:] - 1 # Offset by 1 so that the IDs start at 0\n",
    "all_merchants = data['merchantId'].values[:] - 1 # Offset by 1 so that the IDs start at 0\n",
    "all_ratings = data['rating'].values[:]\n"
   ]
  },
  {
   "cell_type": "code",
   "execution_count": 33,
   "metadata": {
    "colab": {},
    "colab_type": "code",
    "id": "sT3mL_Mk08wp"
   },
   "outputs": [],
   "source": [
    "all_user_merchants_pred_iter = mx.io.NDArrayIter({'user': all_users, 'merchant': all_merchants, 'merchant_category': all_category}, \n",
    "                           label=all_ratings, batch_size=batch_size)\n"
   ]
  },
  {
   "cell_type": "code",
   "execution_count": 34,
   "metadata": {
    "colab": {},
    "colab_type": "code",
    "id": "yvu7Xlp03AmL"
   },
   "outputs": [],
   "source": [
    "all_user_merchants_pred_rating = model.predict(all_user_merchants_pred_iter)"
   ]
  },
  {
   "cell_type": "code",
   "execution_count": 35,
   "metadata": {
    "colab": {},
    "colab_type": "code",
    "id": "L5dNT4e38HYL"
   },
   "outputs": [],
   "source": [
    "list_of_pred_ratings = all_user_merchants_pred_rating.squeeze()"
   ]
  },
  {
   "cell_type": "code",
   "execution_count": 36,
   "metadata": {
    "colab": {
     "base_uri": "https://localhost:8080/",
     "height": 35
    },
    "colab_type": "code",
    "id": "xE_LQ4afLqMr",
    "outputId": "4d2556c1-d351-4552-a93c-b6570baf10de"
   },
   "outputs": [
    {
     "data": {
      "text/plain": [
       "mxnet.ndarray.ndarray.NDArray"
      ]
     },
     "execution_count": 36,
     "metadata": {
      "tags": []
     },
     "output_type": "execute_result"
    }
   ],
   "source": [
    "type(list_of_pred_ratings)"
   ]
  },
  {
   "cell_type": "code",
   "execution_count": 37,
   "metadata": {
    "colab": {},
    "colab_type": "code",
    "id": "1CuPbnX-LrMg"
   },
   "outputs": [],
   "source": [
    "list_of_pred_ratings = list_of_pred_ratings.asnumpy()"
   ]
  },
  {
   "cell_type": "code",
   "execution_count": 38,
   "metadata": {
    "colab": {
     "base_uri": "https://localhost:8080/",
     "height": 35
    },
    "colab_type": "code",
    "id": "R5ntKJeaLujK",
    "outputId": "a58acb37-00a1-4707-9a9e-c7b1a17d88a0"
   },
   "outputs": [
    {
     "data": {
      "text/plain": [
       "numpy.ndarray"
      ]
     },
     "execution_count": 38,
     "metadata": {
      "tags": []
     },
     "output_type": "execute_result"
    }
   ],
   "source": [
    "type(list_of_pred_ratings)"
   ]
  },
  {
   "cell_type": "code",
   "execution_count": 39,
   "metadata": {
    "colab": {
     "base_uri": "https://localhost:8080/",
     "height": 35
    },
    "colab_type": "code",
    "id": "v1xjoSqF9S9D",
    "outputId": "cad4cac5-04db-4078-f5ee-d9b0022b6501"
   },
   "outputs": [
    {
     "data": {
      "text/plain": [
       "(403046,)"
      ]
     },
     "execution_count": 39,
     "metadata": {
      "tags": []
     },
     "output_type": "execute_result"
    }
   ],
   "source": [
    "list_of_pred_ratings.shape"
   ]
  },
  {
   "cell_type": "code",
   "execution_count": 40,
   "metadata": {
    "colab": {
     "base_uri": "https://localhost:8080/",
     "height": 35
    },
    "colab_type": "code",
    "id": "GcI5SMAw9a2w",
    "outputId": "d64f0cf7-639b-4019-e16e-e453be36ef4c"
   },
   "outputs": [
    {
     "data": {
      "text/plain": [
       "(403046, 8)"
      ]
     },
     "execution_count": 40,
     "metadata": {
      "tags": []
     },
     "output_type": "execute_result"
    }
   ],
   "source": [
    "data.shape"
   ]
  },
  {
   "cell_type": "code",
   "execution_count": 41,
   "metadata": {
    "colab": {},
    "colab_type": "code",
    "id": "f65S_2D-4tfa"
   },
   "outputs": [],
   "source": [
    "data['currrent_prediction'] = list_of_pred_ratings"
   ]
  },
  {
   "cell_type": "code",
   "execution_count": 42,
   "metadata": {
    "colab": {
     "base_uri": "https://localhost:8080/",
     "height": 200
    },
    "colab_type": "code",
    "id": "J9S-5t9kFwDP",
    "outputId": "34fd70dc-a98b-4ecf-c159-783055567836"
   },
   "outputs": [
    {
     "data": {
      "text/html": [
       "<div>\n",
       "<style scoped>\n",
       "    .dataframe tbody tr th:only-of-type {\n",
       "        vertical-align: middle;\n",
       "    }\n",
       "\n",
       "    .dataframe tbody tr th {\n",
       "        vertical-align: top;\n",
       "    }\n",
       "\n",
       "    .dataframe thead th {\n",
       "        text-align: right;\n",
       "    }\n",
       "</style>\n",
       "<table border=\"1\" class=\"dataframe\">\n",
       "  <thead>\n",
       "    <tr style=\"text-align: right;\">\n",
       "      <th></th>\n",
       "      <th>customer_id</th>\n",
       "      <th>merchant_id</th>\n",
       "      <th>rating</th>\n",
       "      <th>timestamp</th>\n",
       "      <th>merchantname</th>\n",
       "      <th>category</th>\n",
       "      <th>userId</th>\n",
       "      <th>merchantId</th>\n",
       "      <th>currrent_prediction</th>\n",
       "    </tr>\n",
       "  </thead>\n",
       "  <tbody>\n",
       "    <tr>\n",
       "      <th>0</th>\n",
       "      <td>1004455</td>\n",
       "      <td>1000117</td>\n",
       "      <td>1.000000</td>\n",
       "      <td>1548374400</td>\n",
       "      <td>absolutescuba</td>\n",
       "      <td>entertainment</td>\n",
       "      <td>3149</td>\n",
       "      <td>977</td>\n",
       "      <td>0.984118</td>\n",
       "    </tr>\n",
       "    <tr>\n",
       "      <th>1</th>\n",
       "      <td>1000734</td>\n",
       "      <td>1008131</td>\n",
       "      <td>1.121951</td>\n",
       "      <td>1554768000</td>\n",
       "      <td>venusdailymart</td>\n",
       "      <td>retail stores</td>\n",
       "      <td>5495</td>\n",
       "      <td>2706</td>\n",
       "      <td>1.007609</td>\n",
       "    </tr>\n",
       "    <tr>\n",
       "      <th>2</th>\n",
       "      <td>1000300</td>\n",
       "      <td>1008252</td>\n",
       "      <td>1.000000</td>\n",
       "      <td>1564099200</td>\n",
       "      <td>wabisabi</td>\n",
       "      <td>dining</td>\n",
       "      <td>5673</td>\n",
       "      <td>1713</td>\n",
       "      <td>1.102690</td>\n",
       "    </tr>\n",
       "    <tr>\n",
       "      <th>3</th>\n",
       "      <td>1000315</td>\n",
       "      <td>1000876</td>\n",
       "      <td>1.000000</td>\n",
       "      <td>1555718400</td>\n",
       "      <td>bigvaluesupermarket</td>\n",
       "      <td>retail stores</td>\n",
       "      <td>372</td>\n",
       "      <td>221</td>\n",
       "      <td>1.125118</td>\n",
       "    </tr>\n",
       "    <tr>\n",
       "      <th>4</th>\n",
       "      <td>1003524</td>\n",
       "      <td>1002801</td>\n",
       "      <td>1.731707</td>\n",
       "      <td>1572480000</td>\n",
       "      <td>goldenresidency</td>\n",
       "      <td>travel</td>\n",
       "      <td>1273</td>\n",
       "      <td>817</td>\n",
       "      <td>1.189989</td>\n",
       "    </tr>\n",
       "  </tbody>\n",
       "</table>\n",
       "</div>"
      ],
      "text/plain": [
       "   customer_id  merchant_id    rating  ...  userId merchantId currrent_prediction\n",
       "0      1004455      1000117  1.000000  ...    3149        977            0.984118\n",
       "1      1000734      1008131  1.121951  ...    5495       2706            1.007609\n",
       "2      1000300      1008252  1.000000  ...    5673       1713            1.102690\n",
       "3      1000315      1000876  1.000000  ...     372        221            1.125118\n",
       "4      1003524      1002801  1.731707  ...    1273        817            1.189989\n",
       "\n",
       "[5 rows x 9 columns]"
      ]
     },
     "execution_count": 42,
     "metadata": {
      "tags": []
     },
     "output_type": "execute_result"
    }
   ],
   "source": [
    "data.head()"
   ]
  },
  {
   "cell_type": "code",
   "execution_count": 42,
   "metadata": {
    "colab": {},
    "colab_type": "code",
    "id": "eIqkNqn29hPh"
   },
   "outputs": [],
   "source": []
  },
  {
   "cell_type": "markdown",
   "metadata": {
    "colab_type": "text",
    "id": "5Qo83gAE-nGD"
   },
   "source": [
    "### Framing Meta info for User, merchant-category"
   ]
  },
  {
   "cell_type": "code",
   "execution_count": 43,
   "metadata": {
    "colab": {
     "base_uri": "https://localhost:8080/",
     "height": 35
    },
    "colab_type": "code",
    "id": "6K-nDhK8-4VP",
    "outputId": "63139408-426d-4ac5-8c10-7cc1d1d214be"
   },
   "outputs": [
    {
     "data": {
      "text/plain": [
       "array([3148, 5494, 5672])"
      ]
     },
     "execution_count": 43,
     "metadata": {
      "tags": []
     },
     "output_type": "execute_result"
    }
   ],
   "source": [
    "all_users[0:3]"
   ]
  },
  {
   "cell_type": "code",
   "execution_count": 44,
   "metadata": {
    "colab": {},
    "colab_type": "code",
    "id": "G_9qfT0V-r12"
   },
   "outputs": [],
   "source": [
    "## Needed\n",
    "all_unique_users = np.unique(all_users)"
   ]
  },
  {
   "cell_type": "code",
   "execution_count": 45,
   "metadata": {
    "colab": {
     "base_uri": "https://localhost:8080/",
     "height": 35
    },
    "colab_type": "code",
    "id": "Bu4dRWWT_ACR",
    "outputId": "4a3c4f89-3095-4915-e2d2-da9d417d72d5"
   },
   "outputs": [
    {
     "data": {
      "text/plain": [
       "(8699,)"
      ]
     },
     "execution_count": 45,
     "metadata": {
      "tags": []
     },
     "output_type": "execute_result"
    }
   ],
   "source": [
    "all_unique_users.shape"
   ]
  },
  {
   "cell_type": "code",
   "execution_count": 46,
   "metadata": {
    "colab": {
     "base_uri": "https://localhost:8080/",
     "height": 35
    },
    "colab_type": "code",
    "id": "pO28OKO0_G1u",
    "outputId": "7cf6f602-1a4d-4449-f0d7-07a5c0b5a622"
   },
   "outputs": [
    {
     "data": {
      "text/plain": [
       "(403046,)"
      ]
     },
     "execution_count": 46,
     "metadata": {
      "tags": []
     },
     "output_type": "execute_result"
    }
   ],
   "source": [
    "all_category.shape"
   ]
  },
  {
   "cell_type": "code",
   "execution_count": 47,
   "metadata": {
    "colab": {
     "base_uri": "https://localhost:8080/",
     "height": 35
    },
    "colab_type": "code",
    "id": "9nYFAHog_LCE",
    "outputId": "b6356ec2-27a8-4812-fc9e-11649c79bec5"
   },
   "outputs": [
    {
     "data": {
      "text/plain": [
       "(403046,)"
      ]
     },
     "execution_count": 47,
     "metadata": {
      "tags": []
     },
     "output_type": "execute_result"
    }
   ],
   "source": [
    "all_merchants.shape"
   ]
  },
  {
   "cell_type": "code",
   "execution_count": 48,
   "metadata": {
    "colab": {},
    "colab_type": "code",
    "id": "IYGT9sTC_lr_"
   },
   "outputs": [],
   "source": [
    "all_merchant_category = np.zeros(shape=(all_merchants.shape[0], 2))"
   ]
  },
  {
   "cell_type": "code",
   "execution_count": 49,
   "metadata": {
    "colab": {},
    "colab_type": "code",
    "id": "bRDgni4i_yYf"
   },
   "outputs": [],
   "source": [
    "all_merchant_category[:,0] = all_merchants\n",
    "all_merchant_category[:,1] = all_category"
   ]
  },
  {
   "cell_type": "code",
   "execution_count": 50,
   "metadata": {
    "colab": {},
    "colab_type": "code",
    "id": "XDlt0Yjl_5WE"
   },
   "outputs": [],
   "source": [
    "all_merchant_category_df = pd.DataFrame(all_merchant_category)"
   ]
  },
  {
   "cell_type": "code",
   "execution_count": 51,
   "metadata": {
    "colab": {},
    "colab_type": "code",
    "id": "2g5ivZz4AXIw"
   },
   "outputs": [],
   "source": [
    "all_merchant_category_uniq = all_merchant_category_df.drop_duplicates()"
   ]
  },
  {
   "cell_type": "code",
   "execution_count": 52,
   "metadata": {
    "colab": {},
    "colab_type": "code",
    "id": "VG00vrcGAc7Z"
   },
   "outputs": [],
   "source": [
    "## \n",
    "all_merchant_category_uniq = all_merchant_category_uniq.to_numpy()"
   ]
  },
  {
   "cell_type": "code",
   "execution_count": 53,
   "metadata": {
    "colab": {
     "base_uri": "https://localhost:8080/",
     "height": 35
    },
    "colab_type": "code",
    "id": "x1AHCcnyAoCR",
    "outputId": "1160bc9a-9627-42a5-cec0-5ffcb97bb602"
   },
   "outputs": [
    {
     "data": {
      "text/plain": [
       "(8540, 2)"
      ]
     },
     "execution_count": 53,
     "metadata": {
      "tags": []
     },
     "output_type": "execute_result"
    }
   ],
   "source": [
    "all_merchant_category_uniq.shape"
   ]
  },
  {
   "cell_type": "code",
   "execution_count": 54,
   "metadata": {
    "colab": {
     "base_uri": "https://localhost:8080/",
     "height": 70
    },
    "colab_type": "code",
    "id": "zqmxjJJ0AhcN",
    "outputId": "27c1d67a-c8d2-4e6c-84eb-057df614aa15"
   },
   "outputs": [
    {
     "data": {
      "text/plain": [
       "array([[9.760e+02, 1.000e+00],\n",
       "       [2.705e+03, 5.000e+00],\n",
       "       [1.712e+03, 0.000e+00]])"
      ]
     },
     "execution_count": 54,
     "metadata": {
      "tags": []
     },
     "output_type": "execute_result"
    }
   ],
   "source": [
    "all_merchant_category_uniq[:3]"
   ]
  },
  {
   "cell_type": "markdown",
   "metadata": {
    "colab_type": "text",
    "id": "xQ1eltZ3-TBM"
   },
   "source": [
    "### Infernce for particular user"
   ]
  },
  {
   "cell_type": "code",
   "execution_count": 55,
   "metadata": {
    "colab": {
     "base_uri": "https://localhost:8080/",
     "height": 141
    },
    "colab_type": "code",
    "id": "55k1ji4LC7RF",
    "outputId": "95a90cb6-40bf-4023-d0e2-34a92677ffca"
   },
   "outputs": [
    {
     "data": {
      "text/plain": [
       "{'apparel and accessories': 0,\n",
       " 'dining': 1,\n",
       " 'entertainment': 2,\n",
       " 'miscellaneous stores': 3,\n",
       " 'personal service providers': 4,\n",
       " 'retail stores': 5,\n",
       " 'travel': 6}"
      ]
     },
     "execution_count": 55,
     "metadata": {
      "tags": []
     },
     "output_type": "execute_result"
    }
   ],
   "source": [
    "label_idxs"
   ]
  },
  {
   "cell_type": "code",
   "execution_count": 56,
   "metadata": {
    "colab": {},
    "colab_type": "code",
    "id": "-s0IlsumRofB"
   },
   "outputs": [],
   "source": [
    "category_dict = { v:k for k,v in label_idxs.items()}"
   ]
  },
  {
   "cell_type": "code",
   "execution_count": 57,
   "metadata": {
    "colab": {
     "base_uri": "https://localhost:8080/",
     "height": 141
    },
    "colab_type": "code",
    "id": "CBekHmehSXPb",
    "outputId": "907bfa6c-ccf9-446a-e5a4-f0a5e25d22c5"
   },
   "outputs": [
    {
     "data": {
      "text/plain": [
       "{0: 'apparel and accessories',\n",
       " 1: 'dining',\n",
       " 2: 'entertainment',\n",
       " 3: 'miscellaneous stores',\n",
       " 4: 'personal service providers',\n",
       " 5: 'retail stores',\n",
       " 6: 'travel'}"
      ]
     },
     "execution_count": 57,
     "metadata": {
      "tags": []
     },
     "output_type": "execute_result"
    }
   ],
   "source": [
    "category_dict"
   ]
  },
  {
   "cell_type": "code",
   "execution_count": 58,
   "metadata": {
    "colab": {
     "base_uri": "https://localhost:8080/",
     "height": 52
    },
    "colab_type": "code",
    "id": "dySP2ZRXCrma",
    "outputId": "77a436a6-1e1d-4672-e819-54ac60c33297"
   },
   "outputs": [
    {
     "name": "stdout",
     "output_type": "stream",
     "text": [
      "(303046,)\n",
      "(8540,)\n"
     ]
    }
   ],
   "source": [
    "userId = 438\n",
    "user_feature_over_all_merchants = np.repeat(userId, all_merchant_category_uniq.shape[0])\n",
    "# user_feature_over_all_merchants.shape\n",
    "print(train_merchants.shape)\n",
    "print(all_merchant_category_uniq[:,0].shape)"
   ]
  },
  {
   "cell_type": "code",
   "execution_count": 59,
   "metadata": {
    "colab": {},
    "colab_type": "code",
    "id": "FZxTi4awDfEc"
   },
   "outputs": [],
   "source": [
    "user_feature_over_all_merchants = np.repeat(userId, all_merchant_category_uniq.shape[0])\n",
    "custom_inputs = mx.io.NDArrayIter({'user': user_feature_over_all_merchants, \n",
    "                                   'merchant': all_merchant_category_uniq[:,0], \n",
    "                                   'merchant_category': all_merchant_category_uniq[:,1]},\n",
    "                                  batch_size=batch_size)\n",
    "pred_ratings = model.predict(custom_inputs)"
   ]
  },
  {
   "cell_type": "code",
   "execution_count": 60,
   "metadata": {
    "colab": {
     "base_uri": "https://localhost:8080/",
     "height": 35
    },
    "colab_type": "code",
    "id": "h4wfqXu9HhTM",
    "outputId": "6ae14e1b-56f0-4853-e301-07c980f3d629"
   },
   "outputs": [
    {
     "data": {
      "text/plain": [
       "(8540, 1)"
      ]
     },
     "execution_count": 60,
     "metadata": {
      "tags": []
     },
     "output_type": "execute_result"
    }
   ],
   "source": [
    "pred_ratings.shape"
   ]
  },
  {
   "cell_type": "code",
   "execution_count": 61,
   "metadata": {
    "colab": {
     "base_uri": "https://localhost:8080/",
     "height": 106
    },
    "colab_type": "code",
    "id": "Gwp1dRu6HjFH",
    "outputId": "6d90bafd-ed00-4668-b527-c470436ea929"
   },
   "outputs": [
    {
     "data": {
      "text/plain": [
       "\n",
       "[[1.0000185]\n",
       " [1.0103716]\n",
       " [1.0417438]]\n",
       "<NDArray 3x1 @cpu(0)>"
      ]
     },
     "execution_count": 61,
     "metadata": {
      "tags": []
     },
     "output_type": "execute_result"
    }
   ],
   "source": [
    "pred_ratings[:3]"
   ]
  },
  {
   "cell_type": "code",
   "execution_count": 62,
   "metadata": {
    "colab": {
     "base_uri": "https://localhost:8080/",
     "height": 70
    },
    "colab_type": "code",
    "id": "QUaKmNZqDju0",
    "outputId": "8d351428-00ad-4b5d-96fc-1f39207c5f2d"
   },
   "outputs": [
    {
     "data": {
      "text/plain": [
       "\n",
       "[0.64898354 0.8360821  0.85701203 ... 1.1528662  1.1731972  1.201996  ]\n",
       "<NDArray 8540 @cpu(0)>"
      ]
     },
     "execution_count": 62,
     "metadata": {
      "tags": []
     },
     "output_type": "execute_result"
    }
   ],
   "source": [
    "pred_ratings.squeeze().sort()"
   ]
  },
  {
   "cell_type": "code",
   "execution_count": 63,
   "metadata": {
    "colab": {
     "base_uri": "https://localhost:8080/",
     "height": 70
    },
    "colab_type": "code",
    "id": "iTCeH65fHqJ-",
    "outputId": "b911afb3-1f51-40e7-c971-58d0cbfd2f40"
   },
   "outputs": [
    {
     "data": {
      "text/plain": [
       "\n",
       "[8508. 5767. 5704. ... 7933. 4259. 7695.]\n",
       "<NDArray 8540 @cpu(0)>"
      ]
     },
     "execution_count": 63,
     "metadata": {
      "tags": []
     },
     "output_type": "execute_result"
    }
   ],
   "source": [
    "pred_ratings.squeeze().argsort()"
   ]
  },
  {
   "cell_type": "code",
   "execution_count": 64,
   "metadata": {
    "colab": {},
    "colab_type": "code",
    "id": "c_Jb0ZpBHuw5"
   },
   "outputs": [],
   "source": [
    "# https://stackoverflow.com/questions/16486252/is-it-possible-to-use-argsort-in-descending-order"
   ]
  },
  {
   "cell_type": "code",
   "execution_count": 65,
   "metadata": {
    "colab": {},
    "colab_type": "code",
    "id": "dvb_uO-AH29Z"
   },
   "outputs": [],
   "source": [
    "topk = pred_ratings.squeeze().argsort()[::-1][:20]"
   ]
  },
  {
   "cell_type": "code",
   "execution_count": 66,
   "metadata": {
    "colab": {},
    "colab_type": "code",
    "id": "C1bsENENIOdD"
   },
   "outputs": [],
   "source": [
    "topk = topk.asnumpy()"
   ]
  },
  {
   "cell_type": "code",
   "execution_count": 67,
   "metadata": {
    "colab": {
     "base_uri": "https://localhost:8080/",
     "height": 70
    },
    "colab_type": "code",
    "id": "ysFB9MeCJ-uR",
    "outputId": "969c11bb-ce4b-4d90-84a3-52300d9aaf0c"
   },
   "outputs": [
    {
     "data": {
      "text/plain": [
       "array([7695., 4259., 7933., 7407., 7829., 8023., 6488., 4628., 8063.,\n",
       "       4873.,  803., 1183., 4842.,  108., 3654., 6319., 3538., 2307.,\n",
       "       6458., 4520.], dtype=float32)"
      ]
     },
     "execution_count": 67,
     "metadata": {
      "tags": []
     },
     "output_type": "execute_result"
    }
   ],
   "source": [
    "topk"
   ]
  },
  {
   "cell_type": "code",
   "execution_count": 68,
   "metadata": {
    "colab": {
     "base_uri": "https://localhost:8080/",
     "height": 35
    },
    "colab_type": "code",
    "id": "Cmeza2bxKUd4",
    "outputId": "f1afbd29-0bdf-4088-c4a3-cae7ec02b74d"
   },
   "outputs": [
    {
     "data": {
      "text/plain": [
       "numpy.ndarray"
      ]
     },
     "execution_count": 68,
     "metadata": {
      "tags": []
     },
     "output_type": "execute_result"
    }
   ],
   "source": [
    "type(all_merchant_category_uniq)"
   ]
  },
  {
   "cell_type": "code",
   "execution_count": 69,
   "metadata": {
    "colab": {
     "base_uri": "https://localhost:8080/",
     "height": 35
    },
    "colab_type": "code",
    "id": "uyJX9Zz3WpMS",
    "outputId": "3fe3c237-20a9-4fb4-bf2c-3239c828e1de"
   },
   "outputs": [
    {
     "data": {
      "text/plain": [
       "array([976.,   1.])"
      ]
     },
     "execution_count": 69,
     "metadata": {
      "tags": []
     },
     "output_type": "execute_result"
    }
   ],
   "source": [
    "all_merchant_category_uniq[0,:]"
   ]
  },
  {
   "cell_type": "code",
   "execution_count": 70,
   "metadata": {
    "colab": {},
    "colab_type": "code",
    "id": "y4bBFodkKVy2"
   },
   "outputs": [],
   "source": [
    "topk = [int(k) for k in topk]"
   ]
  },
  {
   "cell_type": "code",
   "execution_count": 71,
   "metadata": {
    "colab": {},
    "colab_type": "code",
    "id": "MvZqJdIqaAo7"
   },
   "outputs": [],
   "source": [
    "inv_label_idxs = { v:k for k,v in label_idxs.items()}"
   ]
  },
  {
   "cell_type": "code",
   "execution_count": 72,
   "metadata": {
    "colab": {
     "base_uri": "https://localhost:8080/",
     "height": 141
    },
    "colab_type": "code",
    "id": "TL4K_NfVaF8X",
    "outputId": "dcc929b1-91e3-4c9b-e851-895c3f362ba5"
   },
   "outputs": [
    {
     "data": {
      "text/plain": [
       "{0: 'apparel and accessories',\n",
       " 1: 'dining',\n",
       " 2: 'entertainment',\n",
       " 3: 'miscellaneous stores',\n",
       " 4: 'personal service providers',\n",
       " 5: 'retail stores',\n",
       " 6: 'travel'}"
      ]
     },
     "execution_count": 72,
     "metadata": {
      "tags": []
     },
     "output_type": "execute_result"
    }
   ],
   "source": [
    "inv_label_idxs"
   ]
  },
  {
   "cell_type": "code",
   "execution_count": 73,
   "metadata": {
    "colab": {
     "base_uri": "https://localhost:8080/",
     "height": 35
    },
    "colab_type": "code",
    "id": "fySvAr6xaGqu",
    "outputId": "34bab842-f4a0-4ce7-ee18-914b66202610"
   },
   "outputs": [
    {
     "data": {
      "text/plain": [
       "array([976.,   1.])"
      ]
     },
     "execution_count": 73,
     "metadata": {
      "tags": []
     },
     "output_type": "execute_result"
    }
   ],
   "source": [
    "all_merchant_category_uniq[0,:]"
   ]
  },
  {
   "cell_type": "code",
   "execution_count": 74,
   "metadata": {
    "colab": {
     "base_uri": "https://localhost:8080/",
     "height": 390
    },
    "colab_type": "code",
    "id": "xpN8vzetJwOP",
    "outputId": "d4d181b6-d669-43b2-99d3-002f49401b02"
   },
   "outputs": [
    {
     "name": "stdout",
     "output_type": "stream",
     "text": [
      "merchantid - categoryid - category \n",
      "7111 - 0 - apparel and accessories \n",
      "7207 - 3 - miscellaneous stores \n",
      "7018 - 1 - dining \n",
      "3226 - 6 - travel \n",
      "5254 - 6 - travel \n",
      "5788 - 1 - dining \n",
      "3593 - 1 - dining \n",
      "2805 - 6 - travel \n",
      "7399 - 1 - dining \n",
      "7022 - 1 - dining \n",
      "4033 - 1 - dining \n",
      "7342 - 1 - dining \n",
      "6379 - 5 - retail stores \n",
      "1137 - 5 - retail stores \n",
      "2092 - 5 - retail stores \n",
      "5650 - 1 - dining \n",
      "4377 - 5 - retail stores \n",
      "6928 - 5 - retail stores \n",
      "5872 - 1 - dining \n",
      "6997 - 1 - dining \n"
     ]
    }
   ],
   "source": [
    "print(f\"merchantid - categoryid - category \")\n",
    "for k in topk:\n",
    "  merchantid, categoryid = all_merchant_category_uniq[k, :]\n",
    "  merchantid = int(merchantid)\n",
    "  categoryid = int(categoryid)\n",
    "  category = inv_label_idxs[categoryid]\n",
    "  print(f\"{merchantid} - {categoryid} - {category} \")\n"
   ]
  },
  {
   "cell_type": "code",
   "execution_count": 74,
   "metadata": {
    "colab": {},
    "colab_type": "code",
    "id": "ZH1NrvSoaoyv"
   },
   "outputs": [],
   "source": []
  },
  {
   "cell_type": "code",
   "execution_count": 75,
   "metadata": {
    "colab": {},
    "colab_type": "code",
    "id": "PY2pcEj88Puq"
   },
   "outputs": [],
   "source": [
    "def find_rating_for_user(userId, topk=20):\n",
    "\n",
    "  merchants = list() \n",
    "\n",
    "  if userId in all_unique_users:\n",
    "    # valid user\n",
    "    user_feature_over_all_merchants = np.repeat(userId, all_merchant_category_uniq.shape[0])\n",
    "    custom_inputs = mx.io.NDArrayIter({'user': user_feature_over_all_merchants, \n",
    "                                       'merchant': all_merchant_category_uniq[:,0], \n",
    "                                       'merchant_category': all_merchant_category_uniq[:,1]},\n",
    "                                      batch_size=batch_size)\n",
    "    pred_ratings = model.predict(custom_inputs)\n",
    "    topk_inds = pred_ratings.squeeze().argsort()[::-1][:topk]\n",
    "    topk_scores = pred_ratings.squeeze().sort()[::-1][:topk]\n",
    "    topk_scores = topk_scores.asnumpy()\n",
    "    topk_inds = topk_inds.asnumpy()\n",
    "    topk_inds = [int(k) for k in topk_inds]\n",
    "\n",
    "\n",
    "    # print(topk_scores)\n",
    "\n",
    "    for idx, k in enumerate(topk_inds):\n",
    "        merchantid, categoryid = all_merchant_category_uniq[k, :]\n",
    "        merchantid = int(merchantid)\n",
    "        categoryid = int(categoryid)\n",
    "        category = inv_label_idxs[categoryid]\n",
    "        score = topk_scores[idx]\n",
    "        # print(f\"{merchantid} - {categoryid} - {category} \")\n",
    "\n",
    "        merchants.append(tuple([merchantid, categoryid, category, score]))\n",
    "  else:\n",
    "    # Invalid user\n",
    "    print('Invalid User')\n",
    "    pass\n",
    "  return merchants"
   ]
  },
  {
   "cell_type": "code",
   "execution_count": 76,
   "metadata": {
    "colab": {
     "base_uri": "https://localhost:8080/",
     "height": 284
    },
    "colab_type": "code",
    "id": "F2vbbw0DLJuW",
    "outputId": "acf574ba-455d-43fe-c805-295347058e8b"
   },
   "outputs": [
    {
     "data": {
      "text/plain": [
       "[(7111, 0, 'apparel and accessories', 1.201996),\n",
       " (7207, 3, 'miscellaneous stores', 1.1731972),\n",
       " (7018, 1, 'dining', 1.1528662),\n",
       " (3226, 6, 'travel', 1.151754),\n",
       " (5254, 6, 'travel', 1.1512554),\n",
       " (5788, 1, 'dining', 1.148249),\n",
       " (3593, 1, 'dining', 1.1466895),\n",
       " (2805, 6, 'travel', 1.1439562),\n",
       " (7399, 1, 'dining', 1.1428219),\n",
       " (7022, 1, 'dining', 1.1422136),\n",
       " (4033, 1, 'dining', 1.1421463),\n",
       " (7342, 1, 'dining', 1.1408467),\n",
       " (6379, 5, 'retail stores', 1.1386882),\n",
       " (1137, 5, 'retail stores', 1.1363976),\n",
       " (2092, 5, 'retail stores', 1.1327119)]"
      ]
     },
     "execution_count": 76,
     "metadata": {
      "tags": []
     },
     "output_type": "execute_result"
    }
   ],
   "source": [
    "find_rating_for_user(438, topk=15)"
   ]
  },
  {
   "cell_type": "code",
   "execution_count": 76,
   "metadata": {
    "colab": {},
    "colab_type": "code",
    "id": "2VEVMP4RErln"
   },
   "outputs": [],
   "source": []
  },
  {
   "cell_type": "markdown",
   "metadata": {
    "colab_type": "text",
    "id": "N_DYzLK7Er6D"
   },
   "source": [
    "### Inference for particular Merchant"
   ]
  },
  {
   "cell_type": "code",
   "execution_count": 77,
   "metadata": {
    "colab": {},
    "colab_type": "code",
    "id": "iqWzp8kjczC3"
   },
   "outputs": [],
   "source": [
    "query_merchant_id = 4881"
   ]
  },
  {
   "cell_type": "code",
   "execution_count": 78,
   "metadata": {
    "colab": {
     "base_uri": "https://localhost:8080/",
     "height": 35
    },
    "colab_type": "code",
    "id": "cNFzdPXXc6bo",
    "outputId": "fef0cc3c-471e-48a5-e40f-f94912c40b14"
   },
   "outputs": [
    {
     "data": {
      "text/plain": [
       "True"
      ]
     },
     "execution_count": 78,
     "metadata": {
      "tags": []
     },
     "output_type": "execute_result"
    }
   ],
   "source": [
    "query_merchant_id in all_merchant_category_uniq[:,0]"
   ]
  },
  {
   "cell_type": "code",
   "execution_count": 79,
   "metadata": {
    "colab": {
     "base_uri": "https://localhost:8080/",
     "height": 35
    },
    "colab_type": "code",
    "id": "GtRzLGCveYr3",
    "outputId": "f3d8135c-fecd-495b-cb5d-bf5c5a268e2c"
   },
   "outputs": [
    {
     "data": {
      "text/plain": [
       "(array([6267]),)"
      ]
     },
     "execution_count": 79,
     "metadata": {
      "tags": []
     },
     "output_type": "execute_result"
    }
   ],
   "source": [
    "np.where(all_merchant_category_uniq[:,0] ==  query_merchant_id)"
   ]
  },
  {
   "cell_type": "code",
   "execution_count": 80,
   "metadata": {
    "colab": {},
    "colab_type": "code",
    "id": "4Qdbu6X3c-oz"
   },
   "outputs": [],
   "source": [
    "current_merchant_index = np.where(all_merchant_category_uniq[:,0] ==  query_merchant_id)"
   ]
  },
  {
   "cell_type": "code",
   "execution_count": 81,
   "metadata": {
    "colab": {
     "base_uri": "https://localhost:8080/",
     "height": 35
    },
    "colab_type": "code",
    "id": "8tHKZxebeboN",
    "outputId": "46fd0bf6-760d-4d70-9b5e-75a6b375a0b1"
   },
   "outputs": [
    {
     "data": {
      "text/plain": [
       "array([[4881.]])"
      ]
     },
     "execution_count": 81,
     "metadata": {
      "tags": []
     },
     "output_type": "execute_result"
    }
   ],
   "source": [
    "all_merchant_category_uniq[current_merchant_index, 0]"
   ]
  },
  {
   "cell_type": "code",
   "execution_count": 82,
   "metadata": {
    "colab": {},
    "colab_type": "code",
    "id": "qUUtMxWSeirn"
   },
   "outputs": [],
   "source": [
    "current_merchant_categories = all_merchant_category_uniq[current_merchant_index, 1]"
   ]
  },
  {
   "cell_type": "code",
   "execution_count": 84,
   "metadata": {
    "colab": {},
    "colab_type": "code",
    "id": "zq92PlFxfSB2"
   },
   "outputs": [],
   "source": [
    "# current_merchant_categories[0, 0 ]\n",
    "#for k in current_merchant_categories:"
   ]
  },
  {
   "cell_type": "code",
   "execution_count": 85,
   "metadata": {
    "colab": {},
    "colab_type": "code",
    "id": "pDtfh2wAfb6l"
   },
   "outputs": [],
   "source": [
    "if current_merchant_categories.shape[0] == 1:\n",
    "  current_merchant_categories_rep = np.repeat(current_merchant_categories[0, 0], all_unique_users.shape[0])"
   ]
  },
  {
   "cell_type": "code",
   "execution_count": 86,
   "metadata": {
    "colab": {},
    "colab_type": "code",
    "id": "kOkwAnM5ey32"
   },
   "outputs": [],
   "source": [
    "custom_inputs = mx.io.NDArrayIter({'user': all_unique_users,\n",
    "                                   'merchant': all_merchant_category_uniq[current_merchant_index,0], \n",
    "                                   'merchant_category': all_merchant_category_uniq[current_merchant_index,1]},\n",
    "                                  batch_size=batch_size)"
   ]
  },
  {
   "cell_type": "code",
   "execution_count": 87,
   "metadata": {
    "colab": {
     "base_uri": "https://localhost:8080/",
     "height": 315
    },
    "colab_type": "code",
    "id": "QnXNSAiKe7ma",
    "outputId": "d9a3d0f2-2deb-48dd-b143-4e088381e788"
   },
   "outputs": [
    {
     "ename": "IndexError",
     "evalue": "ignored",
     "output_type": "error",
     "traceback": [
      "\u001b[0;31m---------------------------------------------------------------------------\u001b[0m",
      "\u001b[0;31mIndexError\u001b[0m                                Traceback (most recent call last)",
      "\u001b[0;32m<ipython-input-87-cfb6a75bc2b8>\u001b[0m in \u001b[0;36m<module>\u001b[0;34m()\u001b[0m\n\u001b[0;32m----> 1\u001b[0;31m \u001b[0mpred_ratings\u001b[0m \u001b[0;34m=\u001b[0m \u001b[0mmodel\u001b[0m\u001b[0;34m.\u001b[0m\u001b[0mpredict\u001b[0m\u001b[0;34m(\u001b[0m\u001b[0mcustom_inputs\u001b[0m\u001b[0;34m)\u001b[0m\u001b[0;34m\u001b[0m\u001b[0;34m\u001b[0m\u001b[0m\n\u001b[0m",
      "\u001b[0;32m/usr/local/lib/python3.6/dist-packages/mxnet/module/base_module.py\u001b[0m in \u001b[0;36mpredict\u001b[0;34m(self, eval_data, num_batch, merge_batches, reset, always_output_list, sparse_row_id_fn)\u001b[0m\n\u001b[1;32m    379\u001b[0m         \u001b[0moutput_list\u001b[0m \u001b[0;34m=\u001b[0m \u001b[0;34m[\u001b[0m\u001b[0;34m]\u001b[0m\u001b[0;34m\u001b[0m\u001b[0;34m\u001b[0m\u001b[0m\n\u001b[1;32m    380\u001b[0m \u001b[0;34m\u001b[0m\u001b[0m\n\u001b[0;32m--> 381\u001b[0;31m         \u001b[0;32mfor\u001b[0m \u001b[0mnbatch\u001b[0m\u001b[0;34m,\u001b[0m \u001b[0meval_batch\u001b[0m \u001b[0;32min\u001b[0m \u001b[0menumerate\u001b[0m\u001b[0;34m(\u001b[0m\u001b[0meval_data\u001b[0m\u001b[0;34m)\u001b[0m\u001b[0;34m:\u001b[0m\u001b[0;34m\u001b[0m\u001b[0;34m\u001b[0m\u001b[0m\n\u001b[0m\u001b[1;32m    382\u001b[0m             \u001b[0;32mif\u001b[0m \u001b[0mnum_batch\u001b[0m \u001b[0;32mis\u001b[0m \u001b[0;32mnot\u001b[0m \u001b[0;32mNone\u001b[0m \u001b[0;32mand\u001b[0m \u001b[0mnbatch\u001b[0m \u001b[0;34m==\u001b[0m \u001b[0mnum_batch\u001b[0m\u001b[0;34m:\u001b[0m\u001b[0;34m\u001b[0m\u001b[0;34m\u001b[0m\u001b[0m\n\u001b[1;32m    383\u001b[0m                 \u001b[0;32mbreak\u001b[0m\u001b[0;34m\u001b[0m\u001b[0;34m\u001b[0m\u001b[0m\n",
      "\u001b[0;32m/usr/local/lib/python3.6/dist-packages/mxnet/io/io.py\u001b[0m in \u001b[0;36m__next__\u001b[0;34m(self)\u001b[0m\n\u001b[1;32m    228\u001b[0m \u001b[0;34m\u001b[0m\u001b[0m\n\u001b[1;32m    229\u001b[0m     \u001b[0;32mdef\u001b[0m \u001b[0m__next__\u001b[0m\u001b[0;34m(\u001b[0m\u001b[0mself\u001b[0m\u001b[0;34m)\u001b[0m\u001b[0;34m:\u001b[0m\u001b[0;34m\u001b[0m\u001b[0;34m\u001b[0m\u001b[0m\n\u001b[0;32m--> 230\u001b[0;31m         \u001b[0;32mreturn\u001b[0m \u001b[0mself\u001b[0m\u001b[0;34m.\u001b[0m\u001b[0mnext\u001b[0m\u001b[0;34m(\u001b[0m\u001b[0;34m)\u001b[0m\u001b[0;34m\u001b[0m\u001b[0;34m\u001b[0m\u001b[0m\n\u001b[0m\u001b[1;32m    231\u001b[0m \u001b[0;34m\u001b[0m\u001b[0m\n\u001b[1;32m    232\u001b[0m     \u001b[0;32mdef\u001b[0m \u001b[0miter_next\u001b[0m\u001b[0;34m(\u001b[0m\u001b[0mself\u001b[0m\u001b[0;34m)\u001b[0m\u001b[0;34m:\u001b[0m\u001b[0;34m\u001b[0m\u001b[0;34m\u001b[0m\u001b[0m\n",
      "\u001b[0;32m/usr/local/lib/python3.6/dist-packages/mxnet/io/io.py\u001b[0m in \u001b[0;36mnext\u001b[0;34m(self)\u001b[0m\n\u001b[1;32m    680\u001b[0m         \u001b[0;32mif\u001b[0m \u001b[0;32mnot\u001b[0m \u001b[0mself\u001b[0m\u001b[0;34m.\u001b[0m\u001b[0miter_next\u001b[0m\u001b[0;34m(\u001b[0m\u001b[0;34m)\u001b[0m\u001b[0;34m:\u001b[0m\u001b[0;34m\u001b[0m\u001b[0;34m\u001b[0m\u001b[0m\n\u001b[1;32m    681\u001b[0m             \u001b[0;32mraise\u001b[0m \u001b[0mStopIteration\u001b[0m\u001b[0;34m\u001b[0m\u001b[0;34m\u001b[0m\u001b[0m\n\u001b[0;32m--> 682\u001b[0;31m         \u001b[0mdata\u001b[0m \u001b[0;34m=\u001b[0m \u001b[0mself\u001b[0m\u001b[0;34m.\u001b[0m\u001b[0mgetdata\u001b[0m\u001b[0;34m(\u001b[0m\u001b[0;34m)\u001b[0m\u001b[0;34m\u001b[0m\u001b[0;34m\u001b[0m\u001b[0m\n\u001b[0m\u001b[1;32m    683\u001b[0m         \u001b[0mlabel\u001b[0m \u001b[0;34m=\u001b[0m \u001b[0mself\u001b[0m\u001b[0;34m.\u001b[0m\u001b[0mgetlabel\u001b[0m\u001b[0;34m(\u001b[0m\u001b[0;34m)\u001b[0m\u001b[0;34m\u001b[0m\u001b[0;34m\u001b[0m\u001b[0m\n\u001b[1;32m    684\u001b[0m         \u001b[0;31m# iter should stop when last batch is not complete\u001b[0m\u001b[0;34m\u001b[0m\u001b[0;34m\u001b[0m\u001b[0;34m\u001b[0m\u001b[0m\n",
      "\u001b[0;32m/usr/local/lib/python3.6/dist-packages/mxnet/io/io.py\u001b[0m in \u001b[0;36mgetdata\u001b[0;34m(self)\u001b[0m\n\u001b[1;32m    762\u001b[0m     \u001b[0;32mdef\u001b[0m \u001b[0mgetdata\u001b[0m\u001b[0;34m(\u001b[0m\u001b[0mself\u001b[0m\u001b[0;34m)\u001b[0m\u001b[0;34m:\u001b[0m\u001b[0;34m\u001b[0m\u001b[0;34m\u001b[0m\u001b[0m\n\u001b[1;32m    763\u001b[0m         \u001b[0;34m\"\"\"Get data.\"\"\"\u001b[0m\u001b[0;34m\u001b[0m\u001b[0;34m\u001b[0m\u001b[0m\n\u001b[0;32m--> 764\u001b[0;31m         \u001b[0;32mreturn\u001b[0m \u001b[0mself\u001b[0m\u001b[0;34m.\u001b[0m\u001b[0m_batchify\u001b[0m\u001b[0;34m(\u001b[0m\u001b[0mself\u001b[0m\u001b[0;34m.\u001b[0m\u001b[0mdata\u001b[0m\u001b[0;34m)\u001b[0m\u001b[0;34m\u001b[0m\u001b[0;34m\u001b[0m\u001b[0m\n\u001b[0m\u001b[1;32m    765\u001b[0m \u001b[0;34m\u001b[0m\u001b[0m\n\u001b[1;32m    766\u001b[0m     \u001b[0;32mdef\u001b[0m \u001b[0mgetlabel\u001b[0m\u001b[0;34m(\u001b[0m\u001b[0mself\u001b[0m\u001b[0;34m)\u001b[0m\u001b[0;34m:\u001b[0m\u001b[0;34m\u001b[0m\u001b[0;34m\u001b[0m\u001b[0m\n",
      "\u001b[0;32m/usr/local/lib/python3.6/dist-packages/mxnet/io/io.py\u001b[0m in \u001b[0;36m_batchify\u001b[0;34m(self, data_source)\u001b[0m\n\u001b[1;32m    749\u001b[0m             \u001b[0mpad\u001b[0m \u001b[0;34m=\u001b[0m \u001b[0mself\u001b[0m\u001b[0;34m.\u001b[0m\u001b[0mbatch_size\u001b[0m \u001b[0;34m-\u001b[0m \u001b[0mself\u001b[0m\u001b[0;34m.\u001b[0m\u001b[0mnum_data\u001b[0m \u001b[0;34m+\u001b[0m \u001b[0mself\u001b[0m\u001b[0;34m.\u001b[0m\u001b[0mcursor\u001b[0m\u001b[0;34m\u001b[0m\u001b[0;34m\u001b[0m\u001b[0m\n\u001b[1;32m    750\u001b[0m             \u001b[0mfirst_data\u001b[0m \u001b[0;34m=\u001b[0m \u001b[0mself\u001b[0m\u001b[0;34m.\u001b[0m\u001b[0m_getdata\u001b[0m\u001b[0;34m(\u001b[0m\u001b[0mdata_source\u001b[0m\u001b[0;34m,\u001b[0m \u001b[0mstart\u001b[0m\u001b[0;34m=\u001b[0m\u001b[0mself\u001b[0m\u001b[0;34m.\u001b[0m\u001b[0mcursor\u001b[0m\u001b[0;34m)\u001b[0m\u001b[0;34m\u001b[0m\u001b[0;34m\u001b[0m\u001b[0m\n\u001b[0;32m--> 751\u001b[0;31m             \u001b[0msecond_data\u001b[0m \u001b[0;34m=\u001b[0m \u001b[0mself\u001b[0m\u001b[0;34m.\u001b[0m\u001b[0m_getdata\u001b[0m\u001b[0;34m(\u001b[0m\u001b[0mdata_source\u001b[0m\u001b[0;34m,\u001b[0m \u001b[0mend\u001b[0m\u001b[0;34m=\u001b[0m\u001b[0mpad\u001b[0m\u001b[0;34m)\u001b[0m\u001b[0;34m\u001b[0m\u001b[0;34m\u001b[0m\u001b[0m\n\u001b[0m\u001b[1;32m    752\u001b[0m             \u001b[0;32mreturn\u001b[0m \u001b[0mself\u001b[0m\u001b[0;34m.\u001b[0m\u001b[0m_concat\u001b[0m\u001b[0;34m(\u001b[0m\u001b[0mfirst_data\u001b[0m\u001b[0;34m,\u001b[0m \u001b[0msecond_data\u001b[0m\u001b[0;34m)\u001b[0m\u001b[0;34m\u001b[0m\u001b[0;34m\u001b[0m\u001b[0m\n\u001b[1;32m    753\u001b[0m         \u001b[0;31m# normal case\u001b[0m\u001b[0;34m\u001b[0m\u001b[0;34m\u001b[0m\u001b[0;34m\u001b[0m\u001b[0m\n",
      "\u001b[0;32m/usr/local/lib/python3.6/dist-packages/mxnet/io/io.py\u001b[0m in \u001b[0;36m_getdata\u001b[0;34m(self, data_source, start, end)\u001b[0m\n\u001b[1;32m    705\u001b[0m                 \u001b[0mlist\u001b[0m\u001b[0;34m(\u001b[0m\u001b[0mself\u001b[0m\u001b[0;34m.\u001b[0m\u001b[0midx\u001b[0m\u001b[0;34m[\u001b[0m\u001b[0ms\u001b[0m\u001b[0;34m]\u001b[0m\u001b[0;34m)\u001b[0m\u001b[0;34m.\u001b[0m\u001b[0mindex\u001b[0m\u001b[0;34m(\u001b[0m\u001b[0mi\u001b[0m\u001b[0;34m)\u001b[0m\u001b[0;34m\u001b[0m\u001b[0;34m\u001b[0m\u001b[0m\n\u001b[1;32m    706\u001b[0m                 \u001b[0;32mfor\u001b[0m \u001b[0mi\u001b[0m \u001b[0;32min\u001b[0m \u001b[0msorted\u001b[0m\u001b[0;34m(\u001b[0m\u001b[0mself\u001b[0m\u001b[0;34m.\u001b[0m\u001b[0midx\u001b[0m\u001b[0;34m[\u001b[0m\u001b[0ms\u001b[0m\u001b[0;34m]\u001b[0m\u001b[0;34m)\u001b[0m\u001b[0;34m\u001b[0m\u001b[0;34m\u001b[0m\u001b[0m\n\u001b[0;32m--> 707\u001b[0;31m             ]]) for x in data_source\n\u001b[0m\u001b[1;32m    708\u001b[0m         ]\n\u001b[1;32m    709\u001b[0m \u001b[0;34m\u001b[0m\u001b[0m\n",
      "\u001b[0;32m/usr/local/lib/python3.6/dist-packages/mxnet/io/io.py\u001b[0m in \u001b[0;36m<listcomp>\u001b[0;34m(.0)\u001b[0m\n\u001b[1;32m    705\u001b[0m                 \u001b[0mlist\u001b[0m\u001b[0;34m(\u001b[0m\u001b[0mself\u001b[0m\u001b[0;34m.\u001b[0m\u001b[0midx\u001b[0m\u001b[0;34m[\u001b[0m\u001b[0ms\u001b[0m\u001b[0;34m]\u001b[0m\u001b[0;34m)\u001b[0m\u001b[0;34m.\u001b[0m\u001b[0mindex\u001b[0m\u001b[0;34m(\u001b[0m\u001b[0mi\u001b[0m\u001b[0;34m)\u001b[0m\u001b[0;34m\u001b[0m\u001b[0;34m\u001b[0m\u001b[0m\n\u001b[1;32m    706\u001b[0m                 \u001b[0;32mfor\u001b[0m \u001b[0mi\u001b[0m \u001b[0;32min\u001b[0m \u001b[0msorted\u001b[0m\u001b[0;34m(\u001b[0m\u001b[0mself\u001b[0m\u001b[0;34m.\u001b[0m\u001b[0midx\u001b[0m\u001b[0;34m[\u001b[0m\u001b[0ms\u001b[0m\u001b[0;34m]\u001b[0m\u001b[0;34m)\u001b[0m\u001b[0;34m\u001b[0m\u001b[0;34m\u001b[0m\u001b[0m\n\u001b[0;32m--> 707\u001b[0;31m             ]]) for x in data_source\n\u001b[0m\u001b[1;32m    708\u001b[0m         ]\n\u001b[1;32m    709\u001b[0m \u001b[0;34m\u001b[0m\u001b[0m\n",
      "\u001b[0;32m/usr/local/lib/python3.6/dist-packages/mxnet/ndarray/ndarray.py\u001b[0m in \u001b[0;36m__getitem__\u001b[0;34m(self, key)\u001b[0m\n\u001b[1;32m    703\u001b[0m             \u001b[0;32mif\u001b[0m \u001b[0;34m(\u001b[0m\u001b[0mkey\u001b[0m\u001b[0;34m.\u001b[0m\u001b[0mstep\u001b[0m \u001b[0;32mis\u001b[0m \u001b[0;32mNone\u001b[0m \u001b[0;32mor\u001b[0m \u001b[0mkey\u001b[0m\u001b[0;34m.\u001b[0m\u001b[0mstep\u001b[0m \u001b[0;34m==\u001b[0m \u001b[0;36m1\u001b[0m\u001b[0;34m)\u001b[0m\u001b[0;34m:\u001b[0m\u001b[0;34m\u001b[0m\u001b[0;34m\u001b[0m\u001b[0m\n\u001b[1;32m    704\u001b[0m                 \u001b[0;32mif\u001b[0m  \u001b[0mkey\u001b[0m\u001b[0;34m.\u001b[0m\u001b[0mstart\u001b[0m \u001b[0;32mis\u001b[0m \u001b[0;32mnot\u001b[0m \u001b[0;32mNone\u001b[0m \u001b[0;32mor\u001b[0m \u001b[0mkey\u001b[0m\u001b[0;34m.\u001b[0m\u001b[0mstop\u001b[0m \u001b[0;32mis\u001b[0m \u001b[0;32mnot\u001b[0m \u001b[0;32mNone\u001b[0m\u001b[0;34m:\u001b[0m\u001b[0;34m\u001b[0m\u001b[0;34m\u001b[0m\u001b[0m\n\u001b[0;32m--> 705\u001b[0;31m                     \u001b[0;32mreturn\u001b[0m \u001b[0mself\u001b[0m\u001b[0;34m.\u001b[0m\u001b[0m_slice\u001b[0m\u001b[0;34m(\u001b[0m\u001b[0mkey\u001b[0m\u001b[0;34m.\u001b[0m\u001b[0mstart\u001b[0m\u001b[0;34m,\u001b[0m \u001b[0mkey\u001b[0m\u001b[0;34m.\u001b[0m\u001b[0mstop\u001b[0m\u001b[0;34m)\u001b[0m\u001b[0;34m\u001b[0m\u001b[0;34m\u001b[0m\u001b[0m\n\u001b[0m\u001b[1;32m    706\u001b[0m                 \u001b[0;32melse\u001b[0m\u001b[0;34m:\u001b[0m\u001b[0;34m\u001b[0m\u001b[0;34m\u001b[0m\u001b[0m\n\u001b[1;32m    707\u001b[0m                     \u001b[0;32mreturn\u001b[0m \u001b[0mself\u001b[0m\u001b[0;34m\u001b[0m\u001b[0;34m\u001b[0m\u001b[0m\n",
      "\u001b[0;32m/usr/local/lib/python3.6/dist-packages/mxnet/ndarray/ndarray.py\u001b[0m in \u001b[0;36m_slice\u001b[0;34m(self, start, stop)\u001b[0m\n\u001b[1;32m   1339\u001b[0m         \"\"\"\n\u001b[1;32m   1340\u001b[0m         \u001b[0mhandle\u001b[0m \u001b[0;34m=\u001b[0m \u001b[0mNDArrayHandle\u001b[0m\u001b[0;34m(\u001b[0m\u001b[0;34m)\u001b[0m\u001b[0;34m\u001b[0m\u001b[0;34m\u001b[0m\u001b[0m\n\u001b[0;32m-> 1341\u001b[0;31m         \u001b[0mstart\u001b[0m\u001b[0;34m,\u001b[0m \u001b[0mstop\u001b[0m\u001b[0;34m,\u001b[0m \u001b[0m_\u001b[0m \u001b[0;34m=\u001b[0m \u001b[0m_get_index_range\u001b[0m\u001b[0;34m(\u001b[0m\u001b[0mstart\u001b[0m\u001b[0;34m,\u001b[0m \u001b[0mstop\u001b[0m\u001b[0;34m,\u001b[0m \u001b[0mself\u001b[0m\u001b[0;34m.\u001b[0m\u001b[0mshape\u001b[0m\u001b[0;34m[\u001b[0m\u001b[0;36m0\u001b[0m\u001b[0;34m]\u001b[0m\u001b[0;34m)\u001b[0m\u001b[0;34m\u001b[0m\u001b[0;34m\u001b[0m\u001b[0m\n\u001b[0m\u001b[1;32m   1342\u001b[0m \u001b[0;34m\u001b[0m\u001b[0m\n\u001b[1;32m   1343\u001b[0m         check_call(_LIB.MXNDArraySlice(\n",
      "\u001b[0;32m/usr/local/lib/python3.6/dist-packages/mxnet/ndarray/ndarray.py\u001b[0m in \u001b[0;36m_get_index_range\u001b[0;34m(start, stop, length, step)\u001b[0m\n\u001b[1;32m   3081\u001b[0m             \u001b[0;32mraise\u001b[0m \u001b[0mIndexError\u001b[0m\u001b[0;34m(\u001b[0m\u001b[0;34m'Slicing stop %d exceeds limit of %d'\u001b[0m \u001b[0;34m%\u001b[0m \u001b[0;34m(\u001b[0m\u001b[0mstop\u001b[0m\u001b[0;34m-\u001b[0m\u001b[0mlength\u001b[0m\u001b[0;34m,\u001b[0m \u001b[0mlength\u001b[0m\u001b[0;34m)\u001b[0m\u001b[0;34m)\u001b[0m\u001b[0;34m\u001b[0m\u001b[0;34m\u001b[0m\u001b[0m\n\u001b[1;32m   3082\u001b[0m     \u001b[0;32melif\u001b[0m \u001b[0mstop\u001b[0m \u001b[0;34m>\u001b[0m \u001b[0mlength\u001b[0m\u001b[0;34m:\u001b[0m\u001b[0;34m\u001b[0m\u001b[0;34m\u001b[0m\u001b[0m\n\u001b[0;32m-> 3083\u001b[0;31m         \u001b[0;32mraise\u001b[0m \u001b[0mIndexError\u001b[0m\u001b[0;34m(\u001b[0m\u001b[0;34m'Slicing stop %d exceeds limit of %d'\u001b[0m \u001b[0;34m%\u001b[0m \u001b[0;34m(\u001b[0m\u001b[0mstop\u001b[0m\u001b[0;34m,\u001b[0m \u001b[0mlength\u001b[0m\u001b[0;34m)\u001b[0m\u001b[0;34m)\u001b[0m\u001b[0;34m\u001b[0m\u001b[0;34m\u001b[0m\u001b[0m\n\u001b[0m\u001b[1;32m   3084\u001b[0m \u001b[0;34m\u001b[0m\u001b[0m\n\u001b[1;32m   3085\u001b[0m     \u001b[0;32mreturn\u001b[0m \u001b[0mstart\u001b[0m\u001b[0;34m,\u001b[0m \u001b[0mstop\u001b[0m\u001b[0;34m,\u001b[0m \u001b[0mstep\u001b[0m\u001b[0;34m\u001b[0m\u001b[0;34m\u001b[0m\u001b[0m\n",
      "\u001b[0;31mIndexError\u001b[0m: Slicing stop 2499 exceeds limit of 1"
     ]
    }
   ],
   "source": [
    "pred_ratings = model.predict(custom_inputs)"
   ]
  },
  {
   "cell_type": "code",
   "execution_count": 88,
   "metadata": {
    "colab": {
     "base_uri": "https://localhost:8080/",
     "height": 35
    },
    "colab_type": "code",
    "id": "uqMzR1bIe-ca",
    "outputId": "b9bacd41-4d2a-4964-acc9-be5f7836316e"
   },
   "outputs": [
    {
     "data": {
      "text/plain": [
       "8699"
      ]
     },
     "execution_count": 88,
     "metadata": {
      "tags": []
     },
     "output_type": "execute_result"
    }
   ],
   "source": [
    "all_unique_users.shape[0]"
   ]
  },
  {
   "cell_type": "code",
   "execution_count": 88,
   "metadata": {
    "colab": {},
    "colab_type": "code",
    "id": "MzuwfUTTiHx_"
   },
   "outputs": [],
   "source": []
  },
  {
   "cell_type": "code",
   "execution_count": 89,
   "metadata": {
    "colab": {
     "base_uri": "https://localhost:8080/",
     "height": 52
    },
    "colab_type": "code",
    "id": "hUmuxqbgiHvy",
    "outputId": "cd00d662-18ce-45b7-d9e2-08621ab32d97"
   },
   "outputs": [
    {
     "name": "stdout",
     "output_type": "stream",
     "text": [
      "[[5.]]\n",
      "(1, 1)\n"
     ]
    }
   ],
   "source": [
    "merchantId = 4881\n",
    "merchantId in all_merchant_category_uniq[:,0]\n",
    "current_merchant_index = np.where(all_merchant_category_uniq[:,0] == merchantId)\n",
    "current_merchant_categories = all_merchant_category_uniq[current_merchant_index, 1]\n",
    "print(current_merchant_categories)\n",
    "print(current_merchant_categories.shape)"
   ]
  },
  {
   "cell_type": "code",
   "execution_count": 90,
   "metadata": {
    "colab": {
     "base_uri": "https://localhost:8080/",
     "height": 35
    },
    "colab_type": "code",
    "id": "itPh4_uViHtL",
    "outputId": "7ef2ad21-6cb3-44ab-b73b-9ef2ecdee42e"
   },
   "outputs": [
    {
     "data": {
      "text/plain": [
       "(1, 1)"
      ]
     },
     "execution_count": 90,
     "metadata": {
      "tags": []
     },
     "output_type": "execute_result"
    }
   ],
   "source": [
    "current_merchant_categories.shape"
   ]
  },
  {
   "cell_type": "code",
   "execution_count": 91,
   "metadata": {
    "colab": {},
    "colab_type": "code",
    "id": "VNiSGxAijKi6"
   },
   "outputs": [],
   "source": [
    "all_input_categories = np.zeros(current_merchant_categories.shape[0] * all_unique_users.shape[0])\n",
    "all_input_merchants = np.repeat(merchantId, current_merchant_categories.shape[0] * all_unique_users.shape[0])\n"
   ]
  },
  {
   "cell_type": "code",
   "execution_count": 92,
   "metadata": {
    "colab": {},
    "colab_type": "code",
    "id": "kejGDSQCiHp4"
   },
   "outputs": [],
   "source": [
    "for idx, various_category in enumerate(current_merchant_categories[:]):\n",
    "      start = idx * all_unique_users.shape[0]\n",
    "      end = (idx + 1) * all_unique_users.shape[0]\n",
    "      all_input_categories[start:end] = various_category"
   ]
  },
  {
   "cell_type": "code",
   "execution_count": 93,
   "metadata": {
    "colab": {
     "base_uri": "https://localhost:8080/",
     "height": 35
    },
    "colab_type": "code",
    "id": "igj7n1SrjZwb",
    "outputId": "340ccc77-091c-4acd-ed3c-86a71755db43"
   },
   "outputs": [
    {
     "data": {
      "text/plain": [
       "(8699,)"
      ]
     },
     "execution_count": 93,
     "metadata": {
      "tags": []
     },
     "output_type": "execute_result"
    }
   ],
   "source": [
    "all_input_categories.shape"
   ]
  },
  {
   "cell_type": "code",
   "execution_count": 94,
   "metadata": {
    "colab": {
     "base_uri": "https://localhost:8080/",
     "height": 35
    },
    "colab_type": "code",
    "id": "AQ5kFRVwkyXV",
    "outputId": "6886b51c-407c-44fa-ecb5-d4808a347d95"
   },
   "outputs": [
    {
     "data": {
      "text/plain": [
       "26097"
      ]
     },
     "execution_count": 94,
     "metadata": {
      "tags": []
     },
     "output_type": "execute_result"
    }
   ],
   "source": [
    "all_unique_users.shape[0] * 3"
   ]
  },
  {
   "cell_type": "code",
   "execution_count": 95,
   "metadata": {
    "colab": {
     "base_uri": "https://localhost:8080/",
     "height": 35
    },
    "colab_type": "code",
    "id": "ZTtKQveIj7ad",
    "outputId": "ad207d37-1a0d-405d-a826-2a40942037ce"
   },
   "outputs": [
    {
     "data": {
      "text/plain": [
       "array([6, 7, 8, 9])"
      ]
     },
     "execution_count": 95,
     "metadata": {
      "tags": []
     },
     "output_type": "execute_result"
    }
   ],
   "source": [
    "all_unique_users[6:10]"
   ]
  },
  {
   "cell_type": "code",
   "execution_count": 96,
   "metadata": {
    "colab": {
     "base_uri": "https://localhost:8080/",
     "height": 35
    },
    "colab_type": "code",
    "id": "N0oQ_u6ugm2X",
    "outputId": "8be2a1df-417c-4dbd-8bc4-868aea670af4"
   },
   "outputs": [
    {
     "data": {
      "text/plain": [
       "4881"
      ]
     },
     "execution_count": 96,
     "metadata": {
      "tags": []
     },
     "output_type": "execute_result"
    }
   ],
   "source": [
    "merchantId"
   ]
  },
  {
   "cell_type": "code",
   "execution_count": 97,
   "metadata": {
    "colab": {},
    "colab_type": "code",
    "id": "TAzEHsLPdC4s"
   },
   "outputs": [],
   "source": [
    "#np.where?\n",
    "#np.where( #(all_merchant_category_uniq[:, 0], 4881))"
   ]
  },
  {
   "cell_type": "code",
   "execution_count": 110,
   "metadata": {
    "colab": {
     "base_uri": "https://localhost:8080/",
     "height": 195
    },
    "colab_type": "code",
    "id": "OPfXHSYwmcJd",
    "outputId": "2183e460-eb4a-4e64-d1c8-e0531b287843"
   },
   "outputs": [
    {
     "data": {
      "text/plain": [
       "[(1215, 5, 'retail stores', 1.978301),\n",
       " (3226, 5, 'retail stores', 1.9250828),\n",
       " (631, 5, 'retail stores', 1.9110672),\n",
       " (1214, 5, 'retail stores', 1.9055759),\n",
       " (632, 5, 'retail stores', 1.8987972),\n",
       " (1213, 5, 'retail stores', 1.8975078),\n",
       " (1218, 5, 'retail stores', 1.8842108),\n",
       " (635, 5, 'retail stores', 1.8430115),\n",
       " (3232, 5, 'retail stores', 1.8418028),\n",
       " (3225, 5, 'retail stores', 1.8414954)]"
      ]
     },
     "execution_count": 110,
     "metadata": {
      "tags": []
     },
     "output_type": "execute_result"
    }
   ],
   "source": [
    "find_rating_for_a_merchant(merchantId=4881, topk=10)"
   ]
  },
  {
   "cell_type": "code",
   "execution_count": 99,
   "metadata": {
    "colab": {},
    "colab_type": "code",
    "id": "SbGS04pzmeVn"
   },
   "outputs": [],
   "source": [
    "merchantId = 4881\n",
    "current_merchant_index = np.where(all_merchant_category_uniq[:,0] == merchantId)\n",
    "\n",
    "current_merchant_categories = all_merchant_category_uniq[current_merchant_index, 1]"
   ]
  },
  {
   "cell_type": "code",
   "execution_count": 100,
   "metadata": {
    "colab": {},
    "colab_type": "code",
    "id": "pv3x1Np3mrKg"
   },
   "outputs": [],
   "source": [
    "all_input_categories = np.zeros(current_merchant_categories.shape[0] * all_unique_users.shape[0])"
   ]
  },
  {
   "cell_type": "code",
   "execution_count": 101,
   "metadata": {
    "colab": {},
    "colab_type": "code",
    "id": "CerqlLI5mtar"
   },
   "outputs": [],
   "source": [
    "all_input_merchants = np.repeat(merchantId, current_merchant_categories.shape[0] * all_unique_users.shape[0])\n",
    "for idx, various_category in enumerate(current_merchant_categories[:]):\n",
    "  start = idx * all_unique_users.shape[0]\n",
    "  end = (idx + 1) * all_unique_users.shape[0]\n",
    "  all_input_categories[start:end] = various_category"
   ]
  },
  {
   "cell_type": "code",
   "execution_count": 102,
   "metadata": {
    "colab": {},
    "colab_type": "code",
    "id": "wszItQahmwan"
   },
   "outputs": [],
   "source": [
    "\n",
    "all_input_users =  np.hstack([all_unique_users] * 3)\n",
    "\n",
    "\n",
    "custom_inputs = mx.io.NDArrayIter({'user': all_input_users, \n",
    "                                    'merchant': all_input_merchants, \n",
    "                                    'merchant_category': all_input_categories},\n",
    "                                  batch_size=batch_size)\n",
    "pred_ratings = model.predict(custom_inputs)"
   ]
  },
  {
   "cell_type": "code",
   "execution_count": 102,
   "metadata": {
    "colab": {},
    "colab_type": "code",
    "id": "dFQUDqqxmcMs"
   },
   "outputs": [],
   "source": []
  },
  {
   "cell_type": "code",
   "execution_count": 103,
   "metadata": {
    "colab": {},
    "colab_type": "code",
    "id": "5-O7AcjAnHJP"
   },
   "outputs": [],
   "source": [
    "\n",
    "topk_inds = pred_ratings.squeeze().argsort()[::-1][:10].asnumpy()  # pred_ratings.squeeze().argsort()[::-1][:topk]\n",
    "topk_scores = pred_ratings.squeeze().sort()[::-1][:10].asnumpy()\n",
    "# topk_scores = topk_scores\n",
    "topk_inds = [int(k) for k in topk_inds]"
   ]
  },
  {
   "cell_type": "code",
   "execution_count": 104,
   "metadata": {
    "colab": {},
    "colab_type": "code",
    "id": "LR47L2Dtm6U5"
   },
   "outputs": [],
   "source": [
    "users = []\n",
    "\n",
    "for idx, k in enumerate(topk_inds):\n",
    "    userid  = all_input_users[k] \n",
    "    categoryid = all_input_categories[k]\n",
    "\n",
    "    userid = int(userid)\n",
    "    categoryid = int(categoryid)\n",
    "\n",
    "    category = inv_label_idxs[categoryid]\n",
    "    score = topk_scores[idx]        \n",
    "\n",
    "    users.append(tuple([userid, categoryid, category, score]))\n",
    "\n"
   ]
  },
  {
   "cell_type": "code",
   "execution_count": 105,
   "metadata": {
    "colab": {
     "base_uri": "https://localhost:8080/",
     "height": 195
    },
    "colab_type": "code",
    "id": "NrJrUn5ooK6N",
    "outputId": "5cb748da-9d25-4988-cc62-b02c4546fb6d"
   },
   "outputs": [
    {
     "data": {
      "text/plain": [
       "[(1215, 5, 'retail stores', 1.978301),\n",
       " (3226, 5, 'retail stores', 1.9250828),\n",
       " (631, 5, 'retail stores', 1.9110672),\n",
       " (1214, 5, 'retail stores', 1.9055759),\n",
       " (632, 5, 'retail stores', 1.8987972),\n",
       " (1213, 5, 'retail stores', 1.8975078),\n",
       " (1218, 5, 'retail stores', 1.8842108),\n",
       " (635, 5, 'retail stores', 1.8430115),\n",
       " (3232, 5, 'retail stores', 1.8418028),\n",
       " (3225, 5, 'retail stores', 1.8414954)]"
      ]
     },
     "execution_count": 105,
     "metadata": {
      "tags": []
     },
     "output_type": "execute_result"
    }
   ],
   "source": [
    "users"
   ]
  },
  {
   "cell_type": "code",
   "execution_count": null,
   "metadata": {
    "colab": {},
    "colab_type": "code",
    "id": "pSlgnEzdosIk"
   },
   "outputs": [],
   "source": []
  },
  {
   "cell_type": "markdown",
   "metadata": {
    "colab_type": "text",
    "id": "88w3tAmRoshn"
   },
   "source": [
    "### DOne!"
   ]
  },
  {
   "cell_type": "code",
   "execution_count": 108,
   "metadata": {
    "colab": {
     "base_uri": "https://localhost:8080/",
     "height": 55
    },
    "colab_type": "code",
    "id": "WWjXLxPMoMfn",
    "outputId": "5ca8ebef-d1e0-4dfd-9448-f03ddd89c373"
   },
   "outputs": [
    {
     "name": "stdout",
     "output_type": "stream",
     "text": [
      "[(1215, 5, 'retail stores', 1.978301), (3226, 5, 'retail stores', 1.9250828), (631, 5, 'retail stores', 1.9110672), (1214, 5, 'retail stores', 1.9055759), (632, 5, 'retail stores', 1.8987972)]\n"
     ]
    }
   ],
   "source": [
    "print(find_rating_for_a_merchant(4881, 5))\n",
    "# User id, Cateegory id, category Name, rating "
   ]
  },
  {
   "cell_type": "code",
   "execution_count": 107,
   "metadata": {
    "colab": {},
    "colab_type": "code",
    "id": "yMhlH_s-Euni"
   },
   "outputs": [],
   "source": [
    "def find_rating_for_a_merchant(merchantId, topk=10):\n",
    "  users = list()\n",
    "  if merchantId in all_merchant_category_uniq[:,0]:\n",
    "\n",
    "    current_merchant_index = np.where(all_merchant_category_uniq[:,0] == merchantId)\n",
    "\n",
    "    current_merchant_categories = all_merchant_category_uniq[current_merchant_index, 1]\n",
    "    \n",
    "\n",
    "    all_input_categories = np.zeros(current_merchant_categories.shape[0] * all_unique_users.shape[0])\n",
    "    all_input_merchants = np.repeat(merchantId, current_merchant_categories.shape[0] * all_unique_users.shape[0])\n",
    "    for idx, various_category in enumerate(current_merchant_categories[:]):\n",
    "      start = idx * all_unique_users.shape[0]\n",
    "      end = (idx + 1) * all_unique_users.shape[0]\n",
    "      all_input_categories[start:end] = various_category\n",
    "\n",
    "\n",
    "    \n",
    "    all_input_users =  np.hstack([all_unique_users] * 3)\n",
    "    \n",
    "    \n",
    "    custom_inputs = mx.io.NDArrayIter({'user': all_input_users, \n",
    "                                       'merchant': all_input_merchants, \n",
    "                                       'merchant_category': all_input_categories},\n",
    "                                      batch_size=batch_size)\n",
    "    pred_ratings = model.predict(custom_inputs)\n",
    "    \n",
    "    topk_inds = pred_ratings.squeeze().argsort()[::-1][:topk].asnumpy()\n",
    "    topk_scores = pred_ratings.squeeze().sort()[::-1][:topk].asnumpy()\n",
    "    # topk_scores = topk_scores.asnumpy()\n",
    "    topk_inds = [int(k) for k in topk_inds]\n",
    "\n",
    "    for idx, k in enumerate(topk_inds):\n",
    "        userid  = all_input_users[k] \n",
    "        categoryid = all_input_categories[k]\n",
    "\n",
    "        userid = int(userid)\n",
    "        categoryid = int(categoryid)\n",
    "\n",
    "        category = inv_label_idxs[categoryid]\n",
    "        score = topk_scores[idx]        \n",
    "\n",
    "        users.append(tuple([userid, categoryid, category, score]))\n",
    "  else:\n",
    "    # Invalid user\n",
    "    print('Invalid User')\n",
    "    pass\n",
    "  return users\n"
   ]
  },
  {
   "cell_type": "code",
   "execution_count": 109,
   "metadata": {
    "colab": {
     "base_uri": "https://localhost:8080/",
     "height": 55
    },
    "colab_type": "code",
    "id": "3QFflvrJoVXH",
    "outputId": "a3bce864-85f8-482b-84c8-de3d73c09c09"
   },
   "outputs": [
    {
     "name": "stdout",
     "output_type": "stream",
     "text": [
      "[(1215, 5, 'retail stores', 1.978301), (3226, 5, 'retail stores', 1.9250828), (631, 5, 'retail stores', 1.9110672), (1214, 5, 'retail stores', 1.9055759), (632, 5, 'retail stores', 1.8987972)]\n"
     ]
    }
   ],
   "source": [
    "print(find_rating_for_a_merchant(4881, 5))\n",
    "# User id, Cateegory id, category Name, rating "
   ]
  },
  {
   "cell_type": "code",
   "execution_count": null,
   "metadata": {
    "colab": {},
    "colab_type": "code",
    "id": "X3pmzHQAZ6s9"
   },
   "outputs": [],
   "source": []
  }
 ],
 "metadata": {
  "colab": {
   "collapsed_sections": [],
   "name": "Pred_Rec_DeepFMwithMerchantCategory_Transaction.ipynb",
   "provenance": []
  },
  "kernelspec": {
   "display_name": "Python 3",
   "language": "python",
   "name": "python3"
  },
  "language_info": {
   "codemirror_mode": {
    "name": "ipython",
    "version": 3
   },
   "file_extension": ".py",
   "mimetype": "text/x-python",
   "name": "python",
   "nbconvert_exporter": "python",
   "pygments_lexer": "ipython3",
   "version": "3.8.8"
  }
 },
 "nbformat": 4,
 "nbformat_minor": 4
}
