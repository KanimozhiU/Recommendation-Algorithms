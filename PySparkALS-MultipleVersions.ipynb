{
 "cells": [
  {
   "cell_type": "markdown",
   "metadata": {
    "id": "hBGIRmxgYKFn"
   },
   "source": [
    "## Importing and Installing Modules\n"
   ]
  },
  {
   "cell_type": "code",
   "execution_count": 1,
   "metadata": {
    "id": "TukZfMGPK9L0"
   },
   "outputs": [],
   "source": [
    "# Install jdk8\n",
    "!apt-get install openjdk-8-jdk-headless -qq > /dev/null\n",
    "# Set jdk environment path which enables you to run Pyspark in your Colab environment.\n",
    "import os\n",
    "os.environ[\"JAVA_HOME\"] = \"/usr/lib/jvm/java-8-openjdk-amd64\"\n",
    "!update-alternatives --set java /usr/lib/jvm/java-8-openjdk-amd64/jre/bin/java"
   ]
  },
  {
   "cell_type": "code",
   "execution_count": 2,
   "metadata": {
    "colab": {
     "base_uri": "https://localhost:8080/"
    },
    "id": "z4RwN_ksYIsu",
    "outputId": "d59bc373-3bbf-4cc6-8f20-277eccdc5be2"
   },
   "outputs": [
    {
     "name": "stdout",
     "output_type": "stream",
     "text": [
      "Requirement already satisfied: pyspark==2.3.0 in /usr/local/lib/python3.7/dist-packages (2.3.0)\n",
      "Requirement already satisfied: py4j==0.10.6 in /usr/local/lib/python3.7/dist-packages (from pyspark==2.3.0) (0.10.6)\n"
     ]
    }
   ],
   "source": [
    "!pip install pyspark==2.3.0"
   ]
  },
  {
   "cell_type": "code",
   "execution_count": 3,
   "metadata": {
    "id": "amFJWuZWX-Ds"
   },
   "outputs": [],
   "source": [
    "#import module\n",
    "from pyspark.ml.recommendation import ALS\n",
    "from pyspark.sql import SparkSession\n",
    "from pyspark import SparkContext\n",
    "from pyspark.sql.functions import col\n",
    "from pyspark.sql import SQLContext\n",
    "from pyspark.ml import Pipeline\n",
    "from pyspark.ml.feature import StringIndexer\n",
    "from pyspark.ml.evaluation import RegressionEvaluator\n",
    "from pyspark.sql.types import StructType, StructField, IntegerType\n",
    "import matplotlib.pyplot as plt\n",
    "%matplotlib inline\n",
    "import numpy as np\n",
    "import pandas as pd\n",
    "import seaborn as sns\n",
    "import matplotlib.pyplot as plt\n",
    "import json\n",
    "import gzip\n",
    "from copy import deepcopy\n",
    "import time\n",
    "from scipy.sparse.linalg import svds\n",
    "from sklearn.metrics import mean_absolute_error"
   ]
  },
  {
   "cell_type": "markdown",
   "metadata": {
    "id": "spmz5M8vYYaX"
   },
   "source": [
    "## Datasets\n",
    "Amazon Grocery Data"
   ]
  },
  {
   "cell_type": "code",
   "execution_count": 4,
   "metadata": {
    "colab": {
     "base_uri": "https://localhost:8080/"
    },
    "id": "ISbHyMEGM93f",
    "outputId": "12032989-ff7f-42df-c6fa-5a0351b83620"
   },
   "outputs": [
    {
     "name": "stdout",
     "output_type": "stream",
     "text": [
      "Drive already mounted at /content/drive; to attempt to forcibly remount, call drive.mount(\"/content/drive\", force_remount=True).\n"
     ]
    }
   ],
   "source": [
    "from google.colab import drive\n",
    "drive.mount('/content/drive')"
   ]
  },
  {
   "cell_type": "code",
   "execution_count": 5,
   "metadata": {
    "id": "aUcAZc6LNMOv"
   },
   "outputs": [],
   "source": [
    "url='/content/drive/MyDrive/dataset/amazon_grocery_subset.csv'"
   ]
  },
  {
   "cell_type": "code",
   "execution_count": 6,
   "metadata": {
    "id": "XBHWHBlrNy5N"
   },
   "outputs": [],
   "source": [
    "#create session\n",
    "appName = \"Recommendation system in Spark with ALS\"\n",
    "spark = SparkSession \\\n",
    "    .builder \\\n",
    "    .appName(appName) \\\n",
    "    .config(\"spark.some.config.option\", \"some-value\") \\\n",
    "    .getOrCreate()"
   ]
  },
  {
   "cell_type": "code",
   "execution_count": 7,
   "metadata": {
    "colab": {
     "base_uri": "https://localhost:8080/"
    },
    "id": "IIAXrpUbN8NW",
    "outputId": "d70c97ec-a29e-43f6-b52b-81b2f9236327"
   },
   "outputs": [
    {
     "name": "stderr",
     "output_type": "stream",
     "text": [
      "/usr/local/lib/python3.7/dist-packages/IPython/core/interactiveshell.py:2718: DtypeWarning: Columns (10) have mixed types.Specify dtype option on import or set low_memory=False.\n",
      "  interactivity=interactivity, compiler=compiler, result=result)\n"
     ]
    }
   ],
   "source": [
    "df1 = pd.read_csv(url)"
   ]
  },
  {
   "cell_type": "code",
   "execution_count": 8,
   "metadata": {
    "colab": {
     "base_uri": "https://localhost:8080/",
     "height": 313
    },
    "id": "7fATIrTDOCKN",
    "outputId": "b3e48eec-59a8-4296-be93-147606398be5"
   },
   "outputs": [
    {
     "data": {
      "text/html": [
       "<div>\n",
       "<style scoped>\n",
       "    .dataframe tbody tr th:only-of-type {\n",
       "        vertical-align: middle;\n",
       "    }\n",
       "\n",
       "    .dataframe tbody tr th {\n",
       "        vertical-align: top;\n",
       "    }\n",
       "\n",
       "    .dataframe thead th {\n",
       "        text-align: right;\n",
       "    }\n",
       "</style>\n",
       "<table border=\"1\" class=\"dataframe\">\n",
       "  <thead>\n",
       "    <tr style=\"text-align: right;\">\n",
       "      <th></th>\n",
       "      <th>Unnamed: 0</th>\n",
       "      <th>overall</th>\n",
       "      <th>verified</th>\n",
       "      <th>reviewTime</th>\n",
       "      <th>reviewerID</th>\n",
       "      <th>asin</th>\n",
       "      <th>reviewerName</th>\n",
       "      <th>reviewText</th>\n",
       "      <th>summary</th>\n",
       "      <th>unixReviewTime</th>\n",
       "      <th>vote</th>\n",
       "      <th>image</th>\n",
       "      <th>style</th>\n",
       "    </tr>\n",
       "  </thead>\n",
       "  <tbody>\n",
       "    <tr>\n",
       "      <th>0</th>\n",
       "      <td>2029665</td>\n",
       "      <td>3.0</td>\n",
       "      <td>True</td>\n",
       "      <td>03 25, 2014</td>\n",
       "      <td>A17GONA7VU3OVP</td>\n",
       "      <td>B007SM6NWC</td>\n",
       "      <td>Dennis P Harper</td>\n",
       "      <td>I like the taste, texture, and idea of this fl...</td>\n",
       "      <td>Good but pricey</td>\n",
       "      <td>1395705600</td>\n",
       "      <td>NaN</td>\n",
       "      <td>NaN</td>\n",
       "      <td>NaN</td>\n",
       "    </tr>\n",
       "    <tr>\n",
       "      <th>1</th>\n",
       "      <td>1138829</td>\n",
       "      <td>5.0</td>\n",
       "      <td>True</td>\n",
       "      <td>07 23, 2015</td>\n",
       "      <td>A1TS69PHM6K2CM</td>\n",
       "      <td>B001SAY1FG</td>\n",
       "      <td>Esweeney</td>\n",
       "      <td>Great</td>\n",
       "      <td>Five Stars</td>\n",
       "      <td>1437609600</td>\n",
       "      <td>NaN</td>\n",
       "      <td>NaN</td>\n",
       "      <td>NaN</td>\n",
       "    </tr>\n",
       "    <tr>\n",
       "      <th>2</th>\n",
       "      <td>2283487</td>\n",
       "      <td>5.0</td>\n",
       "      <td>True</td>\n",
       "      <td>05 11, 2013</td>\n",
       "      <td>A1ATSQF1AB6DTM</td>\n",
       "      <td>B00BK80U60</td>\n",
       "      <td>Pdachsie</td>\n",
       "      <td>Barry's is my favorite tea.  I drink decaf in ...</td>\n",
       "      <td>Barrys Tea ... the best</td>\n",
       "      <td>1368230400</td>\n",
       "      <td>NaN</td>\n",
       "      <td>NaN</td>\n",
       "      <td>NaN</td>\n",
       "    </tr>\n",
       "  </tbody>\n",
       "</table>\n",
       "</div>"
      ],
      "text/plain": [
       "   Unnamed: 0  overall  verified   reviewTime  ... unixReviewTime vote image style\n",
       "0     2029665      3.0      True  03 25, 2014  ...     1395705600  NaN   NaN   NaN\n",
       "1     1138829      5.0      True  07 23, 2015  ...     1437609600  NaN   NaN   NaN\n",
       "2     2283487      5.0      True  05 11, 2013  ...     1368230400  NaN   NaN   NaN\n",
       "\n",
       "[3 rows x 13 columns]"
      ]
     },
     "execution_count": 8,
     "metadata": {},
     "output_type": "execute_result"
    }
   ],
   "source": [
    "df1.head(3)"
   ]
  },
  {
   "cell_type": "code",
   "execution_count": 9,
   "metadata": {
    "colab": {
     "base_uri": "https://localhost:8080/"
    },
    "id": "0f3mS3HBPtPI",
    "outputId": "1ab44cf7-22c6-47af-8a41-39ea5de12c57"
   },
   "outputs": [
    {
     "name": "stdout",
     "output_type": "stream",
     "text": [
      "287051\n",
      "{'category': ['Grocery & Gourmet Food', 'Dairy, Cheese & Eggs', 'Cheese', 'Gouda'], 'tech1': '', 'description': ['BEEMSTER GOUDA CHEESE AGED 18/24 MONTHS', 'Statements regarding dietary supplements have not been evaluated by the FDA and are not intended to diagnose, treat, cure, or prevent any disease or health condition.'], 'fit': '', 'title': 'Beemster Gouda - Aged 18/24 Months - App. 1.5 Lbs', 'also_buy': [], 'tech2': '', 'brand': 'Ariola Imports', 'feature': [], 'rank': '165,181 in Grocery & Gourmet Food (', 'also_view': ['B0000D9MYM', 'B0000D9MYL', 'B00ADHIGBA', 'B00H9OX598', 'B001LM42GY', 'B001LM5TDY'], 'main_cat': 'Grocery', 'similar_item': '', 'date': '', 'price': '$41.91', 'asin': '0681727810', 'imageURL': [], 'imageURLHighRes': []}\n"
     ]
    }
   ],
   "source": [
    "df_metadata= []\n",
    "with gzip.open(r'/content/meta_Grocery_and_Gourmet_Food.json.gz') as f:\n",
    "    for l in f:\n",
    "        df_metadata.append(json.loads(l.strip()))\n",
    "print(len(df_metadata))\n",
    "print(df_metadata[0])"
   ]
  },
  {
   "cell_type": "code",
   "execution_count": 10,
   "metadata": {
    "colab": {
     "base_uri": "https://localhost:8080/"
    },
    "id": "UvlQlGjmP1q8",
    "outputId": "5270eca1-d0df-400e-9471-81d757ffac68"
   },
   "outputs": [
    {
     "name": "stdout",
     "output_type": "stream",
     "text": [
      "287051\n"
     ]
    }
   ],
   "source": [
    "df_metadata = pd.DataFrame.from_dict(df_metadata)\n",
    "print(len(df_metadata))"
   ]
  },
  {
   "cell_type": "code",
   "execution_count": 11,
   "metadata": {
    "id": "K9Lf972daEMv"
   },
   "outputs": [],
   "source": [
    "prod = deepcopy(df_metadata)\n",
    "prod = prod[['asin', 'title', 'category']]"
   ]
  },
  {
   "cell_type": "code",
   "execution_count": 12,
   "metadata": {
    "id": "5oMrKfMnaLV5"
   },
   "outputs": [],
   "source": [
    "prod_title=prod[['asin', 'title']]"
   ]
  },
  {
   "cell_type": "code",
   "execution_count": 13,
   "metadata": {
    "colab": {
     "base_uri": "https://localhost:8080/",
     "height": 417
    },
    "id": "HqcSFaabaQMf",
    "outputId": "24632809-0c92-4d8b-b10e-f700cd5ba9e9"
   },
   "outputs": [
    {
     "data": {
      "text/html": [
       "<div>\n",
       "<style scoped>\n",
       "    .dataframe tbody tr th:only-of-type {\n",
       "        vertical-align: middle;\n",
       "    }\n",
       "\n",
       "    .dataframe tbody tr th {\n",
       "        vertical-align: top;\n",
       "    }\n",
       "\n",
       "    .dataframe thead th {\n",
       "        text-align: right;\n",
       "    }\n",
       "</style>\n",
       "<table border=\"1\" class=\"dataframe\">\n",
       "  <thead>\n",
       "    <tr style=\"text-align: right;\">\n",
       "      <th></th>\n",
       "      <th>asin</th>\n",
       "      <th>title</th>\n",
       "      <th>category</th>\n",
       "    </tr>\n",
       "  </thead>\n",
       "  <tbody>\n",
       "    <tr>\n",
       "      <th>0</th>\n",
       "      <td>0681727810</td>\n",
       "      <td>Beemster Gouda - Aged 18/24 Months - App. 1.5 Lbs</td>\n",
       "      <td>[Grocery &amp; Gourmet Food, Dairy, Cheese &amp; Eggs,...</td>\n",
       "    </tr>\n",
       "    <tr>\n",
       "      <th>1</th>\n",
       "      <td>0853347867</td>\n",
       "      <td>Trim Healthy Mama Xylitol</td>\n",
       "      <td>[Grocery &amp; Gourmet Food, Cooking &amp; Baking, Sug...</td>\n",
       "    </tr>\n",
       "    <tr>\n",
       "      <th>2</th>\n",
       "      <td>1888861118</td>\n",
       "      <td>Letter C - Swarovski Crystal Monogram Wedding ...</td>\n",
       "      <td>[Grocery &amp; Gourmet Food, Cooking &amp; Baking, Fro...</td>\n",
       "    </tr>\n",
       "    <tr>\n",
       "      <th>3</th>\n",
       "      <td>1888861517</td>\n",
       "      <td>Letter H - Swarovski Crystal Monogram Wedding ...</td>\n",
       "      <td>[Grocery &amp; Gourmet Food, Cooking &amp; Baking, Fro...</td>\n",
       "    </tr>\n",
       "    <tr>\n",
       "      <th>4</th>\n",
       "      <td>1888861614</td>\n",
       "      <td>Letter S - Swarovski Crystal Monogram Wedding ...</td>\n",
       "      <td>[Grocery &amp; Gourmet Food, Cooking &amp; Baking, Fro...</td>\n",
       "    </tr>\n",
       "    <tr>\n",
       "      <th>...</th>\n",
       "      <td>...</td>\n",
       "      <td>...</td>\n",
       "      <td>...</td>\n",
       "    </tr>\n",
       "    <tr>\n",
       "      <th>287046</th>\n",
       "      <td>B01HJFBN9A</td>\n",
       "      <td>Caffarel Fruit Jellies, Organic Assorted, 200 ...</td>\n",
       "      <td>[Grocery &amp; Gourmet Food, Jams, Jellies &amp; Sweet...</td>\n",
       "    </tr>\n",
       "    <tr>\n",
       "      <th>287047</th>\n",
       "      <td>B01HJFC704</td>\n",
       "      <td>HAMPTON CREEK Spo Just Truffle Mayo, 12 Ounce</td>\n",
       "      <td>[Grocery &amp; Gourmet Food, Condiments &amp; Salad Dr...</td>\n",
       "    </tr>\n",
       "    <tr>\n",
       "      <th>287048</th>\n",
       "      <td>B01HJF6FRA</td>\n",
       "      <td>HAMPTON CREEK Just Ranch Dressing, 12 Fluid Ounce</td>\n",
       "      <td>[Grocery &amp; Gourmet Food, Condiments &amp; Salad Dr...</td>\n",
       "    </tr>\n",
       "    <tr>\n",
       "      <th>287049</th>\n",
       "      <td>B01HJHSVG6</td>\n",
       "      <td>Gourmet Pure Vanilla Bean Pastes - Organically...</td>\n",
       "      <td>[Grocery &amp; Gourmet Food, Herbs, Spices &amp; Seaso...</td>\n",
       "    </tr>\n",
       "    <tr>\n",
       "      <th>287050</th>\n",
       "      <td>B01HJFRDDA</td>\n",
       "      <td>McClure's Pickles Bloody Mary Mix-Spicy-32 oz ...</td>\n",
       "      <td>[Grocery &amp; Gourmet Food, Beverages, Bottled Be...</td>\n",
       "    </tr>\n",
       "  </tbody>\n",
       "</table>\n",
       "<p>287051 rows × 3 columns</p>\n",
       "</div>"
      ],
      "text/plain": [
       "              asin  ...                                           category\n",
       "0       0681727810  ...  [Grocery & Gourmet Food, Dairy, Cheese & Eggs,...\n",
       "1       0853347867  ...  [Grocery & Gourmet Food, Cooking & Baking, Sug...\n",
       "2       1888861118  ...  [Grocery & Gourmet Food, Cooking & Baking, Fro...\n",
       "3       1888861517  ...  [Grocery & Gourmet Food, Cooking & Baking, Fro...\n",
       "4       1888861614  ...  [Grocery & Gourmet Food, Cooking & Baking, Fro...\n",
       "...            ...  ...                                                ...\n",
       "287046  B01HJFBN9A  ...  [Grocery & Gourmet Food, Jams, Jellies & Sweet...\n",
       "287047  B01HJFC704  ...  [Grocery & Gourmet Food, Condiments & Salad Dr...\n",
       "287048  B01HJF6FRA  ...  [Grocery & Gourmet Food, Condiments & Salad Dr...\n",
       "287049  B01HJHSVG6  ...  [Grocery & Gourmet Food, Herbs, Spices & Seaso...\n",
       "287050  B01HJFRDDA  ...  [Grocery & Gourmet Food, Beverages, Bottled Be...\n",
       "\n",
       "[287051 rows x 3 columns]"
      ]
     },
     "execution_count": 13,
     "metadata": {},
     "output_type": "execute_result"
    }
   ],
   "source": [
    "prod"
   ]
  },
  {
   "cell_type": "markdown",
   "metadata": {
    "id": "FmjevYBCY4tz"
   },
   "source": [
    "Dropping duplicate rows"
   ]
  },
  {
   "cell_type": "code",
   "execution_count": 19,
   "metadata": {
    "colab": {
     "base_uri": "https://localhost:8080/"
    },
    "id": "_pTZMovjPZ1A",
    "outputId": "e71ce207-9355-4b7c-a6bb-b71815afe9a5"
   },
   "outputs": [
    {
     "data": {
      "text/plain": [
       "<bound method DataFrame.drop_duplicates of          Unnamed: 0  overall  ...        asin unixReviewTime\n",
       "0           2029665      3.0  ...  B007SM6NWC     1395705600\n",
       "1           1138829      5.0  ...  B001SAY1FG     1437609600\n",
       "2           2283487      5.0  ...  B00BK80U60     1368230400\n",
       "3           1525007      5.0  ...  B004H1YIBU     1416355200\n",
       "4           3610756      2.0  ...  B0192RC15I     1480118400\n",
       "...             ...      ...  ...         ...            ...\n",
       "1014827     3780068      5.0  ...  B01FUY1W4I     1531267200\n",
       "1014828     4421977      5.0  ...  B00BHFEU8K     1515801600\n",
       "1014829      971825      4.0  ...  B001ELL4ZY     1351555200\n",
       "1014830     4533161      1.0  ...  B00ES3V8OC     1528848000\n",
       "1014831      418978      5.0  ...  B000KJVIOI     1522540800\n",
       "\n",
       "[1014832 rows x 6 columns]>"
      ]
     },
     "execution_count": 19,
     "metadata": {},
     "output_type": "execute_result"
    }
   ],
   "source": [
    "dataset=deepcopy(df1)\n",
    "dataset.drop(['image','style','vote','reviewText','reviewerName','verified','summary'],axis=1, inplace = True)\n",
    "dataset.fillna(value = 0, inplace = True)\n",
    "dataset.drop_duplicates"
   ]
  },
  {
   "cell_type": "code",
   "execution_count": 20,
   "metadata": {
    "colab": {
     "base_uri": "https://localhost:8080/",
     "height": 417
    },
    "id": "ZqHkq3rjW_I-",
    "outputId": "254f30b7-62c1-4ccc-c869-c879ffc04139"
   },
   "outputs": [
    {
     "data": {
      "text/html": [
       "<div>\n",
       "<style scoped>\n",
       "    .dataframe tbody tr th:only-of-type {\n",
       "        vertical-align: middle;\n",
       "    }\n",
       "\n",
       "    .dataframe tbody tr th {\n",
       "        vertical-align: top;\n",
       "    }\n",
       "\n",
       "    .dataframe thead th {\n",
       "        text-align: right;\n",
       "    }\n",
       "</style>\n",
       "<table border=\"1\" class=\"dataframe\">\n",
       "  <thead>\n",
       "    <tr style=\"text-align: right;\">\n",
       "      <th></th>\n",
       "      <th>Unnamed: 0</th>\n",
       "      <th>overall</th>\n",
       "      <th>reviewTime</th>\n",
       "      <th>reviewerID</th>\n",
       "      <th>asin</th>\n",
       "      <th>unixReviewTime</th>\n",
       "    </tr>\n",
       "  </thead>\n",
       "  <tbody>\n",
       "    <tr>\n",
       "      <th>0</th>\n",
       "      <td>2029665</td>\n",
       "      <td>3.0</td>\n",
       "      <td>03 25, 2014</td>\n",
       "      <td>A17GONA7VU3OVP</td>\n",
       "      <td>B007SM6NWC</td>\n",
       "      <td>1395705600</td>\n",
       "    </tr>\n",
       "    <tr>\n",
       "      <th>1</th>\n",
       "      <td>1138829</td>\n",
       "      <td>5.0</td>\n",
       "      <td>07 23, 2015</td>\n",
       "      <td>A1TS69PHM6K2CM</td>\n",
       "      <td>B001SAY1FG</td>\n",
       "      <td>1437609600</td>\n",
       "    </tr>\n",
       "    <tr>\n",
       "      <th>2</th>\n",
       "      <td>2283487</td>\n",
       "      <td>5.0</td>\n",
       "      <td>05 11, 2013</td>\n",
       "      <td>A1ATSQF1AB6DTM</td>\n",
       "      <td>B00BK80U60</td>\n",
       "      <td>1368230400</td>\n",
       "    </tr>\n",
       "    <tr>\n",
       "      <th>3</th>\n",
       "      <td>1525007</td>\n",
       "      <td>5.0</td>\n",
       "      <td>11 19, 2014</td>\n",
       "      <td>A1KGKRLJV49AGP</td>\n",
       "      <td>B004H1YIBU</td>\n",
       "      <td>1416355200</td>\n",
       "    </tr>\n",
       "    <tr>\n",
       "      <th>4</th>\n",
       "      <td>3610756</td>\n",
       "      <td>2.0</td>\n",
       "      <td>11 26, 2016</td>\n",
       "      <td>A2TIAO2E4QBOKB</td>\n",
       "      <td>B0192RC15I</td>\n",
       "      <td>1480118400</td>\n",
       "    </tr>\n",
       "    <tr>\n",
       "      <th>...</th>\n",
       "      <td>...</td>\n",
       "      <td>...</td>\n",
       "      <td>...</td>\n",
       "      <td>...</td>\n",
       "      <td>...</td>\n",
       "      <td>...</td>\n",
       "    </tr>\n",
       "    <tr>\n",
       "      <th>1014827</th>\n",
       "      <td>3780068</td>\n",
       "      <td>5.0</td>\n",
       "      <td>07 11, 2018</td>\n",
       "      <td>A3Q8V4LDRX0DC5</td>\n",
       "      <td>B01FUY1W4I</td>\n",
       "      <td>1531267200</td>\n",
       "    </tr>\n",
       "    <tr>\n",
       "      <th>1014828</th>\n",
       "      <td>4421977</td>\n",
       "      <td>5.0</td>\n",
       "      <td>01 13, 2018</td>\n",
       "      <td>A2DDF8NAREKGAF</td>\n",
       "      <td>B00BHFEU8K</td>\n",
       "      <td>1515801600</td>\n",
       "    </tr>\n",
       "    <tr>\n",
       "      <th>1014829</th>\n",
       "      <td>971825</td>\n",
       "      <td>4.0</td>\n",
       "      <td>10 30, 2012</td>\n",
       "      <td>AW36AB4MVO34G</td>\n",
       "      <td>B001ELL4ZY</td>\n",
       "      <td>1351555200</td>\n",
       "    </tr>\n",
       "    <tr>\n",
       "      <th>1014830</th>\n",
       "      <td>4533161</td>\n",
       "      <td>1.0</td>\n",
       "      <td>06 13, 2018</td>\n",
       "      <td>A1D5P09GS82A47</td>\n",
       "      <td>B00ES3V8OC</td>\n",
       "      <td>1528848000</td>\n",
       "    </tr>\n",
       "    <tr>\n",
       "      <th>1014831</th>\n",
       "      <td>418978</td>\n",
       "      <td>5.0</td>\n",
       "      <td>04 1, 2018</td>\n",
       "      <td>A17P05VR7G5RMC</td>\n",
       "      <td>B000KJVIOI</td>\n",
       "      <td>1522540800</td>\n",
       "    </tr>\n",
       "  </tbody>\n",
       "</table>\n",
       "<p>1014832 rows × 6 columns</p>\n",
       "</div>"
      ],
      "text/plain": [
       "         Unnamed: 0  overall  ...        asin unixReviewTime\n",
       "0           2029665      3.0  ...  B007SM6NWC     1395705600\n",
       "1           1138829      5.0  ...  B001SAY1FG     1437609600\n",
       "2           2283487      5.0  ...  B00BK80U60     1368230400\n",
       "3           1525007      5.0  ...  B004H1YIBU     1416355200\n",
       "4           3610756      2.0  ...  B0192RC15I     1480118400\n",
       "...             ...      ...  ...         ...            ...\n",
       "1014827     3780068      5.0  ...  B01FUY1W4I     1531267200\n",
       "1014828     4421977      5.0  ...  B00BHFEU8K     1515801600\n",
       "1014829      971825      4.0  ...  B001ELL4ZY     1351555200\n",
       "1014830     4533161      1.0  ...  B00ES3V8OC     1528848000\n",
       "1014831      418978      5.0  ...  B000KJVIOI     1522540800\n",
       "\n",
       "[1014832 rows x 6 columns]"
      ]
     },
     "execution_count": 20,
     "metadata": {},
     "output_type": "execute_result"
    }
   ],
   "source": [
    "dataset"
   ]
  },
  {
   "cell_type": "markdown",
   "metadata": {
    "id": "v_YQvep1aeq9"
   },
   "source": [
    "EDA"
   ]
  },
  {
   "cell_type": "code",
   "execution_count": 21,
   "metadata": {
    "id": "DgIW94DzaiBE"
   },
   "outputs": [],
   "source": [
    "rev1=deepcopy(dataset)"
   ]
  },
  {
   "cell_type": "code",
   "execution_count": 16,
   "metadata": {
    "colab": {
     "base_uri": "https://localhost:8080/"
    },
    "id": "rHVxvMojahzM",
    "outputId": "493ff1a6-9814-44b4-ccb3-323cd0fdc89b"
   },
   "outputs": [
    {
     "data": {
      "text/plain": [
       "Unnamed: 0        0\n",
       "overall           0\n",
       "reviewTime        0\n",
       "reviewerID        0\n",
       "asin              0\n",
       "unixReviewTime    0\n",
       "Year              0\n",
       "dtype: int64"
      ]
     },
     "execution_count": 16,
     "metadata": {},
     "output_type": "execute_result"
    }
   ],
   "source": [
    "rev1.isnull().sum()"
   ]
  },
  {
   "cell_type": "code",
   "execution_count": 22,
   "metadata": {
    "colab": {
     "base_uri": "https://localhost:8080/",
     "height": 203
    },
    "id": "GWloPqgZWd8p",
    "outputId": "ba565c60-185a-4a06-f6ce-89f0ee97c3c4"
   },
   "outputs": [
    {
     "data": {
      "text/html": [
       "<div>\n",
       "<style scoped>\n",
       "    .dataframe tbody tr th:only-of-type {\n",
       "        vertical-align: middle;\n",
       "    }\n",
       "\n",
       "    .dataframe tbody tr th {\n",
       "        vertical-align: top;\n",
       "    }\n",
       "\n",
       "    .dataframe thead th {\n",
       "        text-align: right;\n",
       "    }\n",
       "</style>\n",
       "<table border=\"1\" class=\"dataframe\">\n",
       "  <thead>\n",
       "    <tr style=\"text-align: right;\">\n",
       "      <th></th>\n",
       "      <th>Labels</th>\n",
       "      <th>Ratings</th>\n",
       "    </tr>\n",
       "  </thead>\n",
       "  <tbody>\n",
       "    <tr>\n",
       "      <th>0</th>\n",
       "      <td>5.0</td>\n",
       "      <td>714800</td>\n",
       "    </tr>\n",
       "    <tr>\n",
       "      <th>1</th>\n",
       "      <td>4.0</td>\n",
       "      <td>110640</td>\n",
       "    </tr>\n",
       "    <tr>\n",
       "      <th>2</th>\n",
       "      <td>1.0</td>\n",
       "      <td>81066</td>\n",
       "    </tr>\n",
       "    <tr>\n",
       "      <th>3</th>\n",
       "      <td>3.0</td>\n",
       "      <td>64427</td>\n",
       "    </tr>\n",
       "    <tr>\n",
       "      <th>4</th>\n",
       "      <td>2.0</td>\n",
       "      <td>43899</td>\n",
       "    </tr>\n",
       "  </tbody>\n",
       "</table>\n",
       "</div>"
      ],
      "text/plain": [
       "   Labels  Ratings\n",
       "0     5.0   714800\n",
       "1     4.0   110640\n",
       "2     1.0    81066\n",
       "3     3.0    64427\n",
       "4     2.0    43899"
      ]
     },
     "execution_count": 22,
     "metadata": {},
     "output_type": "execute_result"
    }
   ],
   "source": [
    "#count of Ratings\n",
    "rating_cnt = pd.DataFrame(rev1['overall'].value_counts()).reset_index()\n",
    "rating_cnt.columns = ['Labels', 'Ratings']\n",
    "rating_cnt"
   ]
  },
  {
   "cell_type": "code",
   "execution_count": 18,
   "metadata": {
    "colab": {
     "base_uri": "https://localhost:8080/",
     "height": 512
    },
    "id": "8xRqgKAeXCXp",
    "outputId": "9cbd397c-3c29-4b15-b289-e16ee5800ab0"
   },
   "outputs": [
    {
     "name": "stderr",
     "output_type": "stream",
     "text": [
      "/usr/local/lib/python3.7/dist-packages/seaborn/_decorators.py:43: FutureWarning: Pass the following variable as a keyword arg: x. From version 0.12, the only valid positional argument will be `data`, and passing other arguments without an explicit keyword will result in an error or misinterpretation.\n",
      "  FutureWarning\n"
     ]
    },
    {
     "data": {
      "image/png": "[encoded data removed]",
      "text/plain": [
       "<Figure size 1080x504 with 2 Axes>"
      ]
     },
     "metadata": {
      "needs_background": "light"
     },
     "output_type": "display_data"
    }
   ],
   "source": [
    "#Countplot of the ratings, maximum user-products have got rating as 5\n",
    "fig, (ax1, ax2) = plt.subplots(nrows=1, ncols=2, figsize=(15,7))\n",
    "sns.set_theme(style=\"whitegrid\", palette=\"pastel\")\n",
    "sns.countplot(rev1['overall'], ax=ax1)\n",
    "ax1.set_xlabel('Rating Distribution', fontsize=10)\n",
    "ax1.set_ylabel('Count', fontsize=10)\n",
    "cmap = plt.get_cmap(\"tab20c\")\n",
    "\n",
    "\n",
    "explode = (0.1, 0, 0.1, 0, 0)\n",
    "ax2.pie(rating_cnt[\"Ratings\"], explode=explode, labels=rating_cnt.Labels, autopct='%1.2f%%',\n",
    "        shadow=True, startangle=70,colors = cmap([1,6,9,12,15]))\n",
    "ax2.axis('equal')\n",
    "plt.title(\"Rating Ratio\")\n",
    "plt.legend(rating_cnt.Labels, loc=3)\n",
    "plt.show()"
   ]
  },
  {
   "cell_type": "code",
   "execution_count": 19,
   "metadata": {
    "colab": {
     "base_uri": "https://localhost:8080/",
     "height": 565
    },
    "id": "CNg9WwAOXJUq",
    "outputId": "3609fdef-ba8e-4bd2-a2c7-7618c1f91937"
   },
   "outputs": [
    {
     "data": {
      "text/plain": [
       "<seaborn.axisgrid.PairGrid at 0x7f5d4e57d250>"
      ]
     },
     "execution_count": 19,
     "metadata": {},
     "output_type": "execute_result"
    },
    {
     "data": {
      "image/png": "[encoded data removed]",
      "text/plain": [
       "<Figure size 540x540 with 12 Axes>"
      ]
     },
     "metadata": {},
     "output_type": "display_data"
    }
   ],
   "source": [
    "sns.pairplot(rev1, diag_kind= 'kde')"
   ]
  },
  {
   "cell_type": "code",
   "execution_count": 20,
   "metadata": {
    "colab": {
     "base_uri": "https://localhost:8080/",
     "height": 481
    },
    "id": "Q3mJqPxwXO53",
    "outputId": "7964c7c4-3369-4bf5-bfd4-9d2b6120cf8b"
   },
   "outputs": [
    {
     "data": {
      "text/plain": [
       "<matplotlib.axes._subplots.AxesSubplot at 0x7f5d401d01d0>"
      ]
     },
     "execution_count": 20,
     "metadata": {},
     "output_type": "execute_result"
    },
    {
     "data": {
      "image/png": "[encoded data removed]",
      "text/plain": [
       "<Figure size 504x504 with 2 Axes>"
      ]
     },
     "metadata": {},
     "output_type": "display_data"
    }
   ],
   "source": [
    "#correlations\n",
    "mask = np.zeros_like(rev1.corr(), dtype=np.bool)\n",
    "mask[np.triu_indices_from(mask)] = True\n",
    "plt.figure(figsize=(7,7))\n",
    "plt.title('Correlation of Attributes', y=1.05, size=10)\n",
    "sns.heatmap(rev1.corr(),vmin=-1, cmap='YlGnBu',annot=True,  mask=mask, fmt='.2f')"
   ]
  },
  {
   "cell_type": "code",
   "execution_count": 21,
   "metadata": {
    "colab": {
     "base_uri": "https://localhost:8080/"
    },
    "id": "nzzOQ-vRXQNb",
    "outputId": "4bbe050b-23ba-4e34-80ac-37d9f76b8940"
   },
   "outputs": [
    {
     "name": "stdout",
     "output_type": "stream",
     "text": [
      "Data Summary....................................................................................\n",
      "\n",
      "Total number of Ratings : 1014832\n",
      "Total number of Users   : 789157\n",
      "Total number of Products  : 152360\n"
     ]
    }
   ],
   "source": [
    "#Summary of the data\n",
    "print(\"Data Summary....................................................................................\")\n",
    "print(\"\\nTotal number of Ratings :\",rev1.shape[0])\n",
    "print(\"Total number of Users   :\", len(np.unique(rev1.reviewerID)))\n",
    "print(\"Total number of Products  :\", len(np.unique(rev1.asin)))"
   ]
  },
  {
   "cell_type": "code",
   "execution_count": 23,
   "metadata": {
    "colab": {
     "base_uri": "https://localhost:8080/"
    },
    "id": "HSMLrl2FXVGR",
    "outputId": "4e677078-e03c-4a04-d9dc-d3c8c2613ce7"
   },
   "outputs": [
    {
     "data": {
      "text/plain": [
       "reviewerID      asin      \n",
       "A3EBAPIFCY0EKF  B01DPO76QS    5.0\n",
       "A2YE606NDOZZ8F  B0183RU6UU    5.0\n",
       "A1O419KNAF8T6   B000PE4EZI    5.0\n",
       "A1O41ROIGXKF5T  B00UUKN6YC    5.0\n",
       "A2YEFZ0YUOWLKP  B0059AJ3MM    5.0\n",
       "                             ... \n",
       "A1HWC6W3ONKU24  B01133LB1E    1.0\n",
       "A1HWDMUKKM29AV  B00VO4LDDY    1.0\n",
       "A3FCCJN9OL4U10  B00I3K37FO    1.0\n",
       "A3FC9L88QGGAUF  B00451W2ZG    1.0\n",
       "A3E6ZXKO41A15K  B005TH72FK    1.0\n",
       "Name: overall, Length: 1007023, dtype: float64"
      ]
     },
     "execution_count": 23,
     "metadata": {},
     "output_type": "execute_result"
    }
   ],
   "source": [
    "#Check and find the max ratings given by user for a particular item\n",
    "max_rat = rev1.groupby(['reviewerID','asin'])['overall'].max().sort_values(ascending=False)\n",
    "max_rat"
   ]
  },
  {
   "cell_type": "code",
   "execution_count": 24,
   "metadata": {
    "colab": {
     "base_uri": "https://localhost:8080/"
    },
    "id": "ZA6_IIzgXbio",
    "outputId": "b8dd4c8a-4aee-451a-84d3-360af513df65"
   },
   "outputs": [
    {
     "data": {
      "text/plain": [
       "reviewerID      asin      \n",
       "A20NFIHBSSF0Z1  B001SAWZOK    5.0\n",
       "A30BABERWUBWJQ  B015JRJ6JY    5.0\n",
       "A30BBH7V9B8I2W  B01F7Q8YIG    5.0\n",
       "                B01EIHD192    5.0\n",
       "                B00OE5BN08    5.0\n",
       "                             ... \n",
       "A17MJFYJI5LNFD  B000YBKP50    1.0\n",
       "A1CN8SVVTTVB5D  B00JVLPXLK    1.0\n",
       "A2W6OOTWAZOFZJ  B00LBGM5N2    1.0\n",
       "A1HHYNL53ABAOG  B00MW8H4B6    1.0\n",
       "A2UJNN4EWZSO53  B00NAWUQAO    1.0\n",
       "Name: overall, Length: 1007023, dtype: float64"
      ]
     },
     "execution_count": 24,
     "metadata": {},
     "output_type": "execute_result"
    }
   ],
   "source": [
    "#Check and find the min ratings given by user for a particular item\n",
    "min_rat = rev1.groupby(['reviewerID','asin'])['overall'].min().sort_values(ascending=False)\n",
    "min_rat"
   ]
  },
  {
   "cell_type": "code",
   "execution_count": 25,
   "metadata": {
    "colab": {
     "base_uri": "https://localhost:8080/"
    },
    "id": "C8A2f0QDXoAY",
    "outputId": "2828a26b-779f-49ac-8132-c1be38227c3e"
   },
   "outputs": [
    {
     "data": {
      "text/plain": [
       "reviewerID\n",
       "A1LACH6MLQWZ      228\n",
       "A1GQAKL9CGQLP1    161\n",
       "A2GJX2KCUSR0EI    117\n",
       "A2C9XE9I8RSKNX    102\n",
       "AY12DBB0U420B      95\n",
       "A2NYK9KWFMJV4Y     89\n",
       "A2Q7DE6NA7VKAJ     86\n",
       "A3OXHLG6DIBRW8     83\n",
       "A281NPSIMI1C2R     83\n",
       "A2MNB77YGJ3CN0     78\n",
       "Name: overall, dtype: int64"
      ]
     },
     "execution_count": 25,
     "metadata": {},
     "output_type": "execute_result"
    }
   ],
   "source": [
    "\n",
    "no_rat_each_person = rev1.groupby(by='reviewerID')['overall'].count().sort_values(ascending=False)\n",
    "no_rat_each_person.head(10)"
   ]
  },
  {
   "cell_type": "code",
   "execution_count": 25,
   "metadata": {
    "colab": {
     "base_uri": "https://localhost:8080/"
    },
    "id": "fAHPFQZWXts2",
    "outputId": "2a75410f-3dfa-4673-d8c2-eda6db8fe202"
   },
   "outputs": [
    {
     "data": {
      "text/plain": [
       "count    789157\n",
       "mean          1\n",
       "std           1\n",
       "min           1\n",
       "25%           1\n",
       "50%           1\n",
       "75%           1\n",
       "max         228\n",
       "Name: overall, dtype: int64"
      ]
     },
     "execution_count": 25,
     "metadata": {},
     "output_type": "execute_result"
    }
   ],
   "source": [
    "no_rat_each_person.describe().astype(int)"
   ]
  },
  {
   "cell_type": "code",
   "execution_count": 26,
   "metadata": {
    "colab": {
     "base_uri": "https://localhost:8080/",
     "height": 330
    },
    "id": "Ym5gwGYdXyFO",
    "outputId": "6ec899c6-6b13-4ae1-c499-374cda6dd366"
   },
   "outputs": [
    {
     "data": {
      "text/plain": [
       "<matplotlib.axes._subplots.AxesSubplot at 0x7f5d401651d0>"
      ]
     },
     "execution_count": 26,
     "metadata": {},
     "output_type": "execute_result"
    },
    {
     "data": {
      "image/png": "[encoded data removed]",
      "text/plain": [
       "<Figure size 1440x360 with 1 Axes>"
      ]
     },
     "metadata": {},
     "output_type": "display_data"
    }
   ],
   "source": [
    "plt.figure(figsize=(20,5))\n",
    "sns.boxplot(data=no_rat_each_person, orient='h', palette='Set2', dodge=False)"
   ]
  },
  {
   "cell_type": "code",
   "execution_count": 27,
   "metadata": {
    "colab": {
     "base_uri": "https://localhost:8080/",
     "height": 627
    },
    "id": "ti42NcMvX54x",
    "outputId": "6d032023-a9aa-48f6-e4e6-41cb432256b3"
   },
   "outputs": [
    {
     "data": {
      "image/png": "[encoded data removed]",
      "text/plain": [
       "<Figure size 720x720 with 1 Axes>"
      ]
     },
     "metadata": {},
     "output_type": "display_data"
    }
   ],
   "source": [
    "#We can see that all the ratings are clustered at the top end of the quantile\n",
    "\n",
    "quantiles = no_rat_each_person.quantile(np.arange(0,1.01,0.01), interpolation='higher')\n",
    "plt.figure(figsize=(10,10))\n",
    "plt.title(\"Quantiles and their Values\")\n",
    "quantiles.plot()\n",
    "plt.scatter(x=quantiles.index[::5], y=quantiles.values[::5], c='red', label=\"quantiles with 0.05 intervals\")\n",
    "plt.scatter(x=quantiles.index[::25], y=quantiles.values[::25], c='green', label = \"quantiles with 0.25 intervals\")\n",
    "plt.ylabel('# ratings by user')\n",
    "plt.xlabel('Value at the quantile')\n",
    "plt.legend(loc='best')\n",
    "plt.show()"
   ]
  },
  {
   "cell_type": "markdown",
   "metadata": {
    "id": "ORWG2Y3MExFh"
   },
   "source": [
    "**Taking a Denser dataset**"
   ]
  },
  {
   "cell_type": "code",
   "execution_count": 26,
   "metadata": {
    "colab": {
     "base_uri": "https://localhost:8080/"
    },
    "id": "NsgXfPFMYN0i",
    "outputId": "849a319a-60dd-4967-bf51-db592a8c4274"
   },
   "outputs": [
    {
     "name": "stdout",
     "output_type": "stream",
     "text": [
      "\n",
      " number of rated product more than 10 per user : 1617\n",
      "\n"
     ]
    }
   ],
   "source": [
    "print('\\n number of rated product more than 10 per user : {}\\n'.format(sum( no_rat_each_person>=10)) )\n",
    "new_df=rev1.groupby(\"reviewerID\").filter(lambda x:x['overall'].count() >=10)"
   ]
  },
  {
   "cell_type": "code",
   "execution_count": 27,
   "metadata": {
    "colab": {
     "base_uri": "https://localhost:8080/"
    },
    "id": "2fy4T-pEX7Mk",
    "outputId": "b8ba575d-1679-408e-d513-e67fc626c2ca"
   },
   "outputs": [
    {
     "data": {
      "text/plain": [
       "reviewerID\n",
       "A1LACH6MLQWZ      228\n",
       "A1GQAKL9CGQLP1    161\n",
       "A2GJX2KCUSR0EI    117\n",
       "A2C9XE9I8RSKNX    102\n",
       "AY12DBB0U420B      95\n",
       "A2NYK9KWFMJV4Y     89\n",
       "A2Q7DE6NA7VKAJ     86\n",
       "A3OXHLG6DIBRW8     83\n",
       "A281NPSIMI1C2R     83\n",
       "A2MNB77YGJ3CN0     78\n",
       "Name: overall, dtype: int64"
      ]
     },
     "execution_count": 27,
     "metadata": {},
     "output_type": "execute_result"
    }
   ],
   "source": [
    "#total no. of rating for each person\n",
    "new_df.groupby(by='reviewerID')['overall'].count().sort_values(ascending=False)\n",
    "no_rat_each_person.head(10)"
   ]
  },
  {
   "cell_type": "code",
   "execution_count": 30,
   "metadata": {
    "colab": {
     "base_uri": "https://localhost:8080/",
     "height": 301
    },
    "id": "qOOFB1x8Yya4",
    "outputId": "bd832163-4f1b-4e08-cc78-b8bb4bea4839"
   },
   "outputs": [
    {
     "data": {
      "image/png": "[encoded data removed]",
      "text/plain": [
       "<Figure size 432x288 with 2 Axes>"
      ]
     },
     "metadata": {},
     "output_type": "display_data"
    }
   ],
   "source": [
    "#PDF and CDF for the number of ratings per user\n",
    "#PDF is left skewed as majority of the users have given very few ratings\n",
    "ax1 = plt.subplot(121)\n",
    "sns.kdeplot(no_rat_each_person, shade=True, ax=ax1)\n",
    "plt.xlabel('No of ratings by user')\n",
    "plt.title(\"PDF\")\n",
    "\n",
    "ax2 = plt.subplot(122)\n",
    "sns.kdeplot(no_rat_each_person, shade=True, cumulative=True,ax=ax2)\n",
    "plt.xlabel('No of ratings by user')\n",
    "plt.title('CDF')\n",
    "\n",
    "plt.show()"
   ]
  },
  {
   "cell_type": "code",
   "execution_count": 31,
   "metadata": {
    "colab": {
     "base_uri": "https://localhost:8080/",
     "height": 308
    },
    "id": "rWjPS2XkZAqw",
    "outputId": "73a3bb9e-1da4-47c0-c228-f3dfeec79a64"
   },
   "outputs": [
    {
     "data": {
      "text/plain": [
       "<function matplotlib.pyplot.show>"
      ]
     },
     "execution_count": 31,
     "metadata": {},
     "output_type": "execute_result"
    },
    {
     "data": {
      "image/png": "[encoded data removed]",
      "text/plain": [
       "<Figure size 576x288 with 1 Axes>"
      ]
     },
     "metadata": {},
     "output_type": "display_data"
    }
   ],
   "source": [
    "#plot of number of ratings per product\n",
    "no_of_ratings_per_product = new_df.groupby(by='asin')['overall'].count().sort_values(ascending=False)\n",
    "\n",
    "fig = plt.figure(figsize=plt.figaspect(.5))\n",
    "ax = plt.gca()\n",
    "plt.plot(no_of_ratings_per_product.values)\n",
    "plt.title('no. RATINGS per Product')\n",
    "plt.xlabel('Product')\n",
    "plt.ylabel('no. ratings per product')\n",
    "ax.set_xticklabels([])\n",
    "\n",
    "plt.show"
   ]
  },
  {
   "cell_type": "code",
   "execution_count": 32,
   "metadata": {
    "id": "7gMtb3exY3Qc"
   },
   "outputs": [],
   "source": [
    "quantiles = no_of_ratings_per_product.quantile(np.arange(0,1.01,0.01), interpolation='higher')"
   ]
  },
  {
   "cell_type": "code",
   "execution_count": 33,
   "metadata": {
    "colab": {
     "base_uri": "https://localhost:8080/",
     "height": 234
    },
    "id": "RlwP6eRqWeHA",
    "outputId": "d89714c8-e01d-4a0e-e9d9-1a49edd90edc"
   },
   "outputs": [
    {
     "data": {
      "text/html": [
       "<div>\n",
       "<style scoped>\n",
       "    .dataframe tbody tr th:only-of-type {\n",
       "        vertical-align: middle;\n",
       "    }\n",
       "\n",
       "    .dataframe tbody tr th {\n",
       "        vertical-align: top;\n",
       "    }\n",
       "\n",
       "    .dataframe thead th {\n",
       "        text-align: right;\n",
       "    }\n",
       "</style>\n",
       "<table border=\"1\" class=\"dataframe\">\n",
       "  <thead>\n",
       "    <tr style=\"text-align: right;\">\n",
       "      <th></th>\n",
       "      <th>overall</th>\n",
       "    </tr>\n",
       "    <tr>\n",
       "      <th>asin</th>\n",
       "      <th></th>\n",
       "    </tr>\n",
       "  </thead>\n",
       "  <tbody>\n",
       "    <tr>\n",
       "      <th>4639725043</th>\n",
       "      <td>5.000000</td>\n",
       "    </tr>\n",
       "    <tr>\n",
       "      <th>4639725183</th>\n",
       "      <td>5.000000</td>\n",
       "    </tr>\n",
       "    <tr>\n",
       "      <th>4858582000</th>\n",
       "      <td>5.000000</td>\n",
       "    </tr>\n",
       "    <tr>\n",
       "      <th>5463213682</th>\n",
       "      <td>4.666667</td>\n",
       "    </tr>\n",
       "    <tr>\n",
       "      <th>6163058011</th>\n",
       "      <td>3.000000</td>\n",
       "    </tr>\n",
       "  </tbody>\n",
       "</table>\n",
       "</div>"
      ],
      "text/plain": [
       "             overall\n",
       "asin                \n",
       "4639725043  5.000000\n",
       "4639725183  5.000000\n",
       "4858582000  5.000000\n",
       "5463213682  4.666667\n",
       "6163058011  3.000000"
      ]
     },
     "execution_count": 33,
     "metadata": {},
     "output_type": "execute_result"
    }
   ],
   "source": [
    "#mean rating of items\n",
    "rating = pd.DataFrame(ratings.groupby('asin')['overall'].mean())\n",
    "rating.head(5)"
   ]
  },
  {
   "cell_type": "code",
   "execution_count": 34,
   "metadata": {
    "colab": {
     "base_uri": "https://localhost:8080/",
     "height": 330
    },
    "id": "mq4pD33nWeMY",
    "outputId": "071e00ee-dcbe-49b2-d3e0-91de6172fabb"
   },
   "outputs": [
    {
     "data": {
      "text/plain": [
       "<matplotlib.axes._subplots.AxesSubplot at 0x7f5d38493d10>"
      ]
     },
     "execution_count": 34,
     "metadata": {},
     "output_type": "execute_result"
    },
    {
     "data": {
      "image/png": "[encoded data removed]",
      "text/plain": [
       "<Figure size 1440x360 with 1 Axes>"
      ]
     },
     "metadata": {},
     "output_type": "display_data"
    }
   ],
   "source": [
    "plt.figure(figsize=(20,5))\n",
    "sns.boxplot(data=no_of_ratings_per_product, orient='h', palette='Set2', dodge=False)"
   ]
  },
  {
   "cell_type": "code",
   "execution_count": 38,
   "metadata": {
    "id": "r_TFoT9F9fki"
   },
   "outputs": [],
   "source": [
    "copy_year=deepcopy(df1)"
   ]
  },
  {
   "cell_type": "code",
   "execution_count": 39,
   "metadata": {
    "id": "uglU8CMfWePI"
   },
   "outputs": [],
   "source": [
    "#Extract Year\n",
    "def year_extract(reviewTime):\n",
    "    year = reviewTime[-4:]\n",
    "    return year\n",
    "\n",
    "copy_year['Year'] = copy_year['reviewTime'].apply(year_extract)"
   ]
  },
  {
   "cell_type": "code",
   "execution_count": 40,
   "metadata": {
    "id": "oN1mVXnY9bdt"
   },
   "outputs": [],
   "source": [
    "l=copy_year['Year'].value_counts()\n",
    "year_count=l.to_frame()"
   ]
  },
  {
   "cell_type": "code",
   "execution_count": 41,
   "metadata": {
    "colab": {
     "base_uri": "https://localhost:8080/",
     "height": 203
    },
    "id": "I3j7bh7L9bmS",
    "outputId": "c62e31f7-1d46-4c53-f8c2-23ab9e4455a8"
   },
   "outputs": [
    {
     "data": {
      "text/html": [
       "<div>\n",
       "<style scoped>\n",
       "    .dataframe tbody tr th:only-of-type {\n",
       "        vertical-align: middle;\n",
       "    }\n",
       "\n",
       "    .dataframe tbody tr th {\n",
       "        vertical-align: top;\n",
       "    }\n",
       "\n",
       "    .dataframe thead th {\n",
       "        text-align: right;\n",
       "    }\n",
       "</style>\n",
       "<table border=\"1\" class=\"dataframe\">\n",
       "  <thead>\n",
       "    <tr style=\"text-align: right;\">\n",
       "      <th></th>\n",
       "      <th>year</th>\n",
       "      <th>count</th>\n",
       "    </tr>\n",
       "  </thead>\n",
       "  <tbody>\n",
       "    <tr>\n",
       "      <th>0</th>\n",
       "      <td>2016</td>\n",
       "      <td>223486</td>\n",
       "    </tr>\n",
       "    <tr>\n",
       "      <th>1</th>\n",
       "      <td>2017</td>\n",
       "      <td>203632</td>\n",
       "    </tr>\n",
       "    <tr>\n",
       "      <th>2</th>\n",
       "      <td>2015</td>\n",
       "      <td>193838</td>\n",
       "    </tr>\n",
       "    <tr>\n",
       "      <th>3</th>\n",
       "      <td>2014</td>\n",
       "      <td>125258</td>\n",
       "    </tr>\n",
       "    <tr>\n",
       "      <th>4</th>\n",
       "      <td>2018</td>\n",
       "      <td>118414</td>\n",
       "    </tr>\n",
       "  </tbody>\n",
       "</table>\n",
       "</div>"
      ],
      "text/plain": [
       "   year   count\n",
       "0  2016  223486\n",
       "1  2017  203632\n",
       "2  2015  193838\n",
       "3  2014  125258\n",
       "4  2018  118414"
      ]
     },
     "execution_count": 41,
     "metadata": {},
     "output_type": "execute_result"
    }
   ],
   "source": [
    "year_count.rename({'Year':'count'}, axis=1,inplace=True)\n",
    "year_count.reset_index(level=0, inplace=True)\n",
    "year_count.rename({'index':'year'}, axis=1,inplace=True)\n",
    "year_count.head(5)"
   ]
  },
  {
   "cell_type": "code",
   "execution_count": 42,
   "metadata": {
    "colab": {
     "base_uri": "https://localhost:8080/",
     "height": 411
    },
    "id": "k05QLFix9bs2",
    "outputId": "54edfdc1-3907-4ad4-9639-e66ea7e85fb5"
   },
   "outputs": [
    {
     "data": {
      "text/plain": [
       "<matplotlib.legend.Legend at 0x7f5d3c6ab2d0>"
      ]
     },
     "execution_count": 42,
     "metadata": {},
     "output_type": "execute_result"
    },
    {
     "data": {
      "image/png": "[encoded data removed]",
      "text/plain": [
       "<Figure size 864x432 with 1 Axes>"
      ]
     },
     "metadata": {},
     "output_type": "display_data"
    }
   ],
   "source": [
    "#year wise total number of sell\n",
    "import matplotlib.pyplot as plt\n",
    "  \n",
    "x = year_count['year']\n",
    "y = year_count['count']\n",
    "\n",
    "  \n",
    "# Plotting the Data\n",
    "plt.figure(figsize=(12,6))\n",
    "plt.plot(x, y, label='Trend of ratings by year')\n",
    "  \n",
    "plt.xlabel('year')\n",
    "plt.ylabel('total ratings')\n",
    "  \n",
    "plt.plot(y, 'o:g', linestyle='--', linewidth='2')\n",
    "\n",
    "  \n",
    "plt.legend()"
   ]
  },
  {
   "cell_type": "code",
   "execution_count": 43,
   "metadata": {
    "colab": {
     "base_uri": "https://localhost:8080/"
    },
    "id": "4f1XgolV-JNL",
    "outputId": "d14b0207-4d88-4db1-da0d-ab0c39e5080b"
   },
   "outputs": [
    {
     "data": {
      "text/plain": [
       "asin\n",
       "B000U0OUP6    57\n",
       "B00BUKL666    55\n",
       "B000E1FZHS    50\n",
       "B0001LO3FG    46\n",
       "B000F4DKAI    45\n",
       "Name: overall, dtype: int64"
      ]
     },
     "execution_count": 43,
     "metadata": {},
     "output_type": "execute_result"
    }
   ],
   "source": [
    "#Total no of rating for product\n",
    "new_df.groupby('asin')['overall'].count().sort_values(ascending=False).head()"
   ]
  },
  {
   "cell_type": "code",
   "execution_count": 44,
   "metadata": {
    "id": "kPktWn5e-LeT"
   },
   "outputs": [],
   "source": [
    "#mean rating for a product\n",
    "ratings_mean_count = pd.DataFrame(new_df.groupby('asin')['overall'].mean())"
   ]
  },
  {
   "cell_type": "code",
   "execution_count": 45,
   "metadata": {
    "colab": {
     "base_uri": "https://localhost:8080/",
     "height": 234
    },
    "id": "57hiaWxe-Lin",
    "outputId": "bbb0b89f-d269-48ad-b608-7d25284bd3c8"
   },
   "outputs": [
    {
     "data": {
      "text/html": [
       "<div>\n",
       "<style scoped>\n",
       "    .dataframe tbody tr th:only-of-type {\n",
       "        vertical-align: middle;\n",
       "    }\n",
       "\n",
       "    .dataframe tbody tr th {\n",
       "        vertical-align: top;\n",
       "    }\n",
       "\n",
       "    .dataframe thead th {\n",
       "        text-align: right;\n",
       "    }\n",
       "</style>\n",
       "<table border=\"1\" class=\"dataframe\">\n",
       "  <thead>\n",
       "    <tr style=\"text-align: right;\">\n",
       "      <th></th>\n",
       "      <th>overall</th>\n",
       "    </tr>\n",
       "    <tr>\n",
       "      <th>asin</th>\n",
       "      <th></th>\n",
       "    </tr>\n",
       "  </thead>\n",
       "  <tbody>\n",
       "    <tr>\n",
       "      <th>9742356831</th>\n",
       "      <td>5.000000</td>\n",
       "    </tr>\n",
       "    <tr>\n",
       "      <th>B00005BPQ9</th>\n",
       "      <td>4.666667</td>\n",
       "    </tr>\n",
       "    <tr>\n",
       "      <th>B00006BN4U</th>\n",
       "      <td>4.000000</td>\n",
       "    </tr>\n",
       "    <tr>\n",
       "      <th>B00006IDJU</th>\n",
       "      <td>5.000000</td>\n",
       "    </tr>\n",
       "    <tr>\n",
       "      <th>B00006IDK9</th>\n",
       "      <td>3.500000</td>\n",
       "    </tr>\n",
       "  </tbody>\n",
       "</table>\n",
       "</div>"
      ],
      "text/plain": [
       "             overall\n",
       "asin                \n",
       "9742356831  5.000000\n",
       "B00005BPQ9  4.666667\n",
       "B00006BN4U  4.000000\n",
       "B00006IDJU  5.000000\n",
       "B00006IDK9  3.500000"
      ]
     },
     "execution_count": 45,
     "metadata": {},
     "output_type": "execute_result"
    }
   ],
   "source": [
    "ratings_mean_count.head(5)"
   ]
  },
  {
   "cell_type": "code",
   "execution_count": 46,
   "metadata": {
    "colab": {
     "base_uri": "https://localhost:8080/",
     "height": 234
    },
    "id": "vd8inGaSWeSh",
    "outputId": "9163ecfb-c59b-4184-d0c9-1a4f297ae7b3"
   },
   "outputs": [
    {
     "data": {
      "text/html": [
       "<div>\n",
       "<style scoped>\n",
       "    .dataframe tbody tr th:only-of-type {\n",
       "        vertical-align: middle;\n",
       "    }\n",
       "\n",
       "    .dataframe tbody tr th {\n",
       "        vertical-align: top;\n",
       "    }\n",
       "\n",
       "    .dataframe thead th {\n",
       "        text-align: right;\n",
       "    }\n",
       "</style>\n",
       "<table border=\"1\" class=\"dataframe\">\n",
       "  <thead>\n",
       "    <tr style=\"text-align: right;\">\n",
       "      <th></th>\n",
       "      <th>overall</th>\n",
       "      <th>rating_counts</th>\n",
       "    </tr>\n",
       "    <tr>\n",
       "      <th>asin</th>\n",
       "      <th></th>\n",
       "      <th></th>\n",
       "    </tr>\n",
       "  </thead>\n",
       "  <tbody>\n",
       "    <tr>\n",
       "      <th>9742356831</th>\n",
       "      <td>5.000000</td>\n",
       "      <td>3</td>\n",
       "    </tr>\n",
       "    <tr>\n",
       "      <th>B00005BPQ9</th>\n",
       "      <td>4.666667</td>\n",
       "      <td>3</td>\n",
       "    </tr>\n",
       "    <tr>\n",
       "      <th>B00006BN4U</th>\n",
       "      <td>4.000000</td>\n",
       "      <td>2</td>\n",
       "    </tr>\n",
       "    <tr>\n",
       "      <th>B00006IDJU</th>\n",
       "      <td>5.000000</td>\n",
       "      <td>1</td>\n",
       "    </tr>\n",
       "    <tr>\n",
       "      <th>B00006IDK9</th>\n",
       "      <td>3.500000</td>\n",
       "      <td>2</td>\n",
       "    </tr>\n",
       "  </tbody>\n",
       "</table>\n",
       "</div>"
      ],
      "text/plain": [
       "             overall  rating_counts\n",
       "asin                               \n",
       "9742356831  5.000000              3\n",
       "B00005BPQ9  4.666667              3\n",
       "B00006BN4U  4.000000              2\n",
       "B00006IDJU  5.000000              1\n",
       "B00006IDK9  3.500000              2"
      ]
     },
     "execution_count": 46,
     "metadata": {},
     "output_type": "execute_result"
    }
   ],
   "source": [
    "ratings_mean_count['rating_counts'] = pd.DataFrame(new_df.groupby('asin')['overall'].count())\n",
    "ratings_mean_count.head(5)"
   ]
  },
  {
   "cell_type": "code",
   "execution_count": 47,
   "metadata": {
    "colab": {
     "base_uri": "https://localhost:8080/"
    },
    "id": "8oHoAD5E-bkg",
    "outputId": "c47c72e3-0adc-49c4-adec-da5b26ba1677"
   },
   "outputs": [
    {
     "data": {
      "text/plain": [
       "asin\n",
       "B000U0OUP6    57\n",
       "B00BUKL666    55\n",
       "B000E1FZHS    50\n",
       "B0001LO3FG    46\n",
       "B000F4DKAI    45\n",
       "Name: overall, dtype: int64"
      ]
     },
     "execution_count": 47,
     "metadata": {},
     "output_type": "execute_result"
    }
   ],
   "source": [
    "\n",
    "#Total no of rating for product\n",
    "\n",
    "new_df.groupby('asin')['overall'].count().sort_values(ascending=False).head()"
   ]
  },
  {
   "cell_type": "code",
   "execution_count": 48,
   "metadata": {
    "colab": {
     "base_uri": "https://localhost:8080/"
    },
    "id": "B_dktkgM-boP",
    "outputId": "95961b97-10fa-4ec8-a8d3-f7590427e409"
   },
   "outputs": [
    {
     "data": {
      "text/plain": [
       "57"
      ]
     },
     "execution_count": 48,
     "metadata": {},
     "output_type": "execute_result"
    }
   ],
   "source": [
    "ratings_mean_count['rating_counts'].max()"
   ]
  },
  {
   "cell_type": "code",
   "execution_count": 49,
   "metadata": {
    "colab": {
     "base_uri": "https://localhost:8080/",
     "height": 394
    },
    "id": "DOh0IjPg-igD",
    "outputId": "d5443a1c-ffa8-4c68-f518-7f7096eb6997"
   },
   "outputs": [
    {
     "data": {
      "text/plain": [
       "<matplotlib.axes._subplots.AxesSubplot at 0x7f5d3c6528d0>"
      ]
     },
     "execution_count": 49,
     "metadata": {},
     "output_type": "execute_result"
    },
    {
     "data": {
      "image/png": "[encoded data removed]",
      "text/plain": [
       "<Figure size 576x432 with 1 Axes>"
      ]
     },
     "metadata": {},
     "output_type": "display_data"
    }
   ],
   "source": [
    "#Majority of the products have received 1 rating only and it is a right skewed distribution\n",
    "plt.figure(figsize=(8,6))\n",
    "ratings_mean_count['rating_counts'].hist(bins=100)"
   ]
  },
  {
   "cell_type": "code",
   "execution_count": 50,
   "metadata": {
    "colab": {
     "base_uri": "https://localhost:8080/",
     "height": 470
    },
    "id": "y-Gi9gR0-mMh",
    "outputId": "15692a75-2c72-47d8-88be-34be1ec1989a"
   },
   "outputs": [
    {
     "data": {
      "text/plain": [
       "<seaborn.axisgrid.JointGrid at 0x7f5d3c435bd0>"
      ]
     },
     "execution_count": 50,
     "metadata": {},
     "output_type": "execute_result"
    },
    {
     "data": {
      "text/plain": [
       "<Figure size 576x432 with 0 Axes>"
      ]
     },
     "metadata": {},
     "output_type": "display_data"
    },
    {
     "data": {
      "image/png": "[encoded data removed]",
      "text/plain": [
       "<Figure size 432x432 with 3 Axes>"
      ]
     },
     "metadata": {},
     "output_type": "display_data"
    }
   ],
   "source": [
    "#From the joint plot below it seems that popular products (higher ratings) tend to be rated more frequently\n",
    "plt.figure(figsize=(8,6))\n",
    "plt.rcParams['patch.force_edgecolor'] = True\n",
    "sns.jointplot(x='overall', y='rating_counts', data=ratings_mean_count, alpha=0.4)"
   ]
  },
  {
   "cell_type": "code",
   "execution_count": 51,
   "metadata": {
    "colab": {
     "base_uri": "https://localhost:8080/",
     "height": 234
    },
    "id": "nFhDfQGw-pTg",
    "outputId": "62411191-8a13-4027-ff90-8688eac1ec2a"
   },
   "outputs": [
    {
     "data": {
      "text/html": [
       "<div>\n",
       "<style scoped>\n",
       "    .dataframe tbody tr th:only-of-type {\n",
       "        vertical-align: middle;\n",
       "    }\n",
       "\n",
       "    .dataframe tbody tr th {\n",
       "        vertical-align: top;\n",
       "    }\n",
       "\n",
       "    .dataframe thead th {\n",
       "        text-align: right;\n",
       "    }\n",
       "</style>\n",
       "<table border=\"1\" class=\"dataframe\">\n",
       "  <thead>\n",
       "    <tr style=\"text-align: right;\">\n",
       "      <th></th>\n",
       "      <th>overall</th>\n",
       "      <th>rating_counts</th>\n",
       "    </tr>\n",
       "    <tr>\n",
       "      <th>asin</th>\n",
       "      <th></th>\n",
       "      <th></th>\n",
       "    </tr>\n",
       "  </thead>\n",
       "  <tbody>\n",
       "    <tr>\n",
       "      <th>9742356831</th>\n",
       "      <td>5.000000</td>\n",
       "      <td>3</td>\n",
       "    </tr>\n",
       "    <tr>\n",
       "      <th>B00005BPQ9</th>\n",
       "      <td>4.666667</td>\n",
       "      <td>3</td>\n",
       "    </tr>\n",
       "    <tr>\n",
       "      <th>B00006BN4U</th>\n",
       "      <td>4.000000</td>\n",
       "      <td>2</td>\n",
       "    </tr>\n",
       "    <tr>\n",
       "      <th>B00006IDJU</th>\n",
       "      <td>5.000000</td>\n",
       "      <td>1</td>\n",
       "    </tr>\n",
       "    <tr>\n",
       "      <th>B00006IDK9</th>\n",
       "      <td>3.500000</td>\n",
       "      <td>2</td>\n",
       "    </tr>\n",
       "  </tbody>\n",
       "</table>\n",
       "</div>"
      ],
      "text/plain": [
       "             overall  rating_counts\n",
       "asin                               \n",
       "9742356831  5.000000              3\n",
       "B00005BPQ9  4.666667              3\n",
       "B00006BN4U  4.000000              2\n",
       "B00006IDJU  5.000000              1\n",
       "B00006IDK9  3.500000              2"
      ]
     },
     "execution_count": 51,
     "metadata": {},
     "output_type": "execute_result"
    }
   ],
   "source": [
    "ratings_mean_count['rating_counts'] = pd.DataFrame(new_df.groupby('asin')['overall'].count())\n",
    "ratings_mean_count.head()"
   ]
  },
  {
   "cell_type": "code",
   "execution_count": 52,
   "metadata": {
    "colab": {
     "base_uri": "https://localhost:8080/",
     "height": 394
    },
    "id": "Iknwf7lq-tJA",
    "outputId": "a200ccdf-7b52-4a45-d7e9-505f8bf3619b"
   },
   "outputs": [
    {
     "data": {
      "text/plain": [
       "<matplotlib.axes._subplots.AxesSubplot at 0x7f5d3c20fcd0>"
      ]
     },
     "execution_count": 52,
     "metadata": {},
     "output_type": "execute_result"
    },
    {
     "data": {
      "image/png": "[encoded data removed]",
      "text/plain": [
       "<Figure size 576x432 with 1 Axes>"
      ]
     },
     "metadata": {},
     "output_type": "display_data"
    }
   ],
   "source": [
    "plt.figure(figsize=(8,6))\n",
    "plt.rcParams['patch.force_edgecolor'] = True\n",
    "ratings_mean_count['rating_counts'].hist(bins=50)"
   ]
  },
  {
   "cell_type": "code",
   "execution_count": 53,
   "metadata": {
    "colab": {
     "base_uri": "https://localhost:8080/",
     "height": 371
    },
    "id": "2l7rx5aI-bsB",
    "outputId": "65b2510c-a62a-4065-f919-7292416f5791"
   },
   "outputs": [
    {
     "data": {
      "text/plain": [
       "<matplotlib.axes._subplots.AxesSubplot at 0x7f5d3c30fd90>"
      ]
     },
     "execution_count": 53,
     "metadata": {},
     "output_type": "execute_result"
    },
    {
     "data": {
      "image/png": "[encoded data removed]",
      "text/plain": [
       "<Figure size 432x288 with 1 Axes>"
      ]
     },
     "metadata": {},
     "output_type": "display_data"
    }
   ],
   "source": [
    "#Below is the bar graph showing product list of top 30 most popular products\n",
    "popular_products = pd.DataFrame(new_df.groupby('asin')['overall'].count())\n",
    "most_popular = popular_products.sort_values('overall', ascending=False)\n",
    "most_popular.head(30).plot(kind = \"bar\")"
   ]
  },
  {
   "cell_type": "markdown",
   "metadata": {
    "id": "EdEJFdJyaW7I"
   },
   "source": [
    "## Data Preprocessing"
   ]
  },
  {
   "cell_type": "markdown",
   "metadata": {
    "id": "2ruXvrMoO83b"
   },
   "source": [
    "CREATING SUBSET BY YEAR"
   ]
  },
  {
   "cell_type": "code",
   "execution_count": 28,
   "metadata": {
    "colab": {
     "base_uri": "https://localhost:8080/"
    },
    "id": "Wxw2izVZpf4v",
    "outputId": "952244c7-0a6d-4979-99b5-4db3b337069c"
   },
   "outputs": [
    {
     "data": {
      "text/plain": [
       "2015    5379\n",
       "2016    4952\n",
       "2014    4084\n",
       "2017    3623\n",
       "2013    2420\n",
       "2018    1337\n",
       "2012    1233\n",
       "2011     743\n",
       "2010     500\n",
       "2009     454\n",
       "2008     292\n",
       "2007     159\n",
       "2006      79\n",
       "2005      13\n",
       "2003       1\n",
       "2004       1\n",
       "Name: Year, dtype: int64"
      ]
     },
     "execution_count": 28,
     "metadata": {},
     "output_type": "execute_result"
    }
   ],
   "source": [
    "def year(reviewTime):\n",
    "  year = reviewTime[-4:]\n",
    "  return year\n",
    "new_df['Year'] = new_df['reviewTime'].apply(year)\n",
    "new_df['Year'].value_counts()"
   ]
  },
  {
   "cell_type": "code",
   "execution_count": 29,
   "metadata": {
    "id": "EcNedj8HCFgH"
   },
   "outputs": [],
   "source": [
    "sub_data=deepcopy(new_df)"
   ]
  },
  {
   "cell_type": "code",
   "execution_count": 30,
   "metadata": {
    "id": "S1pS1xbTBjBB"
   },
   "outputs": [],
   "source": [
    "sub_data.drop(sub_data[sub_data['Year']=='2004'].index, inplace=True)\n",
    "sub_data.drop(sub_data[sub_data['Year']=='2005'].index, inplace=True)\n",
    "sub_data.drop(sub_data[sub_data['Year']=='2006'].index, inplace=True)\n",
    "sub_data.drop(sub_data[sub_data['Year']=='2007'].index, inplace=True)\n",
    "sub_data.drop(sub_data[sub_data['Year']=='2008'].index, inplace=True)\n",
    "sub_data.drop(sub_data[sub_data['Year']=='2009'].index, inplace=True)"
   ]
  },
  {
   "cell_type": "code",
   "execution_count": 31,
   "metadata": {
    "colab": {
     "base_uri": "https://localhost:8080/",
     "height": 417
    },
    "id": "NEj8JHSlBM1T",
    "outputId": "1fe40cb1-202e-47b6-e605-35994a414637"
   },
   "outputs": [
    {
     "data": {
      "text/html": [
       "<div>\n",
       "<style scoped>\n",
       "    .dataframe tbody tr th:only-of-type {\n",
       "        vertical-align: middle;\n",
       "    }\n",
       "\n",
       "    .dataframe tbody tr th {\n",
       "        vertical-align: top;\n",
       "    }\n",
       "\n",
       "    .dataframe thead th {\n",
       "        text-align: right;\n",
       "    }\n",
       "</style>\n",
       "<table border=\"1\" class=\"dataframe\">\n",
       "  <thead>\n",
       "    <tr style=\"text-align: right;\">\n",
       "      <th></th>\n",
       "      <th>Unnamed: 0</th>\n",
       "      <th>overall</th>\n",
       "      <th>reviewTime</th>\n",
       "      <th>reviewerID</th>\n",
       "      <th>asin</th>\n",
       "      <th>unixReviewTime</th>\n",
       "      <th>Year</th>\n",
       "    </tr>\n",
       "  </thead>\n",
       "  <tbody>\n",
       "    <tr>\n",
       "      <th>88</th>\n",
       "      <td>2758330</td>\n",
       "      <td>4.0</td>\n",
       "      <td>09 5, 2015</td>\n",
       "      <td>A15VNRVR8YW1VK</td>\n",
       "      <td>B00HJUC8CC</td>\n",
       "      <td>1441411200</td>\n",
       "      <td>2015</td>\n",
       "    </tr>\n",
       "    <tr>\n",
       "      <th>93</th>\n",
       "      <td>3527048</td>\n",
       "      <td>4.0</td>\n",
       "      <td>04 7, 2016</td>\n",
       "      <td>A1B70ZEWQ6UH1A</td>\n",
       "      <td>B014V10S4Q</td>\n",
       "      <td>1459987200</td>\n",
       "      <td>2016</td>\n",
       "    </tr>\n",
       "    <tr>\n",
       "      <th>96</th>\n",
       "      <td>204307</td>\n",
       "      <td>5.0</td>\n",
       "      <td>10 15, 2015</td>\n",
       "      <td>A1V1KX694CFTHO</td>\n",
       "      <td>B000E4ALEW</td>\n",
       "      <td>1444867200</td>\n",
       "      <td>2015</td>\n",
       "    </tr>\n",
       "    <tr>\n",
       "      <th>233</th>\n",
       "      <td>3689368</td>\n",
       "      <td>5.0</td>\n",
       "      <td>07 17, 2016</td>\n",
       "      <td>A3OW12V8O7G5LD</td>\n",
       "      <td>B01CO69SA0</td>\n",
       "      <td>1468713600</td>\n",
       "      <td>2016</td>\n",
       "    </tr>\n",
       "    <tr>\n",
       "      <th>338</th>\n",
       "      <td>2232131</td>\n",
       "      <td>5.0</td>\n",
       "      <td>09 26, 2014</td>\n",
       "      <td>A2SQJPUCZNHMZE</td>\n",
       "      <td>B00AZZX6XI</td>\n",
       "      <td>1411689600</td>\n",
       "      <td>2014</td>\n",
       "    </tr>\n",
       "    <tr>\n",
       "      <th>...</th>\n",
       "      <td>...</td>\n",
       "      <td>...</td>\n",
       "      <td>...</td>\n",
       "      <td>...</td>\n",
       "      <td>...</td>\n",
       "      <td>...</td>\n",
       "      <td>...</td>\n",
       "    </tr>\n",
       "    <tr>\n",
       "      <th>1014571</th>\n",
       "      <td>3085360</td>\n",
       "      <td>4.0</td>\n",
       "      <td>03 12, 2016</td>\n",
       "      <td>A3G7SI5RCNWKZJ</td>\n",
       "      <td>B00N23JPZI</td>\n",
       "      <td>1457740800</td>\n",
       "      <td>2016</td>\n",
       "    </tr>\n",
       "    <tr>\n",
       "      <th>1014586</th>\n",
       "      <td>2305396</td>\n",
       "      <td>5.0</td>\n",
       "      <td>11 4, 2015</td>\n",
       "      <td>A2HEK4JP1XQNH9</td>\n",
       "      <td>B00BU4DQKQ</td>\n",
       "      <td>1446595200</td>\n",
       "      <td>2015</td>\n",
       "    </tr>\n",
       "    <tr>\n",
       "      <th>1014589</th>\n",
       "      <td>2565555</td>\n",
       "      <td>5.0</td>\n",
       "      <td>12 18, 2015</td>\n",
       "      <td>A1N8AT1SQ294K1</td>\n",
       "      <td>B00EKR4BVI</td>\n",
       "      <td>1450396800</td>\n",
       "      <td>2015</td>\n",
       "    </tr>\n",
       "    <tr>\n",
       "      <th>1014647</th>\n",
       "      <td>1572162</td>\n",
       "      <td>2.0</td>\n",
       "      <td>12 29, 2014</td>\n",
       "      <td>AYOMAHLWRQHUG</td>\n",
       "      <td>B004NO7QX8</td>\n",
       "      <td>1419811200</td>\n",
       "      <td>2014</td>\n",
       "    </tr>\n",
       "    <tr>\n",
       "      <th>1014755</th>\n",
       "      <td>4199386</td>\n",
       "      <td>4.0</td>\n",
       "      <td>01 10, 2017</td>\n",
       "      <td>A3SXKZ1Y3SGW3Q</td>\n",
       "      <td>B00519J9GG</td>\n",
       "      <td>1484006400</td>\n",
       "      <td>2017</td>\n",
       "    </tr>\n",
       "  </tbody>\n",
       "</table>\n",
       "<p>24272 rows × 7 columns</p>\n",
       "</div>"
      ],
      "text/plain": [
       "         Unnamed: 0  overall   reviewTime  ...        asin unixReviewTime  Year\n",
       "88          2758330      4.0   09 5, 2015  ...  B00HJUC8CC     1441411200  2015\n",
       "93          3527048      4.0   04 7, 2016  ...  B014V10S4Q     1459987200  2016\n",
       "96           204307      5.0  10 15, 2015  ...  B000E4ALEW     1444867200  2015\n",
       "233         3689368      5.0  07 17, 2016  ...  B01CO69SA0     1468713600  2016\n",
       "338         2232131      5.0  09 26, 2014  ...  B00AZZX6XI     1411689600  2014\n",
       "...             ...      ...          ...  ...         ...            ...   ...\n",
       "1014571     3085360      4.0  03 12, 2016  ...  B00N23JPZI     1457740800  2016\n",
       "1014586     2305396      5.0   11 4, 2015  ...  B00BU4DQKQ     1446595200  2015\n",
       "1014589     2565555      5.0  12 18, 2015  ...  B00EKR4BVI     1450396800  2015\n",
       "1014647     1572162      2.0  12 29, 2014  ...  B004NO7QX8     1419811200  2014\n",
       "1014755     4199386      4.0  01 10, 2017  ...  B00519J9GG     1484006400  2017\n",
       "\n",
       "[24272 rows x 7 columns]"
      ]
     },
     "execution_count": 31,
     "metadata": {},
     "output_type": "execute_result"
    }
   ],
   "source": [
    "sub_data"
   ]
  },
  {
   "cell_type": "code",
   "execution_count": 32,
   "metadata": {
    "colab": {
     "base_uri": "https://localhost:8080/",
     "height": 417
    },
    "id": "orkjimyRtlQl",
    "outputId": "edb89dde-207e-419c-9614-bb4a132f4f23"
   },
   "outputs": [
    {
     "data": {
      "text/html": [
       "<div>\n",
       "<style scoped>\n",
       "    .dataframe tbody tr th:only-of-type {\n",
       "        vertical-align: middle;\n",
       "    }\n",
       "\n",
       "    .dataframe tbody tr th {\n",
       "        vertical-align: top;\n",
       "    }\n",
       "\n",
       "    .dataframe thead th {\n",
       "        text-align: right;\n",
       "    }\n",
       "</style>\n",
       "<table border=\"1\" class=\"dataframe\">\n",
       "  <thead>\n",
       "    <tr style=\"text-align: right;\">\n",
       "      <th></th>\n",
       "      <th>Unnamed: 0</th>\n",
       "      <th>overall</th>\n",
       "      <th>reviewerID</th>\n",
       "      <th>asin</th>\n",
       "      <th>unixReviewTime</th>\n",
       "    </tr>\n",
       "  </thead>\n",
       "  <tbody>\n",
       "    <tr>\n",
       "      <th>88</th>\n",
       "      <td>2758330</td>\n",
       "      <td>4.0</td>\n",
       "      <td>A15VNRVR8YW1VK</td>\n",
       "      <td>B00HJUC8CC</td>\n",
       "      <td>1441411200</td>\n",
       "    </tr>\n",
       "    <tr>\n",
       "      <th>93</th>\n",
       "      <td>3527048</td>\n",
       "      <td>4.0</td>\n",
       "      <td>A1B70ZEWQ6UH1A</td>\n",
       "      <td>B014V10S4Q</td>\n",
       "      <td>1459987200</td>\n",
       "    </tr>\n",
       "    <tr>\n",
       "      <th>96</th>\n",
       "      <td>204307</td>\n",
       "      <td>5.0</td>\n",
       "      <td>A1V1KX694CFTHO</td>\n",
       "      <td>B000E4ALEW</td>\n",
       "      <td>1444867200</td>\n",
       "    </tr>\n",
       "    <tr>\n",
       "      <th>233</th>\n",
       "      <td>3689368</td>\n",
       "      <td>5.0</td>\n",
       "      <td>A3OW12V8O7G5LD</td>\n",
       "      <td>B01CO69SA0</td>\n",
       "      <td>1468713600</td>\n",
       "    </tr>\n",
       "    <tr>\n",
       "      <th>338</th>\n",
       "      <td>2232131</td>\n",
       "      <td>5.0</td>\n",
       "      <td>A2SQJPUCZNHMZE</td>\n",
       "      <td>B00AZZX6XI</td>\n",
       "      <td>1411689600</td>\n",
       "    </tr>\n",
       "    <tr>\n",
       "      <th>...</th>\n",
       "      <td>...</td>\n",
       "      <td>...</td>\n",
       "      <td>...</td>\n",
       "      <td>...</td>\n",
       "      <td>...</td>\n",
       "    </tr>\n",
       "    <tr>\n",
       "      <th>1014571</th>\n",
       "      <td>3085360</td>\n",
       "      <td>4.0</td>\n",
       "      <td>A3G7SI5RCNWKZJ</td>\n",
       "      <td>B00N23JPZI</td>\n",
       "      <td>1457740800</td>\n",
       "    </tr>\n",
       "    <tr>\n",
       "      <th>1014586</th>\n",
       "      <td>2305396</td>\n",
       "      <td>5.0</td>\n",
       "      <td>A2HEK4JP1XQNH9</td>\n",
       "      <td>B00BU4DQKQ</td>\n",
       "      <td>1446595200</td>\n",
       "    </tr>\n",
       "    <tr>\n",
       "      <th>1014589</th>\n",
       "      <td>2565555</td>\n",
       "      <td>5.0</td>\n",
       "      <td>A1N8AT1SQ294K1</td>\n",
       "      <td>B00EKR4BVI</td>\n",
       "      <td>1450396800</td>\n",
       "    </tr>\n",
       "    <tr>\n",
       "      <th>1014647</th>\n",
       "      <td>1572162</td>\n",
       "      <td>2.0</td>\n",
       "      <td>AYOMAHLWRQHUG</td>\n",
       "      <td>B004NO7QX8</td>\n",
       "      <td>1419811200</td>\n",
       "    </tr>\n",
       "    <tr>\n",
       "      <th>1014755</th>\n",
       "      <td>4199386</td>\n",
       "      <td>4.0</td>\n",
       "      <td>A3SXKZ1Y3SGW3Q</td>\n",
       "      <td>B00519J9GG</td>\n",
       "      <td>1484006400</td>\n",
       "    </tr>\n",
       "  </tbody>\n",
       "</table>\n",
       "<p>24272 rows × 5 columns</p>\n",
       "</div>"
      ],
      "text/plain": [
       "         Unnamed: 0  overall      reviewerID        asin  unixReviewTime\n",
       "88          2758330      4.0  A15VNRVR8YW1VK  B00HJUC8CC      1441411200\n",
       "93          3527048      4.0  A1B70ZEWQ6UH1A  B014V10S4Q      1459987200\n",
       "96           204307      5.0  A1V1KX694CFTHO  B000E4ALEW      1444867200\n",
       "233         3689368      5.0  A3OW12V8O7G5LD  B01CO69SA0      1468713600\n",
       "338         2232131      5.0  A2SQJPUCZNHMZE  B00AZZX6XI      1411689600\n",
       "...             ...      ...             ...         ...             ...\n",
       "1014571     3085360      4.0  A3G7SI5RCNWKZJ  B00N23JPZI      1457740800\n",
       "1014586     2305396      5.0  A2HEK4JP1XQNH9  B00BU4DQKQ      1446595200\n",
       "1014589     2565555      5.0  A1N8AT1SQ294K1  B00EKR4BVI      1450396800\n",
       "1014647     1572162      2.0   AYOMAHLWRQHUG  B004NO7QX8      1419811200\n",
       "1014755     4199386      4.0  A3SXKZ1Y3SGW3Q  B00519J9GG      1484006400\n",
       "\n",
       "[24272 rows x 5 columns]"
      ]
     },
     "execution_count": 32,
     "metadata": {},
     "output_type": "execute_result"
    }
   ],
   "source": [
    "ratings = deepcopy(sub_data)\n",
    "ratings.drop(['Year','reviewTime'],axis=1, inplace = True)\n",
    "ratings.fillna(value = 0, inplace = True)\n",
    "ratings.drop_duplicates\n",
    "ratings"
   ]
  },
  {
   "cell_type": "code",
   "execution_count": 33,
   "metadata": {
    "id": "Lz5VvEN7bGMO"
   },
   "outputs": [],
   "source": [
    "from copy import deepcopy\n",
    "meta_copy=deepcopy(df_metadata)"
   ]
  },
  {
   "cell_type": "code",
   "execution_count": 34,
   "metadata": {
    "id": "O4K3F-GFbJwC"
   },
   "outputs": [],
   "source": [
    "meta_copy=meta_copy[['asin','category']]"
   ]
  },
  {
   "cell_type": "code",
   "execution_count": 35,
   "metadata": {
    "colab": {
     "base_uri": "https://localhost:8080/"
    },
    "id": "3XMhvPSLbQNf",
    "outputId": "1d8dd2e8-b67c-4855-e1d2-1548bc803283"
   },
   "outputs": [
    {
     "data": {
      "text/plain": [
       "[['0681727810',\n",
       "  ['Grocery & Gourmet Food', 'Dairy, Cheese & Eggs', 'Cheese', 'Gouda']],\n",
       " ['0853347867',\n",
       "  ['Grocery & Gourmet Food',\n",
       "   'Cooking & Baking',\n",
       "   'Sugar Substitutes',\n",
       "   'Xylitol']],\n",
       " ['1888861118',\n",
       "  ['Grocery & Gourmet Food',\n",
       "   'Cooking & Baking',\n",
       "   'Frosting, Icing & Decorations',\n",
       "   'Cake & Cupcake Toppers',\n",
       "   'Cake Toppers']],\n",
       " ['1888861517',\n",
       "  ['Grocery & Gourmet Food',\n",
       "   'Cooking & Baking',\n",
       "   'Frosting, Icing & Decorations',\n",
       "   'Cake & Cupcake Toppers',\n",
       "   'Cake Toppers']],\n",
       " ['1888861614',\n",
       "  ['Grocery & Gourmet Food',\n",
       "   'Cooking & Baking',\n",
       "   'Frosting, Icing & Decorations',\n",
       "   'Cake & Cupcake Toppers',\n",
       "   'Cake Toppers']],\n",
       " ['1888861533',\n",
       "  ['Grocery & Gourmet Food',\n",
       "   'Cooking & Baking',\n",
       "   'Frosting, Icing & Decorations',\n",
       "   'Cake & Cupcake Toppers',\n",
       "   'Cake Toppers']],\n",
       " ['1888861339',\n",
       "  ['Grocery & Gourmet Food',\n",
       "   'Cooking & Baking',\n",
       "   'Frosting, Icing & Decorations',\n",
       "   'Cake & Cupcake Toppers',\n",
       "   'Cake Toppers']],\n",
       " ['1888861355',\n",
       "  ['Grocery & Gourmet Food',\n",
       "   'Cooking & Baking',\n",
       "   'Frosting, Icing & Decorations',\n",
       "   'Cake & Cupcake Toppers',\n",
       "   'Cake Toppers']],\n",
       " ['188886155X',\n",
       "  ['Grocery & Gourmet Food',\n",
       "   'Cooking & Baking',\n",
       "   'Frosting, Icing & Decorations',\n",
       "   'Cake & Cupcake Toppers',\n",
       "   'Cake Toppers']],\n",
       " ['1888861207',\n",
       "  ['Grocery & Gourmet Food',\n",
       "   'Cooking & Baking',\n",
       "   'Frosting, Icing & Decorations',\n",
       "   'Cake & Cupcake Toppers',\n",
       "   'Cake Toppers']]]"
      ]
     },
     "execution_count": 35,
     "metadata": {},
     "output_type": "execute_result"
    }
   ],
   "source": [
    "meta_list=meta_copy.values.tolist()\n",
    "meta_list[:10]"
   ]
  },
  {
   "cell_type": "code",
   "execution_count": 36,
   "metadata": {
    "colab": {
     "base_uri": "https://localhost:8080/"
    },
    "id": "VDCdRzRUcLGf",
    "outputId": "7c6377a7-d81e-46e6-9b25-b82b6b40bfaf"
   },
   "outputs": [
    {
     "data": {
      "text/plain": [
       "list"
      ]
     },
     "execution_count": 36,
     "metadata": {},
     "output_type": "execute_result"
    }
   ],
   "source": [
    "type(meta_list[1][1])"
   ]
  },
  {
   "cell_type": "code",
   "execution_count": 37,
   "metadata": {
    "colab": {
     "base_uri": "https://localhost:8080/"
    },
    "id": "OSdCBEh4dLeT",
    "outputId": "a9b919e2-77d6-4037-d9ba-7dfd65968865"
   },
   "outputs": [
    {
     "data": {
      "text/plain": [
       "['Grocery & Gourmet Food', 'Cooking & Baking', 'Sugar Substitutes', 'Xylitol']"
      ]
     },
     "execution_count": 37,
     "metadata": {},
     "output_type": "execute_result"
    }
   ],
   "source": [
    "meta_list[1][1]"
   ]
  },
  {
   "cell_type": "code",
   "execution_count": 38,
   "metadata": {
    "id": "YGefCkt0G7oL"
   },
   "outputs": [],
   "source": [
    "category_list=[]\n",
    "for i in range(len(meta_list)):\n",
    "    s=[]\n",
    "    s.append(meta_list[i][0]) \n",
    "    s.append(meta_list[i][1][1])\n",
    "    category_list.append(s)"
   ]
  },
  {
   "cell_type": "code",
   "execution_count": 39,
   "metadata": {
    "id": "Zz5QmCTrbtu_"
   },
   "outputs": [],
   "source": [
    "df_cat_asin=pd.DataFrame(category_list)"
   ]
  },
  {
   "cell_type": "code",
   "execution_count": 40,
   "metadata": {
    "colab": {
     "base_uri": "https://localhost:8080/",
     "height": 417
    },
    "id": "PHbI9sESbxjD",
    "outputId": "5a19e062-86df-4544-d40d-61677681f5a1"
   },
   "outputs": [
    {
     "data": {
      "text/html": [
       "<div>\n",
       "<style scoped>\n",
       "    .dataframe tbody tr th:only-of-type {\n",
       "        vertical-align: middle;\n",
       "    }\n",
       "\n",
       "    .dataframe tbody tr th {\n",
       "        vertical-align: top;\n",
       "    }\n",
       "\n",
       "    .dataframe thead th {\n",
       "        text-align: right;\n",
       "    }\n",
       "</style>\n",
       "<table border=\"1\" class=\"dataframe\">\n",
       "  <thead>\n",
       "    <tr style=\"text-align: right;\">\n",
       "      <th></th>\n",
       "      <th>0</th>\n",
       "      <th>1</th>\n",
       "    </tr>\n",
       "  </thead>\n",
       "  <tbody>\n",
       "    <tr>\n",
       "      <th>0</th>\n",
       "      <td>0681727810</td>\n",
       "      <td>Dairy, Cheese &amp; Eggs</td>\n",
       "    </tr>\n",
       "    <tr>\n",
       "      <th>1</th>\n",
       "      <td>0853347867</td>\n",
       "      <td>Cooking &amp; Baking</td>\n",
       "    </tr>\n",
       "    <tr>\n",
       "      <th>2</th>\n",
       "      <td>1888861118</td>\n",
       "      <td>Cooking &amp; Baking</td>\n",
       "    </tr>\n",
       "    <tr>\n",
       "      <th>3</th>\n",
       "      <td>1888861517</td>\n",
       "      <td>Cooking &amp; Baking</td>\n",
       "    </tr>\n",
       "    <tr>\n",
       "      <th>4</th>\n",
       "      <td>1888861614</td>\n",
       "      <td>Cooking &amp; Baking</td>\n",
       "    </tr>\n",
       "    <tr>\n",
       "      <th>...</th>\n",
       "      <td>...</td>\n",
       "      <td>...</td>\n",
       "    </tr>\n",
       "    <tr>\n",
       "      <th>287046</th>\n",
       "      <td>B01HJFBN9A</td>\n",
       "      <td>Jams, Jellies &amp; Sweet Spreads</td>\n",
       "    </tr>\n",
       "    <tr>\n",
       "      <th>287047</th>\n",
       "      <td>B01HJFC704</td>\n",
       "      <td>Condiments &amp; Salad Dressings</td>\n",
       "    </tr>\n",
       "    <tr>\n",
       "      <th>287048</th>\n",
       "      <td>B01HJF6FRA</td>\n",
       "      <td>Condiments &amp; Salad Dressings</td>\n",
       "    </tr>\n",
       "    <tr>\n",
       "      <th>287049</th>\n",
       "      <td>B01HJHSVG6</td>\n",
       "      <td>Herbs, Spices &amp; Seasonings</td>\n",
       "    </tr>\n",
       "    <tr>\n",
       "      <th>287050</th>\n",
       "      <td>B01HJFRDDA</td>\n",
       "      <td>Beverages</td>\n",
       "    </tr>\n",
       "  </tbody>\n",
       "</table>\n",
       "<p>287051 rows × 2 columns</p>\n",
       "</div>"
      ],
      "text/plain": [
       "                 0                              1\n",
       "0       0681727810           Dairy, Cheese & Eggs\n",
       "1       0853347867               Cooking & Baking\n",
       "2       1888861118               Cooking & Baking\n",
       "3       1888861517               Cooking & Baking\n",
       "4       1888861614               Cooking & Baking\n",
       "...            ...                            ...\n",
       "287046  B01HJFBN9A  Jams, Jellies & Sweet Spreads\n",
       "287047  B01HJFC704   Condiments & Salad Dressings\n",
       "287048  B01HJF6FRA   Condiments & Salad Dressings\n",
       "287049  B01HJHSVG6     Herbs, Spices & Seasonings\n",
       "287050  B01HJFRDDA                      Beverages\n",
       "\n",
       "[287051 rows x 2 columns]"
      ]
     },
     "execution_count": 40,
     "metadata": {},
     "output_type": "execute_result"
    }
   ],
   "source": [
    "df_cat_asin"
   ]
  },
  {
   "cell_type": "code",
   "execution_count": 41,
   "metadata": {
    "id": "cgTm8qNxfDEV"
   },
   "outputs": [],
   "source": [
    "df_cat_asin.rename({0:'asin',1:'category_type'}, axis=1,inplace=True)"
   ]
  },
  {
   "cell_type": "code",
   "execution_count": 42,
   "metadata": {
    "colab": {
     "base_uri": "https://localhost:8080/",
     "height": 203
    },
    "id": "SX_1cxg0fKLZ",
    "outputId": "357cd582-7fd1-46fc-bc2d-ca74cf9ff1a4"
   },
   "outputs": [
    {
     "data": {
      "text/html": [
       "<div>\n",
       "<style scoped>\n",
       "    .dataframe tbody tr th:only-of-type {\n",
       "        vertical-align: middle;\n",
       "    }\n",
       "\n",
       "    .dataframe tbody tr th {\n",
       "        vertical-align: top;\n",
       "    }\n",
       "\n",
       "    .dataframe thead th {\n",
       "        text-align: right;\n",
       "    }\n",
       "</style>\n",
       "<table border=\"1\" class=\"dataframe\">\n",
       "  <thead>\n",
       "    <tr style=\"text-align: right;\">\n",
       "      <th></th>\n",
       "      <th>asin</th>\n",
       "      <th>category_type</th>\n",
       "    </tr>\n",
       "  </thead>\n",
       "  <tbody>\n",
       "    <tr>\n",
       "      <th>0</th>\n",
       "      <td>0681727810</td>\n",
       "      <td>Dairy, Cheese &amp; Eggs</td>\n",
       "    </tr>\n",
       "    <tr>\n",
       "      <th>1</th>\n",
       "      <td>0853347867</td>\n",
       "      <td>Cooking &amp; Baking</td>\n",
       "    </tr>\n",
       "    <tr>\n",
       "      <th>2</th>\n",
       "      <td>1888861118</td>\n",
       "      <td>Cooking &amp; Baking</td>\n",
       "    </tr>\n",
       "    <tr>\n",
       "      <th>3</th>\n",
       "      <td>1888861517</td>\n",
       "      <td>Cooking &amp; Baking</td>\n",
       "    </tr>\n",
       "    <tr>\n",
       "      <th>4</th>\n",
       "      <td>1888861614</td>\n",
       "      <td>Cooking &amp; Baking</td>\n",
       "    </tr>\n",
       "  </tbody>\n",
       "</table>\n",
       "</div>"
      ],
      "text/plain": [
       "         asin         category_type\n",
       "0  0681727810  Dairy, Cheese & Eggs\n",
       "1  0853347867      Cooking & Baking\n",
       "2  1888861118      Cooking & Baking\n",
       "3  1888861517      Cooking & Baking\n",
       "4  1888861614      Cooking & Baking"
      ]
     },
     "execution_count": 42,
     "metadata": {},
     "output_type": "execute_result"
    }
   ],
   "source": [
    "df_cat_asin.head(5)"
   ]
  },
  {
   "cell_type": "code",
   "execution_count": 43,
   "metadata": {
    "colab": {
     "base_uri": "https://localhost:8080/",
     "height": 363
    },
    "id": "3wLoy141fN7A",
    "outputId": "144861a3-8c3a-437a-d797-1573479192d1"
   },
   "outputs": [
    {
     "data": {
      "text/html": [
       "<div>\n",
       "<style scoped>\n",
       "    .dataframe tbody tr th:only-of-type {\n",
       "        vertical-align: middle;\n",
       "    }\n",
       "\n",
       "    .dataframe tbody tr th {\n",
       "        vertical-align: top;\n",
       "    }\n",
       "\n",
       "    .dataframe thead th {\n",
       "        text-align: right;\n",
       "    }\n",
       "</style>\n",
       "<table border=\"1\" class=\"dataframe\">\n",
       "  <thead>\n",
       "    <tr style=\"text-align: right;\">\n",
       "      <th></th>\n",
       "      <th>Unnamed: 0</th>\n",
       "      <th>overall</th>\n",
       "      <th>verified</th>\n",
       "      <th>reviewTime</th>\n",
       "      <th>reviewerID</th>\n",
       "      <th>asin</th>\n",
       "      <th>reviewerName</th>\n",
       "      <th>reviewText</th>\n",
       "      <th>summary</th>\n",
       "      <th>unixReviewTime</th>\n",
       "      <th>vote</th>\n",
       "      <th>image</th>\n",
       "      <th>style</th>\n",
       "      <th>category_type</th>\n",
       "    </tr>\n",
       "  </thead>\n",
       "  <tbody>\n",
       "    <tr>\n",
       "      <th>0</th>\n",
       "      <td>2029665</td>\n",
       "      <td>3.0</td>\n",
       "      <td>True</td>\n",
       "      <td>03 25, 2014</td>\n",
       "      <td>A17GONA7VU3OVP</td>\n",
       "      <td>B007SM6NWC</td>\n",
       "      <td>Dennis P Harper</td>\n",
       "      <td>I like the taste, texture, and idea of this fl...</td>\n",
       "      <td>Good but pricey</td>\n",
       "      <td>1395705600</td>\n",
       "      <td>NaN</td>\n",
       "      <td>NaN</td>\n",
       "      <td>NaN</td>\n",
       "      <td>Cooking &amp; Baking</td>\n",
       "    </tr>\n",
       "    <tr>\n",
       "      <th>1</th>\n",
       "      <td>2029514</td>\n",
       "      <td>5.0</td>\n",
       "      <td>True</td>\n",
       "      <td>05 6, 2016</td>\n",
       "      <td>A3JX7Z431AZ40S</td>\n",
       "      <td>B007SM6NWC</td>\n",
       "      <td>Danielle R.</td>\n",
       "      <td>love it</td>\n",
       "      <td>Five Stars</td>\n",
       "      <td>1462492800</td>\n",
       "      <td>NaN</td>\n",
       "      <td>NaN</td>\n",
       "      <td>NaN</td>\n",
       "      <td>Cooking &amp; Baking</td>\n",
       "    </tr>\n",
       "    <tr>\n",
       "      <th>2</th>\n",
       "      <td>2029491</td>\n",
       "      <td>4.0</td>\n",
       "      <td>True</td>\n",
       "      <td>09 12, 2016</td>\n",
       "      <td>AI9R0YEDPSWPL</td>\n",
       "      <td>B007SM6NWC</td>\n",
       "      <td>Adele</td>\n",
       "      <td>So far just made banana chocolate chip bread a...</td>\n",
       "      <td>Tasted good and texture was good too</td>\n",
       "      <td>1473638400</td>\n",
       "      <td>NaN</td>\n",
       "      <td>NaN</td>\n",
       "      <td>NaN</td>\n",
       "      <td>Cooking &amp; Baking</td>\n",
       "    </tr>\n",
       "  </tbody>\n",
       "</table>\n",
       "</div>"
      ],
      "text/plain": [
       "   Unnamed: 0  overall  verified  ... image style     category_type\n",
       "0     2029665      3.0      True  ...   NaN   NaN  Cooking & Baking\n",
       "1     2029514      5.0      True  ...   NaN   NaN  Cooking & Baking\n",
       "2     2029491      4.0      True  ...   NaN   NaN  Cooking & Baking\n",
       "\n",
       "[3 rows x 14 columns]"
      ]
     },
     "execution_count": 43,
     "metadata": {},
     "output_type": "execute_result"
    }
   ],
   "source": [
    "df_inner = pd.merge(df1,df_cat_asin, on='asin', how='inner')\n",
    "\n",
    "df_inner.head(3)"
   ]
  },
  {
   "cell_type": "code",
   "execution_count": 44,
   "metadata": {
    "colab": {
     "base_uri": "https://localhost:8080/"
    },
    "id": "BG4seiAafRrQ",
    "outputId": "b4e3f0de-629f-4487-a282-ffd9547fc604"
   },
   "outputs": [
    {
     "data": {
      "text/plain": [
       "Beverages                             308197\n",
       "Cooking & Baking                      190114\n",
       "Candy & Chocolate                     127721\n",
       "Snack Foods                           106325\n",
       "Herbs, Spices & Seasonings             67248\n",
       "Breakfast Foods                        34324\n",
       "Canned, Jarred & Packaged Foods        27222\n",
       "Sauces, Gravies & Marinades            26156\n",
       "Food & Beverage Gifts                  20687\n",
       "Jams, Jellies & Sweet Spreads          17927\n",
       "Produce                                17045\n",
       "Soups, Stocks & Broths                 14815\n",
       "Dairy, Cheese & Eggs                   11091\n",
       "Condiments & Salad Dressings           11009\n",
       "Dried Beans, Grains & Rice             10661\n",
       "Fresh Flowers & Live Indoor Plants     10378\n",
       "Breads & Bakery                         9057\n",
       "Pasta & Noodles                         8520\n",
       "Meat & Seafood                          6270\n",
       "Olives, Pickles & Relishes              4296\n",
       "Frozen                                  3390\n",
       "Prepared Foods                          1149\n",
       "Meat Substitutes                         796\n",
       "Deli                                     515\n",
       "Alcoholic Beverages                      160\n",
       "Fresh Meal Kits                           23\n",
       "Name: category_type, dtype: int64"
      ]
     },
     "execution_count": 44,
     "metadata": {},
     "output_type": "execute_result"
    }
   ],
   "source": [
    "df_inner['category_type'].value_counts()"
   ]
  },
  {
   "cell_type": "code",
   "execution_count": 45,
   "metadata": {
    "id": "nPdX1X33fXpr"
   },
   "outputs": [],
   "source": [
    "prod1 = deepcopy(df_inner)\n",
    "prod2 = prod1[['asin', 'category_type']]"
   ]
  },
  {
   "cell_type": "code",
   "execution_count": 46,
   "metadata": {
    "colab": {
     "base_uri": "https://localhost:8080/",
     "height": 417
    },
    "id": "YwLcfvK-PbLS",
    "outputId": "64efcd40-8129-4a5a-af23-2aca7d7929cf"
   },
   "outputs": [
    {
     "data": {
      "text/html": [
       "<div>\n",
       "<style scoped>\n",
       "    .dataframe tbody tr th:only-of-type {\n",
       "        vertical-align: middle;\n",
       "    }\n",
       "\n",
       "    .dataframe tbody tr th {\n",
       "        vertical-align: top;\n",
       "    }\n",
       "\n",
       "    .dataframe thead th {\n",
       "        text-align: right;\n",
       "    }\n",
       "</style>\n",
       "<table border=\"1\" class=\"dataframe\">\n",
       "  <thead>\n",
       "    <tr style=\"text-align: right;\">\n",
       "      <th></th>\n",
       "      <th>asin</th>\n",
       "      <th>category_type</th>\n",
       "    </tr>\n",
       "  </thead>\n",
       "  <tbody>\n",
       "    <tr>\n",
       "      <th>0</th>\n",
       "      <td>B007SM6NWC</td>\n",
       "      <td>Cooking &amp; Baking</td>\n",
       "    </tr>\n",
       "    <tr>\n",
       "      <th>1</th>\n",
       "      <td>B007SM6NWC</td>\n",
       "      <td>Cooking &amp; Baking</td>\n",
       "    </tr>\n",
       "    <tr>\n",
       "      <th>2</th>\n",
       "      <td>B007SM6NWC</td>\n",
       "      <td>Cooking &amp; Baking</td>\n",
       "    </tr>\n",
       "    <tr>\n",
       "      <th>3</th>\n",
       "      <td>B007SM6NWC</td>\n",
       "      <td>Cooking &amp; Baking</td>\n",
       "    </tr>\n",
       "    <tr>\n",
       "      <th>4</th>\n",
       "      <td>B007SM6NWC</td>\n",
       "      <td>Cooking &amp; Baking</td>\n",
       "    </tr>\n",
       "    <tr>\n",
       "      <th>...</th>\n",
       "      <td>...</td>\n",
       "      <td>...</td>\n",
       "    </tr>\n",
       "    <tr>\n",
       "      <th>1035091</th>\n",
       "      <td>B00HZ0OOM8</td>\n",
       "      <td>Cooking &amp; Baking</td>\n",
       "    </tr>\n",
       "    <tr>\n",
       "      <th>1035092</th>\n",
       "      <td>B002WDNFEQ</td>\n",
       "      <td>Snack Foods</td>\n",
       "    </tr>\n",
       "    <tr>\n",
       "      <th>1035093</th>\n",
       "      <td>B00BX6GICO</td>\n",
       "      <td>Beverages</td>\n",
       "    </tr>\n",
       "    <tr>\n",
       "      <th>1035094</th>\n",
       "      <td>B00R584U8S</td>\n",
       "      <td>Frozen</td>\n",
       "    </tr>\n",
       "    <tr>\n",
       "      <th>1035095</th>\n",
       "      <td>B000I028DY</td>\n",
       "      <td>Snack Foods</td>\n",
       "    </tr>\n",
       "  </tbody>\n",
       "</table>\n",
       "<p>1035096 rows × 2 columns</p>\n",
       "</div>"
      ],
      "text/plain": [
       "               asin     category_type\n",
       "0        B007SM6NWC  Cooking & Baking\n",
       "1        B007SM6NWC  Cooking & Baking\n",
       "2        B007SM6NWC  Cooking & Baking\n",
       "3        B007SM6NWC  Cooking & Baking\n",
       "4        B007SM6NWC  Cooking & Baking\n",
       "...             ...               ...\n",
       "1035091  B00HZ0OOM8  Cooking & Baking\n",
       "1035092  B002WDNFEQ       Snack Foods\n",
       "1035093  B00BX6GICO         Beverages\n",
       "1035094  B00R584U8S            Frozen\n",
       "1035095  B000I028DY       Snack Foods\n",
       "\n",
       "[1035096 rows x 2 columns]"
      ]
     },
     "execution_count": 46,
     "metadata": {},
     "output_type": "execute_result"
    }
   ],
   "source": [
    "prod2"
   ]
  },
  {
   "cell_type": "markdown",
   "metadata": {
    "id": "NuQyRK5Ha0IP"
   },
   "source": [
    "## Approach - 1\n",
    "```\n",
    "Applying ALS method on the data straight forward\n",
    "```"
   ]
  },
  {
   "cell_type": "markdown",
   "metadata": {
    "id": "wQQdn596Vvdc"
   },
   "source": [
    "Stratified Train Test"
   ]
  },
  {
   "cell_type": "code",
   "execution_count": 47,
   "metadata": {
    "id": "eu8LXAKiK3hs"
   },
   "outputs": [],
   "source": [
    "data = spark.createDataFrame(ratings[['reviewerID', 'asin', 'overall']])\n",
    "indexer = [StringIndexer(inputCol = column, outputCol = column+\"index\") for column in ['asin','reviewerID']]\n",
    "pipeline = Pipeline(stages=indexer)\n",
    "data = pipeline.fit(data).transform(data)"
   ]
  },
  {
   "cell_type": "code",
   "execution_count": 48,
   "metadata": {
    "id": "gTVv4FKkK3zQ"
   },
   "outputs": [],
   "source": [
    "transformed_train = data.sampleBy(\"overall\", fractions={1: 0.7, 2: 0.7, 3: 0.7,4: 0.7,5: 0.7}, seed=10)\n",
    "transformed_test = data.subtract(transformed_train)"
   ]
  },
  {
   "cell_type": "code",
   "execution_count": 49,
   "metadata": {
    "id": "VvWA743rLGEb"
   },
   "outputs": [],
   "source": [
    "transformed_train = transformed_train.withColumnRenamed('overall','label')"
   ]
  },
  {
   "cell_type": "code",
   "execution_count": 50,
   "metadata": {
    "id": "r9Dy7Z8OLQoH"
   },
   "outputs": [],
   "source": [
    "transformed_test = transformed_test.withColumnRenamed('overall','truelabel')"
   ]
  },
  {
   "cell_type": "code",
   "execution_count": 52,
   "metadata": {
    "id": "8ZBEC2cXLgdx"
   },
   "outputs": [],
   "source": [
    "als = ALS(maxIter = 20, regParam = 0.05 ,userCol = 'reviewerIDindex', itemCol = 'asinindex', ratingCol = 'label', coldStartStrategy='drop', nonnegative=True)\n",
    "model = als.fit(transformed_train)"
   ]
  },
  {
   "cell_type": "code",
   "execution_count": 53,
   "metadata": {
    "id": "eGBcHVtDLk5h"
   },
   "outputs": [],
   "source": [
    "prediction = model.transform(transformed_test)"
   ]
  },
  {
   "cell_type": "code",
   "execution_count": 54,
   "metadata": {
    "colab": {
     "base_uri": "https://localhost:8080/"
    },
    "id": "EVTw4N3SVjpl",
    "outputId": "a59073ea-6dd4-4698-8a8c-0735cd0e4ca5"
   },
   "outputs": [
    {
     "name": "stdout",
     "output_type": "stream",
     "text": [
      "+--------------+----------+---------+---------+---------------+----------+\n",
      "|reviewerID    |asin      |truelabel|asinindex|reviewerIDindex|prediction|\n",
      "+--------------+----------+---------+---------+---------------+----------+\n",
      "|ANTWFVZZKSBSF |B003XUJ564|2.0      |148.0    |502.0          |3.3268466 |\n",
      "|A3HUK2D3SNXHMR|B003XUJ564|2.0      |148.0    |1386.0         |3.7745779 |\n",
      "|A2582KMXLK2P06|B000NBWO1E|5.0      |463.0    |127.0          |3.8706758 |\n",
      "|A397CWU6DM3O5G|B000NBWO1E|5.0      |463.0    |717.0          |4.111083  |\n",
      "|A37CENQP0ZNKVE|B000NBWO1E|5.0      |463.0    |42.0           |4.91519   |\n",
      "+--------------+----------+---------+---------+---------------+----------+\n",
      "only showing top 5 rows\n",
      "\n"
     ]
    }
   ],
   "source": [
    "prediction.show(n=5, truncate = False)"
   ]
  },
  {
   "cell_type": "code",
   "execution_count": 55,
   "metadata": {
    "colab": {
     "base_uri": "https://localhost:8080/"
    },
    "id": "hkXhNuDXMtqV",
    "outputId": "c232b7a9-bc8f-420c-e7ad-970c1c895a46"
   },
   "outputs": [
    {
     "name": "stdout",
     "output_type": "stream",
     "text": [
      "Root Mean Square Error(RMSE): 1.5873728393542315\n"
     ]
    }
   ],
   "source": [
    "evaluator = RegressionEvaluator(labelCol='truelabel',predictionCol='prediction', metricName='rmse')\n",
    "rmse = evaluator.evaluate(prediction)\n",
    "print(\"Root Mean Square Error(RMSE):\", rmse)"
   ]
  },
  {
   "cell_type": "markdown",
   "metadata": {
    "id": "Tst4o9X4bRQP"
   },
   "source": [
    "## Approach - 2\n",
    "```\n",
    "Applying ALS Model on Over Sampled Data\n",
    "```"
   ]
  },
  {
   "cell_type": "markdown",
   "metadata": {
    "id": "YrMsbCyMVORV"
   },
   "source": [
    "Creating Over Sampled Data"
   ]
  },
  {
   "cell_type": "code",
   "execution_count": 56,
   "metadata": {
    "id": "y1i5I7dkNM6i"
   },
   "outputs": [],
   "source": [
    "from sklearn.model_selection import StratifiedShuffleSplit\n",
    "from sklearn.model_selection import train_test_split \n",
    "\n",
    "ratings=deepcopy(sub_data)\n",
    "\n",
    "#ratings,rat = train_test_split(ratings1, test_size=0.5, stratify=ratings['overall'])"
   ]
  },
  {
   "cell_type": "code",
   "execution_count": 57,
   "metadata": {
    "colab": {
     "base_uri": "https://localhost:8080/",
     "height": 417
    },
    "id": "XmK4Ak_BTrKq",
    "outputId": "1305a68f-50f2-48ca-e27c-9696fdf68e4c"
   },
   "outputs": [
    {
     "data": {
      "text/html": [
       "<div>\n",
       "<style scoped>\n",
       "    .dataframe tbody tr th:only-of-type {\n",
       "        vertical-align: middle;\n",
       "    }\n",
       "\n",
       "    .dataframe tbody tr th {\n",
       "        vertical-align: top;\n",
       "    }\n",
       "\n",
       "    .dataframe thead th {\n",
       "        text-align: right;\n",
       "    }\n",
       "</style>\n",
       "<table border=\"1\" class=\"dataframe\">\n",
       "  <thead>\n",
       "    <tr style=\"text-align: right;\">\n",
       "      <th></th>\n",
       "      <th>Unnamed: 0</th>\n",
       "      <th>overall</th>\n",
       "      <th>reviewTime</th>\n",
       "      <th>reviewerID</th>\n",
       "      <th>asin</th>\n",
       "      <th>unixReviewTime</th>\n",
       "      <th>Year</th>\n",
       "    </tr>\n",
       "  </thead>\n",
       "  <tbody>\n",
       "    <tr>\n",
       "      <th>88</th>\n",
       "      <td>2758330</td>\n",
       "      <td>4.0</td>\n",
       "      <td>09 5, 2015</td>\n",
       "      <td>A15VNRVR8YW1VK</td>\n",
       "      <td>B00HJUC8CC</td>\n",
       "      <td>1441411200</td>\n",
       "      <td>2015</td>\n",
       "    </tr>\n",
       "    <tr>\n",
       "      <th>93</th>\n",
       "      <td>3527048</td>\n",
       "      <td>4.0</td>\n",
       "      <td>04 7, 2016</td>\n",
       "      <td>A1B70ZEWQ6UH1A</td>\n",
       "      <td>B014V10S4Q</td>\n",
       "      <td>1459987200</td>\n",
       "      <td>2016</td>\n",
       "    </tr>\n",
       "    <tr>\n",
       "      <th>96</th>\n",
       "      <td>204307</td>\n",
       "      <td>5.0</td>\n",
       "      <td>10 15, 2015</td>\n",
       "      <td>A1V1KX694CFTHO</td>\n",
       "      <td>B000E4ALEW</td>\n",
       "      <td>1444867200</td>\n",
       "      <td>2015</td>\n",
       "    </tr>\n",
       "    <tr>\n",
       "      <th>233</th>\n",
       "      <td>3689368</td>\n",
       "      <td>5.0</td>\n",
       "      <td>07 17, 2016</td>\n",
       "      <td>A3OW12V8O7G5LD</td>\n",
       "      <td>B01CO69SA0</td>\n",
       "      <td>1468713600</td>\n",
       "      <td>2016</td>\n",
       "    </tr>\n",
       "    <tr>\n",
       "      <th>338</th>\n",
       "      <td>2232131</td>\n",
       "      <td>5.0</td>\n",
       "      <td>09 26, 2014</td>\n",
       "      <td>A2SQJPUCZNHMZE</td>\n",
       "      <td>B00AZZX6XI</td>\n",
       "      <td>1411689600</td>\n",
       "      <td>2014</td>\n",
       "    </tr>\n",
       "    <tr>\n",
       "      <th>...</th>\n",
       "      <td>...</td>\n",
       "      <td>...</td>\n",
       "      <td>...</td>\n",
       "      <td>...</td>\n",
       "      <td>...</td>\n",
       "      <td>...</td>\n",
       "      <td>...</td>\n",
       "    </tr>\n",
       "    <tr>\n",
       "      <th>1014571</th>\n",
       "      <td>3085360</td>\n",
       "      <td>4.0</td>\n",
       "      <td>03 12, 2016</td>\n",
       "      <td>A3G7SI5RCNWKZJ</td>\n",
       "      <td>B00N23JPZI</td>\n",
       "      <td>1457740800</td>\n",
       "      <td>2016</td>\n",
       "    </tr>\n",
       "    <tr>\n",
       "      <th>1014586</th>\n",
       "      <td>2305396</td>\n",
       "      <td>5.0</td>\n",
       "      <td>11 4, 2015</td>\n",
       "      <td>A2HEK4JP1XQNH9</td>\n",
       "      <td>B00BU4DQKQ</td>\n",
       "      <td>1446595200</td>\n",
       "      <td>2015</td>\n",
       "    </tr>\n",
       "    <tr>\n",
       "      <th>1014589</th>\n",
       "      <td>2565555</td>\n",
       "      <td>5.0</td>\n",
       "      <td>12 18, 2015</td>\n",
       "      <td>A1N8AT1SQ294K1</td>\n",
       "      <td>B00EKR4BVI</td>\n",
       "      <td>1450396800</td>\n",
       "      <td>2015</td>\n",
       "    </tr>\n",
       "    <tr>\n",
       "      <th>1014647</th>\n",
       "      <td>1572162</td>\n",
       "      <td>2.0</td>\n",
       "      <td>12 29, 2014</td>\n",
       "      <td>AYOMAHLWRQHUG</td>\n",
       "      <td>B004NO7QX8</td>\n",
       "      <td>1419811200</td>\n",
       "      <td>2014</td>\n",
       "    </tr>\n",
       "    <tr>\n",
       "      <th>1014755</th>\n",
       "      <td>4199386</td>\n",
       "      <td>4.0</td>\n",
       "      <td>01 10, 2017</td>\n",
       "      <td>A3SXKZ1Y3SGW3Q</td>\n",
       "      <td>B00519J9GG</td>\n",
       "      <td>1484006400</td>\n",
       "      <td>2017</td>\n",
       "    </tr>\n",
       "  </tbody>\n",
       "</table>\n",
       "<p>24272 rows × 7 columns</p>\n",
       "</div>"
      ],
      "text/plain": [
       "         Unnamed: 0  overall   reviewTime  ...        asin unixReviewTime  Year\n",
       "88          2758330      4.0   09 5, 2015  ...  B00HJUC8CC     1441411200  2015\n",
       "93          3527048      4.0   04 7, 2016  ...  B014V10S4Q     1459987200  2016\n",
       "96           204307      5.0  10 15, 2015  ...  B000E4ALEW     1444867200  2015\n",
       "233         3689368      5.0  07 17, 2016  ...  B01CO69SA0     1468713600  2016\n",
       "338         2232131      5.0  09 26, 2014  ...  B00AZZX6XI     1411689600  2014\n",
       "...             ...      ...          ...  ...         ...            ...   ...\n",
       "1014571     3085360      4.0  03 12, 2016  ...  B00N23JPZI     1457740800  2016\n",
       "1014586     2305396      5.0   11 4, 2015  ...  B00BU4DQKQ     1446595200  2015\n",
       "1014589     2565555      5.0  12 18, 2015  ...  B00EKR4BVI     1450396800  2015\n",
       "1014647     1572162      2.0  12 29, 2014  ...  B004NO7QX8     1419811200  2014\n",
       "1014755     4199386      4.0  01 10, 2017  ...  B00519J9GG     1484006400  2017\n",
       "\n",
       "[24272 rows x 7 columns]"
      ]
     },
     "execution_count": 57,
     "metadata": {},
     "output_type": "execute_result"
    }
   ],
   "source": [
    "sub_data"
   ]
  },
  {
   "cell_type": "code",
   "execution_count": 58,
   "metadata": {
    "id": "8-896pEZMt43"
   },
   "outputs": [],
   "source": [
    "ratings = pd.DataFrame(ratings)\n",
    "overall_group= ratings.groupby('overall')\n",
    "rating_5= overall_group.get_group(5.0)\n",
    "count_five = len(rating_5)\n",
    "def oversampling(subset):\n",
    "    count = len(subset)\n",
    "    n=int(count_five/count)\n",
    "    return (n)"
   ]
  },
  {
   "cell_type": "code",
   "execution_count": 59,
   "metadata": {
    "id": "TMUX3XW7Mt8V"
   },
   "outputs": [],
   "source": [
    "n1 = overall_group.get_group(1.0)\n",
    "one_rating = overall_group.get_group(1.0)\n",
    "rat_1= pd.concat([one_rating]*oversampling(one_rating),ignore_index=True)\n",
    "\n",
    "n2 = overall_group.get_group(1.0)\n",
    "two_rating = overall_group.get_group(2.0)\n",
    "rat_2= pd.concat([two_rating]*oversampling(two_rating),ignore_index=True)\n",
    "\n",
    "n3 = overall_group.get_group(1.0)\n",
    "three_rating = overall_group.get_group(3.0)\n",
    "rat_3= pd.concat([three_rating]*oversampling(three_rating),ignore_index=True)\n",
    "\n",
    "n4 = overall_group.get_group(1.0)\n",
    "four_rating = overall_group.get_group(4.0)\n",
    "rat_4= pd.concat([four_rating]*oversampling(four_rating),ignore_index=True)\n",
    "\n",
    "rat_5=rating_5"
   ]
  },
  {
   "cell_type": "code",
   "execution_count": 60,
   "metadata": {
    "colab": {
     "base_uri": "https://localhost:8080/",
     "height": 417
    },
    "id": "jrhsTho_Mt_w",
    "outputId": "7411211a-e2e3-48b9-c2a7-89602d4daa3b"
   },
   "outputs": [
    {
     "data": {
      "text/html": [
       "<div>\n",
       "<style scoped>\n",
       "    .dataframe tbody tr th:only-of-type {\n",
       "        vertical-align: middle;\n",
       "    }\n",
       "\n",
       "    .dataframe tbody tr th {\n",
       "        vertical-align: top;\n",
       "    }\n",
       "\n",
       "    .dataframe thead th {\n",
       "        text-align: right;\n",
       "    }\n",
       "</style>\n",
       "<table border=\"1\" class=\"dataframe\">\n",
       "  <thead>\n",
       "    <tr style=\"text-align: right;\">\n",
       "      <th></th>\n",
       "      <th>Unnamed: 0</th>\n",
       "      <th>overall</th>\n",
       "      <th>reviewTime</th>\n",
       "      <th>reviewerID</th>\n",
       "      <th>asin</th>\n",
       "      <th>unixReviewTime</th>\n",
       "      <th>Year</th>\n",
       "    </tr>\n",
       "  </thead>\n",
       "  <tbody>\n",
       "    <tr>\n",
       "      <th>12227</th>\n",
       "      <td>3478719</td>\n",
       "      <td>1.0</td>\n",
       "      <td>03 17, 2017</td>\n",
       "      <td>A1POGQGNJ31Y7A</td>\n",
       "      <td>B0123QWXO4</td>\n",
       "      <td>1489708800</td>\n",
       "      <td>2017</td>\n",
       "    </tr>\n",
       "    <tr>\n",
       "      <th>12770</th>\n",
       "      <td>1401437</td>\n",
       "      <td>3.0</td>\n",
       "      <td>01 10, 2018</td>\n",
       "      <td>A34SPFZIHHN907</td>\n",
       "      <td>B003UY9FYA</td>\n",
       "      <td>1515542400</td>\n",
       "      <td>2018</td>\n",
       "    </tr>\n",
       "    <tr>\n",
       "      <th>12967</th>\n",
       "      <td>4287702</td>\n",
       "      <td>1.0</td>\n",
       "      <td>11 18, 2013</td>\n",
       "      <td>A24TCT2CY6KY68</td>\n",
       "      <td>B006V2IT4K</td>\n",
       "      <td>1384732800</td>\n",
       "      <td>2013</td>\n",
       "    </tr>\n",
       "    <tr>\n",
       "      <th>463478</th>\n",
       "      <td>2450296</td>\n",
       "      <td>5.0</td>\n",
       "      <td>02 1, 2016</td>\n",
       "      <td>AN0N05A9LIJEQ</td>\n",
       "      <td>B00DBWU2WU</td>\n",
       "      <td>1454284800</td>\n",
       "      <td>2016</td>\n",
       "    </tr>\n",
       "    <tr>\n",
       "      <th>5853</th>\n",
       "      <td>752382</td>\n",
       "      <td>4.0</td>\n",
       "      <td>06 4, 2015</td>\n",
       "      <td>A15WDJOU6B9FLQ</td>\n",
       "      <td>B000WV0RW8</td>\n",
       "      <td>1433376000</td>\n",
       "      <td>2015</td>\n",
       "    </tr>\n",
       "    <tr>\n",
       "      <th>...</th>\n",
       "      <td>...</td>\n",
       "      <td>...</td>\n",
       "      <td>...</td>\n",
       "      <td>...</td>\n",
       "      <td>...</td>\n",
       "      <td>...</td>\n",
       "      <td>...</td>\n",
       "    </tr>\n",
       "    <tr>\n",
       "      <th>8250</th>\n",
       "      <td>2180708</td>\n",
       "      <td>3.0</td>\n",
       "      <td>09 2, 2014</td>\n",
       "      <td>AG45E4H4MVWOB</td>\n",
       "      <td>B00AACN2NU</td>\n",
       "      <td>1409616000</td>\n",
       "      <td>2014</td>\n",
       "    </tr>\n",
       "    <tr>\n",
       "      <th>398586</th>\n",
       "      <td>117858</td>\n",
       "      <td>5.0</td>\n",
       "      <td>12 28, 2015</td>\n",
       "      <td>A2SQX1JEILPH9I</td>\n",
       "      <td>B00099XK6I</td>\n",
       "      <td>1451260800</td>\n",
       "      <td>2015</td>\n",
       "    </tr>\n",
       "    <tr>\n",
       "      <th>9998</th>\n",
       "      <td>2060034</td>\n",
       "      <td>2.0</td>\n",
       "      <td>05 28, 2015</td>\n",
       "      <td>A1GQAKL9CGQLP1</td>\n",
       "      <td>B008CFOACO</td>\n",
       "      <td>1432771200</td>\n",
       "      <td>2015</td>\n",
       "    </tr>\n",
       "    <tr>\n",
       "      <th>54042</th>\n",
       "      <td>736546</td>\n",
       "      <td>5.0</td>\n",
       "      <td>04 9, 2015</td>\n",
       "      <td>A26K3T6L5NYO7L</td>\n",
       "      <td>B000W7PUL0</td>\n",
       "      <td>1428537600</td>\n",
       "      <td>2015</td>\n",
       "    </tr>\n",
       "    <tr>\n",
       "      <th>986456</th>\n",
       "      <td>3895754</td>\n",
       "      <td>5.0</td>\n",
       "      <td>04 13, 2018</td>\n",
       "      <td>A2XJXPYLCQ6TMS</td>\n",
       "      <td>B000LKXFMO</td>\n",
       "      <td>1523577600</td>\n",
       "      <td>2018</td>\n",
       "    </tr>\n",
       "  </tbody>\n",
       "</table>\n",
       "<p>76432 rows × 7 columns</p>\n",
       "</div>"
      ],
      "text/plain": [
       "        Unnamed: 0  overall   reviewTime  ...        asin unixReviewTime  Year\n",
       "12227      3478719      1.0  03 17, 2017  ...  B0123QWXO4     1489708800  2017\n",
       "12770      1401437      3.0  01 10, 2018  ...  B003UY9FYA     1515542400  2018\n",
       "12967      4287702      1.0  11 18, 2013  ...  B006V2IT4K     1384732800  2013\n",
       "463478     2450296      5.0   02 1, 2016  ...  B00DBWU2WU     1454284800  2016\n",
       "5853        752382      4.0   06 4, 2015  ...  B000WV0RW8     1433376000  2015\n",
       "...            ...      ...          ...  ...         ...            ...   ...\n",
       "8250       2180708      3.0   09 2, 2014  ...  B00AACN2NU     1409616000  2014\n",
       "398586      117858      5.0  12 28, 2015  ...  B00099XK6I     1451260800  2015\n",
       "9998       2060034      2.0  05 28, 2015  ...  B008CFOACO     1432771200  2015\n",
       "54042       736546      5.0   04 9, 2015  ...  B000W7PUL0     1428537600  2015\n",
       "986456     3895754      5.0  04 13, 2018  ...  B000LKXFMO     1523577600  2018\n",
       "\n",
       "[76432 rows x 7 columns]"
      ]
     },
     "execution_count": 60,
     "metadata": {},
     "output_type": "execute_result"
    }
   ],
   "source": [
    "oversampled_data= pd.concat([rat_5,rat_4,rat_3,rat_2,rat_1])\n",
    "oversampled_data= oversampled_data.sample(frac=1,random_state=42)\n",
    "oversampled_data"
   ]
  },
  {
   "cell_type": "markdown",
   "metadata": {
    "id": "n9P8vg73dLmR"
   },
   "source": [
    "### Train Test Split"
   ]
  },
  {
   "cell_type": "code",
   "execution_count": 62,
   "metadata": {
    "id": "O19-7vKlNrN4"
   },
   "outputs": [],
   "source": [
    "ratings=deepcopy(oversampled_data)"
   ]
  },
  {
   "cell_type": "code",
   "execution_count": 63,
   "metadata": {
    "id": "iMpwf8JsNvq9"
   },
   "outputs": [],
   "source": [
    "data = spark.createDataFrame(ratings[['reviewerID', 'asin', 'overall']])\n",
    "indexer = [StringIndexer(inputCol = column, outputCol = column+\"index\") for column in ['asin','reviewerID']]\n",
    "pipeline = Pipeline(stages=indexer)\n",
    "data = pipeline.fit(data).transform(data)"
   ]
  },
  {
   "cell_type": "code",
   "execution_count": 64,
   "metadata": {
    "id": "SgomCQuiN04Y"
   },
   "outputs": [],
   "source": [
    "transformed_train = data.sampleBy(\"overall\", fractions={1: 0.7, 2: 0.7, 3: 0.7,4: 0.7,5: 0.7}, seed=10)\n",
    "transformed_test = data.subtract(transformed_train)"
   ]
  },
  {
   "cell_type": "code",
   "execution_count": 65,
   "metadata": {
    "id": "ee7UmVoGN-5r"
   },
   "outputs": [],
   "source": [
    "transformed_train = transformed_train.withColumnRenamed('overall','label')\n",
    "transformed_test = transformed_test.withColumnRenamed('overall','truelabel')"
   ]
  },
  {
   "cell_type": "code",
   "execution_count": null,
   "metadata": {
    "id": "4ShaYh0JOWxX"
   },
   "outputs": [],
   "source": [
    "als = ALS(maxIter = 20, regParam = 0.05 ,userCol = 'reviewerIDindex', itemCol = 'asinindex', ratingCol = 'label', coldStartStrategy='drop', nonnegative=True)\n",
    "model = als.fit(transformed_train)"
   ]
  },
  {
   "cell_type": "code",
   "execution_count": null,
   "metadata": {
    "id": "c5ImR9gzOK9Y"
   },
   "outputs": [],
   "source": [
    "prediction = model.transform(transformed_test)"
   ]
  },
  {
   "cell_type": "code",
   "execution_count": 109,
   "metadata": {
    "colab": {
     "base_uri": "https://localhost:8080/"
    },
    "id": "hNIDHWEmOdTD",
    "outputId": "46ca3c58-bc98-48cd-d715-bf2465dab8cb"
   },
   "outputs": [
    {
     "name": "stdout",
     "output_type": "stream",
     "text": [
      "Root Mean Square Error(RMSE): 1.908255712609219\n"
     ]
    }
   ],
   "source": [
    "evaluator = RegressionEvaluator(labelCol='truelabel',predictionCol='prediction', metricName='rmse')\n",
    "rmse = evaluator.evaluate(prediction)\n",
    "print(\"Root Mean Square Error(RMSE):\", rmse)"
   ]
  },
  {
   "cell_type": "markdown",
   "metadata": {
    "id": "NhIrKH_iXr_K"
   },
   "source": [
    "avoid oversampling"
   ]
  },
  {
   "cell_type": "code",
   "execution_count": 67,
   "metadata": {
    "colab": {
     "base_uri": "https://localhost:8080/",
     "height": 417
    },
    "id": "gCXLJjIlXq93",
    "outputId": "8bcad1c6-876f-46d4-b541-74f881785233"
   },
   "outputs": [
    {
     "data": {
      "text/html": [
       "<div>\n",
       "<style scoped>\n",
       "    .dataframe tbody tr th:only-of-type {\n",
       "        vertical-align: middle;\n",
       "    }\n",
       "\n",
       "    .dataframe tbody tr th {\n",
       "        vertical-align: top;\n",
       "    }\n",
       "\n",
       "    .dataframe thead th {\n",
       "        text-align: right;\n",
       "    }\n",
       "</style>\n",
       "<table border=\"1\" class=\"dataframe\">\n",
       "  <thead>\n",
       "    <tr style=\"text-align: right;\">\n",
       "      <th></th>\n",
       "      <th>Unnamed: 0</th>\n",
       "      <th>overall</th>\n",
       "      <th>reviewerID</th>\n",
       "      <th>asin</th>\n",
       "      <th>unixReviewTime</th>\n",
       "    </tr>\n",
       "  </thead>\n",
       "  <tbody>\n",
       "    <tr>\n",
       "      <th>88</th>\n",
       "      <td>2758330</td>\n",
       "      <td>4.0</td>\n",
       "      <td>A15VNRVR8YW1VK</td>\n",
       "      <td>B00HJUC8CC</td>\n",
       "      <td>1441411200</td>\n",
       "    </tr>\n",
       "    <tr>\n",
       "      <th>93</th>\n",
       "      <td>3527048</td>\n",
       "      <td>4.0</td>\n",
       "      <td>A1B70ZEWQ6UH1A</td>\n",
       "      <td>B014V10S4Q</td>\n",
       "      <td>1459987200</td>\n",
       "    </tr>\n",
       "    <tr>\n",
       "      <th>96</th>\n",
       "      <td>204307</td>\n",
       "      <td>5.0</td>\n",
       "      <td>A1V1KX694CFTHO</td>\n",
       "      <td>B000E4ALEW</td>\n",
       "      <td>1444867200</td>\n",
       "    </tr>\n",
       "    <tr>\n",
       "      <th>233</th>\n",
       "      <td>3689368</td>\n",
       "      <td>5.0</td>\n",
       "      <td>A3OW12V8O7G5LD</td>\n",
       "      <td>B01CO69SA0</td>\n",
       "      <td>1468713600</td>\n",
       "    </tr>\n",
       "    <tr>\n",
       "      <th>338</th>\n",
       "      <td>2232131</td>\n",
       "      <td>5.0</td>\n",
       "      <td>A2SQJPUCZNHMZE</td>\n",
       "      <td>B00AZZX6XI</td>\n",
       "      <td>1411689600</td>\n",
       "    </tr>\n",
       "    <tr>\n",
       "      <th>...</th>\n",
       "      <td>...</td>\n",
       "      <td>...</td>\n",
       "      <td>...</td>\n",
       "      <td>...</td>\n",
       "      <td>...</td>\n",
       "    </tr>\n",
       "    <tr>\n",
       "      <th>1014571</th>\n",
       "      <td>3085360</td>\n",
       "      <td>4.0</td>\n",
       "      <td>A3G7SI5RCNWKZJ</td>\n",
       "      <td>B00N23JPZI</td>\n",
       "      <td>1457740800</td>\n",
       "    </tr>\n",
       "    <tr>\n",
       "      <th>1014586</th>\n",
       "      <td>2305396</td>\n",
       "      <td>5.0</td>\n",
       "      <td>A2HEK4JP1XQNH9</td>\n",
       "      <td>B00BU4DQKQ</td>\n",
       "      <td>1446595200</td>\n",
       "    </tr>\n",
       "    <tr>\n",
       "      <th>1014589</th>\n",
       "      <td>2565555</td>\n",
       "      <td>5.0</td>\n",
       "      <td>A1N8AT1SQ294K1</td>\n",
       "      <td>B00EKR4BVI</td>\n",
       "      <td>1450396800</td>\n",
       "    </tr>\n",
       "    <tr>\n",
       "      <th>1014647</th>\n",
       "      <td>1572162</td>\n",
       "      <td>2.0</td>\n",
       "      <td>AYOMAHLWRQHUG</td>\n",
       "      <td>B004NO7QX8</td>\n",
       "      <td>1419811200</td>\n",
       "    </tr>\n",
       "    <tr>\n",
       "      <th>1014755</th>\n",
       "      <td>4199386</td>\n",
       "      <td>4.0</td>\n",
       "      <td>A3SXKZ1Y3SGW3Q</td>\n",
       "      <td>B00519J9GG</td>\n",
       "      <td>1484006400</td>\n",
       "    </tr>\n",
       "  </tbody>\n",
       "</table>\n",
       "<p>24272 rows × 5 columns</p>\n",
       "</div>"
      ],
      "text/plain": [
       "         Unnamed: 0  overall      reviewerID        asin  unixReviewTime\n",
       "88          2758330      4.0  A15VNRVR8YW1VK  B00HJUC8CC      1441411200\n",
       "93          3527048      4.0  A1B70ZEWQ6UH1A  B014V10S4Q      1459987200\n",
       "96           204307      5.0  A1V1KX694CFTHO  B000E4ALEW      1444867200\n",
       "233         3689368      5.0  A3OW12V8O7G5LD  B01CO69SA0      1468713600\n",
       "338         2232131      5.0  A2SQJPUCZNHMZE  B00AZZX6XI      1411689600\n",
       "...             ...      ...             ...         ...             ...\n",
       "1014571     3085360      4.0  A3G7SI5RCNWKZJ  B00N23JPZI      1457740800\n",
       "1014586     2305396      5.0  A2HEK4JP1XQNH9  B00BU4DQKQ      1446595200\n",
       "1014589     2565555      5.0  A1N8AT1SQ294K1  B00EKR4BVI      1450396800\n",
       "1014647     1572162      2.0   AYOMAHLWRQHUG  B004NO7QX8      1419811200\n",
       "1014755     4199386      4.0  A3SXKZ1Y3SGW3Q  B00519J9GG      1484006400\n",
       "\n",
       "[24272 rows x 5 columns]"
      ]
     },
     "execution_count": 67,
     "metadata": {},
     "output_type": "execute_result"
    }
   ],
   "source": [
    "ratings=deepcopy(sub_data)\n",
    "ratings.drop(['Year','reviewTime'],axis=1, inplace = True)\n",
    "ratings.fillna(value = 0, inplace = True)\n",
    "ratings.drop_duplicates\n",
    "ratings"
   ]
  },
  {
   "cell_type": "markdown",
   "metadata": {
    "id": "KyTjySzXddwg"
   },
   "source": [
    "## Approach - 3\n",
    "```\n",
    "ALS model on Automated Optimized Data\n",
    "```"
   ]
  },
  {
   "cell_type": "markdown",
   "metadata": {
    "id": "lEBubtBBXjCm"
   },
   "source": [
    "### Creating Automated **Optimized** Data"
   ]
  },
  {
   "cell_type": "code",
   "execution_count": 68,
   "metadata": {
    "colab": {
     "base_uri": "https://localhost:8080/"
    },
    "id": "VXvZsqUfXTpu",
    "outputId": "0e6c285e-a7c0-44e4-a850-29a24f81abc6"
   },
   "outputs": [
    {
     "name": "stdout",
     "output_type": "stream",
     "text": [
      "Root Mean Square Error(RMSE): 2.004764528925947\n",
      "Root Mean Square Error(RMSE): 2.0268036899107393\n",
      "Root Mean Square Error(RMSE): 1.8594468548891996\n",
      "Root Mean Square Error(RMSE): 1.9130573103543491\n",
      "Root Mean Square Error(RMSE): 1.8614357423280103\n",
      "Root Mean Square Error(RMSE): 1.9008475590497014\n",
      "Root Mean Square Error(RMSE): 1.901240878229996\n",
      "Root Mean Square Error(RMSE): 1.9341790089650124\n",
      "Root Mean Square Error(RMSE): 1.8661657334242754\n",
      "Root Mean Square Error(RMSE): 1.8586453802692442\n",
      "Root Mean Square Error(RMSE): 1.7660518856558705\n",
      "Root Mean Square Error(RMSE): 1.7966960758319381\n",
      "Root Mean Square Error(RMSE): 1.7734000749236873\n",
      "Root Mean Square Error(RMSE): 1.7926734961598412\n",
      "Root Mean Square Error(RMSE): 1.8035891242119635\n",
      "Root Mean Square Error(RMSE): 1.81610968484654\n",
      "Root Mean Square Error(RMSE): 1.8120079895152805\n",
      "Root Mean Square Error(RMSE): 1.793707890570515\n",
      "Root Mean Square Error(RMSE): 1.740046311996973\n",
      "Root Mean Square Error(RMSE): 1.7646730691437007\n",
      "Root Mean Square Error(RMSE): 1.7499662749407991\n",
      "Root Mean Square Error(RMSE): 1.76418845037365\n",
      "Root Mean Square Error(RMSE): 1.7802789077945744\n",
      "Root Mean Square Error(RMSE): 1.7861849279469653\n"
     ]
    }
   ],
   "source": [
    "# Tuning the parameters to find the minimum RMSE value by optimizing iterations and regular parameters\n",
    "Score=[]\n",
    "maxIter=[5,10,15]\n",
    "regParam=[0.10,0.20,0.30,0.40]\n",
    "rank=[5,10]\n",
    "for j in maxIter:\n",
    "    for i in regParam:\n",
    "        for k in rank:\n",
    "        \n",
    "            als = ALS(rank=k, maxIter = j, regParam = i, userCol = 'reviewerIDindex', itemCol = 'asinindex', ratingCol = 'label', coldStartStrategy='drop', nonnegative=True)\n",
    "            model = als.fit(transformed_train)\n",
    "            prediction = model.transform(transformed_test)\n",
    "            #prediction.show(n=5, truncate = False)\n",
    "\n",
    "            evaluator = RegressionEvaluator(labelCol='truelabel',predictionCol='prediction', metricName='rmse')\n",
    "            rmse = evaluator.evaluate(prediction)\n",
    "            print(\"Root Mean Square Error(RMSE):\", rmse)\n",
    "            l=[]\n",
    "            l.append(j)\n",
    "            l.append(i)\n",
    "            l.append(rmse)\n",
    "            l.append(k)\n",
    "            Score.append(l)"
   ]
  },
  {
   "cell_type": "code",
   "execution_count": 69,
   "metadata": {
    "id": "xFCkZtAsY7Al"
   },
   "outputs": [],
   "source": [
    "score=[]\n",
    "for i in range(len(Score)):\n",
    "    score.append(Score[i][2])\n",
    "\n",
    "min_Score=min(score)\n",
    "for i in range(len(Score)):\n",
    "    if Score[i][2]==min_Score:\n",
    "        iter=Score[i][0]\n",
    "        para=Score[i][1]\n",
    "        rank=Score[i][3]\n",
    "r=rank"
   ]
  },
  {
   "cell_type": "markdown",
   "metadata": {
    "id": "aXnRbq-3Y84S"
   },
   "source": [
    "User based recommendation"
   ]
  },
  {
   "cell_type": "code",
   "execution_count": 70,
   "metadata": {
    "id": "jaTs3-l1Y1_N"
   },
   "outputs": [],
   "source": [
    "def reco_user(id):\n",
    "    temp_df = prediction.filter(prediction[\"reviewerID\"] == id)\n",
    "    temp_df = temp_df.sort(\"prediction\", ascending=False)\n",
    "    temp_df.show(n= 5, truncate = False)"
   ]
  },
  {
   "cell_type": "code",
   "execution_count": 84,
   "metadata": {
    "colab": {
     "base_uri": "https://localhost:8080/"
    },
    "id": "a3m7qy70ZIF8",
    "outputId": "f02a7c1b-d843-41aa-d009-a2357c0d4261"
   },
   "outputs": [
    {
     "name": "stdout",
     "output_type": "stream",
     "text": [
      "+--------------+----------+---------+---------+---------------+----------+\n",
      "|reviewerID    |asin      |truelabel|asinindex|reviewerIDindex|prediction|\n",
      "+--------------+----------+---------+---------+---------------+----------+\n",
      "|A3HUK2D3SNXHMR|B000I6JPQQ|5.0      |5085.0   |765.0          |3.374506  |\n",
      "|A3HUK2D3SNXHMR|B003DNL9PQ|5.0      |206.0    |765.0          |2.798688  |\n",
      "+--------------+----------+---------+---------+---------------+----------+\n",
      "\n"
     ]
    }
   ],
   "source": [
    "reco_user(\"A3HUK2D3SNXHMR\")"
   ]
  },
  {
   "cell_type": "markdown",
   "metadata": {
    "id": "X8W3IhaIaYsF"
   },
   "source": [
    "Prediction"
   ]
  },
  {
   "cell_type": "code",
   "execution_count": 72,
   "metadata": {
    "id": "SO6hJY-NaUA_"
   },
   "outputs": [],
   "source": [
    "from pyspark.sql import SparkSession\n",
    "#Create PySpark SparkSession\n",
    "spark = SparkSession.builder.getOrCreate()\n",
    "sparkDF=spark.createDataFrame(prod.astype(str))"
   ]
  },
  {
   "cell_type": "code",
   "execution_count": 73,
   "metadata": {
    "id": "PJ7xPzbyaeAq"
   },
   "outputs": [],
   "source": [
    "jdf = prediction.join(sparkDF,prediction[\"asin\"] ==  sparkDF[\"asin\"],\"inner\")"
   ]
  },
  {
   "cell_type": "code",
   "execution_count": 74,
   "metadata": {
    "colab": {
     "base_uri": "https://localhost:8080/"
    },
    "id": "VR9Ctcicaima",
    "outputId": "9aaafcf6-0602-4e9b-b32f-546571a3483a"
   },
   "outputs": [
    {
     "name": "stdout",
     "output_type": "stream",
     "text": [
      "+--------------+----------+---------+---------+---------------+----------+----------+----------------------------------------------------------------------------------------+------------------------------------------------------------------------------------------------+\n",
      "|reviewerID    |asin      |truelabel|asinindex|reviewerIDindex|prediction|asin      |title                                                                                   |category                                                                                        |\n",
      "+--------------+----------+---------+---------+---------------+----------+----------+----------------------------------------------------------------------------------------+------------------------------------------------------------------------------------------------+\n",
      "|A2UEZIWTVVY2HP|B000DZE0XK|5.0      |3527.0   |731.0          |4.2733727 |B000DZE0XK|Ghirardelli Chocolate Sweet Ground Chocolate &amp; Cocoa Beverage Mix, 48-Ounce Canister|['Grocery & Gourmet Food', 'Cooking & Baking', 'Baking Chocolates, Carob & Cocoa', 'Chocolates']|\n",
      "|A167LI5AE1K00H|B000DZE0XK|5.0      |3527.0   |1135.0         |4.6384263 |B000DZE0XK|Ghirardelli Chocolate Sweet Ground Chocolate &amp; Cocoa Beverage Mix, 48-Ounce Canister|['Grocery & Gourmet Food', 'Cooking & Baking', 'Baking Chocolates, Carob & Cocoa', 'Chocolates']|\n",
      "|A1P2MBX0ZX715B|B000DZE0XK|5.0      |3527.0   |556.0          |3.5796058 |B000DZE0XK|Ghirardelli Chocolate Sweet Ground Chocolate &amp; Cocoa Beverage Mix, 48-Ounce Canister|['Grocery & Gourmet Food', 'Cooking & Baking', 'Baking Chocolates, Carob & Cocoa', 'Chocolates']|\n",
      "|A1JZFGZEZVWQPY|B000DZE0XK|5.0      |3527.0   |40.0           |4.3159037 |B000DZE0XK|Ghirardelli Chocolate Sweet Ground Chocolate &amp; Cocoa Beverage Mix, 48-Ounce Canister|['Grocery & Gourmet Food', 'Cooking & Baking', 'Baking Chocolates, Carob & Cocoa', 'Chocolates']|\n",
      "|A2V5R832QCSOMX|B000WLHOQK|5.0      |4105.0   |1327.0         |4.8062825 |B000WLHOQK|Bob's Red Mill Spelt Flour, 24 oz                                                       |['Grocery & Gourmet Food', 'Cooking & Baking', 'Flours & Meals', 'Wheat Flours & Meals']        |\n",
      "+--------------+----------+---------+---------+---------------+----------+----------+----------------------------------------------------------------------------------------+------------------------------------------------------------------------------------------------+\n",
      "only showing top 5 rows\n",
      "\n"
     ]
    }
   ],
   "source": [
    "jdf.show(n=5,truncate=False)"
   ]
  },
  {
   "cell_type": "markdown",
   "metadata": {
    "id": "l3oLgyyygBzf"
   },
   "source": [
    "Recommendation  - category wise"
   ]
  },
  {
   "cell_type": "code",
   "execution_count": 75,
   "metadata": {
    "id": "ctfHpcZWhI6J"
   },
   "outputs": [],
   "source": [
    "from pyspark.sql import SparkSession\n",
    "#Create PySpark SparkSession\n",
    "spark = SparkSession.builder.getOrCreate()\n",
    "sparkDF=spark.createDataFrame(prod2.astype(str))"
   ]
  },
  {
   "cell_type": "code",
   "execution_count": 76,
   "metadata": {
    "id": "mA0ZhRa_hKHR"
   },
   "outputs": [],
   "source": [
    "jdf2 = prediction.join(sparkDF,prediction[\"asin\"] ==  sparkDF[\"asin\"],\"inner\")"
   ]
  },
  {
   "cell_type": "code",
   "execution_count": 77,
   "metadata": {
    "colab": {
     "base_uri": "https://localhost:8080/",
     "height": 417
    },
    "id": "cGWaDVkPhN5P",
    "outputId": "a46d85b0-643e-4f61-f08a-f981a921938c"
   },
   "outputs": [
    {
     "data": {
      "text/html": [
       "<div>\n",
       "<style scoped>\n",
       "    .dataframe tbody tr th:only-of-type {\n",
       "        vertical-align: middle;\n",
       "    }\n",
       "\n",
       "    .dataframe tbody tr th {\n",
       "        vertical-align: top;\n",
       "    }\n",
       "\n",
       "    .dataframe thead th {\n",
       "        text-align: right;\n",
       "    }\n",
       "</style>\n",
       "<table border=\"1\" class=\"dataframe\">\n",
       "  <thead>\n",
       "    <tr style=\"text-align: right;\">\n",
       "      <th></th>\n",
       "      <th>overall</th>\n",
       "      <th>reviewerID</th>\n",
       "      <th>asin</th>\n",
       "      <th>category_type</th>\n",
       "    </tr>\n",
       "  </thead>\n",
       "  <tbody>\n",
       "    <tr>\n",
       "      <th>0</th>\n",
       "      <td>3.0</td>\n",
       "      <td>A17GONA7VU3OVP</td>\n",
       "      <td>B007SM6NWC</td>\n",
       "      <td>Cooking &amp; Baking</td>\n",
       "    </tr>\n",
       "    <tr>\n",
       "      <th>1</th>\n",
       "      <td>5.0</td>\n",
       "      <td>A3JX7Z431AZ40S</td>\n",
       "      <td>B007SM6NWC</td>\n",
       "      <td>Cooking &amp; Baking</td>\n",
       "    </tr>\n",
       "    <tr>\n",
       "      <th>2</th>\n",
       "      <td>4.0</td>\n",
       "      <td>AI9R0YEDPSWPL</td>\n",
       "      <td>B007SM6NWC</td>\n",
       "      <td>Cooking &amp; Baking</td>\n",
       "    </tr>\n",
       "    <tr>\n",
       "      <th>3</th>\n",
       "      <td>3.0</td>\n",
       "      <td>A1ELP3Q80YMORU</td>\n",
       "      <td>B007SM6NWC</td>\n",
       "      <td>Cooking &amp; Baking</td>\n",
       "    </tr>\n",
       "    <tr>\n",
       "      <th>4</th>\n",
       "      <td>3.0</td>\n",
       "      <td>A2H396PEC4IKSG</td>\n",
       "      <td>B007SM6NWC</td>\n",
       "      <td>Cooking &amp; Baking</td>\n",
       "    </tr>\n",
       "    <tr>\n",
       "      <th>...</th>\n",
       "      <td>...</td>\n",
       "      <td>...</td>\n",
       "      <td>...</td>\n",
       "      <td>...</td>\n",
       "    </tr>\n",
       "    <tr>\n",
       "      <th>1035091</th>\n",
       "      <td>5.0</td>\n",
       "      <td>A38UW285ITWHDS</td>\n",
       "      <td>B00HZ0OOM8</td>\n",
       "      <td>Cooking &amp; Baking</td>\n",
       "    </tr>\n",
       "    <tr>\n",
       "      <th>1035092</th>\n",
       "      <td>4.0</td>\n",
       "      <td>AMVJELF5LH5K6</td>\n",
       "      <td>B002WDNFEQ</td>\n",
       "      <td>Snack Foods</td>\n",
       "    </tr>\n",
       "    <tr>\n",
       "      <th>1035093</th>\n",
       "      <td>5.0</td>\n",
       "      <td>A1RWYA52UUOCC0</td>\n",
       "      <td>B00BX6GICO</td>\n",
       "      <td>Beverages</td>\n",
       "    </tr>\n",
       "    <tr>\n",
       "      <th>1035094</th>\n",
       "      <td>3.0</td>\n",
       "      <td>A4HM7O5F684WC</td>\n",
       "      <td>B00R584U8S</td>\n",
       "      <td>Frozen</td>\n",
       "    </tr>\n",
       "    <tr>\n",
       "      <th>1035095</th>\n",
       "      <td>3.0</td>\n",
       "      <td>A2MJ9OX8071S0B</td>\n",
       "      <td>B000I028DY</td>\n",
       "      <td>Snack Foods</td>\n",
       "    </tr>\n",
       "  </tbody>\n",
       "</table>\n",
       "<p>1035096 rows × 4 columns</p>\n",
       "</div>"
      ],
      "text/plain": [
       "         overall      reviewerID        asin     category_type\n",
       "0            3.0  A17GONA7VU3OVP  B007SM6NWC  Cooking & Baking\n",
       "1            5.0  A3JX7Z431AZ40S  B007SM6NWC  Cooking & Baking\n",
       "2            4.0   AI9R0YEDPSWPL  B007SM6NWC  Cooking & Baking\n",
       "3            3.0  A1ELP3Q80YMORU  B007SM6NWC  Cooking & Baking\n",
       "4            3.0  A2H396PEC4IKSG  B007SM6NWC  Cooking & Baking\n",
       "...          ...             ...         ...               ...\n",
       "1035091      5.0  A38UW285ITWHDS  B00HZ0OOM8  Cooking & Baking\n",
       "1035092      4.0   AMVJELF5LH5K6  B002WDNFEQ       Snack Foods\n",
       "1035093      5.0  A1RWYA52UUOCC0  B00BX6GICO         Beverages\n",
       "1035094      3.0   A4HM7O5F684WC  B00R584U8S            Frozen\n",
       "1035095      3.0  A2MJ9OX8071S0B  B000I028DY       Snack Foods\n",
       "\n",
       "[1035096 rows x 4 columns]"
      ]
     },
     "execution_count": 77,
     "metadata": {},
     "output_type": "execute_result"
    }
   ],
   "source": [
    "ratings2 = deepcopy(df_inner)\n",
    "ratings2.drop(['Unnamed: 0', 'verified', 'reviewTime', \n",
    "       'reviewerName', 'reviewText', 'summary', 'unixReviewTime', 'vote',\n",
    "       'image', 'style'],axis=1, inplace = True)\n",
    "ratings2.fillna(value = 0, inplace = True)\n",
    "ratings2.drop_duplicates\n",
    "ratings2"
   ]
  },
  {
   "cell_type": "code",
   "execution_count": 78,
   "metadata": {
    "id": "Dm8cyXj2i0gY"
   },
   "outputs": [],
   "source": [
    "l=df_inner['category_type'].unique()\n",
    "#l"
   ]
  },
  {
   "cell_type": "code",
   "execution_count": 79,
   "metadata": {
    "colab": {
     "base_uri": "https://localhost:8080/",
     "height": 417
    },
    "id": "poGiVH3yjQzl",
    "outputId": "78ee7bbb-cdb9-4863-fe4a-fe8393ec8751"
   },
   "outputs": [
    {
     "data": {
      "text/html": [
       "<div>\n",
       "<style scoped>\n",
       "    .dataframe tbody tr th:only-of-type {\n",
       "        vertical-align: middle;\n",
       "    }\n",
       "\n",
       "    .dataframe tbody tr th {\n",
       "        vertical-align: top;\n",
       "    }\n",
       "\n",
       "    .dataframe thead th {\n",
       "        text-align: right;\n",
       "    }\n",
       "</style>\n",
       "<table border=\"1\" class=\"dataframe\">\n",
       "  <thead>\n",
       "    <tr style=\"text-align: right;\">\n",
       "      <th></th>\n",
       "      <th>overall</th>\n",
       "      <th>reviewerID</th>\n",
       "      <th>asin</th>\n",
       "      <th>category_type</th>\n",
       "    </tr>\n",
       "  </thead>\n",
       "  <tbody>\n",
       "    <tr>\n",
       "      <th>0</th>\n",
       "      <td>3.0</td>\n",
       "      <td>A17GONA7VU3OVP</td>\n",
       "      <td>B007SM6NWC</td>\n",
       "      <td>Cooking &amp; Baking</td>\n",
       "    </tr>\n",
       "    <tr>\n",
       "      <th>1</th>\n",
       "      <td>5.0</td>\n",
       "      <td>A3JX7Z431AZ40S</td>\n",
       "      <td>B007SM6NWC</td>\n",
       "      <td>Cooking &amp; Baking</td>\n",
       "    </tr>\n",
       "    <tr>\n",
       "      <th>2</th>\n",
       "      <td>4.0</td>\n",
       "      <td>AI9R0YEDPSWPL</td>\n",
       "      <td>B007SM6NWC</td>\n",
       "      <td>Cooking &amp; Baking</td>\n",
       "    </tr>\n",
       "    <tr>\n",
       "      <th>3</th>\n",
       "      <td>3.0</td>\n",
       "      <td>A1ELP3Q80YMORU</td>\n",
       "      <td>B007SM6NWC</td>\n",
       "      <td>Cooking &amp; Baking</td>\n",
       "    </tr>\n",
       "    <tr>\n",
       "      <th>4</th>\n",
       "      <td>3.0</td>\n",
       "      <td>A2H396PEC4IKSG</td>\n",
       "      <td>B007SM6NWC</td>\n",
       "      <td>Cooking &amp; Baking</td>\n",
       "    </tr>\n",
       "    <tr>\n",
       "      <th>...</th>\n",
       "      <td>...</td>\n",
       "      <td>...</td>\n",
       "      <td>...</td>\n",
       "      <td>...</td>\n",
       "    </tr>\n",
       "    <tr>\n",
       "      <th>1035061</th>\n",
       "      <td>3.0</td>\n",
       "      <td>A3DXU35JMQENO8</td>\n",
       "      <td>B007JVI60Y</td>\n",
       "      <td>Cooking &amp; Baking</td>\n",
       "    </tr>\n",
       "    <tr>\n",
       "      <th>1035069</th>\n",
       "      <td>4.0</td>\n",
       "      <td>A36A27I11T5U49</td>\n",
       "      <td>B00DPUGI1W</td>\n",
       "      <td>Cooking &amp; Baking</td>\n",
       "    </tr>\n",
       "    <tr>\n",
       "      <th>1035077</th>\n",
       "      <td>4.0</td>\n",
       "      <td>A1KH0U4O61YCDZ</td>\n",
       "      <td>B00F348ROY</td>\n",
       "      <td>Cooking &amp; Baking</td>\n",
       "    </tr>\n",
       "    <tr>\n",
       "      <th>1035085</th>\n",
       "      <td>5.0</td>\n",
       "      <td>A1BKOF3W7KAI4V</td>\n",
       "      <td>B00CNW61LA</td>\n",
       "      <td>Cooking &amp; Baking</td>\n",
       "    </tr>\n",
       "    <tr>\n",
       "      <th>1035091</th>\n",
       "      <td>5.0</td>\n",
       "      <td>A38UW285ITWHDS</td>\n",
       "      <td>B00HZ0OOM8</td>\n",
       "      <td>Cooking &amp; Baking</td>\n",
       "    </tr>\n",
       "  </tbody>\n",
       "</table>\n",
       "<p>190114 rows × 4 columns</p>\n",
       "</div>"
      ],
      "text/plain": [
       "         overall      reviewerID        asin     category_type\n",
       "0            3.0  A17GONA7VU3OVP  B007SM6NWC  Cooking & Baking\n",
       "1            5.0  A3JX7Z431AZ40S  B007SM6NWC  Cooking & Baking\n",
       "2            4.0   AI9R0YEDPSWPL  B007SM6NWC  Cooking & Baking\n",
       "3            3.0  A1ELP3Q80YMORU  B007SM6NWC  Cooking & Baking\n",
       "4            3.0  A2H396PEC4IKSG  B007SM6NWC  Cooking & Baking\n",
       "...          ...             ...         ...               ...\n",
       "1035061      3.0  A3DXU35JMQENO8  B007JVI60Y  Cooking & Baking\n",
       "1035069      4.0  A36A27I11T5U49  B00DPUGI1W  Cooking & Baking\n",
       "1035077      4.0  A1KH0U4O61YCDZ  B00F348ROY  Cooking & Baking\n",
       "1035085      5.0  A1BKOF3W7KAI4V  B00CNW61LA  Cooking & Baking\n",
       "1035091      5.0  A38UW285ITWHDS  B00HZ0OOM8  Cooking & Baking\n",
       "\n",
       "[190114 rows x 4 columns]"
      ]
     },
     "execution_count": 79,
     "metadata": {},
     "output_type": "execute_result"
    }
   ],
   "source": [
    "ratings2.loc[ratings2['category_type']=='Cooking & Baking']"
   ]
  },
  {
   "cell_type": "markdown",
   "metadata": {
    "id": "IOMtH-N6fNp1"
   },
   "source": [
    "### Final Recommendation systems"
   ]
  },
  {
   "cell_type": "code",
   "execution_count": 123,
   "metadata": {
    "id": "4lY7bkgpZbi6"
   },
   "outputs": [],
   "source": [
    "def preprocessed(data,r,iter,para):\n",
    "    #preprocessed = ratings2.values.tolist()\n",
    "    ##temp_data=data.loc[data['category_type']==cat]\n",
    "    ##dff=pd.DataFrame(temp_data)\n",
    "    ##temp_data_f=dff.drop(['category_type'],axis=1)\n",
    "    \n",
    "    data = spark.createDataFrame(data[['reviewerID', 'asin', 'overall']])\n",
    "    indexer = [StringIndexer(inputCol = column, outputCol = column+\"index\") for column in ['asin','reviewerID']]\n",
    "    pipeline = Pipeline(stages=indexer)\n",
    "    data = pipeline.fit(data).transform(data)\n",
    "\n",
    "    transformed_train = data.sampleBy(\"overall\", fractions={1: 0.7, 2: 0.7, 3: 0.7,4: 0.7,5: 0.7}, seed=10)\n",
    "    transformed_test = data.subtract(transformed_train)\n",
    "\n",
    "    transformed_train = transformed_train.withColumnRenamed('overall','label')\n",
    "    transformed_test = transformed_test.withColumnRenamed('overall','truelabel')\n",
    "\n",
    "    als = ALS(rank=r, maxIter = iter, regParam = para, userCol = 'reviewerIDindex', itemCol = 'asinindex', ratingCol = 'label', coldStartStrategy='drop', nonnegative=True)\n",
    "    model = als.fit(transformed_train)\n",
    "    prediction = model.transform(transformed_test)\n",
    "    jdf2 = prediction.join(sparkDF,prediction[\"asin\"] ==  sparkDF[\"asin\"],\"inner\")\n",
    "    jdf2=jdf2.dropDuplicates(['reviewerID','asin','truelabel','asinindex','reviewerIDindex','prediction','asin','category_type'])\n",
    "    #jdf2.show(n=5,truncate=False)\n",
    "    return(jdf2)"
   ]
  },
  {
   "cell_type": "code",
   "execution_count": 124,
   "metadata": {
    "id": "ODpVTK7TaZ3Z"
   },
   "outputs": [],
   "source": [
    "def reco_user_category(user_id,cat,data,title,r,iter,para):\n",
    "    temp_data=data.loc[data['category_type']==cat]\n",
    "    dff=pd.DataFrame(temp_data)\n",
    "    temp_data_f=dff.drop(['category_type'],axis=1)\n",
    "\n",
    "    prediction=preprocessed(temp_data_f,r,iter,para)\n",
    "    temp_df = prediction.filter(prediction[\"reviewerID\"] == user_id)\n",
    "    temp_df = temp_df.sort(\"prediction\", ascending=False)\n",
    "    pandas_df = temp_df.select(\"*\").toPandas()\n",
    "    #print(pandas_df)\n",
    "    if len(pandas_df)<5:\n",
    "        #popularity based\n",
    "        ratings = pd.DataFrame(temp_data_f.groupby('asin')['overall'].median().sort_values(ascending=False).head())\n",
    "        #print(ratings)\n",
    "        ratings=pd.DataFrame(ratings)\n",
    "        ratings.reset_index(inplace=True)\n",
    "        #print(ratings)\n",
    "        #print(ratings.columns)\n",
    "        #print(type(ratings))\n",
    "        \n",
    "        recommendation=ratings[:5]\n",
    "       # print(recommendation)\n",
    "       # ratings.rename(columns={\"overall\": \"Rating_Median\"}, inplace=True)  \n",
    "        l1=pandas_df.loc[:,'asin']\n",
    "        #print(l1)\n",
    "        l2=recommendation.loc[:,'asin']\n",
    "        #print(l2)\n",
    "        reco=l1.values.tolist()\n",
    "        for i in l2.values.tolist():\n",
    "            if i not in l1.values.tolist():\n",
    "                reco.append(i)\n",
    "            if len(reco)==5:\n",
    "                break\n",
    "\n",
    "    else:\n",
    "       reco=pandas_df['asin'][:5]\n",
    "    df = pd.DataFrame(reco)\n",
    "    df.rename(columns={0: \"asin\"},inplace=True)\n",
    "    recommend = pd.merge(df,title, on='asin', how='inner').drop_duplicates( keep='last')\n",
    "\n",
    "    return(recommend)"
   ]
  },
  {
   "cell_type": "code",
   "execution_count": 82,
   "metadata": {
    "colab": {
     "base_uri": "https://localhost:8080/",
     "height": 203
    },
    "id": "Qy1ADUL7afrl",
    "outputId": "82189e4c-8d47-4561-8d88-9a13001d8017"
   },
   "outputs": [
    {
     "data": {
      "text/html": [
       "<div>\n",
       "<style scoped>\n",
       "    .dataframe tbody tr th:only-of-type {\n",
       "        vertical-align: middle;\n",
       "    }\n",
       "\n",
       "    .dataframe tbody tr th {\n",
       "        vertical-align: top;\n",
       "    }\n",
       "\n",
       "    .dataframe thead th {\n",
       "        text-align: right;\n",
       "    }\n",
       "</style>\n",
       "<table border=\"1\" class=\"dataframe\">\n",
       "  <thead>\n",
       "    <tr style=\"text-align: right;\">\n",
       "      <th></th>\n",
       "      <th>asin</th>\n",
       "      <th>title</th>\n",
       "    </tr>\n",
       "  </thead>\n",
       "  <tbody>\n",
       "    <tr>\n",
       "      <th>0</th>\n",
       "      <td>B01HJ2UYH0</td>\n",
       "      <td>Boho Party Cupcake Decorating Kit 72-Pieces In...</td>\n",
       "    </tr>\n",
       "    <tr>\n",
       "      <th>1</th>\n",
       "      <td>B007X9SHOW</td>\n",
       "      <td>Baker's Cherry Pie Filling, 21-Ounce</td>\n",
       "    </tr>\n",
       "    <tr>\n",
       "      <th>2</th>\n",
       "      <td>B007WK38W8</td>\n",
       "      <td>NFL San Francisco 49ers Cupcake Helmet Rings 1...</td>\n",
       "    </tr>\n",
       "    <tr>\n",
       "      <th>3</th>\n",
       "      <td>B007WMZ7RA</td>\n",
       "      <td>MAUI BRAND Maui Gold Cane Sugar, 16 Ounce</td>\n",
       "    </tr>\n",
       "    <tr>\n",
       "      <th>4</th>\n",
       "      <td>B007WRLQCU</td>\n",
       "      <td>Mazola Corn Oil - 16 oz</td>\n",
       "    </tr>\n",
       "  </tbody>\n",
       "</table>\n",
       "</div>"
      ],
      "text/plain": [
       "         asin                                              title\n",
       "0  B01HJ2UYH0  Boho Party Cupcake Decorating Kit 72-Pieces In...\n",
       "1  B007X9SHOW               Baker's Cherry Pie Filling, 21-Ounce\n",
       "2  B007WK38W8  NFL San Francisco 49ers Cupcake Helmet Rings 1...\n",
       "3  B007WMZ7RA          MAUI BRAND Maui Gold Cane Sugar, 16 Ounce\n",
       "4  B007WRLQCU                            Mazola Corn Oil - 16 oz"
      ]
     },
     "execution_count": 82,
     "metadata": {},
     "output_type": "execute_result"
    }
   ],
   "source": [
    "reco_user_category('A38UW285ITWHD','Cooking & Baking',ratings2,prod_title,r,iter,para)"
   ]
  },
  {
   "cell_type": "code",
   "execution_count": 114,
   "metadata": {
    "colab": {
     "base_uri": "https://localhost:8080/",
     "height": 203
    },
    "id": "slM9jLfdgJHY",
    "outputId": "f5bf8d46-5b31-4dcb-e18c-a9563d927774"
   },
   "outputs": [
    {
     "data": {
      "text/html": [
       "<div>\n",
       "<style scoped>\n",
       "    .dataframe tbody tr th:only-of-type {\n",
       "        vertical-align: middle;\n",
       "    }\n",
       "\n",
       "    .dataframe tbody tr th {\n",
       "        vertical-align: top;\n",
       "    }\n",
       "\n",
       "    .dataframe thead th {\n",
       "        text-align: right;\n",
       "    }\n",
       "</style>\n",
       "<table border=\"1\" class=\"dataframe\">\n",
       "  <thead>\n",
       "    <tr style=\"text-align: right;\">\n",
       "      <th></th>\n",
       "      <th>asin</th>\n",
       "      <th>title</th>\n",
       "    </tr>\n",
       "  </thead>\n",
       "  <tbody>\n",
       "    <tr>\n",
       "      <th>0</th>\n",
       "      <td>B01HJ2UYH0</td>\n",
       "      <td>Boho Party Cupcake Decorating Kit 72-Pieces In...</td>\n",
       "    </tr>\n",
       "    <tr>\n",
       "      <th>1</th>\n",
       "      <td>B007X9SHOW</td>\n",
       "      <td>Baker's Cherry Pie Filling, 21-Ounce</td>\n",
       "    </tr>\n",
       "    <tr>\n",
       "      <th>2</th>\n",
       "      <td>B007WK38W8</td>\n",
       "      <td>NFL San Francisco 49ers Cupcake Helmet Rings 1...</td>\n",
       "    </tr>\n",
       "    <tr>\n",
       "      <th>3</th>\n",
       "      <td>B007WMZ7RA</td>\n",
       "      <td>MAUI BRAND Maui Gold Cane Sugar, 16 Ounce</td>\n",
       "    </tr>\n",
       "    <tr>\n",
       "      <th>4</th>\n",
       "      <td>B007WRLQCU</td>\n",
       "      <td>Mazola Corn Oil - 16 oz</td>\n",
       "    </tr>\n",
       "  </tbody>\n",
       "</table>\n",
       "</div>"
      ],
      "text/plain": [
       "         asin                                              title\n",
       "0  B01HJ2UYH0  Boho Party Cupcake Decorating Kit 72-Pieces In...\n",
       "1  B007X9SHOW               Baker's Cherry Pie Filling, 21-Ounce\n",
       "2  B007WK38W8  NFL San Francisco 49ers Cupcake Helmet Rings 1...\n",
       "3  B007WMZ7RA          MAUI BRAND Maui Gold Cane Sugar, 16 Ounce\n",
       "4  B007WRLQCU                            Mazola Corn Oil - 16 oz"
      ]
     },
     "execution_count": 114,
     "metadata": {},
     "output_type": "execute_result"
    }
   ],
   "source": [
    "reco_user_category('A38UW285ITWHD','Cooking & Baking',ratings2,prod_title,r,iter,para)"
   ]
  },
  {
   "cell_type": "markdown",
   "metadata": {
    "id": "QgVcTkc_hZlo"
   },
   "source": [
    "### Recomendation for a user from all **Category**"
   ]
  },
  {
   "cell_type": "code",
   "execution_count": 83,
   "metadata": {
    "colab": {
     "base_uri": "https://localhost:8080/"
    },
    "id": "Vju5OewXIB7v",
    "outputId": "c10f5094-3b4b-4936-a06c-a0ad213cfcac"
   },
   "outputs": [
    {
     "name": "stdout",
     "output_type": "stream",
     "text": [
      "Cooking & Baking\n",
      "         asin                                              title\n",
      "0  B01HJ2UYH0  Boho Party Cupcake Decorating Kit 72-Pieces In...\n",
      "1  B007X9SHOW               Baker's Cherry Pie Filling, 21-Ounce\n",
      "2  B007WK38W8  NFL San Francisco 49ers Cupcake Helmet Rings 1...\n",
      "3  B007WMZ7RA          MAUI BRAND Maui Gold Cane Sugar, 16 Ounce\n",
      "4  B007WRLQCU                            Mazola Corn Oil - 16 oz\n",
      "Herbs, Spices & Seasonings\n",
      "         asin                                              title\n",
      "0  B00ATJUONA  Sage, Ground-1Lb-Ground Sage Powder-Sausage Spice\n",
      "1  B00642KB3E                            Goats Rue Powder - 1 lb\n",
      "2  B00645QC2K  McCormick Garlic Powder Coarse Grind with Pars...\n",
      "3  B00642PHGA                        Uva Ursi Leaf Powder - 1 lb\n",
      "4  B00642OU1S                       Spearmint Leaf Powder - 1 lb\n",
      "Beverages\n",
      "         asin                                              title\n",
      "0  B01HJCUNOO  Amara Unique Venezuelan Flavors. Hot Chocolate...\n",
      "1  B007PY1BLQ  Rishi Tea Organic Earl Grey Loose Leaf Tea, 1 ...\n",
      "2  B007PM9YM6           Kauai Coffee Dark Roast Ground, 10 Ounce\n",
      "3  B007PM9YNA  Kauai Whole Bean Coffee, Koloa Estate Medium R...\n",
      "4  B007POP0DQ  MTR Badam Drink (Almond Drink) Ready to Drink ...\n",
      "Snack Foods\n",
      "         asin                                              title\n",
      "0  B00CP3LMEI  KIT KAT Halloween Snack Size Wafer Bars (20.1-...\n",
      "1  B00A0ZL5OU     Voortman, Lemon Wafers. 14.1oz Bag (Pack of 4)\n",
      "2  B00A3T4NIS  Larry the Cable Guy Tater Chips, Buffalo Wing,...\n",
      "3  B00A3B1WKI  Daelmans Dutch Caramel Wafers Box 8.1 Oz(Pack ...\n",
      "4  B00A32Q770  Utz Chocolate Pretzels Milk Chocolate Specials...\n"
     ]
    }
   ],
   "source": [
    "list_category=df_inner['category_type'].unique()\n",
    "for i in list_category[:4]:\n",
    "    print(i)\n",
    "    print(reco_user_category('A3HUK2D3SNXHMR',i,ratings2,prod_title,r,iter,para))"
   ]
  },
  {
   "cell_type": "markdown",
   "metadata": {
    "id": "iTzdNAP7es6p"
   },
   "source": [
    "##Cross category"
   ]
  },
  {
   "cell_type": "code",
   "execution_count": 115,
   "metadata": {
    "colab": {
     "base_uri": "https://localhost:8080/",
     "height": 142
    },
    "id": "BbFX_UD_5Vib",
    "outputId": "64050908-49e5-4399-b69c-1c9e6dd899cc"
   },
   "outputs": [
    {
     "data": {
      "text/html": [
       "<div>\n",
       "<style scoped>\n",
       "    .dataframe tbody tr th:only-of-type {\n",
       "        vertical-align: middle;\n",
       "    }\n",
       "\n",
       "    .dataframe tbody tr th {\n",
       "        vertical-align: top;\n",
       "    }\n",
       "\n",
       "    .dataframe thead th {\n",
       "        text-align: right;\n",
       "    }\n",
       "</style>\n",
       "<table border=\"1\" class=\"dataframe\">\n",
       "  <thead>\n",
       "    <tr style=\"text-align: right;\">\n",
       "      <th></th>\n",
       "      <th>asin</th>\n",
       "      <th>title</th>\n",
       "      <th>category_type</th>\n",
       "    </tr>\n",
       "  </thead>\n",
       "  <tbody>\n",
       "    <tr>\n",
       "      <th>0</th>\n",
       "      <td>0681727810</td>\n",
       "      <td>Beemster Gouda - Aged 18/24 Months - App. 1.5 Lbs</td>\n",
       "      <td>Dairy, Cheese &amp; Eggs</td>\n",
       "    </tr>\n",
       "    <tr>\n",
       "      <th>1</th>\n",
       "      <td>0853347867</td>\n",
       "      <td>Trim Healthy Mama Xylitol</td>\n",
       "      <td>Cooking &amp; Baking</td>\n",
       "    </tr>\n",
       "    <tr>\n",
       "      <th>2</th>\n",
       "      <td>1888861118</td>\n",
       "      <td>Letter C - Swarovski Crystal Monogram Wedding ...</td>\n",
       "      <td>Cooking &amp; Baking</td>\n",
       "    </tr>\n",
       "  </tbody>\n",
       "</table>\n",
       "</div>"
      ],
      "text/plain": [
       "         asin  ...         category_type\n",
       "0  0681727810  ...  Dairy, Cheese & Eggs\n",
       "1  0853347867  ...      Cooking & Baking\n",
       "2  1888861118  ...      Cooking & Baking\n",
       "\n",
       "[3 rows x 3 columns]"
      ]
     },
     "execution_count": 115,
     "metadata": {},
     "output_type": "execute_result"
    }
   ],
   "source": [
    "df_item_info = pd.merge(prod_title,df_cat_asin, on='asin', how='inner')\n",
    "\n",
    "df_item_info.head(3)"
   ]
  },
  {
   "cell_type": "code",
   "execution_count": 125,
   "metadata": {
    "id": "p39rMbjT5f-h"
   },
   "outputs": [],
   "source": [
    "def popular(data):\n",
    "    l=data['category_type'].unique()\n",
    "    list_rec=[]\n",
    "    for cat in l:\n",
    "        temp_data=data.loc[data['category_type']==cat]\n",
    "        dff=pd.DataFrame(temp_data)\n",
    "        temp_data_f=dff.drop(['category_type'],axis=1)\n",
    "        ratings = pd.DataFrame(temp_data_f.groupby('asin')['overall'].median().sort_values(ascending=False).head())\n",
    "        ratings=pd.DataFrame(ratings)\n",
    "        ratings.reset_index(inplace=True)\n",
    "        \n",
    "        recommendation=ratings[:5]\n",
    "        l1=recommendation.loc[:,'asin']\n",
    "        reco=l1.values.tolist()\n",
    "        for i in reco:\n",
    "            list_rec.append(i)\n",
    "    return(list_rec)"
   ]
  },
  {
   "cell_type": "code",
   "execution_count": 126,
   "metadata": {
    "id": "gFazeTxrRusF"
   },
   "outputs": [],
   "source": [
    "def reco_user_cross_category(user_id,data,item,r,iter,para):\n",
    "    \n",
    "\n",
    "    user_list=ratings['reviewerID']\n",
    "    user=[]\n",
    "    for i in user_list:\n",
    "        user.append(i)\n",
    "\n",
    "    if user_id in user:\n",
    "    \n",
    "        user_subset=data.groupby('reviewerID')\n",
    "        user_data=user_subset.get_group(user_id)\n",
    "        user_category=user_data['category_type']\n",
    "        cat_list=[]\n",
    "        for i in user_category:\n",
    "            if i not in cat_list:\n",
    "                 cat_list.append(i)\n",
    "        print('recommended categories for previous user',cat_list)\n",
    "        for i in cat_list:\n",
    "            print(i)\n",
    "            print(reco_user_category(user_id,i,ratings2,prod_title,r,iter,para))\n",
    "\n",
    "    else:\n",
    "    \n",
    "        top_rec=popular(data)\n",
    "        print('recommendation for new user',top_rec)"
   ]
  },
  {
   "cell_type": "code",
   "execution_count": 88,
   "metadata": {
    "colab": {
     "base_uri": "https://localhost:8080/"
    },
    "id": "dKQ0zyS4TbzA",
    "outputId": "2e0555c7-9d9c-45fe-8461-4c8b6222e041"
   },
   "outputs": [
    {
     "data": {
      "text/plain": [
       "pandas.core.frame.DataFrame"
      ]
     },
     "execution_count": 88,
     "metadata": {},
     "output_type": "execute_result"
    }
   ],
   "source": [
    "type(prod_title)"
   ]
  },
  {
   "cell_type": "code",
   "execution_count": 118,
   "metadata": {
    "colab": {
     "base_uri": "https://localhost:8080/"
    },
    "id": "J8G_ZRlsTvc7",
    "outputId": "176ca5c8-5ac8-4412-e83f-e6e3b659b99b"
   },
   "outputs": [
    {
     "name": "stdout",
     "output_type": "stream",
     "text": [
      "<class 'pandas.core.frame.DataFrame'>                  0                                                  1\n",
      "0       0681727810  Beemster Gouda - Aged 18/24 Months - App. 1.5 Lbs\n",
      "1       0853347867                          Trim Healthy Mama Xylitol\n",
      "2       1888861118  Letter C - Swarovski Crystal Monogram Wedding ...\n",
      "3       1888861517  Letter H - Swarovski Crystal Monogram Wedding ...\n",
      "4       1888861614  Letter S - Swarovski Crystal Monogram Wedding ...\n",
      "...            ...                                                ...\n",
      "287046  B01HJFBN9A  Caffarel Fruit Jellies, Organic Assorted, 200 ...\n",
      "287047  B01HJFC704      HAMPTON CREEK Spo Just Truffle Mayo, 12 Ounce\n",
      "287048  B01HJF6FRA  HAMPTON CREEK Just Ranch Dressing, 12 Fluid Ounce\n",
      "287049  B01HJHSVG6  Gourmet Pure Vanilla Bean Pastes - Organically...\n",
      "287050  B01HJFRDDA  McClure's Pickles Bloody Mary Mix-Spicy-32 oz ...\n",
      "\n",
      "[287051 rows x 2 columns]\n"
     ]
    }
   ],
   "source": [
    "prod_title_list=prod_title.values.tolist()\n",
    "prod_df=pd.DataFrame(prod_title_list)\n",
    "print(type(prod_df),prod_df)"
   ]
  },
  {
   "cell_type": "code",
   "execution_count": 119,
   "metadata": {
    "colab": {
     "base_uri": "https://localhost:8080/",
     "height": 417
    },
    "id": "m2QdnOoceSzH",
    "outputId": "b515f56c-f9ef-4c63-fe9b-a72ce770330a"
   },
   "outputs": [
    {
     "data": {
      "text/html": [
       "<div>\n",
       "<style scoped>\n",
       "    .dataframe tbody tr th:only-of-type {\n",
       "        vertical-align: middle;\n",
       "    }\n",
       "\n",
       "    .dataframe tbody tr th {\n",
       "        vertical-align: top;\n",
       "    }\n",
       "\n",
       "    .dataframe thead th {\n",
       "        text-align: right;\n",
       "    }\n",
       "</style>\n",
       "<table border=\"1\" class=\"dataframe\">\n",
       "  <thead>\n",
       "    <tr style=\"text-align: right;\">\n",
       "      <th></th>\n",
       "      <th>asin</th>\n",
       "      <th>title</th>\n",
       "    </tr>\n",
       "  </thead>\n",
       "  <tbody>\n",
       "    <tr>\n",
       "      <th>0</th>\n",
       "      <td>0681727810</td>\n",
       "      <td>Beemster Gouda - Aged 18/24 Months - App. 1.5 Lbs</td>\n",
       "    </tr>\n",
       "    <tr>\n",
       "      <th>1</th>\n",
       "      <td>0853347867</td>\n",
       "      <td>Trim Healthy Mama Xylitol</td>\n",
       "    </tr>\n",
       "    <tr>\n",
       "      <th>2</th>\n",
       "      <td>1888861118</td>\n",
       "      <td>Letter C - Swarovski Crystal Monogram Wedding ...</td>\n",
       "    </tr>\n",
       "    <tr>\n",
       "      <th>3</th>\n",
       "      <td>1888861517</td>\n",
       "      <td>Letter H - Swarovski Crystal Monogram Wedding ...</td>\n",
       "    </tr>\n",
       "    <tr>\n",
       "      <th>4</th>\n",
       "      <td>1888861614</td>\n",
       "      <td>Letter S - Swarovski Crystal Monogram Wedding ...</td>\n",
       "    </tr>\n",
       "    <tr>\n",
       "      <th>...</th>\n",
       "      <td>...</td>\n",
       "      <td>...</td>\n",
       "    </tr>\n",
       "    <tr>\n",
       "      <th>287046</th>\n",
       "      <td>B01HJFBN9A</td>\n",
       "      <td>Caffarel Fruit Jellies, Organic Assorted, 200 ...</td>\n",
       "    </tr>\n",
       "    <tr>\n",
       "      <th>287047</th>\n",
       "      <td>B01HJFC704</td>\n",
       "      <td>HAMPTON CREEK Spo Just Truffle Mayo, 12 Ounce</td>\n",
       "    </tr>\n",
       "    <tr>\n",
       "      <th>287048</th>\n",
       "      <td>B01HJF6FRA</td>\n",
       "      <td>HAMPTON CREEK Just Ranch Dressing, 12 Fluid Ounce</td>\n",
       "    </tr>\n",
       "    <tr>\n",
       "      <th>287049</th>\n",
       "      <td>B01HJHSVG6</td>\n",
       "      <td>Gourmet Pure Vanilla Bean Pastes - Organically...</td>\n",
       "    </tr>\n",
       "    <tr>\n",
       "      <th>287050</th>\n",
       "      <td>B01HJFRDDA</td>\n",
       "      <td>McClure's Pickles Bloody Mary Mix-Spicy-32 oz ...</td>\n",
       "    </tr>\n",
       "  </tbody>\n",
       "</table>\n",
       "<p>287051 rows × 2 columns</p>\n",
       "</div>"
      ],
      "text/plain": [
       "              asin                                              title\n",
       "0       0681727810  Beemster Gouda - Aged 18/24 Months - App. 1.5 Lbs\n",
       "1       0853347867                          Trim Healthy Mama Xylitol\n",
       "2       1888861118  Letter C - Swarovski Crystal Monogram Wedding ...\n",
       "3       1888861517  Letter H - Swarovski Crystal Monogram Wedding ...\n",
       "4       1888861614  Letter S - Swarovski Crystal Monogram Wedding ...\n",
       "...            ...                                                ...\n",
       "287046  B01HJFBN9A  Caffarel Fruit Jellies, Organic Assorted, 200 ...\n",
       "287047  B01HJFC704      HAMPTON CREEK Spo Just Truffle Mayo, 12 Ounce\n",
       "287048  B01HJF6FRA  HAMPTON CREEK Just Ranch Dressing, 12 Fluid Ounce\n",
       "287049  B01HJHSVG6  Gourmet Pure Vanilla Bean Pastes - Organically...\n",
       "287050  B01HJFRDDA  McClure's Pickles Bloody Mary Mix-Spicy-32 oz ...\n",
       "\n",
       "[287051 rows x 2 columns]"
      ]
     },
     "execution_count": 119,
     "metadata": {},
     "output_type": "execute_result"
    }
   ],
   "source": [
    "prod_title"
   ]
  },
  {
   "cell_type": "code",
   "execution_count": 109,
   "metadata": {
    "colab": {
     "base_uri": "https://localhost:8080/",
     "height": 417
    },
    "id": "717VK7FreZQ2",
    "outputId": "909b1d07-d4f6-42f9-edc1-4b8ff4fc4966"
   },
   "outputs": [
    {
     "data": {
      "text/html": [
       "<div>\n",
       "<style scoped>\n",
       "    .dataframe tbody tr th:only-of-type {\n",
       "        vertical-align: middle;\n",
       "    }\n",
       "\n",
       "    .dataframe tbody tr th {\n",
       "        vertical-align: top;\n",
       "    }\n",
       "\n",
       "    .dataframe thead th {\n",
       "        text-align: right;\n",
       "    }\n",
       "</style>\n",
       "<table border=\"1\" class=\"dataframe\">\n",
       "  <thead>\n",
       "    <tr style=\"text-align: right;\">\n",
       "      <th></th>\n",
       "      <th>overall</th>\n",
       "      <th>reviewerID</th>\n",
       "      <th>asin</th>\n",
       "      <th>category_type</th>\n",
       "    </tr>\n",
       "  </thead>\n",
       "  <tbody>\n",
       "    <tr>\n",
       "      <th>0</th>\n",
       "      <td>3.0</td>\n",
       "      <td>A17GONA7VU3OVP</td>\n",
       "      <td>B007SM6NWC</td>\n",
       "      <td>Cooking &amp; Baking</td>\n",
       "    </tr>\n",
       "    <tr>\n",
       "      <th>1</th>\n",
       "      <td>5.0</td>\n",
       "      <td>A3JX7Z431AZ40S</td>\n",
       "      <td>B007SM6NWC</td>\n",
       "      <td>Cooking &amp; Baking</td>\n",
       "    </tr>\n",
       "    <tr>\n",
       "      <th>2</th>\n",
       "      <td>4.0</td>\n",
       "      <td>AI9R0YEDPSWPL</td>\n",
       "      <td>B007SM6NWC</td>\n",
       "      <td>Cooking &amp; Baking</td>\n",
       "    </tr>\n",
       "    <tr>\n",
       "      <th>3</th>\n",
       "      <td>3.0</td>\n",
       "      <td>A1ELP3Q80YMORU</td>\n",
       "      <td>B007SM6NWC</td>\n",
       "      <td>Cooking &amp; Baking</td>\n",
       "    </tr>\n",
       "    <tr>\n",
       "      <th>4</th>\n",
       "      <td>3.0</td>\n",
       "      <td>A2H396PEC4IKSG</td>\n",
       "      <td>B007SM6NWC</td>\n",
       "      <td>Cooking &amp; Baking</td>\n",
       "    </tr>\n",
       "    <tr>\n",
       "      <th>...</th>\n",
       "      <td>...</td>\n",
       "      <td>...</td>\n",
       "      <td>...</td>\n",
       "      <td>...</td>\n",
       "    </tr>\n",
       "    <tr>\n",
       "      <th>1035091</th>\n",
       "      <td>5.0</td>\n",
       "      <td>A38UW285ITWHDS</td>\n",
       "      <td>B00HZ0OOM8</td>\n",
       "      <td>Cooking &amp; Baking</td>\n",
       "    </tr>\n",
       "    <tr>\n",
       "      <th>1035092</th>\n",
       "      <td>4.0</td>\n",
       "      <td>AMVJELF5LH5K6</td>\n",
       "      <td>B002WDNFEQ</td>\n",
       "      <td>Snack Foods</td>\n",
       "    </tr>\n",
       "    <tr>\n",
       "      <th>1035093</th>\n",
       "      <td>5.0</td>\n",
       "      <td>A1RWYA52UUOCC0</td>\n",
       "      <td>B00BX6GICO</td>\n",
       "      <td>Beverages</td>\n",
       "    </tr>\n",
       "    <tr>\n",
       "      <th>1035094</th>\n",
       "      <td>3.0</td>\n",
       "      <td>A4HM7O5F684WC</td>\n",
       "      <td>B00R584U8S</td>\n",
       "      <td>Frozen</td>\n",
       "    </tr>\n",
       "    <tr>\n",
       "      <th>1035095</th>\n",
       "      <td>3.0</td>\n",
       "      <td>A2MJ9OX8071S0B</td>\n",
       "      <td>B000I028DY</td>\n",
       "      <td>Snack Foods</td>\n",
       "    </tr>\n",
       "  </tbody>\n",
       "</table>\n",
       "<p>1035096 rows × 4 columns</p>\n",
       "</div>"
      ],
      "text/plain": [
       "         overall      reviewerID        asin     category_type\n",
       "0            3.0  A17GONA7VU3OVP  B007SM6NWC  Cooking & Baking\n",
       "1            5.0  A3JX7Z431AZ40S  B007SM6NWC  Cooking & Baking\n",
       "2            4.0   AI9R0YEDPSWPL  B007SM6NWC  Cooking & Baking\n",
       "3            3.0  A1ELP3Q80YMORU  B007SM6NWC  Cooking & Baking\n",
       "4            3.0  A2H396PEC4IKSG  B007SM6NWC  Cooking & Baking\n",
       "...          ...             ...         ...               ...\n",
       "1035091      5.0  A38UW285ITWHDS  B00HZ0OOM8  Cooking & Baking\n",
       "1035092      4.0   AMVJELF5LH5K6  B002WDNFEQ       Snack Foods\n",
       "1035093      5.0  A1RWYA52UUOCC0  B00BX6GICO         Beverages\n",
       "1035094      3.0   A4HM7O5F684WC  B00R584U8S            Frozen\n",
       "1035095      3.0  A2MJ9OX8071S0B  B000I028DY       Snack Foods\n",
       "\n",
       "[1035096 rows x 4 columns]"
      ]
     },
     "execution_count": 109,
     "metadata": {},
     "output_type": "execute_result"
    }
   ],
   "source": [
    "ratings2"
   ]
  },
  {
   "cell_type": "code",
   "execution_count": 127,
   "metadata": {
    "colab": {
     "base_uri": "https://localhost:8080/"
    },
    "id": "bEDv8-9ioSZ5",
    "outputId": "e105c5c0-8ddd-4aae-e989-c254938e1e40"
   },
   "outputs": [
    {
     "name": "stdout",
     "output_type": "stream",
     "text": [
      "recommended categories for previous user ['Canned, Jarred & Packaged Foods', 'Beverages', 'Cooking & Baking']\n",
      "Canned, Jarred & Packaged Foods\n",
      "         asin  ...                                              title\n",
      "0  B00D7VGJKY  ...  Sea Best 41/50 Cooked Peeled and Deveined Shri...\n",
      "\n",
      "[1 rows x 11 columns]\n",
      "Beverages\n",
      "         asin  ...                                              title\n",
      "0  B002HQLY7S  ...  Gloria Jean's Coffees, Butter Toffee, K-Cup Po...\n",
      "\n",
      "[1 rows x 11 columns]\n",
      "Cooking & Baking\n",
      "         asin  ...                                              title\n",
      "0  B000I6JPQQ  ...  Hefty D28100 Soak Proof Tableware, Foam Plates...\n",
      "\n",
      "[1 rows x 11 columns]\n"
     ]
    }
   ],
   "source": [
    "l=reco_user_cross_category('A3HUK2D3SNXHMR',ratings2,prod_title,r,iter,para)"
   ]
  },
  {
   "cell_type": "code",
   "execution_count": 121,
   "metadata": {
    "colab": {
     "base_uri": "https://localhost:8080/"
    },
    "id": "tbx-W7wzPDZJ",
    "outputId": "5e2aa15b-418f-40e9-9448-9d6ea4fc3e23"
   },
   "outputs": [
    {
     "name": "stdout",
     "output_type": "stream",
     "text": [
      "recommendation for new user ['B01HJ2UYH0', 'B007X9SHOW', 'B007WK38W8', 'B007WMZ7RA', 'B007WRLQCU', 'B00ATJUONA', 'B00642KB3E', 'B00645QC2K', 'B00642PHGA', 'B00642OU1S', 'B01HJCUNOO', 'B007PY1BLQ', 'B007PM9YM6', 'B007PM9YNA', 'B007POP0DQ', 'B00CP3LMEI', 'B00A0ZL5OU', 'B00A3T4NIS', 'B00A3B1WKI', 'B00A32Q770', 'B01HIT10UY', 'B005HNO6FA', 'B005IPRJ5Q', 'B005IGIVX4', 'B005IGBQ0Y', 'B01HJ4FWGG', 'B007FXBSUG', 'B007G4Y8LU', 'B007FYUPCC', 'B007FXGGJE', 'B01HJ5Y05Y', 'B00687WS5O', 'B0067EO5S6', 'B0067EO5Q8', 'B0067EO3QA', 'B01HHZQ3IS', 'B00886EXQ0', 'B007ZELYPE', 'B007ZH9UJ8', 'B00822JS6U', 'B007DMFHU6', 'B001EO7DUQ', 'B001EPPZ1O', 'B001EPPKZK', 'B00ABJXKDO', 'B00B03D7NI', 'B005FIQCPE', 'B005H922DC', 'B005GWUPC0', 'B005GVCWWW', 'B01HC4IW4C', 'B0052OP310', 'B004Y0OIGO', 'B004YHDQYW', 'B004YV7ZKO', 'B01HFLGSFC', 'B00KAWT3NS', 'B007IW3EK6', 'B00K0TXP12', 'B00K0TIJ4U', 'B01HIEC0A8', 'B005GLDWXK', 'B005NIFZD6', 'B005MNO8CQ', 'B005MKA620', 'B01HH9IN64', 'B0018S09TK', 'B0078DU28C', 'B0078DU8CM', 'B0079OKQ0E', 'B01HDZSGV4', 'B00HZ4N00G', 'B00GP0WE4E', 'B00GP0WE2G', 'B00GP0WD5Y', 'B01HJ2VP9G', 'B005VOOJEI', 'B005QBG7BE', 'B005QUA932', 'B005QUVFCQ', 'B00FN51IJ4', 'B00L26Y1M4', 'B00LB2UB0A', 'B00LAXG9CE', 'B00113WA0I', 'B000089D9T', 'B00AGCGU6U', 'B009PPAP4W', 'B000O0GLYA', 'B009SM0LG4', 'B0000CNU07', 'B00B04AL18', 'B00AVIVL0E', 'B00AVXTFMU', 'B00AYN7SZS', 'B01HHITSLE', 'B00LY3V1MI', 'B00EXQA656', 'B00EXR9Q2O', 'B00EXUJ4R8', 'B00ASGWL30', 'B007KPYV9E', 'B0076AQRUO', 'B0077UWJAA', 'B007A2DQUM', 'B0000DG86X', 'B00J5HD9MU', 'B00LSN80VE', 'B00LSN6JXU', 'B00LSN42HK', 'B00LXV73BO', 'B00HARYRW8', 'B0048JG5HQ', 'B004A7AEA0', 'B0084GDN06', 'B00NC6M4HG', 'B00C2VR5QM', 'B00ILWT83E', 'B00ICVCRKA', 'B00I5V3JAY', 'B01HBG4X7G', 'B005HQT4JA', 'B008E5OIUG', 'B007C69CPE', 'B01GW4F8ZE', 'B01G99L8YC', 'B01FKHX2G6', 'B01ERWSEJK', 'B01FKHWVR2']\n"
     ]
    }
   ],
   "source": [
    "l=reco_user_cross_category('monalisa',ratings2,prod_title,r,iter,para)"
   ]
  }
 ],
 "metadata": {
  "colab": {
   "collapsed_sections": [],
   "name": "Monalisa_pyspark_Amazon_grocery.ipynb",
   "provenance": []
  },
  "kernelspec": {
   "display_name": "Python 3",
   "language": "python",
   "name": "python3"
  },
  "language_info": {
   "codemirror_mode": {
    "name": "ipython",
    "version": 3
   },
   "file_extension": ".py",
   "mimetype": "text/x-python",
   "name": "python",
   "nbconvert_exporter": "python",
   "pygments_lexer": "ipython3",
   "version": "3.8.8"
  }
 },
 "nbformat": 4,
 "nbformat_minor": 4
}
