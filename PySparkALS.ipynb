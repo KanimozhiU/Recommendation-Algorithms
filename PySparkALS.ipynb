{
 "cells": [
  {
   "cell_type": "markdown",
   "metadata": {
    "id": "D9Jy5478MJxB"
   },
   "source": [
    "## **EDA**"
   ]
  },
  {
   "cell_type": "code",
   "execution_count": null,
   "metadata": {
    "id": "fDmRFxwYTpPF"
   },
   "outputs": [],
   "source": [
    "import pandas as pd\n",
    "import numpy as np\n",
    "import matplotlib.pyplot as plt \n",
    "import time\n",
    "from scipy.sparse.linalg import svds\n",
    "from sklearn.metrics import mean_absolute_error\n",
    "import gzip\n",
    "import json\n",
    "from copy import deepcopy\n",
    "import seaborn as sns"
   ]
  },
  {
   "cell_type": "code",
   "execution_count": null,
   "metadata": {
    "colab": {
     "base_uri": "https://localhost:8080/"
    },
    "id": "5iSAFyJmT1TM",
    "outputId": "e22e44ac-a530-4a12-87ac-e4e0428b310e"
   },
   "outputs": [
    {
     "name": "stdout",
     "output_type": "stream",
     "text": [
      "Mounted at /content/drive\n"
     ]
    }
   ],
   "source": [
    "from google.colab import drive\n",
    "drive.mount('/content/drive')"
   ]
  },
  {
   "cell_type": "code",
   "execution_count": null,
   "metadata": {
    "colab": {
     "base_uri": "https://localhost:8080/"
    },
    "id": "-2uOXQTXTXfT",
    "outputId": "39dbaf28-56c1-44db-d1e3-118cb2087ab9"
   },
   "outputs": [
    {
     "name": "stdout",
     "output_type": "stream",
     "text": [
      "459436\n"
     ]
    }
   ],
   "source": [
    "df1= []\n",
    "with gzip.open(r'/content/drive/MyDrive/dataset/Software.json.gz') as f:\n",
    "    for l in f:\n",
    "        df1.append(json.loads(l.strip()))\n",
    "print(len(df1))"
   ]
  },
  {
   "cell_type": "code",
   "execution_count": null,
   "metadata": {
    "id": "-YOCnoE0WKLN"
   },
   "outputs": [],
   "source": [
    "df1=pd.DataFrame(df1)"
   ]
  },
  {
   "cell_type": "code",
   "execution_count": null,
   "metadata": {
    "id": "cp3sCxDOTXPk"
   },
   "outputs": [],
   "source": [
    "from copy import deepcopy\n",
    "rev=deepcopy(df1)"
   ]
  },
  {
   "cell_type": "code",
   "execution_count": null,
   "metadata": {
    "colab": {
     "base_uri": "https://localhost:8080/",
     "height": 142
    },
    "id": "nHCn2A2uTXLg",
    "outputId": "8515bbc7-3eea-4d1b-cb3a-5c89087c83ce"
   },
   "outputs": [
    {
     "data": {
      "text/html": [
       "<div>\n",
       "<style scoped>\n",
       "    .dataframe tbody tr th:only-of-type {\n",
       "        vertical-align: middle;\n",
       "    }\n",
       "\n",
       "    .dataframe tbody tr th {\n",
       "        vertical-align: top;\n",
       "    }\n",
       "\n",
       "    .dataframe thead th {\n",
       "        text-align: right;\n",
       "    }\n",
       "</style>\n",
       "<table border=\"1\" class=\"dataframe\">\n",
       "  <thead>\n",
       "    <tr style=\"text-align: right;\">\n",
       "      <th></th>\n",
       "      <th>overall</th>\n",
       "      <th>reviewerID</th>\n",
       "      <th>asin</th>\n",
       "      <th>unixReviewTime</th>\n",
       "    </tr>\n",
       "  </thead>\n",
       "  <tbody>\n",
       "    <tr>\n",
       "      <th>0</th>\n",
       "      <td>4.0</td>\n",
       "      <td>A240ORQ2LF9LUI</td>\n",
       "      <td>0077613252</td>\n",
       "      <td>1394496000</td>\n",
       "    </tr>\n",
       "    <tr>\n",
       "      <th>1</th>\n",
       "      <td>4.0</td>\n",
       "      <td>A1YCCU0YRLS0FE</td>\n",
       "      <td>0077613252</td>\n",
       "      <td>1393113600</td>\n",
       "    </tr>\n",
       "    <tr>\n",
       "      <th>2</th>\n",
       "      <td>1.0</td>\n",
       "      <td>A1BJHRQDYVAY2J</td>\n",
       "      <td>0077613252</td>\n",
       "      <td>1392595200</td>\n",
       "    </tr>\n",
       "  </tbody>\n",
       "</table>\n",
       "</div>"
      ],
      "text/plain": [
       "   overall      reviewerID        asin  unixReviewTime\n",
       "0      4.0  A240ORQ2LF9LUI  0077613252      1394496000\n",
       "1      4.0  A1YCCU0YRLS0FE  0077613252      1393113600\n",
       "2      1.0  A1BJHRQDYVAY2J  0077613252      1392595200"
      ]
     },
     "execution_count": 72,
     "metadata": {},
     "output_type": "execute_result"
    }
   ],
   "source": [
    "rev1=rev.drop(['reviewTime','image','style','vote','reviewText','reviewerName','verified','summary'],axis=1)\n",
    "rev1.head(3)"
   ]
  },
  {
   "cell_type": "code",
   "execution_count": null,
   "metadata": {
    "colab": {
     "base_uri": "https://localhost:8080/"
    },
    "id": "isWuqdtcTXHV",
    "outputId": "e6f60378-2062-424d-a159-ba2c48e3730e"
   },
   "outputs": [
    {
     "data": {
      "text/plain": [
       "overall           0\n",
       "reviewerID        0\n",
       "asin              0\n",
       "unixReviewTime    0\n",
       "dtype: int64"
      ]
     },
     "execution_count": 7,
     "metadata": {},
     "output_type": "execute_result"
    }
   ],
   "source": [
    "rev1.isnull().sum()"
   ]
  },
  {
   "cell_type": "code",
   "execution_count": null,
   "metadata": {
    "colab": {
     "base_uri": "https://localhost:8080/"
    },
    "id": "y6F_cS_dTXD2",
    "outputId": "b98bd7ac-b5a2-4e9a-ef52-104cd4054e80"
   },
   "outputs": [
    {
     "name": "stdout",
     "output_type": "stream",
     "text": [
      "+-------------------+--------+\n",
      "|                   | Count  |\n",
      "+-------------------+--------+\n",
      "| Duplicate Reviews |  8653  |\n",
      "|  Original Reviews | 450783 |\n",
      "+-------------------+--------+\n"
     ]
    }
   ],
   "source": [
    "#Duplicate Values\n",
    "from prettytable import PrettyTable\n",
    "mask_duplicated_reviews = rev1.duplicated(subset=[ \"reviewerID\", \"unixReviewTime\",'asin','overall'], keep='first')\n",
    "count_duplicated_reviews = mask_duplicated_reviews.value_counts()\n",
    "\n",
    "x = PrettyTable()\n",
    "x.field_names = [\"\",\"Count\"]\n",
    "x.add_rows([[\"Duplicate Reviews\", count_duplicated_reviews[True]], [\"Original Reviews\", count_duplicated_reviews[False]]])\n",
    "print(x)"
   ]
  },
  {
   "cell_type": "code",
   "execution_count": null,
   "metadata": {
    "id": "70vlV1s0TW92"
   },
   "outputs": [],
   "source": [
    "rev1=rev1[-mask_duplicated_reviews]"
   ]
  },
  {
   "cell_type": "code",
   "execution_count": null,
   "metadata": {
    "colab": {
     "base_uri": "https://localhost:8080/"
    },
    "id": "eUyzS7zFVrDg",
    "outputId": "81ba3b27-bc37-4d95-bb13-efa584d486d2"
   },
   "outputs": [
    {
     "data": {
      "text/plain": [
       "overall           float64\n",
       "reviewerID         object\n",
       "asin               object\n",
       "unixReviewTime      int64\n",
       "dtype: object"
      ]
     },
     "execution_count": 14,
     "metadata": {},
     "output_type": "execute_result"
    }
   ],
   "source": [
    "rev1.dtypes"
   ]
  },
  {
   "cell_type": "code",
   "execution_count": null,
   "metadata": {
    "colab": {
     "base_uri": "https://localhost:8080/",
     "height": 514
    },
    "id": "6YghXhPuVrOO",
    "outputId": "0d28eba7-452d-4a58-df51-02d21fac7a59"
   },
   "outputs": [
    {
     "name": "stderr",
     "output_type": "stream",
     "text": [
      "/usr/local/lib/python3.7/dist-packages/seaborn/_decorators.py:43: FutureWarning: Pass the following variable as a keyword arg: x. From version 0.12, the only valid positional argument will be `data`, and passing other arguments without an explicit keyword will result in an error or misinterpretation.\n",
      "  FutureWarning\n"
     ]
    },
    {
     "data": {
      "image/png": "[encoded data removed]",
      "text/plain": [
       "<Figure size 1080x504 with 2 Axes>"
      ]
     },
     "metadata": {},
     "output_type": "display_data"
    }
   ],
   "source": [
    "#Countplot of the ratings, maximum user-products have got rating as 5\n",
    "fig, (ax1, ax2) = plt.subplots(nrows=1, ncols=2, figsize=(15,7))\n",
    "sns.set_theme(style=\"whitegrid\", palette=\"pastel\")\n",
    "sns.countplot(rev1['overall'], ax=ax1)\n",
    "ax1.set_xlabel('Rating Distribution', fontsize=10)\n",
    "ax1.set_ylabel('Count', fontsize=10)\n",
    "cmap = plt.get_cmap(\"tab20c\")\n",
    "\n",
    "\n",
    "explode = (0.1, 0, 0.1, 0, 0)\n",
    "ax2.pie(rating_cnt[\"Ratings\"], explode=explode, labels=rating_cnt.Labels, autopct='%1.2f%%',\n",
    "        shadow=True, startangle=70,colors = cmap([1,6,9,12,15]))\n",
    "ax2.axis('equal')\n",
    "plt.title(\"Rating Ratio\")\n",
    "plt.legend(rating_cnt.Labels, loc=3)\n",
    "plt.show()\n",
    "\n"
   ]
  },
  {
   "cell_type": "code",
   "execution_count": null,
   "metadata": {
    "colab": {
     "base_uri": "https://localhost:8080/",
     "height": 391
    },
    "id": "t-bV5qJSXo0M",
    "outputId": "2509cb5d-8485-4427-f969-84203e1e303b"
   },
   "outputs": [
    {
     "data": {
      "text/plain": [
       "<seaborn.axisgrid.PairGrid at 0x7f1b40b25850>"
      ]
     },
     "execution_count": 8,
     "metadata": {},
     "output_type": "execute_result"
    },
    {
     "data": {
      "image/png": "[encoded data removed]",
      "text/plain": [
       "<Figure size 360x360 with 6 Axes>"
      ]
     },
     "metadata": {
      "needs_background": "light"
     },
     "output_type": "display_data"
    }
   ],
   "source": [
    "sns.pairplot(rev1, diag_kind= 'kde')"
   ]
  },
  {
   "cell_type": "code",
   "execution_count": null,
   "metadata": {
    "colab": {
     "base_uri": "https://localhost:8080/",
     "height": 481
    },
    "id": "WlHBLNa-Xtnu",
    "outputId": "dd3c4ee8-5b0d-4ca3-8ffe-1267b885c77b"
   },
   "outputs": [
    {
     "data": {
      "text/plain": [
       "<matplotlib.axes._subplots.AxesSubplot at 0x7f1b37654bd0>"
      ]
     },
     "execution_count": 77,
     "metadata": {},
     "output_type": "execute_result"
    },
    {
     "data": {
      "image/png": "[encoded data removed]",
      "text/plain": [
       "<Figure size 504x504 with 2 Axes>"
      ]
     },
     "metadata": {},
     "output_type": "display_data"
    }
   ],
   "source": [
    "#Heatmap of timestamp and rating\n",
    "mask = np.zeros_like(rev1.corr(), dtype=np.bool)\n",
    "mask[np.triu_indices_from(mask)] = True\n",
    "plt.figure(figsize=(7,7))\n",
    "plt.title('Correlation of Attributes', y=1.05, size=10)\n",
    "sns.heatmap(rev1.corr(),vmin=-1, cmap='YlGnBu',annot=True,  mask=mask, fmt='.2f')"
   ]
  },
  {
   "cell_type": "code",
   "execution_count": null,
   "metadata": {
    "colab": {
     "base_uri": "https://localhost:8080/"
    },
    "id": "03fuNY7bX-xE",
    "outputId": "1acb35e8-4bde-495a-954f-e090ba58d172"
   },
   "outputs": [
    {
     "name": "stdout",
     "output_type": "stream",
     "text": [
      "Data Summary....................................................................................\n",
      "\n",
      "Total number of Ratings : 459436\n",
      "Total number of Users   : 375147\n",
      "Total number of Products  : 21663\n"
     ]
    }
   ],
   "source": [
    "#Summary of the data\n",
    "print(\"Data Summary....................................................................................\")\n",
    "print(\"\\nTotal number of Ratings :\",rev1.shape[0])\n",
    "print(\"Total number of Users   :\", len(np.unique(rev1.reviewerID)))\n",
    "print(\"Total number of Products  :\", len(np.unique(rev1.asin)))"
   ]
  },
  {
   "cell_type": "code",
   "execution_count": null,
   "metadata": {
    "colab": {
     "base_uri": "https://localhost:8080/"
    },
    "id": "42uZLlmFYM_p",
    "outputId": "72a21561-d8f6-471e-9409-8b345723aa4b"
   },
   "outputs": [
    {
     "data": {
      "text/plain": [
       "reviewerID      asin      \n",
       "AZZYX9XK6MC8S   B0039Y59F0    5.0\n",
       "A2Q1D13T2WX7R   B0039L31JY    5.0\n",
       "A2Q17D58IA8S9R  B00005LINU    5.0\n",
       "                B00006ELM9    5.0\n",
       "A2Q17OZM0QX30I  B00UB76290    5.0\n",
       "                             ... \n",
       "A39N24TTLP6I48  B00MUTAY1Y    1.0\n",
       "A289T4U9P3NQQP  B01617VPUY    1.0\n",
       "A39N1B4YFI7XHF  B0001DI6F2    1.0\n",
       "A2VVGS0PXIEWQN  B0001AU6IK    1.0\n",
       "AEHUG9IMXR350   B00N4OLGP2    1.0\n",
       "Name: overall, Length: 450578, dtype: float64"
      ]
     },
     "execution_count": 11,
     "metadata": {},
     "output_type": "execute_result"
    }
   ],
   "source": [
    "#Check and find the max ratings given by user for a particular item\n",
    "max_rat = rev1.groupby(['reviewerID','asin'])['overall'].max().sort_values(ascending=False)\n",
    "max_rat"
   ]
  },
  {
   "cell_type": "code",
   "execution_count": null,
   "metadata": {
    "colab": {
     "base_uri": "https://localhost:8080/"
    },
    "id": "JqZX8pbLYY-m",
    "outputId": "41d129b4-0380-4f24-cc9b-bdb739c6545c"
   },
   "outputs": [
    {
     "data": {
      "text/plain": [
       "reviewerID      asin      \n",
       "AZZYX9XK6MC8S   B0039Y59F0    5.0\n",
       "A2Q1E3VVB3DA1O  B00IT6WQDQ    5.0\n",
       "A2Q17D58IA8S9R  B00006ELM9    5.0\n",
       "A2Q17OZM0QX30I  B00UB76290    5.0\n",
       "A2Q18PYAMX9ZEW  B00N12N0QK    5.0\n",
       "                             ... \n",
       "AO0LIEHQ87JU0   B00095M0R2    1.0\n",
       "ADCENJZ4877QD   B00004WJKO    1.0\n",
       "A1Q40ZIXWKWQ3X  B00T71GS90    1.0\n",
       "A2SZYP4AFNTTAR  B00004WFVV    1.0\n",
       "A3LFCD2HRYA125  B00P31G9PQ    1.0\n",
       "Name: overall, Length: 450578, dtype: float64"
      ]
     },
     "execution_count": 12,
     "metadata": {},
     "output_type": "execute_result"
    }
   ],
   "source": [
    "#Check and find the min ratings given by user for a particular item\n",
    "min_rat = rev1.groupby(['reviewerID','asin'])['overall'].min().sort_values(ascending=False)\n",
    "min_rat"
   ]
  },
  {
   "cell_type": "code",
   "execution_count": null,
   "metadata": {
    "colab": {
     "base_uri": "https://localhost:8080/"
    },
    "id": "IwwySlOsYa4Q",
    "outputId": "a28fb95c-aa55-4a23-e255-36a288b74610"
   },
   "outputs": [
    {
     "data": {
      "text/plain": [
       "reviewerID\n",
       "A5JLAU2ARJ0BO     73\n",
       "A680RUE1FDO8B     71\n",
       "A225G2TFM76GYX    69\n",
       "A3W4D8XOGLWUN5    68\n",
       "A15S4XW3CRISZ5    66\n",
       "A20DZX38KRBIT8    64\n",
       "A3VL4RXCWNSR3H    53\n",
       "A31N0XY2UTB25C    49\n",
       "A1IU7S4HCK1XK0    42\n",
       "ANGGNFE8DXGYC     39\n",
       "Name: overall, dtype: int64"
      ]
     },
     "execution_count": 13,
     "metadata": {},
     "output_type": "execute_result"
    }
   ],
   "source": [
    "\n",
    "no_rat_each_person = rev1.groupby(by='reviewerID')['overall'].count().sort_values(ascending=False)\n",
    "no_rat_each_person.head(10)"
   ]
  },
  {
   "cell_type": "code",
   "execution_count": null,
   "metadata": {
    "colab": {
     "base_uri": "https://localhost:8080/"
    },
    "id": "vZ5_wAbzYR3W",
    "outputId": "bd72e960-292e-4e58-b5b9-8102d8fa8f9c"
   },
   "outputs": [
    {
     "data": {
      "text/plain": [
       "count    375147\n",
       "mean          1\n",
       "std           0\n",
       "min           1\n",
       "25%           1\n",
       "50%           1\n",
       "75%           1\n",
       "max          73\n",
       "Name: overall, dtype: int64"
      ]
     },
     "execution_count": 14,
     "metadata": {},
     "output_type": "execute_result"
    }
   ],
   "source": [
    "no_rat_each_person.describe().astype(int)"
   ]
  },
  {
   "cell_type": "code",
   "execution_count": null,
   "metadata": {
    "colab": {
     "base_uri": "https://localhost:8080/",
     "height": 337
    },
    "id": "0OwFvy8HYrtE",
    "outputId": "1bcb485d-11d9-44a0-d6f9-6a7a7ba072e0"
   },
   "outputs": [
    {
     "data": {
      "text/plain": [
       "<matplotlib.axes._subplots.AxesSubplot at 0x7f1b40a1e0d0>"
      ]
     },
     "execution_count": 15,
     "metadata": {},
     "output_type": "execute_result"
    },
    {
     "data": {
      "image/png": "[encoded data removed]",
      "text/plain": [
       "<Figure size 1440x360 with 1 Axes>"
      ]
     },
     "metadata": {
      "needs_background": "light"
     },
     "output_type": "display_data"
    }
   ],
   "source": [
    "plt.figure(figsize=(20,5))\n",
    "sns.boxplot(data=no_rat_each_person, orient='h', palette='Set2', dodge=False)"
   ]
  },
  {
   "cell_type": "code",
   "execution_count": null,
   "metadata": {
    "colab": {
     "base_uri": "https://localhost:8080/",
     "height": 621
    },
    "id": "E_7FAZhHYyL3",
    "outputId": "db5083c9-044a-4c02-ca3a-8bf6c6db6231"
   },
   "outputs": [
    {
     "data": {
      "image/png": "[encoded data removed]",
      "text/plain": [
       "<Figure size 720x720 with 1 Axes>"
      ]
     },
     "metadata": {
      "needs_background": "light"
     },
     "output_type": "display_data"
    }
   ],
   "source": [
    "#We can see that all the ratings are clustered at the top end of the quantile\n",
    "\n",
    "quantiles = no_rat_each_person.quantile(np.arange(0,1.01,0.01), interpolation='higher')\n",
    "plt.figure(figsize=(10,10))\n",
    "plt.title(\"Quantiles and their Values\")\n",
    "quantiles.plot()\n",
    "plt.scatter(x=quantiles.index[::5], y=quantiles.values[::5], c='red', label=\"quantiles with 0.05 intervals\")\n",
    "plt.scatter(x=quantiles.index[::25], y=quantiles.values[::25], c='green', label = \"quantiles with 0.25 intervals\")\n",
    "plt.ylabel('# ratings by user')\n",
    "plt.xlabel('Value at the quantile')\n",
    "plt.legend(loc='best')\n",
    "plt.show()"
   ]
  },
  {
   "cell_type": "code",
   "execution_count": null,
   "metadata": {
    "colab": {
     "base_uri": "https://localhost:8080/"
    },
    "id": "aQOMD8CiaH8g",
    "outputId": "c246107e-3659-4f30-bb7d-8b26b5315524"
   },
   "outputs": [
    {
     "name": "stdout",
     "output_type": "stream",
     "text": [
      "\n",
      " number of rated product more than 10 per user : 517\n",
      "\n"
     ]
    }
   ],
   "source": [
    "print('\\n number of rated product more than 10 per user : {}\\n'.format(sum( no_rat_each_person>=10)) )\n",
    "new_df=rev1.groupby(\"reviewerID\").filter(lambda x:x['overall'].count() >=10)"
   ]
  },
  {
   "cell_type": "code",
   "execution_count": null,
   "metadata": {
    "colab": {
     "base_uri": "https://localhost:8080/"
    },
    "id": "H9iWMzFSan0t",
    "outputId": "5e1b3ca3-a948-4c46-ae34-356733fee614"
   },
   "outputs": [
    {
     "data": {
      "text/plain": [
       "reviewerID\n",
       "A5JLAU2ARJ0BO     73\n",
       "A680RUE1FDO8B     71\n",
       "A225G2TFM76GYX    69\n",
       "A3W4D8XOGLWUN5    68\n",
       "A15S4XW3CRISZ5    66\n",
       "A20DZX38KRBIT8    64\n",
       "A3VL4RXCWNSR3H    53\n",
       "A31N0XY2UTB25C    49\n",
       "A1IU7S4HCK1XK0    42\n",
       "ANGGNFE8DXGYC     39\n",
       "Name: overall, dtype: int64"
      ]
     },
     "execution_count": 20,
     "metadata": {},
     "output_type": "execute_result"
    }
   ],
   "source": [
    "#total no. of rating for each person\n",
    "new_df.groupby(by='reviewerID')['overall'].count().sort_values(ascending=False)\n",
    "no_rat_each_person.head(10)"
   ]
  },
  {
   "cell_type": "code",
   "execution_count": null,
   "metadata": {
    "colab": {
     "base_uri": "https://localhost:8080/",
     "height": 295
    },
    "id": "rndgz9iI5dDo",
    "outputId": "d3daf457-1b9f-4dbf-e978-3f813a82fbee"
   },
   "outputs": [
    {
     "data": {
      "image/png": "[encoded data removed]",
      "text/plain": [
       "<Figure size 432x288 with 2 Axes>"
      ]
     },
     "metadata": {
      "needs_background": "light"
     },
     "output_type": "display_data"
    }
   ],
   "source": [
    "#PDF and CDF for the number of ratings per user\n",
    "#PDF is left skewed as majority of the users have given very few ratings\n",
    "ax1 = plt.subplot(121)\n",
    "sns.kdeplot(no_rat_each_person, shade=True, ax=ax1)\n",
    "plt.xlabel('No of ratings by user')\n",
    "plt.title(\"PDF\")\n",
    "\n",
    "ax2 = plt.subplot(122)\n",
    "sns.kdeplot(no_rat_each_person2, shade=True, cumulative=True,ax=ax2)\n",
    "plt.xlabel('No of ratings by user')\n",
    "plt.title('CDF')\n",
    "\n",
    "plt.show()"
   ]
  },
  {
   "cell_type": "code",
   "execution_count": null,
   "metadata": {
    "colab": {
     "base_uri": "https://localhost:8080/",
     "height": 302
    },
    "id": "fpZCi5y8a1ri",
    "outputId": "eed3c80b-0911-4a6b-b26a-df0e4e86354b"
   },
   "outputs": [
    {
     "data": {
      "text/plain": [
       "<function matplotlib.pyplot.show>"
      ]
     },
     "execution_count": 21,
     "metadata": {},
     "output_type": "execute_result"
    },
    {
     "data": {
      "image/png": "[encoded data removed]",
      "text/plain": [
       "<Figure size 576x288 with 1 Axes>"
      ]
     },
     "metadata": {
      "needs_background": "light"
     },
     "output_type": "display_data"
    }
   ],
   "source": [
    "#plot of number of ratings per product\n",
    "no_of_ratings_per_product = new_df.groupby(by='asin')['overall'].count().sort_values(ascending=False)\n",
    "\n",
    "fig = plt.figure(figsize=plt.figaspect(.5))\n",
    "ax = plt.gca()\n",
    "plt.plot(no_of_ratings_per_product.values)\n",
    "plt.title('no. RATINGS per Product')\n",
    "plt.xlabel('Product')\n",
    "plt.ylabel('no. ratings per product')\n",
    "ax.set_xticklabels([])\n",
    "\n",
    "plt.show\n"
   ]
  },
  {
   "cell_type": "code",
   "execution_count": null,
   "metadata": {
    "colab": {
     "base_uri": "https://localhost:8080/",
     "height": 295
    },
    "id": "-eBUdAIj5Ptt",
    "outputId": "b6b69d17-a1ca-4578-8c78-87276172f6bb"
   },
   "outputs": [
    {
     "data": {
      "image/png": "[encoded data removed]",
      "text/plain": [
       "<Figure size 432x288 with 2 Axes>"
      ]
     },
     "metadata": {
      "needs_background": "light"
     },
     "output_type": "display_data"
    }
   ],
   "source": [
    "#PDF and CDF for the number of ratings per product\n",
    "#PDF is left skewed as majority of the products have very few ratings\n",
    "ax1 = plt.subplot(121)\n",
    "sns.kdeplot(no_of_ratings_per_product, shade=True, ax=ax1)\n",
    "plt.xlabel('No of ratings by product')\n",
    "plt.title(\"PDF\")\n",
    "\n",
    "ax2 = plt.subplot(122)\n",
    "sns.kdeplot(no_of_ratings_per_product, shade=True, cumulative=True,ax=ax2)\n",
    "plt.xlabel('No of ratings by product')\n",
    "plt.title('CDF')\n",
    "\n",
    "plt.show()"
   ]
  },
  {
   "cell_type": "code",
   "execution_count": null,
   "metadata": {
    "colab": {
     "base_uri": "https://localhost:8080/",
     "height": 337
    },
    "id": "2-xNia3Wa9yM",
    "outputId": "372986c3-47d1-4c7a-b7de-aab452a148a3"
   },
   "outputs": [
    {
     "data": {
      "text/plain": [
       "<matplotlib.axes._subplots.AxesSubplot at 0x7f1b371776d0>"
      ]
     },
     "execution_count": 31,
     "metadata": {},
     "output_type": "execute_result"
    },
    {
     "data": {
      "image/png": "[encoded data removed]",
      "text/plain": [
       "<Figure size 1440x360 with 1 Axes>"
      ]
     },
     "metadata": {
      "needs_background": "light"
     },
     "output_type": "display_data"
    }
   ],
   "source": [
    "plt.figure(figsize=(20,5))\n",
    "sns.boxplot(data=no_of_ratings_per_product, orient='h', palette='Set2', dodge=False)"
   ]
  },
  {
   "cell_type": "code",
   "execution_count": null,
   "metadata": {
    "id": "aAoyXHuxfm1a"
   },
   "outputs": [],
   "source": [
    "quantiles = no_of_ratings_per_product.quantile(np.arange(0,1.01,0.01), interpolation='higher')"
   ]
  },
  {
   "cell_type": "code",
   "execution_count": null,
   "metadata": {
    "id": "G4CqRVWfVrRq"
   },
   "outputs": [],
   "source": [
    "#Extract Year\n",
    "def year_extract(reviewTime):\n",
    "    year = reviewTime[-4:]\n",
    "    return year\n",
    "\n",
    "df1['Year'] = df1['reviewTime'].apply(year_extract)"
   ]
  },
  {
   "cell_type": "code",
   "execution_count": null,
   "metadata": {
    "colab": {
     "base_uri": "https://localhost:8080/",
     "height": 287
    },
    "id": "wZreH7WjeXoF",
    "outputId": "d122e324-98c8-43ea-dcbf-683062d8be0b"
   },
   "outputs": [
    {
     "data": {
      "text/html": [
       "<div>\n",
       "<style scoped>\n",
       "    .dataframe tbody tr th:only-of-type {\n",
       "        vertical-align: middle;\n",
       "    }\n",
       "\n",
       "    .dataframe tbody tr th {\n",
       "        vertical-align: top;\n",
       "    }\n",
       "\n",
       "    .dataframe thead th {\n",
       "        text-align: right;\n",
       "    }\n",
       "</style>\n",
       "<table border=\"1\" class=\"dataframe\">\n",
       "  <thead>\n",
       "    <tr style=\"text-align: right;\">\n",
       "      <th></th>\n",
       "      <th>overall</th>\n",
       "      <th>verified</th>\n",
       "      <th>reviewTime</th>\n",
       "      <th>reviewerID</th>\n",
       "      <th>asin</th>\n",
       "      <th>style</th>\n",
       "      <th>reviewerName</th>\n",
       "      <th>reviewText</th>\n",
       "      <th>summary</th>\n",
       "      <th>unixReviewTime</th>\n",
       "      <th>vote</th>\n",
       "      <th>image</th>\n",
       "      <th>Year</th>\n",
       "    </tr>\n",
       "  </thead>\n",
       "  <tbody>\n",
       "    <tr>\n",
       "      <th>0</th>\n",
       "      <td>4.0</td>\n",
       "      <td>True</td>\n",
       "      <td>03 11, 2014</td>\n",
       "      <td>A240ORQ2LF9LUI</td>\n",
       "      <td>0077613252</td>\n",
       "      <td>{'Format:': ' Loose Leaf'}</td>\n",
       "      <td>Michelle W</td>\n",
       "      <td>The materials arrived early and were in excell...</td>\n",
       "      <td>Material Great</td>\n",
       "      <td>1394496000</td>\n",
       "      <td>NaN</td>\n",
       "      <td>NaN</td>\n",
       "      <td>2014</td>\n",
       "    </tr>\n",
       "    <tr>\n",
       "      <th>1</th>\n",
       "      <td>4.0</td>\n",
       "      <td>True</td>\n",
       "      <td>02 23, 2014</td>\n",
       "      <td>A1YCCU0YRLS0FE</td>\n",
       "      <td>0077613252</td>\n",
       "      <td>{'Format:': ' Loose Leaf'}</td>\n",
       "      <td>Rosalind White Ames</td>\n",
       "      <td>I am really enjoying this book with the worksh...</td>\n",
       "      <td>Health</td>\n",
       "      <td>1393113600</td>\n",
       "      <td>NaN</td>\n",
       "      <td>NaN</td>\n",
       "      <td>2014</td>\n",
       "    </tr>\n",
       "    <tr>\n",
       "      <th>2</th>\n",
       "      <td>1.0</td>\n",
       "      <td>True</td>\n",
       "      <td>02 17, 2014</td>\n",
       "      <td>A1BJHRQDYVAY2J</td>\n",
       "      <td>0077613252</td>\n",
       "      <td>{'Format:': ' Loose Leaf'}</td>\n",
       "      <td>Allan R. Baker</td>\n",
       "      <td>IF YOU ARE TAKING THIS CLASS DON\"T WASTE YOUR ...</td>\n",
       "      <td>ARE YOU KIDING ME?</td>\n",
       "      <td>1392595200</td>\n",
       "      <td>7</td>\n",
       "      <td>NaN</td>\n",
       "      <td>2014</td>\n",
       "    </tr>\n",
       "    <tr>\n",
       "      <th>3</th>\n",
       "      <td>3.0</td>\n",
       "      <td>True</td>\n",
       "      <td>02 17, 2014</td>\n",
       "      <td>APRDVZ6QBIQXT</td>\n",
       "      <td>0077613252</td>\n",
       "      <td>{'Format:': ' Loose Leaf'}</td>\n",
       "      <td>Lucy</td>\n",
       "      <td>This book was missing pages!!! Important pages...</td>\n",
       "      <td>missing pages!!</td>\n",
       "      <td>1392595200</td>\n",
       "      <td>3</td>\n",
       "      <td>NaN</td>\n",
       "      <td>2014</td>\n",
       "    </tr>\n",
       "    <tr>\n",
       "      <th>4</th>\n",
       "      <td>5.0</td>\n",
       "      <td>False</td>\n",
       "      <td>10 14, 2013</td>\n",
       "      <td>A2JZTTBSLS1QXV</td>\n",
       "      <td>0077775473</td>\n",
       "      <td>NaN</td>\n",
       "      <td>Albert V.</td>\n",
       "      <td>I have used LearnSmart and can officially say ...</td>\n",
       "      <td>Best study product out there!</td>\n",
       "      <td>1381708800</td>\n",
       "      <td>NaN</td>\n",
       "      <td>NaN</td>\n",
       "      <td>2013</td>\n",
       "    </tr>\n",
       "  </tbody>\n",
       "</table>\n",
       "</div>"
      ],
      "text/plain": [
       "   overall  verified   reviewTime  ... vote image  Year\n",
       "0      4.0      True  03 11, 2014  ...  NaN   NaN  2014\n",
       "1      4.0      True  02 23, 2014  ...  NaN   NaN  2014\n",
       "2      1.0      True  02 17, 2014  ...    7   NaN  2014\n",
       "3      3.0      True  02 17, 2014  ...    3   NaN  2014\n",
       "4      5.0     False  10 14, 2013  ...  NaN   NaN  2013\n",
       "\n",
       "[5 rows x 13 columns]"
      ]
     },
     "execution_count": 25,
     "metadata": {},
     "output_type": "execute_result"
    }
   ],
   "source": [
    "df1.head(5)"
   ]
  },
  {
   "cell_type": "code",
   "execution_count": null,
   "metadata": {
    "id": "alt8ArBGeqq8"
   },
   "outputs": [],
   "source": [
    "l=df1['Year'].value_counts()\n",
    "year_count=l.to_frame()"
   ]
  },
  {
   "cell_type": "code",
   "execution_count": null,
   "metadata": {
    "id": "OtlQlZebe3nu"
   },
   "outputs": [],
   "source": [
    "year_count.rename({'Year':'count'}, axis=1,inplace=True)"
   ]
  },
  {
   "cell_type": "code",
   "execution_count": null,
   "metadata": {
    "id": "68tLTesze8RE"
   },
   "outputs": [],
   "source": [
    "year_count.reset_index(level=0, inplace=True)"
   ]
  },
  {
   "cell_type": "code",
   "execution_count": null,
   "metadata": {
    "colab": {
     "base_uri": "https://localhost:8080/",
     "height": 203
    },
    "id": "iF7Vi8uQfH0c",
    "outputId": "a27d7fc2-6bae-40e1-fa83-b0d72eae4dc8"
   },
   "outputs": [
    {
     "data": {
      "text/html": [
       "<div>\n",
       "<style scoped>\n",
       "    .dataframe tbody tr th:only-of-type {\n",
       "        vertical-align: middle;\n",
       "    }\n",
       "\n",
       "    .dataframe tbody tr th {\n",
       "        vertical-align: top;\n",
       "    }\n",
       "\n",
       "    .dataframe thead th {\n",
       "        text-align: right;\n",
       "    }\n",
       "</style>\n",
       "<table border=\"1\" class=\"dataframe\">\n",
       "  <thead>\n",
       "    <tr style=\"text-align: right;\">\n",
       "      <th></th>\n",
       "      <th>year</th>\n",
       "      <th>count</th>\n",
       "    </tr>\n",
       "  </thead>\n",
       "  <tbody>\n",
       "    <tr>\n",
       "      <th>0</th>\n",
       "      <td>2015</td>\n",
       "      <td>86324</td>\n",
       "    </tr>\n",
       "    <tr>\n",
       "      <th>1</th>\n",
       "      <td>2014</td>\n",
       "      <td>77348</td>\n",
       "    </tr>\n",
       "    <tr>\n",
       "      <th>2</th>\n",
       "      <td>2016</td>\n",
       "      <td>66786</td>\n",
       "    </tr>\n",
       "    <tr>\n",
       "      <th>3</th>\n",
       "      <td>2013</td>\n",
       "      <td>46663</td>\n",
       "    </tr>\n",
       "    <tr>\n",
       "      <th>4</th>\n",
       "      <td>2017</td>\n",
       "      <td>29350</td>\n",
       "    </tr>\n",
       "  </tbody>\n",
       "</table>\n",
       "</div>"
      ],
      "text/plain": [
       "   year  count\n",
       "0  2015  86324\n",
       "1  2014  77348\n",
       "2  2016  66786\n",
       "3  2013  46663\n",
       "4  2017  29350"
      ]
     },
     "execution_count": 29,
     "metadata": {},
     "output_type": "execute_result"
    }
   ],
   "source": [
    "year_count.rename({'index':'year'}, axis=1,inplace=True)\n",
    "year_count.head(5)"
   ]
  },
  {
   "cell_type": "code",
   "execution_count": null,
   "metadata": {
    "colab": {
     "base_uri": "https://localhost:8080/",
     "height": 405
    },
    "id": "ba8wQ9OSYEkq",
    "outputId": "034cc741-8230-4720-9629-609dbffaa835"
   },
   "outputs": [
    {
     "data": {
      "text/plain": [
       "<matplotlib.legend.Legend at 0x7f1b37303110>"
      ]
     },
     "execution_count": 46,
     "metadata": {},
     "output_type": "execute_result"
    },
    {
     "data": {
      "image/png": "[encoded data removed]",
      "text/plain": [
       "<Figure size 864x432 with 1 Axes>"
      ]
     },
     "metadata": {
      "needs_background": "light"
     },
     "output_type": "display_data"
    }
   ],
   "source": [
    "#year wise total number of sell\n",
    "import matplotlib.pyplot as plt\n",
    "  \n",
    "x = year_count['year']\n",
    "y = year_count['count']\n",
    "\n",
    "  \n",
    "# Plotting the Data\n",
    "plt.figure(figsize=(12,6))\n",
    "plt.plot(x, y, label='Trend of ratings by year')\n",
    "  \n",
    "plt.xlabel('year')\n",
    "plt.ylabel('total ratings')\n",
    "  \n",
    "plt.plot(y, 'o:g', linestyle='--', linewidth='2')\n",
    "\n",
    "  \n",
    "plt.legend()"
   ]
  },
  {
   "cell_type": "code",
   "execution_count": null,
   "metadata": {
    "colab": {
     "base_uri": "https://localhost:8080/"
    },
    "id": "r9k4ssUMTW3P",
    "outputId": "2cd661a3-cf58-4b74-e15c-411585047856"
   },
   "outputs": [
    {
     "data": {
      "text/plain": [
       "asin\n",
       "B008H3SW4I    35\n",
       "B000Y7Y6IQ    32\n",
       "B000X86ZAS    32\n",
       "B0017KEA6W    30\n",
       "B0013OAHTG    28\n",
       "Name: overall, dtype: int64"
      ]
     },
     "execution_count": 37,
     "metadata": {},
     "output_type": "execute_result"
    }
   ],
   "source": [
    "#Total no of rating for product\n",
    "new_df.groupby('asin')['overall'].count().sort_values(ascending=False).head()"
   ]
  },
  {
   "cell_type": "code",
   "execution_count": null,
   "metadata": {
    "id": "rBwxxa44TW0n"
   },
   "outputs": [],
   "source": [
    "#mean rating for a product\n",
    "ratings_mean_count = pd.DataFrame(new_df.groupby('asin')['overall'].mean())"
   ]
  },
  {
   "cell_type": "code",
   "execution_count": null,
   "metadata": {
    "colab": {
     "base_uri": "https://localhost:8080/",
     "height": 234
    },
    "id": "2E7QGqmWTWxo",
    "outputId": "8543df88-9fbc-4b02-cc15-3299109da666"
   },
   "outputs": [
    {
     "data": {
      "text/html": [
       "<div>\n",
       "<style scoped>\n",
       "    .dataframe tbody tr th:only-of-type {\n",
       "        vertical-align: middle;\n",
       "    }\n",
       "\n",
       "    .dataframe tbody tr th {\n",
       "        vertical-align: top;\n",
       "    }\n",
       "\n",
       "    .dataframe thead th {\n",
       "        text-align: right;\n",
       "    }\n",
       "</style>\n",
       "<table border=\"1\" class=\"dataframe\">\n",
       "  <thead>\n",
       "    <tr style=\"text-align: right;\">\n",
       "      <th></th>\n",
       "      <th>overall</th>\n",
       "    </tr>\n",
       "    <tr>\n",
       "      <th>asin</th>\n",
       "      <th></th>\n",
       "    </tr>\n",
       "  </thead>\n",
       "  <tbody>\n",
       "    <tr>\n",
       "      <th>0201656302</th>\n",
       "      <td>4.000000</td>\n",
       "    </tr>\n",
       "    <tr>\n",
       "      <th>031024837X</th>\n",
       "      <td>3.000000</td>\n",
       "    </tr>\n",
       "    <tr>\n",
       "      <th>0321700945</th>\n",
       "      <td>5.000000</td>\n",
       "    </tr>\n",
       "    <tr>\n",
       "      <th>0321719816</th>\n",
       "      <td>4.666667</td>\n",
       "    </tr>\n",
       "    <tr>\n",
       "      <th>0321719824</th>\n",
       "      <td>4.000000</td>\n",
       "    </tr>\n",
       "  </tbody>\n",
       "</table>\n",
       "</div>"
      ],
      "text/plain": [
       "             overall\n",
       "asin                \n",
       "0201656302  4.000000\n",
       "031024837X  3.000000\n",
       "0321700945  5.000000\n",
       "0321719816  4.666667\n",
       "0321719824  4.000000"
      ]
     },
     "execution_count": 39,
     "metadata": {},
     "output_type": "execute_result"
    }
   ],
   "source": [
    "ratings_mean_count.head(5)"
   ]
  },
  {
   "cell_type": "code",
   "execution_count": null,
   "metadata": {
    "colab": {
     "base_uri": "https://localhost:8080/",
     "height": 234
    },
    "id": "NjxSJPzFgs6F",
    "outputId": "992a110b-611a-4972-8a66-4e9daf145ede"
   },
   "outputs": [
    {
     "data": {
      "text/html": [
       "<div>\n",
       "<style scoped>\n",
       "    .dataframe tbody tr th:only-of-type {\n",
       "        vertical-align: middle;\n",
       "    }\n",
       "\n",
       "    .dataframe tbody tr th {\n",
       "        vertical-align: top;\n",
       "    }\n",
       "\n",
       "    .dataframe thead th {\n",
       "        text-align: right;\n",
       "    }\n",
       "</style>\n",
       "<table border=\"1\" class=\"dataframe\">\n",
       "  <thead>\n",
       "    <tr style=\"text-align: right;\">\n",
       "      <th></th>\n",
       "      <th>overall</th>\n",
       "      <th>rating_counts</th>\n",
       "    </tr>\n",
       "    <tr>\n",
       "      <th>asin</th>\n",
       "      <th></th>\n",
       "      <th></th>\n",
       "    </tr>\n",
       "  </thead>\n",
       "  <tbody>\n",
       "    <tr>\n",
       "      <th>0201656302</th>\n",
       "      <td>4.000000</td>\n",
       "      <td>1</td>\n",
       "    </tr>\n",
       "    <tr>\n",
       "      <th>031024837X</th>\n",
       "      <td>3.000000</td>\n",
       "      <td>1</td>\n",
       "    </tr>\n",
       "    <tr>\n",
       "      <th>0321700945</th>\n",
       "      <td>5.000000</td>\n",
       "      <td>5</td>\n",
       "    </tr>\n",
       "    <tr>\n",
       "      <th>0321719816</th>\n",
       "      <td>4.666667</td>\n",
       "      <td>6</td>\n",
       "    </tr>\n",
       "    <tr>\n",
       "      <th>0321719824</th>\n",
       "      <td>4.000000</td>\n",
       "      <td>3</td>\n",
       "    </tr>\n",
       "  </tbody>\n",
       "</table>\n",
       "</div>"
      ],
      "text/plain": [
       "             overall  rating_counts\n",
       "asin                               \n",
       "0201656302  4.000000              1\n",
       "031024837X  3.000000              1\n",
       "0321700945  5.000000              5\n",
       "0321719816  4.666667              6\n",
       "0321719824  4.000000              3"
      ]
     },
     "execution_count": 40,
     "metadata": {},
     "output_type": "execute_result"
    }
   ],
   "source": [
    "ratings_mean_count['rating_counts'] = pd.DataFrame(new_df.groupby('asin')['overall'].count())\n",
    "ratings_mean_count.head(5)"
   ]
  },
  {
   "cell_type": "code",
   "execution_count": null,
   "metadata": {
    "colab": {
     "base_uri": "https://localhost:8080/"
    },
    "id": "gj6Ezz_Ogs9V",
    "outputId": "d3bc930d-950c-4d30-b0c0-f1441eb33263"
   },
   "outputs": [
    {
     "data": {
      "text/plain": [
       "asin\n",
       "B008H3SW4I    35\n",
       "B000Y7Y6IQ    32\n",
       "B000X86ZAS    32\n",
       "B0017KEA6W    30\n",
       "B0013OAHTG    28\n",
       "Name: overall, dtype: int64"
      ]
     },
     "execution_count": 41,
     "metadata": {},
     "output_type": "execute_result"
    }
   ],
   "source": [
    "\n",
    "#Total no of rating for product\n",
    "\n",
    "new_df.groupby('asin')['overall'].count().sort_values(ascending=False).head()"
   ]
  },
  {
   "cell_type": "code",
   "execution_count": null,
   "metadata": {
    "colab": {
     "base_uri": "https://localhost:8080/"
    },
    "id": "R_x2uk1NgtAj",
    "outputId": "b77457f1-bd87-44f5-e62b-472485320f26"
   },
   "outputs": [
    {
     "data": {
      "text/plain": [
       "35"
      ]
     },
     "execution_count": 42,
     "metadata": {},
     "output_type": "execute_result"
    }
   ],
   "source": [
    "ratings_mean_count['rating_counts'].max()"
   ]
  },
  {
   "cell_type": "code",
   "execution_count": null,
   "metadata": {
    "colab": {
     "base_uri": "https://localhost:8080/",
     "height": 391
    },
    "id": "XVYRfw24gtEK",
    "outputId": "efb94d4d-20fa-49e7-b908-0ec5c829bb27"
   },
   "outputs": [
    {
     "data": {
      "text/plain": [
       "<matplotlib.axes._subplots.AxesSubplot at 0x7f1b371f3a50>"
      ]
     },
     "execution_count": 43,
     "metadata": {},
     "output_type": "execute_result"
    },
    {
     "data": {
      "image/png": "[encoded data removed]",
      "text/plain": [
       "<Figure size 576x432 with 1 Axes>"
      ]
     },
     "metadata": {
      "needs_background": "light"
     },
     "output_type": "display_data"
    }
   ],
   "source": [
    "#Majority of the products have received 1 rating only and it is a right skewed distribution\n",
    "plt.figure(figsize=(8,6))\n",
    "ratings_mean_count['rating_counts'].hist(bins=100)"
   ]
  },
  {
   "cell_type": "code",
   "execution_count": null,
   "metadata": {
    "colab": {
     "base_uri": "https://localhost:8080/",
     "height": 474
    },
    "id": "zhN7t9y7kEa-",
    "outputId": "535edac7-d976-4766-8046-31967cd3d901"
   },
   "outputs": [
    {
     "data": {
      "text/plain": [
       "<seaborn.axisgrid.JointGrid at 0x7f1b3734a290>"
      ]
     },
     "execution_count": 47,
     "metadata": {},
     "output_type": "execute_result"
    },
    {
     "data": {
      "text/plain": [
       "<Figure size 576x432 with 0 Axes>"
      ]
     },
     "metadata": {},
     "output_type": "display_data"
    },
    {
     "data": {
      "image/png": "[encoded data removed]",
      "text/plain": [
       "<Figure size 432x432 with 3 Axes>"
      ]
     },
     "metadata": {
      "needs_background": "light"
     },
     "output_type": "display_data"
    }
   ],
   "source": [
    "#From the joint plot below it seems that popular products (higher ratings) tend to be rated more frequently\n",
    "plt.figure(figsize=(8,6))\n",
    "plt.rcParams['patch.force_edgecolor'] = True\n",
    "sns.jointplot(x='overall', y='rating_counts', data=ratings_mean_count, alpha=0.4)\n"
   ]
  },
  {
   "cell_type": "code",
   "execution_count": null,
   "metadata": {
    "id": "cIp2CUIoktOV"
   },
   "outputs": [],
   "source": [
    "ratings_mean_count['rating_counts'] = pd.DataFrame(new_df.groupby('asin')['overall'].count())"
   ]
  },
  {
   "cell_type": "code",
   "execution_count": null,
   "metadata": {
    "colab": {
     "base_uri": "https://localhost:8080/",
     "height": 234
    },
    "id": "BhUcZPlsk50U",
    "outputId": "13b87ca1-0130-4a6b-8a55-86df91868e52"
   },
   "outputs": [
    {
     "data": {
      "text/html": [
       "<div>\n",
       "<style scoped>\n",
       "    .dataframe tbody tr th:only-of-type {\n",
       "        vertical-align: middle;\n",
       "    }\n",
       "\n",
       "    .dataframe tbody tr th {\n",
       "        vertical-align: top;\n",
       "    }\n",
       "\n",
       "    .dataframe thead th {\n",
       "        text-align: right;\n",
       "    }\n",
       "</style>\n",
       "<table border=\"1\" class=\"dataframe\">\n",
       "  <thead>\n",
       "    <tr style=\"text-align: right;\">\n",
       "      <th></th>\n",
       "      <th>overall</th>\n",
       "      <th>rating_counts</th>\n",
       "    </tr>\n",
       "    <tr>\n",
       "      <th>asin</th>\n",
       "      <th></th>\n",
       "      <th></th>\n",
       "    </tr>\n",
       "  </thead>\n",
       "  <tbody>\n",
       "    <tr>\n",
       "      <th>0201656302</th>\n",
       "      <td>4.000000</td>\n",
       "      <td>1</td>\n",
       "    </tr>\n",
       "    <tr>\n",
       "      <th>031024837X</th>\n",
       "      <td>3.000000</td>\n",
       "      <td>1</td>\n",
       "    </tr>\n",
       "    <tr>\n",
       "      <th>0321700945</th>\n",
       "      <td>5.000000</td>\n",
       "      <td>5</td>\n",
       "    </tr>\n",
       "    <tr>\n",
       "      <th>0321719816</th>\n",
       "      <td>4.666667</td>\n",
       "      <td>6</td>\n",
       "    </tr>\n",
       "    <tr>\n",
       "      <th>0321719824</th>\n",
       "      <td>4.000000</td>\n",
       "      <td>3</td>\n",
       "    </tr>\n",
       "  </tbody>\n",
       "</table>\n",
       "</div>"
      ],
      "text/plain": [
       "             overall  rating_counts\n",
       "asin                               \n",
       "0201656302  4.000000              1\n",
       "031024837X  3.000000              1\n",
       "0321700945  5.000000              5\n",
       "0321719816  4.666667              6\n",
       "0321719824  4.000000              3"
      ]
     },
     "execution_count": 50,
     "metadata": {},
     "output_type": "execute_result"
    }
   ],
   "source": [
    "ratings_mean_count.head()"
   ]
  },
  {
   "cell_type": "code",
   "execution_count": null,
   "metadata": {
    "colab": {
     "base_uri": "https://localhost:8080/",
     "height": 391
    },
    "id": "clpVwGRDkEeh",
    "outputId": "cac37b73-48cb-44ed-ea02-be9f25214b3c"
   },
   "outputs": [
    {
     "data": {
      "text/plain": [
       "<matplotlib.axes._subplots.AxesSubplot at 0x7f1b374abfd0>"
      ]
     },
     "execution_count": 53,
     "metadata": {},
     "output_type": "execute_result"
    },
    {
     "data": {
      "image/png": "[encoded data removed]",
      "text/plain": [
       "<Figure size 576x432 with 1 Axes>"
      ]
     },
     "metadata": {
      "needs_background": "light"
     },
     "output_type": "display_data"
    }
   ],
   "source": [
    "plt.figure(figsize=(8,6))\n",
    "plt.rcParams['patch.force_edgecolor'] = True\n",
    "ratings_mean_count['rating_counts'].hist(bins=50)"
   ]
  },
  {
   "cell_type": "code",
   "execution_count": null,
   "metadata": {
    "colab": {
     "base_uri": "https://localhost:8080/",
     "height": 357
    },
    "id": "5Os7IGKETWaq",
    "outputId": "e3b3ecbf-7469-4c3c-bb3d-7655a48e8b67"
   },
   "outputs": [
    {
     "data": {
      "text/plain": [
       "<matplotlib.axes._subplots.AxesSubplot at 0x7f1b374b6750>"
      ]
     },
     "execution_count": 56,
     "metadata": {},
     "output_type": "execute_result"
    },
    {
     "data": {
      "image/png": "[encoded data removed]",
      "text/plain": [
       "<Figure size 432x288 with 1 Axes>"
      ]
     },
     "metadata": {
      "needs_background": "light"
     },
     "output_type": "display_data"
    }
   ],
   "source": [
    "#Below is the bar graph showing product list of top 30 most popular products\n",
    "popular_products = pd.DataFrame(new_df.groupby('asin')['overall'].count())\n",
    "most_popular = popular_products.sort_values('overall', ascending=False)\n",
    "most_popular.head(30).plot(kind = \"bar\")"
   ]
  },
  {
   "cell_type": "code",
   "execution_count": null,
   "metadata": {
    "id": "sSsRL--Omfg2"
   },
   "outputs": [],
   "source": [
    "no_of_ratings_per_user = new_df.groupby(by='reviewerID')['overall'].count().sort_values(ascending=False)"
   ]
  },
  {
   "cell_type": "markdown",
   "metadata": {
    "id": "ArKo-6jajUg6"
   },
   "source": [
    "#**MODEL (ALS)**"
   ]
  },
  {
   "cell_type": "markdown",
   "metadata": {
    "id": "E_-YDcI7QYFI"
   },
   "source": [
    "##Importing and Installing Modules"
   ]
  },
  {
   "cell_type": "code",
   "execution_count": null,
   "metadata": {
    "colab": {
     "base_uri": "https://localhost:8080/"
    },
    "id": "TukZfMGPK9L0",
    "outputId": "03f21b8c-beae-40eb-efac-1d6ff8083b58"
   },
   "outputs": [
    {
     "name": "stdout",
     "output_type": "stream",
     "text": [
      "update-alternatives: using /usr/lib/jvm/java-8-openjdk-amd64/jre/bin/java to provide /usr/bin/java (java) in manual mode\n"
     ]
    }
   ],
   "source": [
    "# Install jdk8\n",
    "!apt-get install openjdk-8-jdk-headless -qq > /dev/null\n",
    "# Set jdk environment path which enables you to run Pyspark in your Colab environment.\n",
    "import os\n",
    "os.environ[\"JAVA_HOME\"] = \"/usr/lib/jvm/java-8-openjdk-amd64\"\n",
    "!update-alternatives --set java /usr/lib/jvm/java-8-openjdk-amd64/jre/bin/java"
   ]
  },
  {
   "cell_type": "code",
   "execution_count": null,
   "metadata": {
    "colab": {
     "base_uri": "https://localhost:8080/"
    },
    "id": "kfoBfpwuQiQ3",
    "outputId": "0f642598-b3fe-4aec-89d1-0eb51234ad20"
   },
   "outputs": [
    {
     "name": "stdout",
     "output_type": "stream",
     "text": [
      "Collecting pyspark==2.3.0\n",
      "  Downloading pyspark-2.3.0.tar.gz (211.9 MB)\n",
      "\u001b[K     |████████████████████████████████| 211.9 MB 56 kB/s \n",
      "\u001b[?25hCollecting py4j==0.10.6\n",
      "  Downloading py4j-0.10.6-py2.py3-none-any.whl (189 kB)\n",
      "\u001b[K     |████████████████████████████████| 189 kB 21.2 MB/s \n",
      "\u001b[?25hBuilding wheels for collected packages: pyspark\n",
      "  Building wheel for pyspark (setup.py) ... \u001b[?25l\u001b[?25hdone\n",
      "  Created wheel for pyspark: filename=pyspark-2.3.0-py2.py3-none-any.whl size=212271917 sha256=1a8d74e8a4d6dff20959f1135584429ae6c1cfde764aa20636a071907e2f7380\n",
      "  Stored in directory: /root/.cache/pip/wheels/c0/ed/08/40a6e0c03e6564ebe4e757a6081779570dd81f73a5817789e6\n",
      "Successfully built pyspark\n",
      "Installing collected packages: py4j, pyspark\n",
      "Successfully installed py4j-0.10.6 pyspark-2.3.0\n"
     ]
    }
   ],
   "source": [
    "!pip install pyspark==2.3.0"
   ]
  },
  {
   "cell_type": "code",
   "execution_count": null,
   "metadata": {
    "id": "mhNAxwaNQtUV"
   },
   "outputs": [],
   "source": [
    "#import module\n",
    "from pyspark.ml.recommendation import ALS\n",
    "from pyspark.sql import SparkSession\n",
    "from pyspark import SparkContext\n",
    "from pyspark.sql.functions import col\n",
    "from pyspark.sql import SQLContext\n",
    "from pyspark.ml import Pipeline\n",
    "from pyspark.ml.feature import StringIndexer\n",
    "from pyspark.ml.evaluation import RegressionEvaluator\n",
    "from pyspark.sql.types import StructType, StructField, IntegerType\n",
    "import matplotlib.pyplot as plt\n",
    "%matplotlib inline\n",
    "import numpy as np\n",
    "import pandas as pd\n",
    "import seaborn as sns\n",
    "import matplotlib.pyplot as plt\n",
    "import json\n",
    "import gzip\n",
    "from copy import deepcopy\n",
    "import time\n",
    "from scipy.sparse.linalg import svds\n",
    "from sklearn.metrics import mean_absolute_error"
   ]
  },
  {
   "cell_type": "markdown",
   "metadata": {
    "id": "UcOMH3-6QwQj"
   },
   "source": [
    "##DATASET"
   ]
  },
  {
   "cell_type": "code",
   "execution_count": null,
   "metadata": {
    "colab": {
     "base_uri": "https://localhost:8080/"
    },
    "id": "ISbHyMEGM93f",
    "outputId": "646bee9e-4464-40c5-bb35-65682c2a62f3"
   },
   "outputs": [
    {
     "name": "stdout",
     "output_type": "stream",
     "text": [
      "Mounted at /content/drive\n"
     ]
    }
   ],
   "source": [
    "from google.colab import drive\n",
    "drive.mount('/content/drive')"
   ]
  },
  {
   "cell_type": "code",
   "execution_count": null,
   "metadata": {
    "colab": {
     "base_uri": "https://localhost:8080/"
    },
    "id": "LduvKuw5bn9l",
    "outputId": "899cf2d1-d3fc-4e2f-c097-4f76c91ab772"
   },
   "outputs": [
    {
     "name": "stdout",
     "output_type": "stream",
     "text": [
      "459436\n",
      "{'overall': 4.0, 'verified': True, 'reviewTime': '03 11, 2014', 'reviewerID': 'A240ORQ2LF9LUI', 'asin': '0077613252', 'style': {'Format:': ' Loose Leaf'}, 'reviewerName': 'Michelle W', 'reviewText': \"The materials arrived early and were in excellent condition.  However for the money spent they really should've come with a binder and not just loose leaf.\", 'summary': 'Material Great', 'unixReviewTime': 1394496000}\n"
     ]
    }
   ],
   "source": [
    "df1= []\n",
    "with gzip.open(r'/content/drive/MyDrive/dataset/Software.json.gz') as f:\n",
    "    for l in f:\n",
    "        df1.append(json.loads(l.strip()))\n",
    "print(len(df1))\n",
    "print(df1[0])"
   ]
  },
  {
   "cell_type": "code",
   "execution_count": null,
   "metadata": {
    "id": "JQMWtgH7b9hV"
   },
   "outputs": [],
   "source": [
    "df1= pd.DataFrame.from_dict(df1)"
   ]
  },
  {
   "cell_type": "code",
   "execution_count": null,
   "metadata": {
    "id": "XBHWHBlrNy5N"
   },
   "outputs": [],
   "source": [
    "#create session\n",
    "appName = \"Recommendation system in Spark with ALS\"\n",
    "spark = SparkSession \\\n",
    "    .builder \\\n",
    "    .appName(appName) \\\n",
    "    .config(\"spark.some.config.option\", \"some-value\") \\\n",
    "    .getOrCreate()"
   ]
  },
  {
   "cell_type": "code",
   "execution_count": null,
   "metadata": {
    "colab": {
     "base_uri": "https://localhost:8080/",
     "height": 192
    },
    "id": "7fATIrTDOCKN",
    "outputId": "8e008497-3977-4dd6-e8be-e32dfc72a25e"
   },
   "outputs": [
    {
     "data": {
      "text/html": [
       "<div>\n",
       "<style scoped>\n",
       "    .dataframe tbody tr th:only-of-type {\n",
       "        vertical-align: middle;\n",
       "    }\n",
       "\n",
       "    .dataframe tbody tr th {\n",
       "        vertical-align: top;\n",
       "    }\n",
       "\n",
       "    .dataframe thead th {\n",
       "        text-align: right;\n",
       "    }\n",
       "</style>\n",
       "<table border=\"1\" class=\"dataframe\">\n",
       "  <thead>\n",
       "    <tr style=\"text-align: right;\">\n",
       "      <th></th>\n",
       "      <th>overall</th>\n",
       "      <th>verified</th>\n",
       "      <th>reviewTime</th>\n",
       "      <th>reviewerID</th>\n",
       "      <th>asin</th>\n",
       "      <th>style</th>\n",
       "      <th>reviewerName</th>\n",
       "      <th>reviewText</th>\n",
       "      <th>summary</th>\n",
       "      <th>unixReviewTime</th>\n",
       "      <th>vote</th>\n",
       "      <th>image</th>\n",
       "    </tr>\n",
       "  </thead>\n",
       "  <tbody>\n",
       "    <tr>\n",
       "      <th>0</th>\n",
       "      <td>4.0</td>\n",
       "      <td>True</td>\n",
       "      <td>03 11, 2014</td>\n",
       "      <td>A240ORQ2LF9LUI</td>\n",
       "      <td>0077613252</td>\n",
       "      <td>{'Format:': ' Loose Leaf'}</td>\n",
       "      <td>Michelle W</td>\n",
       "      <td>The materials arrived early and were in excell...</td>\n",
       "      <td>Material Great</td>\n",
       "      <td>1394496000</td>\n",
       "      <td>NaN</td>\n",
       "      <td>NaN</td>\n",
       "    </tr>\n",
       "    <tr>\n",
       "      <th>1</th>\n",
       "      <td>4.0</td>\n",
       "      <td>True</td>\n",
       "      <td>02 23, 2014</td>\n",
       "      <td>A1YCCU0YRLS0FE</td>\n",
       "      <td>0077613252</td>\n",
       "      <td>{'Format:': ' Loose Leaf'}</td>\n",
       "      <td>Rosalind White Ames</td>\n",
       "      <td>I am really enjoying this book with the worksh...</td>\n",
       "      <td>Health</td>\n",
       "      <td>1393113600</td>\n",
       "      <td>NaN</td>\n",
       "      <td>NaN</td>\n",
       "    </tr>\n",
       "    <tr>\n",
       "      <th>2</th>\n",
       "      <td>1.0</td>\n",
       "      <td>True</td>\n",
       "      <td>02 17, 2014</td>\n",
       "      <td>A1BJHRQDYVAY2J</td>\n",
       "      <td>0077613252</td>\n",
       "      <td>{'Format:': ' Loose Leaf'}</td>\n",
       "      <td>Allan R. Baker</td>\n",
       "      <td>IF YOU ARE TAKING THIS CLASS DON\"T WASTE YOUR ...</td>\n",
       "      <td>ARE YOU KIDING ME?</td>\n",
       "      <td>1392595200</td>\n",
       "      <td>7</td>\n",
       "      <td>NaN</td>\n",
       "    </tr>\n",
       "  </tbody>\n",
       "</table>\n",
       "</div>"
      ],
      "text/plain": [
       "   overall  verified   reviewTime  ... unixReviewTime vote image\n",
       "0      4.0      True  03 11, 2014  ...     1394496000  NaN   NaN\n",
       "1      4.0      True  02 23, 2014  ...     1393113600  NaN   NaN\n",
       "2      1.0      True  02 17, 2014  ...     1392595200    7   NaN\n",
       "\n",
       "[3 rows x 12 columns]"
      ]
     },
     "execution_count": 12,
     "metadata": {},
     "output_type": "execute_result"
    }
   ],
   "source": [
    "df1.head(3)"
   ]
  },
  {
   "cell_type": "markdown",
   "metadata": {
    "id": "Opy32nWpRXuF"
   },
   "source": [
    "Dropping Duplicates"
   ]
  },
  {
   "cell_type": "code",
   "execution_count": null,
   "metadata": {
    "colab": {
     "base_uri": "https://localhost:8080/",
     "height": 417
    },
    "id": "WI6NKSwcOQjy",
    "outputId": "a14d9e30-6039-429e-a0ab-58a614e92477"
   },
   "outputs": [
    {
     "data": {
      "text/html": [
       "<div>\n",
       "<style scoped>\n",
       "    .dataframe tbody tr th:only-of-type {\n",
       "        vertical-align: middle;\n",
       "    }\n",
       "\n",
       "    .dataframe tbody tr th {\n",
       "        vertical-align: top;\n",
       "    }\n",
       "\n",
       "    .dataframe thead th {\n",
       "        text-align: right;\n",
       "    }\n",
       "</style>\n",
       "<table border=\"1\" class=\"dataframe\">\n",
       "  <thead>\n",
       "    <tr style=\"text-align: right;\">\n",
       "      <th></th>\n",
       "      <th>overall</th>\n",
       "      <th>reviewerID</th>\n",
       "      <th>asin</th>\n",
       "      <th>unixReviewTime</th>\n",
       "    </tr>\n",
       "  </thead>\n",
       "  <tbody>\n",
       "    <tr>\n",
       "      <th>0</th>\n",
       "      <td>4.0</td>\n",
       "      <td>A240ORQ2LF9LUI</td>\n",
       "      <td>0077613252</td>\n",
       "      <td>1394496000</td>\n",
       "    </tr>\n",
       "    <tr>\n",
       "      <th>1</th>\n",
       "      <td>4.0</td>\n",
       "      <td>A1YCCU0YRLS0FE</td>\n",
       "      <td>0077613252</td>\n",
       "      <td>1393113600</td>\n",
       "    </tr>\n",
       "    <tr>\n",
       "      <th>2</th>\n",
       "      <td>1.0</td>\n",
       "      <td>A1BJHRQDYVAY2J</td>\n",
       "      <td>0077613252</td>\n",
       "      <td>1392595200</td>\n",
       "    </tr>\n",
       "    <tr>\n",
       "      <th>3</th>\n",
       "      <td>3.0</td>\n",
       "      <td>APRDVZ6QBIQXT</td>\n",
       "      <td>0077613252</td>\n",
       "      <td>1392595200</td>\n",
       "    </tr>\n",
       "    <tr>\n",
       "      <th>4</th>\n",
       "      <td>5.0</td>\n",
       "      <td>A2JZTTBSLS1QXV</td>\n",
       "      <td>0077775473</td>\n",
       "      <td>1381708800</td>\n",
       "    </tr>\n",
       "    <tr>\n",
       "      <th>...</th>\n",
       "      <td>...</td>\n",
       "      <td>...</td>\n",
       "      <td>...</td>\n",
       "      <td>...</td>\n",
       "    </tr>\n",
       "    <tr>\n",
       "      <th>459431</th>\n",
       "      <td>2.0</td>\n",
       "      <td>AGEWYJ2NF5C2H</td>\n",
       "      <td>B01HF41TKI</td>\n",
       "      <td>1480377600</td>\n",
       "    </tr>\n",
       "    <tr>\n",
       "      <th>459432</th>\n",
       "      <td>1.0</td>\n",
       "      <td>A3VCFV8WEQG9R5</td>\n",
       "      <td>B01HF3G4BS</td>\n",
       "      <td>1519862400</td>\n",
       "    </tr>\n",
       "    <tr>\n",
       "      <th>459433</th>\n",
       "      <td>5.0</td>\n",
       "      <td>A3DXGHJF6SOHNC</td>\n",
       "      <td>B01HF3G4BS</td>\n",
       "      <td>1512172800</td>\n",
       "    </tr>\n",
       "    <tr>\n",
       "      <th>459434</th>\n",
       "      <td>5.0</td>\n",
       "      <td>A1WOS4D7QA06DO</td>\n",
       "      <td>B01HJAMWOK</td>\n",
       "      <td>1536969600</td>\n",
       "    </tr>\n",
       "    <tr>\n",
       "      <th>459435</th>\n",
       "      <td>5.0</td>\n",
       "      <td>A20SG9ZGIIFW69</td>\n",
       "      <td>B01HJAMWOK</td>\n",
       "      <td>1475625600</td>\n",
       "    </tr>\n",
       "  </tbody>\n",
       "</table>\n",
       "<p>459436 rows × 4 columns</p>\n",
       "</div>"
      ],
      "text/plain": [
       "        overall      reviewerID        asin  unixReviewTime\n",
       "0           4.0  A240ORQ2LF9LUI  0077613252      1394496000\n",
       "1           4.0  A1YCCU0YRLS0FE  0077613252      1393113600\n",
       "2           1.0  A1BJHRQDYVAY2J  0077613252      1392595200\n",
       "3           3.0   APRDVZ6QBIQXT  0077613252      1392595200\n",
       "4           5.0  A2JZTTBSLS1QXV  0077775473      1381708800\n",
       "...         ...             ...         ...             ...\n",
       "459431      2.0   AGEWYJ2NF5C2H  B01HF41TKI      1480377600\n",
       "459432      1.0  A3VCFV8WEQG9R5  B01HF3G4BS      1519862400\n",
       "459433      5.0  A3DXGHJF6SOHNC  B01HF3G4BS      1512172800\n",
       "459434      5.0  A1WOS4D7QA06DO  B01HJAMWOK      1536969600\n",
       "459435      5.0  A20SG9ZGIIFW69  B01HJAMWOK      1475625600\n",
       "\n",
       "[459436 rows x 4 columns]"
      ]
     },
     "execution_count": 11,
     "metadata": {},
     "output_type": "execute_result"
    }
   ],
   "source": [
    "ratings = deepcopy(df1)\n",
    "ratings.drop(['reviewTime','image','style','vote','reviewText','reviewerName','verified','summary'],axis=1, inplace = True)\n",
    "ratings.fillna(value = 0, inplace = True)\n",
    "ratings.drop_duplicates\n",
    "ratings"
   ]
  },
  {
   "cell_type": "code",
   "execution_count": null,
   "metadata": {
    "id": "_pTZMovjPZ1A"
   },
   "outputs": [],
   "source": [
    "dataset=deepcopy(ratings)"
   ]
  },
  {
   "cell_type": "code",
   "execution_count": null,
   "metadata": {
    "id": "bkdQ3YzJWjVy"
   },
   "outputs": [],
   "source": [
    "ratings = pd.DataFrame(ratings)"
   ]
  },
  {
   "cell_type": "code",
   "execution_count": null,
   "metadata": {
    "colab": {
     "base_uri": "https://localhost:8080/",
     "height": 417
    },
    "id": "ZqHkq3rjW_I-",
    "outputId": "2baa05ac-b2f5-4cba-e6b5-a52946219de6"
   },
   "outputs": [
    {
     "data": {
      "text/html": [
       "<div>\n",
       "<style scoped>\n",
       "    .dataframe tbody tr th:only-of-type {\n",
       "        vertical-align: middle;\n",
       "    }\n",
       "\n",
       "    .dataframe tbody tr th {\n",
       "        vertical-align: top;\n",
       "    }\n",
       "\n",
       "    .dataframe thead th {\n",
       "        text-align: right;\n",
       "    }\n",
       "</style>\n",
       "<table border=\"1\" class=\"dataframe\">\n",
       "  <thead>\n",
       "    <tr style=\"text-align: right;\">\n",
       "      <th></th>\n",
       "      <th>overall</th>\n",
       "      <th>reviewerID</th>\n",
       "      <th>asin</th>\n",
       "      <th>unixReviewTime</th>\n",
       "    </tr>\n",
       "  </thead>\n",
       "  <tbody>\n",
       "    <tr>\n",
       "      <th>0</th>\n",
       "      <td>4.0</td>\n",
       "      <td>A240ORQ2LF9LUI</td>\n",
       "      <td>0077613252</td>\n",
       "      <td>1394496000</td>\n",
       "    </tr>\n",
       "    <tr>\n",
       "      <th>1</th>\n",
       "      <td>4.0</td>\n",
       "      <td>A1YCCU0YRLS0FE</td>\n",
       "      <td>0077613252</td>\n",
       "      <td>1393113600</td>\n",
       "    </tr>\n",
       "    <tr>\n",
       "      <th>2</th>\n",
       "      <td>1.0</td>\n",
       "      <td>A1BJHRQDYVAY2J</td>\n",
       "      <td>0077613252</td>\n",
       "      <td>1392595200</td>\n",
       "    </tr>\n",
       "    <tr>\n",
       "      <th>3</th>\n",
       "      <td>3.0</td>\n",
       "      <td>APRDVZ6QBIQXT</td>\n",
       "      <td>0077613252</td>\n",
       "      <td>1392595200</td>\n",
       "    </tr>\n",
       "    <tr>\n",
       "      <th>4</th>\n",
       "      <td>5.0</td>\n",
       "      <td>A2JZTTBSLS1QXV</td>\n",
       "      <td>0077775473</td>\n",
       "      <td>1381708800</td>\n",
       "    </tr>\n",
       "    <tr>\n",
       "      <th>...</th>\n",
       "      <td>...</td>\n",
       "      <td>...</td>\n",
       "      <td>...</td>\n",
       "      <td>...</td>\n",
       "    </tr>\n",
       "    <tr>\n",
       "      <th>459431</th>\n",
       "      <td>2.0</td>\n",
       "      <td>AGEWYJ2NF5C2H</td>\n",
       "      <td>B01HF41TKI</td>\n",
       "      <td>1480377600</td>\n",
       "    </tr>\n",
       "    <tr>\n",
       "      <th>459432</th>\n",
       "      <td>1.0</td>\n",
       "      <td>A3VCFV8WEQG9R5</td>\n",
       "      <td>B01HF3G4BS</td>\n",
       "      <td>1519862400</td>\n",
       "    </tr>\n",
       "    <tr>\n",
       "      <th>459433</th>\n",
       "      <td>5.0</td>\n",
       "      <td>A3DXGHJF6SOHNC</td>\n",
       "      <td>B01HF3G4BS</td>\n",
       "      <td>1512172800</td>\n",
       "    </tr>\n",
       "    <tr>\n",
       "      <th>459434</th>\n",
       "      <td>5.0</td>\n",
       "      <td>A1WOS4D7QA06DO</td>\n",
       "      <td>B01HJAMWOK</td>\n",
       "      <td>1536969600</td>\n",
       "    </tr>\n",
       "    <tr>\n",
       "      <th>459435</th>\n",
       "      <td>5.0</td>\n",
       "      <td>A20SG9ZGIIFW69</td>\n",
       "      <td>B01HJAMWOK</td>\n",
       "      <td>1475625600</td>\n",
       "    </tr>\n",
       "  </tbody>\n",
       "</table>\n",
       "<p>459436 rows × 4 columns</p>\n",
       "</div>"
      ],
      "text/plain": [
       "        overall      reviewerID        asin  unixReviewTime\n",
       "0           4.0  A240ORQ2LF9LUI  0077613252      1394496000\n",
       "1           4.0  A1YCCU0YRLS0FE  0077613252      1393113600\n",
       "2           1.0  A1BJHRQDYVAY2J  0077613252      1392595200\n",
       "3           3.0   APRDVZ6QBIQXT  0077613252      1392595200\n",
       "4           5.0  A2JZTTBSLS1QXV  0077775473      1381708800\n",
       "...         ...             ...         ...             ...\n",
       "459431      2.0   AGEWYJ2NF5C2H  B01HF41TKI      1480377600\n",
       "459432      1.0  A3VCFV8WEQG9R5  B01HF3G4BS      1519862400\n",
       "459433      5.0  A3DXGHJF6SOHNC  B01HF3G4BS      1512172800\n",
       "459434      5.0  A1WOS4D7QA06DO  B01HJAMWOK      1536969600\n",
       "459435      5.0  A20SG9ZGIIFW69  B01HJAMWOK      1475625600\n",
       "\n",
       "[459436 rows x 4 columns]"
      ]
     },
     "execution_count": 17,
     "metadata": {},
     "output_type": "execute_result"
    }
   ],
   "source": [
    "ratings"
   ]
  },
  {
   "cell_type": "code",
   "execution_count": null,
   "metadata": {
    "id": "eu8LXAKiK3hs"
   },
   "outputs": [],
   "source": [
    "data = spark.createDataFrame(ratings[['reviewerID', 'asin', 'overall']])\n",
    "indexer = [StringIndexer(inputCol = column, outputCol = column+\"index\") for column in ['asin','reviewerID']]\n",
    "pipeline = Pipeline(stages=indexer)\n",
    "data = pipeline.fit(data).transform(data)"
   ]
  },
  {
   "cell_type": "code",
   "execution_count": null,
   "metadata": {
    "id": "gTVv4FKkK3zQ"
   },
   "outputs": [],
   "source": [
    "transformed_train = data.sampleBy(\"overall\", fractions={1: 0.7, 2: 0.7, 3: 0.7,4: 0.7,5: 0.7}, seed=10)\n",
    "transformed_test = data.subtract(transformed_train)"
   ]
  },
  {
   "cell_type": "code",
   "execution_count": null,
   "metadata": {
    "id": "VvWA743rLGEb"
   },
   "outputs": [],
   "source": [
    "transformed_train = transformed_train.withColumnRenamed('overall','label')"
   ]
  },
  {
   "cell_type": "code",
   "execution_count": null,
   "metadata": {
    "id": "r9Dy7Z8OLQoH"
   },
   "outputs": [],
   "source": [
    "transformed_test = transformed_test.withColumnRenamed('overall','truelabel')"
   ]
  },
  {
   "cell_type": "code",
   "execution_count": null,
   "metadata": {
    "id": "8ZBEC2cXLgdx"
   },
   "outputs": [],
   "source": [
    "als = ALS(maxIter = 20, regParam = 0.05 ,userCol = 'reviewerIDindex', itemCol = 'asinindex', ratingCol = 'label', coldStartStrategy='drop', nonnegative=True)\n",
    "model = als.fit(transformed_train)"
   ]
  },
  {
   "cell_type": "code",
   "execution_count": null,
   "metadata": {
    "id": "eGBcHVtDLk5h"
   },
   "outputs": [],
   "source": [
    "prediction = model.transform(transformed_test)"
   ]
  },
  {
   "cell_type": "code",
   "execution_count": null,
   "metadata": {
    "colab": {
     "base_uri": "https://localhost:8080/"
    },
    "id": "EVTw4N3SVjpl",
    "outputId": "ed023a5c-16bc-441c-f91e-263b64642576"
   },
   "outputs": [
    {
     "name": "stdout",
     "output_type": "stream",
     "text": [
      "+--------------+----------+---------+---------+---------------+----------+\n",
      "|reviewerID    |asin      |truelabel|asinindex|reviewerIDindex|prediction|\n",
      "+--------------+----------+---------+---------+---------------+----------+\n",
      "|A1V9URY58AWPER|B015724B8M|5.0      |148.0    |25547.0        |2.6606545 |\n",
      "|A6MTID98B0AKC |B015724B8M|5.0      |148.0    |38137.0        |2.0765257 |\n",
      "|A3DXYKQQSRYOP1|B015724B8M|5.0      |148.0    |2684.0         |2.7836654 |\n",
      "|AMI1R66JNJUG  |B015724B8M|5.0      |148.0    |25308.0        |3.469737  |\n",
      "|A1XE6OH8G5P071|B015724B8M|1.0      |148.0    |21246.0        |0.6473868 |\n",
      "+--------------+----------+---------+---------+---------------+----------+\n",
      "only showing top 5 rows\n",
      "\n"
     ]
    }
   ],
   "source": [
    "prediction.show(n=5, truncate = False)"
   ]
  },
  {
   "cell_type": "code",
   "execution_count": null,
   "metadata": {
    "colab": {
     "base_uri": "https://localhost:8080/"
    },
    "id": "hkXhNuDXMtqV",
    "outputId": "e77b2ff9-a24b-412c-9b88-6bcaba083948"
   },
   "outputs": [
    {
     "name": "stdout",
     "output_type": "stream",
     "text": [
      "Root Mean Square Error(RMSE): 2.0535236271669035\n"
     ]
    }
   ],
   "source": [
    "evaluator = RegressionEvaluator(labelCol='truelabel',predictionCol='prediction', metricName='rmse')\n",
    "rmse = evaluator.evaluate(prediction)\n",
    "print(\"Root Mean Square Error(RMSE):\", rmse)"
   ]
  },
  {
   "cell_type": "code",
   "execution_count": null,
   "metadata": {
    "id": "y1i5I7dkNM6i"
   },
   "outputs": [],
   "source": [
    "from sklearn.model_selection import StratifiedShuffleSplit\n",
    "from sklearn.model_selection import train_test_split \n",
    "\n",
    "ratings=deepcopy(dataset)\n",
    "\n",
    "#ratings,rat = train_test_split(ratings1, test_size=0.5, stratify=ratings['overall'])"
   ]
  },
  {
   "cell_type": "code",
   "execution_count": null,
   "metadata": {
    "colab": {
     "base_uri": "https://localhost:8080/",
     "height": 417
    },
    "id": "XmK4Ak_BTrKq",
    "outputId": "893b9461-81e7-4b4b-fbf3-03d3bda66aed"
   },
   "outputs": [
    {
     "data": {
      "text/html": [
       "<div>\n",
       "<style scoped>\n",
       "    .dataframe tbody tr th:only-of-type {\n",
       "        vertical-align: middle;\n",
       "    }\n",
       "\n",
       "    .dataframe tbody tr th {\n",
       "        vertical-align: top;\n",
       "    }\n",
       "\n",
       "    .dataframe thead th {\n",
       "        text-align: right;\n",
       "    }\n",
       "</style>\n",
       "<table border=\"1\" class=\"dataframe\">\n",
       "  <thead>\n",
       "    <tr style=\"text-align: right;\">\n",
       "      <th></th>\n",
       "      <th>overall</th>\n",
       "      <th>reviewerID</th>\n",
       "      <th>asin</th>\n",
       "      <th>unixReviewTime</th>\n",
       "    </tr>\n",
       "  </thead>\n",
       "  <tbody>\n",
       "    <tr>\n",
       "      <th>0</th>\n",
       "      <td>4.0</td>\n",
       "      <td>A240ORQ2LF9LUI</td>\n",
       "      <td>0077613252</td>\n",
       "      <td>1394496000</td>\n",
       "    </tr>\n",
       "    <tr>\n",
       "      <th>1</th>\n",
       "      <td>4.0</td>\n",
       "      <td>A1YCCU0YRLS0FE</td>\n",
       "      <td>0077613252</td>\n",
       "      <td>1393113600</td>\n",
       "    </tr>\n",
       "    <tr>\n",
       "      <th>2</th>\n",
       "      <td>1.0</td>\n",
       "      <td>A1BJHRQDYVAY2J</td>\n",
       "      <td>0077613252</td>\n",
       "      <td>1392595200</td>\n",
       "    </tr>\n",
       "    <tr>\n",
       "      <th>3</th>\n",
       "      <td>3.0</td>\n",
       "      <td>APRDVZ6QBIQXT</td>\n",
       "      <td>0077613252</td>\n",
       "      <td>1392595200</td>\n",
       "    </tr>\n",
       "    <tr>\n",
       "      <th>4</th>\n",
       "      <td>5.0</td>\n",
       "      <td>A2JZTTBSLS1QXV</td>\n",
       "      <td>0077775473</td>\n",
       "      <td>1381708800</td>\n",
       "    </tr>\n",
       "    <tr>\n",
       "      <th>...</th>\n",
       "      <td>...</td>\n",
       "      <td>...</td>\n",
       "      <td>...</td>\n",
       "      <td>...</td>\n",
       "    </tr>\n",
       "    <tr>\n",
       "      <th>459431</th>\n",
       "      <td>2.0</td>\n",
       "      <td>AGEWYJ2NF5C2H</td>\n",
       "      <td>B01HF41TKI</td>\n",
       "      <td>1480377600</td>\n",
       "    </tr>\n",
       "    <tr>\n",
       "      <th>459432</th>\n",
       "      <td>1.0</td>\n",
       "      <td>A3VCFV8WEQG9R5</td>\n",
       "      <td>B01HF3G4BS</td>\n",
       "      <td>1519862400</td>\n",
       "    </tr>\n",
       "    <tr>\n",
       "      <th>459433</th>\n",
       "      <td>5.0</td>\n",
       "      <td>A3DXGHJF6SOHNC</td>\n",
       "      <td>B01HF3G4BS</td>\n",
       "      <td>1512172800</td>\n",
       "    </tr>\n",
       "    <tr>\n",
       "      <th>459434</th>\n",
       "      <td>5.0</td>\n",
       "      <td>A1WOS4D7QA06DO</td>\n",
       "      <td>B01HJAMWOK</td>\n",
       "      <td>1536969600</td>\n",
       "    </tr>\n",
       "    <tr>\n",
       "      <th>459435</th>\n",
       "      <td>5.0</td>\n",
       "      <td>A20SG9ZGIIFW69</td>\n",
       "      <td>B01HJAMWOK</td>\n",
       "      <td>1475625600</td>\n",
       "    </tr>\n",
       "  </tbody>\n",
       "</table>\n",
       "<p>459436 rows × 4 columns</p>\n",
       "</div>"
      ],
      "text/plain": [
       "        overall      reviewerID        asin  unixReviewTime\n",
       "0           4.0  A240ORQ2LF9LUI  0077613252      1394496000\n",
       "1           4.0  A1YCCU0YRLS0FE  0077613252      1393113600\n",
       "2           1.0  A1BJHRQDYVAY2J  0077613252      1392595200\n",
       "3           3.0   APRDVZ6QBIQXT  0077613252      1392595200\n",
       "4           5.0  A2JZTTBSLS1QXV  0077775473      1381708800\n",
       "...         ...             ...         ...             ...\n",
       "459431      2.0   AGEWYJ2NF5C2H  B01HF41TKI      1480377600\n",
       "459432      1.0  A3VCFV8WEQG9R5  B01HF3G4BS      1519862400\n",
       "459433      5.0  A3DXGHJF6SOHNC  B01HF3G4BS      1512172800\n",
       "459434      5.0  A1WOS4D7QA06DO  B01HJAMWOK      1536969600\n",
       "459435      5.0  A20SG9ZGIIFW69  B01HJAMWOK      1475625600\n",
       "\n",
       "[459436 rows x 4 columns]"
      ]
     },
     "execution_count": 137,
     "metadata": {},
     "output_type": "execute_result"
    }
   ],
   "source": [
    "dataset"
   ]
  },
  {
   "cell_type": "code",
   "execution_count": null,
   "metadata": {
    "colab": {
     "base_uri": "https://localhost:8080/",
     "height": 417
    },
    "id": "fVgNTlfOTKQC",
    "outputId": "dacd75e6-dd31-41d9-d1e4-d095b5c25b69"
   },
   "outputs": [
    {
     "data": {
      "text/html": [
       "<div>\n",
       "<style scoped>\n",
       "    .dataframe tbody tr th:only-of-type {\n",
       "        vertical-align: middle;\n",
       "    }\n",
       "\n",
       "    .dataframe tbody tr th {\n",
       "        vertical-align: top;\n",
       "    }\n",
       "\n",
       "    .dataframe thead th {\n",
       "        text-align: right;\n",
       "    }\n",
       "</style>\n",
       "<table border=\"1\" class=\"dataframe\">\n",
       "  <thead>\n",
       "    <tr style=\"text-align: right;\">\n",
       "      <th></th>\n",
       "      <th>overall</th>\n",
       "      <th>reviewerID</th>\n",
       "      <th>asin</th>\n",
       "      <th>unixReviewTime</th>\n",
       "    </tr>\n",
       "  </thead>\n",
       "  <tbody>\n",
       "    <tr>\n",
       "      <th>0</th>\n",
       "      <td>4.0</td>\n",
       "      <td>A240ORQ2LF9LUI</td>\n",
       "      <td>0077613252</td>\n",
       "      <td>1394496000</td>\n",
       "    </tr>\n",
       "    <tr>\n",
       "      <th>1</th>\n",
       "      <td>4.0</td>\n",
       "      <td>A1YCCU0YRLS0FE</td>\n",
       "      <td>0077613252</td>\n",
       "      <td>1393113600</td>\n",
       "    </tr>\n",
       "    <tr>\n",
       "      <th>2</th>\n",
       "      <td>1.0</td>\n",
       "      <td>A1BJHRQDYVAY2J</td>\n",
       "      <td>0077613252</td>\n",
       "      <td>1392595200</td>\n",
       "    </tr>\n",
       "    <tr>\n",
       "      <th>3</th>\n",
       "      <td>3.0</td>\n",
       "      <td>APRDVZ6QBIQXT</td>\n",
       "      <td>0077613252</td>\n",
       "      <td>1392595200</td>\n",
       "    </tr>\n",
       "    <tr>\n",
       "      <th>4</th>\n",
       "      <td>5.0</td>\n",
       "      <td>A2JZTTBSLS1QXV</td>\n",
       "      <td>0077775473</td>\n",
       "      <td>1381708800</td>\n",
       "    </tr>\n",
       "    <tr>\n",
       "      <th>...</th>\n",
       "      <td>...</td>\n",
       "      <td>...</td>\n",
       "      <td>...</td>\n",
       "      <td>...</td>\n",
       "    </tr>\n",
       "    <tr>\n",
       "      <th>459431</th>\n",
       "      <td>2.0</td>\n",
       "      <td>AGEWYJ2NF5C2H</td>\n",
       "      <td>B01HF41TKI</td>\n",
       "      <td>1480377600</td>\n",
       "    </tr>\n",
       "    <tr>\n",
       "      <th>459432</th>\n",
       "      <td>1.0</td>\n",
       "      <td>A3VCFV8WEQG9R5</td>\n",
       "      <td>B01HF3G4BS</td>\n",
       "      <td>1519862400</td>\n",
       "    </tr>\n",
       "    <tr>\n",
       "      <th>459433</th>\n",
       "      <td>5.0</td>\n",
       "      <td>A3DXGHJF6SOHNC</td>\n",
       "      <td>B01HF3G4BS</td>\n",
       "      <td>1512172800</td>\n",
       "    </tr>\n",
       "    <tr>\n",
       "      <th>459434</th>\n",
       "      <td>5.0</td>\n",
       "      <td>A1WOS4D7QA06DO</td>\n",
       "      <td>B01HJAMWOK</td>\n",
       "      <td>1536969600</td>\n",
       "    </tr>\n",
       "    <tr>\n",
       "      <th>459435</th>\n",
       "      <td>5.0</td>\n",
       "      <td>A20SG9ZGIIFW69</td>\n",
       "      <td>B01HJAMWOK</td>\n",
       "      <td>1475625600</td>\n",
       "    </tr>\n",
       "  </tbody>\n",
       "</table>\n",
       "<p>459436 rows × 4 columns</p>\n",
       "</div>"
      ],
      "text/plain": [
       "        overall      reviewerID        asin  unixReviewTime\n",
       "0           4.0  A240ORQ2LF9LUI  0077613252      1394496000\n",
       "1           4.0  A1YCCU0YRLS0FE  0077613252      1393113600\n",
       "2           1.0  A1BJHRQDYVAY2J  0077613252      1392595200\n",
       "3           3.0   APRDVZ6QBIQXT  0077613252      1392595200\n",
       "4           5.0  A2JZTTBSLS1QXV  0077775473      1381708800\n",
       "...         ...             ...         ...             ...\n",
       "459431      2.0   AGEWYJ2NF5C2H  B01HF41TKI      1480377600\n",
       "459432      1.0  A3VCFV8WEQG9R5  B01HF3G4BS      1519862400\n",
       "459433      5.0  A3DXGHJF6SOHNC  B01HF3G4BS      1512172800\n",
       "459434      5.0  A1WOS4D7QA06DO  B01HJAMWOK      1536969600\n",
       "459435      5.0  A20SG9ZGIIFW69  B01HJAMWOK      1475625600\n",
       "\n",
       "[459436 rows x 4 columns]"
      ]
     },
     "execution_count": 37,
     "metadata": {},
     "output_type": "execute_result"
    }
   ],
   "source": [
    "ratings"
   ]
  },
  {
   "cell_type": "code",
   "execution_count": null,
   "metadata": {
    "id": "8-896pEZMt43"
   },
   "outputs": [],
   "source": [
    "ratings = pd.DataFrame(ratings)\n",
    "overall_group= ratings.groupby('overall')\n",
    "rating_5= overall_group.get_group(5.0)\n",
    "count_five = len(rating_5)\n",
    "def oversampling(subset):\n",
    "    count = len(subset)\n",
    "    n=int(count_five/count)\n",
    "    return (n)"
   ]
  },
  {
   "cell_type": "code",
   "execution_count": null,
   "metadata": {
    "id": "TMUX3XW7Mt8V"
   },
   "outputs": [],
   "source": [
    "n1 = overall_group.get_group(1.0)\n",
    "one_rating = overall_group.get_group(1.0)\n",
    "rat_1= pd.concat([one_rating]*oversampling(one_rating),ignore_index=True)\n",
    "\n",
    "n2 = overall_group.get_group(1.0)\n",
    "two_rating = overall_group.get_group(2.0)\n",
    "rat_2= pd.concat([two_rating]*oversampling(two_rating),ignore_index=True)\n",
    "\n",
    "n3 = overall_group.get_group(1.0)\n",
    "three_rating = overall_group.get_group(3.0)\n",
    "rat_3= pd.concat([three_rating]*oversampling(three_rating),ignore_index=True)\n",
    "\n",
    "n4 = overall_group.get_group(1.0)\n",
    "four_rating = overall_group.get_group(4.0)\n",
    "rat_4= pd.concat([four_rating]*oversampling(four_rating),ignore_index=True)\n",
    "\n",
    "rat_5=rating_5"
   ]
  },
  {
   "cell_type": "code",
   "execution_count": null,
   "metadata": {
    "colab": {
     "base_uri": "https://localhost:8080/",
     "height": 417
    },
    "id": "jrhsTho_Mt_w",
    "outputId": "a321c7a4-7ee4-47e9-d0fb-d1167bf89604"
   },
   "outputs": [
    {
     "data": {
      "text/html": [
       "<div>\n",
       "<style scoped>\n",
       "    .dataframe tbody tr th:only-of-type {\n",
       "        vertical-align: middle;\n",
       "    }\n",
       "\n",
       "    .dataframe tbody tr th {\n",
       "        vertical-align: top;\n",
       "    }\n",
       "\n",
       "    .dataframe thead th {\n",
       "        text-align: right;\n",
       "    }\n",
       "</style>\n",
       "<table border=\"1\" class=\"dataframe\">\n",
       "  <thead>\n",
       "    <tr style=\"text-align: right;\">\n",
       "      <th></th>\n",
       "      <th>overall</th>\n",
       "      <th>reviewerID</th>\n",
       "      <th>asin</th>\n",
       "      <th>unixReviewTime</th>\n",
       "    </tr>\n",
       "  </thead>\n",
       "  <tbody>\n",
       "    <tr>\n",
       "      <th>33059</th>\n",
       "      <td>4.0</td>\n",
       "      <td>AW4NGZEU2JGUQ</td>\n",
       "      <td>B00E6LIECA</td>\n",
       "      <td>1392940800</td>\n",
       "    </tr>\n",
       "    <tr>\n",
       "      <th>72114</th>\n",
       "      <td>2.0</td>\n",
       "      <td>A1X48MIR1ZOJVO</td>\n",
       "      <td>B005GI19HY</td>\n",
       "      <td>1339372800</td>\n",
       "    </tr>\n",
       "    <tr>\n",
       "      <th>142090</th>\n",
       "      <td>2.0</td>\n",
       "      <td>A3T53VYOX6NZKZ</td>\n",
       "      <td>B00H8MEYAA</td>\n",
       "      <td>1467936000</td>\n",
       "    </tr>\n",
       "    <tr>\n",
       "      <th>128039</th>\n",
       "      <td>3.0</td>\n",
       "      <td>A1OJOO7XLMU4PI</td>\n",
       "      <td>B004E9SKBO</td>\n",
       "      <td>1326067200</td>\n",
       "    </tr>\n",
       "    <tr>\n",
       "      <th>176427</th>\n",
       "      <td>1.0</td>\n",
       "      <td>A114F6AZE915CC</td>\n",
       "      <td>B01617VO2S</td>\n",
       "      <td>1491177600</td>\n",
       "    </tr>\n",
       "    <tr>\n",
       "      <th>...</th>\n",
       "      <td>...</td>\n",
       "      <td>...</td>\n",
       "      <td>...</td>\n",
       "      <td>...</td>\n",
       "    </tr>\n",
       "    <tr>\n",
       "      <th>46726</th>\n",
       "      <td>4.0</td>\n",
       "      <td>A32SBMJDRACRA7</td>\n",
       "      <td>B00MYXTCGY</td>\n",
       "      <td>1424822400</td>\n",
       "    </tr>\n",
       "    <tr>\n",
       "      <th>6194</th>\n",
       "      <td>3.0</td>\n",
       "      <td>A19CCUWRGO8FA4</td>\n",
       "      <td>B001AFD8XK</td>\n",
       "      <td>1248652800</td>\n",
       "    </tr>\n",
       "    <tr>\n",
       "      <th>285305</th>\n",
       "      <td>5.0</td>\n",
       "      <td>A1BLE5KSEUN2RF</td>\n",
       "      <td>B00NG7JVSQ</td>\n",
       "      <td>1423612800</td>\n",
       "    </tr>\n",
       "    <tr>\n",
       "      <th>114536</th>\n",
       "      <td>2.0</td>\n",
       "      <td>A21PIC72GNKTWQ</td>\n",
       "      <td>B00P6U8C5Y</td>\n",
       "      <td>1427587200</td>\n",
       "    </tr>\n",
       "    <tr>\n",
       "      <th>264158</th>\n",
       "      <td>5.0</td>\n",
       "      <td>ARO5RK7X15RGN</td>\n",
       "      <td>B00MHZ71G2</td>\n",
       "      <td>1444780800</td>\n",
       "    </tr>\n",
       "  </tbody>\n",
       "</table>\n",
       "<p>950385 rows × 4 columns</p>\n",
       "</div>"
      ],
      "text/plain": [
       "        overall      reviewerID        asin  unixReviewTime\n",
       "33059       4.0   AW4NGZEU2JGUQ  B00E6LIECA      1392940800\n",
       "72114       2.0  A1X48MIR1ZOJVO  B005GI19HY      1339372800\n",
       "142090      2.0  A3T53VYOX6NZKZ  B00H8MEYAA      1467936000\n",
       "128039      3.0  A1OJOO7XLMU4PI  B004E9SKBO      1326067200\n",
       "176427      1.0  A114F6AZE915CC  B01617VO2S      1491177600\n",
       "...         ...             ...         ...             ...\n",
       "46726       4.0  A32SBMJDRACRA7  B00MYXTCGY      1424822400\n",
       "6194        3.0  A19CCUWRGO8FA4  B001AFD8XK      1248652800\n",
       "285305      5.0  A1BLE5KSEUN2RF  B00NG7JVSQ      1423612800\n",
       "114536      2.0  A21PIC72GNKTWQ  B00P6U8C5Y      1427587200\n",
       "264158      5.0   ARO5RK7X15RGN  B00MHZ71G2      1444780800\n",
       "\n",
       "[950385 rows x 4 columns]"
      ]
     },
     "execution_count": 140,
     "metadata": {},
     "output_type": "execute_result"
    }
   ],
   "source": [
    "oversampled_data= pd.concat([rat_5,rat_4,rat_3,rat_2,rat_1])\n",
    "oversampled_data= oversampled_data.sample(frac=1,random_state=42)\n",
    "oversampled_data"
   ]
  },
  {
   "cell_type": "code",
   "execution_count": null,
   "metadata": {
    "colab": {
     "base_uri": "https://localhost:8080/"
    },
    "id": "gxqtaT6NuJEG",
    "outputId": "2bedce2c-940d-4a03-fad7-d86bcebe187a"
   },
   "outputs": [
    {
     "data": {
      "text/plain": [
       "5.0    212452\n",
       "1.0    102548\n",
       "4.0     73596\n",
       "3.0     39395\n",
       "2.0     31445\n",
       "Name: overall, dtype: int64"
      ]
     },
     "execution_count": 144,
     "metadata": {},
     "output_type": "execute_result"
    }
   ],
   "source": [
    "dataset['overall'].value_counts()"
   ]
  },
  {
   "cell_type": "code",
   "execution_count": null,
   "metadata": {
    "colab": {
     "base_uri": "https://localhost:8080/"
    },
    "id": "p7NAEoA9uVV9",
    "outputId": "86149783-d5b2-4b76-ad11-8138e66e0d5f"
   },
   "outputs": [
    {
     "data": {
      "text/plain": [
       "5.0    212452\n",
       "1.0    205096\n",
       "3.0    196975\n",
       "2.0    188670\n",
       "4.0    147192\n",
       "Name: overall, dtype: int64"
      ]
     },
     "execution_count": 145,
     "metadata": {},
     "output_type": "execute_result"
    }
   ],
   "source": [
    "oversampled_data['overall'].value_counts()"
   ]
  },
  {
   "cell_type": "code",
   "execution_count": null,
   "metadata": {
    "colab": {
     "base_uri": "https://localhost:8080/",
     "height": 285
    },
    "id": "NI8TUC8Pudj3",
    "outputId": "90f34a39-470f-40e2-8b1b-18c16cb4c643"
   },
   "outputs": [
    {
     "data": {
      "image/png": "[encoded data removed]",
      "text/plain": [
       "<Figure size 432x288 with 1 Axes>"
      ]
     },
     "metadata": {},
     "output_type": "display_data"
    }
   ],
   "source": [
    "\n",
    "import matplotlib.pyplot as plt\n",
    "import numpy as np\n",
    "  \n",
    "# create data\n",
    "x = np.arange(5)\n",
    "y1 = [102548,31445,39395,73596,212452]\n",
    "y2 = [205096,188670,196975,147192,212452]\n",
    "width = 0.2\n",
    "  \n",
    "# plot data in grouped manner of bar type\n",
    "plt.bar(x-0.2, y1, width, color='cyan')\n",
    "plt.bar(x, y2, width, color='green')\n",
    "\n",
    "plt.xticks(x, ['1', '2', '3', '4', '5'])\n",
    "plt.xlabel(\"Ratings\")\n",
    "plt.ylabel(\"Counts\")\n",
    "plt.legend([\"Before oversampling\", \"After oversampling\"])\n",
    "plt.show()"
   ]
  },
  {
   "cell_type": "code",
   "execution_count": null,
   "metadata": {
    "id": "O19-7vKlNrN4"
   },
   "outputs": [],
   "source": [
    "ratings=deepcopy(oversampled_data)"
   ]
  },
  {
   "cell_type": "markdown",
   "metadata": {
    "id": "ofpP8QWmTFtO"
   },
   "source": [
    "####Stratified Split"
   ]
  },
  {
   "cell_type": "code",
   "execution_count": null,
   "metadata": {
    "id": "iMpwf8JsNvq9"
   },
   "outputs": [],
   "source": [
    "data = spark.createDataFrame(ratings[['reviewerID', 'asin', 'overall']])\n",
    "indexer = [StringIndexer(inputCol = column, outputCol = column+\"index\") for column in ['asin','reviewerID']]\n",
    "pipeline = Pipeline(stages=indexer)\n",
    "data = pipeline.fit(data).transform(data)"
   ]
  },
  {
   "cell_type": "code",
   "execution_count": null,
   "metadata": {
    "id": "SgomCQuiN04Y"
   },
   "outputs": [],
   "source": [
    "transformed_train = data.sampleBy(\"overall\", fractions={1: 0.7, 2: 0.7, 3: 0.7,4: 0.7,5: 0.7}, seed=10)\n",
    "transformed_test = data.subtract(transformed_train)"
   ]
  },
  {
   "cell_type": "code",
   "execution_count": null,
   "metadata": {
    "id": "ee7UmVoGN-5r"
   },
   "outputs": [],
   "source": [
    "transformed_train = transformed_train.withColumnRenamed('overall','label')\n",
    "transformed_test = transformed_test.withColumnRenamed('overall','truelabel')"
   ]
  },
  {
   "cell_type": "markdown",
   "metadata": {
    "id": "FbABpMZJTbW7"
   },
   "source": [
    "####ALS"
   ]
  },
  {
   "cell_type": "code",
   "execution_count": null,
   "metadata": {
    "id": "4ShaYh0JOWxX"
   },
   "outputs": [],
   "source": [
    "als = ALS(maxIter = 20, regParam = 0.05 ,userCol = 'reviewerIDindex', itemCol = 'asinindex', ratingCol = 'label', coldStartStrategy='drop', nonnegative=True)\n",
    "model = als.fit(transformed_train)"
   ]
  },
  {
   "cell_type": "code",
   "execution_count": null,
   "metadata": {
    "id": "c5ImR9gzOK9Y"
   },
   "outputs": [],
   "source": [
    "prediction = model.transform(transformed_test)"
   ]
  },
  {
   "cell_type": "code",
   "execution_count": null,
   "metadata": {
    "colab": {
     "base_uri": "https://localhost:8080/"
    },
    "id": "hNIDHWEmOdTD",
    "outputId": "06aef9c7-864e-4fa8-b384-0e7177bb0cd2"
   },
   "outputs": [
    {
     "name": "stdout",
     "output_type": "stream",
     "text": [
      "Root Mean Square Error(RMSE): 2.3925697303579483\n"
     ]
    }
   ],
   "source": [
    "evaluator = RegressionEvaluator(labelCol='truelabel',predictionCol='prediction', metricName='rmse')\n",
    "rmse = evaluator.evaluate(prediction)\n",
    "print(\"Root Mean Square Error(RMSE):\", rmse)"
   ]
  },
  {
   "cell_type": "code",
   "execution_count": null,
   "metadata": {
    "id": "gCXLJjIlXq93"
   },
   "outputs": [],
   "source": [
    "ratings=deepcopy(dataset)"
   ]
  },
  {
   "cell_type": "code",
   "execution_count": null,
   "metadata": {
    "colab": {
     "base_uri": "https://localhost:8080/"
    },
    "id": "VXvZsqUfXTpu",
    "outputId": "67745d43-d7f7-427a-b6cf-987b637ede9c"
   },
   "outputs": [
    {
     "name": "stdout",
     "output_type": "stream",
     "text": [
      "Root Mean Square Error(RMSE): 2.139913247835257\n",
      "Root Mean Square Error(RMSE): 2.1758539499529292\n",
      "Root Mean Square Error(RMSE): 1.9420217797455677\n",
      "Root Mean Square Error(RMSE): 1.9320821985268353\n",
      "Root Mean Square Error(RMSE): 1.9014186780004072\n",
      "Root Mean Square Error(RMSE): 1.900201639933592\n",
      "Root Mean Square Error(RMSE): 1.9069064969335077\n",
      "Root Mean Square Error(RMSE): 1.91958745383036\n",
      "Root Mean Square Error(RMSE): 1.9898523984650514\n",
      "Root Mean Square Error(RMSE): 1.996470592180278\n",
      "Root Mean Square Error(RMSE): 1.83815732653708\n",
      "Root Mean Square Error(RMSE): 1.8287125261293276\n",
      "Root Mean Square Error(RMSE): 1.79129863378282\n",
      "Root Mean Square Error(RMSE): 1.7898841188693466\n",
      "Root Mean Square Error(RMSE): 1.7823450391849245\n",
      "Root Mean Square Error(RMSE): 1.7875184873521301\n",
      "Root Mean Square Error(RMSE): 1.9249030026678657\n",
      "Root Mean Square Error(RMSE): 1.9135248069405377\n",
      "Root Mean Square Error(RMSE): 1.8029613808642035\n",
      "Root Mean Square Error(RMSE): 1.7910524617806618\n",
      "Root Mean Square Error(RMSE): 1.7648807266330977\n",
      "Root Mean Square Error(RMSE): 1.7600790192386688\n",
      "Root Mean Square Error(RMSE): 1.7521574347714572\n",
      "Root Mean Square Error(RMSE): 1.752789731939999\n"
     ]
    }
   ],
   "source": [
    "# Tuning the parameters to find the minimum RMSE value by optimizing iterations and regular parameters\n",
    "Score=[]\n",
    "maxIter=[5,10,15]\n",
    "regParam=[0.10,0.20,0.30,0.40]\n",
    "rank=[5,10]\n",
    "for j in maxIter:\n",
    "    for i in regParam:\n",
    "        for k in rank:\n",
    "        \n",
    "            als = ALS(rank=k, maxIter = j, regParam = i, userCol = 'reviewerIDindex', itemCol = 'asinindex', ratingCol = 'label', coldStartStrategy='drop', nonnegative=True)\n",
    "            model = als.fit(transformed_train)\n",
    "            prediction = model.transform(transformed_test)\n",
    "            #prediction.show(n=5, truncate = False)\n",
    "\n",
    "            evaluator = RegressionEvaluator(labelCol='truelabel',predictionCol='prediction', metricName='rmse')\n",
    "            rmse = evaluator.evaluate(prediction)\n",
    "            print(\"Root Mean Square Error(RMSE):\", rmse)\n",
    "            l=[]\n",
    "            l.append(j)\n",
    "            l.append(i)\n",
    "            l.append(rmse)\n",
    "            l.append(k)\n",
    "            Score.append(l)\n",
    "score=[]\n",
    "for i in range(len(Score)):\n",
    "    score.append(Score[i][2])\n",
    "\n",
    "min_Score=min(score)\n",
    "for i in range(len(Score)):\n",
    "    if Score[i][2]==min_Score:\n",
    "        iter=Score[i][0]\n",
    "        para=Score[i][1]\n",
    "        rank=Score[i][3]\n",
    "r=rank"
   ]
  },
  {
   "cell_type": "code",
   "execution_count": null,
   "metadata": {
    "id": "cfgNHSod6mVX"
   },
   "outputs": [],
   "source": [
    "S=[]\n",
    "maxIter=[5,10,15]\n",
    "regParam=[0.10,0.20,0.30,0.40]\n",
    "rank=[5,10]\n",
    "c=0\n",
    "for j in maxIter:\n",
    "    for i in regParam:\n",
    "        for k in rank:\n",
    "            S.append([k,j,i,score[c]])\n",
    "            c=c+1\n"
   ]
  },
  {
   "cell_type": "code",
   "execution_count": null,
   "metadata": {
    "id": "9MdsDKaq7CwR"
   },
   "outputs": [],
   "source": [
    "\n",
    "df = pd.DataFrame(S, columns =['Rank', 'maxIter','Regpara','RMSE'])"
   ]
  },
  {
   "cell_type": "code",
   "execution_count": null,
   "metadata": {
    "colab": {
     "base_uri": "https://localhost:8080/",
     "height": 418
    },
    "id": "9tpv8P5B6O-m",
    "outputId": "887a7f5d-9321-4af6-f86d-c6f8f49f3170"
   },
   "outputs": [
    {
     "data": {
      "text/html": [
       "<div>\n",
       "<style scoped>\n",
       "    .dataframe tbody tr th:only-of-type {\n",
       "        vertical-align: middle;\n",
       "    }\n",
       "\n",
       "    .dataframe tbody tr th {\n",
       "        vertical-align: top;\n",
       "    }\n",
       "\n",
       "    .dataframe thead th {\n",
       "        text-align: right;\n",
       "    }\n",
       "</style>\n",
       "<table border=\"1\" class=\"dataframe\">\n",
       "  <thead>\n",
       "    <tr style=\"text-align: right;\">\n",
       "      <th></th>\n",
       "      <th>Rank</th>\n",
       "      <th>maxIter</th>\n",
       "      <th>Regpara</th>\n",
       "      <th>RMSE</th>\n",
       "    </tr>\n",
       "  </thead>\n",
       "  <tbody>\n",
       "    <tr>\n",
       "      <th>12</th>\n",
       "      <td>5</td>\n",
       "      <td>10</td>\n",
       "      <td>0.3</td>\n",
       "      <td>1.791299</td>\n",
       "    </tr>\n",
       "    <tr>\n",
       "      <th>13</th>\n",
       "      <td>10</td>\n",
       "      <td>10</td>\n",
       "      <td>0.3</td>\n",
       "      <td>1.789884</td>\n",
       "    </tr>\n",
       "    <tr>\n",
       "      <th>14</th>\n",
       "      <td>5</td>\n",
       "      <td>10</td>\n",
       "      <td>0.4</td>\n",
       "      <td>1.782345</td>\n",
       "    </tr>\n",
       "    <tr>\n",
       "      <th>15</th>\n",
       "      <td>10</td>\n",
       "      <td>10</td>\n",
       "      <td>0.4</td>\n",
       "      <td>1.787518</td>\n",
       "    </tr>\n",
       "    <tr>\n",
       "      <th>16</th>\n",
       "      <td>5</td>\n",
       "      <td>15</td>\n",
       "      <td>0.1</td>\n",
       "      <td>1.924903</td>\n",
       "    </tr>\n",
       "    <tr>\n",
       "      <th>17</th>\n",
       "      <td>10</td>\n",
       "      <td>15</td>\n",
       "      <td>0.1</td>\n",
       "      <td>1.913525</td>\n",
       "    </tr>\n",
       "    <tr>\n",
       "      <th>18</th>\n",
       "      <td>5</td>\n",
       "      <td>15</td>\n",
       "      <td>0.2</td>\n",
       "      <td>1.802961</td>\n",
       "    </tr>\n",
       "    <tr>\n",
       "      <th>19</th>\n",
       "      <td>10</td>\n",
       "      <td>15</td>\n",
       "      <td>0.2</td>\n",
       "      <td>1.791052</td>\n",
       "    </tr>\n",
       "    <tr>\n",
       "      <th>20</th>\n",
       "      <td>5</td>\n",
       "      <td>15</td>\n",
       "      <td>0.3</td>\n",
       "      <td>1.764881</td>\n",
       "    </tr>\n",
       "    <tr>\n",
       "      <th>21</th>\n",
       "      <td>10</td>\n",
       "      <td>15</td>\n",
       "      <td>0.3</td>\n",
       "      <td>1.760079</td>\n",
       "    </tr>\n",
       "    <tr>\n",
       "      <th>22</th>\n",
       "      <td>5</td>\n",
       "      <td>15</td>\n",
       "      <td>0.4</td>\n",
       "      <td>1.752157</td>\n",
       "    </tr>\n",
       "    <tr>\n",
       "      <th>23</th>\n",
       "      <td>10</td>\n",
       "      <td>15</td>\n",
       "      <td>0.4</td>\n",
       "      <td>1.752790</td>\n",
       "    </tr>\n",
       "  </tbody>\n",
       "</table>\n",
       "</div>"
      ],
      "text/plain": [
       "    Rank  maxIter  Regpara      RMSE\n",
       "12     5       10      0.3  1.791299\n",
       "13    10       10      0.3  1.789884\n",
       "14     5       10      0.4  1.782345\n",
       "15    10       10      0.4  1.787518\n",
       "16     5       15      0.1  1.924903\n",
       "17    10       15      0.1  1.913525\n",
       "18     5       15      0.2  1.802961\n",
       "19    10       15      0.2  1.791052\n",
       "20     5       15      0.3  1.764881\n",
       "21    10       15      0.3  1.760079\n",
       "22     5       15      0.4  1.752157\n",
       "23    10       15      0.4  1.752790"
      ]
     },
     "execution_count": 165,
     "metadata": {},
     "output_type": "execute_result"
    }
   ],
   "source": [
    "df[12:]"
   ]
  },
  {
   "cell_type": "markdown",
   "metadata": {
    "id": "aXnRbq-3Y84S"
   },
   "source": [
    "User based recommendation"
   ]
  },
  {
   "cell_type": "code",
   "execution_count": null,
   "metadata": {
    "id": "jaTs3-l1Y1_N"
   },
   "outputs": [],
   "source": [
    "def reco_user(id):\n",
    "    temp_df = prediction.filter(prediction[\"reviewerID\"] == id)\n",
    "    temp_df = temp_df.sort(\"prediction\", ascending=False)\n",
    "    temp_df.show(n= 5, truncate = False)"
   ]
  },
  {
   "cell_type": "code",
   "execution_count": null,
   "metadata": {
    "colab": {
     "base_uri": "https://localhost:8080/"
    },
    "id": "a3m7qy70ZIF8",
    "outputId": "979dbdbc-c1a5-4d76-ddda-66cdea00a614"
   },
   "outputs": [
    {
     "name": "stdout",
     "output_type": "stream",
     "text": [
      "+--------------+----------+---------+---------+---------------+----------+\n",
      "|reviewerID    |asin      |truelabel|asinindex|reviewerIDindex|prediction|\n",
      "+--------------+----------+---------+---------+---------------+----------+\n",
      "|A1V9URY58AWPER|B015724B8M|5.0      |148.0    |25547.0        |4.17324   |\n",
      "+--------------+----------+---------+---------+---------------+----------+\n",
      "\n"
     ]
    }
   ],
   "source": [
    "reco_user(\"A1V9URY58AWPER\")"
   ]
  },
  {
   "cell_type": "code",
   "execution_count": null,
   "metadata": {
    "colab": {
     "base_uri": "https://localhost:8080/"
    },
    "id": "k31T8dqfZPnv",
    "outputId": "6ff37698-5acc-440d-fc20-1bd81a5f103c"
   },
   "outputs": [
    {
     "name": "stdout",
     "output_type": "stream",
     "text": [
      "26790\n",
      "{'category': [], 'tech1': '', 'description': [], 'fit': '', 'title': 'HOLT PHYSICS LESSON PRESENTATION CD-ROM QUICK CONCEPTS', 'also_buy': [], 'tech2': '', 'brand': 'HOLT. RINEHART AND WINSTON', 'feature': [], 'rank': '25,550 in Software (', 'also_view': [], 'main_cat': 'Software', 'similar_item': '', 'date': '</div>', 'price': '.a-box-inner{background-color:#fff}#alohaBuyBoxWidget .selected{background-color:#fffbf3;border-color:#e77600;box-shadow:0 0 3px rgba(228,121,17,.5)}#alohaBuyBoxWidget .contract-not-available{color:gray}#aloha-cart-popover .aloha-cart{height:auto;overflow:hidden}#aloha-cart-popover #aloha-cartInfo{float:left}#aloha-cart-popover #aloha-cart-details{float:right;margin-top:1em}#aloha-cart-popover .deviceContainer{width:160px;float:left;padding-right:10px;border-right:1px solid #ddd}#aloha-cart-popover li:last-child{border-right:0}#aloha-cart-popover .aloha-device-title{height:3em;overflow:hidden}#aloha-cart-popover .aloha-thumbnail-container{height:100px;margin-bottom:1em;text-align:center}#aloha-cart-popover .aloha-price-container{text-align:center}#aloha-cart-popover .aloha-thumbnail-container img{height:inherit}#aloha-cart-popover .aloha-cart{border-top:1px solid #ddd;border-bottom:1px solid #ddd}#aloha-cart-popover #aloha-cart-info{margin-right:0}#alohaBuyBoxWidget .without-contract-subheading{margin-right:0}#aloha-bb-help-nodes .aloha-bb-contract-term-heading{color:gray;font-family:arial;margin-top:.5em;text-align:center;height:.7em;border-bottom:1px solid gray;margin-bottom:1.6em}#aloha-bb-help-nodes .aloha-bb-contract-term-heading span{background-color:#fff;padding:0 10px 0 10px}#alohaAvailabilityUS_feature_div .availability a{text-decoration:none}#alohaPricingWidget a{text-decoration:none}#alohaAvailabilityUS_feature_div .availability{margin-top:-4px;margin-bottom:0}#alohaBuyBoxWidget .select-transaction-alert .a-icon-alert{top:18px;left:3px}#alohaBuyBoxWidget .select-transaction-alert .a-alert-container{padding-left:39px;width:290px}#alohaBuyBoxUS_feature_div #alohaBuyBoxWidget .contract-container .contract-term-heading a{text-decoration:none}#alohaBuyBoxUS_feature_div #alohaBuyBoxWidget .annual-contract-box .a-icon-popover{display:none}#alohaBuyBoxUS_feature_div #alohaBuyBoxWidget .contract-container .annual-contract-box{cursor:pointer;cursor:hand}#alohaBuyBoxUS_feature_div #alohaBuyBoxWidget .aloha-buybox-price{font-size:15px}#alohaBuyBoxUS_feature_div #alohaBuyBoxWidget #linkOffSection a{text-decoration:none}#alohaBuyBoxUS_feature_div .lockedUsedBuyboxContainer{padding-left:3.5%}#alohaBuyBoxUS_feature_div .alohaBuyboxUtilsNoWrap{white-space:nowrap}.hidden{display:none}.simo-no-padding{padding:0}.carrier-reviews-cell{padding-left:10px}.carrier-reviews-bordered-cell{border:1px dotted #ccc}.carrier-reviews-selected-cell{background-color:#ffd}#aloha-carrier-compatibility-modal-table-description{margin-top:10px;margin-bottom:14px}.aloha-carrier-compatibility-sortable-header.carrier{min-width:97px}.aloha-carrier-compatibility-sortable-header.compatibility{min-width:156px}.aloha-carrier-compatibility-sortable-header div{float:left}.aloha-carrier-compatibility-sortable-header i.a-icon{margin-left:10px;margin-top:4px}#aloha-carrier-compatibility-overview-table.a-bordered.a-vertical-stripes td:nth-child(2n),#aloha-carrier-compatibility-overview-table.a-bordered.a-vertical-stripes th:nth-child(2n){background-color:initial}#aloha-carrier-compatibility-modal-table.a-bordered.a-vertical-stripes td:nth-child(2n),#aloha-carrier-compatibility-modal-table.a-bordered.a-vertical-stripes th:nth-child(2n){background-color:initial}#aloha-carrier-compatibility-table.a-bordered.a-vertical-stripes th:nth-child(2n),.aloha-carrier-compatibility-table.a-bordered.a-vertical-stripes td:nth-child(2n){background-color:transparent}.aloha-carrier-compatibility-column-gray{background-color:#f6f6f6}.aloha-carrier-compatibility-modal-table-row .aloha-carrier-compatibility-tech-text,.aloha-carrier-compatibility-modal-table-row .carrier-name,.aloha-carrier-compatibility-modal-table-row .carrier-rating-summary{min-height:27px;display:inline-block;cursor:default}.aloha-carrier-compatibility-modal-table-row .aloha-carrier-compatibility-tech-text:first-line,.aloha-carrier-compatibility-modal-table-row .carrier-name:first-line,.aloha-carrier-compatibility-modal-table-row .carrier-rating-summary:first-line{line-height:27px}.aloha-carrier-compatibility-modal-table-row .aloha-carrier-compatibility-icon{margin-top:6px}.aloha-carrier-compatibility-check-icon{width:30px;height:27px;background-position:-318px -35px;background-image:url(https://images-na.ssl-images-amazon.com/images/G/01/AUIClients/AmazonUIBaseCSS-sprite_2x-8e7ef370dc28a214b3f490c9620f4ac501d5a864._V2_.png);background-repeat:no-repeat;background-size:400px 650px;display:inline-block;vertical-align:top}.aloha-carrier-compatibility-hidden{display:none}.aloha-buybox-spaced-link{margin-top:12px;margin-bottom:7px;text-align:center}.popover-tab', 'asin': '0030672120', 'imageURL': [], 'imageURLHighRes': []}\n"
     ]
    }
   ],
   "source": [
    "df_metadata= []\n",
    "with gzip.open(r'/content/drive/MyDrive/dataset/meta_Software.json.gz') as f:\n",
    "    for l in f:\n",
    "        df_metadata.append(json.loads(l.strip()))\n",
    "print(len(df_metadata))\n",
    "print(df_metadata[0])"
   ]
  },
  {
   "cell_type": "code",
   "execution_count": null,
   "metadata": {
    "id": "bfFOv8S2Ztz8"
   },
   "outputs": [],
   "source": [
    "df_metadata= pd.DataFrame.from_dict(df_metadata)"
   ]
  },
  {
   "cell_type": "code",
   "execution_count": null,
   "metadata": {
    "colab": {
     "base_uri": "https://localhost:8080/",
     "height": 1000
    },
    "id": "JuN_MwH_Z9ZH",
    "outputId": "9c998d6d-8507-4c28-d073-9e9ffa0f2be9"
   },
   "outputs": [
    {
     "data": {
      "text/html": [
       "<div>\n",
       "<style scoped>\n",
       "    .dataframe tbody tr th:only-of-type {\n",
       "        vertical-align: middle;\n",
       "    }\n",
       "\n",
       "    .dataframe tbody tr th {\n",
       "        vertical-align: top;\n",
       "    }\n",
       "\n",
       "    .dataframe thead th {\n",
       "        text-align: right;\n",
       "    }\n",
       "</style>\n",
       "<table border=\"1\" class=\"dataframe\">\n",
       "  <thead>\n",
       "    <tr style=\"text-align: right;\">\n",
       "      <th></th>\n",
       "      <th>category</th>\n",
       "      <th>tech1</th>\n",
       "      <th>description</th>\n",
       "      <th>fit</th>\n",
       "      <th>title</th>\n",
       "      <th>also_buy</th>\n",
       "      <th>tech2</th>\n",
       "      <th>brand</th>\n",
       "      <th>feature</th>\n",
       "      <th>rank</th>\n",
       "      <th>also_view</th>\n",
       "      <th>main_cat</th>\n",
       "      <th>similar_item</th>\n",
       "      <th>date</th>\n",
       "      <th>price</th>\n",
       "      <th>asin</th>\n",
       "      <th>imageURL</th>\n",
       "      <th>imageURLHighRes</th>\n",
       "      <th>details</th>\n",
       "    </tr>\n",
       "  </thead>\n",
       "  <tbody>\n",
       "    <tr>\n",
       "      <th>0</th>\n",
       "      <td>[]</td>\n",
       "      <td></td>\n",
       "      <td>[]</td>\n",
       "      <td></td>\n",
       "      <td>HOLT PHYSICS LESSON PRESENTATION CD-ROM QUICK ...</td>\n",
       "      <td>[]</td>\n",
       "      <td></td>\n",
       "      <td>HOLT. RINEHART AND WINSTON</td>\n",
       "      <td>[]</td>\n",
       "      <td>25,550 in Software (</td>\n",
       "      <td>[]</td>\n",
       "      <td>Software</td>\n",
       "      <td></td>\n",
       "      <td>&lt;/div&gt;</td>\n",
       "      <td>.a-box-inner{background-color:#fff}#alohaBuyBo...</td>\n",
       "      <td>0030672120</td>\n",
       "      <td>[]</td>\n",
       "      <td>[]</td>\n",
       "      <td>NaN</td>\n",
       "    </tr>\n",
       "    <tr>\n",
       "      <th>1</th>\n",
       "      <td>[]</td>\n",
       "      <td></td>\n",
       "      <td>[, &lt;b&gt;Latin rhythms that will get your kids si...</td>\n",
       "      <td></td>\n",
       "      <td>Sing, Watch, &amp;amp; Learn Spanish (DVD + Guide)...</td>\n",
       "      <td>[]</td>\n",
       "      <td></td>\n",
       "      <td>McGraw Hill</td>\n",
       "      <td>[]</td>\n",
       "      <td>15,792 in Software (</td>\n",
       "      <td>[]</td>\n",
       "      <td>Software</td>\n",
       "      <td></td>\n",
       "      <td>&lt;/div&gt;</td>\n",
       "      <td></td>\n",
       "      <td>0071480935</td>\n",
       "      <td>[https://images-na.ssl-images-amazon.com/image...</td>\n",
       "      <td>[https://images-na.ssl-images-amazon.com/image...</td>\n",
       "      <td>NaN</td>\n",
       "    </tr>\n",
       "    <tr>\n",
       "      <th>2</th>\n",
       "      <td>[]</td>\n",
       "      <td></td>\n",
       "      <td>[&lt;b&gt;Connect is the only integrated learning sy...</td>\n",
       "      <td></td>\n",
       "      <td>Connect with LearnSmart Access Card for Microb...</td>\n",
       "      <td>[]</td>\n",
       "      <td></td>\n",
       "      <td>McGraw-Hill Science/Engineering/Math</td>\n",
       "      <td>[]</td>\n",
       "      <td>16,900 in Software (</td>\n",
       "      <td>[]</td>\n",
       "      <td>Software</td>\n",
       "      <td></td>\n",
       "      <td>&lt;/div&gt;</td>\n",
       "      <td></td>\n",
       "      <td>007329506X</td>\n",
       "      <td>[https://images-na.ssl-images-amazon.com/image...</td>\n",
       "      <td>[https://images-na.ssl-images-amazon.com/image...</td>\n",
       "      <td>NaN</td>\n",
       "    </tr>\n",
       "    <tr>\n",
       "      <th>3</th>\n",
       "      <td>[]</td>\n",
       "      <td></td>\n",
       "      <td>[]</td>\n",
       "      <td></td>\n",
       "      <td>LearnSmart Standalone Access Card for Prescott...</td>\n",
       "      <td>[]</td>\n",
       "      <td></td>\n",
       "      <td>McGraw-Hill Education</td>\n",
       "      <td>[]</td>\n",
       "      <td>12,986 in Software (</td>\n",
       "      <td>[]</td>\n",
       "      <td>Software</td>\n",
       "      <td></td>\n",
       "      <td>&lt;/div&gt;</td>\n",
       "      <td></td>\n",
       "      <td>0073513458</td>\n",
       "      <td>[https://images-na.ssl-images-amazon.com/image...</td>\n",
       "      <td>[https://images-na.ssl-images-amazon.com/image...</td>\n",
       "      <td>NaN</td>\n",
       "    </tr>\n",
       "    <tr>\n",
       "      <th>4</th>\n",
       "      <td>[]</td>\n",
       "      <td></td>\n",
       "      <td>[&lt;i&gt;Anatomy &amp;amp; Physiology Revealed Cat&lt;/i&gt; ...</td>\n",
       "      <td></td>\n",
       "      <td>Anatomy &amp;amp; Physiology Revealed Student Acce...</td>\n",
       "      <td>[0323394612, 0323227937, 1118527488]</td>\n",
       "      <td></td>\n",
       "      <td>McGraw-Hill Education</td>\n",
       "      <td>[]</td>\n",
       "      <td>14,861 in Software (</td>\n",
       "      <td>[]</td>\n",
       "      <td>Software</td>\n",
       "      <td></td>\n",
       "      <td>&lt;/div&gt;</td>\n",
       "      <td>$4.83</td>\n",
       "      <td>0073525758</td>\n",
       "      <td>[https://images-na.ssl-images-amazon.com/image...</td>\n",
       "      <td>[https://images-na.ssl-images-amazon.com/image...</td>\n",
       "      <td>NaN</td>\n",
       "    </tr>\n",
       "    <tr>\n",
       "      <th>...</th>\n",
       "      <td>...</td>\n",
       "      <td>...</td>\n",
       "      <td>...</td>\n",
       "      <td>...</td>\n",
       "      <td>...</td>\n",
       "      <td>...</td>\n",
       "      <td>...</td>\n",
       "      <td>...</td>\n",
       "      <td>...</td>\n",
       "      <td>...</td>\n",
       "      <td>...</td>\n",
       "      <td>...</td>\n",
       "      <td>...</td>\n",
       "      <td>...</td>\n",
       "      <td>...</td>\n",
       "      <td>...</td>\n",
       "      <td>...</td>\n",
       "      <td>...</td>\n",
       "      <td>...</td>\n",
       "    </tr>\n",
       "    <tr>\n",
       "      <th>26785</th>\n",
       "      <td>[Software, Children's]</td>\n",
       "      <td></td>\n",
       "      <td>[&lt;b&gt;Features: &lt;/b&gt;&lt;br&gt;1. Beautiful and fabulou...</td>\n",
       "      <td></td>\n",
       "      <td>925 Sterling Silver Angel Wings Heart Pendant ...</td>\n",
       "      <td>[B07B4B12JX, B008UX1WJ2]</td>\n",
       "      <td></td>\n",
       "      <td>17maimeng</td>\n",
       "      <td>[Material: Guaranteed 100% Real Silver+Platinu...</td>\n",
       "      <td>1,389,844 in Clothing, Shoes &amp; Jewelry (</td>\n",
       "      <td>[B008UX1WJ2, B0094JVCKU, B077J3DR69, B07J4Z659...</td>\n",
       "      <td>&lt;img src=\"https://images-na.ssl-images-amazon....</td>\n",
       "      <td></td>\n",
       "      <td>17maimeng</td>\n",
       "      <td>$24.00</td>\n",
       "      <td>B01HEFZJC2</td>\n",
       "      <td>[https://images-na.ssl-images-amazon.com/image...</td>\n",
       "      <td>[https://images-na.ssl-images-amazon.com/image...</td>\n",
       "      <td>{}</td>\n",
       "    </tr>\n",
       "    <tr>\n",
       "      <th>26786</th>\n",
       "      <td>[Software, Children's, Material: Guaranteed 10...</td>\n",
       "      <td></td>\n",
       "      <td>[&lt;b&gt;Features: &lt;/b&gt;&lt;br&gt;1. Beautiful and fabulou...</td>\n",
       "      <td></td>\n",
       "      <td>925 Sterling Silver Love Heart Opal Pendant Ne...</td>\n",
       "      <td>[]</td>\n",
       "      <td></td>\n",
       "      <td>17maimeng</td>\n",
       "      <td>[Material: Guaranteed 100% Real Silver+Platinu...</td>\n",
       "      <td>1,469,307 in Clothing, Shoes &amp; Jewelry (</td>\n",
       "      <td>[B074M486S8, B01D4H965K, B077L7GGF4, B019D8X0W...</td>\n",
       "      <td>&lt;img src=\"https://images-na.ssl-images-amazon....</td>\n",
       "      <td></td>\n",
       "      <td>17maimeng</td>\n",
       "      <td>$23.20</td>\n",
       "      <td>B01HEFZKEE</td>\n",
       "      <td>[https://images-na.ssl-images-amazon.com/image...</td>\n",
       "      <td>[https://images-na.ssl-images-amazon.com/image...</td>\n",
       "      <td>{}</td>\n",
       "    </tr>\n",
       "    <tr>\n",
       "      <th>26787</th>\n",
       "      <td>[Software, Digital Software, Antivirus &amp; Secur...</td>\n",
       "      <td></td>\n",
       "      <td>[&lt;div&gt;Mac Internet Security X9 contains two of...</td>\n",
       "      <td></td>\n",
       "      <td>Intego Mac Internet Security X9 - 1 Mac - 1 ye...</td>\n",
       "      <td>[]</td>\n",
       "      <td></td>\n",
       "      <td>Intego</td>\n",
       "      <td>[Award-winning antivirus software to protect a...</td>\n",
       "      <td>2,733 in Software (</td>\n",
       "      <td>[B01MF5MTWP, B015724B8M, B07CYFFH4H, B07CY54KL...</td>\n",
       "      <td>Software</td>\n",
       "      <td></td>\n",
       "      <td>&lt;/div&gt;</td>\n",
       "      <td>$39.99</td>\n",
       "      <td>B01HF3G4BS</td>\n",
       "      <td>[]</td>\n",
       "      <td>[]</td>\n",
       "      <td>{'Downloading:': 'Currently, this item is avai...</td>\n",
       "    </tr>\n",
       "    <tr>\n",
       "      <th>26788</th>\n",
       "      <td>[]</td>\n",
       "      <td></td>\n",
       "      <td>[VersaCheck X9 for QuickBooks 2016 DNA Secure ...</td>\n",
       "      <td></td>\n",
       "      <td>VersaCheck X9 Small and Medium Business 2016 3...</td>\n",
       "      <td>[]</td>\n",
       "      <td></td>\n",
       "      <td>Diversified Productivity Solutions Ltd</td>\n",
       "      <td>[]</td>\n",
       "      <td>15,575 in Software (</td>\n",
       "      <td>[]</td>\n",
       "      <td>Software</td>\n",
       "      <td></td>\n",
       "      <td>&lt;/div&gt;</td>\n",
       "      <td>$24.39</td>\n",
       "      <td>B01HF41TKI</td>\n",
       "      <td>[]</td>\n",
       "      <td>[]</td>\n",
       "      <td>{'Shipping Weight:': '1.3 pounds', 'ASIN:': 'B...</td>\n",
       "    </tr>\n",
       "    <tr>\n",
       "      <th>26789</th>\n",
       "      <td>[Software, Lifestyle &amp; Hobbies, Home Publishin...</td>\n",
       "      <td></td>\n",
       "      <td>[Thank you for your interest in volume one of ...</td>\n",
       "      <td></td>\n",
       "      <td>CNC Designs - Vector Graphics for Computer Con...</td>\n",
       "      <td>[B01FBH8Q0C, B01HJ9UFVS, B00HC98K2C, B06XMXH44...</td>\n",
       "      <td></td>\n",
       "      <td>WarkelGraphics</td>\n",
       "      <td>[Smooth Vector Images with Low Node Count]</td>\n",
       "      <td>7,721 in Software (</td>\n",
       "      <td>[B01FBH8Q0C, B06XMXH44C, B00B7AUJC6, B0755P7LY...</td>\n",
       "      <td>Software</td>\n",
       "      <td></td>\n",
       "      <td>&lt;/div&gt;</td>\n",
       "      <td></td>\n",
       "      <td>B01HJAMWOK</td>\n",
       "      <td>[https://images-na.ssl-images-amazon.com/image...</td>\n",
       "      <td>[https://images-na.ssl-images-amazon.com/image...</td>\n",
       "      <td>{'Shipping Weight:': '6.1 ounces', 'ASIN:': 'B...</td>\n",
       "    </tr>\n",
       "  </tbody>\n",
       "</table>\n",
       "<p>26790 rows × 19 columns</p>\n",
       "</div>"
      ],
      "text/plain": [
       "                                                category  ...                                            details\n",
       "0                                                     []  ...                                                NaN\n",
       "1                                                     []  ...                                                NaN\n",
       "2                                                     []  ...                                                NaN\n",
       "3                                                     []  ...                                                NaN\n",
       "4                                                     []  ...                                                NaN\n",
       "...                                                  ...  ...                                                ...\n",
       "26785                             [Software, Children's]  ...                                                 {}\n",
       "26786  [Software, Children's, Material: Guaranteed 10...  ...                                                 {}\n",
       "26787  [Software, Digital Software, Antivirus & Secur...  ...  {'Downloading:': 'Currently, this item is avai...\n",
       "26788                                                 []  ...  {'Shipping Weight:': '1.3 pounds', 'ASIN:': 'B...\n",
       "26789  [Software, Lifestyle & Hobbies, Home Publishin...  ...  {'Shipping Weight:': '6.1 ounces', 'ASIN:': 'B...\n",
       "\n",
       "[26790 rows x 19 columns]"
      ]
     },
     "execution_count": 83,
     "metadata": {},
     "output_type": "execute_result"
    }
   ],
   "source": [
    "df_metadata"
   ]
  },
  {
   "cell_type": "code",
   "execution_count": null,
   "metadata": {
    "id": "DRR-FaRXd1Th"
   },
   "outputs": [],
   "source": [
    "product_info = deepcopy(df_metadata)\n",
    "# Taking the necessary columns\n",
    "product_info = product_info[['asin', 'title', 'category']]\n",
    "# Replace all null values by 0\n",
    "product_info.fillna(value = 0, inplace = True)\n",
    "# Drop all the duplicate values\n",
    "product_info.drop_duplicates\n",
    "product_info\n",
    "# Replacing the empty lists in Category to NaN\n",
    "for i in range(len(product_info)):\n",
    "    if product_info['category'][i]==[]:\n",
    "        product_info['category'][i]=np.nan\n",
    "# Drop NaN values\n",
    "product_info.dropna(inplace=True)\n"
   ]
  },
  {
   "cell_type": "code",
   "execution_count": null,
   "metadata": {
    "colab": {
     "base_uri": "https://localhost:8080/",
     "height": 417
    },
    "id": "4Wr2twSXcaCx",
    "outputId": "82a9477a-ec24-47a5-f63f-29639f188648"
   },
   "outputs": [
    {
     "data": {
      "text/html": [
       "<div>\n",
       "<style scoped>\n",
       "    .dataframe tbody tr th:only-of-type {\n",
       "        vertical-align: middle;\n",
       "    }\n",
       "\n",
       "    .dataframe tbody tr th {\n",
       "        vertical-align: top;\n",
       "    }\n",
       "\n",
       "    .dataframe thead th {\n",
       "        text-align: right;\n",
       "    }\n",
       "</style>\n",
       "<table border=\"1\" class=\"dataframe\">\n",
       "  <thead>\n",
       "    <tr style=\"text-align: right;\">\n",
       "      <th></th>\n",
       "      <th>asin</th>\n",
       "      <th>title</th>\n",
       "      <th>category</th>\n",
       "    </tr>\n",
       "  </thead>\n",
       "  <tbody>\n",
       "    <tr>\n",
       "      <th>11</th>\n",
       "      <td>007742817X</td>\n",
       "      <td>Instructor's Resource CD-ROM for The Art of Sp...</td>\n",
       "      <td>[Software, Education &amp;amp; Reference]</td>\n",
       "    </tr>\n",
       "    <tr>\n",
       "      <th>54</th>\n",
       "      <td>0078605407</td>\n",
       "      <td>Como te va? Middle school Spanish Level A Teac...</td>\n",
       "      <td>[Software, Education &amp;amp; Reference, Languages]</td>\n",
       "    </tr>\n",
       "    <tr>\n",
       "      <th>55</th>\n",
       "      <td>0130438480</td>\n",
       "      <td>Magruder's American Government Resource Pro CD...</td>\n",
       "      <td>[Software, Education &amp;amp; Reference]</td>\n",
       "    </tr>\n",
       "    <tr>\n",
       "      <th>57</th>\n",
       "      <td>0130852414</td>\n",
       "      <td>Prentice Hall Test Manager a Comprehensive Sui...</td>\n",
       "      <td>[Software, Education &amp; Reference, Test Prepara...</td>\n",
       "    </tr>\n",
       "    <tr>\n",
       "      <th>58</th>\n",
       "      <td>0131433172</td>\n",
       "      <td>Applied Calculus Lecture Series VHS</td>\n",
       "      <td>[Software, Education &amp;amp; Reference]</td>\n",
       "    </tr>\n",
       "    <tr>\n",
       "      <th>...</th>\n",
       "      <td>...</td>\n",
       "      <td>...</td>\n",
       "      <td>...</td>\n",
       "    </tr>\n",
       "    <tr>\n",
       "      <th>26784</th>\n",
       "      <td>B01HD1CQPK</td>\n",
       "      <td>Women Bohemian Neck Tie Vintage Printed Ethnic...</td>\n",
       "      <td>[Software, Photography, Waistline:Natural , Ne...</td>\n",
       "    </tr>\n",
       "    <tr>\n",
       "      <th>26785</th>\n",
       "      <td>B01HEFZJC2</td>\n",
       "      <td>925 Sterling Silver Angel Wings Heart Pendant ...</td>\n",
       "      <td>[Software, Children's]</td>\n",
       "    </tr>\n",
       "    <tr>\n",
       "      <th>26786</th>\n",
       "      <td>B01HEFZKEE</td>\n",
       "      <td>925 Sterling Silver Love Heart Opal Pendant Ne...</td>\n",
       "      <td>[Software, Children's, Material: Guaranteed 10...</td>\n",
       "    </tr>\n",
       "    <tr>\n",
       "      <th>26787</th>\n",
       "      <td>B01HF3G4BS</td>\n",
       "      <td>Intego Mac Internet Security X9 - 1 Mac - 1 ye...</td>\n",
       "      <td>[Software, Digital Software, Antivirus &amp; Secur...</td>\n",
       "    </tr>\n",
       "    <tr>\n",
       "      <th>26789</th>\n",
       "      <td>B01HJAMWOK</td>\n",
       "      <td>CNC Designs - Vector Graphics for Computer Con...</td>\n",
       "      <td>[Software, Lifestyle &amp; Hobbies, Home Publishin...</td>\n",
       "    </tr>\n",
       "  </tbody>\n",
       "</table>\n",
       "<p>24727 rows × 3 columns</p>\n",
       "</div>"
      ],
      "text/plain": [
       "             asin  ...                                           category\n",
       "11     007742817X  ...              [Software, Education &amp; Reference]\n",
       "54     0078605407  ...   [Software, Education &amp; Reference, Languages]\n",
       "55     0130438480  ...              [Software, Education &amp; Reference]\n",
       "57     0130852414  ...  [Software, Education & Reference, Test Prepara...\n",
       "58     0131433172  ...              [Software, Education &amp; Reference]\n",
       "...           ...  ...                                                ...\n",
       "26784  B01HD1CQPK  ...  [Software, Photography, Waistline:Natural , Ne...\n",
       "26785  B01HEFZJC2  ...                             [Software, Children's]\n",
       "26786  B01HEFZKEE  ...  [Software, Children's, Material: Guaranteed 10...\n",
       "26787  B01HF3G4BS  ...  [Software, Digital Software, Antivirus & Secur...\n",
       "26789  B01HJAMWOK  ...  [Software, Lifestyle & Hobbies, Home Publishin...\n",
       "\n",
       "[24727 rows x 3 columns]"
      ]
     },
     "execution_count": 85,
     "metadata": {},
     "output_type": "execute_result"
    }
   ],
   "source": [
    "product_info"
   ]
  },
  {
   "cell_type": "code",
   "execution_count": null,
   "metadata": {
    "id": "K9Lf972daEMv"
   },
   "outputs": [],
   "source": [
    "prod = deepcopy(product_info)"
   ]
  },
  {
   "cell_type": "code",
   "execution_count": null,
   "metadata": {
    "id": "5oMrKfMnaLV5"
   },
   "outputs": [],
   "source": [
    "prod_title=prod[['asin', 'title']]"
   ]
  },
  {
   "cell_type": "code",
   "execution_count": null,
   "metadata": {
    "colab": {
     "base_uri": "https://localhost:8080/",
     "height": 417
    },
    "id": "HqcSFaabaQMf",
    "outputId": "a691ce3b-7d0f-4fbd-a12a-9594cdca4926"
   },
   "outputs": [
    {
     "data": {
      "text/html": [
       "<div>\n",
       "<style scoped>\n",
       "    .dataframe tbody tr th:only-of-type {\n",
       "        vertical-align: middle;\n",
       "    }\n",
       "\n",
       "    .dataframe tbody tr th {\n",
       "        vertical-align: top;\n",
       "    }\n",
       "\n",
       "    .dataframe thead th {\n",
       "        text-align: right;\n",
       "    }\n",
       "</style>\n",
       "<table border=\"1\" class=\"dataframe\">\n",
       "  <thead>\n",
       "    <tr style=\"text-align: right;\">\n",
       "      <th></th>\n",
       "      <th>asin</th>\n",
       "      <th>title</th>\n",
       "      <th>category</th>\n",
       "    </tr>\n",
       "  </thead>\n",
       "  <tbody>\n",
       "    <tr>\n",
       "      <th>11</th>\n",
       "      <td>007742817X</td>\n",
       "      <td>Instructor's Resource CD-ROM for The Art of Sp...</td>\n",
       "      <td>[Software, Education &amp;amp; Reference]</td>\n",
       "    </tr>\n",
       "    <tr>\n",
       "      <th>54</th>\n",
       "      <td>0078605407</td>\n",
       "      <td>Como te va? Middle school Spanish Level A Teac...</td>\n",
       "      <td>[Software, Education &amp;amp; Reference, Languages]</td>\n",
       "    </tr>\n",
       "    <tr>\n",
       "      <th>55</th>\n",
       "      <td>0130438480</td>\n",
       "      <td>Magruder's American Government Resource Pro CD...</td>\n",
       "      <td>[Software, Education &amp;amp; Reference]</td>\n",
       "    </tr>\n",
       "    <tr>\n",
       "      <th>57</th>\n",
       "      <td>0130852414</td>\n",
       "      <td>Prentice Hall Test Manager a Comprehensive Sui...</td>\n",
       "      <td>[Software, Education &amp; Reference, Test Prepara...</td>\n",
       "    </tr>\n",
       "    <tr>\n",
       "      <th>58</th>\n",
       "      <td>0131433172</td>\n",
       "      <td>Applied Calculus Lecture Series VHS</td>\n",
       "      <td>[Software, Education &amp;amp; Reference]</td>\n",
       "    </tr>\n",
       "    <tr>\n",
       "      <th>...</th>\n",
       "      <td>...</td>\n",
       "      <td>...</td>\n",
       "      <td>...</td>\n",
       "    </tr>\n",
       "    <tr>\n",
       "      <th>26784</th>\n",
       "      <td>B01HD1CQPK</td>\n",
       "      <td>Women Bohemian Neck Tie Vintage Printed Ethnic...</td>\n",
       "      <td>[Software, Photography, Waistline:Natural , Ne...</td>\n",
       "    </tr>\n",
       "    <tr>\n",
       "      <th>26785</th>\n",
       "      <td>B01HEFZJC2</td>\n",
       "      <td>925 Sterling Silver Angel Wings Heart Pendant ...</td>\n",
       "      <td>[Software, Children's]</td>\n",
       "    </tr>\n",
       "    <tr>\n",
       "      <th>26786</th>\n",
       "      <td>B01HEFZKEE</td>\n",
       "      <td>925 Sterling Silver Love Heart Opal Pendant Ne...</td>\n",
       "      <td>[Software, Children's, Material: Guaranteed 10...</td>\n",
       "    </tr>\n",
       "    <tr>\n",
       "      <th>26787</th>\n",
       "      <td>B01HF3G4BS</td>\n",
       "      <td>Intego Mac Internet Security X9 - 1 Mac - 1 ye...</td>\n",
       "      <td>[Software, Digital Software, Antivirus &amp; Secur...</td>\n",
       "    </tr>\n",
       "    <tr>\n",
       "      <th>26789</th>\n",
       "      <td>B01HJAMWOK</td>\n",
       "      <td>CNC Designs - Vector Graphics for Computer Con...</td>\n",
       "      <td>[Software, Lifestyle &amp; Hobbies, Home Publishin...</td>\n",
       "    </tr>\n",
       "  </tbody>\n",
       "</table>\n",
       "<p>24727 rows × 3 columns</p>\n",
       "</div>"
      ],
      "text/plain": [
       "             asin  ...                                           category\n",
       "11     007742817X  ...              [Software, Education &amp; Reference]\n",
       "54     0078605407  ...   [Software, Education &amp; Reference, Languages]\n",
       "55     0130438480  ...              [Software, Education &amp; Reference]\n",
       "57     0130852414  ...  [Software, Education & Reference, Test Prepara...\n",
       "58     0131433172  ...              [Software, Education &amp; Reference]\n",
       "...           ...  ...                                                ...\n",
       "26784  B01HD1CQPK  ...  [Software, Photography, Waistline:Natural , Ne...\n",
       "26785  B01HEFZJC2  ...                             [Software, Children's]\n",
       "26786  B01HEFZKEE  ...  [Software, Children's, Material: Guaranteed 10...\n",
       "26787  B01HF3G4BS  ...  [Software, Digital Software, Antivirus & Secur...\n",
       "26789  B01HJAMWOK  ...  [Software, Lifestyle & Hobbies, Home Publishin...\n",
       "\n",
       "[24727 rows x 3 columns]"
      ]
     },
     "execution_count": 88,
     "metadata": {},
     "output_type": "execute_result"
    }
   ],
   "source": [
    "prod"
   ]
  },
  {
   "cell_type": "code",
   "execution_count": null,
   "metadata": {
    "id": "SO6hJY-NaUA_"
   },
   "outputs": [],
   "source": [
    "from pyspark.sql import SparkSession\n",
    "#Create PySpark SparkSession\n",
    "spark = SparkSession.builder.getOrCreate()\n",
    "sparkDF=spark.createDataFrame(prod.astype(str))"
   ]
  },
  {
   "cell_type": "code",
   "execution_count": null,
   "metadata": {
    "id": "PJ7xPzbyaeAq"
   },
   "outputs": [],
   "source": [
    "jdf = prediction.join(sparkDF,prediction[\"asin\"] ==  sparkDF[\"asin\"],\"inner\")"
   ]
  },
  {
   "cell_type": "code",
   "execution_count": null,
   "metadata": {
    "colab": {
     "base_uri": "https://localhost:8080/"
    },
    "id": "VR9Ctcicaima",
    "outputId": "b612f284-0b8c-4e1f-a49e-2f319ca50c50"
   },
   "outputs": [
    {
     "name": "stdout",
     "output_type": "stream",
     "text": [
      "+--------------+----------+---------+---------+---------------+----------+----------+-------------------------------------+-----------------------------------------------------+\n",
      "|reviewerID    |asin      |truelabel|asinindex|reviewerIDindex|prediction|asin      |title                                |category                                             |\n",
      "+--------------+----------+---------+---------+---------------+----------+----------+-------------------------------------+-----------------------------------------------------+\n",
      "|A202XF80BSSDP1|0838447384|5.0      |6310.0   |47726.0        |1.4457204 |0838447384|Triple Play Plus Spanish             |['Software', 'Education & Reference', 'Languages']   |\n",
      "|A19KIFU4YXG3E1|B00005NCJ3|5.0      |809.0    |2177.0         |2.4438908 |B00005NCJ3|Jasc Paint Shop Pro 7.0 [OLD VERSION]|['Software', 'Design & Illustration', 'Illustration']|\n",
      "|A19KIFU4YXG3E1|B00005NCJ3|5.0      |809.0    |2177.0         |2.4438908 |B00005NCJ3|Jasc Paint Shop Pro 7.0 [OLD VERSION]|['Software', 'Design & Illustration', 'Illustration']|\n",
      "|AUVJS9CVBBN4N |B00005NCJ3|5.0      |809.0    |41754.0        |3.3080363 |B00005NCJ3|Jasc Paint Shop Pro 7.0 [OLD VERSION]|['Software', 'Design & Illustration', 'Illustration']|\n",
      "|AUVJS9CVBBN4N |B00005NCJ3|5.0      |809.0    |41754.0        |3.3080363 |B00005NCJ3|Jasc Paint Shop Pro 7.0 [OLD VERSION]|['Software', 'Design & Illustration', 'Illustration']|\n",
      "+--------------+----------+---------+---------+---------------+----------+----------+-------------------------------------+-----------------------------------------------------+\n",
      "only showing top 5 rows\n",
      "\n"
     ]
    }
   ],
   "source": [
    "jdf.show(n=5,truncate=False)"
   ]
  },
  {
   "cell_type": "code",
   "execution_count": null,
   "metadata": {
    "id": "Lz5VvEN7bGMO"
   },
   "outputs": [],
   "source": [
    "from copy import deepcopy\n",
    "meta_copy=deepcopy(prod)"
   ]
  },
  {
   "cell_type": "code",
   "execution_count": null,
   "metadata": {
    "id": "O4K3F-GFbJwC"
   },
   "outputs": [],
   "source": [
    "meta_copy=meta_copy[['asin','category']]"
   ]
  },
  {
   "cell_type": "code",
   "execution_count": null,
   "metadata": {
    "colab": {
     "base_uri": "https://localhost:8080/",
     "height": 417
    },
    "id": "fSksYAZoZ3L_",
    "outputId": "cc75d542-7989-43d0-a69d-7059715b85fb"
   },
   "outputs": [
    {
     "data": {
      "text/html": [
       "<div>\n",
       "<style scoped>\n",
       "    .dataframe tbody tr th:only-of-type {\n",
       "        vertical-align: middle;\n",
       "    }\n",
       "\n",
       "    .dataframe tbody tr th {\n",
       "        vertical-align: top;\n",
       "    }\n",
       "\n",
       "    .dataframe thead th {\n",
       "        text-align: right;\n",
       "    }\n",
       "</style>\n",
       "<table border=\"1\" class=\"dataframe\">\n",
       "  <thead>\n",
       "    <tr style=\"text-align: right;\">\n",
       "      <th></th>\n",
       "      <th>asin</th>\n",
       "      <th>category</th>\n",
       "    </tr>\n",
       "  </thead>\n",
       "  <tbody>\n",
       "    <tr>\n",
       "      <th>11</th>\n",
       "      <td>007742817X</td>\n",
       "      <td>[Software, Education &amp;amp; Reference]</td>\n",
       "    </tr>\n",
       "    <tr>\n",
       "      <th>54</th>\n",
       "      <td>0078605407</td>\n",
       "      <td>[Software, Education &amp;amp; Reference, Languages]</td>\n",
       "    </tr>\n",
       "    <tr>\n",
       "      <th>55</th>\n",
       "      <td>0130438480</td>\n",
       "      <td>[Software, Education &amp;amp; Reference]</td>\n",
       "    </tr>\n",
       "    <tr>\n",
       "      <th>57</th>\n",
       "      <td>0130852414</td>\n",
       "      <td>[Software, Education &amp; Reference, Test Prepara...</td>\n",
       "    </tr>\n",
       "    <tr>\n",
       "      <th>58</th>\n",
       "      <td>0131433172</td>\n",
       "      <td>[Software, Education &amp;amp; Reference]</td>\n",
       "    </tr>\n",
       "    <tr>\n",
       "      <th>...</th>\n",
       "      <td>...</td>\n",
       "      <td>...</td>\n",
       "    </tr>\n",
       "    <tr>\n",
       "      <th>26784</th>\n",
       "      <td>B01HD1CQPK</td>\n",
       "      <td>[Software, Photography, Waistline:Natural , Ne...</td>\n",
       "    </tr>\n",
       "    <tr>\n",
       "      <th>26785</th>\n",
       "      <td>B01HEFZJC2</td>\n",
       "      <td>[Software, Children's]</td>\n",
       "    </tr>\n",
       "    <tr>\n",
       "      <th>26786</th>\n",
       "      <td>B01HEFZKEE</td>\n",
       "      <td>[Software, Children's, Material: Guaranteed 10...</td>\n",
       "    </tr>\n",
       "    <tr>\n",
       "      <th>26787</th>\n",
       "      <td>B01HF3G4BS</td>\n",
       "      <td>[Software, Digital Software, Antivirus &amp; Secur...</td>\n",
       "    </tr>\n",
       "    <tr>\n",
       "      <th>26789</th>\n",
       "      <td>B01HJAMWOK</td>\n",
       "      <td>[Software, Lifestyle &amp; Hobbies, Home Publishin...</td>\n",
       "    </tr>\n",
       "  </tbody>\n",
       "</table>\n",
       "<p>24727 rows × 2 columns</p>\n",
       "</div>"
      ],
      "text/plain": [
       "             asin                                           category\n",
       "11     007742817X              [Software, Education &amp; Reference]\n",
       "54     0078605407   [Software, Education &amp; Reference, Languages]\n",
       "55     0130438480              [Software, Education &amp; Reference]\n",
       "57     0130852414  [Software, Education & Reference, Test Prepara...\n",
       "58     0131433172              [Software, Education &amp; Reference]\n",
       "...           ...                                                ...\n",
       "26784  B01HD1CQPK  [Software, Photography, Waistline:Natural , Ne...\n",
       "26785  B01HEFZJC2                             [Software, Children's]\n",
       "26786  B01HEFZKEE  [Software, Children's, Material: Guaranteed 10...\n",
       "26787  B01HF3G4BS  [Software, Digital Software, Antivirus & Secur...\n",
       "26789  B01HJAMWOK  [Software, Lifestyle & Hobbies, Home Publishin...\n",
       "\n",
       "[24727 rows x 2 columns]"
      ]
     },
     "execution_count": 97,
     "metadata": {},
     "output_type": "execute_result"
    }
   ],
   "source": [
    "meta_copy"
   ]
  },
  {
   "cell_type": "code",
   "execution_count": null,
   "metadata": {
    "colab": {
     "base_uri": "https://localhost:8080/"
    },
    "id": "3XMhvPSLbQNf",
    "outputId": "a1d261c0-be0d-4d4a-8c43-1a59e7ac26e9"
   },
   "outputs": [
    {
     "data": {
      "text/plain": [
       "[['007742817X', ['Software', 'Education &amp; Reference']],\n",
       " ['0078605407', ['Software', 'Education &amp; Reference', 'Languages']],\n",
       " ['0130438480', ['Software', 'Education &amp; Reference']],\n",
       " ['0130852414', ['Software', 'Education & Reference', 'Test Preparation']],\n",
       " ['0131433172', ['Software', 'Education &amp; Reference']],\n",
       " ['0131817949', ['Software', 'Education &amp; Reference', 'Test Preparation']],\n",
       " ['0131892320', ['Software', 'Education &amp; Reference']],\n",
       " ['0132147556',\n",
       "  ['Software', 'Business &amp; Office', 'Business &amp; Marketing Plans']],\n",
       " ['0201656302', ['Software', 'Design &amp; Illustration', 'CAD']],\n",
       " ['0205064833', ['Software', 'Programming & Web Development', 'Web Design']]]"
      ]
     },
     "execution_count": 98,
     "metadata": {},
     "output_type": "execute_result"
    }
   ],
   "source": [
    "meta_list=meta_copy.values.tolist()\n",
    "meta_list[:10]"
   ]
  },
  {
   "cell_type": "code",
   "execution_count": null,
   "metadata": {
    "colab": {
     "base_uri": "https://localhost:8080/"
    },
    "id": "VDCdRzRUcLGf",
    "outputId": "b674cf9d-1629-4a67-9071-835e25a0b4bd"
   },
   "outputs": [
    {
     "data": {
      "text/plain": [
       "list"
      ]
     },
     "execution_count": 99,
     "metadata": {},
     "output_type": "execute_result"
    }
   ],
   "source": [
    "type(meta_list[1][1])"
   ]
  },
  {
   "cell_type": "code",
   "execution_count": null,
   "metadata": {
    "colab": {
     "base_uri": "https://localhost:8080/",
     "height": 35
    },
    "id": "OSdCBEh4dLeT",
    "outputId": "8ccad0fe-e747-4683-b54b-b36828adecf0"
   },
   "outputs": [
    {
     "data": {
      "application/vnd.google.colaboratory.intrinsic+json": {
       "type": "string"
      },
      "text/plain": [
       "'Education &amp; Reference'"
      ]
     },
     "execution_count": 101,
     "metadata": {},
     "output_type": "execute_result"
    }
   ],
   "source": [
    "meta_list[1][1][1]"
   ]
  },
  {
   "cell_type": "code",
   "execution_count": null,
   "metadata": {
    "id": "RVEmgfHXhKJJ"
   },
   "outputs": [],
   "source": [
    "category_list=[]\n",
    "for i in range(len(meta_list)):\n",
    "    s=[]\n",
    "    s.append(meta_list[i][0]) \n",
    "    s.append(meta_list[i][1][1])\n",
    "    category_list.append(s)"
   ]
  },
  {
   "cell_type": "code",
   "execution_count": null,
   "metadata": {
    "id": "Zz5QmCTrbtu_"
   },
   "outputs": [],
   "source": [
    "df_cat_asin=pd.DataFrame(category_list)"
   ]
  },
  {
   "cell_type": "code",
   "execution_count": null,
   "metadata": {
    "id": "PHbI9sESbxjD"
   },
   "outputs": [],
   "source": [
    "df_cat_asin"
   ]
  },
  {
   "cell_type": "code",
   "execution_count": null,
   "metadata": {
    "id": "cgTm8qNxfDEV"
   },
   "outputs": [],
   "source": [
    "df_cat_asin.rename({0:'asin',1:'category_type'}, axis=1,inplace=True)"
   ]
  },
  {
   "cell_type": "code",
   "execution_count": null,
   "metadata": {
    "colab": {
     "base_uri": "https://localhost:8080/",
     "height": 203
    },
    "id": "SX_1cxg0fKLZ",
    "outputId": "e1e666de-8857-4d6f-969c-0c33a3b056c0"
   },
   "outputs": [
    {
     "data": {
      "text/html": [
       "<div>\n",
       "<style scoped>\n",
       "    .dataframe tbody tr th:only-of-type {\n",
       "        vertical-align: middle;\n",
       "    }\n",
       "\n",
       "    .dataframe tbody tr th {\n",
       "        vertical-align: top;\n",
       "    }\n",
       "\n",
       "    .dataframe thead th {\n",
       "        text-align: right;\n",
       "    }\n",
       "</style>\n",
       "<table border=\"1\" class=\"dataframe\">\n",
       "  <thead>\n",
       "    <tr style=\"text-align: right;\">\n",
       "      <th></th>\n",
       "      <th>asin</th>\n",
       "      <th>category_type</th>\n",
       "    </tr>\n",
       "  </thead>\n",
       "  <tbody>\n",
       "    <tr>\n",
       "      <th>0</th>\n",
       "      <td>007742817X</td>\n",
       "      <td>Education &amp;amp; Reference</td>\n",
       "    </tr>\n",
       "    <tr>\n",
       "      <th>1</th>\n",
       "      <td>0078605407</td>\n",
       "      <td>Education &amp;amp; Reference</td>\n",
       "    </tr>\n",
       "    <tr>\n",
       "      <th>2</th>\n",
       "      <td>0130438480</td>\n",
       "      <td>Education &amp;amp; Reference</td>\n",
       "    </tr>\n",
       "    <tr>\n",
       "      <th>3</th>\n",
       "      <td>0130852414</td>\n",
       "      <td>Education &amp; Reference</td>\n",
       "    </tr>\n",
       "    <tr>\n",
       "      <th>4</th>\n",
       "      <td>0131433172</td>\n",
       "      <td>Education &amp;amp; Reference</td>\n",
       "    </tr>\n",
       "  </tbody>\n",
       "</table>\n",
       "</div>"
      ],
      "text/plain": [
       "         asin              category_type\n",
       "0  007742817X  Education &amp; Reference\n",
       "1  0078605407  Education &amp; Reference\n",
       "2  0130438480  Education &amp; Reference\n",
       "3  0130852414      Education & Reference\n",
       "4  0131433172  Education &amp; Reference"
      ]
     },
     "execution_count": 106,
     "metadata": {},
     "output_type": "execute_result"
    }
   ],
   "source": [
    "df_cat_asin.head(5)"
   ]
  },
  {
   "cell_type": "code",
   "execution_count": null,
   "metadata": {
    "colab": {
     "base_uri": "https://localhost:8080/",
     "height": 209
    },
    "id": "3wLoy141fN7A",
    "outputId": "0f3bcc43-350f-43e1-f69b-e66546164db1"
   },
   "outputs": [
    {
     "data": {
      "text/html": [
       "<div>\n",
       "<style scoped>\n",
       "    .dataframe tbody tr th:only-of-type {\n",
       "        vertical-align: middle;\n",
       "    }\n",
       "\n",
       "    .dataframe tbody tr th {\n",
       "        vertical-align: top;\n",
       "    }\n",
       "\n",
       "    .dataframe thead th {\n",
       "        text-align: right;\n",
       "    }\n",
       "</style>\n",
       "<table border=\"1\" class=\"dataframe\">\n",
       "  <thead>\n",
       "    <tr style=\"text-align: right;\">\n",
       "      <th></th>\n",
       "      <th>overall</th>\n",
       "      <th>verified</th>\n",
       "      <th>reviewTime</th>\n",
       "      <th>reviewerID</th>\n",
       "      <th>asin</th>\n",
       "      <th>style</th>\n",
       "      <th>reviewerName</th>\n",
       "      <th>reviewText</th>\n",
       "      <th>summary</th>\n",
       "      <th>unixReviewTime</th>\n",
       "      <th>vote</th>\n",
       "      <th>image</th>\n",
       "      <th>category_type</th>\n",
       "    </tr>\n",
       "  </thead>\n",
       "  <tbody>\n",
       "    <tr>\n",
       "      <th>0</th>\n",
       "      <td>4.0</td>\n",
       "      <td>True</td>\n",
       "      <td>08 15, 2011</td>\n",
       "      <td>AGN3T5ERYJN5A</td>\n",
       "      <td>0132147556</td>\n",
       "      <td>{'Format:': ' Paperback'}</td>\n",
       "      <td>Skipper management</td>\n",
       "      <td>Strong backgroung, good read, quite up to date...</td>\n",
       "      <td>E-marketing 6th ed</td>\n",
       "      <td>1313366400</td>\n",
       "      <td>NaN</td>\n",
       "      <td>NaN</td>\n",
       "      <td>Business &amp;amp; Office</td>\n",
       "    </tr>\n",
       "    <tr>\n",
       "      <th>1</th>\n",
       "      <td>3.0</td>\n",
       "      <td>False</td>\n",
       "      <td>10 9, 2010</td>\n",
       "      <td>AHPK2GD0SQC59</td>\n",
       "      <td>0132147556</td>\n",
       "      <td>{'Format:': ' Paperback'}</td>\n",
       "      <td>dstmars</td>\n",
       "      <td>If you live on Mars and never heard of the int...</td>\n",
       "      <td>Mars calling Earth....what is internet?</td>\n",
       "      <td>1286582400</td>\n",
       "      <td>NaN</td>\n",
       "      <td>NaN</td>\n",
       "      <td>Business &amp;amp; Office</td>\n",
       "    </tr>\n",
       "    <tr>\n",
       "      <th>2</th>\n",
       "      <td>5.0</td>\n",
       "      <td>False</td>\n",
       "      <td>10 3, 2010</td>\n",
       "      <td>A35UC8LHA6TILH</td>\n",
       "      <td>0132147556</td>\n",
       "      <td>{'Format:': ' Paperback'}</td>\n",
       "      <td>Knw1989</td>\n",
       "      <td>i got this book on amazon and it ended up savi...</td>\n",
       "      <td>good book, saved me a lot of money</td>\n",
       "      <td>1286064000</td>\n",
       "      <td>NaN</td>\n",
       "      <td>NaN</td>\n",
       "      <td>Business &amp;amp; Office</td>\n",
       "    </tr>\n",
       "  </tbody>\n",
       "</table>\n",
       "</div>"
      ],
      "text/plain": [
       "   overall  verified   reviewTime  ... vote image          category_type\n",
       "0      4.0      True  08 15, 2011  ...  NaN   NaN  Business &amp; Office\n",
       "1      3.0     False   10 9, 2010  ...  NaN   NaN  Business &amp; Office\n",
       "2      5.0     False   10 3, 2010  ...  NaN   NaN  Business &amp; Office\n",
       "\n",
       "[3 rows x 13 columns]"
      ]
     },
     "execution_count": 107,
     "metadata": {},
     "output_type": "execute_result"
    }
   ],
   "source": [
    "df_inner = pd.merge(df1,df_cat_asin, on='asin', how='inner')\n",
    "\n",
    "df_inner.head(3)"
   ]
  },
  {
   "cell_type": "code",
   "execution_count": null,
   "metadata": {
    "colab": {
     "base_uri": "https://localhost:8080/"
    },
    "id": "BG4seiAafRrQ",
    "outputId": "c79b28b6-cb58-4d1c-fd0a-5aa44637fa4c"
   },
   "outputs": [
    {
     "data": {
      "text/plain": [
       "Digital Software                     102242\n",
       "Business & Office                     49606\n",
       "Antivirus & Security                  49601\n",
       "Lifestyle & Hobbies                   32101\n",
       "Accounting & Finance                  31727\n",
       "Children's                            29541\n",
       "Operating Systems                     29199\n",
       "Education & Reference                 27989\n",
       "Utilities                             26124\n",
       "Video                                 15618\n",
       "Photography                           14087\n",
       "Design & Illustration                 10256\n",
       "Music                                  7152\n",
       "Business &amp; Office                  7122\n",
       "Education &amp; Reference              6733\n",
       "Networking & Servers                   5596\n",
       "Programming & Web Development          4206\n",
       "Tax Preparation                        3600\n",
       "Lifestyle &amp; Hobbies                3321\n",
       "Networking &amp; Servers               2727\n",
       "Antivirus &amp; Security               2219\n",
       "Accounting &amp; Finance               2160\n",
       "Design &amp; Illustration              1127\n",
       "Programming &amp; Web Development      1019\n",
       "Games                                     6\n",
       "Name: category_type, dtype: int64"
      ]
     },
     "execution_count": 108,
     "metadata": {},
     "output_type": "execute_result"
    }
   ],
   "source": [
    "df_inner['category_type'].value_counts()"
   ]
  },
  {
   "cell_type": "code",
   "execution_count": null,
   "metadata": {
    "id": "gHTp-3sZY5qf"
   },
   "outputs": [],
   "source": [
    "df_inner.drop(df_inner[df_inner['category_type']=='Games'].index, inplace=True)"
   ]
  },
  {
   "cell_type": "code",
   "execution_count": null,
   "metadata": {
    "id": "nPdX1X33fXpr"
   },
   "outputs": [],
   "source": [
    "prod1 = deepcopy(df_inner)\n",
    "prod2 = prod1[['asin', 'category_type']]"
   ]
  },
  {
   "cell_type": "markdown",
   "metadata": {
    "id": "l3oLgyyygBzf"
   },
   "source": [
    "###recommendation category wise"
   ]
  },
  {
   "cell_type": "code",
   "execution_count": null,
   "metadata": {
    "id": "ctfHpcZWhI6J"
   },
   "outputs": [],
   "source": [
    "from pyspark.sql import SparkSession\n",
    "#Create PySpark SparkSession\n",
    "spark = SparkSession.builder.getOrCreate()\n",
    "sparkDF=spark.createDataFrame(prod2.astype(str))"
   ]
  },
  {
   "cell_type": "code",
   "execution_count": null,
   "metadata": {
    "id": "mA0ZhRa_hKHR"
   },
   "outputs": [],
   "source": [
    "jdf2 = prediction.join(sparkDF,prediction[\"asin\"] ==  sparkDF[\"asin\"],\"inner\")"
   ]
  },
  {
   "cell_type": "code",
   "execution_count": null,
   "metadata": {
    "colab": {
     "base_uri": "https://localhost:8080/",
     "height": 417
    },
    "id": "cGWaDVkPhN5P",
    "outputId": "d90ea25e-bb4d-41f1-9a0e-e87ec9a28257"
   },
   "outputs": [
    {
     "data": {
      "text/html": [
       "<div>\n",
       "<style scoped>\n",
       "    .dataframe tbody tr th:only-of-type {\n",
       "        vertical-align: middle;\n",
       "    }\n",
       "\n",
       "    .dataframe tbody tr th {\n",
       "        vertical-align: top;\n",
       "    }\n",
       "\n",
       "    .dataframe thead th {\n",
       "        text-align: right;\n",
       "    }\n",
       "</style>\n",
       "<table border=\"1\" class=\"dataframe\">\n",
       "  <thead>\n",
       "    <tr style=\"text-align: right;\">\n",
       "      <th></th>\n",
       "      <th>overall</th>\n",
       "      <th>reviewerID</th>\n",
       "      <th>asin</th>\n",
       "      <th>category_type</th>\n",
       "    </tr>\n",
       "  </thead>\n",
       "  <tbody>\n",
       "    <tr>\n",
       "      <th>0</th>\n",
       "      <td>4.0</td>\n",
       "      <td>AGN3T5ERYJN5A</td>\n",
       "      <td>0132147556</td>\n",
       "      <td>Business &amp;amp; Office</td>\n",
       "    </tr>\n",
       "    <tr>\n",
       "      <th>1</th>\n",
       "      <td>3.0</td>\n",
       "      <td>AHPK2GD0SQC59</td>\n",
       "      <td>0132147556</td>\n",
       "      <td>Business &amp;amp; Office</td>\n",
       "    </tr>\n",
       "    <tr>\n",
       "      <th>2</th>\n",
       "      <td>5.0</td>\n",
       "      <td>A35UC8LHA6TILH</td>\n",
       "      <td>0132147556</td>\n",
       "      <td>Business &amp;amp; Office</td>\n",
       "    </tr>\n",
       "    <tr>\n",
       "      <th>3</th>\n",
       "      <td>5.0</td>\n",
       "      <td>A2IH0AJPR7IWG3</td>\n",
       "      <td>0132147556</td>\n",
       "      <td>Business &amp;amp; Office</td>\n",
       "    </tr>\n",
       "    <tr>\n",
       "      <th>4</th>\n",
       "      <td>5.0</td>\n",
       "      <td>AL87GELNJGOH3</td>\n",
       "      <td>0132147556</td>\n",
       "      <td>Business &amp;amp; Office</td>\n",
       "    </tr>\n",
       "    <tr>\n",
       "      <th>...</th>\n",
       "      <td>...</td>\n",
       "      <td>...</td>\n",
       "      <td>...</td>\n",
       "      <td>...</td>\n",
       "    </tr>\n",
       "    <tr>\n",
       "      <th>465074</th>\n",
       "      <td>5.0</td>\n",
       "      <td>A191CFFASXPOFE</td>\n",
       "      <td>B01HEFZJC2</td>\n",
       "      <td>Children's</td>\n",
       "    </tr>\n",
       "    <tr>\n",
       "      <th>465075</th>\n",
       "      <td>1.0</td>\n",
       "      <td>A3VCFV8WEQG9R5</td>\n",
       "      <td>B01HF3G4BS</td>\n",
       "      <td>Digital Software</td>\n",
       "    </tr>\n",
       "    <tr>\n",
       "      <th>465076</th>\n",
       "      <td>5.0</td>\n",
       "      <td>A3DXGHJF6SOHNC</td>\n",
       "      <td>B01HF3G4BS</td>\n",
       "      <td>Digital Software</td>\n",
       "    </tr>\n",
       "    <tr>\n",
       "      <th>465077</th>\n",
       "      <td>5.0</td>\n",
       "      <td>A1WOS4D7QA06DO</td>\n",
       "      <td>B01HJAMWOK</td>\n",
       "      <td>Lifestyle &amp; Hobbies</td>\n",
       "    </tr>\n",
       "    <tr>\n",
       "      <th>465078</th>\n",
       "      <td>5.0</td>\n",
       "      <td>A20SG9ZGIIFW69</td>\n",
       "      <td>B01HJAMWOK</td>\n",
       "      <td>Lifestyle &amp; Hobbies</td>\n",
       "    </tr>\n",
       "  </tbody>\n",
       "</table>\n",
       "<p>465079 rows × 4 columns</p>\n",
       "</div>"
      ],
      "text/plain": [
       "        overall      reviewerID        asin          category_type\n",
       "0           4.0   AGN3T5ERYJN5A  0132147556  Business &amp; Office\n",
       "1           3.0   AHPK2GD0SQC59  0132147556  Business &amp; Office\n",
       "2           5.0  A35UC8LHA6TILH  0132147556  Business &amp; Office\n",
       "3           5.0  A2IH0AJPR7IWG3  0132147556  Business &amp; Office\n",
       "4           5.0   AL87GELNJGOH3  0132147556  Business &amp; Office\n",
       "...         ...             ...         ...                    ...\n",
       "465074      5.0  A191CFFASXPOFE  B01HEFZJC2             Children's\n",
       "465075      1.0  A3VCFV8WEQG9R5  B01HF3G4BS       Digital Software\n",
       "465076      5.0  A3DXGHJF6SOHNC  B01HF3G4BS       Digital Software\n",
       "465077      5.0  A1WOS4D7QA06DO  B01HJAMWOK    Lifestyle & Hobbies\n",
       "465078      5.0  A20SG9ZGIIFW69  B01HJAMWOK    Lifestyle & Hobbies\n",
       "\n",
       "[465079 rows x 4 columns]"
      ]
     },
     "execution_count": 113,
     "metadata": {},
     "output_type": "execute_result"
    }
   ],
   "source": [
    "ratings2 = deepcopy(df_inner)\n",
    "ratings2.drop([ 'verified', 'reviewTime', \n",
    "       'reviewerName', 'reviewText', 'summary', 'unixReviewTime', 'vote',\n",
    "       'image', 'style'],axis=1, inplace = True)\n",
    "ratings2.fillna(value = 0, inplace = True)\n",
    "ratings2.drop_duplicates\n",
    "ratings2"
   ]
  },
  {
   "cell_type": "code",
   "execution_count": null,
   "metadata": {
    "id": "Dm8cyXj2i0gY"
   },
   "outputs": [],
   "source": [
    "l=df_inner['category_type'].unique()\n",
    "#l"
   ]
  },
  {
   "cell_type": "code",
   "execution_count": null,
   "metadata": {
    "id": "4lY7bkgpZbi6"
   },
   "outputs": [],
   "source": [
    "def preprocessed(data,r,iter,para):\n",
    "    #preprocessed = ratings2.values.tolist()\n",
    "    ##temp_data=data.loc[data['category_type']==cat]\n",
    "    ##dff=pd.DataFrame(temp_data)\n",
    "    ##temp_data_f=dff.drop(['category_type'],axis=1)\n",
    "    \n",
    "    data = spark.createDataFrame(ratings[['reviewerID', 'asin', 'overall']])\n",
    "    indexer = [StringIndexer(inputCol = column, outputCol = column+\"index\") for column in ['asin','reviewerID']]\n",
    "    pipeline = Pipeline(stages=indexer)\n",
    "    data = pipeline.fit(data).transform(data)\n",
    "\n",
    "    transformed_train = data.sampleBy(\"overall\", fractions={1: 0.7, 2: 0.7, 3: 0.7,4: 0.7,5: 0.7}, seed=10)\n",
    "    transformed_test = data.subtract(transformed_train)\n",
    "\n",
    "    transformed_train = transformed_train.withColumnRenamed('overall','label')\n",
    "    transformed_test = transformed_test.withColumnRenamed('overall','truelabel')\n",
    "\n",
    "    als = ALS(rank=r, maxIter = iter, regParam = para, userCol = 'reviewerIDindex', itemCol = 'asinindex', ratingCol = 'label', coldStartStrategy='drop', nonnegative=True)\n",
    "    model = als.fit(transformed_train)\n",
    "    prediction = model.transform(transformed_test)\n",
    "    jdf2 = prediction.join(sparkDF,prediction[\"asin\"] ==  sparkDF[\"asin\"],\"inner\")\n",
    "    jdf2=jdf2.dropDuplicates(['reviewerID','asin','truelabel','asinindex','reviewerIDindex','prediction','asin','category_type'])\n",
    "    #jdf2.show(n=5,truncate=False)\n",
    "    return(jdf2)"
   ]
  },
  {
   "cell_type": "code",
   "execution_count": null,
   "metadata": {
    "id": "ODpVTK7TaZ3Z"
   },
   "outputs": [],
   "source": [
    "def reco_user_category(user_id,cat,data,title,r,iter,para):\n",
    "    temp_data=data.loc[data['category_type']==cat]\n",
    "    dff=pd.DataFrame(temp_data)\n",
    "    temp_data_f=dff.drop(['category_type'],axis=1)\n",
    "\n",
    "    prediction=preprocessed(temp_data,r,iter,para)\n",
    "    temp_df = prediction.filter(prediction[\"reviewerID\"] == user_id)\n",
    "    temp_df = temp_df.sort(\"prediction\", ascending=False)\n",
    "    pandas_df = temp_df.select(\"*\").toPandas()\n",
    "    #print(pandas_df)\n",
    "    if len(pandas_df)<5:\n",
    "        #popularity based\n",
    "        ratings = pd.DataFrame(temp_data_f.groupby('asin')['overall'].median().sort_values(ascending=False).head())\n",
    "        #print(ratings)\n",
    "        ratings=pd.DataFrame(ratings)\n",
    "        ratings.reset_index(inplace=True)\n",
    "        #print(ratings)\n",
    "        #print(ratings.columns)\n",
    "        #print(type(ratings))\n",
    "        \n",
    "        recommendation=ratings[:5]\n",
    "       # print(recommendation)\n",
    "       # ratings.rename(columns={\"overall\": \"Rating_Median\"}, inplace=True)  \n",
    "        l1=pandas_df.loc[:,'asin']\n",
    "        #print(l1)\n",
    "        l2=recommendation.loc[:,'asin']\n",
    "        #print(l2)\n",
    "        reco=l1.values.tolist()\n",
    "        for i in l2.values.tolist():\n",
    "            if i not in l1.values.tolist():\n",
    "                reco.append(i)\n",
    "            if len(reco)==5:\n",
    "                break\n",
    "\n",
    "    else:\n",
    "       reco=pandas_df['asin'][:5]\n",
    "    df = pd.DataFrame(reco)\n",
    "    df.rename(columns={0: \"asin\"},inplace=True)\n",
    "    recommend = pd.merge(df,title, on='asin', how='inner').drop_duplicates( keep='last')\n",
    "\n",
    "    return(recommend)"
   ]
  },
  {
   "cell_type": "code",
   "execution_count": null,
   "metadata": {
    "colab": {
     "base_uri": "https://localhost:8080/",
     "height": 203
    },
    "id": "Qy1ADUL7afrl",
    "outputId": "b93f34ae-741b-47cd-b971-e00a8e95b0b7"
   },
   "outputs": [
    {
     "data": {
      "text/html": [
       "<div>\n",
       "<style scoped>\n",
       "    .dataframe tbody tr th:only-of-type {\n",
       "        vertical-align: middle;\n",
       "    }\n",
       "\n",
       "    .dataframe tbody tr th {\n",
       "        vertical-align: top;\n",
       "    }\n",
       "\n",
       "    .dataframe thead th {\n",
       "        text-align: right;\n",
       "    }\n",
       "</style>\n",
       "<table border=\"1\" class=\"dataframe\">\n",
       "  <thead>\n",
       "    <tr style=\"text-align: right;\">\n",
       "      <th></th>\n",
       "      <th>asin</th>\n",
       "      <th>title</th>\n",
       "    </tr>\n",
       "  </thead>\n",
       "  <tbody>\n",
       "    <tr>\n",
       "      <th>0</th>\n",
       "      <td>B01HJAMWOK</td>\n",
       "      <td>CNC Designs - Vector Graphics for Computer Con...</td>\n",
       "    </tr>\n",
       "    <tr>\n",
       "      <th>1</th>\n",
       "      <td>B001O4DED6</td>\n",
       "      <td>Horse EPS Vector Sign Clipart Horses</td>\n",
       "    </tr>\n",
       "    <tr>\n",
       "      <th>2</th>\n",
       "      <td>B0017XHKYI</td>\n",
       "      <td>Archie Bronze Age Series</td>\n",
       "    </tr>\n",
       "    <tr>\n",
       "      <th>3</th>\n",
       "      <td>B0017I3DP8</td>\n",
       "      <td>Corel Family Pack 2009 [Old Version]</td>\n",
       "    </tr>\n",
       "    <tr>\n",
       "      <th>4</th>\n",
       "      <td>B0016HIIVY</td>\n",
       "      <td>Cook'n in India</td>\n",
       "    </tr>\n",
       "  </tbody>\n",
       "</table>\n",
       "</div>"
      ],
      "text/plain": [
       "         asin                                              title\n",
       "0  B01HJAMWOK  CNC Designs - Vector Graphics for Computer Con...\n",
       "1  B001O4DED6               Horse EPS Vector Sign Clipart Horses\n",
       "2  B0017XHKYI                           Archie Bronze Age Series\n",
       "3  B0017I3DP8               Corel Family Pack 2009 [Old Version]\n",
       "4  B0016HIIVY                                    Cook'n in India"
      ]
     },
     "execution_count": 119,
     "metadata": {},
     "output_type": "execute_result"
    }
   ],
   "source": [
    "reco_user_category('A35UC8LHA6TILH','Lifestyle & Hobbies',ratings2,prod_title,r,iter,para)"
   ]
  },
  {
   "cell_type": "code",
   "execution_count": null,
   "metadata": {
    "colab": {
     "background_save": true,
     "base_uri": "https://localhost:8080/"
    },
    "id": "Vju5OewXIB7v",
    "outputId": "147658aa-d097-48e2-e37e-e347ad6376b0"
   },
   "outputs": [
    {
     "name": "stdout",
     "output_type": "stream",
     "text": [
      "Business &amp; Office\n",
      "         asin                                    title\n",
      "1  B00005IA4J                Ultimate Business Planner\n",
      "2  B00080JV4I           Time2Log downloadable Software\n",
      "4  B00006A6XR  FineReader 6.0 Professional OCR Upgrade\n",
      "6  B000069IL6        Microsoft Works 7.0 [Old Version]\n",
      "7  B000A1GY9A  Microsoft Office XP 2002 Small Business\n",
      "Education & Reference\n",
      "         asin                                              title\n",
      "0  B01GK2QBXG  6 Month Firearms Guide 9th Edition ONLINE with...\n",
      "2  B00006AW2Z          Rosetta Stone Latin Level 1 [Old Version]\n",
      "4  B000063CWU  Rosetta Stone Global Traveler (Spanish French ...\n",
      "5  B002BDKUW2                            Inspiration Version 7.5\n",
      "7  B000063W5A                        Satview 5.0-Student Version\n",
      "Children's\n",
      "         asin                                           title\n",
      "1  B00029BOSQ                       Mighty Math Number Heroes\n",
      "3  B0000639VT  Butt-Ugly Martians: Martian Boot Camp - PC/Mac\n",
      "4  B000EXS4B0           Jumpstart Advanced Study Helpers V2.0\n",
      "6  B0000645W2              Nicktoons Racing (Jewel Case) - PC\n",
      "8  B0000645WE          Tonka Construction 2 (Jewel Case) - PC\n",
      "Music\n",
      "         asin                                              title\n",
      "0  B01FW8597I  Arturia V Collection 5 Software Instrument Bun...\n",
      "1  B000B8GTME                           Legends of Jazz Drumming\n",
      "2  B000LLV45I                                           eJay MP3\n",
      "3  B000LMHB3Q                                         Drumcore 2\n",
      "4  B000MN8OZI                    GuitarStar: Brent Mason Country\n"
     ]
    }
   ],
   "source": [
    "list_category=df_inner['category_type'].unique()\n",
    "for i in list_category[:4]:\n",
    "    print(i)\n",
    "    print(reco_user_category('A20SG9ZGIIFW69',i,ratings2,prod_title,r,iter,para))\n",
    "   "
   ]
  },
  {
   "cell_type": "markdown",
   "metadata": {
    "id": "iTzdNAP7es6p"
   },
   "source": [
    "###Cross category"
   ]
  },
  {
   "cell_type": "code",
   "execution_count": null,
   "metadata": {
    "colab": {
     "background_save": true
    },
    "id": "BbFX_UD_5Vib",
    "outputId": "95163079-7c6b-41ba-8787-c76d99f1d147"
   },
   "outputs": [
    {
     "data": {
      "text/html": [
       "<div>\n",
       "<style scoped>\n",
       "    .dataframe tbody tr th:only-of-type {\n",
       "        vertical-align: middle;\n",
       "    }\n",
       "\n",
       "    .dataframe tbody tr th {\n",
       "        vertical-align: top;\n",
       "    }\n",
       "\n",
       "    .dataframe thead th {\n",
       "        text-align: right;\n",
       "    }\n",
       "</style>\n",
       "<table border=\"1\" class=\"dataframe\">\n",
       "  <thead>\n",
       "    <tr style=\"text-align: right;\">\n",
       "      <th></th>\n",
       "      <th>asin</th>\n",
       "      <th>title</th>\n",
       "      <th>category_type</th>\n",
       "    </tr>\n",
       "  </thead>\n",
       "  <tbody>\n",
       "    <tr>\n",
       "      <th>0</th>\n",
       "      <td>007742817X</td>\n",
       "      <td>Instructor's Resource CD-ROM for The Art of Sp...</td>\n",
       "      <td>Education &amp;amp; Reference</td>\n",
       "    </tr>\n",
       "    <tr>\n",
       "      <th>1</th>\n",
       "      <td>0078605407</td>\n",
       "      <td>Como te va? Middle school Spanish Level A Teac...</td>\n",
       "      <td>Education &amp;amp; Reference</td>\n",
       "    </tr>\n",
       "    <tr>\n",
       "      <th>2</th>\n",
       "      <td>0130438480</td>\n",
       "      <td>Magruder's American Government Resource Pro CD...</td>\n",
       "      <td>Education &amp;amp; Reference</td>\n",
       "    </tr>\n",
       "  </tbody>\n",
       "</table>\n",
       "</div>"
      ],
      "text/plain": [
       "         asin  ...              category_type\n",
       "0  007742817X  ...  Education &amp; Reference\n",
       "1  0078605407  ...  Education &amp; Reference\n",
       "2  0130438480  ...  Education &amp; Reference\n",
       "\n",
       "[3 rows x 3 columns]"
      ]
     },
     "execution_count": null,
     "metadata": {},
     "output_type": "execute_result"
    }
   ],
   "source": [
    "df_item_info = pd.merge(prod_title,df_cat_asin, on='asin', how='inner')\n",
    "\n",
    "df_item_info.head(3)"
   ]
  },
  {
   "cell_type": "code",
   "execution_count": null,
   "metadata": {
    "colab": {
     "background_save": true
    },
    "id": "p39rMbjT5f-h"
   },
   "outputs": [],
   "source": [
    "def popular(data):\n",
    "    l=data['category_type'].unique()\n",
    "    list_rec=[]\n",
    "    for cat in l:\n",
    "        temp_data=data.loc[data['category_type']==cat]\n",
    "        dff=pd.DataFrame(temp_data)\n",
    "        temp_data_f=dff.drop(['category_type'],axis=1)\n",
    "        ratings = pd.DataFrame(temp_data_f.groupby('asin')['overall'].median().sort_values(ascending=False).head())\n",
    "        ratings=pd.DataFrame(ratings)\n",
    "        ratings.reset_index(inplace=True)\n",
    "        \n",
    "        recommendation=ratings[:5]\n",
    "        l1=recommendation.loc[:,'asin']\n",
    "        reco=l1.values.tolist()\n",
    "        for i in reco:\n",
    "            list_rec.append(i)\n",
    "    return(list_rec)"
   ]
  },
  {
   "cell_type": "code",
   "execution_count": null,
   "metadata": {
    "id": "WdJDQU9j5lZS"
   },
   "outputs": [],
   "source": [
    "def reco_user_cross_category(user_id,data,item,r,iter,para):\n",
    "    \n",
    "\n",
    "    user_list=data['reviewerID']\n",
    "    user=[]\n",
    "    for i in user_list:\n",
    "        user.append(i)\n",
    "\n",
    "    if user_id in user:\n",
    "    \n",
    "        user_subset=data.groupby('reviewerID')\n",
    "        user_data=user_subset.get_group(user_id)\n",
    "        user_category=user_data['category_type']\n",
    "        cat_list=[]\n",
    "        for i in user_category:\n",
    "            if i not in cat_list:\n",
    "                 cat_list.append(i)\n",
    "        print('recommended categories for previous user',cat_list)\n",
    "        for i in cat_list:\n",
    "            print(i)\n",
    "            print(reco_user_category(user_id,i,ratings2,prod_title,r,iter,para))\n",
    "\n",
    "    else:\n",
    "    \n",
    "        top_rec=popular(data)\n",
    "        print('recommendation for new user',top_rec)\n",
    "    \n"
   ]
  },
  {
   "cell_type": "code",
   "execution_count": null,
   "metadata": {
    "colab": {
     "background_save": true
    },
    "id": "dKQ0zyS4TbzA",
    "outputId": "63c5e911-fef1-4407-f8b5-ad2bc720b8b7"
   },
   "outputs": [
    {
     "data": {
      "text/plain": [
       "pandas.core.frame.DataFrame"
      ]
     },
     "execution_count": null,
     "metadata": {},
     "output_type": "execute_result"
    }
   ],
   "source": [
    "type(prod_title)"
   ]
  },
  {
   "cell_type": "code",
   "execution_count": null,
   "metadata": {
    "colab": {
     "background_save": true
    },
    "id": "J8G_ZRlsTvc7",
    "outputId": "f4aae88d-e024-441a-fb51-94f97fc88f0c"
   },
   "outputs": [
    {
     "name": "stdout",
     "output_type": "stream",
     "text": [
      "<class 'pandas.core.frame.DataFrame'>                 0                                                  1\n",
      "0      007742817X  Instructor's Resource CD-ROM for The Art of Sp...\n",
      "1      0078605407  Como te va? Middle school Spanish Level A Teac...\n",
      "2      0130438480  Magruder's American Government Resource Pro CD...\n",
      "3      0130852414  Prentice Hall Test Manager a Comprehensive Sui...\n",
      "4      0131433172                Applied Calculus Lecture Series VHS\n",
      "...           ...                                                ...\n",
      "24722  B01HD1CQPK  Women Bohemian Neck Tie Vintage Printed Ethnic...\n",
      "24723  B01HEFZJC2  925 Sterling Silver Angel Wings Heart Pendant ...\n",
      "24724  B01HEFZKEE  925 Sterling Silver Love Heart Opal Pendant Ne...\n",
      "24725  B01HF3G4BS  Intego Mac Internet Security X9 - 1 Mac - 1 ye...\n",
      "24726  B01HJAMWOK  CNC Designs - Vector Graphics for Computer Con...\n",
      "\n",
      "[24727 rows x 2 columns]\n"
     ]
    }
   ],
   "source": [
    "prod_title_list=prod_title.values.tolist()\n",
    "prod_df=pd.DataFrame(prod_title_list)\n",
    "print(type(prod_df),prod_df)"
   ]
  },
  {
   "cell_type": "code",
   "execution_count": null,
   "metadata": {
    "colab": {
     "base_uri": "https://localhost:8080/"
    },
    "id": "eVFH4dxz5p86",
    "outputId": "45de76ee-db04-4e8b-8010-97ce845225fc"
   },
   "outputs": [
    {
     "name": "stdout",
     "output_type": "stream",
     "text": [
      "recommended categories for previous user ['Lifestyle & Hobbies']\n",
      "Lifestyle & Hobbies\n",
      "         asin                                              title\n",
      "0  B01HJAMWOK  CNC Designs - Vector Graphics for Computer Con...\n",
      "1  B001O4DED6               Horse EPS Vector Sign Clipart Horses\n",
      "2  B0017XHKYI                           Archie Bronze Age Series\n",
      "3  B0017I3DP8               Corel Family Pack 2009 [Old Version]\n",
      "4  B0016HIIVY                                    Cook'n in India\n"
     ]
    }
   ],
   "source": [
    "l=reco_user_cross_category('A20SG9ZGIIFW69',ratings2,r,iter,para)"
   ]
  },
  {
   "cell_type": "code",
   "execution_count": null,
   "metadata": {
    "colab": {
     "base_uri": "https://localhost:8080/"
    },
    "id": "tbx-W7wzPDZJ",
    "outputId": "bbb090fb-4d1a-466c-85c4-96702c4b75d8"
   },
   "outputs": [
    {
     "name": "stdout",
     "output_type": "stream",
     "text": [
      "recommendation for new user ['B00005IA4J', 'B00080JV4I', 'B00006A6XR', 'B000069IL6', 'B000A1GY9A', 'B01GK2QBXG', 'B00006AW2Z', 'B000063CWU', 'B002BDKUW2', 'B000063W5A', 'B00029BOSQ', 'B0000639VT', 'B000EXS4B0', 'B0000645W2', 'B0000645WE', 'B01FW8597I', 'B000B8GTME', 'B000LLV45I', 'B000LMHB3Q', 'B000MN8OZI', 'B000AJFZJC', 'B000059RR8', 'B00004T2UL', 'B0001IQQ0E', 'B00004U1QH', '007742817X', '5864551287', '2749006724', 'B000637S74', '2749004322', 'B01GDD4968', 'B001NX55XK', 'B001QDQZO0', 'B001S4T1NO', 'B001TL2ZD4', 'B001JBDVK0', 'B0002CU1QO', 'B00009MJDF', 'B00009RTNX', 'B0000C120L', '0740311034', 'B000T2N7MW', 'B001AWHGK4', 'B001BI4D80', 'B001DBGRRK', 'B01HJAMWOK', 'B001O4DED6', 'B0017XHKYI', 'B0017I3DP8', 'B0016HIIVY', 'B01H4KS63G', 'B009JX5XZQ', 'B009YKXPCC', 'B009VKZMQ2', 'B000MAODR4', 'B00GUWAL4W', 'B00IR13K06', 'B000CO3IBC', 'B00F1T97B8', 'B00F3RN94E', 'B003XVQ77S', 'B003L51CZ8', 'B003EYU5BI', 'B00021XI8I', 'B00022VMV2', 'B00130I0EO', 'B001AMLQ6O', 'B0017OBMBO', 'B0018PH9Z0', 'B0018TSYZU', 'B000PMYVP8', 'B00123WSHC', 'B00002S7OS', 'B000J0KWZY', 'B000J421TU', 'B01GGUTDTG', 'B0095C09G4', 'B0095CAUN6', 'B0095CC1PQ', 'B009APQBGI', 'B01H33IRL0', 'B00CWDNAGO', 'B00276B4QE', 'B00276AHG2', 'B001PBAGHK', 'B000GE3O4Y', 'B0014CXQ6S', 'B000IG8M60', 'B0052VKMGO', 'B000H2965G', 'B00005R7Z0', 'B000ALM5YS', 'B000FZSS8G', 'B00005R1FE', 'B0002YF46O', 'B00032IYEE', 'B0000CA2IX', 'B0000AZJY6', 'B00065GPDU', 'B00005RFDG', 'B000063V0V', 'B00005V6FO', 'B00005NP7Y', 'B00005R1FL', 'B00005RV4Z', 'B000RKY4ZK', 'B00004WFVY', 'B000VVZ0C6', 'B000VS9RHS', 'B00005QZZL', 'B01GDOSY9U', 'B00CY1RWDG', 'B000W3QKQS', 'B000W3T6S2', 'B001GL6QHS', '0992256852', 'B00HCOFSXQ', 'B00HDQMIZ4', 'B00HF7FAN8', 'B00HNZQ5HW', 'B007JAPXLA', 'B000CH1KJ6', 'B00FMJL4Q8']\n"
     ]
    }
   ],
   "source": [
    "l=reco_user_cross_category('monalisa',ratings2,prod_title,r,iter,para)"
   ]
  }
 ],
 "metadata": {
  "colab": {
   "collapsed_sections": [
    "D9Jy5478MJxB",
    "YrMsbCyMVORV",
    "NhIrKH_iXr_K",
    "aXnRbq-3Y84S",
    "3CZCKeZaZRcJ",
    "X8W3IhaIaYsF",
    "vL5-ek1IbCBQ"
   ],
   "name": "Monalisa_pyspark_amazon_software.ipynb",
   "provenance": []
  },
  "kernelspec": {
   "display_name": "Python 3",
   "language": "python",
   "name": "python3"
  },
  "language_info": {
   "codemirror_mode": {
    "name": "ipython",
    "version": 3
   },
   "file_extension": ".py",
   "mimetype": "text/x-python",
   "name": "python",
   "nbconvert_exporter": "python",
   "pygments_lexer": "ipython3",
   "version": "3.8.8"
  }
 },
 "nbformat": 4,
 "nbformat_minor": 4
}
