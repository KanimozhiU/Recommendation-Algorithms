{
 "cells": [
  {
   "cell_type": "markdown",
   "metadata": {},
   "source": [
    "## Amazon Magazine Recommendation System Excluding Metadata Using LightFM"
   ]
  },
  {
   "cell_type": "code",
   "execution_count": 1,
   "metadata": {},
   "outputs": [],
   "source": [
    "import time\n",
    "# Marking the initial time\n",
    "begin = time.time()"
   ]
  },
  {
   "cell_type": "code",
   "execution_count": 2,
   "metadata": {},
   "outputs": [
    {
     "name": "stderr",
     "output_type": "stream",
     "text": [
      "C:\\Users\\Bumba\\anaconda3\\lib\\site-packages\\lightfm\\_lightfm_fast.py:9: UserWarning: LightFM was compiled without OpenMP support. Only a single thread will be used.\n",
      "  warnings.warn(\n"
     ]
    }
   ],
   "source": [
    "# Importing required Libraries\n",
    "import json\n",
    "import gzip\n",
    "import pandas as pd\n",
    "import numpy as np\n",
    "from lightfm import LightFM, cross_validation\n",
    "from lightfm.data import Dataset\n",
    "from lightfm.evaluation import auc_score\n",
    "import scipy\n",
    "import warnings\n",
    "warnings.filterwarnings(\"ignore\")\n",
    "from sklearn import preprocessing\n",
    "import random"
   ]
  },
  {
   "cell_type": "code",
   "execution_count": 21,
   "metadata": {},
   "outputs": [],
   "source": [
    "import matplotlib.pyplot as plt\n",
    "plt.style.use('ggplot')\n",
    "%matplotlib inline"
   ]
  },
  {
   "cell_type": "code",
   "execution_count": 3,
   "metadata": {},
   "outputs": [
    {
     "name": "stdout",
     "output_type": "stream",
     "text": [
      "3385\n"
     ]
    }
   ],
   "source": [
    "# Loading the product data\n",
    "data1 = []\n",
    "with gzip.open('D:\\Downloads\\meta_Magazine_Subscriptions.json.gz') as f:\n",
    "    for l in f:\n",
    "        data1.append(json.loads(l.strip()))\n",
    "print(len(data1))"
   ]
  },
  {
   "cell_type": "code",
   "execution_count": 4,
   "metadata": {},
   "outputs": [
    {
     "name": "stdout",
     "output_type": "stream",
     "text": [
      "3385\n"
     ]
    }
   ],
   "source": [
    "# Converting the product data into Pandas dataframe\n",
    "df1 = pd.DataFrame.from_dict(data1)\n",
    "print(len(df1))"
   ]
  },
  {
   "cell_type": "code",
   "execution_count": 5,
   "metadata": {},
   "outputs": [
    {
     "data": {
      "text/plain": [
       "Index(['category', 'tech1', 'description', 'fit', 'title', 'also_buy', 'tech2',\n",
       "       'brand', 'feature', 'rank', 'also_view', 'details', 'main_cat',\n",
       "       'similar_item', 'date', 'price', 'asin', 'imageURL', 'imageURLHighRes'],\n",
       "      dtype='object')"
      ]
     },
     "execution_count": 5,
     "metadata": {},
     "output_type": "execute_result"
    }
   ],
   "source": [
    "df1.columns"
   ]
  },
  {
   "cell_type": "code",
   "execution_count": 6,
   "metadata": {},
   "outputs": [],
   "source": [
    "# Creating a Product Dataframe with required columns\n",
    "product_data = df1[['category', 'title', 'brand', 'rank', 'asin']]"
   ]
  },
  {
   "cell_type": "code",
   "execution_count": 7,
   "metadata": {},
   "outputs": [],
   "source": [
    "# Dropping the duplicate entries\n",
    "product_data.drop_duplicates(subset=['asin'], keep='first', inplace=True)"
   ]
  },
  {
   "cell_type": "code",
   "execution_count": 8,
   "metadata": {},
   "outputs": [
    {
     "name": "stdout",
     "output_type": "stream",
     "text": [
      "<class 'pandas.core.frame.DataFrame'>\n",
      "Int64Index: 2320 entries, 0 to 3384\n",
      "Data columns (total 5 columns):\n",
      " #   Column    Non-Null Count  Dtype \n",
      "---  ------    --------------  ----- \n",
      " 0   category  2320 non-null   object\n",
      " 1   title     2320 non-null   object\n",
      " 2   brand     2320 non-null   object\n",
      " 3   rank      2320 non-null   object\n",
      " 4   asin      2320 non-null   object\n",
      "dtypes: object(5)\n",
      "memory usage: 108.8+ KB\n"
     ]
    }
   ],
   "source": [
    "product_data.info()"
   ]
  },
  {
   "cell_type": "code",
   "execution_count": 9,
   "metadata": {},
   "outputs": [
    {
     "data": {
      "text/html": [
       "<div>\n",
       "<style scoped>\n",
       "    .dataframe tbody tr th:only-of-type {\n",
       "        vertical-align: middle;\n",
       "    }\n",
       "\n",
       "    .dataframe tbody tr th {\n",
       "        vertical-align: top;\n",
       "    }\n",
       "\n",
       "    .dataframe thead th {\n",
       "        text-align: right;\n",
       "    }\n",
       "</style>\n",
       "<table border=\"1\" class=\"dataframe\">\n",
       "  <thead>\n",
       "    <tr style=\"text-align: right;\">\n",
       "      <th></th>\n",
       "      <th>category</th>\n",
       "      <th>title</th>\n",
       "      <th>brand</th>\n",
       "      <th>rank</th>\n",
       "      <th>asin</th>\n",
       "    </tr>\n",
       "  </thead>\n",
       "  <tbody>\n",
       "    <tr>\n",
       "      <th>0</th>\n",
       "      <td>[Magazine Subscriptions, Professional &amp; Educat...</td>\n",
       "      <td>&lt;span class=\"a-size-medium a-color-secondary\"</td>\n",
       "      <td>Reason Magazine</td>\n",
       "      <td>[]</td>\n",
       "      <td>B00005N7NQ</td>\n",
       "    </tr>\n",
       "    <tr>\n",
       "      <th>1</th>\n",
       "      <td>[Magazine Subscriptions, Arts, Music &amp;amp; Pho...</td>\n",
       "      <td>&lt;span class=\"a-size-medium a-color-secondary\"</td>\n",
       "      <td>String Letter Publishers</td>\n",
       "      <td>742 in Magazine Subscriptions (</td>\n",
       "      <td>B00005N7OC</td>\n",
       "    </tr>\n",
       "    <tr>\n",
       "      <th>2</th>\n",
       "      <td>[Magazine Subscriptions, Fashion &amp;amp; Style, ...</td>\n",
       "      <td>&lt;span class=\"a-size-medium a-color-secondary\"</td>\n",
       "      <td>Conde Nast Publications</td>\n",
       "      <td>[]</td>\n",
       "      <td>B00005N7OD</td>\n",
       "    </tr>\n",
       "    <tr>\n",
       "      <th>3</th>\n",
       "      <td>[Magazine Subscriptions, Sports, Recreation &amp; ...</td>\n",
       "      <td>&lt;span class=\"a-size-medium a-color-secondary\"</td>\n",
       "      <td>AirAge Publishing</td>\n",
       "      <td>[]</td>\n",
       "      <td>B00005N7O9</td>\n",
       "    </tr>\n",
       "    <tr>\n",
       "      <th>4</th>\n",
       "      <td>[Magazine Subscriptions, Professional &amp; Educat...</td>\n",
       "      <td>&lt;span class=\"a-size-medium a-color-secondary\"</td>\n",
       "      <td>EPG Media &amp; Specialty Information</td>\n",
       "      <td>[]</td>\n",
       "      <td>B00005N7O6</td>\n",
       "    </tr>\n",
       "  </tbody>\n",
       "</table>\n",
       "</div>"
      ],
      "text/plain": [
       "                                            category  \\\n",
       "0  [Magazine Subscriptions, Professional & Educat...   \n",
       "1  [Magazine Subscriptions, Arts, Music &amp; Pho...   \n",
       "2  [Magazine Subscriptions, Fashion &amp; Style, ...   \n",
       "3  [Magazine Subscriptions, Sports, Recreation & ...   \n",
       "4  [Magazine Subscriptions, Professional & Educat...   \n",
       "\n",
       "                                           title  \\\n",
       "0  <span class=\"a-size-medium a-color-secondary\"   \n",
       "1  <span class=\"a-size-medium a-color-secondary\"   \n",
       "2  <span class=\"a-size-medium a-color-secondary\"   \n",
       "3  <span class=\"a-size-medium a-color-secondary\"   \n",
       "4  <span class=\"a-size-medium a-color-secondary\"   \n",
       "\n",
       "                               brand                             rank  \\\n",
       "0                    Reason Magazine                               []   \n",
       "1           String Letter Publishers  742 in Magazine Subscriptions (   \n",
       "2            Conde Nast Publications                               []   \n",
       "3                  AirAge Publishing                               []   \n",
       "4  EPG Media & Specialty Information                               []   \n",
       "\n",
       "         asin  \n",
       "0  B00005N7NQ  \n",
       "1  B00005N7OC  \n",
       "2  B00005N7OD  \n",
       "3  B00005N7O9  \n",
       "4  B00005N7O6  "
      ]
     },
     "execution_count": 9,
     "metadata": {},
     "output_type": "execute_result"
    }
   ],
   "source": [
    "product_data.head()"
   ]
  },
  {
   "cell_type": "code",
   "execution_count": 10,
   "metadata": {},
   "outputs": [
    {
     "name": "stdout",
     "output_type": "stream",
     "text": [
      "89689\n"
     ]
    }
   ],
   "source": [
    "# Loading the review data\n",
    "data2 = []\n",
    "with gzip.open('D:\\Downloads\\Magazine_Subscriptions.json.gz') as f:\n",
    "    for l in f:\n",
    "        data2.append(json.loads(l.strip()))\n",
    "print(len(data2))"
   ]
  },
  {
   "cell_type": "code",
   "execution_count": 11,
   "metadata": {},
   "outputs": [
    {
     "name": "stdout",
     "output_type": "stream",
     "text": [
      "89689\n"
     ]
    }
   ],
   "source": [
    "# Converting the review data into Pandas dataframe\n",
    "df2 = pd.DataFrame.from_dict(data2)\n",
    "print(len(df2))"
   ]
  },
  {
   "cell_type": "code",
   "execution_count": 12,
   "metadata": {},
   "outputs": [
    {
     "data": {
      "text/plain": [
       "Index(['overall', 'vote', 'verified', 'reviewTime', 'reviewerID', 'asin',\n",
       "       'reviewerName', 'reviewText', 'summary', 'unixReviewTime', 'style',\n",
       "       'image'],\n",
       "      dtype='object')"
      ]
     },
     "execution_count": 12,
     "metadata": {},
     "output_type": "execute_result"
    }
   ],
   "source": [
    "df2.columns"
   ]
  },
  {
   "cell_type": "code",
   "execution_count": 13,
   "metadata": {},
   "outputs": [],
   "source": [
    "# Creating a Review Dataframe with required columns\n",
    "review_data = df2[['overall', 'reviewerID', 'asin']]"
   ]
  },
  {
   "cell_type": "code",
   "execution_count": 14,
   "metadata": {},
   "outputs": [],
   "source": [
    "# Removing the duplicate reviews given by a particular user to a particular product\n",
    "review_data.drop_duplicates(subset=['reviewerID', 'asin'], keep='first', inplace=True)"
   ]
  },
  {
   "cell_type": "code",
   "execution_count": 15,
   "metadata": {},
   "outputs": [
    {
     "name": "stdout",
     "output_type": "stream",
     "text": [
      "<class 'pandas.core.frame.DataFrame'>\n",
      "Int64Index: 88318 entries, 0 to 89688\n",
      "Data columns (total 3 columns):\n",
      " #   Column      Non-Null Count  Dtype  \n",
      "---  ------      --------------  -----  \n",
      " 0   overall     88318 non-null  float64\n",
      " 1   reviewerID  88318 non-null  object \n",
      " 2   asin        88318 non-null  object \n",
      "dtypes: float64(1), object(2)\n",
      "memory usage: 2.7+ MB\n"
     ]
    }
   ],
   "source": [
    "review_data.info()"
   ]
  },
  {
   "cell_type": "code",
   "execution_count": 16,
   "metadata": {},
   "outputs": [
    {
     "data": {
      "text/html": [
       "<div>\n",
       "<style scoped>\n",
       "    .dataframe tbody tr th:only-of-type {\n",
       "        vertical-align: middle;\n",
       "    }\n",
       "\n",
       "    .dataframe tbody tr th {\n",
       "        vertical-align: top;\n",
       "    }\n",
       "\n",
       "    .dataframe thead th {\n",
       "        text-align: right;\n",
       "    }\n",
       "</style>\n",
       "<table border=\"1\" class=\"dataframe\">\n",
       "  <thead>\n",
       "    <tr style=\"text-align: right;\">\n",
       "      <th></th>\n",
       "      <th>overall</th>\n",
       "      <th>reviewerID</th>\n",
       "      <th>asin</th>\n",
       "    </tr>\n",
       "  </thead>\n",
       "  <tbody>\n",
       "    <tr>\n",
       "      <th>0</th>\n",
       "      <td>5.0</td>\n",
       "      <td>AH2IFH762VY5U</td>\n",
       "      <td>B00005N7P0</td>\n",
       "    </tr>\n",
       "    <tr>\n",
       "      <th>1</th>\n",
       "      <td>5.0</td>\n",
       "      <td>AOSFI0JEYU4XM</td>\n",
       "      <td>B00005N7P0</td>\n",
       "    </tr>\n",
       "    <tr>\n",
       "      <th>2</th>\n",
       "      <td>3.0</td>\n",
       "      <td>A3JPFWKS83R49V</td>\n",
       "      <td>B00005N7OJ</td>\n",
       "    </tr>\n",
       "    <tr>\n",
       "      <th>3</th>\n",
       "      <td>5.0</td>\n",
       "      <td>A19FKU6JZQ2ECJ</td>\n",
       "      <td>B00005N7OJ</td>\n",
       "    </tr>\n",
       "    <tr>\n",
       "      <th>4</th>\n",
       "      <td>5.0</td>\n",
       "      <td>A25MDGOMZ2GALN</td>\n",
       "      <td>B00005N7P0</td>\n",
       "    </tr>\n",
       "  </tbody>\n",
       "</table>\n",
       "</div>"
      ],
      "text/plain": [
       "   overall      reviewerID        asin\n",
       "0      5.0   AH2IFH762VY5U  B00005N7P0\n",
       "1      5.0   AOSFI0JEYU4XM  B00005N7P0\n",
       "2      3.0  A3JPFWKS83R49V  B00005N7OJ\n",
       "3      5.0  A19FKU6JZQ2ECJ  B00005N7OJ\n",
       "4      5.0  A25MDGOMZ2GALN  B00005N7P0"
      ]
     },
     "execution_count": 16,
     "metadata": {},
     "output_type": "execute_result"
    }
   ],
   "source": [
    "review_data.head()"
   ]
  },
  {
   "cell_type": "code",
   "execution_count": 18,
   "metadata": {},
   "outputs": [
    {
     "data": {
      "text/plain": [
       "array([[<AxesSubplot:title={'center':'overall'}>]], dtype=object)"
      ]
     },
     "execution_count": 18,
     "metadata": {},
     "output_type": "execute_result"
    },
    {
     "data": {
      "image/png": "[encoded data removed]",
      "text/plain": [
       "<Figure size 432x288 with 1 Axes>"
      ]
     },
     "metadata": {
      "needs_background": "light"
     },
     "output_type": "display_data"
    }
   ],
   "source": [
    "review_data.hist(column='overall')"
   ]
  },
  {
   "cell_type": "code",
   "execution_count": 17,
   "metadata": {},
   "outputs": [],
   "source": [
    "# Now creating a new dataframe by merging the review dataframe and product dataframe \n",
    "final = review_data.merge(product_data, how='left', left_on='asin', right_on='asin')"
   ]
  },
  {
   "cell_type": "code",
   "execution_count": 18,
   "metadata": {},
   "outputs": [
    {
     "data": {
      "text/html": [
       "<div>\n",
       "<style scoped>\n",
       "    .dataframe tbody tr th:only-of-type {\n",
       "        vertical-align: middle;\n",
       "    }\n",
       "\n",
       "    .dataframe tbody tr th {\n",
       "        vertical-align: top;\n",
       "    }\n",
       "\n",
       "    .dataframe thead th {\n",
       "        text-align: right;\n",
       "    }\n",
       "</style>\n",
       "<table border=\"1\" class=\"dataframe\">\n",
       "  <thead>\n",
       "    <tr style=\"text-align: right;\">\n",
       "      <th></th>\n",
       "      <th>overall</th>\n",
       "      <th>reviewerID</th>\n",
       "      <th>asin</th>\n",
       "      <th>category</th>\n",
       "      <th>title</th>\n",
       "      <th>brand</th>\n",
       "      <th>rank</th>\n",
       "    </tr>\n",
       "  </thead>\n",
       "  <tbody>\n",
       "    <tr>\n",
       "      <th>0</th>\n",
       "      <td>5.0</td>\n",
       "      <td>AH2IFH762VY5U</td>\n",
       "      <td>B00005N7P0</td>\n",
       "      <td>[Magazine Subscriptions, Technology, Computers...</td>\n",
       "      <td>&lt;span class=\"a-size-medium a-color-secondary\"</td>\n",
       "      <td>Future US, Inc.</td>\n",
       "      <td>[]</td>\n",
       "    </tr>\n",
       "    <tr>\n",
       "      <th>1</th>\n",
       "      <td>5.0</td>\n",
       "      <td>AOSFI0JEYU4XM</td>\n",
       "      <td>B00005N7P0</td>\n",
       "      <td>[Magazine Subscriptions, Technology, Computers...</td>\n",
       "      <td>&lt;span class=\"a-size-medium a-color-secondary\"</td>\n",
       "      <td>Future US, Inc.</td>\n",
       "      <td>[]</td>\n",
       "    </tr>\n",
       "    <tr>\n",
       "      <th>2</th>\n",
       "      <td>3.0</td>\n",
       "      <td>A3JPFWKS83R49V</td>\n",
       "      <td>B00005N7OJ</td>\n",
       "      <td>[Magazine Subscriptions, Home &amp; Garden, Antiqu...</td>\n",
       "      <td>&lt;span class=\"a-size-medium a-color-secondary\"</td>\n",
       "      <td>Brant Publications</td>\n",
       "      <td>406 in Magazine Subscriptions (</td>\n",
       "    </tr>\n",
       "    <tr>\n",
       "      <th>3</th>\n",
       "      <td>5.0</td>\n",
       "      <td>A19FKU6JZQ2ECJ</td>\n",
       "      <td>B00005N7OJ</td>\n",
       "      <td>[Magazine Subscriptions, Home &amp; Garden, Antiqu...</td>\n",
       "      <td>&lt;span class=\"a-size-medium a-color-secondary\"</td>\n",
       "      <td>Brant Publications</td>\n",
       "      <td>406 in Magazine Subscriptions (</td>\n",
       "    </tr>\n",
       "    <tr>\n",
       "      <th>4</th>\n",
       "      <td>5.0</td>\n",
       "      <td>A25MDGOMZ2GALN</td>\n",
       "      <td>B00005N7P0</td>\n",
       "      <td>[Magazine Subscriptions, Technology, Computers...</td>\n",
       "      <td>&lt;span class=\"a-size-medium a-color-secondary\"</td>\n",
       "      <td>Future US, Inc.</td>\n",
       "      <td>[]</td>\n",
       "    </tr>\n",
       "  </tbody>\n",
       "</table>\n",
       "</div>"
      ],
      "text/plain": [
       "   overall      reviewerID        asin  \\\n",
       "0      5.0   AH2IFH762VY5U  B00005N7P0   \n",
       "1      5.0   AOSFI0JEYU4XM  B00005N7P0   \n",
       "2      3.0  A3JPFWKS83R49V  B00005N7OJ   \n",
       "3      5.0  A19FKU6JZQ2ECJ  B00005N7OJ   \n",
       "4      5.0  A25MDGOMZ2GALN  B00005N7P0   \n",
       "\n",
       "                                            category  \\\n",
       "0  [Magazine Subscriptions, Technology, Computers...   \n",
       "1  [Magazine Subscriptions, Technology, Computers...   \n",
       "2  [Magazine Subscriptions, Home & Garden, Antiqu...   \n",
       "3  [Magazine Subscriptions, Home & Garden, Antiqu...   \n",
       "4  [Magazine Subscriptions, Technology, Computers...   \n",
       "\n",
       "                                           title               brand  \\\n",
       "0  <span class=\"a-size-medium a-color-secondary\"     Future US, Inc.   \n",
       "1  <span class=\"a-size-medium a-color-secondary\"     Future US, Inc.   \n",
       "2  <span class=\"a-size-medium a-color-secondary\"  Brant Publications   \n",
       "3  <span class=\"a-size-medium a-color-secondary\"  Brant Publications   \n",
       "4  <span class=\"a-size-medium a-color-secondary\"     Future US, Inc.   \n",
       "\n",
       "                              rank  \n",
       "0                               []  \n",
       "1                               []  \n",
       "2  406 in Magazine Subscriptions (  \n",
       "3  406 in Magazine Subscriptions (  \n",
       "4                               []  "
      ]
     },
     "execution_count": 18,
     "metadata": {},
     "output_type": "execute_result"
    }
   ],
   "source": [
    "final.head()"
   ]
  },
  {
   "cell_type": "code",
   "execution_count": 19,
   "metadata": {},
   "outputs": [],
   "source": [
    "final.dropna(axis=0, how='any', inplace=True)"
   ]
  },
  {
   "cell_type": "code",
   "execution_count": 20,
   "metadata": {},
   "outputs": [],
   "source": [
    "# Now converting User IDs and Product IDs from String type to Numeric type and storing them into new columns\n",
    "le = preprocessing.LabelEncoder()\n",
    "final['user']= le.fit_transform(final['reviewerID'])\n",
    "final['product']= le.fit_transform(final['asin'])"
   ]
  },
  {
   "cell_type": "code",
   "execution_count": 21,
   "metadata": {},
   "outputs": [
    {
     "name": "stdout",
     "output_type": "stream",
     "text": [
      "<class 'pandas.core.frame.DataFrame'>\n",
      "Int64Index: 83993 entries, 0 to 88315\n",
      "Data columns (total 9 columns):\n",
      " #   Column      Non-Null Count  Dtype  \n",
      "---  ------      --------------  -----  \n",
      " 0   overall     83993 non-null  float64\n",
      " 1   reviewerID  83993 non-null  object \n",
      " 2   asin        83993 non-null  object \n",
      " 3   category    83993 non-null  object \n",
      " 4   title       83993 non-null  object \n",
      " 5   brand       83993 non-null  object \n",
      " 6   rank        83993 non-null  object \n",
      " 7   user        83993 non-null  int32  \n",
      " 8   product     83993 non-null  int32  \n",
      "dtypes: float64(1), int32(2), object(6)\n",
      "memory usage: 5.8+ MB\n"
     ]
    }
   ],
   "source": [
    "final.info()"
   ]
  },
  {
   "cell_type": "code",
   "execution_count": 22,
   "metadata": {},
   "outputs": [
    {
     "data": {
      "text/html": [
       "<div>\n",
       "<style scoped>\n",
       "    .dataframe tbody tr th:only-of-type {\n",
       "        vertical-align: middle;\n",
       "    }\n",
       "\n",
       "    .dataframe tbody tr th {\n",
       "        vertical-align: top;\n",
       "    }\n",
       "\n",
       "    .dataframe thead th {\n",
       "        text-align: right;\n",
       "    }\n",
       "</style>\n",
       "<table border=\"1\" class=\"dataframe\">\n",
       "  <thead>\n",
       "    <tr style=\"text-align: right;\">\n",
       "      <th></th>\n",
       "      <th>overall</th>\n",
       "      <th>reviewerID</th>\n",
       "      <th>asin</th>\n",
       "      <th>category</th>\n",
       "      <th>title</th>\n",
       "      <th>brand</th>\n",
       "      <th>rank</th>\n",
       "      <th>user</th>\n",
       "      <th>product</th>\n",
       "    </tr>\n",
       "  </thead>\n",
       "  <tbody>\n",
       "    <tr>\n",
       "      <th>0</th>\n",
       "      <td>5.0</td>\n",
       "      <td>AH2IFH762VY5U</td>\n",
       "      <td>B00005N7P0</td>\n",
       "      <td>[Magazine Subscriptions, Technology, Computers...</td>\n",
       "      <td>&lt;span class=\"a-size-medium a-color-secondary\"</td>\n",
       "      <td>Future US, Inc.</td>\n",
       "      <td>[]</td>\n",
       "      <td>58923</td>\n",
       "      <td>13</td>\n",
       "    </tr>\n",
       "    <tr>\n",
       "      <th>1</th>\n",
       "      <td>5.0</td>\n",
       "      <td>AOSFI0JEYU4XM</td>\n",
       "      <td>B00005N7P0</td>\n",
       "      <td>[Magazine Subscriptions, Technology, Computers...</td>\n",
       "      <td>&lt;span class=\"a-size-medium a-color-secondary\"</td>\n",
       "      <td>Future US, Inc.</td>\n",
       "      <td>[]</td>\n",
       "      <td>62889</td>\n",
       "      <td>13</td>\n",
       "    </tr>\n",
       "    <tr>\n",
       "      <th>2</th>\n",
       "      <td>3.0</td>\n",
       "      <td>A3JPFWKS83R49V</td>\n",
       "      <td>B00005N7OJ</td>\n",
       "      <td>[Magazine Subscriptions, Home &amp; Garden, Antiqu...</td>\n",
       "      <td>&lt;span class=\"a-size-medium a-color-secondary\"</td>\n",
       "      <td>Brant Publications</td>\n",
       "      <td>406 in Magazine Subscriptions (</td>\n",
       "      <td>46120</td>\n",
       "      <td>9</td>\n",
       "    </tr>\n",
       "    <tr>\n",
       "      <th>3</th>\n",
       "      <td>5.0</td>\n",
       "      <td>A19FKU6JZQ2ECJ</td>\n",
       "      <td>B00005N7OJ</td>\n",
       "      <td>[Magazine Subscriptions, Home &amp; Garden, Antiqu...</td>\n",
       "      <td>&lt;span class=\"a-size-medium a-color-secondary\"</td>\n",
       "      <td>Brant Publications</td>\n",
       "      <td>406 in Magazine Subscriptions (</td>\n",
       "      <td>4781</td>\n",
       "      <td>9</td>\n",
       "    </tr>\n",
       "    <tr>\n",
       "      <th>4</th>\n",
       "      <td>5.0</td>\n",
       "      <td>A25MDGOMZ2GALN</td>\n",
       "      <td>B00005N7P0</td>\n",
       "      <td>[Magazine Subscriptions, Technology, Computers...</td>\n",
       "      <td>&lt;span class=\"a-size-medium a-color-secondary\"</td>\n",
       "      <td>Future US, Inc.</td>\n",
       "      <td>[]</td>\n",
       "      <td>21011</td>\n",
       "      <td>13</td>\n",
       "    </tr>\n",
       "  </tbody>\n",
       "</table>\n",
       "</div>"
      ],
      "text/plain": [
       "   overall      reviewerID        asin  \\\n",
       "0      5.0   AH2IFH762VY5U  B00005N7P0   \n",
       "1      5.0   AOSFI0JEYU4XM  B00005N7P0   \n",
       "2      3.0  A3JPFWKS83R49V  B00005N7OJ   \n",
       "3      5.0  A19FKU6JZQ2ECJ  B00005N7OJ   \n",
       "4      5.0  A25MDGOMZ2GALN  B00005N7P0   \n",
       "\n",
       "                                            category  \\\n",
       "0  [Magazine Subscriptions, Technology, Computers...   \n",
       "1  [Magazine Subscriptions, Technology, Computers...   \n",
       "2  [Magazine Subscriptions, Home & Garden, Antiqu...   \n",
       "3  [Magazine Subscriptions, Home & Garden, Antiqu...   \n",
       "4  [Magazine Subscriptions, Technology, Computers...   \n",
       "\n",
       "                                           title               brand  \\\n",
       "0  <span class=\"a-size-medium a-color-secondary\"     Future US, Inc.   \n",
       "1  <span class=\"a-size-medium a-color-secondary\"     Future US, Inc.   \n",
       "2  <span class=\"a-size-medium a-color-secondary\"  Brant Publications   \n",
       "3  <span class=\"a-size-medium a-color-secondary\"  Brant Publications   \n",
       "4  <span class=\"a-size-medium a-color-secondary\"     Future US, Inc.   \n",
       "\n",
       "                              rank   user  product  \n",
       "0                               []  58923       13  \n",
       "1                               []  62889       13  \n",
       "2  406 in Magazine Subscriptions (  46120        9  \n",
       "3  406 in Magazine Subscriptions (   4781        9  \n",
       "4                               []  21011       13  "
      ]
     },
     "execution_count": 22,
     "metadata": {},
     "output_type": "execute_result"
    }
   ],
   "source": [
    "final.head()"
   ]
  },
  {
   "cell_type": "code",
   "execution_count": 23,
   "metadata": {},
   "outputs": [],
   "source": [
    "# Fitting the User IDs and Product IDs into LightFM Library in-built Dataset function\n",
    "dataset = Dataset(user_identity_features=False)\n",
    "dataset.fit(set(final['user']), set(final['product']))"
   ]
  },
  {
   "cell_type": "code",
   "execution_count": 24,
   "metadata": {},
   "outputs": [
    {
     "data": {
      "text/plain": [
       "(68482, 2320)"
      ]
     },
     "execution_count": 24,
     "metadata": {},
     "output_type": "execute_result"
    }
   ],
   "source": [
    "num_users, num_items = dataset.interactions_shape()\n",
    "num_users, num_items"
   ]
  },
  {
   "cell_type": "code",
   "execution_count": 25,
   "metadata": {},
   "outputs": [],
   "source": [
    "# Generating the user-product interactions and interaction-weights\n",
    "(interactions, weights) = dataset.build_interactions(((final['user'][i], final['product'][i]) for i in final.index))"
   ]
  },
  {
   "cell_type": "code",
   "execution_count": 26,
   "metadata": {},
   "outputs": [
    {
     "name": "stderr",
     "output_type": "stream",
     "text": [
      "Epoch: 100%|█████████████████████████████████████████████████████████████████████████████| 5/5 [00:18<00:00,  3.77s/it]\n"
     ]
    },
    {
     "data": {
      "text/plain": [
       "<lightfm.lightfm.LightFM at 0x28fad6b1af0>"
      ]
     },
     "execution_count": 26,
     "metadata": {},
     "output_type": "execute_result"
    }
   ],
   "source": [
    "# Fitting the dataset into model\n",
    "model = LightFM(\n",
    "    no_components=150,\n",
    "    learning_rate=0.05,\n",
    "    loss='warp',\n",
    "    random_state=13)\n",
    "\n",
    "model.fit(\n",
    "    interactions,\n",
    "    sample_weight=weights,\n",
    "    epochs=5, num_threads=4, verbose=True)"
   ]
  },
  {
   "cell_type": "code",
   "execution_count": 27,
   "metadata": {},
   "outputs": [
    {
     "data": {
      "text/plain": [
       "0.99121463"
      ]
     },
     "execution_count": 27,
     "metadata": {},
     "output_type": "execute_result"
    }
   ],
   "source": [
    "# Checking the auc score\n",
    "auc_score(model, interactions).mean()"
   ]
  },
  {
   "cell_type": "code",
   "execution_count": 28,
   "metadata": {},
   "outputs": [],
   "source": [
    "# AUC score is 0.99, which is excellent"
   ]
  },
  {
   "cell_type": "code",
   "execution_count": 29,
   "metadata": {},
   "outputs": [],
   "source": [
    "# Creating a fuction to generate recommendation\n",
    "def recommend_softwares(userid, num_reco=5):\n",
    "    reviewed_product_id = final.loc[final['reviewerID'] == userid]['product'].values.tolist()\n",
    "    prediction = final.loc[~final['product'].isin(reviewed_product_id)]\n",
    "    target = prediction['product'].values.tolist()\n",
    "    target_id = int(final['user'][final.loc[final['reviewerID'] == userid].index[0]])\n",
    "    scores = model.predict(target_id, target)\n",
    "    prediction['scores'] = scores\n",
    "    prediction = prediction.sort_values(by='scores', ascending=False)\n",
    "    prediction.drop_duplicates(subset=['product'], inplace=True)\n",
    "    print(\"Here are the top {} recommendations for user {}\".format(num_reco, userid))\n",
    "    return prediction[['title', 'brand', 'category', 'asin']][:num_reco]"
   ]
  },
  {
   "cell_type": "code",
   "execution_count": 30,
   "metadata": {},
   "outputs": [],
   "source": [
    "# Selecting a random user to generate recommendation for that user\n",
    "p = final['reviewerID'].unique()\n",
    "a = random.choice(p)"
   ]
  },
  {
   "cell_type": "code",
   "execution_count": 31,
   "metadata": {},
   "outputs": [
    {
     "name": "stdout",
     "output_type": "stream",
     "text": [
      "Here are the top 5 recommendations for user ATJE4594UFWXA\n"
     ]
    },
    {
     "data": {
      "text/html": [
       "<div>\n",
       "<style scoped>\n",
       "    .dataframe tbody tr th:only-of-type {\n",
       "        vertical-align: middle;\n",
       "    }\n",
       "\n",
       "    .dataframe tbody tr th {\n",
       "        vertical-align: top;\n",
       "    }\n",
       "\n",
       "    .dataframe thead th {\n",
       "        text-align: right;\n",
       "    }\n",
       "</style>\n",
       "<table border=\"1\" class=\"dataframe\">\n",
       "  <thead>\n",
       "    <tr style=\"text-align: right;\">\n",
       "      <th></th>\n",
       "      <th>title</th>\n",
       "      <th>brand</th>\n",
       "      <th>category</th>\n",
       "      <th>asin</th>\n",
       "    </tr>\n",
       "  </thead>\n",
       "  <tbody>\n",
       "    <tr>\n",
       "      <th>35847</th>\n",
       "      <td>&lt;span class=\"a-size-medium a-color-secondary\"</td>\n",
       "      <td>Trusted Media Brands, Inc</td>\n",
       "      <td>[Magazine Subscriptions, Literary, Sci-Fi &amp; My...</td>\n",
       "      <td>B00007B10Y</td>\n",
       "    </tr>\n",
       "    <tr>\n",
       "      <th>73697</th>\n",
       "      <td>&lt;span class=\"a-size-medium a-color-secondary\"</td>\n",
       "      <td>Conde Nast Publications</td>\n",
       "      <td>[Magazine Subscriptions, Science, History &amp;amp...</td>\n",
       "      <td>B00005N7TL</td>\n",
       "    </tr>\n",
       "    <tr>\n",
       "      <th>21802</th>\n",
       "      <td>&lt;span class=\"a-size-medium a-color-secondary\"</td>\n",
       "      <td>National Geographic Partners LLC</td>\n",
       "      <td>[Magazine Subscriptions, Professional &amp; Educat...</td>\n",
       "      <td>B00005NIOH</td>\n",
       "    </tr>\n",
       "    <tr>\n",
       "      <th>53945</th>\n",
       "      <td>&lt;span class=\"a-size-medium a-color-secondary\"</td>\n",
       "      <td>TV Guide</td>\n",
       "      <td>[Magazine Subscriptions, Entertainment &amp;amp; P...</td>\n",
       "      <td>B000IOEJ8W</td>\n",
       "    </tr>\n",
       "    <tr>\n",
       "      <th>2495</th>\n",
       "      <td>&lt;span class=\"a-size-medium a-color-secondary\"</td>\n",
       "      <td>Trusted Media Brands, Inc</td>\n",
       "      <td>[Magazine Subscriptions, Home &amp; Garden, How-to...</td>\n",
       "      <td>B00005N7Q1</td>\n",
       "    </tr>\n",
       "  </tbody>\n",
       "</table>\n",
       "</div>"
      ],
      "text/plain": [
       "                                               title  \\\n",
       "35847  <span class=\"a-size-medium a-color-secondary\"   \n",
       "73697  <span class=\"a-size-medium a-color-secondary\"   \n",
       "21802  <span class=\"a-size-medium a-color-secondary\"   \n",
       "53945  <span class=\"a-size-medium a-color-secondary\"   \n",
       "2495   <span class=\"a-size-medium a-color-secondary\"   \n",
       "\n",
       "                                  brand  \\\n",
       "35847         Trusted Media Brands, Inc   \n",
       "73697           Conde Nast Publications   \n",
       "21802  National Geographic Partners LLC   \n",
       "53945                          TV Guide   \n",
       "2495          Trusted Media Brands, Inc   \n",
       "\n",
       "                                                category        asin  \n",
       "35847  [Magazine Subscriptions, Literary, Sci-Fi & My...  B00007B10Y  \n",
       "73697  [Magazine Subscriptions, Science, History &amp...  B00005N7TL  \n",
       "21802  [Magazine Subscriptions, Professional & Educat...  B00005NIOH  \n",
       "53945  [Magazine Subscriptions, Entertainment &amp; P...  B000IOEJ8W  \n",
       "2495   [Magazine Subscriptions, Home & Garden, How-to...  B00005N7Q1  "
      ]
     },
     "execution_count": 31,
     "metadata": {},
     "output_type": "execute_result"
    }
   ],
   "source": [
    "recommend_softwares(a)"
   ]
  },
  {
   "cell_type": "code",
   "execution_count": 32,
   "metadata": {},
   "outputs": [
    {
     "name": "stdout",
     "output_type": "stream",
     "text": [
      "Total time taken 2.0 minutes\n"
     ]
    }
   ],
   "source": [
    "# Marking the end time\n",
    "end = time.time()\n",
    "# Calculating the executing time\n",
    "print(\"Total time taken {} minutes\".format((end-begin)//60))"
   ]
  }
 ],
 "metadata": {
  "kernelspec": {
   "display_name": "Python 3",
   "language": "python",
   "name": "python3"
  },
  "language_info": {
   "codemirror_mode": {
    "name": "ipython",
    "version": 3
   },
   "file_extension": ".py",
   "mimetype": "text/x-python",
   "name": "python",
   "nbconvert_exporter": "python",
   "pygments_lexer": "ipython3",
   "version": "3.8.8"
  }
 },
 "nbformat": 4,
 "nbformat_minor": 4
}
