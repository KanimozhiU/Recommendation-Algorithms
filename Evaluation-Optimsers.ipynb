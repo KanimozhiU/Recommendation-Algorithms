{
 "cells": [
  {
   "cell_type": "code",
   "execution_count": 1,
   "metadata": {
    "colab": {
     "base_uri": "https://localhost:8080/",
     "height": 208
    },
    "colab_type": "code",
    "id": "4fcZ7nW3C3x7",
    "outputId": "213b88c3-bec3-4d17-f5d6-8a8cc7215214"
   },
   "outputs": [
    {
     "name": "stdout",
     "output_type": "stream",
     "text": [
      "--2020-07-07 05:37:00--  http://snap.stanford.edu/data/amazon/productGraph/categoryFiles/reviews_Amazon_Instant_Video_5.json.gz\n",
      "Resolving snap.stanford.edu (snap.stanford.edu)... 171.64.75.80\n",
      "Connecting to snap.stanford.edu (snap.stanford.edu)|171.64.75.80|:80... connected.\n",
      "HTTP request sent, awaiting response... 200 OK\n",
      "Length: 9517526 (9.1M) [application/x-gzip]\n",
      "Saving to: ‘reviews_Amazon_Instant_Video_5.json.gz’\n",
      "\n",
      "reviews_Amazon_Inst 100%[===================>]   9.08M  2.22MB/s    in 4.1s    \n",
      "\n",
      "2020-07-07 05:37:05 (2.22 MB/s) - ‘reviews_Amazon_Instant_Video_5.json.gz’ saved [9517526/9517526]\n",
      "\n"
     ]
    }
   ],
   "source": [
    "import pandas as pd\n",
    "import numpy as np\n",
    "from zipfile import ZipFile\n",
    "import tensorflow as tf\n",
    "from tensorflow import keras\n",
    "from tensorflow.keras import layers\n",
    "from pathlib import Path\n",
    "import matplotlib.pyplot as plt\n",
    "import os\n",
    "import json\n",
    "import gzip\n",
    "from urllib.request import urlopen\n",
    "\n",
    "!wget http://snap.stanford.edu/data/amazon/productGraph/categoryFiles/reviews_Amazon_Instant_Video_5.json.gz"
   ]
  },
  {
   "cell_type": "code",
   "execution_count": 2,
   "metadata": {
    "colab": {
     "base_uri": "https://localhost:8080/",
     "height": 72
    },
    "colab_type": "code",
    "id": "IxfRkWMeDRD0",
    "outputId": "2cd07682-0784-4b5c-b970-91b008ad0509"
   },
   "outputs": [
    {
     "name": "stdout",
     "output_type": "stream",
     "text": [
      "37126\n",
      "{'reviewerID': 'A11N155CW1UV02', 'asin': 'B000H00VBQ', 'reviewerName': 'AdrianaM', 'helpful': [0, 0], 'reviewText': \"I had big expectations because I love English TV, in particular Investigative and detective stuff but this guy is really boring. It didn't appeal to me at all.\", 'overall': 2.0, 'summary': 'A little bit boring for me', 'unixReviewTime': 1399075200, 'reviewTime': '05 3, 2014'}\n"
     ]
    }
   ],
   "source": [
    "data = []\n",
    "with gzip.open('reviews_Amazon_Instant_Video_5.json.gz') as f:\n",
    "    for l in f:\n",
    "        data.append(json.loads(l.strip()))\n",
    "    \n",
    "# total length of list, this number equals total number of products\n",
    "print(len(data))\n",
    "\n",
    "# first row of the list\n",
    "print(data[0])"
   ]
  },
  {
   "cell_type": "code",
   "execution_count": 3,
   "metadata": {
    "colab": {
     "base_uri": "https://localhost:8080/",
     "height": 34
    },
    "colab_type": "code",
    "id": "trHvksMeDVVg",
    "outputId": "323b77c4-d031-4789-ee98-f098bc56f1cc"
   },
   "outputs": [
    {
     "name": "stdout",
     "output_type": "stream",
     "text": [
      "37126\n"
     ]
    }
   ],
   "source": [
    "df = pd.DataFrame.from_dict(data)\n",
    "\n",
    "print(len(df))\n"
   ]
  },
  {
   "cell_type": "code",
   "execution_count": 4,
   "metadata": {
    "colab": {},
    "colab_type": "code",
    "id": "d6eUsP1VKPHB"
   },
   "outputs": [],
   "source": [
    "import pandas as pd\n",
    "import numpy as np\n",
    "from zipfile import ZipFile\n",
    "import tensorflow as tf\n",
    "from tensorflow import keras\n",
    "from tensorflow.keras import layers\n",
    "from pathlib import Path\n",
    "import matplotlib.pyplot as plt"
   ]
  },
  {
   "cell_type": "code",
   "execution_count": 5,
   "metadata": {
    "colab": {
     "base_uri": "https://localhost:8080/",
     "height": 345
    },
    "colab_type": "code",
    "id": "0joOoYPYKV7E",
    "outputId": "8ed30b5a-554a-479c-f73f-cc275b893447"
   },
   "outputs": [
    {
     "data": {
      "text/html": [
       "<div>\n",
       "<style scoped>\n",
       "    .dataframe tbody tr th:only-of-type {\n",
       "        vertical-align: middle;\n",
       "    }\n",
       "\n",
       "    .dataframe tbody tr th {\n",
       "        vertical-align: top;\n",
       "    }\n",
       "\n",
       "    .dataframe thead th {\n",
       "        text-align: right;\n",
       "    }\n",
       "</style>\n",
       "<table border=\"1\" class=\"dataframe\">\n",
       "  <thead>\n",
       "    <tr style=\"text-align: right;\">\n",
       "      <th></th>\n",
       "      <th>reviewerID</th>\n",
       "      <th>asin</th>\n",
       "      <th>reviewerName</th>\n",
       "      <th>helpful</th>\n",
       "      <th>reviewText</th>\n",
       "      <th>overall</th>\n",
       "      <th>summary</th>\n",
       "      <th>unixReviewTime</th>\n",
       "      <th>reviewTime</th>\n",
       "    </tr>\n",
       "  </thead>\n",
       "  <tbody>\n",
       "    <tr>\n",
       "      <th>37121</th>\n",
       "      <td>A1ELO9LMSE1CQ7</td>\n",
       "      <td>B00LPWPMCS</td>\n",
       "      <td>Mpr90</td>\n",
       "      <td>[0, 0]</td>\n",
       "      <td>I love the books! The show is amazing so far. ...</td>\n",
       "      <td>5.0</td>\n",
       "      <td>Great Series!</td>\n",
       "      <td>1405728000</td>\n",
       "      <td>07 19, 2014</td>\n",
       "    </tr>\n",
       "    <tr>\n",
       "      <th>37122</th>\n",
       "      <td>AGOEKVIJV9UX6</td>\n",
       "      <td>B00LPWPMCS</td>\n",
       "      <td>Mr. Markster</td>\n",
       "      <td>[13, 15]</td>\n",
       "      <td>\"The Strain\" has potential to be an excellent ...</td>\n",
       "      <td>5.0</td>\n",
       "      <td>Forget the Vampire Diaries -- This is a REAL V...</td>\n",
       "      <td>1405296000</td>\n",
       "      <td>07 14, 2014</td>\n",
       "    </tr>\n",
       "    <tr>\n",
       "      <th>37123</th>\n",
       "      <td>A3I291BE0RNZCU</td>\n",
       "      <td>B00LPWPMCS</td>\n",
       "      <td>Rating My Best Pick</td>\n",
       "      <td>[0, 2]</td>\n",
       "      <td>I'm not real sure on how, I should rate this s...</td>\n",
       "      <td>3.0</td>\n",
       "      <td>It's only the first episode so I'm not real su...</td>\n",
       "      <td>1405296000</td>\n",
       "      <td>07 14, 2014</td>\n",
       "    </tr>\n",
       "    <tr>\n",
       "      <th>37124</th>\n",
       "      <td>A1MNITZRYU71IO</td>\n",
       "      <td>B00LPWPMCS</td>\n",
       "      <td>Sherry \"trying in ohio\"</td>\n",
       "      <td>[1, 1]</td>\n",
       "      <td>episode one so far makes me want to watch more...</td>\n",
       "      <td>4.0</td>\n",
       "      <td>and that is good. The accents are a bit much h...</td>\n",
       "      <td>1405296000</td>\n",
       "      <td>07 14, 2014</td>\n",
       "    </tr>\n",
       "    <tr>\n",
       "      <th>37125</th>\n",
       "      <td>A1XMHK9HN5MW2H</td>\n",
       "      <td>B00LPWPMCS</td>\n",
       "      <td>Victoria J. Dennison</td>\n",
       "      <td>[3, 4]</td>\n",
       "      <td>I watched the pilot.  I guess I've just seen t...</td>\n",
       "      <td>3.0</td>\n",
       "      <td>I may have paid towatch the pilot</td>\n",
       "      <td>1405468800</td>\n",
       "      <td>07 16, 2014</td>\n",
       "    </tr>\n",
       "  </tbody>\n",
       "</table>\n",
       "</div>"
      ],
      "text/plain": [
       "           reviewerID        asin  ... unixReviewTime   reviewTime\n",
       "37121  A1ELO9LMSE1CQ7  B00LPWPMCS  ...     1405728000  07 19, 2014\n",
       "37122   AGOEKVIJV9UX6  B00LPWPMCS  ...     1405296000  07 14, 2014\n",
       "37123  A3I291BE0RNZCU  B00LPWPMCS  ...     1405296000  07 14, 2014\n",
       "37124  A1MNITZRYU71IO  B00LPWPMCS  ...     1405296000  07 14, 2014\n",
       "37125  A1XMHK9HN5MW2H  B00LPWPMCS  ...     1405468800  07 16, 2014\n",
       "\n",
       "[5 rows x 9 columns]"
      ]
     },
     "execution_count": 5,
     "metadata": {
      "tags": []
     },
     "output_type": "execute_result"
    }
   ],
   "source": [
    "df.tail()"
   ]
  },
  {
   "cell_type": "code",
   "execution_count": 23,
   "metadata": {
    "colab": {
     "base_uri": "https://localhost:8080/",
     "height": 484
    },
    "colab_type": "code",
    "id": "LXWeKttPzbP8",
    "outputId": "102d2c96-fafb-435c-a07d-3db109d1446f"
   },
   "outputs": [
    {
     "data": {
      "text/html": [
       "<div>\n",
       "<style scoped>\n",
       "    .dataframe tbody tr th:only-of-type {\n",
       "        vertical-align: middle;\n",
       "    }\n",
       "\n",
       "    .dataframe tbody tr th {\n",
       "        vertical-align: top;\n",
       "    }\n",
       "\n",
       "    .dataframe thead th {\n",
       "        text-align: right;\n",
       "    }\n",
       "</style>\n",
       "<table border=\"1\" class=\"dataframe\">\n",
       "  <thead>\n",
       "    <tr style=\"text-align: right;\">\n",
       "      <th></th>\n",
       "      <th>reviewerID</th>\n",
       "      <th>asin</th>\n",
       "      <th>reviewerName</th>\n",
       "      <th>helpful</th>\n",
       "      <th>reviewText</th>\n",
       "      <th>overall</th>\n",
       "      <th>summary</th>\n",
       "      <th>unixReviewTime</th>\n",
       "      <th>reviewTime</th>\n",
       "      <th>user</th>\n",
       "      <th>movie</th>\n",
       "      <th>rating</th>\n",
       "    </tr>\n",
       "  </thead>\n",
       "  <tbody>\n",
       "    <tr>\n",
       "      <th>16850</th>\n",
       "      <td>A300SS3LT4L0S3</td>\n",
       "      <td>B009AP2G26</td>\n",
       "      <td>AllMyShelties \"AllMyShelties\"</td>\n",
       "      <td>[0, 0]</td>\n",
       "      <td>I wasn't sure that I would like this series, b...</td>\n",
       "      <td>5.0</td>\n",
       "      <td>Wonderful show!!</td>\n",
       "      <td>1389312000</td>\n",
       "      <td>01 10, 2014</td>\n",
       "      <td>4385</td>\n",
       "      <td>866</td>\n",
       "      <td>5.0</td>\n",
       "    </tr>\n",
       "    <tr>\n",
       "      <th>6265</th>\n",
       "      <td>A37KQ2QVXLNYP3</td>\n",
       "      <td>B003V61JUK</td>\n",
       "      <td>Richard C. Anderson</td>\n",
       "      <td>[0, 0]</td>\n",
       "      <td>Started watching this and got hooked on the ch...</td>\n",
       "      <td>5.0</td>\n",
       "      <td>Entertaining cop show</td>\n",
       "      <td>1402876800</td>\n",
       "      <td>06 16, 2014</td>\n",
       "      <td>1551</td>\n",
       "      <td>341</td>\n",
       "      <td>5.0</td>\n",
       "    </tr>\n",
       "    <tr>\n",
       "      <th>11284</th>\n",
       "      <td>A38AW6NENLK69V</td>\n",
       "      <td>B0068ZCCA2</td>\n",
       "      <td>Paula S. Smith \"ChefPaula1965\"</td>\n",
       "      <td>[0, 0]</td>\n",
       "      <td>This is a fun show to watch with young teen ag...</td>\n",
       "      <td>4.0</td>\n",
       "      <td>My son loves this show</td>\n",
       "      <td>1367107200</td>\n",
       "      <td>04 28, 2013</td>\n",
       "      <td>1909</td>\n",
       "      <td>604</td>\n",
       "      <td>4.0</td>\n",
       "    </tr>\n",
       "    <tr>\n",
       "      <th>860</th>\n",
       "      <td>A25KKXUQQ0OLWB</td>\n",
       "      <td>B000OGTRC2</td>\n",
       "      <td>Lynn Ellingwood \"The ESOL Teacher\"</td>\n",
       "      <td>[0, 0]</td>\n",
       "      <td>When I first watched the pilot, I saw too many...</td>\n",
       "      <td>5.0</td>\n",
       "      <td>Grows On You and Then Becomes a Classic</td>\n",
       "      <td>1344729600</td>\n",
       "      <td>08 12, 2012</td>\n",
       "      <td>285</td>\n",
       "      <td>45</td>\n",
       "      <td>5.0</td>\n",
       "    </tr>\n",
       "    <tr>\n",
       "      <th>15795</th>\n",
       "      <td>A2VJLXWCSF2CG5</td>\n",
       "      <td>B008QTTGGG</td>\n",
       "      <td>Steven Javorniczky</td>\n",
       "      <td>[0, 0]</td>\n",
       "      <td>This show just gets better and better, the sto...</td>\n",
       "      <td>5.0</td>\n",
       "      <td>Grimm's fairytales</td>\n",
       "      <td>1384819200</td>\n",
       "      <td>11 19, 2013</td>\n",
       "      <td>3715</td>\n",
       "      <td>822</td>\n",
       "      <td>5.0</td>\n",
       "    </tr>\n",
       "  </tbody>\n",
       "</table>\n",
       "</div>"
      ],
      "text/plain": [
       "           reviewerID        asin  ... movie rating\n",
       "16850  A300SS3LT4L0S3  B009AP2G26  ...   866    5.0\n",
       "6265   A37KQ2QVXLNYP3  B003V61JUK  ...   341    5.0\n",
       "11284  A38AW6NENLK69V  B0068ZCCA2  ...   604    4.0\n",
       "860    A25KKXUQQ0OLWB  B000OGTRC2  ...    45    5.0\n",
       "15795  A2VJLXWCSF2CG5  B008QTTGGG  ...   822    5.0\n",
       "\n",
       "[5 rows x 12 columns]"
      ]
     },
     "execution_count": 23,
     "metadata": {
      "tags": []
     },
     "output_type": "execute_result"
    }
   ],
   "source": [
    "df.apply(np.random.shuffle, axis=0)\n",
    "\n",
    "df.tail()"
   ]
  },
  {
   "cell_type": "code",
   "execution_count": 24,
   "metadata": {
    "colab": {
     "base_uri": "https://localhost:8080/",
     "height": 34
    },
    "colab_type": "code",
    "id": "59AGhrUDKkbU",
    "outputId": "09064427-41bc-4cba-b7fd-10926ac52938"
   },
   "outputs": [
    {
     "name": "stdout",
     "output_type": "stream",
     "text": [
      "Number of users: 5130, Number of Movies: 1685, Min rating: 1.0, Max rating: 5.0\n"
     ]
    }
   ],
   "source": [
    "user_ids = df[\"reviewerID\"].unique().tolist()\n",
    "user2user_encoded = {x: i for i, x in enumerate(user_ids)}\n",
    "userencoded2user = {i: x for i, x in enumerate(user_ids)}\n",
    "movie_ids = df[\"asin\"].unique().tolist()\n",
    "movie2movie_encoded = {x: i for i, x in enumerate(movie_ids)}\n",
    "movie_encoded2movie = {i: x for i, x in enumerate(movie_ids)}\n",
    "df[\"user\"] = df[\"reviewerID\"].map(user2user_encoded)\n",
    "df[\"movie\"] = df[\"asin\"].map(movie2movie_encoded)\n",
    "\n",
    "num_users = len(user2user_encoded)\n",
    "num_movies = len(movie_encoded2movie)\n",
    "df[\"rating\"] = df[\"overall\"].values.astype(np.float32)\n",
    "# min and max ratings will be used to normalize the ratings later\n",
    "min_rating = min(df[\"rating\"])\n",
    "max_rating = max(df[\"rating\"])\n",
    "\n",
    "print(\n",
    "    \"Number of users: {}, Number of Movies: {}, Min rating: {}, Max rating: {}\".format(\n",
    "        num_users, num_movies, min_rating, max_rating\n",
    "    )\n",
    ")"
   ]
  },
  {
   "cell_type": "code",
   "execution_count": 25,
   "metadata": {
    "colab": {},
    "colab_type": "code",
    "id": "F_rfXrBxKxDO"
   },
   "outputs": [],
   "source": [
    "df = df.sample(frac=1, random_state=42)\n",
    "x = df[[\"user\", \"movie\"]].values\n",
    "# Normalize the targets between 0 and 1. Makes it easy to train.\n",
    "y = df[\"rating\"].apply(lambda x: (x - min_rating) / (max_rating - min_rating)).values\n",
    "# Assuming training on 90% of the data and validating on 10%.\n",
    "train_indices = int(0.9 * df.shape[0])\n",
    "x_train, x_val, y_train, y_val = (\n",
    "    x[:train_indices],\n",
    "    x[train_indices:],\n",
    "    y[:train_indices],\n",
    "    y[train_indices:],\n",
    ")\n"
   ]
  },
  {
   "cell_type": "code",
   "execution_count": 26,
   "metadata": {
    "colab": {},
    "colab_type": "code",
    "id": "3z5N-COLK0Bv"
   },
   "outputs": [],
   "source": [
    "EMBEDDING_SIZE = 50\n",
    "\n",
    "\n",
    "class RecommenderNet(keras.Model):\n",
    "    def __init__(self, num_users, num_movies, embedding_size, **kwargs):\n",
    "        super(RecommenderNet, self).__init__(**kwargs)\n",
    "        self.num_users = num_users\n",
    "        self.num_movies = num_movies\n",
    "        self.embedding_size = embedding_size\n",
    "        self.user_embedding = layers.Embedding(\n",
    "            num_users,\n",
    "            embedding_size,\n",
    "            embeddings_initializer=\"he_normal\",\n",
    "            embeddings_regularizer=keras.regularizers.l2(1e-6),\n",
    "        )\n",
    "        self.user_bias = layers.Embedding(num_users, 1)\n",
    "        self.movie_embedding = layers.Embedding(\n",
    "            num_movies,\n",
    "            embedding_size,\n",
    "            embeddings_initializer=\"he_normal\",\n",
    "            embeddings_regularizer=keras.regularizers.l2(1e-6),\n",
    "        )\n",
    "        self.movie_bias = layers.Embedding(num_movies, 1)\n",
    "\n",
    "    def call(self, inputs):\n",
    "        user_vector = self.user_embedding(inputs[:, 0])\n",
    "        user_bias = self.user_bias(inputs[:, 0])\n",
    "        movie_vector = self.movie_embedding(inputs[:, 1])\n",
    "        movie_bias = self.movie_bias(inputs[:, 1])\n",
    "        dot_user_movie = tf.tensordot(user_vector, movie_vector, 2)\n",
    "        # Add all the components (including bias)\n",
    "        x = dot_user_movie + user_bias + movie_bias\n",
    "        # The sigmoid activation forces the rating to between 0 and 1\n",
    "        return tf.nn.sigmoid(x)\n",
    "\n",
    "\n",
    "model = RecommenderNet(num_users, num_movies, EMBEDDING_SIZE)\n",
    "model.compile(\n",
    "    loss=tf.keras.losses.BinaryCrossentropy(), optimizer=keras.optimizers.Adam(lr=0.001)\n",
    ")\n"
   ]
  },
  {
   "cell_type": "code",
   "execution_count": 30,
   "metadata": {
    "colab": {
     "base_uri": "https://localhost:8080/",
     "height": 191
    },
    "colab_type": "code",
    "id": "GbQYDJmBK30_",
    "outputId": "b85f6cf1-ebfb-4c90-9183-7260206a1f11"
   },
   "outputs": [
    {
     "name": "stdout",
     "output_type": "stream",
     "text": [
      "Epoch 1/5\n",
      "523/523 [==============================] - 2s 5ms/step - loss: 0.6684 - val_loss: 0.6271\n",
      "Epoch 2/5\n",
      "523/523 [==============================] - 2s 4ms/step - loss: 0.5172 - val_loss: 0.4988\n",
      "Epoch 3/5\n",
      "523/523 [==============================] - 2s 4ms/step - loss: 0.4903 - val_loss: 0.4947\n",
      "Epoch 4/5\n",
      "523/523 [==============================] - 2s 4ms/step - loss: 0.4847 - val_loss: 0.4899\n",
      "Epoch 5/5\n",
      "523/523 [==============================] - 2s 4ms/step - loss: 0.4797 - val_loss: 0.4814\n"
     ]
    }
   ],
   "source": [
    "history = model.fit(\n",
    "    x=x_train,\n",
    "    y=y_train,\n",
    "    batch_size=64,\n",
    "    epochs=5,\n",
    "    verbose=1,\n",
    "    validation_data=(x_val, y_val),\n",
    ")\n"
   ]
  },
  {
   "cell_type": "code",
   "execution_count": 28,
   "metadata": {
    "colab": {
     "base_uri": "https://localhost:8080/",
     "height": 295
    },
    "colab_type": "code",
    "id": "6lO11wy6K86j",
    "outputId": "c0848bde-425b-4b21-f3c4-fbb683173e24"
   },
   "outputs": [
    {
     "data": {
      "image/png": "[encoded data removed]",
      "text/plain": [
       "<Figure size 432x288 with 1 Axes>"
      ]
     },
     "metadata": {
      "needs_background": "light",
      "tags": []
     },
     "output_type": "display_data"
    }
   ],
   "source": [
    "plt.plot(history.history[\"loss\"])\n",
    "plt.plot(history.history[\"val_loss\"])\n",
    "plt.title(\"model loss\")\n",
    "plt.ylabel(\"loss\")\n",
    "plt.xlabel(\"epoch\")\n",
    "plt.legend([\"train\", \"test\"], loc=\"upper left\")\n",
    "plt.show()"
   ]
  },
  {
   "cell_type": "code",
   "execution_count": 29,
   "metadata": {
    "colab": {},
    "colab_type": "code",
    "id": "YYSGBhOALFw1"
   },
   "outputs": [],
   "source": [
    "\n",
    "model = RecommenderNet(num_users, num_movies, EMBEDDING_SIZE)\n",
    "model.compile(\n",
    "    loss=tf.keras.losses.BinaryCrossentropy(), optimizer=keras.optimizers.RMSprop(lr=0.001)\n",
    ")"
   ]
  },
  {
   "cell_type": "code",
   "execution_count": 31,
   "metadata": {
    "colab": {
     "base_uri": "https://localhost:8080/",
     "height": 295
    },
    "colab_type": "code",
    "id": "Lza6pUURyVay",
    "outputId": "c556c276-8570-47a0-d44c-cfb4dbc94c36"
   },
   "outputs": [
    {
     "data": {
      "image/png": "[encoded data removed]",
      "text/plain": [
       "<Figure size 432x288 with 1 Axes>"
      ]
     },
     "metadata": {
      "needs_background": "light",
      "tags": []
     },
     "output_type": "display_data"
    }
   ],
   "source": [
    "plt.plot(history.history[\"loss\"])\n",
    "plt.plot(history.history[\"val_loss\"])\n",
    "plt.title(\"model loss\")\n",
    "plt.ylabel(\"loss\")\n",
    "plt.xlabel(\"epoch\")\n",
    "plt.legend([\"train\", \"test\"], loc=\"upper left\")\n",
    "plt.show()"
   ]
  },
  {
   "cell_type": "code",
   "execution_count": null,
   "metadata": {
    "colab": {},
    "colab_type": "code",
    "id": "zh6MQYmuyeQR"
   },
   "outputs": [],
   "source": []
  }
 ],
 "metadata": {
  "colab": {
   "name": "RMSvADAM.ipynb",
   "provenance": []
  },
  "kernelspec": {
   "display_name": "Python 3",
   "language": "python",
   "name": "python3"
  },
  "language_info": {
   "codemirror_mode": {
    "name": "ipython",
    "version": 3
   },
   "file_extension": ".py",
   "mimetype": "text/x-python",
   "name": "python",
   "nbconvert_exporter": "python",
   "pygments_lexer": "ipython3",
   "version": "3.8.8"
  }
 },
 "nbformat": 4,
 "nbformat_minor": 4
}
