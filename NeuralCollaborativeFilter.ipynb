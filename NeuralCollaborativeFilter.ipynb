{
 "cells": [
  {
   "cell_type": "code",
   "execution_count": null,
   "metadata": {
    "id": "I5J3qLkJC6Y6"
   },
   "outputs": [],
   "source": [
    "import os\n",
    "import json\n",
    "import gzip\n",
    "import pandas as pd\n",
    "import keras\n",
    "from urllib.request import urlopen"
   ]
  },
  {
   "cell_type": "code",
   "execution_count": null,
   "metadata": {
    "colab": {
     "base_uri": "https://localhost:8080/"
    },
    "id": "5JUDvXmFC7e0",
    "outputId": "ed5778c5-3a4c-48df-9c19-794fcca878f2"
   },
   "outputs": [
    {
     "name": "stdout",
     "output_type": "stream",
     "text": [
      "--2021-09-17 08:22:45--  http://deepyeti.ucsd.edu/jianmo/amazon/categoryFilesSmall/All_Beauty.csv\n",
      "Resolving deepyeti.ucsd.edu (deepyeti.ucsd.edu)... 169.228.63.50\n",
      "Connecting to deepyeti.ucsd.edu (deepyeti.ucsd.edu)|169.228.63.50|:80... connected.\n",
      "HTTP request sent, awaiting response... 200 OK\n",
      "Length: 15499476 (15M) [application/octet-stream]\n",
      "Saving to: ‘All_Beauty.csv’\n",
      "\n",
      "All_Beauty.csv      100%[===================>]  14.78M  25.2MB/s    in 0.6s    \n",
      "\n",
      "2021-09-17 08:22:46 (25.2 MB/s) - ‘All_Beauty.csv’ saved [15499476/15499476]\n",
      "\n"
     ]
    }
   ],
   "source": [
    "!wget http://deepyeti.ucsd.edu/jianmo/amazon/categoryFilesSmall/All_Beauty.csv"
   ]
  },
  {
   "cell_type": "code",
   "execution_count": null,
   "metadata": {
    "colab": {
     "base_uri": "https://localhost:8080/"
    },
    "id": "lrETTcc-EABv",
    "outputId": "6df21e05-49d6-4710-8698-41bdbe02735e"
   },
   "outputs": [
    {
     "data": {
      "text/plain": [
       "<bound method NDFrame.head of         0143026860  A1V6B6TNIC10QE  1.0  1424304000\n",
       "0       0143026860  A2F5GHSXFQ0W6J  4.0  1418860800\n",
       "1       0143026860  A1572GUYS7DGSR  4.0  1407628800\n",
       "2       0143026860   A1PSGLFK1NSVO  5.0  1362960000\n",
       "3       0143026860   A6IKXKZMTKGSC  5.0  1324771200\n",
       "4       0143026860  A36NF437WZLQ9E  5.0  1267142400\n",
       "...            ...             ...  ...         ...\n",
       "371339  B01HJEGTYK  A202DCI7TV1022  1.0  1500508800\n",
       "371340  B01HJEGTYK  A3FSOR5IJOFIBE  5.0  1489622400\n",
       "371341  B01HJEGTYK  A1B5DK6CTP2P24  5.0  1488326400\n",
       "371342  B01HJEGTYK  A23OUYS5IRMJS9  2.0  1487635200\n",
       "371343  B01HJEGTYK  A24KQ9RVU81L87  2.0  1481760000\n",
       "\n",
       "[371344 rows x 4 columns]>"
      ]
     },
     "execution_count": 3,
     "metadata": {},
     "output_type": "execute_result"
    }
   ],
   "source": [
    "df = pd.read_csv('All_Beauty.csv')\n",
    "df.head"
   ]
  },
  {
   "cell_type": "code",
   "execution_count": null,
   "metadata": {
    "colab": {
     "base_uri": "https://localhost:8080/"
    },
    "id": "SmhvMCLmEayr",
    "outputId": "4364633b-1bcb-430e-b0e3-086943284130"
   },
   "outputs": [
    {
     "data": {
      "text/plain": [
       "0143026860            0143026860\n",
       "A1V6B6TNIC10QE    A2F5GHSXFQ0W6J\n",
       "1.0                            4\n",
       "1424304000            1418860800\n",
       "Name: 0, dtype: object"
      ]
     },
     "execution_count": 4,
     "metadata": {},
     "output_type": "execute_result"
    }
   ],
   "source": [
    "df.iloc[0]"
   ]
  },
  {
   "cell_type": "code",
   "execution_count": null,
   "metadata": {
    "id": "ag0CsKxREmHh"
   },
   "outputs": [],
   "source": [
    "df.columns = ['asin','reviewerID','overall','time']"
   ]
  },
  {
   "cell_type": "code",
   "execution_count": null,
   "metadata": {
    "colab": {
     "base_uri": "https://localhost:8080/"
    },
    "id": "hmzEO4kvtebh",
    "outputId": "7bd4c3a6-03ea-469b-8c96-666cdda1964d"
   },
   "outputs": [
    {
     "data": {
      "text/plain": [
       "overall\n",
       "5.0    229549\n",
       "4.0     52687\n",
       "1.0     39260\n",
       "3.0     29555\n",
       "2.0     20293\n",
       "dtype: int64"
      ]
     },
     "execution_count": 6,
     "metadata": {},
     "output_type": "execute_result"
    }
   ],
   "source": [
    "df.value_counts('overall')"
   ]
  },
  {
   "cell_type": "markdown",
   "metadata": {
    "id": "8-ifppQYhyDe"
   },
   "source": [
    "Removing old data by converting unix timestamp to readable date\n"
   ]
  },
  {
   "cell_type": "code",
   "execution_count": null,
   "metadata": {
    "id": "yeXI2uRGdGYx"
   },
   "outputs": [],
   "source": [
    "from datetime import datetime\n",
    "time1 = []\n",
    "for i in df.time:\n",
    "  k = datetime.fromtimestamp(i).strftime(\"%Y/%d/%m\")\n",
    "  time1.append(k)\n"
   ]
  },
  {
   "cell_type": "code",
   "execution_count": null,
   "metadata": {
    "id": "cnrLceKZeIKZ"
   },
   "outputs": [],
   "source": [
    "time1 = pd.DataFrame(time1, columns=['time1'])"
   ]
  },
  {
   "cell_type": "code",
   "execution_count": null,
   "metadata": {
    "id": "n8aXjofhiVg5"
   },
   "outputs": [],
   "source": [
    "df = pd.concat([df,time1], axis = 1)"
   ]
  },
  {
   "cell_type": "code",
   "execution_count": null,
   "metadata": {
    "id": "u-G3HowuT9Pb"
   },
   "outputs": [],
   "source": [
    "\n",
    "def year_extractor(time1):\n",
    "  year = time1[:4]\n",
    "  return year\n",
    "\n",
    "\n",
    "df['Year'] = df['time1'].apply(year_extractor)"
   ]
  },
  {
   "cell_type": "code",
   "execution_count": null,
   "metadata": {
    "colab": {
     "base_uri": "https://localhost:8080/"
    },
    "id": "BQxcXQasjXHB",
    "outputId": "74899470-f413-48f8-f751-383cc1a4d37d"
   },
   "outputs": [
    {
     "data": {
      "text/plain": [
       "2016    101425\n",
       "2017     70254\n",
       "2015     69507\n",
       "2014     39257\n",
       "2018     30377\n",
       "2013     26407\n",
       "2012      9584\n",
       "2011      6591\n",
       "2010      5084\n",
       "2009      4029\n",
       "2008      3683\n",
       "2007      3072\n",
       "2006       946\n",
       "2005       560\n",
       "2004       292\n",
       "2003       119\n",
       "2002        78\n",
       "2001        66\n",
       "2000        13\n",
       "Name: Year, dtype: int64"
      ]
     },
     "execution_count": 11,
     "metadata": {},
     "output_type": "execute_result"
    }
   ],
   "source": [
    "df['Year'].value_counts()"
   ]
  },
  {
   "cell_type": "code",
   "execution_count": null,
   "metadata": {
    "id": "04YZyYGOj7AH"
   },
   "outputs": [],
   "source": [
    "df.Year = df.Year.astype(int)"
   ]
  },
  {
   "cell_type": "code",
   "execution_count": null,
   "metadata": {
    "id": "n-74-UuPjgun"
   },
   "outputs": [],
   "source": [
    "df = df[df['Year'] >= 2013]"
   ]
  },
  {
   "cell_type": "code",
   "execution_count": null,
   "metadata": {
    "colab": {
     "base_uri": "https://localhost:8080/"
    },
    "id": "kKU9ENlRyrQB",
    "outputId": "5e2ff779-bb83-4117-bb03-2d8ce560b19d"
   },
   "outputs": [
    {
     "data": {
      "text/plain": [
       "asin           30968\n",
       "reviewerID    296482\n",
       "overall            5\n",
       "time            2101\n",
       "time1           2101\n",
       "Year               6\n",
       "dtype: int64"
      ]
     },
     "execution_count": 14,
     "metadata": {},
     "output_type": "execute_result"
    }
   ],
   "source": [
    "counts = df.nunique()\n",
    "counts"
   ]
  },
  {
   "cell_type": "code",
   "execution_count": null,
   "metadata": {
    "colab": {
     "base_uri": "https://localhost:8080/"
    },
    "id": "-vnp71cO1Rhk",
    "outputId": "bf6e2feb-2437-4ed3-83bc-53980f186944"
   },
   "outputs": [
    {
     "data": {
      "text/plain": [
       "0"
      ]
     },
     "execution_count": 15,
     "metadata": {},
     "output_type": "execute_result"
    }
   ],
   "source": [
    "df.isna().sum().sum()"
   ]
  },
  {
   "cell_type": "code",
   "execution_count": null,
   "metadata": {
    "id": "NPan7kC7E7lm"
   },
   "outputs": [],
   "source": [
    "import pandas as pd\n",
    "import numpy as np\n",
    "from zipfile import ZipFile\n",
    "import tensorflow as tf\n",
    "from tensorflow import keras\n",
    "from tensorflow.keras import layers\n",
    "from pathlib import Path\n",
    "import matplotlib.pyplot as plt"
   ]
  },
  {
   "cell_type": "code",
   "execution_count": null,
   "metadata": {
    "id": "WTkst-KCFA5K"
   },
   "outputs": [],
   "source": [
    "ratings = df.overall\n",
    "user = df.reviewerID\n",
    "userID = user.to_numpy()\n",
    "userID_unique = np.unique(userID)"
   ]
  },
  {
   "cell_type": "markdown",
   "metadata": {
    "id": "NslBbkMFiCeC"
   },
   "source": [
    "Data preparation part:\n"
   ]
  },
  {
   "cell_type": "code",
   "execution_count": null,
   "metadata": {
    "id": "ha2oHeXZFFw3"
   },
   "outputs": [],
   "source": [
    "user_ids = df[\"reviewerID\"].unique().tolist()\n",
    "user2user_encoded = {x: i for i, x in enumerate(user_ids)}\n",
    "userencoded2user = {i: x for i, x in enumerate(user_ids)}\n",
    "product_ids = df[\"asin\"].unique().tolist()\n",
    "product2product_encoded = {x: i for i, x in enumerate(product_ids)}\n",
    "product_encoded2product = {i: x for i, x in enumerate(product_ids)}\n",
    "df[\"user\"] = df[\"reviewerID\"].map(user2user_encoded)\n",
    "df[\"product\"] = df[\"asin\"].map(product2product_encoded)"
   ]
  },
  {
   "cell_type": "code",
   "execution_count": null,
   "metadata": {
    "colab": {
     "base_uri": "https://localhost:8080/"
    },
    "id": "tmUTmLlAFJm5",
    "outputId": "be0c8cd7-7c0d-44f8-816e-1302b3b42961"
   },
   "outputs": [
    {
     "name": "stdout",
     "output_type": "stream",
     "text": [
      "Number of users: 296482, Number of Products: 30968, Min rating: 1.0, Max rating: 5.0\n"
     ]
    }
   ],
   "source": [
    "num_users = len(user2user_encoded)\n",
    "num_product = len(product_encoded2product)\n",
    "df[\"overall\"] = df[\"overall\"].values.astype(np.float32)\n",
    "# min and max ratings will be used to normalize the ratings later\n",
    "min_rating = min(df[\"overall\"])\n",
    "max_rating = max(df[\"overall\"])\n",
    "\n",
    "print(\n",
    "    \"Number of users: {}, Number of Products: {}, Min rating: {}, Max rating: {}\".format(\n",
    "        num_users, num_product, min_rating, max_rating\n",
    "    )\n",
    ")"
   ]
  },
  {
   "cell_type": "code",
   "execution_count": null,
   "metadata": {
    "id": "bpq5I9fiFOaj"
   },
   "outputs": [],
   "source": [
    "df = df.sample(frac=1, random_state=42)\n",
    "x = df[[\"user\", \"product\"]].values\n",
    "# Normalize the targets between 0 and 1. Makes it easy to train.\n",
    "y = df[\"overall\"].apply(lambda x: (x - min_rating) / (max_rating - min_rating)).values\n",
    "train_indices = int(0.9 * df.shape[0])\n",
    "x_train, x_val, y_train, y_val = (\n",
    "    x[:train_indices],\n",
    "    x[train_indices:],\n",
    "    y[:train_indices],\n",
    "    y[train_indices:],\n",
    ")"
   ]
  },
  {
   "cell_type": "code",
   "execution_count": null,
   "metadata": {
    "colab": {
     "base_uri": "https://localhost:8080/"
    },
    "id": "rfesEuiuFTMw",
    "outputId": "9a231c3b-4722-47e9-e755-3f82bc708ad7"
   },
   "outputs": [
    {
     "data": {
      "text/plain": [
       "((303504, 2), (33723, 2), (303504,), (33723,))"
      ]
     },
     "execution_count": 21,
     "metadata": {},
     "output_type": "execute_result"
    }
   ],
   "source": [
    "x_train.shape, x_val.shape, y_train.shape, y_val.shape"
   ]
  },
  {
   "cell_type": "markdown",
   "metadata": {
    "id": "37H_WUXUiOPw"
   },
   "source": [
    "Model: A neural network based on Tensorflow. "
   ]
  },
  {
   "cell_type": "code",
   "execution_count": null,
   "metadata": {
    "colab": {
     "base_uri": "https://localhost:8080/"
    },
    "id": "1LJ-RBf6F020",
    "outputId": "cca3110b-99ee-4d36-91ba-5275e5ad8f3d"
   },
   "outputs": [
    {
     "name": "stderr",
     "output_type": "stream",
     "text": [
      "/usr/local/lib/python3.7/dist-packages/keras/optimizer_v2/optimizer_v2.py:356: UserWarning: The `lr` argument is deprecated, use `learning_rate` instead.\n",
      "  \"The `lr` argument is deprecated, use `learning_rate` instead.\")\n"
     ]
    }
   ],
   "source": [
    "EMBEDDING_SIZE = 5\n",
    "class RecommenderNet(keras.Model):\n",
    "    def __init__(self, num_users, num_product, embedding_size, **kwargs):\n",
    "        super(RecommenderNet, self).__init__(**kwargs)\n",
    "        self.num_users = num_users\n",
    "        self.num_product = num_product\n",
    "        self.embedding_size = embedding_size\n",
    "        self.user_embedding = layers.Embedding(\n",
    "            num_users,\n",
    "            embedding_size,\n",
    "            embeddings_initializer=\"he_normal\",\n",
    "            embeddings_regularizer=keras.regularizers.l2(1e-6),\n",
    "        )\n",
    "        self.user_bias = layers.Embedding(num_users, 1)\n",
    "        self.product_embedding = layers.Embedding(\n",
    "            num_product,\n",
    "            embedding_size,\n",
    "            embeddings_initializer=\"he_normal\",\n",
    "            embeddings_regularizer=keras.regularizers.l2(1e-6),\n",
    "        )\n",
    "        self.product_bias = layers.Embedding(num_product, 1)\n",
    "\n",
    "    def call(self, inputs):\n",
    "        user_vector = self.user_embedding(inputs[:, 0])\n",
    "        user_bias = self.user_bias(inputs[:, 0])\n",
    "        product_vector = self.product_embedding(inputs[:, 1])\n",
    "        product_bias = self.product_bias(inputs[:, 1])\n",
    "        dot_user_product = tf.tensordot(user_vector, product_vector, 2)\n",
    "        # Add all the components (including bias)\n",
    "        x = dot_user_product + user_bias + product_bias\n",
    "        # The sigmoid activation forces the rating to between 0 and 1\n",
    "        return tf.nn.sigmoid(x)\n",
    "\n",
    "\n",
    "model = RecommenderNet(num_users, num_product, EMBEDDING_SIZE)\n",
    "model.compile(\n",
    "    loss=tf.keras.losses.BinaryCrossentropy(), optimizer=keras.optimizers.Adam(lr=0.001), metrics=tf.keras.metrics.RootMeanSquaredError()\n",
    ")\n"
   ]
  },
  {
   "cell_type": "code",
   "execution_count": null,
   "metadata": {
    "colab": {
     "base_uri": "https://localhost:8080/"
    },
    "id": "tFUYmv4ZF663",
    "outputId": "66829949-3320-4b80-f49e-bc5c031bd0c2"
   },
   "outputs": [
    {
     "name": "stdout",
     "output_type": "stream",
     "text": [
      "Epoch 1/5\n",
      "4743/4743 [==============================] - 37s 7ms/step - loss: 0.5871 - root_mean_squared_error: 0.3792 - val_loss: 0.5304 - val_root_mean_squared_error: 0.3439\n",
      "Epoch 2/5\n",
      "4743/4743 [==============================] - 33s 7ms/step - loss: 0.5099 - root_mean_squared_error: 0.3310 - val_loss: 0.5339 - val_root_mean_squared_error: 0.3469\n",
      "Epoch 3/5\n",
      "4743/4743 [==============================] - 32s 7ms/step - loss: 0.4887 - root_mean_squared_error: 0.3190 - val_loss: 0.5280 - val_root_mean_squared_error: 0.3435\n",
      "Epoch 4/5\n",
      "4743/4743 [==============================] - 32s 7ms/step - loss: 0.4736 - root_mean_squared_error: 0.3100 - val_loss: 0.5317 - val_root_mean_squared_error: 0.3459\n",
      "Epoch 5/5\n",
      "4743/4743 [==============================] - 32s 7ms/step - loss: 0.4609 - root_mean_squared_error: 0.3022 - val_loss: 0.5306 - val_root_mean_squared_error: 0.3455\n"
     ]
    }
   ],
   "source": [
    "history = model.fit(\n",
    "    x=x_train,\n",
    "    y=y_train,\n",
    "    batch_size=64,\n",
    "    epochs=5,\n",
    "    verbose=1,\n",
    "    validation_data=(x_val, y_val)\n",
    ")\n"
   ]
  },
  {
   "cell_type": "code",
   "execution_count": null,
   "metadata": {
    "colab": {
     "base_uri": "https://localhost:8080/",
     "height": 295
    },
    "id": "SbJHgZyoGh7-",
    "outputId": "4792fa9d-070d-4410-a3f4-e71417e2a8bb"
   },
   "outputs": [
    {
     "data": {
      "image/png": "[encoded data removed]",
      "text/plain": [
       "<Figure size 432x288 with 1 Axes>"
      ]
     },
     "metadata": {
      "needs_background": "light"
     },
     "output_type": "display_data"
    }
   ],
   "source": [
    "plt.plot(history.history[\"loss\"])\n",
    "plt.plot(history.history[\"val_loss\"])\n",
    "plt.title(\"model loss\")\n",
    "plt.ylabel(\"loss\")\n",
    "plt.xlabel(\"epoch\")\n",
    "plt.legend([\"train\", \"test\"], loc=\"upper left\")\n",
    "plt.show()\n"
   ]
  },
  {
   "cell_type": "code",
   "execution_count": null,
   "metadata": {
    "colab": {
     "base_uri": "https://localhost:8080/",
     "height": 295
    },
    "id": "00Uz_gF_r6eZ",
    "outputId": "87f60811-080f-4916-a31d-32d998b041c6"
   },
   "outputs": [
    {
     "data": {
      "image/png": "[encoded data removed]",
      "text/plain": [
       "<Figure size 432x288 with 1 Axes>"
      ]
     },
     "metadata": {
      "needs_background": "light"
     },
     "output_type": "display_data"
    }
   ],
   "source": [
    "plt.plot(history.history[\"root_mean_squared_error\"])\n",
    "plt.plot(history.history[\"val_root_mean_squared_error\"])\n",
    "plt.title(\"RMSE\")\n",
    "plt.ylabel(\"rmse\")\n",
    "plt.xlabel(\"epoch\")\n",
    "plt.legend([\"train\", \"test\"], loc=\"upper left\")\n",
    "plt.show()"
   ]
  },
  {
   "cell_type": "code",
   "execution_count": null,
   "metadata": {
    "colab": {
     "base_uri": "https://localhost:8080/"
    },
    "id": "QhRyNWUGG42a",
    "outputId": "8a8c11da-5ff2-459d-8f16-ebccf9088555"
   },
   "outputs": [
    {
     "name": "stdout",
     "output_type": "stream",
     "text": [
      "--2021-09-17 08:25:43--  http://deepyeti.ucsd.edu/jianmo/amazon/metaFiles2/meta_All_Beauty.json.gz\n",
      "Resolving deepyeti.ucsd.edu (deepyeti.ucsd.edu)... 169.228.63.50\n",
      "Connecting to deepyeti.ucsd.edu (deepyeti.ucsd.edu)|169.228.63.50|:80... connected.\n",
      "HTTP request sent, awaiting response... 200 OK\n",
      "Length: 10329961 (9.9M) [application/octet-stream]\n",
      "Saving to: ‘meta_All_Beauty.json.gz’\n",
      "\n",
      "meta_All_Beauty.jso 100%[===================>]   9.85M  18.8MB/s    in 0.5s    \n",
      "\n",
      "2021-09-17 08:25:43 (18.8 MB/s) - ‘meta_All_Beauty.json.gz’ saved [10329961/10329961]\n",
      "\n"
     ]
    }
   ],
   "source": [
    "!wget http://deepyeti.ucsd.edu/jianmo/amazon/metaFiles2/meta_All_Beauty.json.gz"
   ]
  },
  {
   "cell_type": "code",
   "execution_count": null,
   "metadata": {
    "id": "IN0VY0ENG-zn"
   },
   "outputs": [],
   "source": [
    "\n",
    "data = []\n",
    "with gzip.open('meta_All_Beauty.json.gz') as f:\n",
    "    for l in f:\n",
    "        data.append(json.loads(l.strip()))\n",
    "    \n"
   ]
  },
  {
   "cell_type": "code",
   "execution_count": null,
   "metadata": {
    "id": "MVB2SDu-HXTI"
   },
   "outputs": [],
   "source": [
    "df3 = pd.DataFrame.from_dict(data)"
   ]
  },
  {
   "cell_type": "markdown",
   "metadata": {
    "id": "uB0TZN0ji03S"
   },
   "source": [
    "Recommendations for users who has given atleast one review"
   ]
  },
  {
   "cell_type": "code",
   "execution_count": null,
   "metadata": {
    "colab": {
     "base_uri": "https://localhost:8080/"
    },
    "id": "u75EajQ3GmaE",
    "outputId": "cbe1e592-af6f-40f0-eb8c-bbbc8a121d49"
   },
   "outputs": [
    {
     "data": {
      "text/plain": [
       "('AAR759IGHB7LE',\n",
       " ['B0010DMNFQ',\n",
       "  'B00020UR4C',\n",
       "  'B004LUQRJI',\n",
       "  'B000KNELAW',\n",
       "  'B0009RF9DW',\n",
       "  'B000FI4S1E',\n",
       "  'B000WZHGVY',\n",
       "  'B01EGH00J8',\n",
       "  'B000UYCKRC',\n",
       "  'B0012Y0ZG2'])"
      ]
     },
     "execution_count": 29,
     "metadata": {},
     "output_type": "execute_result"
    }
   ],
   "source": [
    "product_df = df.asin\n",
    "\n",
    "user_id = df.reviewerID.sample(1).iloc[0]\n",
    "products_reviwed = df[df.reviewerID == user_id]\n",
    "products_not_reviewed = product_df[~product_df.isin(products_reviwed.asin.values)]\n",
    "products_not_reviewed = list(set(products_not_reviewed).intersection(set(product2product_encoded.keys())))\n",
    "products_not_reviewed = [[product2product_encoded.get(x)] for x in products_not_reviewed]\n",
    "user_encoder = user2user_encoded.get(user_id)\n",
    "user_product_array = np.hstack(([[user_encoder]] * len(products_not_reviewed), products_not_reviewed))\n",
    "ratings = model.predict(user_product_array).flatten()\n",
    "top_ratings_indices = ratings.argsort()[-10:][::-1]\n",
    "recommended_product_ids = [product_encoded2product.get(products_not_reviewed[x][0]) for x in top_ratings_indices]\n",
    "user_id, recommended_product_ids"
   ]
  },
  {
   "cell_type": "code",
   "execution_count": null,
   "metadata": {
    "colab": {
     "base_uri": "https://localhost:8080/"
    },
    "id": "kIoAKvAs-gWN",
    "outputId": "dfc6d07a-058a-437b-c92f-e81bc3e56eab"
   },
   "outputs": [
    {
     "name": "stdout",
     "output_type": "stream",
     "text": [
      "<bound method Series.unique of 2367    BriteSmile Mouth Rinse 14 oz\n",
      "Name: title, dtype: object>\n",
      "<bound method Series.unique of 282    Truefitt &amp; Hill Trafalgar After Shave Spla...\n",
      "686    Truefitt &amp; Hill Trafalgar After Shave Spla...\n",
      "Name: title, dtype: object>\n",
      "<bound method Series.unique of 5206    Paul Brown Hawaii Hapuna Hair Styling Paste, 8...\n",
      "Name: title, dtype: object>\n",
      "<bound method Series.unique of 1561    Death and Dentistry\n",
      "Name: title, dtype: object>\n",
      "<bound method Series.unique of 993    Yardley By Yardley Of London Unisexs Lay It On...\n",
      "Name: title, dtype: object>\n",
      "<bound method Series.unique of 1236    Fruits &amp; Passion Blue Refreshing Shower Ge...\n",
      "Name: title, dtype: object>\n",
      "<bound method Series.unique of 2255    Bare Escentuals Trudy Face Color 2.8 g NEW - S...\n",
      "Name: title, dtype: object>\n",
      "<bound method Series.unique of 30622    How To Train Your Dragon - Record Store Day 20...\n",
      "Name: title, dtype: object>\n",
      "<bound method Series.unique of 2096    Commonwealth Lavare Extra Large Pineapple Bath...\n",
      "Name: title, dtype: object>\n",
      "<bound method Series.unique of 2468    Bath &amp; Body Works Ile De Tahiti Moana Coco...\n",
      "Name: title, dtype: object>\n"
     ]
    }
   ],
   "source": [
    "ar = []\n",
    "for i in recommended_product_ids:\n",
    "  print(str(df3.loc[df3['asin']==i,'title'].unique))"
   ]
  },
  {
   "cell_type": "code",
   "execution_count": null,
   "metadata": {
    "colab": {
     "base_uri": "https://localhost:8080/"
    },
    "id": "qkWvSxNSSJLd",
    "outputId": "a6f8e88a-1bea-4624-cd94-0b833bcb02cc"
   },
   "outputs": [
    {
     "data": {
      "text/plain": [
       "asin              B00V6F0CJM\n",
       "reviewerID    A35U9OU28XKQMU\n",
       "overall                    3\n",
       "time              1453334400\n",
       "time1             2016/21/01\n",
       "Year                    2016\n",
       "user                  254843\n",
       "product                19425\n",
       "Name: 324452, dtype: object"
      ]
     },
     "execution_count": 31,
     "metadata": {},
     "output_type": "execute_result"
    }
   ],
   "source": [
    "df.iloc[0]"
   ]
  },
  {
   "cell_type": "code",
   "execution_count": null,
   "metadata": {
    "colab": {
     "base_uri": "https://localhost:8080/"
    },
    "id": "-LqEhMaCno3s",
    "outputId": "2fb6ade5-3650-4ed8-e80b-c8b8431f59e4"
   },
   "outputs": [
    {
     "data": {
      "text/plain": [
       "<bound method NDFrame.head of               asin      reviewerID  overall  ...  Year    user  product\n",
       "344942  B0182BVL4M  A28H72UFHPN9QN      5.0  ...  2018  272981    24386\n",
       "341565  B016X29TXW  A2VGJTJ3BQMAG5      5.0  ...  2018  266640     3163\n",
       "320141  B00SABWUL8  A388IB702CP8VZ      5.0  ...  2018  251049    18250\n",
       "6116    B000050FDY   ASZT9X2MF25BJ      5.0  ...  2017    5820       11\n",
       "353320  B01BH8FGA2  A31DY8NZLQ0CE1      5.0  ...  2017  280429     3596\n",
       "...            ...             ...      ...  ...   ...     ...      ...\n",
       "352726  B01B6SLUYE  A3C9N8IS4RYEZQ      4.0  ...  2017  279897     3576\n",
       "217614  B017M402PO  A2F74OURQCIY3Q      4.0  ...  2018  164022     3250\n",
       "160882  B00JIESMR2  A36175NJEOHHG7      4.0  ...  2018  111778     1682\n",
       "232330  B01BZV6VVY  A2L02OQFDR721M      4.0  ...  2018   72591     3659\n",
       "54185   B000YB70PS   ABIOVHOL63D4H      4.0  ...  2017   37019      290\n",
       "\n",
       "[73888 rows x 8 columns]>"
      ]
     },
     "execution_count": 32,
     "metadata": {},
     "output_type": "execute_result"
    }
   ],
   "source": [
    "df = df.sort_values(by='overall', ascending = False)\n",
    "df = df[(df['overall'] >= 4) & (df['Year']>=2017)]\n",
    "df.head"
   ]
  },
  {
   "cell_type": "markdown",
   "metadata": {
    "id": "PyOgA40WjDaq"
   },
   "source": [
    "General recommendations for new user:"
   ]
  },
  {
   "cell_type": "code",
   "execution_count": null,
   "metadata": {
    "id": "Ac-Sp410znVN"
   },
   "outputs": [],
   "source": [
    "recommended_product_ids = df.asin.sample(n = 10)"
   ]
  },
  {
   "cell_type": "code",
   "execution_count": null,
   "metadata": {
    "colab": {
     "base_uri": "https://localhost:8080/"
    },
    "id": "MU6sotNgHHqy",
    "outputId": "a9103bb2-f5af-40df-8098-9e8ae210965f"
   },
   "outputs": [
    {
     "name": "stdout",
     "output_type": "stream",
     "text": [
      "23810    NION Opus - #1 International Facial Cleansing ...\n",
      "Name: title, dtype: object\n",
      "7901    AVS Kottamchukkadi Tailam 200ml\n",
      "Name: title, dtype: object\n",
      "3606    Astra Platinum Double Edge Safety Razor Blades...\n",
      "Name: title, dtype: object\n",
      "18435    Recover Gold Core Timeless Face Serum\n",
      "Name: title, dtype: object\n",
      "35     Braun Clean &amp; Renew Refill Cartridges CCR ...\n",
      "439    Braun Clean &amp; Renew Refill Cartridges CCR ...\n",
      "Name: title, dtype: object\n",
      "23962    Greenwich Bay Trading Company Fall &amp; Winte...\n",
      "Name: title, dtype: object\n",
      "11396    Fabulous Frannie Blend Sampler Gift Set Pure E...\n",
      "Name: title, dtype: object\n",
      "32798    Barnhouse - Lavender - Premium Grade Fragrance...\n",
      "Name: title, dtype: object\n",
      "5220    Axe Detailer 2-Sided Shower Tool, Colors May V...\n",
      "Name: title, dtype: object\n",
      "1935    Soap Bark &amp; Chamomile Deep Cleansing Cream...\n",
      "Name: title, dtype: object\n"
     ]
    }
   ],
   "source": [
    "ar = []\n",
    "for i in recommended_product_ids:\n",
    "  print(str(df3.loc[df3['asin']==i,'title']))"
   ]
  },
  {
   "cell_type": "code",
   "execution_count": null,
   "metadata": {
    "id": "GmYQ4vfrMMuU"
   },
   "outputs": [],
   "source": []
  }
 ],
 "metadata": {
  "accelerator": "GPU",
  "colab": {
   "name": "Untitled10.ipynb",
   "provenance": []
  },
  "kernelspec": {
   "display_name": "Python 3",
   "language": "python",
   "name": "python3"
  },
  "language_info": {
   "codemirror_mode": {
    "name": "ipython",
    "version": 3
   },
   "file_extension": ".py",
   "mimetype": "text/x-python",
   "name": "python",
   "nbconvert_exporter": "python",
   "pygments_lexer": "ipython3",
   "version": "3.8.8"
  }
 },
 "nbformat": 4,
 "nbformat_minor": 4
}
