{
 "cells": [
  {
   "cell_type": "code",
   "execution_count": 1,
   "metadata": {
    "id": "TukZfMGPK9L0"
   },
   "outputs": [],
   "source": [
    "# Install jdk8\n",
    "!apt-get install openjdk-8-jdk-headless -qq > /dev/null\n",
    "# Set jdk environment path which enables you to run Pyspark in your Colab environment.\n",
    "import os\n",
    "os.environ[\"JAVA_HOME\"] = \"/usr/lib/jvm/java-8-openjdk-amd64\"\n",
    "!update-alternatives --set java /usr/lib/jvm/java-8-openjdk-amd64/jre/bin/java"
   ]
  },
  {
   "cell_type": "code",
   "execution_count": 2,
   "metadata": {
    "colab": {
     "base_uri": "https://localhost:8080/"
    },
    "id": "ISbHyMEGM93f",
    "outputId": "b93a9077-f030-44f3-8a97-8ef3e810ac9d"
   },
   "outputs": [
    {
     "name": "stdout",
     "output_type": "stream",
     "text": [
      "Drive already mounted at /content/drive; to attempt to forcibly remount, call drive.mount(\"/content/drive\", force_remount=True).\n"
     ]
    }
   ],
   "source": [
    "from google.colab import drive\n",
    "drive.mount('/content/drive')"
   ]
  },
  {
   "cell_type": "code",
   "execution_count": 3,
   "metadata": {
    "id": "aUcAZc6LNMOv"
   },
   "outputs": [],
   "source": [
    "url='/content/drive/MyDrive/dataset/amazon_electronic_subset.csv'"
   ]
  },
  {
   "cell_type": "code",
   "execution_count": 4,
   "metadata": {
    "colab": {
     "base_uri": "https://localhost:8080/"
    },
    "id": "WgU7WkPqNgh1",
    "outputId": "5cbd7e2a-99e1-49a5-8bed-1b7eea3ec2fc"
   },
   "outputs": [
    {
     "name": "stdout",
     "output_type": "stream",
     "text": [
      "Requirement already satisfied: pyspark==2.3.0 in /usr/local/lib/python3.7/dist-packages (2.3.0)\n",
      "Requirement already satisfied: py4j==0.10.6 in /usr/local/lib/python3.7/dist-packages (from pyspark==2.3.0) (0.10.6)\n"
     ]
    }
   ],
   "source": [
    "!pip install pyspark==2.3.0"
   ]
  },
  {
   "cell_type": "code",
   "execution_count": 5,
   "metadata": {
    "id": "TbMdvJ-TNiB5"
   },
   "outputs": [],
   "source": [
    "#import module\n",
    "from pyspark.ml.recommendation import ALS\n",
    "from pyspark.sql import SparkSession\n",
    "from pyspark import SparkContext\n",
    "from pyspark.sql.functions import col\n",
    "from pyspark.sql import SQLContext\n",
    "from pyspark.ml import Pipeline\n",
    "from pyspark.ml.feature import StringIndexer\n",
    "from pyspark.ml.evaluation import RegressionEvaluator\n",
    "from pyspark.sql.types import StructType, StructField, IntegerType\n",
    "import matplotlib.pyplot as plt\n",
    "%matplotlib inline"
   ]
  },
  {
   "cell_type": "code",
   "execution_count": 6,
   "metadata": {
    "id": "kWM6GSDrNue7"
   },
   "outputs": [],
   "source": [
    "import numpy as np\n",
    "import pandas as pd\n",
    "import seaborn as sns\n",
    "import matplotlib as plt\n",
    "import json\n",
    "import gzip"
   ]
  },
  {
   "cell_type": "code",
   "execution_count": 7,
   "metadata": {
    "id": "XBHWHBlrNy5N"
   },
   "outputs": [],
   "source": [
    "#create session\n",
    "appName = \"Recommendation system in Spark with ALS\"\n",
    "spark = SparkSession \\\n",
    "    .builder \\\n",
    "    .appName(appName) \\\n",
    "    .config(\"spark.some.config.option\", \"some-value\") \\\n",
    "    .getOrCreate()"
   ]
  },
  {
   "cell_type": "code",
   "execution_count": 8,
   "metadata": {
    "colab": {
     "base_uri": "https://localhost:8080/"
    },
    "id": "IIAXrpUbN8NW",
    "outputId": "1a424d68-1774-434a-bc03-d82ee3021a58"
   },
   "outputs": [
    {
     "name": "stderr",
     "output_type": "stream",
     "text": [
      "/usr/local/lib/python3.7/dist-packages/IPython/core/interactiveshell.py:2718: DtypeWarning: Columns (2) have mixed types.Specify dtype option on import or set low_memory=False.\n",
      "  interactivity=interactivity, compiler=compiler, result=result)\n"
     ]
    }
   ],
   "source": [
    "df1 = pd.read_csv(url)"
   ]
  },
  {
   "cell_type": "code",
   "execution_count": 9,
   "metadata": {
    "colab": {
     "base_uri": "https://localhost:8080/",
     "height": 242
    },
    "id": "7fATIrTDOCKN",
    "outputId": "7b652f03-6e35-4609-9f95-62c7ea6e232d"
   },
   "outputs": [
    {
     "data": {
      "text/html": [
       "<div>\n",
       "<style scoped>\n",
       "    .dataframe tbody tr th:only-of-type {\n",
       "        vertical-align: middle;\n",
       "    }\n",
       "\n",
       "    .dataframe tbody tr th {\n",
       "        vertical-align: top;\n",
       "    }\n",
       "\n",
       "    .dataframe thead th {\n",
       "        text-align: right;\n",
       "    }\n",
       "</style>\n",
       "<table border=\"1\" class=\"dataframe\">\n",
       "  <thead>\n",
       "    <tr style=\"text-align: right;\">\n",
       "      <th></th>\n",
       "      <th>Unnamed: 0</th>\n",
       "      <th>overall</th>\n",
       "      <th>vote</th>\n",
       "      <th>verified</th>\n",
       "      <th>reviewTime</th>\n",
       "      <th>reviewerID</th>\n",
       "      <th>asin</th>\n",
       "      <th>style</th>\n",
       "      <th>reviewerName</th>\n",
       "      <th>reviewText</th>\n",
       "      <th>summary</th>\n",
       "      <th>unixReviewTime</th>\n",
       "      <th>image</th>\n",
       "    </tr>\n",
       "  </thead>\n",
       "  <tbody>\n",
       "    <tr>\n",
       "      <th>0</th>\n",
       "      <td>1425280</td>\n",
       "      <td>2.0</td>\n",
       "      <td>NaN</td>\n",
       "      <td>True</td>\n",
       "      <td>01 24, 2015</td>\n",
       "      <td>AMFPAS8VMIDGJ</td>\n",
       "      <td>B002B3YCQM</td>\n",
       "      <td>{'Package Type:': ' Standard Packaging'}</td>\n",
       "      <td>Crewtx</td>\n",
       "      <td>I've stopped counting the number of mice I've ...</td>\n",
       "      <td>I've stopped counting the number of mice I've ...</td>\n",
       "      <td>1422057600</td>\n",
       "      <td>NaN</td>\n",
       "    </tr>\n",
       "    <tr>\n",
       "      <th>1</th>\n",
       "      <td>4253927</td>\n",
       "      <td>4.0</td>\n",
       "      <td>2</td>\n",
       "      <td>True</td>\n",
       "      <td>12 3, 2017</td>\n",
       "      <td>ABID49T47BLBF</td>\n",
       "      <td>B00JXXXOS0</td>\n",
       "      <td>NaN</td>\n",
       "      <td>Donald L. DeMent</td>\n",
       "      <td>I've only had it 1 day but it worked for me pl...</td>\n",
       "      <td>Worked for playing local (R 1) DVDs and the Au...</td>\n",
       "      <td>1512259200</td>\n",
       "      <td>NaN</td>\n",
       "    </tr>\n",
       "    <tr>\n",
       "      <th>2</th>\n",
       "      <td>3395176</td>\n",
       "      <td>5.0</td>\n",
       "      <td>NaN</td>\n",
       "      <td>True</td>\n",
       "      <td>09 24, 2014</td>\n",
       "      <td>A2IQGDEA5FONCT</td>\n",
       "      <td>B00CSQYVWM</td>\n",
       "      <td>{'Style:': ' Skeleton Housing'}</td>\n",
       "      <td>JT</td>\n",
       "      <td>perfect for indoors and automobile use.</td>\n",
       "      <td>Five Stars</td>\n",
       "      <td>1411516800</td>\n",
       "      <td>NaN</td>\n",
       "    </tr>\n",
       "  </tbody>\n",
       "</table>\n",
       "</div>"
      ],
      "text/plain": [
       "   Unnamed: 0  overall  ... unixReviewTime  image\n",
       "0     1425280      2.0  ...     1422057600    NaN\n",
       "1     4253927      4.0  ...     1512259200    NaN\n",
       "2     3395176      5.0  ...     1411516800    NaN\n",
       "\n",
       "[3 rows x 13 columns]"
      ]
     },
     "execution_count": 9,
     "metadata": {},
     "output_type": "execute_result"
    }
   ],
   "source": [
    "df1.head(3)"
   ]
  },
  {
   "cell_type": "code",
   "execution_count": 10,
   "metadata": {
    "id": "r8dcrZzTOG6O"
   },
   "outputs": [],
   "source": [
    "from copy import deepcopy"
   ]
  },
  {
   "cell_type": "code",
   "execution_count": 11,
   "metadata": {
    "colab": {
     "base_uri": "https://localhost:8080/",
     "height": 417
    },
    "id": "WI6NKSwcOQjy",
    "outputId": "f8b74753-44a9-4ffe-9455-0227e84f00be"
   },
   "outputs": [
    {
     "data": {
      "text/html": [
       "<div>\n",
       "<style scoped>\n",
       "    .dataframe tbody tr th:only-of-type {\n",
       "        vertical-align: middle;\n",
       "    }\n",
       "\n",
       "    .dataframe tbody tr th {\n",
       "        vertical-align: top;\n",
       "    }\n",
       "\n",
       "    .dataframe thead th {\n",
       "        text-align: right;\n",
       "    }\n",
       "</style>\n",
       "<table border=\"1\" class=\"dataframe\">\n",
       "  <thead>\n",
       "    <tr style=\"text-align: right;\">\n",
       "      <th></th>\n",
       "      <th>Unnamed: 0</th>\n",
       "      <th>overall</th>\n",
       "      <th>reviewerID</th>\n",
       "      <th>asin</th>\n",
       "      <th>unixReviewTime</th>\n",
       "    </tr>\n",
       "  </thead>\n",
       "  <tbody>\n",
       "    <tr>\n",
       "      <th>0</th>\n",
       "      <td>1425280</td>\n",
       "      <td>2.0</td>\n",
       "      <td>AMFPAS8VMIDGJ</td>\n",
       "      <td>B002B3YCQM</td>\n",
       "      <td>1422057600</td>\n",
       "    </tr>\n",
       "    <tr>\n",
       "      <th>1</th>\n",
       "      <td>4253927</td>\n",
       "      <td>4.0</td>\n",
       "      <td>ABID49T47BLBF</td>\n",
       "      <td>B00JXXXOS0</td>\n",
       "      <td>1512259200</td>\n",
       "    </tr>\n",
       "    <tr>\n",
       "      <th>2</th>\n",
       "      <td>3395176</td>\n",
       "      <td>5.0</td>\n",
       "      <td>A2IQGDEA5FONCT</td>\n",
       "      <td>B00CSQYVWM</td>\n",
       "      <td>1411516800</td>\n",
       "    </tr>\n",
       "    <tr>\n",
       "      <th>3</th>\n",
       "      <td>1421371</td>\n",
       "      <td>4.0</td>\n",
       "      <td>A29GIVFYIGNM79</td>\n",
       "      <td>B002AF5184</td>\n",
       "      <td>1354665600</td>\n",
       "    </tr>\n",
       "    <tr>\n",
       "      <th>4</th>\n",
       "      <td>2768360</td>\n",
       "      <td>5.0</td>\n",
       "      <td>A1MPC88C5RBO91</td>\n",
       "      <td>B008LTBM6S</td>\n",
       "      <td>1451952000</td>\n",
       "    </tr>\n",
       "    <tr>\n",
       "      <th>...</th>\n",
       "      <td>...</td>\n",
       "      <td>...</td>\n",
       "      <td>...</td>\n",
       "      <td>...</td>\n",
       "      <td>...</td>\n",
       "    </tr>\n",
       "    <tr>\n",
       "      <th>235881</th>\n",
       "      <td>2741767</td>\n",
       "      <td>5.0</td>\n",
       "      <td>A28FXEB3VIG8DU</td>\n",
       "      <td>B008DBI5RI</td>\n",
       "      <td>1360108800</td>\n",
       "    </tr>\n",
       "    <tr>\n",
       "      <th>235882</th>\n",
       "      <td>3967102</td>\n",
       "      <td>5.0</td>\n",
       "      <td>A1MGUMKNMC5DL5</td>\n",
       "      <td>B00HNDCWQM</td>\n",
       "      <td>1464998400</td>\n",
       "    </tr>\n",
       "    <tr>\n",
       "      <th>235883</th>\n",
       "      <td>1020058</td>\n",
       "      <td>5.0</td>\n",
       "      <td>A237SN14B2I5AX</td>\n",
       "      <td>B0014KQ4NM</td>\n",
       "      <td>1425513600</td>\n",
       "    </tr>\n",
       "    <tr>\n",
       "      <th>235884</th>\n",
       "      <td>3661069</td>\n",
       "      <td>3.0</td>\n",
       "      <td>A3VUQ1W0WOQAX4</td>\n",
       "      <td>B00EPCNB96</td>\n",
       "      <td>1446336000</td>\n",
       "    </tr>\n",
       "    <tr>\n",
       "      <th>235885</th>\n",
       "      <td>363914</td>\n",
       "      <td>5.0</td>\n",
       "      <td>A388ZBL9XCJ1FC</td>\n",
       "      <td>B0009N8SMK</td>\n",
       "      <td>1473984000</td>\n",
       "    </tr>\n",
       "  </tbody>\n",
       "</table>\n",
       "<p>235886 rows × 5 columns</p>\n",
       "</div>"
      ],
      "text/plain": [
       "        Unnamed: 0  overall      reviewerID        asin  unixReviewTime\n",
       "0          1425280      2.0   AMFPAS8VMIDGJ  B002B3YCQM      1422057600\n",
       "1          4253927      4.0   ABID49T47BLBF  B00JXXXOS0      1512259200\n",
       "2          3395176      5.0  A2IQGDEA5FONCT  B00CSQYVWM      1411516800\n",
       "3          1421371      4.0  A29GIVFYIGNM79  B002AF5184      1354665600\n",
       "4          2768360      5.0  A1MPC88C5RBO91  B008LTBM6S      1451952000\n",
       "...            ...      ...             ...         ...             ...\n",
       "235881     2741767      5.0  A28FXEB3VIG8DU  B008DBI5RI      1360108800\n",
       "235882     3967102      5.0  A1MGUMKNMC5DL5  B00HNDCWQM      1464998400\n",
       "235883     1020058      5.0  A237SN14B2I5AX  B0014KQ4NM      1425513600\n",
       "235884     3661069      3.0  A3VUQ1W0WOQAX4  B00EPCNB96      1446336000\n",
       "235885      363914      5.0  A388ZBL9XCJ1FC  B0009N8SMK      1473984000\n",
       "\n",
       "[235886 rows x 5 columns]"
      ]
     },
     "execution_count": 11,
     "metadata": {},
     "output_type": "execute_result"
    }
   ],
   "source": [
    "ratings = deepcopy(df1)\n",
    "ratings.drop(['reviewTime','image','style','vote','reviewText','reviewerName','verified','summary'],axis=1, inplace = True)\n",
    "ratings.fillna(value = 0, inplace = True)\n",
    "ratings.drop_duplicates\n",
    "ratings"
   ]
  },
  {
   "cell_type": "code",
   "execution_count": 14,
   "metadata": {
    "id": "_pTZMovjPZ1A"
   },
   "outputs": [],
   "source": [
    "dataset=deepcopy(ratings)"
   ]
  },
  {
   "cell_type": "code",
   "execution_count": 13,
   "metadata": {
    "id": "bkdQ3YzJWjVy"
   },
   "outputs": [],
   "source": [
    "ratings = pd.DataFrame(ratings)"
   ]
  },
  {
   "cell_type": "code",
   "execution_count": null,
   "metadata": {
    "colab": {
     "base_uri": "https://localhost:8080/",
     "height": 417
    },
    "id": "ZqHkq3rjW_I-",
    "outputId": "41ee8c7b-2417-46f3-e458-7b27736c18b0"
   },
   "outputs": [
    {
     "data": {
      "text/html": [
       "<div>\n",
       "<style scoped>\n",
       "    .dataframe tbody tr th:only-of-type {\n",
       "        vertical-align: middle;\n",
       "    }\n",
       "\n",
       "    .dataframe tbody tr th {\n",
       "        vertical-align: top;\n",
       "    }\n",
       "\n",
       "    .dataframe thead th {\n",
       "        text-align: right;\n",
       "    }\n",
       "</style>\n",
       "<table border=\"1\" class=\"dataframe\">\n",
       "  <thead>\n",
       "    <tr style=\"text-align: right;\">\n",
       "      <th></th>\n",
       "      <th>Unnamed: 0</th>\n",
       "      <th>overall</th>\n",
       "      <th>reviewerID</th>\n",
       "      <th>asin</th>\n",
       "      <th>unixReviewTime</th>\n",
       "    </tr>\n",
       "  </thead>\n",
       "  <tbody>\n",
       "    <tr>\n",
       "      <th>0</th>\n",
       "      <td>1425280</td>\n",
       "      <td>2.0</td>\n",
       "      <td>AMFPAS8VMIDGJ</td>\n",
       "      <td>B002B3YCQM</td>\n",
       "      <td>1422057600</td>\n",
       "    </tr>\n",
       "    <tr>\n",
       "      <th>1</th>\n",
       "      <td>4253927</td>\n",
       "      <td>4.0</td>\n",
       "      <td>ABID49T47BLBF</td>\n",
       "      <td>B00JXXXOS0</td>\n",
       "      <td>1512259200</td>\n",
       "    </tr>\n",
       "    <tr>\n",
       "      <th>2</th>\n",
       "      <td>3395176</td>\n",
       "      <td>5.0</td>\n",
       "      <td>A2IQGDEA5FONCT</td>\n",
       "      <td>B00CSQYVWM</td>\n",
       "      <td>1411516800</td>\n",
       "    </tr>\n",
       "    <tr>\n",
       "      <th>3</th>\n",
       "      <td>1421371</td>\n",
       "      <td>4.0</td>\n",
       "      <td>A29GIVFYIGNM79</td>\n",
       "      <td>B002AF5184</td>\n",
       "      <td>1354665600</td>\n",
       "    </tr>\n",
       "    <tr>\n",
       "      <th>4</th>\n",
       "      <td>2768360</td>\n",
       "      <td>5.0</td>\n",
       "      <td>A1MPC88C5RBO91</td>\n",
       "      <td>B008LTBM6S</td>\n",
       "      <td>1451952000</td>\n",
       "    </tr>\n",
       "    <tr>\n",
       "      <th>...</th>\n",
       "      <td>...</td>\n",
       "      <td>...</td>\n",
       "      <td>...</td>\n",
       "      <td>...</td>\n",
       "      <td>...</td>\n",
       "    </tr>\n",
       "    <tr>\n",
       "      <th>235881</th>\n",
       "      <td>2741767</td>\n",
       "      <td>5.0</td>\n",
       "      <td>A28FXEB3VIG8DU</td>\n",
       "      <td>B008DBI5RI</td>\n",
       "      <td>1360108800</td>\n",
       "    </tr>\n",
       "    <tr>\n",
       "      <th>235882</th>\n",
       "      <td>3967102</td>\n",
       "      <td>5.0</td>\n",
       "      <td>A1MGUMKNMC5DL5</td>\n",
       "      <td>B00HNDCWQM</td>\n",
       "      <td>1464998400</td>\n",
       "    </tr>\n",
       "    <tr>\n",
       "      <th>235883</th>\n",
       "      <td>1020058</td>\n",
       "      <td>5.0</td>\n",
       "      <td>A237SN14B2I5AX</td>\n",
       "      <td>B0014KQ4NM</td>\n",
       "      <td>1425513600</td>\n",
       "    </tr>\n",
       "    <tr>\n",
       "      <th>235884</th>\n",
       "      <td>3661069</td>\n",
       "      <td>3.0</td>\n",
       "      <td>A3VUQ1W0WOQAX4</td>\n",
       "      <td>B00EPCNB96</td>\n",
       "      <td>1446336000</td>\n",
       "    </tr>\n",
       "    <tr>\n",
       "      <th>235885</th>\n",
       "      <td>363914</td>\n",
       "      <td>5.0</td>\n",
       "      <td>A388ZBL9XCJ1FC</td>\n",
       "      <td>B0009N8SMK</td>\n",
       "      <td>1473984000</td>\n",
       "    </tr>\n",
       "  </tbody>\n",
       "</table>\n",
       "<p>235886 rows × 5 columns</p>\n",
       "</div>"
      ],
      "text/plain": [
       "        Unnamed: 0  overall      reviewerID        asin  unixReviewTime\n",
       "0          1425280      2.0   AMFPAS8VMIDGJ  B002B3YCQM      1422057600\n",
       "1          4253927      4.0   ABID49T47BLBF  B00JXXXOS0      1512259200\n",
       "2          3395176      5.0  A2IQGDEA5FONCT  B00CSQYVWM      1411516800\n",
       "3          1421371      4.0  A29GIVFYIGNM79  B002AF5184      1354665600\n",
       "4          2768360      5.0  A1MPC88C5RBO91  B008LTBM6S      1451952000\n",
       "...            ...      ...             ...         ...             ...\n",
       "235881     2741767      5.0  A28FXEB3VIG8DU  B008DBI5RI      1360108800\n",
       "235882     3967102      5.0  A1MGUMKNMC5DL5  B00HNDCWQM      1464998400\n",
       "235883     1020058      5.0  A237SN14B2I5AX  B0014KQ4NM      1425513600\n",
       "235884     3661069      3.0  A3VUQ1W0WOQAX4  B00EPCNB96      1446336000\n",
       "235885      363914      5.0  A388ZBL9XCJ1FC  B0009N8SMK      1473984000\n",
       "\n",
       "[235886 rows x 5 columns]"
      ]
     },
     "execution_count": 13,
     "metadata": {},
     "output_type": "execute_result"
    }
   ],
   "source": [
    "ratings"
   ]
  },
  {
   "cell_type": "code",
   "execution_count": 51,
   "metadata": {
    "id": "eu8LXAKiK3hs"
   },
   "outputs": [],
   "source": [
    "data = spark.createDataFrame(ratings[['reviewerID', 'asin', 'overall']])\n",
    "indexer = [StringIndexer(inputCol = column, outputCol = column+\"index\") for column in ['asin','reviewerID']]\n",
    "pipeline = Pipeline(stages=indexer)\n",
    "data = pipeline.fit(data).transform(data)"
   ]
  },
  {
   "cell_type": "code",
   "execution_count": 52,
   "metadata": {
    "id": "gTVv4FKkK3zQ"
   },
   "outputs": [],
   "source": [
    "transformed_train = data.sampleBy(\"overall\", fractions={1: 0.7, 2: 0.7, 3: 0.7,4: 0.7,5: 0.7}, seed=10)\n",
    "transformed_test = data.subtract(transformed_train)"
   ]
  },
  {
   "cell_type": "code",
   "execution_count": 53,
   "metadata": {
    "id": "VvWA743rLGEb"
   },
   "outputs": [],
   "source": [
    "transformed_train = transformed_train.withColumnRenamed('overall','label')"
   ]
  },
  {
   "cell_type": "code",
   "execution_count": 54,
   "metadata": {
    "id": "r9Dy7Z8OLQoH"
   },
   "outputs": [],
   "source": [
    "transformed_test = transformed_test.withColumnRenamed('overall','truelabel')"
   ]
  },
  {
   "cell_type": "code",
   "execution_count": 55,
   "metadata": {
    "id": "8ZBEC2cXLgdx"
   },
   "outputs": [],
   "source": [
    "als = ALS(maxIter = 20, regParam = 0.05 ,userCol = 'reviewerIDindex', itemCol = 'asinindex', ratingCol = 'label', coldStartStrategy='drop', nonnegative=True)\n",
    "model = als.fit(transformed_train)"
   ]
  },
  {
   "cell_type": "code",
   "execution_count": 56,
   "metadata": {
    "id": "eGBcHVtDLk5h"
   },
   "outputs": [],
   "source": [
    "prediction = model.transform(transformed_test)"
   ]
  },
  {
   "cell_type": "code",
   "execution_count": 57,
   "metadata": {
    "colab": {
     "base_uri": "https://localhost:8080/"
    },
    "id": "EVTw4N3SVjpl",
    "outputId": "8dfc6e14-bc99-4798-e857-c59183539012"
   },
   "outputs": [
    {
     "name": "stdout",
     "output_type": "stream",
     "text": [
      "+--------------+----------+---------+---------+---------------+----------+\n",
      "|reviewerID    |asin      |truelabel|asinindex|reviewerIDindex|prediction|\n",
      "+--------------+----------+---------+---------+---------------+----------+\n",
      "|A1ZM0YRS5S6Q17|B001W28L2Y|5.0      |148.0    |1194.0         |2.2066944 |\n",
      "|A1VBHFHJVUUVXJ|B001W28L2Y|5.0      |148.0    |15750.0        |0.38332176|\n",
      "|A1RARUIXA9W42 |B001W28L2Y|5.0      |148.0    |2875.0         |2.333861  |\n",
      "|A3ADMT997MTZIM|B001W28L2Y|5.0      |148.0    |2119.0         |0.25526607|\n",
      "|A1I3GXI6LSFS4O|B001W28L2Y|5.0      |148.0    |17815.0        |3.7194955 |\n",
      "+--------------+----------+---------+---------+---------------+----------+\n",
      "only showing top 5 rows\n",
      "\n"
     ]
    }
   ],
   "source": [
    "prediction.show(n=5, truncate = False)"
   ]
  },
  {
   "cell_type": "code",
   "execution_count": 58,
   "metadata": {
    "colab": {
     "base_uri": "https://localhost:8080/"
    },
    "id": "hkXhNuDXMtqV",
    "outputId": "2c4ec521-d862-429c-ae04-ec8a3ae8bb75"
   },
   "outputs": [
    {
     "name": "stdout",
     "output_type": "stream",
     "text": [
      "Root Mean Square Error(RMSE): 2.6754364989267003\n"
     ]
    }
   ],
   "source": [
    "evaluator = RegressionEvaluator(labelCol='truelabel',predictionCol='prediction', metricName='rmse')\n",
    "rmse = evaluator.evaluate(prediction)\n",
    "print(\"Root Mean Square Error(RMSE):\", rmse)"
   ]
  },
  {
   "cell_type": "code",
   "execution_count": 50,
   "metadata": {
    "id": "y1i5I7dkNM6i"
   },
   "outputs": [],
   "source": [
    "from sklearn.model_selection import StratifiedShuffleSplit\n",
    "from sklearn.model_selection import train_test_split \n",
    "\n",
    "ratings=deepcopy(dataset)\n",
    "\n",
    "#ratings,rat = train_test_split(ratings1, test_size=0.5, stratify=ratings['overall'])"
   ]
  },
  {
   "cell_type": "code",
   "execution_count": 38,
   "metadata": {
    "colab": {
     "base_uri": "https://localhost:8080/",
     "height": 417
    },
    "id": "XmK4Ak_BTrKq",
    "outputId": "f333416f-21a8-4061-d181-6480d49dcc8b"
   },
   "outputs": [
    {
     "data": {
      "text/html": [
       "<div>\n",
       "<style scoped>\n",
       "    .dataframe tbody tr th:only-of-type {\n",
       "        vertical-align: middle;\n",
       "    }\n",
       "\n",
       "    .dataframe tbody tr th {\n",
       "        vertical-align: top;\n",
       "    }\n",
       "\n",
       "    .dataframe thead th {\n",
       "        text-align: right;\n",
       "    }\n",
       "</style>\n",
       "<table border=\"1\" class=\"dataframe\">\n",
       "  <thead>\n",
       "    <tr style=\"text-align: right;\">\n",
       "      <th></th>\n",
       "      <th>Unnamed: 0</th>\n",
       "      <th>overall</th>\n",
       "      <th>reviewerID</th>\n",
       "      <th>asin</th>\n",
       "      <th>unixReviewTime</th>\n",
       "    </tr>\n",
       "  </thead>\n",
       "  <tbody>\n",
       "    <tr>\n",
       "      <th>0</th>\n",
       "      <td>1425280</td>\n",
       "      <td>2.0</td>\n",
       "      <td>AMFPAS8VMIDGJ</td>\n",
       "      <td>B002B3YCQM</td>\n",
       "      <td>1422057600</td>\n",
       "    </tr>\n",
       "    <tr>\n",
       "      <th>1</th>\n",
       "      <td>4253927</td>\n",
       "      <td>4.0</td>\n",
       "      <td>ABID49T47BLBF</td>\n",
       "      <td>B00JXXXOS0</td>\n",
       "      <td>1512259200</td>\n",
       "    </tr>\n",
       "    <tr>\n",
       "      <th>2</th>\n",
       "      <td>3395176</td>\n",
       "      <td>5.0</td>\n",
       "      <td>A2IQGDEA5FONCT</td>\n",
       "      <td>B00CSQYVWM</td>\n",
       "      <td>1411516800</td>\n",
       "    </tr>\n",
       "    <tr>\n",
       "      <th>3</th>\n",
       "      <td>1421371</td>\n",
       "      <td>4.0</td>\n",
       "      <td>A29GIVFYIGNM79</td>\n",
       "      <td>B002AF5184</td>\n",
       "      <td>1354665600</td>\n",
       "    </tr>\n",
       "    <tr>\n",
       "      <th>4</th>\n",
       "      <td>2768360</td>\n",
       "      <td>5.0</td>\n",
       "      <td>A1MPC88C5RBO91</td>\n",
       "      <td>B008LTBM6S</td>\n",
       "      <td>1451952000</td>\n",
       "    </tr>\n",
       "    <tr>\n",
       "      <th>...</th>\n",
       "      <td>...</td>\n",
       "      <td>...</td>\n",
       "      <td>...</td>\n",
       "      <td>...</td>\n",
       "      <td>...</td>\n",
       "    </tr>\n",
       "    <tr>\n",
       "      <th>235881</th>\n",
       "      <td>2741767</td>\n",
       "      <td>5.0</td>\n",
       "      <td>A28FXEB3VIG8DU</td>\n",
       "      <td>B008DBI5RI</td>\n",
       "      <td>1360108800</td>\n",
       "    </tr>\n",
       "    <tr>\n",
       "      <th>235882</th>\n",
       "      <td>3967102</td>\n",
       "      <td>5.0</td>\n",
       "      <td>A1MGUMKNMC5DL5</td>\n",
       "      <td>B00HNDCWQM</td>\n",
       "      <td>1464998400</td>\n",
       "    </tr>\n",
       "    <tr>\n",
       "      <th>235883</th>\n",
       "      <td>1020058</td>\n",
       "      <td>5.0</td>\n",
       "      <td>A237SN14B2I5AX</td>\n",
       "      <td>B0014KQ4NM</td>\n",
       "      <td>1425513600</td>\n",
       "    </tr>\n",
       "    <tr>\n",
       "      <th>235884</th>\n",
       "      <td>3661069</td>\n",
       "      <td>3.0</td>\n",
       "      <td>A3VUQ1W0WOQAX4</td>\n",
       "      <td>B00EPCNB96</td>\n",
       "      <td>1446336000</td>\n",
       "    </tr>\n",
       "    <tr>\n",
       "      <th>235885</th>\n",
       "      <td>363914</td>\n",
       "      <td>5.0</td>\n",
       "      <td>A388ZBL9XCJ1FC</td>\n",
       "      <td>B0009N8SMK</td>\n",
       "      <td>1473984000</td>\n",
       "    </tr>\n",
       "  </tbody>\n",
       "</table>\n",
       "<p>235886 rows × 5 columns</p>\n",
       "</div>"
      ],
      "text/plain": [
       "        Unnamed: 0  overall      reviewerID        asin  unixReviewTime\n",
       "0          1425280      2.0   AMFPAS8VMIDGJ  B002B3YCQM      1422057600\n",
       "1          4253927      4.0   ABID49T47BLBF  B00JXXXOS0      1512259200\n",
       "2          3395176      5.0  A2IQGDEA5FONCT  B00CSQYVWM      1411516800\n",
       "3          1421371      4.0  A29GIVFYIGNM79  B002AF5184      1354665600\n",
       "4          2768360      5.0  A1MPC88C5RBO91  B008LTBM6S      1451952000\n",
       "...            ...      ...             ...         ...             ...\n",
       "235881     2741767      5.0  A28FXEB3VIG8DU  B008DBI5RI      1360108800\n",
       "235882     3967102      5.0  A1MGUMKNMC5DL5  B00HNDCWQM      1464998400\n",
       "235883     1020058      5.0  A237SN14B2I5AX  B0014KQ4NM      1425513600\n",
       "235884     3661069      3.0  A3VUQ1W0WOQAX4  B00EPCNB96      1446336000\n",
       "235885      363914      5.0  A388ZBL9XCJ1FC  B0009N8SMK      1473984000\n",
       "\n",
       "[235886 rows x 5 columns]"
      ]
     },
     "execution_count": 38,
     "metadata": {},
     "output_type": "execute_result"
    }
   ],
   "source": [
    "dataset"
   ]
  },
  {
   "cell_type": "code",
   "execution_count": 37,
   "metadata": {
    "colab": {
     "base_uri": "https://localhost:8080/",
     "height": 417
    },
    "id": "fVgNTlfOTKQC",
    "outputId": "b05f5c21-96c6-47ba-8ed2-0e16b9035c19"
   },
   "outputs": [
    {
     "data": {
      "text/html": [
       "<div>\n",
       "<style scoped>\n",
       "    .dataframe tbody tr th:only-of-type {\n",
       "        vertical-align: middle;\n",
       "    }\n",
       "\n",
       "    .dataframe tbody tr th {\n",
       "        vertical-align: top;\n",
       "    }\n",
       "\n",
       "    .dataframe thead th {\n",
       "        text-align: right;\n",
       "    }\n",
       "</style>\n",
       "<table border=\"1\" class=\"dataframe\">\n",
       "  <thead>\n",
       "    <tr style=\"text-align: right;\">\n",
       "      <th></th>\n",
       "      <th>Unnamed: 0</th>\n",
       "      <th>overall</th>\n",
       "      <th>reviewerID</th>\n",
       "      <th>asin</th>\n",
       "      <th>unixReviewTime</th>\n",
       "    </tr>\n",
       "  </thead>\n",
       "  <tbody>\n",
       "    <tr>\n",
       "      <th>0</th>\n",
       "      <td>1425280</td>\n",
       "      <td>2.0</td>\n",
       "      <td>AMFPAS8VMIDGJ</td>\n",
       "      <td>B002B3YCQM</td>\n",
       "      <td>1422057600</td>\n",
       "    </tr>\n",
       "    <tr>\n",
       "      <th>1</th>\n",
       "      <td>4253927</td>\n",
       "      <td>4.0</td>\n",
       "      <td>ABID49T47BLBF</td>\n",
       "      <td>B00JXXXOS0</td>\n",
       "      <td>1512259200</td>\n",
       "    </tr>\n",
       "    <tr>\n",
       "      <th>2</th>\n",
       "      <td>3395176</td>\n",
       "      <td>5.0</td>\n",
       "      <td>A2IQGDEA5FONCT</td>\n",
       "      <td>B00CSQYVWM</td>\n",
       "      <td>1411516800</td>\n",
       "    </tr>\n",
       "    <tr>\n",
       "      <th>3</th>\n",
       "      <td>1421371</td>\n",
       "      <td>4.0</td>\n",
       "      <td>A29GIVFYIGNM79</td>\n",
       "      <td>B002AF5184</td>\n",
       "      <td>1354665600</td>\n",
       "    </tr>\n",
       "    <tr>\n",
       "      <th>4</th>\n",
       "      <td>2768360</td>\n",
       "      <td>5.0</td>\n",
       "      <td>A1MPC88C5RBO91</td>\n",
       "      <td>B008LTBM6S</td>\n",
       "      <td>1451952000</td>\n",
       "    </tr>\n",
       "    <tr>\n",
       "      <th>...</th>\n",
       "      <td>...</td>\n",
       "      <td>...</td>\n",
       "      <td>...</td>\n",
       "      <td>...</td>\n",
       "      <td>...</td>\n",
       "    </tr>\n",
       "    <tr>\n",
       "      <th>235881</th>\n",
       "      <td>2741767</td>\n",
       "      <td>5.0</td>\n",
       "      <td>A28FXEB3VIG8DU</td>\n",
       "      <td>B008DBI5RI</td>\n",
       "      <td>1360108800</td>\n",
       "    </tr>\n",
       "    <tr>\n",
       "      <th>235882</th>\n",
       "      <td>3967102</td>\n",
       "      <td>5.0</td>\n",
       "      <td>A1MGUMKNMC5DL5</td>\n",
       "      <td>B00HNDCWQM</td>\n",
       "      <td>1464998400</td>\n",
       "    </tr>\n",
       "    <tr>\n",
       "      <th>235883</th>\n",
       "      <td>1020058</td>\n",
       "      <td>5.0</td>\n",
       "      <td>A237SN14B2I5AX</td>\n",
       "      <td>B0014KQ4NM</td>\n",
       "      <td>1425513600</td>\n",
       "    </tr>\n",
       "    <tr>\n",
       "      <th>235884</th>\n",
       "      <td>3661069</td>\n",
       "      <td>3.0</td>\n",
       "      <td>A3VUQ1W0WOQAX4</td>\n",
       "      <td>B00EPCNB96</td>\n",
       "      <td>1446336000</td>\n",
       "    </tr>\n",
       "    <tr>\n",
       "      <th>235885</th>\n",
       "      <td>363914</td>\n",
       "      <td>5.0</td>\n",
       "      <td>A388ZBL9XCJ1FC</td>\n",
       "      <td>B0009N8SMK</td>\n",
       "      <td>1473984000</td>\n",
       "    </tr>\n",
       "  </tbody>\n",
       "</table>\n",
       "<p>235886 rows × 5 columns</p>\n",
       "</div>"
      ],
      "text/plain": [
       "        Unnamed: 0  overall      reviewerID        asin  unixReviewTime\n",
       "0          1425280      2.0   AMFPAS8VMIDGJ  B002B3YCQM      1422057600\n",
       "1          4253927      4.0   ABID49T47BLBF  B00JXXXOS0      1512259200\n",
       "2          3395176      5.0  A2IQGDEA5FONCT  B00CSQYVWM      1411516800\n",
       "3          1421371      4.0  A29GIVFYIGNM79  B002AF5184      1354665600\n",
       "4          2768360      5.0  A1MPC88C5RBO91  B008LTBM6S      1451952000\n",
       "...            ...      ...             ...         ...             ...\n",
       "235881     2741767      5.0  A28FXEB3VIG8DU  B008DBI5RI      1360108800\n",
       "235882     3967102      5.0  A1MGUMKNMC5DL5  B00HNDCWQM      1464998400\n",
       "235883     1020058      5.0  A237SN14B2I5AX  B0014KQ4NM      1425513600\n",
       "235884     3661069      3.0  A3VUQ1W0WOQAX4  B00EPCNB96      1446336000\n",
       "235885      363914      5.0  A388ZBL9XCJ1FC  B0009N8SMK      1473984000\n",
       "\n",
       "[235886 rows x 5 columns]"
      ]
     },
     "execution_count": 37,
     "metadata": {},
     "output_type": "execute_result"
    }
   ],
   "source": [
    "ratings"
   ]
  },
  {
   "cell_type": "code",
   "execution_count": 40,
   "metadata": {
    "id": "8-896pEZMt43"
   },
   "outputs": [],
   "source": [
    "ratings = pd.DataFrame(ratings)\n",
    "overall_group= ratings.groupby('overall')\n",
    "rating_5= overall_group.get_group(5.0)\n",
    "count_five = len(rating_5)\n",
    "def oversampling(subset):\n",
    "    count = len(subset)\n",
    "    n=int(count_five/count)\n",
    "    return (n)"
   ]
  },
  {
   "cell_type": "code",
   "execution_count": 41,
   "metadata": {
    "id": "TMUX3XW7Mt8V"
   },
   "outputs": [],
   "source": [
    "n1 = overall_group.get_group(1.0)\n",
    "one_rating = overall_group.get_group(1.0)\n",
    "rat_1= pd.concat([one_rating]*oversampling(one_rating),ignore_index=True)\n",
    "\n",
    "n2 = overall_group.get_group(1.0)\n",
    "two_rating = overall_group.get_group(2.0)\n",
    "rat_2= pd.concat([two_rating]*oversampling(two_rating),ignore_index=True)\n",
    "\n",
    "n3 = overall_group.get_group(1.0)\n",
    "three_rating = overall_group.get_group(3.0)\n",
    "rat_3= pd.concat([three_rating]*oversampling(three_rating),ignore_index=True)\n",
    "\n",
    "n4 = overall_group.get_group(1.0)\n",
    "four_rating = overall_group.get_group(4.0)\n",
    "rat_4= pd.concat([four_rating]*oversampling(four_rating),ignore_index=True)\n",
    "\n",
    "rat_5=rating_5"
   ]
  },
  {
   "cell_type": "code",
   "execution_count": 42,
   "metadata": {
    "colab": {
     "base_uri": "https://localhost:8080/",
     "height": 417
    },
    "id": "jrhsTho_Mt_w",
    "outputId": "31962ded-7247-48e1-8f98-48c75a18fc86"
   },
   "outputs": [
    {
     "data": {
      "text/html": [
       "<div>\n",
       "<style scoped>\n",
       "    .dataframe tbody tr th:only-of-type {\n",
       "        vertical-align: middle;\n",
       "    }\n",
       "\n",
       "    .dataframe tbody tr th {\n",
       "        vertical-align: top;\n",
       "    }\n",
       "\n",
       "    .dataframe thead th {\n",
       "        text-align: right;\n",
       "    }\n",
       "</style>\n",
       "<table border=\"1\" class=\"dataframe\">\n",
       "  <thead>\n",
       "    <tr style=\"text-align: right;\">\n",
       "      <th></th>\n",
       "      <th>Unnamed: 0</th>\n",
       "      <th>overall</th>\n",
       "      <th>reviewerID</th>\n",
       "      <th>asin</th>\n",
       "      <th>unixReviewTime</th>\n",
       "    </tr>\n",
       "  </thead>\n",
       "  <tbody>\n",
       "    <tr>\n",
       "      <th>72720</th>\n",
       "      <td>3529590</td>\n",
       "      <td>5.0</td>\n",
       "      <td>A7OHA5SK5F0MD</td>\n",
       "      <td>B00DSUTX3O</td>\n",
       "      <td>1472256000</td>\n",
       "    </tr>\n",
       "    <tr>\n",
       "      <th>102301</th>\n",
       "      <td>4492216</td>\n",
       "      <td>1.0</td>\n",
       "      <td>A2CH61FZ4UCCG</td>\n",
       "      <td>B00M48154Q</td>\n",
       "      <td>1448755200</td>\n",
       "    </tr>\n",
       "    <tr>\n",
       "      <th>120483</th>\n",
       "      <td>2872009</td>\n",
       "      <td>2.0</td>\n",
       "      <td>A3PZ4QFHHU33B9</td>\n",
       "      <td>B0098O9TB0</td>\n",
       "      <td>1353888000</td>\n",
       "    </tr>\n",
       "    <tr>\n",
       "      <th>66976</th>\n",
       "      <td>5624443</td>\n",
       "      <td>4.0</td>\n",
       "      <td>AV1K506BMOSPC</td>\n",
       "      <td>B016C6Z1QS</td>\n",
       "      <td>1463270400</td>\n",
       "    </tr>\n",
       "    <tr>\n",
       "      <th>99012</th>\n",
       "      <td>1814200</td>\n",
       "      <td>5.0</td>\n",
       "      <td>AW8PGP1KBTDPW</td>\n",
       "      <td>B004B8GF7Y</td>\n",
       "      <td>1514505600</td>\n",
       "    </tr>\n",
       "    <tr>\n",
       "      <th>...</th>\n",
       "      <td>...</td>\n",
       "      <td>...</td>\n",
       "      <td>...</td>\n",
       "      <td>...</td>\n",
       "      <td>...</td>\n",
       "    </tr>\n",
       "    <tr>\n",
       "      <th>107852</th>\n",
       "      <td>5714937</td>\n",
       "      <td>4.0</td>\n",
       "      <td>A2JHO2LMM7E43O</td>\n",
       "      <td>B0187QWABA</td>\n",
       "      <td>1454976000</td>\n",
       "    </tr>\n",
       "    <tr>\n",
       "      <th>95085</th>\n",
       "      <td>2844689</td>\n",
       "      <td>3.0</td>\n",
       "      <td>AZN5T24NWUOM2</td>\n",
       "      <td>B0094R4Q6Y</td>\n",
       "      <td>1376438400</td>\n",
       "    </tr>\n",
       "    <tr>\n",
       "      <th>205584</th>\n",
       "      <td>219267</td>\n",
       "      <td>5.0</td>\n",
       "      <td>A96AU8QHOXW41</td>\n",
       "      <td>B0001FTVEA</td>\n",
       "      <td>1446422400</td>\n",
       "    </tr>\n",
       "    <tr>\n",
       "      <th>108790</th>\n",
       "      <td>2713396</td>\n",
       "      <td>1.0</td>\n",
       "      <td>AJRRIGZ7M4K3N</td>\n",
       "      <td>B0083XOZIE</td>\n",
       "      <td>1453161600</td>\n",
       "    </tr>\n",
       "    <tr>\n",
       "      <th>190022</th>\n",
       "      <td>3538809</td>\n",
       "      <td>5.0</td>\n",
       "      <td>A2AZPBHS4H3OLK</td>\n",
       "      <td>B00DV56J9W</td>\n",
       "      <td>1411776000</td>\n",
       "    </tr>\n",
       "  </tbody>\n",
       "</table>\n",
       "<p>709515 rows × 5 columns</p>\n",
       "</div>"
      ],
      "text/plain": [
       "        Unnamed: 0  overall      reviewerID        asin  unixReviewTime\n",
       "72720      3529590      5.0   A7OHA5SK5F0MD  B00DSUTX3O      1472256000\n",
       "102301     4492216      1.0   A2CH61FZ4UCCG  B00M48154Q      1448755200\n",
       "120483     2872009      2.0  A3PZ4QFHHU33B9  B0098O9TB0      1353888000\n",
       "66976      5624443      4.0   AV1K506BMOSPC  B016C6Z1QS      1463270400\n",
       "99012      1814200      5.0   AW8PGP1KBTDPW  B004B8GF7Y      1514505600\n",
       "...            ...      ...             ...         ...             ...\n",
       "107852     5714937      4.0  A2JHO2LMM7E43O  B0187QWABA      1454976000\n",
       "95085      2844689      3.0   AZN5T24NWUOM2  B0094R4Q6Y      1376438400\n",
       "205584      219267      5.0   A96AU8QHOXW41  B0001FTVEA      1446422400\n",
       "108790     2713396      1.0   AJRRIGZ7M4K3N  B0083XOZIE      1453161600\n",
       "190022     3538809      5.0  A2AZPBHS4H3OLK  B00DV56J9W      1411776000\n",
       "\n",
       "[709515 rows x 5 columns]"
      ]
     },
     "execution_count": 42,
     "metadata": {},
     "output_type": "execute_result"
    }
   ],
   "source": [
    "oversampled_data= pd.concat([rat_5,rat_4,rat_3,rat_2,rat_1])\n",
    "oversampled_data= oversampled_data.sample(frac=1,random_state=42)\n",
    "oversampled_data"
   ]
  },
  {
   "cell_type": "code",
   "execution_count": 43,
   "metadata": {
    "id": "O19-7vKlNrN4"
   },
   "outputs": [],
   "source": [
    "ratings=deepcopy(oversampled_data)"
   ]
  },
  {
   "cell_type": "code",
   "execution_count": 44,
   "metadata": {
    "id": "iMpwf8JsNvq9"
   },
   "outputs": [],
   "source": [
    "data = spark.createDataFrame(ratings[['reviewerID', 'asin', 'overall']])\n",
    "indexer = [StringIndexer(inputCol = column, outputCol = column+\"index\") for column in ['asin','reviewerID']]\n",
    "pipeline = Pipeline(stages=indexer)\n",
    "data = pipeline.fit(data).transform(data)"
   ]
  },
  {
   "cell_type": "code",
   "execution_count": 45,
   "metadata": {
    "id": "SgomCQuiN04Y"
   },
   "outputs": [],
   "source": [
    "transformed_train = data.sampleBy(\"overall\", fractions={1: 0.7, 2: 0.7, 3: 0.7,4: 0.7,5: 0.7}, seed=10)\n",
    "transformed_test = data.subtract(transformed_train)"
   ]
  },
  {
   "cell_type": "code",
   "execution_count": 46,
   "metadata": {
    "id": "ee7UmVoGN-5r"
   },
   "outputs": [],
   "source": [
    "transformed_train = transformed_train.withColumnRenamed('overall','label')\n",
    "transformed_test = transformed_test.withColumnRenamed('overall','truelabel')"
   ]
  },
  {
   "cell_type": "code",
   "execution_count": 47,
   "metadata": {
    "id": "4ShaYh0JOWxX"
   },
   "outputs": [],
   "source": [
    "als = ALS(maxIter = 20, regParam = 0.05 ,userCol = 'reviewerIDindex', itemCol = 'asinindex', ratingCol = 'label', coldStartStrategy='drop', nonnegative=True)\n",
    "model = als.fit(transformed_train)"
   ]
  },
  {
   "cell_type": "code",
   "execution_count": 48,
   "metadata": {
    "id": "c5ImR9gzOK9Y"
   },
   "outputs": [],
   "source": [
    "prediction = model.transform(transformed_test)"
   ]
  },
  {
   "cell_type": "code",
   "execution_count": 49,
   "metadata": {
    "colab": {
     "base_uri": "https://localhost:8080/"
    },
    "id": "hNIDHWEmOdTD",
    "outputId": "40ffb4ae-3824-44b7-9c44-8765e0ceb207"
   },
   "outputs": [
    {
     "name": "stdout",
     "output_type": "stream",
     "text": [
      "Root Mean Square Error(RMSE): 3.0385104122500057\n"
     ]
    }
   ],
   "source": [
    "evaluator = RegressionEvaluator(labelCol='truelabel',predictionCol='prediction', metricName='rmse')\n",
    "rmse = evaluator.evaluate(prediction)\n",
    "print(\"Root Mean Square Error(RMSE):\", rmse)"
   ]
  },
  {
   "cell_type": "code",
   "execution_count": null,
   "metadata": {
    "id": "gCXLJjIlXq93"
   },
   "outputs": [],
   "source": [
    "ratings=deepcopy(oversampled_data)"
   ]
  },
  {
   "cell_type": "code",
   "execution_count": 59,
   "metadata": {
    "colab": {
     "base_uri": "https://localhost:8080/"
    },
    "id": "VXvZsqUfXTpu",
    "outputId": "e3f121c1-95a2-45fc-f186-3f61c0caf7fa"
   },
   "outputs": [
    {
     "name": "stdout",
     "output_type": "stream",
     "text": [
      "Root Mean Square Error(RMSE): 3.0230930560512514\n",
      "Root Mean Square Error(RMSE): 2.9090700792942457\n",
      "Root Mean Square Error(RMSE): 2.7957996530087845\n",
      "Root Mean Square Error(RMSE): 2.831194694468269\n",
      "Root Mean Square Error(RMSE): 2.733906883954285\n",
      "Root Mean Square Error(RMSE): 2.7884974675213003\n",
      "Root Mean Square Error(RMSE): 2.729394907450461\n",
      "Root Mean Square Error(RMSE): 2.7799809264969984\n",
      "Root Mean Square Error(RMSE): 2.743637990122706\n",
      "Root Mean Square Error(RMSE): 2.7330139304216607\n",
      "Root Mean Square Error(RMSE): 2.6110748845869636\n",
      "Root Mean Square Error(RMSE): 2.655002238753126\n",
      "Root Mean Square Error(RMSE): 2.592503661966842\n",
      "Root Mean Square Error(RMSE): 2.634273783277959\n",
      "Root Mean Square Error(RMSE): 2.605188052133095\n",
      "Root Mean Square Error(RMSE): 2.6411409419420773\n",
      "Root Mean Square Error(RMSE): 2.62631438882234\n",
      "Root Mean Square Error(RMSE): 2.6420169605755777\n",
      "Root Mean Square Error(RMSE): 2.5437374186184387\n",
      "Root Mean Square Error(RMSE): 2.579403702501116\n",
      "Root Mean Square Error(RMSE): 2.5427202669516302\n",
      "Root Mean Square Error(RMSE): 2.57355738570143\n",
      "Root Mean Square Error(RMSE): 2.5588604669528245\n",
      "Root Mean Square Error(RMSE): 2.58576340992324\n"
     ]
    }
   ],
   "source": [
    "# Tuning the parameters to find the minimum RMSE value by optimizing iterations and regular parameters\n",
    "Score=[]\n",
    "maxIter=[5,10,15]\n",
    "regParam=[0.10,0.20,0.30,0.40]\n",
    "rank=[5,10]\n",
    "for j in maxIter:\n",
    "    for i in regParam:\n",
    "        for k in rank:\n",
    "        \n",
    "            als = ALS(rank=k, maxIter = j, regParam = i, userCol = 'reviewerIDindex', itemCol = 'asinindex', ratingCol = 'label', coldStartStrategy='drop', nonnegative=True)\n",
    "            model = als.fit(transformed_train)\n",
    "            prediction = model.transform(transformed_test)\n",
    "            #prediction.show(n=5, truncate = False)\n",
    "\n",
    "            evaluator = RegressionEvaluator(labelCol='truelabel',predictionCol='prediction', metricName='rmse')\n",
    "            rmse = evaluator.evaluate(prediction)\n",
    "            print(\"Root Mean Square Error(RMSE):\", rmse)\n",
    "            l=[]\n",
    "            l.append(j)\n",
    "            l.append(i)\n",
    "            l.append(rmse)\n",
    "            l.append(k)\n",
    "            Score.append(l)"
   ]
  },
  {
   "cell_type": "code",
   "execution_count": 60,
   "metadata": {
    "id": "xFCkZtAsY7Al"
   },
   "outputs": [],
   "source": [
    "score=[]\n",
    "for i in range(len(Score)):\n",
    "    score.append(Score[i][2])\n",
    "\n",
    "min_Score=min(score)\n",
    "for i in range(len(Score)):\n",
    "    if Score[i][2]==min_Score:\n",
    "        iter=Score[i][0]\n",
    "        para=Score[i][1]\n",
    "        rank=Score[i][3]\n",
    "r=rank"
   ]
  },
  {
   "cell_type": "code",
   "execution_count": null,
   "metadata": {
    "id": "jaTs3-l1Y1_N"
   },
   "outputs": [],
   "source": [
    "def reco_user(id):\n",
    "    temp_df = prediction.filter(prediction[\"reviewerID\"] == id)\n",
    "    temp_df = temp_df.sort(\"prediction\", ascending=False)\n",
    "    temp_df.show(n= 5, truncate = False)"
   ]
  },
  {
   "cell_type": "code",
   "execution_count": null,
   "metadata": {
    "colab": {
     "base_uri": "https://localhost:8080/"
    },
    "id": "a3m7qy70ZIF8",
    "outputId": "0658ba5c-23fb-444d-c450-9eecfb4ef4b5"
   },
   "outputs": [
    {
     "name": "stdout",
     "output_type": "stream",
     "text": [
      "+--------------+----------+---------+---------+---------------+----------+\n",
      "|reviewerID    |asin      |truelabel|asinindex|reviewerIDindex|prediction|\n",
      "+--------------+----------+---------+---------+---------------+----------+\n",
      "|A333636QFPT073|B00B3P15M8|5.0      |148.0    |15130.0        |2.1763065 |\n",
      "+--------------+----------+---------+---------+---------------+----------+\n",
      "\n"
     ]
    }
   ],
   "source": [
    "reco_user(\"A333636QFPT073\")"
   ]
  },
  {
   "cell_type": "code",
   "execution_count": 61,
   "metadata": {
    "id": "k31T8dqfZPnv"
   },
   "outputs": [],
   "source": [
    "url2='/content/drive/MyDrive/dataset/meta_amazon_electronic_subset.csv'"
   ]
  },
  {
   "cell_type": "code",
   "execution_count": 62,
   "metadata": {
    "id": "bfFOv8S2Ztz8"
   },
   "outputs": [],
   "source": [
    "df_metadata = pd.read_csv(url2)"
   ]
  },
  {
   "cell_type": "code",
   "execution_count": null,
   "metadata": {
    "colab": {
     "base_uri": "https://localhost:8080/",
     "height": 417
    },
    "id": "JuN_MwH_Z9ZH",
    "outputId": "8381fe3a-16b3-4c29-ff19-7796b5751096"
   },
   "outputs": [
    {
     "data": {
      "text/html": [
       "<div>\n",
       "<style scoped>\n",
       "    .dataframe tbody tr th:only-of-type {\n",
       "        vertical-align: middle;\n",
       "    }\n",
       "\n",
       "    .dataframe tbody tr th {\n",
       "        vertical-align: top;\n",
       "    }\n",
       "\n",
       "    .dataframe thead th {\n",
       "        text-align: right;\n",
       "    }\n",
       "</style>\n",
       "<table border=\"1\" class=\"dataframe\">\n",
       "  <thead>\n",
       "    <tr style=\"text-align: right;\">\n",
       "      <th></th>\n",
       "      <th>Unnamed: 0</th>\n",
       "      <th>asin</th>\n",
       "      <th>category</th>\n",
       "      <th>title</th>\n",
       "    </tr>\n",
       "  </thead>\n",
       "  <tbody>\n",
       "    <tr>\n",
       "      <th>0</th>\n",
       "      <td>24</td>\n",
       "      <td>B002B3YCQM</td>\n",
       "      <td>['Electronics', 'Computers &amp; Accessories', 'Co...</td>\n",
       "      <td>Logitech M500 Corded Mouse &amp;ndash; Wired USB M...</td>\n",
       "    </tr>\n",
       "    <tr>\n",
       "      <th>1</th>\n",
       "      <td>25</td>\n",
       "      <td>B00JXXXOS0</td>\n",
       "      <td>['Electronics', 'Television &amp; Video', 'DVD Pla...</td>\n",
       "      <td>Panasonic All Multi Region Code Zone Free PAL/...</td>\n",
       "    </tr>\n",
       "    <tr>\n",
       "      <th>2</th>\n",
       "      <td>35</td>\n",
       "      <td>B00CSQYVWM</td>\n",
       "      <td>['Electronics', 'Camera &amp; Photo', 'Underwater ...</td>\n",
       "      <td>GoPro HERO3 Skeleton Housing</td>\n",
       "    </tr>\n",
       "    <tr>\n",
       "      <th>3</th>\n",
       "      <td>44</td>\n",
       "      <td>B002AF5184</td>\n",
       "      <td>['Electronics', 'Portable Audio &amp; Video', 'MP3...</td>\n",
       "      <td>CrazyOnDigital Premium Black Leather Case Appl...</td>\n",
       "    </tr>\n",
       "    <tr>\n",
       "      <th>4</th>\n",
       "      <td>115</td>\n",
       "      <td>B008LTBM6S</td>\n",
       "      <td>['Electronics', 'Computers &amp; Accessories', 'Co...</td>\n",
       "      <td>Crucial 4GB Single DDR3/DDR3L 1600 MT/s (PC3-1...</td>\n",
       "    </tr>\n",
       "    <tr>\n",
       "      <th>...</th>\n",
       "      <td>...</td>\n",
       "      <td>...</td>\n",
       "      <td>...</td>\n",
       "      <td>...</td>\n",
       "    </tr>\n",
       "    <tr>\n",
       "      <th>72994</th>\n",
       "      <td>246840</td>\n",
       "      <td>B0048ABG6A</td>\n",
       "      <td>['Electronics', 'Camera &amp; Photo', 'Accessories...</td>\n",
       "      <td>Fotodiox Pro Lens Mount Adapter - Canon FD &amp;am...</td>\n",
       "    </tr>\n",
       "    <tr>\n",
       "      <th>72995</th>\n",
       "      <td>246841</td>\n",
       "      <td>B004WI867K</td>\n",
       "      <td>['Electronics', 'Computers &amp; Accessories', 'La...</td>\n",
       "      <td>Cosmos &amp;reg; Brown PU/synthetic/faux leather 1...</td>\n",
       "    </tr>\n",
       "    <tr>\n",
       "      <th>72996</th>\n",
       "      <td>246842</td>\n",
       "      <td>B01E5ITE2W</td>\n",
       "      <td>['Electronics', 'Computers &amp; Accessories', 'Co...</td>\n",
       "      <td>REDGO Video Audio VHS VCR USB Video Capture Ca...</td>\n",
       "    </tr>\n",
       "    <tr>\n",
       "      <th>72997</th>\n",
       "      <td>246843</td>\n",
       "      <td>B008XI59K2</td>\n",
       "      <td>['Electronics', 'Computers &amp; Accessories', 'La...</td>\n",
       "      <td>HP 2000 2000-2C29WM 2000-2B19WM 693711-001 677...</td>\n",
       "    </tr>\n",
       "    <tr>\n",
       "      <th>72998</th>\n",
       "      <td>246844</td>\n",
       "      <td>B00HNDCWQM</td>\n",
       "      <td>['Electronics', 'Accessories &amp; Supplies', 'Aud...</td>\n",
       "      <td>Fosmon 3 RCA Male to 3 RCA Male Stereo Audio C...</td>\n",
       "    </tr>\n",
       "  </tbody>\n",
       "</table>\n",
       "<p>72999 rows × 4 columns</p>\n",
       "</div>"
      ],
      "text/plain": [
       "       Unnamed: 0  ...                                              title\n",
       "0              24  ...  Logitech M500 Corded Mouse &ndash; Wired USB M...\n",
       "1              25  ...  Panasonic All Multi Region Code Zone Free PAL/...\n",
       "2              35  ...                       GoPro HERO3 Skeleton Housing\n",
       "3              44  ...  CrazyOnDigital Premium Black Leather Case Appl...\n",
       "4             115  ...  Crucial 4GB Single DDR3/DDR3L 1600 MT/s (PC3-1...\n",
       "...           ...  ...                                                ...\n",
       "72994      246840  ...  Fotodiox Pro Lens Mount Adapter - Canon FD &am...\n",
       "72995      246841  ...  Cosmos &reg; Brown PU/synthetic/faux leather 1...\n",
       "72996      246842  ...  REDGO Video Audio VHS VCR USB Video Capture Ca...\n",
       "72997      246843  ...  HP 2000 2000-2C29WM 2000-2B19WM 693711-001 677...\n",
       "72998      246844  ...  Fosmon 3 RCA Male to 3 RCA Male Stereo Audio C...\n",
       "\n",
       "[72999 rows x 4 columns]"
      ]
     },
     "execution_count": 30,
     "metadata": {},
     "output_type": "execute_result"
    }
   ],
   "source": [
    "df_metadata"
   ]
  },
  {
   "cell_type": "code",
   "execution_count": 63,
   "metadata": {
    "id": "K9Lf972daEMv"
   },
   "outputs": [],
   "source": [
    "prod = deepcopy(df_metadata)\n",
    "prod = prod[['asin', 'title', 'category']]"
   ]
  },
  {
   "cell_type": "code",
   "execution_count": 64,
   "metadata": {
    "id": "5oMrKfMnaLV5"
   },
   "outputs": [],
   "source": [
    "prod_title=prod[['asin', 'title']]"
   ]
  },
  {
   "cell_type": "code",
   "execution_count": null,
   "metadata": {
    "colab": {
     "base_uri": "https://localhost:8080/",
     "height": 417
    },
    "id": "HqcSFaabaQMf",
    "outputId": "25cbbf4a-995a-4c82-db02-46b61620c4a5"
   },
   "outputs": [
    {
     "data": {
      "text/html": [
       "<div>\n",
       "<style scoped>\n",
       "    .dataframe tbody tr th:only-of-type {\n",
       "        vertical-align: middle;\n",
       "    }\n",
       "\n",
       "    .dataframe tbody tr th {\n",
       "        vertical-align: top;\n",
       "    }\n",
       "\n",
       "    .dataframe thead th {\n",
       "        text-align: right;\n",
       "    }\n",
       "</style>\n",
       "<table border=\"1\" class=\"dataframe\">\n",
       "  <thead>\n",
       "    <tr style=\"text-align: right;\">\n",
       "      <th></th>\n",
       "      <th>asin</th>\n",
       "      <th>title</th>\n",
       "      <th>category</th>\n",
       "    </tr>\n",
       "  </thead>\n",
       "  <tbody>\n",
       "    <tr>\n",
       "      <th>0</th>\n",
       "      <td>B002B3YCQM</td>\n",
       "      <td>Logitech M500 Corded Mouse &amp;ndash; Wired USB M...</td>\n",
       "      <td>['Electronics', 'Computers &amp; Accessories', 'Co...</td>\n",
       "    </tr>\n",
       "    <tr>\n",
       "      <th>1</th>\n",
       "      <td>B00JXXXOS0</td>\n",
       "      <td>Panasonic All Multi Region Code Zone Free PAL/...</td>\n",
       "      <td>['Electronics', 'Television &amp; Video', 'DVD Pla...</td>\n",
       "    </tr>\n",
       "    <tr>\n",
       "      <th>2</th>\n",
       "      <td>B00CSQYVWM</td>\n",
       "      <td>GoPro HERO3 Skeleton Housing</td>\n",
       "      <td>['Electronics', 'Camera &amp; Photo', 'Underwater ...</td>\n",
       "    </tr>\n",
       "    <tr>\n",
       "      <th>3</th>\n",
       "      <td>B002AF5184</td>\n",
       "      <td>CrazyOnDigital Premium Black Leather Case Appl...</td>\n",
       "      <td>['Electronics', 'Portable Audio &amp; Video', 'MP3...</td>\n",
       "    </tr>\n",
       "    <tr>\n",
       "      <th>4</th>\n",
       "      <td>B008LTBM6S</td>\n",
       "      <td>Crucial 4GB Single DDR3/DDR3L 1600 MT/s (PC3-1...</td>\n",
       "      <td>['Electronics', 'Computers &amp; Accessories', 'Co...</td>\n",
       "    </tr>\n",
       "    <tr>\n",
       "      <th>...</th>\n",
       "      <td>...</td>\n",
       "      <td>...</td>\n",
       "      <td>...</td>\n",
       "    </tr>\n",
       "    <tr>\n",
       "      <th>72994</th>\n",
       "      <td>B0048ABG6A</td>\n",
       "      <td>Fotodiox Pro Lens Mount Adapter - Canon FD &amp;am...</td>\n",
       "      <td>['Electronics', 'Camera &amp; Photo', 'Accessories...</td>\n",
       "    </tr>\n",
       "    <tr>\n",
       "      <th>72995</th>\n",
       "      <td>B004WI867K</td>\n",
       "      <td>Cosmos &amp;reg; Brown PU/synthetic/faux leather 1...</td>\n",
       "      <td>['Electronics', 'Computers &amp; Accessories', 'La...</td>\n",
       "    </tr>\n",
       "    <tr>\n",
       "      <th>72996</th>\n",
       "      <td>B01E5ITE2W</td>\n",
       "      <td>REDGO Video Audio VHS VCR USB Video Capture Ca...</td>\n",
       "      <td>['Electronics', 'Computers &amp; Accessories', 'Co...</td>\n",
       "    </tr>\n",
       "    <tr>\n",
       "      <th>72997</th>\n",
       "      <td>B008XI59K2</td>\n",
       "      <td>HP 2000 2000-2C29WM 2000-2B19WM 693711-001 677...</td>\n",
       "      <td>['Electronics', 'Computers &amp; Accessories', 'La...</td>\n",
       "    </tr>\n",
       "    <tr>\n",
       "      <th>72998</th>\n",
       "      <td>B00HNDCWQM</td>\n",
       "      <td>Fosmon 3 RCA Male to 3 RCA Male Stereo Audio C...</td>\n",
       "      <td>['Electronics', 'Accessories &amp; Supplies', 'Aud...</td>\n",
       "    </tr>\n",
       "  </tbody>\n",
       "</table>\n",
       "<p>72999 rows × 3 columns</p>\n",
       "</div>"
      ],
      "text/plain": [
       "             asin  ...                                           category\n",
       "0      B002B3YCQM  ...  ['Electronics', 'Computers & Accessories', 'Co...\n",
       "1      B00JXXXOS0  ...  ['Electronics', 'Television & Video', 'DVD Pla...\n",
       "2      B00CSQYVWM  ...  ['Electronics', 'Camera & Photo', 'Underwater ...\n",
       "3      B002AF5184  ...  ['Electronics', 'Portable Audio & Video', 'MP3...\n",
       "4      B008LTBM6S  ...  ['Electronics', 'Computers & Accessories', 'Co...\n",
       "...           ...  ...                                                ...\n",
       "72994  B0048ABG6A  ...  ['Electronics', 'Camera & Photo', 'Accessories...\n",
       "72995  B004WI867K  ...  ['Electronics', 'Computers & Accessories', 'La...\n",
       "72996  B01E5ITE2W  ...  ['Electronics', 'Computers & Accessories', 'Co...\n",
       "72997  B008XI59K2  ...  ['Electronics', 'Computers & Accessories', 'La...\n",
       "72998  B00HNDCWQM  ...  ['Electronics', 'Accessories & Supplies', 'Aud...\n",
       "\n",
       "[72999 rows x 3 columns]"
      ]
     },
     "execution_count": 33,
     "metadata": {},
     "output_type": "execute_result"
    }
   ],
   "source": [
    "prod"
   ]
  },
  {
   "cell_type": "code",
   "execution_count": 65,
   "metadata": {
    "id": "SO6hJY-NaUA_"
   },
   "outputs": [],
   "source": [
    "from pyspark.sql import SparkSession\n",
    "#Create PySpark SparkSession\n",
    "spark = SparkSession.builder.getOrCreate()\n",
    "sparkDF=spark.createDataFrame(prod.astype(str))"
   ]
  },
  {
   "cell_type": "code",
   "execution_count": 66,
   "metadata": {
    "id": "PJ7xPzbyaeAq"
   },
   "outputs": [],
   "source": [
    "jdf = prediction.join(sparkDF,prediction[\"asin\"] ==  sparkDF[\"asin\"],\"inner\")"
   ]
  },
  {
   "cell_type": "code",
   "execution_count": null,
   "metadata": {
    "colab": {
     "base_uri": "https://localhost:8080/"
    },
    "id": "VR9Ctcicaima",
    "outputId": "5190e6d9-2269-4edb-f388-7b3edd084247"
   },
   "outputs": [
    {
     "name": "stdout",
     "output_type": "stream",
     "text": [
      "+--------------+----------+---------+---------+---------------+----------+----------+----------------------------------------------------------------------------------------------------------------------------+---------------------------------------------------------------------------------------------+\n",
      "|reviewerID    |asin      |truelabel|asinindex|reviewerIDindex|prediction|asin      |title                                                                                                                       |category                                                                                     |\n",
      "+--------------+----------+---------+---------+---------------+----------+----------+----------------------------------------------------------------------------------------------------------------------------+---------------------------------------------------------------------------------------------+\n",
      "|AAI87VMTG3EX7 |980035977X|3.0      |9210.0   |28878.0        |4.690188  |980035977X|TP-LINK TL-PS110U Single USB2.0 port fast ethernet Print Server, supports E-mail Alert, Internet Printing Protocol (IPP) SMB|['Electronics', 'Computers &amp; Accessories', 'Networking Products', 'Print Servers']       |\n",
      "|A2NBYRL2L9M5J5|980035977X|1.0      |9210.0   |50714.0        |1.8059065 |980035977X|TP-LINK TL-PS110U Single USB2.0 port fast ethernet Print Server, supports E-mail Alert, Internet Printing Protocol (IPP) SMB|['Electronics', 'Computers &amp; Accessories', 'Networking Products', 'Print Servers']       |\n",
      "|A306NASGVUDFKF|B00005Q5U5|5.0      |16222.0  |23467.0        |3.8732166 |B00005Q5U5|Canon PowerShot G2 4MP Digital Camera w/ 3x Optical Zoom                                                                    |['Electronics', 'Camera &amp; Photo', 'Digital Cameras', 'Point &amp; Shoot Digital Cameras']|\n",
      "|A20NUW4T1DB7UQ|B000083GPS|1.0      |19884.0  |34564.0        |2.1833065 |B000083GPS|Tivoli Audio Model CD Player, Cherry/Metallic Taupe                                                                         |['Electronics', 'Home Audio', 'Stereo System Components', 'CD & Tape Players', 'CD Players'] |\n",
      "|A376C7DL69TCQ5|B00008ZPN3|1.0      |21911.0  |54685.0        |1.6706269 |B00008ZPN3|Nikon N75 35mm SLR Camera (Body Only)                                                                                       |['Electronics', 'Camera & Photo', 'Film Photography', 'Film Cameras', 'SLR Cameras']         |\n",
      "+--------------+----------+---------+---------+---------------+----------+----------+----------------------------------------------------------------------------------------------------------------------------+---------------------------------------------------------------------------------------------+\n",
      "only showing top 5 rows\n",
      "\n"
     ]
    }
   ],
   "source": [
    "jdf.show(n=5,truncate=False)"
   ]
  },
  {
   "cell_type": "code",
   "execution_count": 67,
   "metadata": {
    "id": "Lz5VvEN7bGMO"
   },
   "outputs": [],
   "source": [
    "from copy import deepcopy\n",
    "meta_copy=deepcopy(df_metadata)"
   ]
  },
  {
   "cell_type": "code",
   "execution_count": 68,
   "metadata": {
    "id": "O4K3F-GFbJwC"
   },
   "outputs": [],
   "source": [
    "meta_copy=meta_copy[['asin','category']]"
   ]
  },
  {
   "cell_type": "code",
   "execution_count": 69,
   "metadata": {
    "colab": {
     "base_uri": "https://localhost:8080/"
    },
    "id": "3XMhvPSLbQNf",
    "outputId": "5e7dc5d1-dc5b-4a36-c6be-bf238aa0e5b7"
   },
   "outputs": [
    {
     "data": {
      "text/plain": [
       "[['B002B3YCQM',\n",
       "  \"['Electronics', 'Computers & Accessories', 'Computer Accessories & Peripherals', 'Keyboards, Mice & Accessories', 'Mice']\"],\n",
       " ['B00JXXXOS0',\n",
       "  \"['Electronics', 'Television & Video', 'DVD Players & Recorders', 'DVD Players']\"],\n",
       " ['B00CSQYVWM',\n",
       "  \"['Electronics', 'Camera & Photo', 'Underwater Photography', 'Housings']\"],\n",
       " ['B002AF5184',\n",
       "  \"['Electronics', 'Portable Audio & Video', 'MP3 & MP4 Player Accessories', 'Cases']\"],\n",
       " ['B008LTBM6S',\n",
       "  \"['Electronics', 'Computers & Accessories', 'Computer Components', 'Internal Components', 'Memory']\"],\n",
       " ['B008422IL0', \"['Electronics', 'Computers & Accessories', 'Data Storage']\"],\n",
       " ['B00IU1R29I',\n",
       "  \"['Electronics', 'Computers & Accessories', 'Computer Accessories & Peripherals', 'Cables & Interconnects']\"],\n",
       " ['B00016W6NC',\n",
       "  \"['Electronics', 'Computers &amp; Accessories', 'Computer Accessories &amp; Peripherals', 'Cables &amp; Interconnects', 'USB Cables']\"],\n",
       " ['B002EL4MFC',\n",
       "  \"['Electronics', 'Computers & Accessories', 'Laptop Accessories', 'Bags, Cases & Sleeves', 'Folio Cases']\"],\n",
       " ['B0000AOWW9',\n",
       "  \"['Electronics', 'Computers &amp; Accessories', 'Computer Accessories &amp; Peripherals', 'Keyboards, Mice &amp; Accessories', 'Mice']\"]]"
      ]
     },
     "execution_count": 69,
     "metadata": {},
     "output_type": "execute_result"
    }
   ],
   "source": [
    "meta_list=meta_copy.values.tolist()\n",
    "meta_list[:10]"
   ]
  },
  {
   "cell_type": "code",
   "execution_count": null,
   "metadata": {
    "colab": {
     "base_uri": "https://localhost:8080/"
    },
    "id": "VDCdRzRUcLGf",
    "outputId": "7f1f81b1-49a0-4a93-e956-78a06663f5b5"
   },
   "outputs": [
    {
     "data": {
      "text/plain": [
       "str"
      ]
     },
     "execution_count": 51,
     "metadata": {},
     "output_type": "execute_result"
    }
   ],
   "source": [
    "type(meta_list[1][1])"
   ]
  },
  {
   "cell_type": "code",
   "execution_count": null,
   "metadata": {
    "colab": {
     "base_uri": "https://localhost:8080/",
     "height": 35
    },
    "id": "OSdCBEh4dLeT",
    "outputId": "74f4ead6-39d2-4ce9-9836-b52a77c0bbd3"
   },
   "outputs": [
    {
     "data": {
      "application/vnd.google.colaboratory.intrinsic+json": {
       "type": "string"
      },
      "text/plain": [
       "\"['Electronics', 'Television & Video', 'DVD Players & Recorders', 'DVD Players']\""
      ]
     },
     "execution_count": 52,
     "metadata": {},
     "output_type": "execute_result"
    }
   ],
   "source": [
    "meta_list[1][1]"
   ]
  },
  {
   "cell_type": "code",
   "execution_count": 70,
   "metadata": {
    "colab": {
     "base_uri": "https://localhost:8080/"
    },
    "id": "AujcQ4xhc9ja",
    "outputId": "2d6c88b0-3a98-4184-fa78-bdaa3def05ec"
   },
   "outputs": [
    {
     "name": "stdout",
     "output_type": "stream",
     "text": [
      "Electronics, Television & Video, DVD Players & Recorders, DVD Players\n"
     ]
    },
    {
     "data": {
      "text/plain": [
       "['Electronics',\n",
       " ' Television & Video',\n",
       " ' DVD Players & Recorders',\n",
       " ' DVD Players']"
      ]
     },
     "execution_count": 70,
     "metadata": {},
     "output_type": "execute_result"
    }
   ],
   "source": [
    "string=meta_list[1][1]\n",
    "string = string.replace(\"[\", \"\") \n",
    "string = string.replace(\"]\", \"\") \n",
    "string = string.replace(\"\\'\", \"\") \n",
    "print(string)\n",
    "li = list(string.split(\",\"))\n",
    "li"
   ]
  },
  {
   "cell_type": "code",
   "execution_count": 71,
   "metadata": {
    "id": "qSGGE6lGbpX9"
   },
   "outputs": [],
   "source": [
    "category_list=[]\n",
    "for i in range(len(meta_list)):\n",
    "    s=[]\n",
    "    string=meta_list[i][1]\n",
    "    string = string.replace(\"[\", \"\") \n",
    "    string = string.replace(\"]\", \"\") \n",
    "    string = string.replace(\"\\'\", \"\") \n",
    "\n",
    "    li = list(string.split(\",\"))\n",
    "\n",
    "    s.append(meta_list[i][0]) \n",
    "    s.append(li[1])\n",
    "    category_list.append(s)"
   ]
  },
  {
   "cell_type": "code",
   "execution_count": 72,
   "metadata": {
    "id": "Zz5QmCTrbtu_"
   },
   "outputs": [],
   "source": [
    "df_cat_asin=pd.DataFrame(category_list)"
   ]
  },
  {
   "cell_type": "code",
   "execution_count": null,
   "metadata": {
    "colab": {
     "base_uri": "https://localhost:8080/",
     "height": 417
    },
    "id": "PHbI9sESbxjD",
    "outputId": "812615c4-e2e7-4e42-cc62-65d9936812d0"
   },
   "outputs": [
    {
     "data": {
      "text/html": [
       "<div>\n",
       "<style scoped>\n",
       "    .dataframe tbody tr th:only-of-type {\n",
       "        vertical-align: middle;\n",
       "    }\n",
       "\n",
       "    .dataframe tbody tr th {\n",
       "        vertical-align: top;\n",
       "    }\n",
       "\n",
       "    .dataframe thead th {\n",
       "        text-align: right;\n",
       "    }\n",
       "</style>\n",
       "<table border=\"1\" class=\"dataframe\">\n",
       "  <thead>\n",
       "    <tr style=\"text-align: right;\">\n",
       "      <th></th>\n",
       "      <th>0</th>\n",
       "      <th>1</th>\n",
       "    </tr>\n",
       "  </thead>\n",
       "  <tbody>\n",
       "    <tr>\n",
       "      <th>0</th>\n",
       "      <td>B002B3YCQM</td>\n",
       "      <td>Computers &amp; Accessories</td>\n",
       "    </tr>\n",
       "    <tr>\n",
       "      <th>1</th>\n",
       "      <td>B00JXXXOS0</td>\n",
       "      <td>Television &amp; Video</td>\n",
       "    </tr>\n",
       "    <tr>\n",
       "      <th>2</th>\n",
       "      <td>B00CSQYVWM</td>\n",
       "      <td>Camera &amp; Photo</td>\n",
       "    </tr>\n",
       "    <tr>\n",
       "      <th>3</th>\n",
       "      <td>B002AF5184</td>\n",
       "      <td>Portable Audio &amp; Video</td>\n",
       "    </tr>\n",
       "    <tr>\n",
       "      <th>4</th>\n",
       "      <td>B008LTBM6S</td>\n",
       "      <td>Computers &amp; Accessories</td>\n",
       "    </tr>\n",
       "    <tr>\n",
       "      <th>...</th>\n",
       "      <td>...</td>\n",
       "      <td>...</td>\n",
       "    </tr>\n",
       "    <tr>\n",
       "      <th>72994</th>\n",
       "      <td>B0048ABG6A</td>\n",
       "      <td>Camera &amp; Photo</td>\n",
       "    </tr>\n",
       "    <tr>\n",
       "      <th>72995</th>\n",
       "      <td>B004WI867K</td>\n",
       "      <td>Computers &amp; Accessories</td>\n",
       "    </tr>\n",
       "    <tr>\n",
       "      <th>72996</th>\n",
       "      <td>B01E5ITE2W</td>\n",
       "      <td>Computers &amp; Accessories</td>\n",
       "    </tr>\n",
       "    <tr>\n",
       "      <th>72997</th>\n",
       "      <td>B008XI59K2</td>\n",
       "      <td>Computers &amp; Accessories</td>\n",
       "    </tr>\n",
       "    <tr>\n",
       "      <th>72998</th>\n",
       "      <td>B00HNDCWQM</td>\n",
       "      <td>Accessories &amp; Supplies</td>\n",
       "    </tr>\n",
       "  </tbody>\n",
       "</table>\n",
       "<p>72999 rows × 2 columns</p>\n",
       "</div>"
      ],
      "text/plain": [
       "                0                         1\n",
       "0      B002B3YCQM   Computers & Accessories\n",
       "1      B00JXXXOS0        Television & Video\n",
       "2      B00CSQYVWM            Camera & Photo\n",
       "3      B002AF5184    Portable Audio & Video\n",
       "4      B008LTBM6S   Computers & Accessories\n",
       "...           ...                       ...\n",
       "72994  B0048ABG6A            Camera & Photo\n",
       "72995  B004WI867K   Computers & Accessories\n",
       "72996  B01E5ITE2W   Computers & Accessories\n",
       "72997  B008XI59K2   Computers & Accessories\n",
       "72998  B00HNDCWQM    Accessories & Supplies\n",
       "\n",
       "[72999 rows x 2 columns]"
      ]
     },
     "execution_count": 61,
     "metadata": {},
     "output_type": "execute_result"
    }
   ],
   "source": [
    "df_cat_asin"
   ]
  },
  {
   "cell_type": "code",
   "execution_count": 73,
   "metadata": {
    "id": "cgTm8qNxfDEV"
   },
   "outputs": [],
   "source": [
    "df_cat_asin.rename({0:'asin',1:'category_type'}, axis=1,inplace=True)"
   ]
  },
  {
   "cell_type": "code",
   "execution_count": null,
   "metadata": {
    "colab": {
     "base_uri": "https://localhost:8080/",
     "height": 203
    },
    "id": "SX_1cxg0fKLZ",
    "outputId": "663cec85-a4d5-461e-b49c-d7b93429e015"
   },
   "outputs": [
    {
     "data": {
      "text/html": [
       "<div>\n",
       "<style scoped>\n",
       "    .dataframe tbody tr th:only-of-type {\n",
       "        vertical-align: middle;\n",
       "    }\n",
       "\n",
       "    .dataframe tbody tr th {\n",
       "        vertical-align: top;\n",
       "    }\n",
       "\n",
       "    .dataframe thead th {\n",
       "        text-align: right;\n",
       "    }\n",
       "</style>\n",
       "<table border=\"1\" class=\"dataframe\">\n",
       "  <thead>\n",
       "    <tr style=\"text-align: right;\">\n",
       "      <th></th>\n",
       "      <th>asin</th>\n",
       "      <th>category_type</th>\n",
       "    </tr>\n",
       "  </thead>\n",
       "  <tbody>\n",
       "    <tr>\n",
       "      <th>0</th>\n",
       "      <td>B002B3YCQM</td>\n",
       "      <td>Computers &amp; Accessories</td>\n",
       "    </tr>\n",
       "    <tr>\n",
       "      <th>1</th>\n",
       "      <td>B00JXXXOS0</td>\n",
       "      <td>Television &amp; Video</td>\n",
       "    </tr>\n",
       "    <tr>\n",
       "      <th>2</th>\n",
       "      <td>B00CSQYVWM</td>\n",
       "      <td>Camera &amp; Photo</td>\n",
       "    </tr>\n",
       "    <tr>\n",
       "      <th>3</th>\n",
       "      <td>B002AF5184</td>\n",
       "      <td>Portable Audio &amp; Video</td>\n",
       "    </tr>\n",
       "    <tr>\n",
       "      <th>4</th>\n",
       "      <td>B008LTBM6S</td>\n",
       "      <td>Computers &amp; Accessories</td>\n",
       "    </tr>\n",
       "  </tbody>\n",
       "</table>\n",
       "</div>"
      ],
      "text/plain": [
       "         asin             category_type\n",
       "0  B002B3YCQM   Computers & Accessories\n",
       "1  B00JXXXOS0        Television & Video\n",
       "2  B00CSQYVWM            Camera & Photo\n",
       "3  B002AF5184    Portable Audio & Video\n",
       "4  B008LTBM6S   Computers & Accessories"
      ]
     },
     "execution_count": 63,
     "metadata": {},
     "output_type": "execute_result"
    }
   ],
   "source": [
    "df_cat_asin.head(5)"
   ]
  },
  {
   "cell_type": "code",
   "execution_count": 74,
   "metadata": {
    "colab": {
     "base_uri": "https://localhost:8080/",
     "height": 293
    },
    "id": "3wLoy141fN7A",
    "outputId": "03c01b40-43f8-4008-fc93-d4ec4cc75a9d"
   },
   "outputs": [
    {
     "data": {
      "text/html": [
       "<div>\n",
       "<style scoped>\n",
       "    .dataframe tbody tr th:only-of-type {\n",
       "        vertical-align: middle;\n",
       "    }\n",
       "\n",
       "    .dataframe tbody tr th {\n",
       "        vertical-align: top;\n",
       "    }\n",
       "\n",
       "    .dataframe thead th {\n",
       "        text-align: right;\n",
       "    }\n",
       "</style>\n",
       "<table border=\"1\" class=\"dataframe\">\n",
       "  <thead>\n",
       "    <tr style=\"text-align: right;\">\n",
       "      <th></th>\n",
       "      <th>Unnamed: 0</th>\n",
       "      <th>overall</th>\n",
       "      <th>vote</th>\n",
       "      <th>verified</th>\n",
       "      <th>reviewTime</th>\n",
       "      <th>reviewerID</th>\n",
       "      <th>asin</th>\n",
       "      <th>style</th>\n",
       "      <th>reviewerName</th>\n",
       "      <th>reviewText</th>\n",
       "      <th>summary</th>\n",
       "      <th>unixReviewTime</th>\n",
       "      <th>image</th>\n",
       "      <th>category_type</th>\n",
       "    </tr>\n",
       "  </thead>\n",
       "  <tbody>\n",
       "    <tr>\n",
       "      <th>0</th>\n",
       "      <td>1425280</td>\n",
       "      <td>2.0</td>\n",
       "      <td>NaN</td>\n",
       "      <td>True</td>\n",
       "      <td>01 24, 2015</td>\n",
       "      <td>AMFPAS8VMIDGJ</td>\n",
       "      <td>B002B3YCQM</td>\n",
       "      <td>{'Package Type:': ' Standard Packaging'}</td>\n",
       "      <td>Crewtx</td>\n",
       "      <td>I've stopped counting the number of mice I've ...</td>\n",
       "      <td>I've stopped counting the number of mice I've ...</td>\n",
       "      <td>1422057600</td>\n",
       "      <td>NaN</td>\n",
       "      <td>Computers &amp; Accessories</td>\n",
       "    </tr>\n",
       "    <tr>\n",
       "      <th>1</th>\n",
       "      <td>1424955</td>\n",
       "      <td>4.0</td>\n",
       "      <td>NaN</td>\n",
       "      <td>True</td>\n",
       "      <td>03 26, 2016</td>\n",
       "      <td>A1UVU5YY6B6KQM</td>\n",
       "      <td>B002B3YCQM</td>\n",
       "      <td>{'Package Type:': ' Standard Packaging'}</td>\n",
       "      <td>Oohla</td>\n",
       "      <td>this mouse worked for 1 month and 10 days.  To...</td>\n",
       "      <td>Worked for under 2 months - Logitech was happy...</td>\n",
       "      <td>1458950400</td>\n",
       "      <td>NaN</td>\n",
       "      <td>Computers &amp; Accessories</td>\n",
       "    </tr>\n",
       "    <tr>\n",
       "      <th>2</th>\n",
       "      <td>1425020</td>\n",
       "      <td>5.0</td>\n",
       "      <td>NaN</td>\n",
       "      <td>True</td>\n",
       "      <td>11 28, 2015</td>\n",
       "      <td>A2G8K3GDE6R2Z5</td>\n",
       "      <td>B002B3YCQM</td>\n",
       "      <td>{'Package Type:': ' Standard Packaging'}</td>\n",
       "      <td>Rick Strahl</td>\n",
       "      <td>I bought a tethered mouse after buying a new 4...</td>\n",
       "      <td>Love the Scroll Wheel on this Mouse</td>\n",
       "      <td>1448668800</td>\n",
       "      <td>NaN</td>\n",
       "      <td>Computers &amp; Accessories</td>\n",
       "    </tr>\n",
       "  </tbody>\n",
       "</table>\n",
       "</div>"
      ],
      "text/plain": [
       "   Unnamed: 0  overall vote  ...  unixReviewTime image             category_type\n",
       "0     1425280      2.0  NaN  ...      1422057600   NaN   Computers & Accessories\n",
       "1     1424955      4.0  NaN  ...      1458950400   NaN   Computers & Accessories\n",
       "2     1425020      5.0  NaN  ...      1448668800   NaN   Computers & Accessories\n",
       "\n",
       "[3 rows x 14 columns]"
      ]
     },
     "execution_count": 74,
     "metadata": {},
     "output_type": "execute_result"
    }
   ],
   "source": [
    "df_inner = pd.merge(df1,df_cat_asin, on='asin', how='inner')\n",
    "\n",
    "df_inner.head(3)"
   ]
  },
  {
   "cell_type": "code",
   "execution_count": null,
   "metadata": {
    "colab": {
     "base_uri": "https://localhost:8080/"
    },
    "id": "BG4seiAafRrQ",
    "outputId": "382ea164-57a4-483a-dbe6-87b8cdb601df"
   },
   "outputs": [
    {
     "data": {
      "text/plain": [
       " Computers & Accessories            104724\n",
       " Accessories & Supplies              37711\n",
       " Camera & Photo                      33043\n",
       " Headphones                          13239\n",
       " Portable Audio & Video              12323\n",
       " Television & Video                   6562\n",
       " Car & Vehicle Electronics            6556\n",
       " Home Audio                           4928\n",
       " GPS                                  3313\n",
       " Computers &amp; Accessories          2927\n",
       " Camera &amp; Photo                   2089\n",
       " Accessories &amp; Supplies           2085\n",
       " Security & Surveillance              1876\n",
       " eBook Readers & Accessories           967\n",
       " Wearable Technology                   914\n",
       " Video Projectors                      622\n",
       " Portable Audio &amp; Video            616\n",
       " Electronics Warranties                542\n",
       " Car &amp; Vehicle Electronics         333\n",
       " Television &amp; Video                128\n",
       " Security &amp; Surveillance            60\n",
       " eBook Readers &amp; Accessories        35\n",
       " Service Plans                          24\n",
       " Cell Phones & Accessories               2\n",
       " Featured Categories                     1\n",
       "Name: category_type, dtype: int64"
      ]
     },
     "execution_count": 65,
     "metadata": {},
     "output_type": "execute_result"
    }
   ],
   "source": [
    "df_inner['category_type'].value_counts()"
   ]
  },
  {
   "cell_type": "code",
   "execution_count": 75,
   "metadata": {
    "id": "nPdX1X33fXpr"
   },
   "outputs": [],
   "source": [
    "prod1 = deepcopy(df_inner)\n",
    "prod2 = prod1[['asin', 'category_type']]"
   ]
  },
  {
   "cell_type": "code",
   "execution_count": 76,
   "metadata": {
    "id": "ctfHpcZWhI6J"
   },
   "outputs": [],
   "source": [
    "from pyspark.sql import SparkSession\n",
    "#Create PySpark SparkSession\n",
    "spark = SparkSession.builder.getOrCreate()\n",
    "sparkDF=spark.createDataFrame(prod2.astype(str))"
   ]
  },
  {
   "cell_type": "code",
   "execution_count": 77,
   "metadata": {
    "id": "mA0ZhRa_hKHR"
   },
   "outputs": [],
   "source": [
    "jdf2 = prediction.join(sparkDF,prediction[\"asin\"] ==  sparkDF[\"asin\"],\"inner\")"
   ]
  },
  {
   "cell_type": "code",
   "execution_count": 78,
   "metadata": {
    "colab": {
     "base_uri": "https://localhost:8080/",
     "height": 417
    },
    "id": "cGWaDVkPhN5P",
    "outputId": "2a8be264-4418-40b1-ec99-32a34a10695e"
   },
   "outputs": [
    {
     "data": {
      "text/html": [
       "<div>\n",
       "<style scoped>\n",
       "    .dataframe tbody tr th:only-of-type {\n",
       "        vertical-align: middle;\n",
       "    }\n",
       "\n",
       "    .dataframe tbody tr th {\n",
       "        vertical-align: top;\n",
       "    }\n",
       "\n",
       "    .dataframe thead th {\n",
       "        text-align: right;\n",
       "    }\n",
       "</style>\n",
       "<table border=\"1\" class=\"dataframe\">\n",
       "  <thead>\n",
       "    <tr style=\"text-align: right;\">\n",
       "      <th></th>\n",
       "      <th>overall</th>\n",
       "      <th>reviewerID</th>\n",
       "      <th>asin</th>\n",
       "      <th>category_type</th>\n",
       "    </tr>\n",
       "  </thead>\n",
       "  <tbody>\n",
       "    <tr>\n",
       "      <th>0</th>\n",
       "      <td>2.0</td>\n",
       "      <td>AMFPAS8VMIDGJ</td>\n",
       "      <td>B002B3YCQM</td>\n",
       "      <td>Computers &amp; Accessories</td>\n",
       "    </tr>\n",
       "    <tr>\n",
       "      <th>1</th>\n",
       "      <td>4.0</td>\n",
       "      <td>A1UVU5YY6B6KQM</td>\n",
       "      <td>B002B3YCQM</td>\n",
       "      <td>Computers &amp; Accessories</td>\n",
       "    </tr>\n",
       "    <tr>\n",
       "      <th>2</th>\n",
       "      <td>5.0</td>\n",
       "      <td>A2G8K3GDE6R2Z5</td>\n",
       "      <td>B002B3YCQM</td>\n",
       "      <td>Computers &amp; Accessories</td>\n",
       "    </tr>\n",
       "    <tr>\n",
       "      <th>3</th>\n",
       "      <td>3.0</td>\n",
       "      <td>A1N499QUWCGE4N</td>\n",
       "      <td>B002B3YCQM</td>\n",
       "      <td>Computers &amp; Accessories</td>\n",
       "    </tr>\n",
       "    <tr>\n",
       "      <th>4</th>\n",
       "      <td>4.0</td>\n",
       "      <td>A1OV75M25ENAND</td>\n",
       "      <td>B002B3YCQM</td>\n",
       "      <td>Computers &amp; Accessories</td>\n",
       "    </tr>\n",
       "    <tr>\n",
       "      <th>...</th>\n",
       "      <td>...</td>\n",
       "      <td>...</td>\n",
       "      <td>...</td>\n",
       "      <td>...</td>\n",
       "    </tr>\n",
       "    <tr>\n",
       "      <th>235615</th>\n",
       "      <td>5.0</td>\n",
       "      <td>ADDOTT8YOT0NS</td>\n",
       "      <td>B0048ABG6A</td>\n",
       "      <td>Camera &amp; Photo</td>\n",
       "    </tr>\n",
       "    <tr>\n",
       "      <th>235616</th>\n",
       "      <td>5.0</td>\n",
       "      <td>AKH6N84CBOBJ6</td>\n",
       "      <td>B004WI867K</td>\n",
       "      <td>Computers &amp; Accessories</td>\n",
       "    </tr>\n",
       "    <tr>\n",
       "      <th>235617</th>\n",
       "      <td>5.0</td>\n",
       "      <td>A2J0CYSHN37GA1</td>\n",
       "      <td>B01E5ITE2W</td>\n",
       "      <td>Computers &amp; Accessories</td>\n",
       "    </tr>\n",
       "    <tr>\n",
       "      <th>235618</th>\n",
       "      <td>5.0</td>\n",
       "      <td>AVW3SN671V6Q</td>\n",
       "      <td>B008XI59K2</td>\n",
       "      <td>Computers &amp; Accessories</td>\n",
       "    </tr>\n",
       "    <tr>\n",
       "      <th>235619</th>\n",
       "      <td>5.0</td>\n",
       "      <td>A1MGUMKNMC5DL5</td>\n",
       "      <td>B00HNDCWQM</td>\n",
       "      <td>Accessories &amp; Supplies</td>\n",
       "    </tr>\n",
       "  </tbody>\n",
       "</table>\n",
       "<p>235620 rows × 4 columns</p>\n",
       "</div>"
      ],
      "text/plain": [
       "        overall      reviewerID        asin             category_type\n",
       "0           2.0   AMFPAS8VMIDGJ  B002B3YCQM   Computers & Accessories\n",
       "1           4.0  A1UVU5YY6B6KQM  B002B3YCQM   Computers & Accessories\n",
       "2           5.0  A2G8K3GDE6R2Z5  B002B3YCQM   Computers & Accessories\n",
       "3           3.0  A1N499QUWCGE4N  B002B3YCQM   Computers & Accessories\n",
       "4           4.0  A1OV75M25ENAND  B002B3YCQM   Computers & Accessories\n",
       "...         ...             ...         ...                       ...\n",
       "235615      5.0   ADDOTT8YOT0NS  B0048ABG6A            Camera & Photo\n",
       "235616      5.0   AKH6N84CBOBJ6  B004WI867K   Computers & Accessories\n",
       "235617      5.0  A2J0CYSHN37GA1  B01E5ITE2W   Computers & Accessories\n",
       "235618      5.0    AVW3SN671V6Q  B008XI59K2   Computers & Accessories\n",
       "235619      5.0  A1MGUMKNMC5DL5  B00HNDCWQM    Accessories & Supplies\n",
       "\n",
       "[235620 rows x 4 columns]"
      ]
     },
     "execution_count": 78,
     "metadata": {},
     "output_type": "execute_result"
    }
   ],
   "source": [
    "ratings2 = deepcopy(df_inner)\n",
    "ratings2.drop(['Unnamed: 0', 'verified', 'reviewTime', \n",
    "       'reviewerName', 'reviewText', 'summary', 'unixReviewTime', 'vote',\n",
    "       'image', 'style'],axis=1, inplace = True)\n",
    "ratings2.fillna(value = 0, inplace = True)\n",
    "ratings2.drop_duplicates\n",
    "ratings2"
   ]
  },
  {
   "cell_type": "code",
   "execution_count": 79,
   "metadata": {
    "id": "Dm8cyXj2i0gY"
   },
   "outputs": [],
   "source": [
    "l=df_inner['category_type'].unique()\n",
    "#l"
   ]
  },
  {
   "cell_type": "code",
   "execution_count": null,
   "metadata": {
    "colab": {
     "base_uri": "https://localhost:8080/",
     "height": 417
    },
    "id": "poGiVH3yjQzl",
    "outputId": "9a1130aa-82f0-4aa3-d2d3-b2e96953a664"
   },
   "outputs": [
    {
     "data": {
      "text/html": [
       "<div>\n",
       "<style scoped>\n",
       "    .dataframe tbody tr th:only-of-type {\n",
       "        vertical-align: middle;\n",
       "    }\n",
       "\n",
       "    .dataframe tbody tr th {\n",
       "        vertical-align: top;\n",
       "    }\n",
       "\n",
       "    .dataframe thead th {\n",
       "        text-align: right;\n",
       "    }\n",
       "</style>\n",
       "<table border=\"1\" class=\"dataframe\">\n",
       "  <thead>\n",
       "    <tr style=\"text-align: right;\">\n",
       "      <th></th>\n",
       "      <th>overall</th>\n",
       "      <th>reviewerID</th>\n",
       "      <th>asin</th>\n",
       "      <th>category_type</th>\n",
       "    </tr>\n",
       "  </thead>\n",
       "  <tbody>\n",
       "    <tr>\n",
       "      <th>0</th>\n",
       "      <td>2.0</td>\n",
       "      <td>AMFPAS8VMIDGJ</td>\n",
       "      <td>B002B3YCQM</td>\n",
       "      <td>Computers &amp; Accessories</td>\n",
       "    </tr>\n",
       "    <tr>\n",
       "      <th>1</th>\n",
       "      <td>4.0</td>\n",
       "      <td>A1UVU5YY6B6KQM</td>\n",
       "      <td>B002B3YCQM</td>\n",
       "      <td>Computers &amp; Accessories</td>\n",
       "    </tr>\n",
       "    <tr>\n",
       "      <th>2</th>\n",
       "      <td>5.0</td>\n",
       "      <td>A2G8K3GDE6R2Z5</td>\n",
       "      <td>B002B3YCQM</td>\n",
       "      <td>Computers &amp; Accessories</td>\n",
       "    </tr>\n",
       "    <tr>\n",
       "      <th>3</th>\n",
       "      <td>3.0</td>\n",
       "      <td>A1N499QUWCGE4N</td>\n",
       "      <td>B002B3YCQM</td>\n",
       "      <td>Computers &amp; Accessories</td>\n",
       "    </tr>\n",
       "    <tr>\n",
       "      <th>4</th>\n",
       "      <td>4.0</td>\n",
       "      <td>A1OV75M25ENAND</td>\n",
       "      <td>B002B3YCQM</td>\n",
       "      <td>Computers &amp; Accessories</td>\n",
       "    </tr>\n",
       "    <tr>\n",
       "      <th>...</th>\n",
       "      <td>...</td>\n",
       "      <td>...</td>\n",
       "      <td>...</td>\n",
       "      <td>...</td>\n",
       "    </tr>\n",
       "    <tr>\n",
       "      <th>235609</th>\n",
       "      <td>4.0</td>\n",
       "      <td>A16Q4CLQP3943B</td>\n",
       "      <td>B00OKULAQY</td>\n",
       "      <td>Computers &amp; Accessories</td>\n",
       "    </tr>\n",
       "    <tr>\n",
       "      <th>235611</th>\n",
       "      <td>5.0</td>\n",
       "      <td>A2IYVGCV556T7K</td>\n",
       "      <td>B01EJ7PCY8</td>\n",
       "      <td>Computers &amp; Accessories</td>\n",
       "    </tr>\n",
       "    <tr>\n",
       "      <th>235616</th>\n",
       "      <td>5.0</td>\n",
       "      <td>AKH6N84CBOBJ6</td>\n",
       "      <td>B004WI867K</td>\n",
       "      <td>Computers &amp; Accessories</td>\n",
       "    </tr>\n",
       "    <tr>\n",
       "      <th>235617</th>\n",
       "      <td>5.0</td>\n",
       "      <td>A2J0CYSHN37GA1</td>\n",
       "      <td>B01E5ITE2W</td>\n",
       "      <td>Computers &amp; Accessories</td>\n",
       "    </tr>\n",
       "    <tr>\n",
       "      <th>235618</th>\n",
       "      <td>5.0</td>\n",
       "      <td>AVW3SN671V6Q</td>\n",
       "      <td>B008XI59K2</td>\n",
       "      <td>Computers &amp; Accessories</td>\n",
       "    </tr>\n",
       "  </tbody>\n",
       "</table>\n",
       "<p>104724 rows × 4 columns</p>\n",
       "</div>"
      ],
      "text/plain": [
       "        overall      reviewerID        asin             category_type\n",
       "0           2.0   AMFPAS8VMIDGJ  B002B3YCQM   Computers & Accessories\n",
       "1           4.0  A1UVU5YY6B6KQM  B002B3YCQM   Computers & Accessories\n",
       "2           5.0  A2G8K3GDE6R2Z5  B002B3YCQM   Computers & Accessories\n",
       "3           3.0  A1N499QUWCGE4N  B002B3YCQM   Computers & Accessories\n",
       "4           4.0  A1OV75M25ENAND  B002B3YCQM   Computers & Accessories\n",
       "...         ...             ...         ...                       ...\n",
       "235609      4.0  A16Q4CLQP3943B  B00OKULAQY   Computers & Accessories\n",
       "235611      5.0  A2IYVGCV556T7K  B01EJ7PCY8   Computers & Accessories\n",
       "235616      5.0   AKH6N84CBOBJ6  B004WI867K   Computers & Accessories\n",
       "235617      5.0  A2J0CYSHN37GA1  B01E5ITE2W   Computers & Accessories\n",
       "235618      5.0    AVW3SN671V6Q  B008XI59K2   Computers & Accessories\n",
       "\n",
       "[104724 rows x 4 columns]"
      ]
     },
     "execution_count": 78,
     "metadata": {},
     "output_type": "execute_result"
    }
   ],
   "source": [
    "ratings2.loc[ratings2['category_type']==' Computers & Accessories']"
   ]
  },
  {
   "cell_type": "code",
   "execution_count": 130,
   "metadata": {
    "id": "4lY7bkgpZbi6"
   },
   "outputs": [],
   "source": [
    "def preprocessed(data,r,iter,para):\n",
    "    #preprocessed = ratings2.values.tolist()\n",
    "    ##temp_data=data.loc[data['category_type']==cat]\n",
    "    ##dff=pd.DataFrame(temp_data)\n",
    "    ##temp_data_f=dff.drop(['category_type'],axis=1)\n",
    "    \n",
    "    data = spark.createDataFrame(ratings[['reviewerID', 'asin', 'overall']])\n",
    "    indexer = [StringIndexer(inputCol = column, outputCol = column+\"index\") for column in ['asin','reviewerID']]\n",
    "    pipeline = Pipeline(stages=indexer)\n",
    "    data = pipeline.fit(data).transform(data)\n",
    "\n",
    "    transformed_train = data.sampleBy(\"overall\", fractions={1: 0.7, 2: 0.7, 3: 0.7,4: 0.7,5: 0.7}, seed=10)\n",
    "    transformed_test = data.subtract(transformed_train)\n",
    "\n",
    "    transformed_train = transformed_train.withColumnRenamed('overall','label')\n",
    "    transformed_test = transformed_test.withColumnRenamed('overall','truelabel')\n",
    "\n",
    "    als = ALS(rank=r, maxIter = iter, regParam = para, userCol = 'reviewerIDindex', itemCol = 'asinindex', ratingCol = 'label', coldStartStrategy='drop', nonnegative=True)\n",
    "    model = als.fit(transformed_train)\n",
    "    prediction = model.transform(transformed_test)\n",
    "    jdf2 = prediction.join(sparkDF,prediction[\"asin\"] ==  sparkDF[\"asin\"],\"inner\")\n",
    "    jdf2=jdf2.dropDuplicates(['reviewerID','asin','truelabel','asinindex','reviewerIDindex','prediction','asin','category_type'])\n",
    "    #jdf2.show(n=5,truncate=False)\n",
    "    return(jdf2)"
   ]
  },
  {
   "cell_type": "code",
   "execution_count": 131,
   "metadata": {
    "id": "ODpVTK7TaZ3Z"
   },
   "outputs": [],
   "source": [
    "def reco_user_category(user_id,cat,data,title,r,iter,para):\n",
    "    temp_data=data.loc[data['category_type']==cat]\n",
    "    dff=pd.DataFrame(temp_data)\n",
    "    temp_data_f=dff.drop(['category_type'],axis=1)\n",
    "\n",
    "    prediction=preprocessed(temp_data,r,iter,para)\n",
    "    temp_df = prediction.filter(prediction[\"reviewerID\"] == user_id)\n",
    "    temp_df = temp_df.sort(\"prediction\", ascending=False)\n",
    "    pandas_df = temp_df.select(\"*\").toPandas()\n",
    "    #print(pandas_df)\n",
    "    if len(pandas_df)<5:\n",
    "        #popularity based\n",
    "        ratings = pd.DataFrame(temp_data_f.groupby('asin')['overall'].median().sort_values(ascending=False).head())\n",
    "        #print(ratings)\n",
    "        ratings=pd.DataFrame(ratings)\n",
    "        ratings.reset_index(inplace=True)\n",
    "        #print(ratings)\n",
    "        #print(ratings.columns)\n",
    "        #print(type(ratings))\n",
    "        \n",
    "        recommendation=ratings[:5]\n",
    "       # print(recommendation)\n",
    "       # ratings.rename(columns={\"overall\": \"Rating_Median\"}, inplace=True)  \n",
    "        l1=pandas_df.loc[:,'asin']\n",
    "        #print(l1)\n",
    "        l2=recommendation.loc[:,'asin']\n",
    "        #print(l2)\n",
    "        reco=l1.values.tolist()\n",
    "        for i in l2.values.tolist():\n",
    "            if i not in l1.values.tolist():\n",
    "                reco.append(i)\n",
    "            if len(reco)==5:\n",
    "                break\n",
    "\n",
    "    else:\n",
    "       reco=pandas_df['asin'][:5]\n",
    "    df = pd.DataFrame(reco)\n",
    "    df.rename(columns={0: \"asin\"},inplace=True)\n",
    "    recommend = pd.merge(df,title, on='asin', how='inner').drop_duplicates( keep='last')\n",
    "\n",
    "    return(recommend)"
   ]
  },
  {
   "cell_type": "code",
   "execution_count": 82,
   "metadata": {
    "colab": {
     "base_uri": "https://localhost:8080/",
     "height": 203
    },
    "id": "Qy1ADUL7afrl",
    "outputId": "0095f241-61b9-4e20-a133-9ed18b69236e"
   },
   "outputs": [
    {
     "data": {
      "text/html": [
       "<div>\n",
       "<style scoped>\n",
       "    .dataframe tbody tr th:only-of-type {\n",
       "        vertical-align: middle;\n",
       "    }\n",
       "\n",
       "    .dataframe tbody tr th {\n",
       "        vertical-align: top;\n",
       "    }\n",
       "\n",
       "    .dataframe thead th {\n",
       "        text-align: right;\n",
       "    }\n",
       "</style>\n",
       "<table border=\"1\" class=\"dataframe\">\n",
       "  <thead>\n",
       "    <tr style=\"text-align: right;\">\n",
       "      <th></th>\n",
       "      <th>asin</th>\n",
       "      <th>title</th>\n",
       "    </tr>\n",
       "  </thead>\n",
       "  <tbody>\n",
       "    <tr>\n",
       "      <th>0</th>\n",
       "      <td>B01HJCN1EI</td>\n",
       "      <td>Android charger cable 10 ft, Extra long Nylon ...</td>\n",
       "    </tr>\n",
       "    <tr>\n",
       "      <th>1</th>\n",
       "      <td>B00BWBEL1U</td>\n",
       "      <td>Acer V226WL bd 22-Inch Screen LED-Lit Monitor</td>\n",
       "    </tr>\n",
       "    <tr>\n",
       "      <th>2</th>\n",
       "      <td>B00BUZ0K68</td>\n",
       "      <td>Tera Grand - Premium USB 2.0 to RS232 Serial D...</td>\n",
       "    </tr>\n",
       "    <tr>\n",
       "      <th>3</th>\n",
       "      <td>B00BV31QU8</td>\n",
       "      <td>ROSEWILL ATX Mid Tower Gaming Computer Case, G...</td>\n",
       "    </tr>\n",
       "    <tr>\n",
       "      <th>4</th>\n",
       "      <td>B00BV9KAOK</td>\n",
       "      <td>Lenovo Flex 14 Flex 14d Flex 15 Flex 15D Y40-7...</td>\n",
       "    </tr>\n",
       "  </tbody>\n",
       "</table>\n",
       "</div>"
      ],
      "text/plain": [
       "         asin                                              title\n",
       "0  B01HJCN1EI  Android charger cable 10 ft, Extra long Nylon ...\n",
       "1  B00BWBEL1U      Acer V226WL bd 22-Inch Screen LED-Lit Monitor\n",
       "2  B00BUZ0K68  Tera Grand - Premium USB 2.0 to RS232 Serial D...\n",
       "3  B00BV31QU8  ROSEWILL ATX Mid Tower Gaming Computer Case, G...\n",
       "4  B00BV9KAOK  Lenovo Flex 14 Flex 14d Flex 15 Flex 15D Y40-7..."
      ]
     },
     "execution_count": 82,
     "metadata": {},
     "output_type": "execute_result"
    }
   ],
   "source": [
    "reco_user_category('AMFPAS8VMIDGJ',' Computers & Accessories',ratings2,prod_title,r,iter,para)"
   ]
  },
  {
   "cell_type": "code",
   "execution_count": 132,
   "metadata": {
    "colab": {
     "base_uri": "https://localhost:8080/"
    },
    "id": "Vju5OewXIB7v",
    "outputId": "13d44623-8b45-4e4f-ee0a-703f5ff42eb1"
   },
   "outputs": [
    {
     "name": "stdout",
     "output_type": "stream",
     "text": [
      " Computers & Accessories\n",
      "         asin                                              title\n",
      "0  B01HJCN1EI  Android charger cable 10 ft, Extra long Nylon ...\n",
      "1  B00BWBEL1U      Acer V226WL bd 22-Inch Screen LED-Lit Monitor\n",
      "2  B00BUZ0K68  Tera Grand - Premium USB 2.0 to RS232 Serial D...\n",
      "3  B00BV31QU8  ROSEWILL ATX Mid Tower Gaming Computer Case, G...\n",
      "4  B00BV9KAOK  Lenovo Flex 14 Flex 14d Flex 15 Flex 15D Y40-7...\n",
      " Television & Video\n",
      "         asin                                              title\n",
      "0  B01HB3YWLG  Happycamping TV Antenna 50 Miles Range Amplifi...\n",
      "1  B000X3NROK  Sony Bravia M-Series KDL-37M3000 37-Inch 720p ...\n",
      "2  B000XG532Q        Toshiba REGZA 42HL67U 42-Inch 720p LCD HDTV\n",
      "3  B00A0EUA2Y  RCA LED55C55R120Q 55-Inch 1080p 120Hz LED HDTV...\n",
      "4  B00A7BGMTU  oCOSMO CE3200V 32-Inch 720p 60Hz LED  TV-DVD C...\n",
      " Camera & Photo\n",
      "         asin                                              title\n",
      "0  B01HITUTV0  Foto&amp;Tech Safety Camera Strap Tether Leash...\n",
      "1  B0078OVG0O                 Pandigital 7 Digital Picture Frame\n",
      "2  B0078K17WK                       Case Logic DSLR Camera Sling\n",
      "3  B0078K16IK                       Case Logic DSLR Shoulder Bag\n",
      "4  B0078J2HS4                Case Logic DM-1000 DSLR Travel Pack\n",
      " Portable Audio & Video\n",
      "         asin                                              title\n",
      "0  B00B8PRRTI  Eton Rugged Rukus Solar-powered, Bluetooth, sm...\n",
      "1  B00CBD65Z8  TOMTOP Mini Digital Portable Music MP3/4 Playe...\n",
      "2  B009WTYIKS  For Apple iPod Touch 5 Armor 3 in 1 w/Stand Bl...\n",
      "3  B009WGCGUA  iPod Touch 6 Case, 3-in-1 Duo Armor Case and H...\n",
      "4  B009W5O2U8  Scosche boomSTREAM mini Portable Bluetooth Wir...\n"
     ]
    }
   ],
   "source": [
    "list_category=df_inner['category_type'].unique()\n",
    "for i in list_category[:4]:\n",
    "    print(i)\n",
    "    print(reco_user_category('AMFPAS8VMIDGJ',i,ratings2,prod_title,r,iter,para))"
   ]
  },
  {
   "cell_type": "markdown",
   "metadata": {
    "id": "iTzdNAP7es6p"
   },
   "source": [
    "##Cross category"
   ]
  },
  {
   "cell_type": "code",
   "execution_count": null,
   "metadata": {
    "id": "BbFX_UD_5Vib"
   },
   "outputs": [],
   "source": [
    "df_item_info = pd.merge(prod_title,df_cat_asin, on='asin', how='inner')\n",
    "\n",
    "df_item_info.head(3)"
   ]
  },
  {
   "cell_type": "code",
   "execution_count": 133,
   "metadata": {
    "id": "p39rMbjT5f-h"
   },
   "outputs": [],
   "source": [
    "def popular(data):\n",
    "    l=data['category_type'].unique()\n",
    "    list_rec=[]\n",
    "    for cat in l:\n",
    "        temp_data=data.loc[data['category_type']==cat]\n",
    "        dff=pd.DataFrame(temp_data)\n",
    "        temp_data_f=dff.drop(['category_type'],axis=1)\n",
    "        ratings = pd.DataFrame(temp_data_f.groupby('asin')['overall'].median().sort_values(ascending=False).head())\n",
    "        ratings=pd.DataFrame(ratings)\n",
    "        ratings.reset_index(inplace=True)\n",
    "        \n",
    "        recommendation=ratings[:5]\n",
    "        l1=recommendation.loc[:,'asin']\n",
    "        reco=l1.values.tolist()\n",
    "        for i in reco:\n",
    "            list_rec.append(i)\n",
    "    return(list_rec)"
   ]
  },
  {
   "cell_type": "code",
   "execution_count": 180,
   "metadata": {
    "id": "WdJDQU9j5lZS"
   },
   "outputs": [],
   "source": [
    "def reco_user_cross_category(user_id,data,item):\n",
    "    \n",
    "\n",
    "    user_list=ratings['reviewerID']\n",
    "    user=[]\n",
    "    for i in user_list:\n",
    "        user.append(i)\n",
    "\n",
    "    if user_id in user:\n",
    "    \n",
    "        user_subset=data_copy.groupby('reviewerID')\n",
    "        user_data=user_subset.get_group(user_id)\n",
    "        user_category=user_data['category_type']\n",
    "        cat_list=[]\n",
    "        for i in user_category:\n",
    "            if i not in cat_list:\n",
    "                 cat_list.append(i)\n",
    "        print('recommended categories for previous user',cat_list)\n",
    "        for i in cat_list:\n",
    "            print(i)\n",
    "            print(reco_user_category(user_id,i,ratings2,prod_title,r,iter,para))\n",
    "\n",
    "    else:\n",
    "    \n",
    "        top_rec=popular(data)\n",
    "        print('recommendation for new user',top_rec)\n",
    "    \n"
   ]
  },
  {
   "cell_type": "code",
   "execution_count": 146,
   "metadata": {
    "colab": {
     "base_uri": "https://localhost:8080/"
    },
    "id": "dKQ0zyS4TbzA",
    "outputId": "862d789f-06fc-43ce-ae00-3866aebd0e52"
   },
   "outputs": [
    {
     "data": {
      "text/plain": [
       "pandas.core.frame.DataFrame"
      ]
     },
     "execution_count": 146,
     "metadata": {},
     "output_type": "execute_result"
    }
   ],
   "source": [
    "type(prod_title)"
   ]
  },
  {
   "cell_type": "code",
   "execution_count": 163,
   "metadata": {
    "colab": {
     "base_uri": "https://localhost:8080/"
    },
    "id": "J8G_ZRlsTvc7",
    "outputId": "831dc926-c003-42c3-9e99-73b7e207c4ca"
   },
   "outputs": [
    {
     "name": "stdout",
     "output_type": "stream",
     "text": [
      "<class 'pandas.core.frame.DataFrame'>                 0                                                  1\n",
      "0      B002B3YCQM  Logitech M500 Corded Mouse &ndash; Wired USB M...\n",
      "1      B00JXXXOS0  Panasonic All Multi Region Code Zone Free PAL/...\n",
      "2      B00CSQYVWM                       GoPro HERO3 Skeleton Housing\n",
      "3      B002AF5184  CrazyOnDigital Premium Black Leather Case Appl...\n",
      "4      B008LTBM6S  Crucial 4GB Single DDR3/DDR3L 1600 MT/s (PC3-1...\n",
      "...           ...                                                ...\n",
      "72994  B0048ABG6A  Fotodiox Pro Lens Mount Adapter - Canon FD &am...\n",
      "72995  B004WI867K  Cosmos &reg; Brown PU/synthetic/faux leather 1...\n",
      "72996  B01E5ITE2W  REDGO Video Audio VHS VCR USB Video Capture Ca...\n",
      "72997  B008XI59K2  HP 2000 2000-2C29WM 2000-2B19WM 693711-001 677...\n",
      "72998  B00HNDCWQM  Fosmon 3 RCA Male to 3 RCA Male Stereo Audio C...\n",
      "\n",
      "[72999 rows x 2 columns]\n"
     ]
    }
   ],
   "source": [
    "prod_title_list=prod_title.values.tolist()\n",
    "prod_df=pd.DataFrame(prod_title_list)\n",
    "print(type(prod_df),prod_df)"
   ]
  },
  {
   "cell_type": "code",
   "execution_count": 140,
   "metadata": {
    "colab": {
     "base_uri": "https://localhost:8080/"
    },
    "id": "eVFH4dxz5p86",
    "outputId": "85f98993-cada-4389-b3b2-109d59b38124"
   },
   "outputs": [
    {
     "name": "stdout",
     "output_type": "stream",
     "text": [
      "recommended categories for previous user [' Portable Audio & Video']\n",
      " Portable Audio & Video\n",
      "         asin                                              title\n",
      "0  B00B8PRRTI  Eton Rugged Rukus Solar-powered, Bluetooth, sm...\n",
      "1  B00CBD65Z8  TOMTOP Mini Digital Portable Music MP3/4 Playe...\n",
      "2  B009WTYIKS  For Apple iPod Touch 5 Armor 3 in 1 w/Stand Bl...\n",
      "3  B009WGCGUA  iPod Touch 6 Case, 3-in-1 Duo Armor Case and H...\n",
      "4  B009W5O2U8  Scosche boomSTREAM mini Portable Bluetooth Wir...\n"
     ]
    }
   ],
   "source": [
    "l=reco_user_cross_category('A24QYDVR8BKT5',ratings2,prod_title)"
   ]
  },
  {
   "cell_type": "code",
   "execution_count": 181,
   "metadata": {
    "colab": {
     "base_uri": "https://localhost:8080/"
    },
    "id": "tbx-W7wzPDZJ",
    "outputId": "373bce66-0c9c-48f7-9978-6f0efac82d7d"
   },
   "outputs": [
    {
     "name": "stdout",
     "output_type": "stream",
     "text": [
      "recommendation for new user ['B01HJCN1EI', 'B00BWBEL1U', 'B00BUZ0K68', 'B00BV31QU8', 'B00BV9KAOK', 'B01HB3YWLG', 'B000X3NROK', 'B000XG532Q', 'B00A0EUA2Y', 'B00A7BGMTU', 'B01HITUTV0', 'B0078OVG0O', 'B0078K17WK', 'B0078K16IK', 'B0078J2HS4', 'B00B8PRRTI', 'B00CBD65Z8', 'B009WTYIKS', 'B009WGCGUA', 'B009W5O2U8', 'B01GXJTDEU', 'B000097O5F', 'B00092DAFG', 'B0009FUX94', 'B0009HAI4W', 'B01HJDR9DQ', 'B00HFYGQHU', 'B007AUW3F8', 'B007B4ZDUA', 'B007B5Q25E', 'B00STP874O', 'B001NTFAOS', 'B001NTBVPA', 'B00U109CIA', 'B00U57WIYO', 'B00BLQ2T9M', 'B007P2NKNU', 'B007AQ2W2Q', 'B007AQ2YMO', 'B007BFZ4NU', 'B00CWEJ5NA', 'B00GYCWY70', 'B007KOS31W', 'B0043BVJ2U', 'B00EZB26I4', 'B00GSJROBA', 'B00BFF92XK', 'B00BPCQ6H8', 'B00BMFYYO0', 'B000ZZINTK', 'B00006JPV6', 'B00H3TJ3P4', 'B00FTH6WNS', 'B000N20668', 'B00G2QCJW8', 'B001JM55CQ', 'B000COVZD0', 'B00069QNGA', 'B0006BKG9I', 'B0006GR8CQ', 'B01GCP0QIM', 'B0000C4G8B', 'B0000C73CQ', 'B0000DC0T3', 'B0000DIVAQ', 'B002I007IA', 'B001N85Z12', 'B001N82JSY', 'B003V5B76C', 'B0037TA7QS', 'B005DIBIRS', 'B00550D1AG', 'B00542NVDW', 'B0052XZO1U', 'B005140NAW', 'B0000696CO', 'B00OEV9MW8', 'B00RPJON8E', 'B00RJU0SE2', 'B00QXS8L6I', 'B000WP2RC2', '140053271X', '1935009311', '1935009192', '1935009036', 'B00FGKECBW', 'B004SD229M', 'B00BU1KGGG', 'B002J46IYW', 'B00BNK3JWM', 'B00RY074RG', 'B0002GUBIS', 'B000234TYI', 'B00024VU5I', 'B0002BNS6A', 'B000796XYQ', 'B00029X21S', 'B0006GFVPC', 'B0006GX0IC', 'B0006HBBF0', 'B01HCT3GCU', 'B00ZN07GBS', 'B00ZABBRZQ', 'B00YKNY612', 'B00YKNW8GC', 'B000X4LR64', 'B0007N5LMM', 'B0002JJU2S', 'B0006AZDGK', 'B0006AZDII', 'B006HFVXSU', 'B00080FPRU', 'B000G835DA', 'B000F6SR0O', 'B000F2R5HO', 'B001EU4ZF6', 'B01DNTWIA4']\n"
     ]
    }
   ],
   "source": [
    "l=reco_user_cross_category('Mona',ratings2,prod_title)"
   ]
  }
 ],
 "metadata": {
  "colab": {
   "collapsed_sections": [],
   "name": "pyspark_electronics_monalisa.ipynb",
   "provenance": []
  },
  "kernelspec": {
   "display_name": "Python 3",
   "language": "python",
   "name": "python3"
  },
  "language_info": {
   "codemirror_mode": {
    "name": "ipython",
    "version": 3
   },
   "file_extension": ".py",
   "mimetype": "text/x-python",
   "name": "python",
   "nbconvert_exporter": "python",
   "pygments_lexer": "ipython3",
   "version": "3.8.8"
  }
 },
 "nbformat": 4,
 "nbformat_minor": 4
}
