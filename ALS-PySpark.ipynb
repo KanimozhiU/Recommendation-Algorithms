{
 "cells": [
  {
   "cell_type": "markdown",
   "metadata": {
    "id": "pk1_J1frr79c"
   },
   "source": [
    "Read data and Exploratory Data Aalysis"
   ]
  },
  {
   "cell_type": "code",
   "execution_count": 1,
   "metadata": {
    "colab": {
     "base_uri": "https://localhost:8080/"
    },
    "id": "TukZfMGPK9L0",
    "outputId": "4c2a98e9-98a2-4b08-82ec-4e718677d459"
   },
   "outputs": [
    {
     "name": "stdout",
     "output_type": "stream",
     "text": [
      "update-alternatives: using /usr/lib/jvm/java-8-openjdk-amd64/jre/bin/java to provide /usr/bin/java (java) in manual mode\n"
     ]
    }
   ],
   "source": [
    "# Install jdk8\n",
    "!apt-get install openjdk-8-jdk-headless -qq > /dev/null\n",
    "# Set jdk environment path which enables you to run Pyspark in your Colab environment.\n",
    "import os\n",
    "os.environ[\"JAVA_HOME\"] = \"/usr/lib/jvm/java-8-openjdk-amd64\"\n",
    "!update-alternatives --set java /usr/lib/jvm/java-8-openjdk-amd64/jre/bin/java"
   ]
  },
  {
   "cell_type": "code",
   "execution_count": 2,
   "metadata": {
    "colab": {
     "base_uri": "https://localhost:8080/"
    },
    "id": "ISbHyMEGM93f",
    "outputId": "5d6c627b-9861-464f-91a6-233af1551810"
   },
   "outputs": [
    {
     "name": "stdout",
     "output_type": "stream",
     "text": [
      "Mounted at /content/drive\n"
     ]
    }
   ],
   "source": [
    "from google.colab import drive\n",
    "drive.mount('/content/drive')"
   ]
  },
  {
   "cell_type": "code",
   "execution_count": 3,
   "metadata": {
    "id": "aUcAZc6LNMOv"
   },
   "outputs": [],
   "source": [
    "url='/content/drive/MyDrive/dataset/amazon_electronic_subset.csv'"
   ]
  },
  {
   "cell_type": "code",
   "execution_count": 4,
   "metadata": {
    "colab": {
     "base_uri": "https://localhost:8080/"
    },
    "id": "WgU7WkPqNgh1",
    "outputId": "642bc0aa-5793-4944-efd6-afeb5dc0b843"
   },
   "outputs": [
    {
     "name": "stdout",
     "output_type": "stream",
     "text": [
      "Collecting pyspark==2.3.0\n",
      "  Downloading pyspark-2.3.0.tar.gz (211.9 MB)\n",
      "\u001b[K     |████████████████████████████████| 211.9 MB 57 kB/s \n",
      "\u001b[?25hCollecting py4j==0.10.6\n",
      "  Downloading py4j-0.10.6-py2.py3-none-any.whl (189 kB)\n",
      "\u001b[K     |████████████████████████████████| 189 kB 20.2 MB/s \n",
      "\u001b[?25hBuilding wheels for collected packages: pyspark\n",
      "  Building wheel for pyspark (setup.py) ... \u001b[?25l\u001b[?25hdone\n",
      "  Created wheel for pyspark: filename=pyspark-2.3.0-py2.py3-none-any.whl size=212271917 sha256=f974c6037f3e096e101c1c839cd18d8a9624ec76abdb6c59064de7fd3de268ec\n",
      "  Stored in directory: /root/.cache/pip/wheels/c0/ed/08/40a6e0c03e6564ebe4e757a6081779570dd81f73a5817789e6\n",
      "Successfully built pyspark\n",
      "Installing collected packages: py4j, pyspark\n",
      "Successfully installed py4j-0.10.6 pyspark-2.3.0\n"
     ]
    }
   ],
   "source": [
    "!pip install pyspark==2.3.0"
   ]
  },
  {
   "cell_type": "code",
   "execution_count": 5,
   "metadata": {
    "id": "TbMdvJ-TNiB5"
   },
   "outputs": [],
   "source": [
    "#import module\n",
    "from pyspark.ml.recommendation import ALS\n",
    "from pyspark.sql import SparkSession\n",
    "from pyspark import SparkContext\n",
    "from pyspark.sql.functions import col\n",
    "from pyspark.sql import SQLContext\n",
    "from pyspark.ml import Pipeline\n",
    "from pyspark.ml.feature import StringIndexer\n",
    "from pyspark.ml.evaluation import RegressionEvaluator\n",
    "from pyspark.sql.types import StructType, StructField, IntegerType\n",
    "import matplotlib.pyplot as plt\n",
    "%matplotlib inline"
   ]
  },
  {
   "cell_type": "code",
   "execution_count": 6,
   "metadata": {
    "id": "kWM6GSDrNue7"
   },
   "outputs": [],
   "source": [
    "import numpy as np\n",
    "import pandas as pd\n",
    "import seaborn as sns\n",
    "import matplotlib as plt\n",
    "import json\n",
    "import gzip"
   ]
  },
  {
   "cell_type": "code",
   "execution_count": 14,
   "metadata": {
    "id": "rgZ_xud6bqmo"
   },
   "outputs": [],
   "source": [
    "#import module\n",
    "from pyspark.ml.recommendation import ALS\n",
    "from pyspark.sql import SparkSession\n",
    "from pyspark import SparkContext\n",
    "from pyspark.sql.functions import col\n",
    "from pyspark.sql import SQLContext\n",
    "from pyspark.ml import Pipeline\n",
    "from pyspark.ml.feature import StringIndexer\n",
    "from pyspark.ml.evaluation import RegressionEvaluator\n",
    "from pyspark.sql.types import StructType, StructField, IntegerType\n",
    "import matplotlib.pyplot as plt\n",
    "%matplotlib inline\n",
    "import numpy as np\n",
    "import pandas as pd\n",
    "import seaborn as sns\n",
    "import matplotlib.pyplot as plt\n",
    "import json\n",
    "import gzip\n",
    "from copy import deepcopy\n",
    "import time\n",
    "from scipy.sparse.linalg import svds\n",
    "from sklearn.metrics import mean_absolute_error"
   ]
  },
  {
   "cell_type": "code",
   "execution_count": 7,
   "metadata": {
    "id": "XBHWHBlrNy5N"
   },
   "outputs": [],
   "source": [
    "#create session\n",
    "appName = \"Recommendation system in Spark with ALS\"\n",
    "spark = SparkSession \\\n",
    "    .builder \\\n",
    "    .appName(appName) \\\n",
    "    .config(\"spark.some.config.option\", \"some-value\") \\\n",
    "    .getOrCreate()"
   ]
  },
  {
   "cell_type": "code",
   "execution_count": 8,
   "metadata": {
    "colab": {
     "base_uri": "https://localhost:8080/"
    },
    "id": "IIAXrpUbN8NW",
    "outputId": "7a6b94d3-a58d-4d57-ad65-c61da31f3037"
   },
   "outputs": [
    {
     "name": "stderr",
     "output_type": "stream",
     "text": [
      "/usr/local/lib/python3.7/dist-packages/IPython/core/interactiveshell.py:2718: DtypeWarning: Columns (2) have mixed types.Specify dtype option on import or set low_memory=False.\n",
      "  interactivity=interactivity, compiler=compiler, result=result)\n"
     ]
    }
   ],
   "source": [
    "df1 = pd.read_csv(url)"
   ]
  },
  {
   "cell_type": "code",
   "execution_count": null,
   "metadata": {
    "colab": {
     "base_uri": "https://localhost:8080/",
     "height": 242
    },
    "id": "7fATIrTDOCKN",
    "outputId": "7b652f03-6e35-4609-9f95-62c7ea6e232d"
   },
   "outputs": [
    {
     "data": {
      "text/html": [
       "<div>\n",
       "<style scoped>\n",
       "    .dataframe tbody tr th:only-of-type {\n",
       "        vertical-align: middle;\n",
       "    }\n",
       "\n",
       "    .dataframe tbody tr th {\n",
       "        vertical-align: top;\n",
       "    }\n",
       "\n",
       "    .dataframe thead th {\n",
       "        text-align: right;\n",
       "    }\n",
       "</style>\n",
       "<table border=\"1\" class=\"dataframe\">\n",
       "  <thead>\n",
       "    <tr style=\"text-align: right;\">\n",
       "      <th></th>\n",
       "      <th>Unnamed: 0</th>\n",
       "      <th>overall</th>\n",
       "      <th>vote</th>\n",
       "      <th>verified</th>\n",
       "      <th>reviewTime</th>\n",
       "      <th>reviewerID</th>\n",
       "      <th>asin</th>\n",
       "      <th>style</th>\n",
       "      <th>reviewerName</th>\n",
       "      <th>reviewText</th>\n",
       "      <th>summary</th>\n",
       "      <th>unixReviewTime</th>\n",
       "      <th>image</th>\n",
       "    </tr>\n",
       "  </thead>\n",
       "  <tbody>\n",
       "    <tr>\n",
       "      <th>0</th>\n",
       "      <td>1425280</td>\n",
       "      <td>2.0</td>\n",
       "      <td>NaN</td>\n",
       "      <td>True</td>\n",
       "      <td>01 24, 2015</td>\n",
       "      <td>AMFPAS8VMIDGJ</td>\n",
       "      <td>B002B3YCQM</td>\n",
       "      <td>{'Package Type:': ' Standard Packaging'}</td>\n",
       "      <td>Crewtx</td>\n",
       "      <td>I've stopped counting the number of mice I've ...</td>\n",
       "      <td>I've stopped counting the number of mice I've ...</td>\n",
       "      <td>1422057600</td>\n",
       "      <td>NaN</td>\n",
       "    </tr>\n",
       "    <tr>\n",
       "      <th>1</th>\n",
       "      <td>4253927</td>\n",
       "      <td>4.0</td>\n",
       "      <td>2</td>\n",
       "      <td>True</td>\n",
       "      <td>12 3, 2017</td>\n",
       "      <td>ABID49T47BLBF</td>\n",
       "      <td>B00JXXXOS0</td>\n",
       "      <td>NaN</td>\n",
       "      <td>Donald L. DeMent</td>\n",
       "      <td>I've only had it 1 day but it worked for me pl...</td>\n",
       "      <td>Worked for playing local (R 1) DVDs and the Au...</td>\n",
       "      <td>1512259200</td>\n",
       "      <td>NaN</td>\n",
       "    </tr>\n",
       "    <tr>\n",
       "      <th>2</th>\n",
       "      <td>3395176</td>\n",
       "      <td>5.0</td>\n",
       "      <td>NaN</td>\n",
       "      <td>True</td>\n",
       "      <td>09 24, 2014</td>\n",
       "      <td>A2IQGDEA5FONCT</td>\n",
       "      <td>B00CSQYVWM</td>\n",
       "      <td>{'Style:': ' Skeleton Housing'}</td>\n",
       "      <td>JT</td>\n",
       "      <td>perfect for indoors and automobile use.</td>\n",
       "      <td>Five Stars</td>\n",
       "      <td>1411516800</td>\n",
       "      <td>NaN</td>\n",
       "    </tr>\n",
       "  </tbody>\n",
       "</table>\n",
       "</div>"
      ],
      "text/plain": [
       "   Unnamed: 0  overall  ... unixReviewTime  image\n",
       "0     1425280      2.0  ...     1422057600    NaN\n",
       "1     4253927      4.0  ...     1512259200    NaN\n",
       "2     3395176      5.0  ...     1411516800    NaN\n",
       "\n",
       "[3 rows x 13 columns]"
      ]
     },
     "execution_count": 9,
     "metadata": {},
     "output_type": "execute_result"
    }
   ],
   "source": [
    "df1.head(3)"
   ]
  },
  {
   "cell_type": "code",
   "execution_count": 9,
   "metadata": {
    "id": "r8dcrZzTOG6O"
   },
   "outputs": [],
   "source": [
    "from copy import deepcopy"
   ]
  },
  {
   "cell_type": "code",
   "execution_count": 10,
   "metadata": {
    "colab": {
     "base_uri": "https://localhost:8080/"
    },
    "id": "uL4c_5QLU6Ia",
    "outputId": "aab7d0dc-c787-4e00-d43e-7fc8b5551e0d"
   },
   "outputs": [
    {
     "data": {
      "text/plain": [
       "<bound method DataFrame.drop_duplicates of         Unnamed: 0  overall  ...        asin unixReviewTime\n",
       "0          1425280      2.0  ...  B002B3YCQM     1422057600\n",
       "1          4253927      4.0  ...  B00JXXXOS0     1512259200\n",
       "2          3395176      5.0  ...  B00CSQYVWM     1411516800\n",
       "3          1421371      4.0  ...  B002AF5184     1354665600\n",
       "4          2768360      5.0  ...  B008LTBM6S     1451952000\n",
       "...            ...      ...  ...         ...            ...\n",
       "235881     2741767      5.0  ...  B008DBI5RI     1360108800\n",
       "235882     3967102      5.0  ...  B00HNDCWQM     1464998400\n",
       "235883     1020058      5.0  ...  B0014KQ4NM     1425513600\n",
       "235884     3661069      3.0  ...  B00EPCNB96     1446336000\n",
       "235885      363914      5.0  ...  B0009N8SMK     1473984000\n",
       "\n",
       "[235886 rows x 6 columns]>"
      ]
     },
     "execution_count": 10,
     "metadata": {},
     "output_type": "execute_result"
    }
   ],
   "source": [
    "dataset=deepcopy(df1)\n",
    "dataset.drop(['image','style','vote','reviewText','reviewerName','verified','summary'],axis=1, inplace = True)\n",
    "dataset.fillna(value = 0, inplace = True)\n",
    "dataset.drop_duplicates"
   ]
  },
  {
   "cell_type": "code",
   "execution_count": 11,
   "metadata": {
    "id": "M260J4hdbWTp"
   },
   "outputs": [],
   "source": [
    "rev1=deepcopy(dataset)"
   ]
  },
  {
   "cell_type": "code",
   "execution_count": 12,
   "metadata": {
    "colab": {
     "base_uri": "https://localhost:8080/",
     "height": 203
    },
    "id": "bCzDceWqbXyA",
    "outputId": "87f8e389-4e7b-4a5a-a3e4-90ac03b24188"
   },
   "outputs": [
    {
     "data": {
      "text/html": [
       "<div>\n",
       "<style scoped>\n",
       "    .dataframe tbody tr th:only-of-type {\n",
       "        vertical-align: middle;\n",
       "    }\n",
       "\n",
       "    .dataframe tbody tr th {\n",
       "        vertical-align: top;\n",
       "    }\n",
       "\n",
       "    .dataframe thead th {\n",
       "        text-align: right;\n",
       "    }\n",
       "</style>\n",
       "<table border=\"1\" class=\"dataframe\">\n",
       "  <thead>\n",
       "    <tr style=\"text-align: right;\">\n",
       "      <th></th>\n",
       "      <th>Labels</th>\n",
       "      <th>Ratings</th>\n",
       "    </tr>\n",
       "  </thead>\n",
       "  <tbody>\n",
       "    <tr>\n",
       "      <th>0</th>\n",
       "      <td>5.0</td>\n",
       "      <td>151326</td>\n",
       "    </tr>\n",
       "    <tr>\n",
       "      <th>1</th>\n",
       "      <td>4.0</td>\n",
       "      <td>39809</td>\n",
       "    </tr>\n",
       "    <tr>\n",
       "      <th>2</th>\n",
       "      <td>3.0</td>\n",
       "      <td>17667</td>\n",
       "    </tr>\n",
       "    <tr>\n",
       "      <th>3</th>\n",
       "      <td>1.0</td>\n",
       "      <td>16350</td>\n",
       "    </tr>\n",
       "    <tr>\n",
       "      <th>4</th>\n",
       "      <td>2.0</td>\n",
       "      <td>10734</td>\n",
       "    </tr>\n",
       "  </tbody>\n",
       "</table>\n",
       "</div>"
      ],
      "text/plain": [
       "   Labels  Ratings\n",
       "0     5.0   151326\n",
       "1     4.0    39809\n",
       "2     3.0    17667\n",
       "3     1.0    16350\n",
       "4     2.0    10734"
      ]
     },
     "execution_count": 12,
     "metadata": {},
     "output_type": "execute_result"
    }
   ],
   "source": [
    "#count of Ratings\n",
    "rating_cnt = pd.DataFrame(rev1['overall'].value_counts()).reset_index()\n",
    "rating_cnt.columns = ['Labels', 'Ratings']\n",
    "rating_cnt"
   ]
  },
  {
   "cell_type": "code",
   "execution_count": 15,
   "metadata": {
    "colab": {
     "base_uri": "https://localhost:8080/",
     "height": 512
    },
    "id": "3Y01hTA4bjLC",
    "outputId": "b753175c-2866-4ce7-bf25-63b180dd9648"
   },
   "outputs": [
    {
     "name": "stderr",
     "output_type": "stream",
     "text": [
      "/usr/local/lib/python3.7/dist-packages/seaborn/_decorators.py:43: FutureWarning: Pass the following variable as a keyword arg: x. From version 0.12, the only valid positional argument will be `data`, and passing other arguments without an explicit keyword will result in an error or misinterpretation.\n",
      "  FutureWarning\n"
     ]
    },
    {
     "data": {
      "image/png": "[encoded data removed]",
      "text/plain": [
       "<Figure size 1080x504 with 2 Axes>"
      ]
     },
     "metadata": {
      "needs_background": "light"
     },
     "output_type": "display_data"
    }
   ],
   "source": [
    "#Countplot of the ratings, maximum user-products have got rating as 5\n",
    "fig, (ax1, ax2) = plt.subplots(nrows=1, ncols=2, figsize=(15,7))\n",
    "sns.set_theme(style=\"whitegrid\", palette=\"pastel\")\n",
    "sns.countplot(rev1['overall'], ax=ax1)\n",
    "ax1.set_xlabel('Rating Distribution', fontsize=10)\n",
    "ax1.set_ylabel('Count', fontsize=10)\n",
    "cmap = plt.get_cmap(\"tab20c\")\n",
    "\n",
    "\n",
    "explode = (0.1, 0, 0.1, 0, 0)\n",
    "ax2.pie(rating_cnt[\"Ratings\"], explode=explode, labels=rating_cnt.Labels, autopct='%1.2f%%',\n",
    "        shadow=True, startangle=70,colors = cmap([1,6,9,12,15]))\n",
    "ax2.axis('equal')\n",
    "plt.title(\"Rating Ratio\")\n",
    "plt.legend(rating_cnt.Labels, loc=3)\n",
    "plt.show()"
   ]
  },
  {
   "cell_type": "code",
   "execution_count": 16,
   "metadata": {
    "colab": {
     "base_uri": "https://localhost:8080/",
     "height": 565
    },
    "id": "J0m9cDDabuVD",
    "outputId": "091af3c6-93f8-435e-9e45-8cb5a41e2899"
   },
   "outputs": [
    {
     "data": {
      "text/plain": [
       "<seaborn.axisgrid.PairGrid at 0x7f7e13ea79d0>"
      ]
     },
     "execution_count": 16,
     "metadata": {},
     "output_type": "execute_result"
    },
    {
     "data": {
      "image/png": "[encoded data removed]",
      "text/plain": [
       "<Figure size 540x540 with 12 Axes>"
      ]
     },
     "metadata": {},
     "output_type": "display_data"
    }
   ],
   "source": [
    "sns.pairplot(rev1, diag_kind= 'kde')"
   ]
  },
  {
   "cell_type": "code",
   "execution_count": 17,
   "metadata": {
    "colab": {
     "base_uri": "https://localhost:8080/",
     "height": 481
    },
    "id": "H4TNpKbecIsr",
    "outputId": "433b3782-78f9-4098-f393-eb87730850c3"
   },
   "outputs": [
    {
     "data": {
      "text/plain": [
       "<matplotlib.axes._subplots.AxesSubplot at 0x7f7e08bec1d0>"
      ]
     },
     "execution_count": 17,
     "metadata": {},
     "output_type": "execute_result"
    },
    {
     "data": {
      "image/png": "[encoded data removed]",
      "text/plain": [
       "<Figure size 504x504 with 2 Axes>"
      ]
     },
     "metadata": {},
     "output_type": "display_data"
    }
   ],
   "source": [
    "#correlations\n",
    "mask = np.zeros_like(rev1.corr(), dtype=np.bool)\n",
    "mask[np.triu_indices_from(mask)] = True\n",
    "plt.figure(figsize=(7,7))\n",
    "plt.title('Correlation of Attributes', y=1.05, size=10)\n",
    "sns.heatmap(rev1.corr(),vmin=-1, cmap='YlGnBu',annot=True,  mask=mask, fmt='.2f')"
   ]
  },
  {
   "cell_type": "code",
   "execution_count": 18,
   "metadata": {
    "colab": {
     "base_uri": "https://localhost:8080/"
    },
    "id": "cVp6oSQwcPqH",
    "outputId": "aee89e38-e594-4007-d2e1-eae8f8954009"
   },
   "outputs": [
    {
     "name": "stdout",
     "output_type": "stream",
     "text": [
      "Data Summary....................................................................................\n",
      "\n",
      "Total number of Ratings : 235886\n",
      "Total number of Users   : 190621\n",
      "Total number of Products  : 73057\n"
     ]
    }
   ],
   "source": [
    "#Summary of the data\n",
    "print(\"Data Summary....................................................................................\")\n",
    "print(\"\\nTotal number of Ratings :\",rev1.shape[0])\n",
    "print(\"Total number of Users   :\", len(np.unique(rev1.reviewerID)))\n",
    "print(\"Total number of Products  :\", len(np.unique(rev1.asin)))"
   ]
  },
  {
   "cell_type": "code",
   "execution_count": 19,
   "metadata": {
    "colab": {
     "base_uri": "https://localhost:8080/"
    },
    "id": "Iww8u0xccXZf",
    "outputId": "b246e03f-e710-42cf-9c66-e9af53851ea6"
   },
   "outputs": [
    {
     "data": {
      "text/plain": [
       "reviewerID      asin      \n",
       "AZZZ3LGTCGUZF   B00DRQWA0W    5.0\n",
       "A2JBP38KY2RD7T  B00IPU5VA6    5.0\n",
       "A2JC8RREUM7QRG  B012ASBZEO    5.0\n",
       "A2JC8LWZKNV0D   B000ID7QNI    5.0\n",
       "A2JC8KSUNQIBC6  B01ETUV4I8    5.0\n",
       "                             ... \n",
       "A2FEG62RK2LYX8  B00LBPKSNW    1.0\n",
       "AIJQ2PTTLYNWL   B00QRPPCMI    1.0\n",
       "A1AWCFLECIYCUK  B000CRUZ7Y    1.0\n",
       "A1QM3L4ZAWI59N  B00IR8R7WQ    1.0\n",
       "A33P1Y85MALWRS  B007C1KKW8    1.0\n",
       "Name: overall, Length: 235621, dtype: float64"
      ]
     },
     "execution_count": 19,
     "metadata": {},
     "output_type": "execute_result"
    }
   ],
   "source": [
    "#Check and find the max ratings given by user for a particular item\n",
    "max_rat = rev1.groupby(['reviewerID','asin'])['overall'].max().sort_values(ascending=False)\n",
    "max_rat"
   ]
  },
  {
   "cell_type": "code",
   "execution_count": 20,
   "metadata": {
    "colab": {
     "base_uri": "https://localhost:8080/"
    },
    "id": "bjMG1ptpb-VA",
    "outputId": "a496cc8c-4188-4499-a95c-38feee498af2"
   },
   "outputs": [
    {
     "data": {
      "text/plain": [
       "reviewerID      asin      \n",
       "AZZZ3LGTCGUZF   B00DRQWA0W    5.0\n",
       "A2JBO53J1DSEKT  B0009RKL6M    5.0\n",
       "A2JC8LWZKNV0D   B000ID7QNI    5.0\n",
       "A2JC8KSUNQIBC6  B01ETUV4I8    5.0\n",
       "A2JC8BNOWADFJ   B006ROO1XA    5.0\n",
       "                             ... \n",
       "A3J8QGARDPGMEK  B00WQYCKSS    1.0\n",
       "A3D7CIQFT4MPRC  B001Q9A7RK    1.0\n",
       "A3J8KLXSR1IKAX  B00BB0ZSIC    1.0\n",
       "A2XVMEYID7X61C  B0065SMUOU    1.0\n",
       "A2MPA1RFEZW5HB  B00AMC2J1Y    1.0\n",
       "Name: overall, Length: 235621, dtype: float64"
      ]
     },
     "execution_count": 20,
     "metadata": {},
     "output_type": "execute_result"
    }
   ],
   "source": [
    "#Check and find the min ratings given by user for a particular item\n",
    "min_rat = rev1.groupby(['reviewerID','asin'])['overall'].min().sort_values(ascending=False)\n",
    "min_rat"
   ]
  },
  {
   "cell_type": "code",
   "execution_count": 21,
   "metadata": {
    "colab": {
     "base_uri": "https://localhost:8080/"
    },
    "id": "giFNyZdqc11h",
    "outputId": "72d2838a-b83a-421a-c8e4-32f83d856ac7"
   },
   "outputs": [
    {
     "data": {
      "text/plain": [
       "reviewerID\n",
       "ADLVFFE4VBT8      27\n",
       "A680RUE1FDO8B     26\n",
       "A3OA4DV4L81N1D    17\n",
       "ARBKYIVNYWK3C     17\n",
       "A23GFTVIETX7DS    16\n",
       "A26877IWJGISYM    16\n",
       "A31N0XY2UTB25C    15\n",
       "A2LXX47A0KMJVX    15\n",
       "AWPODHOB4GFWL     15\n",
       "A12DQZKRKTNF5E    15\n",
       "Name: overall, dtype: int64"
      ]
     },
     "execution_count": 21,
     "metadata": {},
     "output_type": "execute_result"
    }
   ],
   "source": [
    "no_rat_each_person = rev1.groupby(by='reviewerID')['overall'].count().sort_values(ascending=False)\n",
    "no_rat_each_person.head(10)"
   ]
  },
  {
   "cell_type": "code",
   "execution_count": 22,
   "metadata": {
    "colab": {
     "base_uri": "https://localhost:8080/"
    },
    "id": "CCHRvNChc3Lu",
    "outputId": "1280659a-d28e-471c-bc1c-8e2a2998be55"
   },
   "outputs": [
    {
     "data": {
      "text/plain": [
       "count    190621\n",
       "mean          1\n",
       "std           0\n",
       "min           1\n",
       "25%           1\n",
       "50%           1\n",
       "75%           1\n",
       "max          27\n",
       "Name: overall, dtype: int64"
      ]
     },
     "execution_count": 22,
     "metadata": {},
     "output_type": "execute_result"
    }
   ],
   "source": [
    "no_rat_each_person.describe().astype(int)"
   ]
  },
  {
   "cell_type": "code",
   "execution_count": 23,
   "metadata": {
    "colab": {
     "base_uri": "https://localhost:8080/",
     "height": 339
    },
    "id": "M624lTMBc_M2",
    "outputId": "efe8d0a4-71b4-4086-ce7b-6f6a16421737"
   },
   "outputs": [
    {
     "data": {
      "text/plain": [
       "<matplotlib.axes._subplots.AxesSubplot at 0x7f7e0737d590>"
      ]
     },
     "execution_count": 23,
     "metadata": {},
     "output_type": "execute_result"
    },
    {
     "data": {
      "image/png": "[encoded data removed]",
      "text/plain": [
       "<Figure size 1440x360 with 1 Axes>"
      ]
     },
     "metadata": {},
     "output_type": "display_data"
    }
   ],
   "source": [
    "plt.figure(figsize=(20,5))\n",
    "sns.boxplot(data=no_rat_each_person, orient='h', palette='Set2', dodge=False)"
   ]
  },
  {
   "cell_type": "code",
   "execution_count": 24,
   "metadata": {
    "colab": {
     "base_uri": "https://localhost:8080/",
     "height": 627
    },
    "id": "NRlXQYmqa0iX",
    "outputId": "dda272b6-a7d4-47a0-af34-301231467a6f"
   },
   "outputs": [
    {
     "data": {
      "image/png": "[encoded data removed]",
      "text/plain": [
       "<Figure size 720x720 with 1 Axes>"
      ]
     },
     "metadata": {},
     "output_type": "display_data"
    }
   ],
   "source": [
    "#We can see that all the ratings are clustered at the top end of the quantile\n",
    "\n",
    "quantiles = no_rat_each_person.quantile(np.arange(0,1.01,0.01), interpolation='higher')\n",
    "plt.figure(figsize=(10,10))\n",
    "plt.title(\"Quantiles and their Values\")\n",
    "quantiles.plot()\n",
    "plt.scatter(x=quantiles.index[::5], y=quantiles.values[::5], c='red', label=\"quantiles with 0.05 intervals\")\n",
    "plt.scatter(x=quantiles.index[::25], y=quantiles.values[::25], c='green', label = \"quantiles with 0.25 intervals\")\n",
    "plt.ylabel('# ratings by user')\n",
    "plt.xlabel('Value at the quantile')\n",
    "plt.legend(loc='best')\n",
    "plt.show()"
   ]
  },
  {
   "cell_type": "code",
   "execution_count": 26,
   "metadata": {
    "id": "1w6GwVwUdL9O"
   },
   "outputs": [],
   "source": [
    "new_df=deepcopy(rev1)"
   ]
  },
  {
   "cell_type": "code",
   "execution_count": 27,
   "metadata": {
    "colab": {
     "base_uri": "https://localhost:8080/"
    },
    "id": "3Vw_iy4TdgcW",
    "outputId": "5d036472-8193-44f9-bb4b-23c62a40e28e"
   },
   "outputs": [
    {
     "data": {
      "text/plain": [
       "reviewerID\n",
       "ADLVFFE4VBT8      27\n",
       "A680RUE1FDO8B     26\n",
       "A3OA4DV4L81N1D    17\n",
       "ARBKYIVNYWK3C     17\n",
       "A23GFTVIETX7DS    16\n",
       "A26877IWJGISYM    16\n",
       "A31N0XY2UTB25C    15\n",
       "A2LXX47A0KMJVX    15\n",
       "AWPODHOB4GFWL     15\n",
       "A12DQZKRKTNF5E    15\n",
       "Name: overall, dtype: int64"
      ]
     },
     "execution_count": 27,
     "metadata": {},
     "output_type": "execute_result"
    }
   ],
   "source": [
    "#total no. of rating for each person\n",
    "new_df.groupby(by='reviewerID')['overall'].count().sort_values(ascending=False)\n",
    "no_rat_each_person.head(10)"
   ]
  },
  {
   "cell_type": "code",
   "execution_count": 28,
   "metadata": {
    "colab": {
     "base_uri": "https://localhost:8080/",
     "height": 301
    },
    "id": "baSdUaXbdnbe",
    "outputId": "2e783963-926d-42c5-9dcf-3301af4cee41"
   },
   "outputs": [
    {
     "data": {
      "image/png": "[encoded data removed]",
      "text/plain": [
       "<Figure size 432x288 with 2 Axes>"
      ]
     },
     "metadata": {},
     "output_type": "display_data"
    }
   ],
   "source": [
    "#PDF and CDF for the number of ratings per user\n",
    "#PDF is left skewed as majority of the users have given very few ratings\n",
    "ax1 = plt.subplot(121)\n",
    "sns.kdeplot(no_rat_each_person, shade=True, ax=ax1)\n",
    "plt.xlabel('No of ratings by user')\n",
    "plt.title(\"PDF\")\n",
    "\n",
    "ax2 = plt.subplot(122)\n",
    "sns.kdeplot(no_rat_each_person, shade=True, cumulative=True,ax=ax2)\n",
    "plt.xlabel('No of ratings by user')\n",
    "plt.title('CDF')\n",
    "\n",
    "plt.show()"
   ]
  },
  {
   "cell_type": "code",
   "execution_count": 29,
   "metadata": {
    "colab": {
     "base_uri": "https://localhost:8080/",
     "height": 308
    },
    "id": "GhBLNoQKdsz5",
    "outputId": "99ba583f-a3f3-4ed2-82cd-0a76b0fee54d"
   },
   "outputs": [
    {
     "data": {
      "text/plain": [
       "<function matplotlib.pyplot.show>"
      ]
     },
     "execution_count": 29,
     "metadata": {},
     "output_type": "execute_result"
    },
    {
     "data": {
      "image/png": "[encoded data removed]",
      "text/plain": [
       "<Figure size 576x288 with 1 Axes>"
      ]
     },
     "metadata": {},
     "output_type": "display_data"
    }
   ],
   "source": [
    "#plot of number of ratings per product\n",
    "no_of_ratings_per_product = new_df.groupby(by='asin')['overall'].count().sort_values(ascending=False)\n",
    "\n",
    "fig = plt.figure(figsize=plt.figaspect(.5))\n",
    "ax = plt.gca()\n",
    "plt.plot(no_of_ratings_per_product.values)\n",
    "plt.title('no. RATINGS per Product')\n",
    "plt.xlabel('Product')\n",
    "plt.ylabel('no. ratings per product')\n",
    "ax.set_xticklabels([])\n",
    "\n",
    "plt.show"
   ]
  },
  {
   "cell_type": "code",
   "execution_count": 30,
   "metadata": {
    "id": "uU_82UK9a0lT"
   },
   "outputs": [],
   "source": [
    "quantiles = no_of_ratings_per_product.quantile(np.arange(0,1.01,0.01), interpolation='higher')"
   ]
  },
  {
   "cell_type": "code",
   "execution_count": null,
   "metadata": {
    "colab": {
     "base_uri": "https://localhost:8080/",
     "height": 417
    },
    "id": "WI6NKSwcOQjy",
    "outputId": "f8b74753-44a9-4ffe-9455-0227e84f00be"
   },
   "outputs": [
    {
     "data": {
      "text/html": [
       "<div>\n",
       "<style scoped>\n",
       "    .dataframe tbody tr th:only-of-type {\n",
       "        vertical-align: middle;\n",
       "    }\n",
       "\n",
       "    .dataframe tbody tr th {\n",
       "        vertical-align: top;\n",
       "    }\n",
       "\n",
       "    .dataframe thead th {\n",
       "        text-align: right;\n",
       "    }\n",
       "</style>\n",
       "<table border=\"1\" class=\"dataframe\">\n",
       "  <thead>\n",
       "    <tr style=\"text-align: right;\">\n",
       "      <th></th>\n",
       "      <th>Unnamed: 0</th>\n",
       "      <th>overall</th>\n",
       "      <th>reviewerID</th>\n",
       "      <th>asin</th>\n",
       "      <th>unixReviewTime</th>\n",
       "    </tr>\n",
       "  </thead>\n",
       "  <tbody>\n",
       "    <tr>\n",
       "      <th>0</th>\n",
       "      <td>1425280</td>\n",
       "      <td>2.0</td>\n",
       "      <td>AMFPAS8VMIDGJ</td>\n",
       "      <td>B002B3YCQM</td>\n",
       "      <td>1422057600</td>\n",
       "    </tr>\n",
       "    <tr>\n",
       "      <th>1</th>\n",
       "      <td>4253927</td>\n",
       "      <td>4.0</td>\n",
       "      <td>ABID49T47BLBF</td>\n",
       "      <td>B00JXXXOS0</td>\n",
       "      <td>1512259200</td>\n",
       "    </tr>\n",
       "    <tr>\n",
       "      <th>2</th>\n",
       "      <td>3395176</td>\n",
       "      <td>5.0</td>\n",
       "      <td>A2IQGDEA5FONCT</td>\n",
       "      <td>B00CSQYVWM</td>\n",
       "      <td>1411516800</td>\n",
       "    </tr>\n",
       "    <tr>\n",
       "      <th>3</th>\n",
       "      <td>1421371</td>\n",
       "      <td>4.0</td>\n",
       "      <td>A29GIVFYIGNM79</td>\n",
       "      <td>B002AF5184</td>\n",
       "      <td>1354665600</td>\n",
       "    </tr>\n",
       "    <tr>\n",
       "      <th>4</th>\n",
       "      <td>2768360</td>\n",
       "      <td>5.0</td>\n",
       "      <td>A1MPC88C5RBO91</td>\n",
       "      <td>B008LTBM6S</td>\n",
       "      <td>1451952000</td>\n",
       "    </tr>\n",
       "    <tr>\n",
       "      <th>...</th>\n",
       "      <td>...</td>\n",
       "      <td>...</td>\n",
       "      <td>...</td>\n",
       "      <td>...</td>\n",
       "      <td>...</td>\n",
       "    </tr>\n",
       "    <tr>\n",
       "      <th>235881</th>\n",
       "      <td>2741767</td>\n",
       "      <td>5.0</td>\n",
       "      <td>A28FXEB3VIG8DU</td>\n",
       "      <td>B008DBI5RI</td>\n",
       "      <td>1360108800</td>\n",
       "    </tr>\n",
       "    <tr>\n",
       "      <th>235882</th>\n",
       "      <td>3967102</td>\n",
       "      <td>5.0</td>\n",
       "      <td>A1MGUMKNMC5DL5</td>\n",
       "      <td>B00HNDCWQM</td>\n",
       "      <td>1464998400</td>\n",
       "    </tr>\n",
       "    <tr>\n",
       "      <th>235883</th>\n",
       "      <td>1020058</td>\n",
       "      <td>5.0</td>\n",
       "      <td>A237SN14B2I5AX</td>\n",
       "      <td>B0014KQ4NM</td>\n",
       "      <td>1425513600</td>\n",
       "    </tr>\n",
       "    <tr>\n",
       "      <th>235884</th>\n",
       "      <td>3661069</td>\n",
       "      <td>3.0</td>\n",
       "      <td>A3VUQ1W0WOQAX4</td>\n",
       "      <td>B00EPCNB96</td>\n",
       "      <td>1446336000</td>\n",
       "    </tr>\n",
       "    <tr>\n",
       "      <th>235885</th>\n",
       "      <td>363914</td>\n",
       "      <td>5.0</td>\n",
       "      <td>A388ZBL9XCJ1FC</td>\n",
       "      <td>B0009N8SMK</td>\n",
       "      <td>1473984000</td>\n",
       "    </tr>\n",
       "  </tbody>\n",
       "</table>\n",
       "<p>235886 rows × 5 columns</p>\n",
       "</div>"
      ],
      "text/plain": [
       "        Unnamed: 0  overall      reviewerID        asin  unixReviewTime\n",
       "0          1425280      2.0   AMFPAS8VMIDGJ  B002B3YCQM      1422057600\n",
       "1          4253927      4.0   ABID49T47BLBF  B00JXXXOS0      1512259200\n",
       "2          3395176      5.0  A2IQGDEA5FONCT  B00CSQYVWM      1411516800\n",
       "3          1421371      4.0  A29GIVFYIGNM79  B002AF5184      1354665600\n",
       "4          2768360      5.0  A1MPC88C5RBO91  B008LTBM6S      1451952000\n",
       "...            ...      ...             ...         ...             ...\n",
       "235881     2741767      5.0  A28FXEB3VIG8DU  B008DBI5RI      1360108800\n",
       "235882     3967102      5.0  A1MGUMKNMC5DL5  B00HNDCWQM      1464998400\n",
       "235883     1020058      5.0  A237SN14B2I5AX  B0014KQ4NM      1425513600\n",
       "235884     3661069      3.0  A3VUQ1W0WOQAX4  B00EPCNB96      1446336000\n",
       "235885      363914      5.0  A388ZBL9XCJ1FC  B0009N8SMK      1473984000\n",
       "\n",
       "[235886 rows x 5 columns]"
      ]
     },
     "execution_count": 11,
     "metadata": {},
     "output_type": "execute_result"
    }
   ],
   "source": [
    "ratings = deepcopy(df1)\n",
    "ratings.drop(['reviewTime','image','style','vote','reviewText','reviewerName','verified','summary'],axis=1, inplace = True)\n",
    "ratings.fillna(value = 0, inplace = True)\n",
    "ratings.drop_duplicates\n",
    "ratings"
   ]
  },
  {
   "cell_type": "code",
   "execution_count": null,
   "metadata": {
    "id": "_pTZMovjPZ1A"
   },
   "outputs": [],
   "source": [
    "dataset=deepcopy(ratings)"
   ]
  },
  {
   "cell_type": "code",
   "execution_count": null,
   "metadata": {
    "id": "bkdQ3YzJWjVy"
   },
   "outputs": [],
   "source": [
    "ratings = pd.DataFrame(ratings)"
   ]
  },
  {
   "cell_type": "code",
   "execution_count": null,
   "metadata": {
    "colab": {
     "base_uri": "https://localhost:8080/",
     "height": 417
    },
    "id": "ZqHkq3rjW_I-",
    "outputId": "41ee8c7b-2417-46f3-e458-7b27736c18b0"
   },
   "outputs": [
    {
     "data": {
      "text/html": [
       "<div>\n",
       "<style scoped>\n",
       "    .dataframe tbody tr th:only-of-type {\n",
       "        vertical-align: middle;\n",
       "    }\n",
       "\n",
       "    .dataframe tbody tr th {\n",
       "        vertical-align: top;\n",
       "    }\n",
       "\n",
       "    .dataframe thead th {\n",
       "        text-align: right;\n",
       "    }\n",
       "</style>\n",
       "<table border=\"1\" class=\"dataframe\">\n",
       "  <thead>\n",
       "    <tr style=\"text-align: right;\">\n",
       "      <th></th>\n",
       "      <th>Unnamed: 0</th>\n",
       "      <th>overall</th>\n",
       "      <th>reviewerID</th>\n",
       "      <th>asin</th>\n",
       "      <th>unixReviewTime</th>\n",
       "    </tr>\n",
       "  </thead>\n",
       "  <tbody>\n",
       "    <tr>\n",
       "      <th>0</th>\n",
       "      <td>1425280</td>\n",
       "      <td>2.0</td>\n",
       "      <td>AMFPAS8VMIDGJ</td>\n",
       "      <td>B002B3YCQM</td>\n",
       "      <td>1422057600</td>\n",
       "    </tr>\n",
       "    <tr>\n",
       "      <th>1</th>\n",
       "      <td>4253927</td>\n",
       "      <td>4.0</td>\n",
       "      <td>ABID49T47BLBF</td>\n",
       "      <td>B00JXXXOS0</td>\n",
       "      <td>1512259200</td>\n",
       "    </tr>\n",
       "    <tr>\n",
       "      <th>2</th>\n",
       "      <td>3395176</td>\n",
       "      <td>5.0</td>\n",
       "      <td>A2IQGDEA5FONCT</td>\n",
       "      <td>B00CSQYVWM</td>\n",
       "      <td>1411516800</td>\n",
       "    </tr>\n",
       "    <tr>\n",
       "      <th>3</th>\n",
       "      <td>1421371</td>\n",
       "      <td>4.0</td>\n",
       "      <td>A29GIVFYIGNM79</td>\n",
       "      <td>B002AF5184</td>\n",
       "      <td>1354665600</td>\n",
       "    </tr>\n",
       "    <tr>\n",
       "      <th>4</th>\n",
       "      <td>2768360</td>\n",
       "      <td>5.0</td>\n",
       "      <td>A1MPC88C5RBO91</td>\n",
       "      <td>B008LTBM6S</td>\n",
       "      <td>1451952000</td>\n",
       "    </tr>\n",
       "    <tr>\n",
       "      <th>...</th>\n",
       "      <td>...</td>\n",
       "      <td>...</td>\n",
       "      <td>...</td>\n",
       "      <td>...</td>\n",
       "      <td>...</td>\n",
       "    </tr>\n",
       "    <tr>\n",
       "      <th>235881</th>\n",
       "      <td>2741767</td>\n",
       "      <td>5.0</td>\n",
       "      <td>A28FXEB3VIG8DU</td>\n",
       "      <td>B008DBI5RI</td>\n",
       "      <td>1360108800</td>\n",
       "    </tr>\n",
       "    <tr>\n",
       "      <th>235882</th>\n",
       "      <td>3967102</td>\n",
       "      <td>5.0</td>\n",
       "      <td>A1MGUMKNMC5DL5</td>\n",
       "      <td>B00HNDCWQM</td>\n",
       "      <td>1464998400</td>\n",
       "    </tr>\n",
       "    <tr>\n",
       "      <th>235883</th>\n",
       "      <td>1020058</td>\n",
       "      <td>5.0</td>\n",
       "      <td>A237SN14B2I5AX</td>\n",
       "      <td>B0014KQ4NM</td>\n",
       "      <td>1425513600</td>\n",
       "    </tr>\n",
       "    <tr>\n",
       "      <th>235884</th>\n",
       "      <td>3661069</td>\n",
       "      <td>3.0</td>\n",
       "      <td>A3VUQ1W0WOQAX4</td>\n",
       "      <td>B00EPCNB96</td>\n",
       "      <td>1446336000</td>\n",
       "    </tr>\n",
       "    <tr>\n",
       "      <th>235885</th>\n",
       "      <td>363914</td>\n",
       "      <td>5.0</td>\n",
       "      <td>A388ZBL9XCJ1FC</td>\n",
       "      <td>B0009N8SMK</td>\n",
       "      <td>1473984000</td>\n",
       "    </tr>\n",
       "  </tbody>\n",
       "</table>\n",
       "<p>235886 rows × 5 columns</p>\n",
       "</div>"
      ],
      "text/plain": [
       "        Unnamed: 0  overall      reviewerID        asin  unixReviewTime\n",
       "0          1425280      2.0   AMFPAS8VMIDGJ  B002B3YCQM      1422057600\n",
       "1          4253927      4.0   ABID49T47BLBF  B00JXXXOS0      1512259200\n",
       "2          3395176      5.0  A2IQGDEA5FONCT  B00CSQYVWM      1411516800\n",
       "3          1421371      4.0  A29GIVFYIGNM79  B002AF5184      1354665600\n",
       "4          2768360      5.0  A1MPC88C5RBO91  B008LTBM6S      1451952000\n",
       "...            ...      ...             ...         ...             ...\n",
       "235881     2741767      5.0  A28FXEB3VIG8DU  B008DBI5RI      1360108800\n",
       "235882     3967102      5.0  A1MGUMKNMC5DL5  B00HNDCWQM      1464998400\n",
       "235883     1020058      5.0  A237SN14B2I5AX  B0014KQ4NM      1425513600\n",
       "235884     3661069      3.0  A3VUQ1W0WOQAX4  B00EPCNB96      1446336000\n",
       "235885      363914      5.0  A388ZBL9XCJ1FC  B0009N8SMK      1473984000\n",
       "\n",
       "[235886 rows x 5 columns]"
      ]
     },
     "execution_count": 13,
     "metadata": {},
     "output_type": "execute_result"
    }
   ],
   "source": [
    "ratings"
   ]
  },
  {
   "cell_type": "code",
   "execution_count": 31,
   "metadata": {
    "colab": {
     "base_uri": "https://localhost:8080/",
     "height": 339
    },
    "id": "whWySBo9pCAQ",
    "outputId": "81c354e8-c339-4aef-8498-bf2fb7de2df9"
   },
   "outputs": [
    {
     "data": {
      "text/plain": [
       "<matplotlib.axes._subplots.AxesSubplot at 0x7f7e0711e390>"
      ]
     },
     "execution_count": 31,
     "metadata": {},
     "output_type": "execute_result"
    },
    {
     "data": {
      "image/png": "[encoded data removed]",
      "text/plain": [
       "<Figure size 1440x360 with 1 Axes>"
      ]
     },
     "metadata": {},
     "output_type": "display_data"
    }
   ],
   "source": [
    "plt.figure(figsize=(20,5))\n",
    "sns.boxplot(data=no_of_ratings_per_product, orient='h', palette='Set2', dodge=False)"
   ]
  },
  {
   "cell_type": "code",
   "execution_count": 32,
   "metadata": {
    "colab": {
     "base_uri": "https://localhost:8080/",
     "height": 203
    },
    "id": "DMLAjLF0pQl2",
    "outputId": "e990f725-61db-4b6f-cc4b-1d5a93741f69"
   },
   "outputs": [
    {
     "data": {
      "text/html": [
       "<div>\n",
       "<style scoped>\n",
       "    .dataframe tbody tr th:only-of-type {\n",
       "        vertical-align: middle;\n",
       "    }\n",
       "\n",
       "    .dataframe tbody tr th {\n",
       "        vertical-align: top;\n",
       "    }\n",
       "\n",
       "    .dataframe thead th {\n",
       "        text-align: right;\n",
       "    }\n",
       "</style>\n",
       "<table border=\"1\" class=\"dataframe\">\n",
       "  <thead>\n",
       "    <tr style=\"text-align: right;\">\n",
       "      <th></th>\n",
       "      <th>year</th>\n",
       "      <th>count</th>\n",
       "    </tr>\n",
       "  </thead>\n",
       "  <tbody>\n",
       "    <tr>\n",
       "      <th>0</th>\n",
       "      <td>2015</td>\n",
       "      <td>50243</td>\n",
       "    </tr>\n",
       "    <tr>\n",
       "      <th>1</th>\n",
       "      <td>2016</td>\n",
       "      <td>50214</td>\n",
       "    </tr>\n",
       "    <tr>\n",
       "      <th>2</th>\n",
       "      <td>2014</td>\n",
       "      <td>36296</td>\n",
       "    </tr>\n",
       "    <tr>\n",
       "      <th>3</th>\n",
       "      <td>2017</td>\n",
       "      <td>32187</td>\n",
       "    </tr>\n",
       "    <tr>\n",
       "      <th>4</th>\n",
       "      <td>2013</td>\n",
       "      <td>22252</td>\n",
       "    </tr>\n",
       "  </tbody>\n",
       "</table>\n",
       "</div>"
      ],
      "text/plain": [
       "   year  count\n",
       "0  2015  50243\n",
       "1  2016  50214\n",
       "2  2014  36296\n",
       "3  2017  32187\n",
       "4  2013  22252"
      ]
     },
     "execution_count": 32,
     "metadata": {},
     "output_type": "execute_result"
    }
   ],
   "source": [
    "copy_year=deepcopy(df1)\n",
    "#Extract Year\n",
    "def year_extract(reviewTime):\n",
    "    year = reviewTime[-4:]\n",
    "    return year\n",
    "\n",
    "copy_year['Year'] = copy_year['reviewTime'].apply(year_extract)\n",
    "l=copy_year['Year'].value_counts()\n",
    "year_count=l.to_frame()\n",
    "year_count.rename({'Year':'count'}, axis=1,inplace=True)\n",
    "year_count.reset_index(level=0, inplace=True)\n",
    "year_count.rename({'index':'year'}, axis=1,inplace=True)\n",
    "year_count.head(5)"
   ]
  },
  {
   "cell_type": "code",
   "execution_count": 33,
   "metadata": {
    "colab": {
     "base_uri": "https://localhost:8080/",
     "height": 411
    },
    "id": "p5OyyI9BphqG",
    "outputId": "3334244f-b886-413e-8c80-203272f4e50e"
   },
   "outputs": [
    {
     "data": {
      "text/plain": [
       "<matplotlib.legend.Legend at 0x7f7e0607e1d0>"
      ]
     },
     "execution_count": 33,
     "metadata": {},
     "output_type": "execute_result"
    },
    {
     "data": {
      "image/png": "[encoded data removed]",
      "text/plain": [
       "<Figure size 864x432 with 1 Axes>"
      ]
     },
     "metadata": {},
     "output_type": "display_data"
    }
   ],
   "source": [
    "#year wise total number of sell\n",
    "import matplotlib.pyplot as plt\n",
    "  \n",
    "x = year_count['year']\n",
    "y = year_count['count']\n",
    "\n",
    "  \n",
    "# Plotting the Data\n",
    "plt.figure(figsize=(12,6))\n",
    "plt.plot(x, y, label='Trend of ratings by year')\n",
    "  \n",
    "plt.xlabel('year')\n",
    "plt.ylabel('total ratings')\n",
    "  \n",
    "plt.plot(y, 'o:g', linestyle='--', linewidth='2')\n",
    "\n",
    "  \n",
    "plt.legend()"
   ]
  },
  {
   "cell_type": "code",
   "execution_count": 34,
   "metadata": {
    "colab": {
     "base_uri": "https://localhost:8080/"
    },
    "id": "AA2HB4VypogK",
    "outputId": "2a6d4ba2-2bd3-4aee-d344-69f1ed24bbc5"
   },
   "outputs": [
    {
     "data": {
      "text/plain": [
       "asin\n",
       "B0019HL8Q8    299\n",
       "B0019EHU8G    292\n",
       "B003L1ZYYW    289\n",
       "B0015DYMVO    267\n",
       "B00BWF5U0M    237\n",
       "Name: overall, dtype: int64"
      ]
     },
     "execution_count": 34,
     "metadata": {},
     "output_type": "execute_result"
    }
   ],
   "source": [
    "#Total no of rating for product\n",
    "new_df.groupby('asin')['overall'].count().sort_values(ascending=False).head()"
   ]
  },
  {
   "cell_type": "code",
   "execution_count": 35,
   "metadata": {
    "colab": {
     "base_uri": "https://localhost:8080/",
     "height": 234
    },
    "id": "2IULizSjptk-",
    "outputId": "b680bd92-f989-4bce-9c2e-594210e2dda1"
   },
   "outputs": [
    {
     "data": {
      "text/html": [
       "<div>\n",
       "<style scoped>\n",
       "    .dataframe tbody tr th:only-of-type {\n",
       "        vertical-align: middle;\n",
       "    }\n",
       "\n",
       "    .dataframe tbody tr th {\n",
       "        vertical-align: top;\n",
       "    }\n",
       "\n",
       "    .dataframe thead th {\n",
       "        text-align: right;\n",
       "    }\n",
       "</style>\n",
       "<table border=\"1\" class=\"dataframe\">\n",
       "  <thead>\n",
       "    <tr style=\"text-align: right;\">\n",
       "      <th></th>\n",
       "      <th>overall</th>\n",
       "    </tr>\n",
       "    <tr>\n",
       "      <th>asin</th>\n",
       "      <th></th>\n",
       "    </tr>\n",
       "  </thead>\n",
       "  <tbody>\n",
       "    <tr>\n",
       "      <th>0380709473</th>\n",
       "      <td>4.00</td>\n",
       "    </tr>\n",
       "    <tr>\n",
       "      <th>0511189877</th>\n",
       "      <td>5.00</td>\n",
       "    </tr>\n",
       "    <tr>\n",
       "      <th>0545105668</th>\n",
       "      <td>4.50</td>\n",
       "    </tr>\n",
       "    <tr>\n",
       "      <th>0594296420</th>\n",
       "      <td>5.00</td>\n",
       "    </tr>\n",
       "    <tr>\n",
       "      <th>0594459451</th>\n",
       "      <td>4.75</td>\n",
       "    </tr>\n",
       "  </tbody>\n",
       "</table>\n",
       "</div>"
      ],
      "text/plain": [
       "            overall\n",
       "asin               \n",
       "0380709473     4.00\n",
       "0511189877     5.00\n",
       "0545105668     4.50\n",
       "0594296420     5.00\n",
       "0594459451     4.75"
      ]
     },
     "execution_count": 35,
     "metadata": {},
     "output_type": "execute_result"
    }
   ],
   "source": [
    "#mean rating for a product\n",
    "ratings_mean_count = pd.DataFrame(new_df.groupby('asin')['overall'].mean())\n",
    "ratings_mean_count.head(5)"
   ]
  },
  {
   "cell_type": "code",
   "execution_count": 36,
   "metadata": {
    "colab": {
     "base_uri": "https://localhost:8080/",
     "height": 234
    },
    "id": "5rvj33bnp2oe",
    "outputId": "82202253-55ad-4c8c-9906-ce28e6b3de6e"
   },
   "outputs": [
    {
     "data": {
      "text/html": [
       "<div>\n",
       "<style scoped>\n",
       "    .dataframe tbody tr th:only-of-type {\n",
       "        vertical-align: middle;\n",
       "    }\n",
       "\n",
       "    .dataframe tbody tr th {\n",
       "        vertical-align: top;\n",
       "    }\n",
       "\n",
       "    .dataframe thead th {\n",
       "        text-align: right;\n",
       "    }\n",
       "</style>\n",
       "<table border=\"1\" class=\"dataframe\">\n",
       "  <thead>\n",
       "    <tr style=\"text-align: right;\">\n",
       "      <th></th>\n",
       "      <th>overall</th>\n",
       "      <th>rating_counts</th>\n",
       "    </tr>\n",
       "    <tr>\n",
       "      <th>asin</th>\n",
       "      <th></th>\n",
       "      <th></th>\n",
       "    </tr>\n",
       "  </thead>\n",
       "  <tbody>\n",
       "    <tr>\n",
       "      <th>0380709473</th>\n",
       "      <td>4.00</td>\n",
       "      <td>1</td>\n",
       "    </tr>\n",
       "    <tr>\n",
       "      <th>0511189877</th>\n",
       "      <td>5.00</td>\n",
       "      <td>1</td>\n",
       "    </tr>\n",
       "    <tr>\n",
       "      <th>0545105668</th>\n",
       "      <td>4.50</td>\n",
       "      <td>2</td>\n",
       "    </tr>\n",
       "    <tr>\n",
       "      <th>0594296420</th>\n",
       "      <td>5.00</td>\n",
       "      <td>1</td>\n",
       "    </tr>\n",
       "    <tr>\n",
       "      <th>0594459451</th>\n",
       "      <td>4.75</td>\n",
       "      <td>4</td>\n",
       "    </tr>\n",
       "  </tbody>\n",
       "</table>\n",
       "</div>"
      ],
      "text/plain": [
       "            overall  rating_counts\n",
       "asin                              \n",
       "0380709473     4.00              1\n",
       "0511189877     5.00              1\n",
       "0545105668     4.50              2\n",
       "0594296420     5.00              1\n",
       "0594459451     4.75              4"
      ]
     },
     "execution_count": 36,
     "metadata": {},
     "output_type": "execute_result"
    }
   ],
   "source": [
    "ratings_mean_count['rating_counts'] = pd.DataFrame(new_df.groupby('asin')['overall'].count())\n",
    "ratings_mean_count.head(5)"
   ]
  },
  {
   "cell_type": "code",
   "execution_count": 37,
   "metadata": {
    "colab": {
     "base_uri": "https://localhost:8080/"
    },
    "id": "B_N3e6HYp8YT",
    "outputId": "de973212-4561-4299-f37d-fb06c5be93e0"
   },
   "outputs": [
    {
     "data": {
      "text/plain": [
       "asin\n",
       "B0019HL8Q8    299\n",
       "B0019EHU8G    292\n",
       "B003L1ZYYW    289\n",
       "B0015DYMVO    267\n",
       "B00BWF5U0M    237\n",
       "Name: overall, dtype: int64"
      ]
     },
     "execution_count": 37,
     "metadata": {},
     "output_type": "execute_result"
    }
   ],
   "source": [
    "#Total no of rating for product\n",
    "\n",
    "new_df.groupby('asin')['overall'].count().sort_values(ascending=False).head()"
   ]
  },
  {
   "cell_type": "code",
   "execution_count": 38,
   "metadata": {
    "colab": {
     "base_uri": "https://localhost:8080/"
    },
    "id": "bRjdEuOWqBEs",
    "outputId": "c012036c-0b98-4446-b714-df6955c3f05b"
   },
   "outputs": [
    {
     "data": {
      "text/plain": [
       "299"
      ]
     },
     "execution_count": 38,
     "metadata": {},
     "output_type": "execute_result"
    }
   ],
   "source": [
    "ratings_mean_count['rating_counts'].max()"
   ]
  },
  {
   "cell_type": "code",
   "execution_count": 39,
   "metadata": {
    "colab": {
     "base_uri": "https://localhost:8080/",
     "height": 394
    },
    "id": "xJHq7mEUqFn1",
    "outputId": "2c5cf68f-46cc-4f48-b31f-ec6fbf5059f4"
   },
   "outputs": [
    {
     "data": {
      "text/plain": [
       "<matplotlib.axes._subplots.AxesSubplot at 0x7f7e06008510>"
      ]
     },
     "execution_count": 39,
     "metadata": {},
     "output_type": "execute_result"
    },
    {
     "data": {
      "image/png": "[encoded data removed]",
      "text/plain": [
       "<Figure size 576x432 with 1 Axes>"
      ]
     },
     "metadata": {},
     "output_type": "display_data"
    }
   ],
   "source": [
    "#Majority of the products have received 1 rating only and it is a right skewed distribution\n",
    "plt.figure(figsize=(8,6))\n",
    "ratings_mean_count['rating_counts'].hist(bins=100)"
   ]
  },
  {
   "cell_type": "code",
   "execution_count": 40,
   "metadata": {
    "colab": {
     "base_uri": "https://localhost:8080/",
     "height": 470
    },
    "id": "cOLPg2b7qJ8T",
    "outputId": "103103f6-77b1-4bc7-f723-e5fbd1705247"
   },
   "outputs": [
    {
     "data": {
      "text/plain": [
       "<seaborn.axisgrid.JointGrid at 0x7f7e05e94950>"
      ]
     },
     "execution_count": 40,
     "metadata": {},
     "output_type": "execute_result"
    },
    {
     "data": {
      "text/plain": [
       "<Figure size 576x432 with 0 Axes>"
      ]
     },
     "metadata": {},
     "output_type": "display_data"
    },
    {
     "data": {
      "image/png": "[encoded data removed]",
      "text/plain": [
       "<Figure size 432x432 with 3 Axes>"
      ]
     },
     "metadata": {},
     "output_type": "display_data"
    }
   ],
   "source": [
    "#From the joint plot below it seems that popular products (higher ratings) tend to be rated more frequently\n",
    "plt.figure(figsize=(8,6))\n",
    "plt.rcParams['patch.force_edgecolor'] = True\n",
    "sns.jointplot(x='overall', y='rating_counts', data=ratings_mean_count, alpha=0.4)"
   ]
  },
  {
   "cell_type": "code",
   "execution_count": null,
   "metadata": {
    "id": "EiwDBuE3qPE3"
   },
   "outputs": [],
   "source": []
  },
  {
   "cell_type": "code",
   "execution_count": 41,
   "metadata": {
    "colab": {
     "base_uri": "https://localhost:8080/",
     "height": 234
    },
    "id": "SnnioCRfqTj8",
    "outputId": "752b280a-43a9-4724-c76b-8d1b4d02ac2b"
   },
   "outputs": [
    {
     "data": {
      "text/html": [
       "<div>\n",
       "<style scoped>\n",
       "    .dataframe tbody tr th:only-of-type {\n",
       "        vertical-align: middle;\n",
       "    }\n",
       "\n",
       "    .dataframe tbody tr th {\n",
       "        vertical-align: top;\n",
       "    }\n",
       "\n",
       "    .dataframe thead th {\n",
       "        text-align: right;\n",
       "    }\n",
       "</style>\n",
       "<table border=\"1\" class=\"dataframe\">\n",
       "  <thead>\n",
       "    <tr style=\"text-align: right;\">\n",
       "      <th></th>\n",
       "      <th>overall</th>\n",
       "      <th>rating_counts</th>\n",
       "    </tr>\n",
       "    <tr>\n",
       "      <th>asin</th>\n",
       "      <th></th>\n",
       "      <th></th>\n",
       "    </tr>\n",
       "  </thead>\n",
       "  <tbody>\n",
       "    <tr>\n",
       "      <th>0380709473</th>\n",
       "      <td>4.00</td>\n",
       "      <td>1</td>\n",
       "    </tr>\n",
       "    <tr>\n",
       "      <th>0511189877</th>\n",
       "      <td>5.00</td>\n",
       "      <td>1</td>\n",
       "    </tr>\n",
       "    <tr>\n",
       "      <th>0545105668</th>\n",
       "      <td>4.50</td>\n",
       "      <td>2</td>\n",
       "    </tr>\n",
       "    <tr>\n",
       "      <th>0594296420</th>\n",
       "      <td>5.00</td>\n",
       "      <td>1</td>\n",
       "    </tr>\n",
       "    <tr>\n",
       "      <th>0594459451</th>\n",
       "      <td>4.75</td>\n",
       "      <td>4</td>\n",
       "    </tr>\n",
       "  </tbody>\n",
       "</table>\n",
       "</div>"
      ],
      "text/plain": [
       "            overall  rating_counts\n",
       "asin                              \n",
       "0380709473     4.00              1\n",
       "0511189877     5.00              1\n",
       "0545105668     4.50              2\n",
       "0594296420     5.00              1\n",
       "0594459451     4.75              4"
      ]
     },
     "execution_count": 41,
     "metadata": {},
     "output_type": "execute_result"
    }
   ],
   "source": [
    "ratings_mean_count['rating_counts'] = pd.DataFrame(new_df.groupby('asin')['overall'].count())\n",
    "ratings_mean_count.head()"
   ]
  },
  {
   "cell_type": "code",
   "execution_count": 42,
   "metadata": {
    "colab": {
     "base_uri": "https://localhost:8080/",
     "height": 394
    },
    "id": "4PS-99GUqVAI",
    "outputId": "3033c1ac-73e1-4d1a-e493-e3dcd2ee1e6a"
   },
   "outputs": [
    {
     "data": {
      "text/plain": [
       "<matplotlib.axes._subplots.AxesSubplot at 0x7f7e0607ded0>"
      ]
     },
     "execution_count": 42,
     "metadata": {},
     "output_type": "execute_result"
    },
    {
     "data": {
      "image/png": "[encoded data removed]",
      "text/plain": [
       "<Figure size 576x432 with 1 Axes>"
      ]
     },
     "metadata": {},
     "output_type": "display_data"
    }
   ],
   "source": [
    "plt.figure(figsize=(8,6))\n",
    "plt.rcParams['patch.force_edgecolor'] = True\n",
    "ratings_mean_count['rating_counts'].hist(bins=50)"
   ]
  },
  {
   "cell_type": "code",
   "execution_count": 43,
   "metadata": {
    "colab": {
     "base_uri": "https://localhost:8080/",
     "height": 371
    },
    "id": "HjPLP4gTqZ96",
    "outputId": "5c75d0c2-546a-4cdf-ef31-9c124565e96e"
   },
   "outputs": [
    {
     "data": {
      "text/plain": [
       "<matplotlib.axes._subplots.AxesSubplot at 0x7f7e037aa510>"
      ]
     },
     "execution_count": 43,
     "metadata": {},
     "output_type": "execute_result"
    },
    {
     "data": {
      "image/png": "[encoded data removed]",
      "text/plain": [
       "<Figure size 432x288 with 1 Axes>"
      ]
     },
     "metadata": {},
     "output_type": "display_data"
    }
   ],
   "source": [
    "#Below is the bar graph showing product list of top 30 most popular products\n",
    "popular_products = pd.DataFrame(new_df.groupby('asin')['overall'].count())\n",
    "most_popular = popular_products.sort_values('overall', ascending=False)\n",
    "most_popular.head(30).plot(kind = \"bar\")"
   ]
  },
  {
   "cell_type": "code",
   "execution_count": 45,
   "metadata": {
    "colab": {
     "base_uri": "https://localhost:8080/",
     "height": 417
    },
    "id": "5jeM-jApqBLx",
    "outputId": "a4fa2661-dac9-47a0-bef1-a6817c8afec1"
   },
   "outputs": [
    {
     "data": {
      "text/html": [
       "<div>\n",
       "<style scoped>\n",
       "    .dataframe tbody tr th:only-of-type {\n",
       "        vertical-align: middle;\n",
       "    }\n",
       "\n",
       "    .dataframe tbody tr th {\n",
       "        vertical-align: top;\n",
       "    }\n",
       "\n",
       "    .dataframe thead th {\n",
       "        text-align: right;\n",
       "    }\n",
       "</style>\n",
       "<table border=\"1\" class=\"dataframe\">\n",
       "  <thead>\n",
       "    <tr style=\"text-align: right;\">\n",
       "      <th></th>\n",
       "      <th>Unnamed: 0</th>\n",
       "      <th>overall</th>\n",
       "      <th>reviewTime</th>\n",
       "      <th>reviewerID</th>\n",
       "      <th>asin</th>\n",
       "      <th>unixReviewTime</th>\n",
       "    </tr>\n",
       "  </thead>\n",
       "  <tbody>\n",
       "    <tr>\n",
       "      <th>0</th>\n",
       "      <td>1425280</td>\n",
       "      <td>2.0</td>\n",
       "      <td>01 24, 2015</td>\n",
       "      <td>AMFPAS8VMIDGJ</td>\n",
       "      <td>B002B3YCQM</td>\n",
       "      <td>1422057600</td>\n",
       "    </tr>\n",
       "    <tr>\n",
       "      <th>1</th>\n",
       "      <td>4253927</td>\n",
       "      <td>4.0</td>\n",
       "      <td>12 3, 2017</td>\n",
       "      <td>ABID49T47BLBF</td>\n",
       "      <td>B00JXXXOS0</td>\n",
       "      <td>1512259200</td>\n",
       "    </tr>\n",
       "    <tr>\n",
       "      <th>2</th>\n",
       "      <td>3395176</td>\n",
       "      <td>5.0</td>\n",
       "      <td>09 24, 2014</td>\n",
       "      <td>A2IQGDEA5FONCT</td>\n",
       "      <td>B00CSQYVWM</td>\n",
       "      <td>1411516800</td>\n",
       "    </tr>\n",
       "    <tr>\n",
       "      <th>3</th>\n",
       "      <td>1421371</td>\n",
       "      <td>4.0</td>\n",
       "      <td>12 5, 2012</td>\n",
       "      <td>A29GIVFYIGNM79</td>\n",
       "      <td>B002AF5184</td>\n",
       "      <td>1354665600</td>\n",
       "    </tr>\n",
       "    <tr>\n",
       "      <th>4</th>\n",
       "      <td>2768360</td>\n",
       "      <td>5.0</td>\n",
       "      <td>01 5, 2016</td>\n",
       "      <td>A1MPC88C5RBO91</td>\n",
       "      <td>B008LTBM6S</td>\n",
       "      <td>1451952000</td>\n",
       "    </tr>\n",
       "    <tr>\n",
       "      <th>...</th>\n",
       "      <td>...</td>\n",
       "      <td>...</td>\n",
       "      <td>...</td>\n",
       "      <td>...</td>\n",
       "      <td>...</td>\n",
       "      <td>...</td>\n",
       "    </tr>\n",
       "    <tr>\n",
       "      <th>235881</th>\n",
       "      <td>2741767</td>\n",
       "      <td>5.0</td>\n",
       "      <td>02 6, 2013</td>\n",
       "      <td>A28FXEB3VIG8DU</td>\n",
       "      <td>B008DBI5RI</td>\n",
       "      <td>1360108800</td>\n",
       "    </tr>\n",
       "    <tr>\n",
       "      <th>235882</th>\n",
       "      <td>3967102</td>\n",
       "      <td>5.0</td>\n",
       "      <td>06 4, 2016</td>\n",
       "      <td>A1MGUMKNMC5DL5</td>\n",
       "      <td>B00HNDCWQM</td>\n",
       "      <td>1464998400</td>\n",
       "    </tr>\n",
       "    <tr>\n",
       "      <th>235883</th>\n",
       "      <td>1020058</td>\n",
       "      <td>5.0</td>\n",
       "      <td>03 5, 2015</td>\n",
       "      <td>A237SN14B2I5AX</td>\n",
       "      <td>B0014KQ4NM</td>\n",
       "      <td>1425513600</td>\n",
       "    </tr>\n",
       "    <tr>\n",
       "      <th>235884</th>\n",
       "      <td>3661069</td>\n",
       "      <td>3.0</td>\n",
       "      <td>11 1, 2015</td>\n",
       "      <td>A3VUQ1W0WOQAX4</td>\n",
       "      <td>B00EPCNB96</td>\n",
       "      <td>1446336000</td>\n",
       "    </tr>\n",
       "    <tr>\n",
       "      <th>235885</th>\n",
       "      <td>363914</td>\n",
       "      <td>5.0</td>\n",
       "      <td>09 16, 2016</td>\n",
       "      <td>A388ZBL9XCJ1FC</td>\n",
       "      <td>B0009N8SMK</td>\n",
       "      <td>1473984000</td>\n",
       "    </tr>\n",
       "  </tbody>\n",
       "</table>\n",
       "<p>235886 rows × 6 columns</p>\n",
       "</div>"
      ],
      "text/plain": [
       "        Unnamed: 0  overall  ...        asin unixReviewTime\n",
       "0          1425280      2.0  ...  B002B3YCQM     1422057600\n",
       "1          4253927      4.0  ...  B00JXXXOS0     1512259200\n",
       "2          3395176      5.0  ...  B00CSQYVWM     1411516800\n",
       "3          1421371      4.0  ...  B002AF5184     1354665600\n",
       "4          2768360      5.0  ...  B008LTBM6S     1451952000\n",
       "...            ...      ...  ...         ...            ...\n",
       "235881     2741767      5.0  ...  B008DBI5RI     1360108800\n",
       "235882     3967102      5.0  ...  B00HNDCWQM     1464998400\n",
       "235883     1020058      5.0  ...  B0014KQ4NM     1425513600\n",
       "235884     3661069      3.0  ...  B00EPCNB96     1446336000\n",
       "235885      363914      5.0  ...  B0009N8SMK     1473984000\n",
       "\n",
       "[235886 rows x 6 columns]"
      ]
     },
     "execution_count": 45,
     "metadata": {},
     "output_type": "execute_result"
    }
   ],
   "source": [
    "ratings=deepcopy(new_df)\n",
    "ratings"
   ]
  },
  {
   "cell_type": "markdown",
   "metadata": {
    "id": "OS-j-i_hsJ6Z"
   },
   "source": [
    "**MODEL BUILD**"
   ]
  },
  {
   "cell_type": "markdown",
   "metadata": {
    "id": "IsQa_2lnq799"
   },
   "source": [
    "#First Approach"
   ]
  },
  {
   "cell_type": "markdown",
   "metadata": {
    "id": "wQQdn596Vvdc"
   },
   "source": [
    "##stratified train teast"
   ]
  },
  {
   "cell_type": "code",
   "execution_count": null,
   "metadata": {
    "id": "eu8LXAKiK3hs"
   },
   "outputs": [],
   "source": [
    "data = spark.createDataFrame(ratings[['reviewerID', 'asin', 'overall']])\n",
    "indexer = [StringIndexer(inputCol = column, outputCol = column+\"index\") for column in ['asin','reviewerID']]\n",
    "pipeline = Pipeline(stages=indexer)\n",
    "data = pipeline.fit(data).transform(data)"
   ]
  },
  {
   "cell_type": "code",
   "execution_count": null,
   "metadata": {
    "id": "gTVv4FKkK3zQ"
   },
   "outputs": [],
   "source": [
    "transformed_train = data.sampleBy(\"overall\", fractions={1: 0.7, 2: 0.7, 3: 0.7,4: 0.7,5: 0.7}, seed=10)\n",
    "transformed_test = data.subtract(transformed_train)"
   ]
  },
  {
   "cell_type": "code",
   "execution_count": null,
   "metadata": {
    "id": "VvWA743rLGEb"
   },
   "outputs": [],
   "source": [
    "transformed_train = transformed_train.withColumnRenamed('overall','label')"
   ]
  },
  {
   "cell_type": "code",
   "execution_count": null,
   "metadata": {
    "id": "r9Dy7Z8OLQoH"
   },
   "outputs": [],
   "source": [
    "transformed_test = transformed_test.withColumnRenamed('overall','truelabel')"
   ]
  },
  {
   "cell_type": "markdown",
   "metadata": {
    "id": "dTdI-Ur_VpKr"
   },
   "source": [
    "##ALS"
   ]
  },
  {
   "cell_type": "code",
   "execution_count": null,
   "metadata": {
    "id": "8ZBEC2cXLgdx"
   },
   "outputs": [],
   "source": [
    "als = ALS(maxIter = 20, regParam = 0.05 ,userCol = 'reviewerIDindex', itemCol = 'asinindex', ratingCol = 'label', coldStartStrategy='drop', nonnegative=True)\n",
    "model = als.fit(transformed_train)"
   ]
  },
  {
   "cell_type": "code",
   "execution_count": null,
   "metadata": {
    "id": "eGBcHVtDLk5h"
   },
   "outputs": [],
   "source": [
    "prediction = model.transform(transformed_test)"
   ]
  },
  {
   "cell_type": "code",
   "execution_count": null,
   "metadata": {
    "colab": {
     "base_uri": "https://localhost:8080/"
    },
    "id": "EVTw4N3SVjpl",
    "outputId": "8dfc6e14-bc99-4798-e857-c59183539012"
   },
   "outputs": [
    {
     "name": "stdout",
     "output_type": "stream",
     "text": [
      "+--------------+----------+---------+---------+---------------+----------+\n",
      "|reviewerID    |asin      |truelabel|asinindex|reviewerIDindex|prediction|\n",
      "+--------------+----------+---------+---------+---------------+----------+\n",
      "|A1ZM0YRS5S6Q17|B001W28L2Y|5.0      |148.0    |1194.0         |2.2066944 |\n",
      "|A1VBHFHJVUUVXJ|B001W28L2Y|5.0      |148.0    |15750.0        |0.38332176|\n",
      "|A1RARUIXA9W42 |B001W28L2Y|5.0      |148.0    |2875.0         |2.333861  |\n",
      "|A3ADMT997MTZIM|B001W28L2Y|5.0      |148.0    |2119.0         |0.25526607|\n",
      "|A1I3GXI6LSFS4O|B001W28L2Y|5.0      |148.0    |17815.0        |3.7194955 |\n",
      "+--------------+----------+---------+---------+---------------+----------+\n",
      "only showing top 5 rows\n",
      "\n"
     ]
    }
   ],
   "source": [
    "prediction.show(n=5, truncate = False)"
   ]
  },
  {
   "cell_type": "markdown",
   "metadata": {
    "id": "ckoxItWBVlwZ"
   },
   "source": [
    "##rmse"
   ]
  },
  {
   "cell_type": "code",
   "execution_count": null,
   "metadata": {
    "colab": {
     "base_uri": "https://localhost:8080/"
    },
    "id": "hkXhNuDXMtqV",
    "outputId": "2c4ec521-d862-429c-ae04-ec8a3ae8bb75"
   },
   "outputs": [
    {
     "name": "stdout",
     "output_type": "stream",
     "text": [
      "Root Mean Square Error(RMSE): 2.6754364989267003\n"
     ]
    }
   ],
   "source": [
    "evaluator = RegressionEvaluator(labelCol='truelabel',predictionCol='prediction', metricName='rmse')\n",
    "rmse = evaluator.evaluate(prediction)\n",
    "print(\"Root Mean Square Error(RMSE):\", rmse)"
   ]
  },
  {
   "cell_type": "markdown",
   "metadata": {
    "id": "yZO2Be0erCjx"
   },
   "source": [
    "#Second Approach"
   ]
  },
  {
   "cell_type": "markdown",
   "metadata": {
    "id": "YrMsbCyMVORV"
   },
   "source": [
    "##model on over sampled data"
   ]
  },
  {
   "cell_type": "code",
   "execution_count": null,
   "metadata": {
    "id": "y1i5I7dkNM6i"
   },
   "outputs": [],
   "source": [
    "from sklearn.model_selection import StratifiedShuffleSplit\n",
    "from sklearn.model_selection import train_test_split \n",
    "\n",
    "ratings=deepcopy(dataset)\n",
    "\n",
    "#ratings,rat = train_test_split(ratings1, test_size=0.5, stratify=ratings['overall'])"
   ]
  },
  {
   "cell_type": "code",
   "execution_count": null,
   "metadata": {
    "colab": {
     "base_uri": "https://localhost:8080/",
     "height": 417
    },
    "id": "XmK4Ak_BTrKq",
    "outputId": "f333416f-21a8-4061-d181-6480d49dcc8b"
   },
   "outputs": [
    {
     "data": {
      "text/html": [
       "<div>\n",
       "<style scoped>\n",
       "    .dataframe tbody tr th:only-of-type {\n",
       "        vertical-align: middle;\n",
       "    }\n",
       "\n",
       "    .dataframe tbody tr th {\n",
       "        vertical-align: top;\n",
       "    }\n",
       "\n",
       "    .dataframe thead th {\n",
       "        text-align: right;\n",
       "    }\n",
       "</style>\n",
       "<table border=\"1\" class=\"dataframe\">\n",
       "  <thead>\n",
       "    <tr style=\"text-align: right;\">\n",
       "      <th></th>\n",
       "      <th>Unnamed: 0</th>\n",
       "      <th>overall</th>\n",
       "      <th>reviewerID</th>\n",
       "      <th>asin</th>\n",
       "      <th>unixReviewTime</th>\n",
       "    </tr>\n",
       "  </thead>\n",
       "  <tbody>\n",
       "    <tr>\n",
       "      <th>0</th>\n",
       "      <td>1425280</td>\n",
       "      <td>2.0</td>\n",
       "      <td>AMFPAS8VMIDGJ</td>\n",
       "      <td>B002B3YCQM</td>\n",
       "      <td>1422057600</td>\n",
       "    </tr>\n",
       "    <tr>\n",
       "      <th>1</th>\n",
       "      <td>4253927</td>\n",
       "      <td>4.0</td>\n",
       "      <td>ABID49T47BLBF</td>\n",
       "      <td>B00JXXXOS0</td>\n",
       "      <td>1512259200</td>\n",
       "    </tr>\n",
       "    <tr>\n",
       "      <th>2</th>\n",
       "      <td>3395176</td>\n",
       "      <td>5.0</td>\n",
       "      <td>A2IQGDEA5FONCT</td>\n",
       "      <td>B00CSQYVWM</td>\n",
       "      <td>1411516800</td>\n",
       "    </tr>\n",
       "    <tr>\n",
       "      <th>3</th>\n",
       "      <td>1421371</td>\n",
       "      <td>4.0</td>\n",
       "      <td>A29GIVFYIGNM79</td>\n",
       "      <td>B002AF5184</td>\n",
       "      <td>1354665600</td>\n",
       "    </tr>\n",
       "    <tr>\n",
       "      <th>4</th>\n",
       "      <td>2768360</td>\n",
       "      <td>5.0</td>\n",
       "      <td>A1MPC88C5RBO91</td>\n",
       "      <td>B008LTBM6S</td>\n",
       "      <td>1451952000</td>\n",
       "    </tr>\n",
       "    <tr>\n",
       "      <th>...</th>\n",
       "      <td>...</td>\n",
       "      <td>...</td>\n",
       "      <td>...</td>\n",
       "      <td>...</td>\n",
       "      <td>...</td>\n",
       "    </tr>\n",
       "    <tr>\n",
       "      <th>235881</th>\n",
       "      <td>2741767</td>\n",
       "      <td>5.0</td>\n",
       "      <td>A28FXEB3VIG8DU</td>\n",
       "      <td>B008DBI5RI</td>\n",
       "      <td>1360108800</td>\n",
       "    </tr>\n",
       "    <tr>\n",
       "      <th>235882</th>\n",
       "      <td>3967102</td>\n",
       "      <td>5.0</td>\n",
       "      <td>A1MGUMKNMC5DL5</td>\n",
       "      <td>B00HNDCWQM</td>\n",
       "      <td>1464998400</td>\n",
       "    </tr>\n",
       "    <tr>\n",
       "      <th>235883</th>\n",
       "      <td>1020058</td>\n",
       "      <td>5.0</td>\n",
       "      <td>A237SN14B2I5AX</td>\n",
       "      <td>B0014KQ4NM</td>\n",
       "      <td>1425513600</td>\n",
       "    </tr>\n",
       "    <tr>\n",
       "      <th>235884</th>\n",
       "      <td>3661069</td>\n",
       "      <td>3.0</td>\n",
       "      <td>A3VUQ1W0WOQAX4</td>\n",
       "      <td>B00EPCNB96</td>\n",
       "      <td>1446336000</td>\n",
       "    </tr>\n",
       "    <tr>\n",
       "      <th>235885</th>\n",
       "      <td>363914</td>\n",
       "      <td>5.0</td>\n",
       "      <td>A388ZBL9XCJ1FC</td>\n",
       "      <td>B0009N8SMK</td>\n",
       "      <td>1473984000</td>\n",
       "    </tr>\n",
       "  </tbody>\n",
       "</table>\n",
       "<p>235886 rows × 5 columns</p>\n",
       "</div>"
      ],
      "text/plain": [
       "        Unnamed: 0  overall      reviewerID        asin  unixReviewTime\n",
       "0          1425280      2.0   AMFPAS8VMIDGJ  B002B3YCQM      1422057600\n",
       "1          4253927      4.0   ABID49T47BLBF  B00JXXXOS0      1512259200\n",
       "2          3395176      5.0  A2IQGDEA5FONCT  B00CSQYVWM      1411516800\n",
       "3          1421371      4.0  A29GIVFYIGNM79  B002AF5184      1354665600\n",
       "4          2768360      5.0  A1MPC88C5RBO91  B008LTBM6S      1451952000\n",
       "...            ...      ...             ...         ...             ...\n",
       "235881     2741767      5.0  A28FXEB3VIG8DU  B008DBI5RI      1360108800\n",
       "235882     3967102      5.0  A1MGUMKNMC5DL5  B00HNDCWQM      1464998400\n",
       "235883     1020058      5.0  A237SN14B2I5AX  B0014KQ4NM      1425513600\n",
       "235884     3661069      3.0  A3VUQ1W0WOQAX4  B00EPCNB96      1446336000\n",
       "235885      363914      5.0  A388ZBL9XCJ1FC  B0009N8SMK      1473984000\n",
       "\n",
       "[235886 rows x 5 columns]"
      ]
     },
     "execution_count": 38,
     "metadata": {},
     "output_type": "execute_result"
    }
   ],
   "source": [
    "dataset"
   ]
  },
  {
   "cell_type": "code",
   "execution_count": null,
   "metadata": {
    "colab": {
     "base_uri": "https://localhost:8080/",
     "height": 417
    },
    "id": "fVgNTlfOTKQC",
    "outputId": "b05f5c21-96c6-47ba-8ed2-0e16b9035c19"
   },
   "outputs": [
    {
     "data": {
      "text/html": [
       "<div>\n",
       "<style scoped>\n",
       "    .dataframe tbody tr th:only-of-type {\n",
       "        vertical-align: middle;\n",
       "    }\n",
       "\n",
       "    .dataframe tbody tr th {\n",
       "        vertical-align: top;\n",
       "    }\n",
       "\n",
       "    .dataframe thead th {\n",
       "        text-align: right;\n",
       "    }\n",
       "</style>\n",
       "<table border=\"1\" class=\"dataframe\">\n",
       "  <thead>\n",
       "    <tr style=\"text-align: right;\">\n",
       "      <th></th>\n",
       "      <th>Unnamed: 0</th>\n",
       "      <th>overall</th>\n",
       "      <th>reviewerID</th>\n",
       "      <th>asin</th>\n",
       "      <th>unixReviewTime</th>\n",
       "    </tr>\n",
       "  </thead>\n",
       "  <tbody>\n",
       "    <tr>\n",
       "      <th>0</th>\n",
       "      <td>1425280</td>\n",
       "      <td>2.0</td>\n",
       "      <td>AMFPAS8VMIDGJ</td>\n",
       "      <td>B002B3YCQM</td>\n",
       "      <td>1422057600</td>\n",
       "    </tr>\n",
       "    <tr>\n",
       "      <th>1</th>\n",
       "      <td>4253927</td>\n",
       "      <td>4.0</td>\n",
       "      <td>ABID49T47BLBF</td>\n",
       "      <td>B00JXXXOS0</td>\n",
       "      <td>1512259200</td>\n",
       "    </tr>\n",
       "    <tr>\n",
       "      <th>2</th>\n",
       "      <td>3395176</td>\n",
       "      <td>5.0</td>\n",
       "      <td>A2IQGDEA5FONCT</td>\n",
       "      <td>B00CSQYVWM</td>\n",
       "      <td>1411516800</td>\n",
       "    </tr>\n",
       "    <tr>\n",
       "      <th>3</th>\n",
       "      <td>1421371</td>\n",
       "      <td>4.0</td>\n",
       "      <td>A29GIVFYIGNM79</td>\n",
       "      <td>B002AF5184</td>\n",
       "      <td>1354665600</td>\n",
       "    </tr>\n",
       "    <tr>\n",
       "      <th>4</th>\n",
       "      <td>2768360</td>\n",
       "      <td>5.0</td>\n",
       "      <td>A1MPC88C5RBO91</td>\n",
       "      <td>B008LTBM6S</td>\n",
       "      <td>1451952000</td>\n",
       "    </tr>\n",
       "    <tr>\n",
       "      <th>...</th>\n",
       "      <td>...</td>\n",
       "      <td>...</td>\n",
       "      <td>...</td>\n",
       "      <td>...</td>\n",
       "      <td>...</td>\n",
       "    </tr>\n",
       "    <tr>\n",
       "      <th>235881</th>\n",
       "      <td>2741767</td>\n",
       "      <td>5.0</td>\n",
       "      <td>A28FXEB3VIG8DU</td>\n",
       "      <td>B008DBI5RI</td>\n",
       "      <td>1360108800</td>\n",
       "    </tr>\n",
       "    <tr>\n",
       "      <th>235882</th>\n",
       "      <td>3967102</td>\n",
       "      <td>5.0</td>\n",
       "      <td>A1MGUMKNMC5DL5</td>\n",
       "      <td>B00HNDCWQM</td>\n",
       "      <td>1464998400</td>\n",
       "    </tr>\n",
       "    <tr>\n",
       "      <th>235883</th>\n",
       "      <td>1020058</td>\n",
       "      <td>5.0</td>\n",
       "      <td>A237SN14B2I5AX</td>\n",
       "      <td>B0014KQ4NM</td>\n",
       "      <td>1425513600</td>\n",
       "    </tr>\n",
       "    <tr>\n",
       "      <th>235884</th>\n",
       "      <td>3661069</td>\n",
       "      <td>3.0</td>\n",
       "      <td>A3VUQ1W0WOQAX4</td>\n",
       "      <td>B00EPCNB96</td>\n",
       "      <td>1446336000</td>\n",
       "    </tr>\n",
       "    <tr>\n",
       "      <th>235885</th>\n",
       "      <td>363914</td>\n",
       "      <td>5.0</td>\n",
       "      <td>A388ZBL9XCJ1FC</td>\n",
       "      <td>B0009N8SMK</td>\n",
       "      <td>1473984000</td>\n",
       "    </tr>\n",
       "  </tbody>\n",
       "</table>\n",
       "<p>235886 rows × 5 columns</p>\n",
       "</div>"
      ],
      "text/plain": [
       "        Unnamed: 0  overall      reviewerID        asin  unixReviewTime\n",
       "0          1425280      2.0   AMFPAS8VMIDGJ  B002B3YCQM      1422057600\n",
       "1          4253927      4.0   ABID49T47BLBF  B00JXXXOS0      1512259200\n",
       "2          3395176      5.0  A2IQGDEA5FONCT  B00CSQYVWM      1411516800\n",
       "3          1421371      4.0  A29GIVFYIGNM79  B002AF5184      1354665600\n",
       "4          2768360      5.0  A1MPC88C5RBO91  B008LTBM6S      1451952000\n",
       "...            ...      ...             ...         ...             ...\n",
       "235881     2741767      5.0  A28FXEB3VIG8DU  B008DBI5RI      1360108800\n",
       "235882     3967102      5.0  A1MGUMKNMC5DL5  B00HNDCWQM      1464998400\n",
       "235883     1020058      5.0  A237SN14B2I5AX  B0014KQ4NM      1425513600\n",
       "235884     3661069      3.0  A3VUQ1W0WOQAX4  B00EPCNB96      1446336000\n",
       "235885      363914      5.0  A388ZBL9XCJ1FC  B0009N8SMK      1473984000\n",
       "\n",
       "[235886 rows x 5 columns]"
      ]
     },
     "execution_count": 37,
     "metadata": {},
     "output_type": "execute_result"
    }
   ],
   "source": [
    "ratings"
   ]
  },
  {
   "cell_type": "code",
   "execution_count": null,
   "metadata": {
    "id": "8-896pEZMt43"
   },
   "outputs": [],
   "source": [
    "ratings = pd.DataFrame(ratings)\n",
    "overall_group= ratings.groupby('overall')\n",
    "rating_5= overall_group.get_group(5.0)\n",
    "count_five = len(rating_5)\n",
    "def oversampling(subset):\n",
    "    count = len(subset)\n",
    "    n=int(count_five/count)\n",
    "    return (n)"
   ]
  },
  {
   "cell_type": "code",
   "execution_count": null,
   "metadata": {
    "id": "TMUX3XW7Mt8V"
   },
   "outputs": [],
   "source": [
    "n1 = overall_group.get_group(1.0)\n",
    "one_rating = overall_group.get_group(1.0)\n",
    "rat_1= pd.concat([one_rating]*oversampling(one_rating),ignore_index=True)\n",
    "\n",
    "n2 = overall_group.get_group(1.0)\n",
    "two_rating = overall_group.get_group(2.0)\n",
    "rat_2= pd.concat([two_rating]*oversampling(two_rating),ignore_index=True)\n",
    "\n",
    "n3 = overall_group.get_group(1.0)\n",
    "three_rating = overall_group.get_group(3.0)\n",
    "rat_3= pd.concat([three_rating]*oversampling(three_rating),ignore_index=True)\n",
    "\n",
    "n4 = overall_group.get_group(1.0)\n",
    "four_rating = overall_group.get_group(4.0)\n",
    "rat_4= pd.concat([four_rating]*oversampling(four_rating),ignore_index=True)\n",
    "\n",
    "rat_5=rating_5"
   ]
  },
  {
   "cell_type": "code",
   "execution_count": null,
   "metadata": {
    "colab": {
     "base_uri": "https://localhost:8080/",
     "height": 417
    },
    "id": "jrhsTho_Mt_w",
    "outputId": "31962ded-7247-48e1-8f98-48c75a18fc86"
   },
   "outputs": [
    {
     "data": {
      "text/html": [
       "<div>\n",
       "<style scoped>\n",
       "    .dataframe tbody tr th:only-of-type {\n",
       "        vertical-align: middle;\n",
       "    }\n",
       "\n",
       "    .dataframe tbody tr th {\n",
       "        vertical-align: top;\n",
       "    }\n",
       "\n",
       "    .dataframe thead th {\n",
       "        text-align: right;\n",
       "    }\n",
       "</style>\n",
       "<table border=\"1\" class=\"dataframe\">\n",
       "  <thead>\n",
       "    <tr style=\"text-align: right;\">\n",
       "      <th></th>\n",
       "      <th>Unnamed: 0</th>\n",
       "      <th>overall</th>\n",
       "      <th>reviewerID</th>\n",
       "      <th>asin</th>\n",
       "      <th>unixReviewTime</th>\n",
       "    </tr>\n",
       "  </thead>\n",
       "  <tbody>\n",
       "    <tr>\n",
       "      <th>72720</th>\n",
       "      <td>3529590</td>\n",
       "      <td>5.0</td>\n",
       "      <td>A7OHA5SK5F0MD</td>\n",
       "      <td>B00DSUTX3O</td>\n",
       "      <td>1472256000</td>\n",
       "    </tr>\n",
       "    <tr>\n",
       "      <th>102301</th>\n",
       "      <td>4492216</td>\n",
       "      <td>1.0</td>\n",
       "      <td>A2CH61FZ4UCCG</td>\n",
       "      <td>B00M48154Q</td>\n",
       "      <td>1448755200</td>\n",
       "    </tr>\n",
       "    <tr>\n",
       "      <th>120483</th>\n",
       "      <td>2872009</td>\n",
       "      <td>2.0</td>\n",
       "      <td>A3PZ4QFHHU33B9</td>\n",
       "      <td>B0098O9TB0</td>\n",
       "      <td>1353888000</td>\n",
       "    </tr>\n",
       "    <tr>\n",
       "      <th>66976</th>\n",
       "      <td>5624443</td>\n",
       "      <td>4.0</td>\n",
       "      <td>AV1K506BMOSPC</td>\n",
       "      <td>B016C6Z1QS</td>\n",
       "      <td>1463270400</td>\n",
       "    </tr>\n",
       "    <tr>\n",
       "      <th>99012</th>\n",
       "      <td>1814200</td>\n",
       "      <td>5.0</td>\n",
       "      <td>AW8PGP1KBTDPW</td>\n",
       "      <td>B004B8GF7Y</td>\n",
       "      <td>1514505600</td>\n",
       "    </tr>\n",
       "    <tr>\n",
       "      <th>...</th>\n",
       "      <td>...</td>\n",
       "      <td>...</td>\n",
       "      <td>...</td>\n",
       "      <td>...</td>\n",
       "      <td>...</td>\n",
       "    </tr>\n",
       "    <tr>\n",
       "      <th>107852</th>\n",
       "      <td>5714937</td>\n",
       "      <td>4.0</td>\n",
       "      <td>A2JHO2LMM7E43O</td>\n",
       "      <td>B0187QWABA</td>\n",
       "      <td>1454976000</td>\n",
       "    </tr>\n",
       "    <tr>\n",
       "      <th>95085</th>\n",
       "      <td>2844689</td>\n",
       "      <td>3.0</td>\n",
       "      <td>AZN5T24NWUOM2</td>\n",
       "      <td>B0094R4Q6Y</td>\n",
       "      <td>1376438400</td>\n",
       "    </tr>\n",
       "    <tr>\n",
       "      <th>205584</th>\n",
       "      <td>219267</td>\n",
       "      <td>5.0</td>\n",
       "      <td>A96AU8QHOXW41</td>\n",
       "      <td>B0001FTVEA</td>\n",
       "      <td>1446422400</td>\n",
       "    </tr>\n",
       "    <tr>\n",
       "      <th>108790</th>\n",
       "      <td>2713396</td>\n",
       "      <td>1.0</td>\n",
       "      <td>AJRRIGZ7M4K3N</td>\n",
       "      <td>B0083XOZIE</td>\n",
       "      <td>1453161600</td>\n",
       "    </tr>\n",
       "    <tr>\n",
       "      <th>190022</th>\n",
       "      <td>3538809</td>\n",
       "      <td>5.0</td>\n",
       "      <td>A2AZPBHS4H3OLK</td>\n",
       "      <td>B00DV56J9W</td>\n",
       "      <td>1411776000</td>\n",
       "    </tr>\n",
       "  </tbody>\n",
       "</table>\n",
       "<p>709515 rows × 5 columns</p>\n",
       "</div>"
      ],
      "text/plain": [
       "        Unnamed: 0  overall      reviewerID        asin  unixReviewTime\n",
       "72720      3529590      5.0   A7OHA5SK5F0MD  B00DSUTX3O      1472256000\n",
       "102301     4492216      1.0   A2CH61FZ4UCCG  B00M48154Q      1448755200\n",
       "120483     2872009      2.0  A3PZ4QFHHU33B9  B0098O9TB0      1353888000\n",
       "66976      5624443      4.0   AV1K506BMOSPC  B016C6Z1QS      1463270400\n",
       "99012      1814200      5.0   AW8PGP1KBTDPW  B004B8GF7Y      1514505600\n",
       "...            ...      ...             ...         ...             ...\n",
       "107852     5714937      4.0  A2JHO2LMM7E43O  B0187QWABA      1454976000\n",
       "95085      2844689      3.0   AZN5T24NWUOM2  B0094R4Q6Y      1376438400\n",
       "205584      219267      5.0   A96AU8QHOXW41  B0001FTVEA      1446422400\n",
       "108790     2713396      1.0   AJRRIGZ7M4K3N  B0083XOZIE      1453161600\n",
       "190022     3538809      5.0  A2AZPBHS4H3OLK  B00DV56J9W      1411776000\n",
       "\n",
       "[709515 rows x 5 columns]"
      ]
     },
     "execution_count": 42,
     "metadata": {},
     "output_type": "execute_result"
    }
   ],
   "source": [
    "oversampled_data= pd.concat([rat_5,rat_4,rat_3,rat_2,rat_1])\n",
    "oversampled_data= oversampled_data.sample(frac=1,random_state=42)\n",
    "oversampled_data"
   ]
  },
  {
   "cell_type": "code",
   "execution_count": null,
   "metadata": {
    "id": "O19-7vKlNrN4"
   },
   "outputs": [],
   "source": [
    "ratings=deepcopy(oversampled_data)"
   ]
  },
  {
   "cell_type": "markdown",
   "metadata": {
    "id": "aqN_oW0_rNMd"
   },
   "source": [
    "Stratified train test split"
   ]
  },
  {
   "cell_type": "code",
   "execution_count": null,
   "metadata": {
    "id": "iMpwf8JsNvq9"
   },
   "outputs": [],
   "source": [
    "data = spark.createDataFrame(ratings[['reviewerID', 'asin', 'overall']])\n",
    "indexer = [StringIndexer(inputCol = column, outputCol = column+\"index\") for column in ['asin','reviewerID']]\n",
    "pipeline = Pipeline(stages=indexer)\n",
    "data = pipeline.fit(data).transform(data)"
   ]
  },
  {
   "cell_type": "code",
   "execution_count": null,
   "metadata": {
    "id": "SgomCQuiN04Y"
   },
   "outputs": [],
   "source": [
    "transformed_train = data.sampleBy(\"overall\", fractions={1: 0.7, 2: 0.7, 3: 0.7,4: 0.7,5: 0.7}, seed=10)\n",
    "transformed_test = data.subtract(transformed_train)"
   ]
  },
  {
   "cell_type": "code",
   "execution_count": null,
   "metadata": {
    "id": "ee7UmVoGN-5r"
   },
   "outputs": [],
   "source": [
    "transformed_train = transformed_train.withColumnRenamed('overall','label')\n",
    "transformed_test = transformed_test.withColumnRenamed('overall','truelabel')"
   ]
  },
  {
   "cell_type": "markdown",
   "metadata": {
    "id": "Nzn5loaKrWaP"
   },
   "source": [
    "ALS"
   ]
  },
  {
   "cell_type": "code",
   "execution_count": null,
   "metadata": {
    "id": "4ShaYh0JOWxX"
   },
   "outputs": [],
   "source": [
    "als = ALS(maxIter = 20, regParam = 0.05 ,userCol = 'reviewerIDindex', itemCol = 'asinindex', ratingCol = 'label', coldStartStrategy='drop', nonnegative=True)\n",
    "model = als.fit(transformed_train)"
   ]
  },
  {
   "cell_type": "code",
   "execution_count": null,
   "metadata": {
    "id": "c5ImR9gzOK9Y"
   },
   "outputs": [],
   "source": [
    "prediction = model.transform(transformed_test)"
   ]
  },
  {
   "cell_type": "markdown",
   "metadata": {
    "id": "OpOswepWrZpt"
   },
   "source": [
    "RMSE"
   ]
  },
  {
   "cell_type": "code",
   "execution_count": null,
   "metadata": {
    "colab": {
     "base_uri": "https://localhost:8080/"
    },
    "id": "hNIDHWEmOdTD",
    "outputId": "40ffb4ae-3824-44b7-9c44-8765e0ceb207"
   },
   "outputs": [
    {
     "name": "stdout",
     "output_type": "stream",
     "text": [
      "Root Mean Square Error(RMSE): 3.0385104122500057\n"
     ]
    }
   ],
   "source": [
    "evaluator = RegressionEvaluator(labelCol='truelabel',predictionCol='prediction', metricName='rmse')\n",
    "rmse = evaluator.evaluate(prediction)\n",
    "print(\"Root Mean Square Error(RMSE):\", rmse)"
   ]
  },
  {
   "cell_type": "code",
   "execution_count": null,
   "metadata": {
    "id": "gCXLJjIlXq93"
   },
   "outputs": [],
   "source": [
    "ratings=deepcopy(new_df)"
   ]
  },
  {
   "cell_type": "markdown",
   "metadata": {
    "id": "lEBubtBBXjCm"
   },
   "source": [
    "Automated optimization (avoid oversampling)"
   ]
  },
  {
   "cell_type": "code",
   "execution_count": null,
   "metadata": {
    "colab": {
     "base_uri": "https://localhost:8080/"
    },
    "id": "VXvZsqUfXTpu",
    "outputId": "e3f121c1-95a2-45fc-f186-3f61c0caf7fa"
   },
   "outputs": [
    {
     "name": "stdout",
     "output_type": "stream",
     "text": [
      "Root Mean Square Error(RMSE): 3.0230930560512514\n",
      "Root Mean Square Error(RMSE): 2.9090700792942457\n",
      "Root Mean Square Error(RMSE): 2.7957996530087845\n",
      "Root Mean Square Error(RMSE): 2.831194694468269\n",
      "Root Mean Square Error(RMSE): 2.733906883954285\n",
      "Root Mean Square Error(RMSE): 2.7884974675213003\n",
      "Root Mean Square Error(RMSE): 2.729394907450461\n",
      "Root Mean Square Error(RMSE): 2.7799809264969984\n",
      "Root Mean Square Error(RMSE): 2.743637990122706\n",
      "Root Mean Square Error(RMSE): 2.7330139304216607\n",
      "Root Mean Square Error(RMSE): 2.6110748845869636\n",
      "Root Mean Square Error(RMSE): 2.655002238753126\n",
      "Root Mean Square Error(RMSE): 2.592503661966842\n",
      "Root Mean Square Error(RMSE): 2.634273783277959\n",
      "Root Mean Square Error(RMSE): 2.605188052133095\n",
      "Root Mean Square Error(RMSE): 2.6411409419420773\n",
      "Root Mean Square Error(RMSE): 2.62631438882234\n",
      "Root Mean Square Error(RMSE): 2.6420169605755777\n",
      "Root Mean Square Error(RMSE): 2.5437374186184387\n",
      "Root Mean Square Error(RMSE): 2.579403702501116\n",
      "Root Mean Square Error(RMSE): 2.5427202669516302\n",
      "Root Mean Square Error(RMSE): 2.57355738570143\n",
      "Root Mean Square Error(RMSE): 2.5588604669528245\n",
      "Root Mean Square Error(RMSE): 2.58576340992324\n"
     ]
    }
   ],
   "source": [
    "# Tuning the parameters to find the minimum RMSE value by optimizing iterations and regular parameters\n",
    "Score=[]\n",
    "maxIter=[5,10,15]\n",
    "regParam=[0.10,0.20,0.30,0.40]\n",
    "rank=[5,10]\n",
    "for j in maxIter:\n",
    "    for i in regParam:\n",
    "        for k in rank:\n",
    "        \n",
    "            als = ALS(rank=k, maxIter = j, regParam = i, userCol = 'reviewerIDindex', itemCol = 'asinindex', ratingCol = 'label', coldStartStrategy='drop', nonnegative=True)\n",
    "            model = als.fit(transformed_train)\n",
    "            prediction = model.transform(transformed_test)\n",
    "            #prediction.show(n=5, truncate = False)\n",
    "\n",
    "            evaluator = RegressionEvaluator(labelCol='truelabel',predictionCol='prediction', metricName='rmse')\n",
    "            rmse = evaluator.evaluate(prediction)\n",
    "            print(\"Root Mean Square Error(RMSE):\", rmse)\n",
    "            l=[]\n",
    "            l.append(j)\n",
    "            l.append(i)\n",
    "            l.append(rmse)\n",
    "            l.append(k)\n",
    "            Score.append(l)"
   ]
  },
  {
   "cell_type": "code",
   "execution_count": null,
   "metadata": {
    "id": "xFCkZtAsY7Al"
   },
   "outputs": [],
   "source": [
    "score=[]\n",
    "for i in range(len(Score)):\n",
    "    score.append(Score[i][2])\n",
    "\n",
    "min_Score=min(score)\n",
    "for i in range(len(Score)):\n",
    "    if Score[i][2]==min_Score:\n",
    "        iter=Score[i][0]\n",
    "        para=Score[i][1]\n",
    "        rank=Score[i][3]\n",
    "r=rank"
   ]
  },
  {
   "cell_type": "markdown",
   "metadata": {
    "id": "aXnRbq-3Y84S"
   },
   "source": [
    "User based recommendation"
   ]
  },
  {
   "cell_type": "code",
   "execution_count": null,
   "metadata": {
    "id": "jaTs3-l1Y1_N"
   },
   "outputs": [],
   "source": [
    "def reco_user(id):\n",
    "    temp_df = prediction.filter(prediction[\"reviewerID\"] == id)\n",
    "    temp_df = temp_df.sort(\"prediction\", ascending=False)\n",
    "    temp_df.show(n= 5, truncate = False)"
   ]
  },
  {
   "cell_type": "code",
   "execution_count": null,
   "metadata": {
    "colab": {
     "base_uri": "https://localhost:8080/"
    },
    "id": "a3m7qy70ZIF8",
    "outputId": "0658ba5c-23fb-444d-c450-9eecfb4ef4b5"
   },
   "outputs": [
    {
     "name": "stdout",
     "output_type": "stream",
     "text": [
      "+--------------+----------+---------+---------+---------------+----------+\n",
      "|reviewerID    |asin      |truelabel|asinindex|reviewerIDindex|prediction|\n",
      "+--------------+----------+---------+---------+---------------+----------+\n",
      "|A333636QFPT073|B00B3P15M8|5.0      |148.0    |15130.0        |2.1763065 |\n",
      "+--------------+----------+---------+---------+---------------+----------+\n",
      "\n"
     ]
    }
   ],
   "source": [
    "reco_user(\"A333636QFPT073\")"
   ]
  },
  {
   "cell_type": "code",
   "execution_count": null,
   "metadata": {
    "id": "k31T8dqfZPnv"
   },
   "outputs": [],
   "source": [
    "url2='/content/drive/MyDrive/dataset/meta_amazon_electronic_subset.csv'"
   ]
  },
  {
   "cell_type": "code",
   "execution_count": null,
   "metadata": {
    "id": "bfFOv8S2Ztz8"
   },
   "outputs": [],
   "source": [
    "df_metadata = pd.read_csv(url2)"
   ]
  },
  {
   "cell_type": "code",
   "execution_count": null,
   "metadata": {
    "colab": {
     "base_uri": "https://localhost:8080/",
     "height": 417
    },
    "id": "JuN_MwH_Z9ZH",
    "outputId": "8381fe3a-16b3-4c29-ff19-7796b5751096"
   },
   "outputs": [
    {
     "data": {
      "text/html": [
       "<div>\n",
       "<style scoped>\n",
       "    .dataframe tbody tr th:only-of-type {\n",
       "        vertical-align: middle;\n",
       "    }\n",
       "\n",
       "    .dataframe tbody tr th {\n",
       "        vertical-align: top;\n",
       "    }\n",
       "\n",
       "    .dataframe thead th {\n",
       "        text-align: right;\n",
       "    }\n",
       "</style>\n",
       "<table border=\"1\" class=\"dataframe\">\n",
       "  <thead>\n",
       "    <tr style=\"text-align: right;\">\n",
       "      <th></th>\n",
       "      <th>Unnamed: 0</th>\n",
       "      <th>asin</th>\n",
       "      <th>category</th>\n",
       "      <th>title</th>\n",
       "    </tr>\n",
       "  </thead>\n",
       "  <tbody>\n",
       "    <tr>\n",
       "      <th>0</th>\n",
       "      <td>24</td>\n",
       "      <td>B002B3YCQM</td>\n",
       "      <td>['Electronics', 'Computers &amp; Accessories', 'Co...</td>\n",
       "      <td>Logitech M500 Corded Mouse &amp;ndash; Wired USB M...</td>\n",
       "    </tr>\n",
       "    <tr>\n",
       "      <th>1</th>\n",
       "      <td>25</td>\n",
       "      <td>B00JXXXOS0</td>\n",
       "      <td>['Electronics', 'Television &amp; Video', 'DVD Pla...</td>\n",
       "      <td>Panasonic All Multi Region Code Zone Free PAL/...</td>\n",
       "    </tr>\n",
       "    <tr>\n",
       "      <th>2</th>\n",
       "      <td>35</td>\n",
       "      <td>B00CSQYVWM</td>\n",
       "      <td>['Electronics', 'Camera &amp; Photo', 'Underwater ...</td>\n",
       "      <td>GoPro HERO3 Skeleton Housing</td>\n",
       "    </tr>\n",
       "    <tr>\n",
       "      <th>3</th>\n",
       "      <td>44</td>\n",
       "      <td>B002AF5184</td>\n",
       "      <td>['Electronics', 'Portable Audio &amp; Video', 'MP3...</td>\n",
       "      <td>CrazyOnDigital Premium Black Leather Case Appl...</td>\n",
       "    </tr>\n",
       "    <tr>\n",
       "      <th>4</th>\n",
       "      <td>115</td>\n",
       "      <td>B008LTBM6S</td>\n",
       "      <td>['Electronics', 'Computers &amp; Accessories', 'Co...</td>\n",
       "      <td>Crucial 4GB Single DDR3/DDR3L 1600 MT/s (PC3-1...</td>\n",
       "    </tr>\n",
       "    <tr>\n",
       "      <th>...</th>\n",
       "      <td>...</td>\n",
       "      <td>...</td>\n",
       "      <td>...</td>\n",
       "      <td>...</td>\n",
       "    </tr>\n",
       "    <tr>\n",
       "      <th>72994</th>\n",
       "      <td>246840</td>\n",
       "      <td>B0048ABG6A</td>\n",
       "      <td>['Electronics', 'Camera &amp; Photo', 'Accessories...</td>\n",
       "      <td>Fotodiox Pro Lens Mount Adapter - Canon FD &amp;am...</td>\n",
       "    </tr>\n",
       "    <tr>\n",
       "      <th>72995</th>\n",
       "      <td>246841</td>\n",
       "      <td>B004WI867K</td>\n",
       "      <td>['Electronics', 'Computers &amp; Accessories', 'La...</td>\n",
       "      <td>Cosmos &amp;reg; Brown PU/synthetic/faux leather 1...</td>\n",
       "    </tr>\n",
       "    <tr>\n",
       "      <th>72996</th>\n",
       "      <td>246842</td>\n",
       "      <td>B01E5ITE2W</td>\n",
       "      <td>['Electronics', 'Computers &amp; Accessories', 'Co...</td>\n",
       "      <td>REDGO Video Audio VHS VCR USB Video Capture Ca...</td>\n",
       "    </tr>\n",
       "    <tr>\n",
       "      <th>72997</th>\n",
       "      <td>246843</td>\n",
       "      <td>B008XI59K2</td>\n",
       "      <td>['Electronics', 'Computers &amp; Accessories', 'La...</td>\n",
       "      <td>HP 2000 2000-2C29WM 2000-2B19WM 693711-001 677...</td>\n",
       "    </tr>\n",
       "    <tr>\n",
       "      <th>72998</th>\n",
       "      <td>246844</td>\n",
       "      <td>B00HNDCWQM</td>\n",
       "      <td>['Electronics', 'Accessories &amp; Supplies', 'Aud...</td>\n",
       "      <td>Fosmon 3 RCA Male to 3 RCA Male Stereo Audio C...</td>\n",
       "    </tr>\n",
       "  </tbody>\n",
       "</table>\n",
       "<p>72999 rows × 4 columns</p>\n",
       "</div>"
      ],
      "text/plain": [
       "       Unnamed: 0  ...                                              title\n",
       "0              24  ...  Logitech M500 Corded Mouse &ndash; Wired USB M...\n",
       "1              25  ...  Panasonic All Multi Region Code Zone Free PAL/...\n",
       "2              35  ...                       GoPro HERO3 Skeleton Housing\n",
       "3              44  ...  CrazyOnDigital Premium Black Leather Case Appl...\n",
       "4             115  ...  Crucial 4GB Single DDR3/DDR3L 1600 MT/s (PC3-1...\n",
       "...           ...  ...                                                ...\n",
       "72994      246840  ...  Fotodiox Pro Lens Mount Adapter - Canon FD &am...\n",
       "72995      246841  ...  Cosmos &reg; Brown PU/synthetic/faux leather 1...\n",
       "72996      246842  ...  REDGO Video Audio VHS VCR USB Video Capture Ca...\n",
       "72997      246843  ...  HP 2000 2000-2C29WM 2000-2B19WM 693711-001 677...\n",
       "72998      246844  ...  Fosmon 3 RCA Male to 3 RCA Male Stereo Audio C...\n",
       "\n",
       "[72999 rows x 4 columns]"
      ]
     },
     "execution_count": 30,
     "metadata": {},
     "output_type": "execute_result"
    }
   ],
   "source": [
    "df_metadata"
   ]
  },
  {
   "cell_type": "code",
   "execution_count": null,
   "metadata": {
    "id": "K9Lf972daEMv"
   },
   "outputs": [],
   "source": [
    "prod = deepcopy(df_metadata)\n",
    "prod = prod[['asin', 'title', 'category']]"
   ]
  },
  {
   "cell_type": "code",
   "execution_count": null,
   "metadata": {
    "id": "5oMrKfMnaLV5"
   },
   "outputs": [],
   "source": [
    "prod_title=prod[['asin', 'title']]"
   ]
  },
  {
   "cell_type": "code",
   "execution_count": null,
   "metadata": {
    "colab": {
     "base_uri": "https://localhost:8080/",
     "height": 417
    },
    "id": "HqcSFaabaQMf",
    "outputId": "25cbbf4a-995a-4c82-db02-46b61620c4a5"
   },
   "outputs": [
    {
     "data": {
      "text/html": [
       "<div>\n",
       "<style scoped>\n",
       "    .dataframe tbody tr th:only-of-type {\n",
       "        vertical-align: middle;\n",
       "    }\n",
       "\n",
       "    .dataframe tbody tr th {\n",
       "        vertical-align: top;\n",
       "    }\n",
       "\n",
       "    .dataframe thead th {\n",
       "        text-align: right;\n",
       "    }\n",
       "</style>\n",
       "<table border=\"1\" class=\"dataframe\">\n",
       "  <thead>\n",
       "    <tr style=\"text-align: right;\">\n",
       "      <th></th>\n",
       "      <th>asin</th>\n",
       "      <th>title</th>\n",
       "      <th>category</th>\n",
       "    </tr>\n",
       "  </thead>\n",
       "  <tbody>\n",
       "    <tr>\n",
       "      <th>0</th>\n",
       "      <td>B002B3YCQM</td>\n",
       "      <td>Logitech M500 Corded Mouse &amp;ndash; Wired USB M...</td>\n",
       "      <td>['Electronics', 'Computers &amp; Accessories', 'Co...</td>\n",
       "    </tr>\n",
       "    <tr>\n",
       "      <th>1</th>\n",
       "      <td>B00JXXXOS0</td>\n",
       "      <td>Panasonic All Multi Region Code Zone Free PAL/...</td>\n",
       "      <td>['Electronics', 'Television &amp; Video', 'DVD Pla...</td>\n",
       "    </tr>\n",
       "    <tr>\n",
       "      <th>2</th>\n",
       "      <td>B00CSQYVWM</td>\n",
       "      <td>GoPro HERO3 Skeleton Housing</td>\n",
       "      <td>['Electronics', 'Camera &amp; Photo', 'Underwater ...</td>\n",
       "    </tr>\n",
       "    <tr>\n",
       "      <th>3</th>\n",
       "      <td>B002AF5184</td>\n",
       "      <td>CrazyOnDigital Premium Black Leather Case Appl...</td>\n",
       "      <td>['Electronics', 'Portable Audio &amp; Video', 'MP3...</td>\n",
       "    </tr>\n",
       "    <tr>\n",
       "      <th>4</th>\n",
       "      <td>B008LTBM6S</td>\n",
       "      <td>Crucial 4GB Single DDR3/DDR3L 1600 MT/s (PC3-1...</td>\n",
       "      <td>['Electronics', 'Computers &amp; Accessories', 'Co...</td>\n",
       "    </tr>\n",
       "    <tr>\n",
       "      <th>...</th>\n",
       "      <td>...</td>\n",
       "      <td>...</td>\n",
       "      <td>...</td>\n",
       "    </tr>\n",
       "    <tr>\n",
       "      <th>72994</th>\n",
       "      <td>B0048ABG6A</td>\n",
       "      <td>Fotodiox Pro Lens Mount Adapter - Canon FD &amp;am...</td>\n",
       "      <td>['Electronics', 'Camera &amp; Photo', 'Accessories...</td>\n",
       "    </tr>\n",
       "    <tr>\n",
       "      <th>72995</th>\n",
       "      <td>B004WI867K</td>\n",
       "      <td>Cosmos &amp;reg; Brown PU/synthetic/faux leather 1...</td>\n",
       "      <td>['Electronics', 'Computers &amp; Accessories', 'La...</td>\n",
       "    </tr>\n",
       "    <tr>\n",
       "      <th>72996</th>\n",
       "      <td>B01E5ITE2W</td>\n",
       "      <td>REDGO Video Audio VHS VCR USB Video Capture Ca...</td>\n",
       "      <td>['Electronics', 'Computers &amp; Accessories', 'Co...</td>\n",
       "    </tr>\n",
       "    <tr>\n",
       "      <th>72997</th>\n",
       "      <td>B008XI59K2</td>\n",
       "      <td>HP 2000 2000-2C29WM 2000-2B19WM 693711-001 677...</td>\n",
       "      <td>['Electronics', 'Computers &amp; Accessories', 'La...</td>\n",
       "    </tr>\n",
       "    <tr>\n",
       "      <th>72998</th>\n",
       "      <td>B00HNDCWQM</td>\n",
       "      <td>Fosmon 3 RCA Male to 3 RCA Male Stereo Audio C...</td>\n",
       "      <td>['Electronics', 'Accessories &amp; Supplies', 'Aud...</td>\n",
       "    </tr>\n",
       "  </tbody>\n",
       "</table>\n",
       "<p>72999 rows × 3 columns</p>\n",
       "</div>"
      ],
      "text/plain": [
       "             asin  ...                                           category\n",
       "0      B002B3YCQM  ...  ['Electronics', 'Computers & Accessories', 'Co...\n",
       "1      B00JXXXOS0  ...  ['Electronics', 'Television & Video', 'DVD Pla...\n",
       "2      B00CSQYVWM  ...  ['Electronics', 'Camera & Photo', 'Underwater ...\n",
       "3      B002AF5184  ...  ['Electronics', 'Portable Audio & Video', 'MP3...\n",
       "4      B008LTBM6S  ...  ['Electronics', 'Computers & Accessories', 'Co...\n",
       "...           ...  ...                                                ...\n",
       "72994  B0048ABG6A  ...  ['Electronics', 'Camera & Photo', 'Accessories...\n",
       "72995  B004WI867K  ...  ['Electronics', 'Computers & Accessories', 'La...\n",
       "72996  B01E5ITE2W  ...  ['Electronics', 'Computers & Accessories', 'Co...\n",
       "72997  B008XI59K2  ...  ['Electronics', 'Computers & Accessories', 'La...\n",
       "72998  B00HNDCWQM  ...  ['Electronics', 'Accessories & Supplies', 'Aud...\n",
       "\n",
       "[72999 rows x 3 columns]"
      ]
     },
     "execution_count": 33,
     "metadata": {},
     "output_type": "execute_result"
    }
   ],
   "source": [
    "prod"
   ]
  },
  {
   "cell_type": "markdown",
   "metadata": {
    "id": "X8W3IhaIaYsF"
   },
   "source": [
    "Prediction"
   ]
  },
  {
   "cell_type": "code",
   "execution_count": null,
   "metadata": {
    "id": "SO6hJY-NaUA_"
   },
   "outputs": [],
   "source": [
    "from pyspark.sql import SparkSession\n",
    "#Create PySpark SparkSession\n",
    "spark = SparkSession.builder.getOrCreate()\n",
    "sparkDF=spark.createDataFrame(prod.astype(str))"
   ]
  },
  {
   "cell_type": "code",
   "execution_count": null,
   "metadata": {
    "id": "PJ7xPzbyaeAq"
   },
   "outputs": [],
   "source": [
    "jdf = prediction.join(sparkDF,prediction[\"asin\"] ==  sparkDF[\"asin\"],\"inner\")"
   ]
  },
  {
   "cell_type": "code",
   "execution_count": null,
   "metadata": {
    "colab": {
     "base_uri": "https://localhost:8080/"
    },
    "id": "VR9Ctcicaima",
    "outputId": "5190e6d9-2269-4edb-f388-7b3edd084247"
   },
   "outputs": [
    {
     "name": "stdout",
     "output_type": "stream",
     "text": [
      "+--------------+----------+---------+---------+---------------+----------+----------+----------------------------------------------------------------------------------------------------------------------------+---------------------------------------------------------------------------------------------+\n",
      "|reviewerID    |asin      |truelabel|asinindex|reviewerIDindex|prediction|asin      |title                                                                                                                       |category                                                                                     |\n",
      "+--------------+----------+---------+---------+---------------+----------+----------+----------------------------------------------------------------------------------------------------------------------------+---------------------------------------------------------------------------------------------+\n",
      "|AAI87VMTG3EX7 |980035977X|3.0      |9210.0   |28878.0        |4.690188  |980035977X|TP-LINK TL-PS110U Single USB2.0 port fast ethernet Print Server, supports E-mail Alert, Internet Printing Protocol (IPP) SMB|['Electronics', 'Computers &amp; Accessories', 'Networking Products', 'Print Servers']       |\n",
      "|A2NBYRL2L9M5J5|980035977X|1.0      |9210.0   |50714.0        |1.8059065 |980035977X|TP-LINK TL-PS110U Single USB2.0 port fast ethernet Print Server, supports E-mail Alert, Internet Printing Protocol (IPP) SMB|['Electronics', 'Computers &amp; Accessories', 'Networking Products', 'Print Servers']       |\n",
      "|A306NASGVUDFKF|B00005Q5U5|5.0      |16222.0  |23467.0        |3.8732166 |B00005Q5U5|Canon PowerShot G2 4MP Digital Camera w/ 3x Optical Zoom                                                                    |['Electronics', 'Camera &amp; Photo', 'Digital Cameras', 'Point &amp; Shoot Digital Cameras']|\n",
      "|A20NUW4T1DB7UQ|B000083GPS|1.0      |19884.0  |34564.0        |2.1833065 |B000083GPS|Tivoli Audio Model CD Player, Cherry/Metallic Taupe                                                                         |['Electronics', 'Home Audio', 'Stereo System Components', 'CD & Tape Players', 'CD Players'] |\n",
      "|A376C7DL69TCQ5|B00008ZPN3|1.0      |21911.0  |54685.0        |1.6706269 |B00008ZPN3|Nikon N75 35mm SLR Camera (Body Only)                                                                                       |['Electronics', 'Camera & Photo', 'Film Photography', 'Film Cameras', 'SLR Cameras']         |\n",
      "+--------------+----------+---------+---------+---------------+----------+----------+----------------------------------------------------------------------------------------------------------------------------+---------------------------------------------------------------------------------------------+\n",
      "only showing top 5 rows\n",
      "\n"
     ]
    }
   ],
   "source": [
    "jdf.show(n=5,truncate=False)"
   ]
  },
  {
   "cell_type": "markdown",
   "metadata": {
    "id": "vL5-ek1IbCBQ"
   },
   "source": [
    "Meta data - Preprocessing"
   ]
  },
  {
   "cell_type": "code",
   "execution_count": null,
   "metadata": {
    "id": "Lz5VvEN7bGMO"
   },
   "outputs": [],
   "source": [
    "from copy import deepcopy\n",
    "meta_copy=deepcopy(df_metadata)"
   ]
  },
  {
   "cell_type": "code",
   "execution_count": null,
   "metadata": {
    "id": "O4K3F-GFbJwC"
   },
   "outputs": [],
   "source": [
    "meta_copy=meta_copy[['asin','category']]"
   ]
  },
  {
   "cell_type": "code",
   "execution_count": null,
   "metadata": {
    "colab": {
     "base_uri": "https://localhost:8080/"
    },
    "id": "3XMhvPSLbQNf",
    "outputId": "5e7dc5d1-dc5b-4a36-c6be-bf238aa0e5b7"
   },
   "outputs": [
    {
     "data": {
      "text/plain": [
       "[['B002B3YCQM',\n",
       "  \"['Electronics', 'Computers & Accessories', 'Computer Accessories & Peripherals', 'Keyboards, Mice & Accessories', 'Mice']\"],\n",
       " ['B00JXXXOS0',\n",
       "  \"['Electronics', 'Television & Video', 'DVD Players & Recorders', 'DVD Players']\"],\n",
       " ['B00CSQYVWM',\n",
       "  \"['Electronics', 'Camera & Photo', 'Underwater Photography', 'Housings']\"],\n",
       " ['B002AF5184',\n",
       "  \"['Electronics', 'Portable Audio & Video', 'MP3 & MP4 Player Accessories', 'Cases']\"],\n",
       " ['B008LTBM6S',\n",
       "  \"['Electronics', 'Computers & Accessories', 'Computer Components', 'Internal Components', 'Memory']\"],\n",
       " ['B008422IL0', \"['Electronics', 'Computers & Accessories', 'Data Storage']\"],\n",
       " ['B00IU1R29I',\n",
       "  \"['Electronics', 'Computers & Accessories', 'Computer Accessories & Peripherals', 'Cables & Interconnects']\"],\n",
       " ['B00016W6NC',\n",
       "  \"['Electronics', 'Computers &amp; Accessories', 'Computer Accessories &amp; Peripherals', 'Cables &amp; Interconnects', 'USB Cables']\"],\n",
       " ['B002EL4MFC',\n",
       "  \"['Electronics', 'Computers & Accessories', 'Laptop Accessories', 'Bags, Cases & Sleeves', 'Folio Cases']\"],\n",
       " ['B0000AOWW9',\n",
       "  \"['Electronics', 'Computers &amp; Accessories', 'Computer Accessories &amp; Peripherals', 'Keyboards, Mice &amp; Accessories', 'Mice']\"]]"
      ]
     },
     "execution_count": 69,
     "metadata": {},
     "output_type": "execute_result"
    }
   ],
   "source": [
    "meta_list=meta_copy.values.tolist()\n",
    "meta_list[:10]"
   ]
  },
  {
   "cell_type": "code",
   "execution_count": null,
   "metadata": {
    "colab": {
     "base_uri": "https://localhost:8080/"
    },
    "id": "VDCdRzRUcLGf",
    "outputId": "7f1f81b1-49a0-4a93-e956-78a06663f5b5"
   },
   "outputs": [
    {
     "data": {
      "text/plain": [
       "str"
      ]
     },
     "execution_count": 51,
     "metadata": {},
     "output_type": "execute_result"
    }
   ],
   "source": [
    "type(meta_list[1][1])"
   ]
  },
  {
   "cell_type": "code",
   "execution_count": null,
   "metadata": {
    "colab": {
     "base_uri": "https://localhost:8080/",
     "height": 35
    },
    "id": "OSdCBEh4dLeT",
    "outputId": "74f4ead6-39d2-4ce9-9836-b52a77c0bbd3"
   },
   "outputs": [
    {
     "data": {
      "application/vnd.google.colaboratory.intrinsic+json": {
       "type": "string"
      },
      "text/plain": [
       "\"['Electronics', 'Television & Video', 'DVD Players & Recorders', 'DVD Players']\""
      ]
     },
     "execution_count": 52,
     "metadata": {},
     "output_type": "execute_result"
    }
   ],
   "source": [
    "meta_list[1][1]"
   ]
  },
  {
   "cell_type": "code",
   "execution_count": null,
   "metadata": {
    "colab": {
     "base_uri": "https://localhost:8080/"
    },
    "id": "AujcQ4xhc9ja",
    "outputId": "2d6c88b0-3a98-4184-fa78-bdaa3def05ec"
   },
   "outputs": [
    {
     "name": "stdout",
     "output_type": "stream",
     "text": [
      "Electronics, Television & Video, DVD Players & Recorders, DVD Players\n"
     ]
    },
    {
     "data": {
      "text/plain": [
       "['Electronics',\n",
       " ' Television & Video',\n",
       " ' DVD Players & Recorders',\n",
       " ' DVD Players']"
      ]
     },
     "execution_count": 70,
     "metadata": {},
     "output_type": "execute_result"
    }
   ],
   "source": [
    "string=meta_list[1][1]\n",
    "string = string.replace(\"[\", \"\") \n",
    "string = string.replace(\"]\", \"\") \n",
    "string = string.replace(\"\\'\", \"\") \n",
    "print(string)\n",
    "li = list(string.split(\",\"))\n",
    "li"
   ]
  },
  {
   "cell_type": "code",
   "execution_count": null,
   "metadata": {
    "id": "qSGGE6lGbpX9"
   },
   "outputs": [],
   "source": [
    "category_list=[]\n",
    "for i in range(len(meta_list)):\n",
    "    s=[]\n",
    "    string=meta_list[i][1]\n",
    "    string = string.replace(\"[\", \"\") \n",
    "    string = string.replace(\"]\", \"\") \n",
    "    string = string.replace(\"\\'\", \"\") \n",
    "\n",
    "    li = list(string.split(\",\"))\n",
    "\n",
    "    s.append(meta_list[i][0]) \n",
    "    s.append(li[1])\n",
    "    category_list.append(s)"
   ]
  },
  {
   "cell_type": "code",
   "execution_count": null,
   "metadata": {
    "id": "Zz5QmCTrbtu_"
   },
   "outputs": [],
   "source": [
    "df_cat_asin=pd.DataFrame(category_list)"
   ]
  },
  {
   "cell_type": "code",
   "execution_count": null,
   "metadata": {
    "colab": {
     "base_uri": "https://localhost:8080/",
     "height": 417
    },
    "id": "PHbI9sESbxjD",
    "outputId": "812615c4-e2e7-4e42-cc62-65d9936812d0"
   },
   "outputs": [
    {
     "data": {
      "text/html": [
       "<div>\n",
       "<style scoped>\n",
       "    .dataframe tbody tr th:only-of-type {\n",
       "        vertical-align: middle;\n",
       "    }\n",
       "\n",
       "    .dataframe tbody tr th {\n",
       "        vertical-align: top;\n",
       "    }\n",
       "\n",
       "    .dataframe thead th {\n",
       "        text-align: right;\n",
       "    }\n",
       "</style>\n",
       "<table border=\"1\" class=\"dataframe\">\n",
       "  <thead>\n",
       "    <tr style=\"text-align: right;\">\n",
       "      <th></th>\n",
       "      <th>0</th>\n",
       "      <th>1</th>\n",
       "    </tr>\n",
       "  </thead>\n",
       "  <tbody>\n",
       "    <tr>\n",
       "      <th>0</th>\n",
       "      <td>B002B3YCQM</td>\n",
       "      <td>Computers &amp; Accessories</td>\n",
       "    </tr>\n",
       "    <tr>\n",
       "      <th>1</th>\n",
       "      <td>B00JXXXOS0</td>\n",
       "      <td>Television &amp; Video</td>\n",
       "    </tr>\n",
       "    <tr>\n",
       "      <th>2</th>\n",
       "      <td>B00CSQYVWM</td>\n",
       "      <td>Camera &amp; Photo</td>\n",
       "    </tr>\n",
       "    <tr>\n",
       "      <th>3</th>\n",
       "      <td>B002AF5184</td>\n",
       "      <td>Portable Audio &amp; Video</td>\n",
       "    </tr>\n",
       "    <tr>\n",
       "      <th>4</th>\n",
       "      <td>B008LTBM6S</td>\n",
       "      <td>Computers &amp; Accessories</td>\n",
       "    </tr>\n",
       "    <tr>\n",
       "      <th>...</th>\n",
       "      <td>...</td>\n",
       "      <td>...</td>\n",
       "    </tr>\n",
       "    <tr>\n",
       "      <th>72994</th>\n",
       "      <td>B0048ABG6A</td>\n",
       "      <td>Camera &amp; Photo</td>\n",
       "    </tr>\n",
       "    <tr>\n",
       "      <th>72995</th>\n",
       "      <td>B004WI867K</td>\n",
       "      <td>Computers &amp; Accessories</td>\n",
       "    </tr>\n",
       "    <tr>\n",
       "      <th>72996</th>\n",
       "      <td>B01E5ITE2W</td>\n",
       "      <td>Computers &amp; Accessories</td>\n",
       "    </tr>\n",
       "    <tr>\n",
       "      <th>72997</th>\n",
       "      <td>B008XI59K2</td>\n",
       "      <td>Computers &amp; Accessories</td>\n",
       "    </tr>\n",
       "    <tr>\n",
       "      <th>72998</th>\n",
       "      <td>B00HNDCWQM</td>\n",
       "      <td>Accessories &amp; Supplies</td>\n",
       "    </tr>\n",
       "  </tbody>\n",
       "</table>\n",
       "<p>72999 rows × 2 columns</p>\n",
       "</div>"
      ],
      "text/plain": [
       "                0                         1\n",
       "0      B002B3YCQM   Computers & Accessories\n",
       "1      B00JXXXOS0        Television & Video\n",
       "2      B00CSQYVWM            Camera & Photo\n",
       "3      B002AF5184    Portable Audio & Video\n",
       "4      B008LTBM6S   Computers & Accessories\n",
       "...           ...                       ...\n",
       "72994  B0048ABG6A            Camera & Photo\n",
       "72995  B004WI867K   Computers & Accessories\n",
       "72996  B01E5ITE2W   Computers & Accessories\n",
       "72997  B008XI59K2   Computers & Accessories\n",
       "72998  B00HNDCWQM    Accessories & Supplies\n",
       "\n",
       "[72999 rows x 2 columns]"
      ]
     },
     "execution_count": 61,
     "metadata": {},
     "output_type": "execute_result"
    }
   ],
   "source": [
    "df_cat_asin"
   ]
  },
  {
   "cell_type": "code",
   "execution_count": null,
   "metadata": {
    "id": "cgTm8qNxfDEV"
   },
   "outputs": [],
   "source": [
    "df_cat_asin.rename({0:'asin',1:'category_type'}, axis=1,inplace=True)"
   ]
  },
  {
   "cell_type": "code",
   "execution_count": null,
   "metadata": {
    "colab": {
     "base_uri": "https://localhost:8080/",
     "height": 203
    },
    "id": "SX_1cxg0fKLZ",
    "outputId": "663cec85-a4d5-461e-b49c-d7b93429e015"
   },
   "outputs": [
    {
     "data": {
      "text/html": [
       "<div>\n",
       "<style scoped>\n",
       "    .dataframe tbody tr th:only-of-type {\n",
       "        vertical-align: middle;\n",
       "    }\n",
       "\n",
       "    .dataframe tbody tr th {\n",
       "        vertical-align: top;\n",
       "    }\n",
       "\n",
       "    .dataframe thead th {\n",
       "        text-align: right;\n",
       "    }\n",
       "</style>\n",
       "<table border=\"1\" class=\"dataframe\">\n",
       "  <thead>\n",
       "    <tr style=\"text-align: right;\">\n",
       "      <th></th>\n",
       "      <th>asin</th>\n",
       "      <th>category_type</th>\n",
       "    </tr>\n",
       "  </thead>\n",
       "  <tbody>\n",
       "    <tr>\n",
       "      <th>0</th>\n",
       "      <td>B002B3YCQM</td>\n",
       "      <td>Computers &amp; Accessories</td>\n",
       "    </tr>\n",
       "    <tr>\n",
       "      <th>1</th>\n",
       "      <td>B00JXXXOS0</td>\n",
       "      <td>Television &amp; Video</td>\n",
       "    </tr>\n",
       "    <tr>\n",
       "      <th>2</th>\n",
       "      <td>B00CSQYVWM</td>\n",
       "      <td>Camera &amp; Photo</td>\n",
       "    </tr>\n",
       "    <tr>\n",
       "      <th>3</th>\n",
       "      <td>B002AF5184</td>\n",
       "      <td>Portable Audio &amp; Video</td>\n",
       "    </tr>\n",
       "    <tr>\n",
       "      <th>4</th>\n",
       "      <td>B008LTBM6S</td>\n",
       "      <td>Computers &amp; Accessories</td>\n",
       "    </tr>\n",
       "  </tbody>\n",
       "</table>\n",
       "</div>"
      ],
      "text/plain": [
       "         asin             category_type\n",
       "0  B002B3YCQM   Computers & Accessories\n",
       "1  B00JXXXOS0        Television & Video\n",
       "2  B00CSQYVWM            Camera & Photo\n",
       "3  B002AF5184    Portable Audio & Video\n",
       "4  B008LTBM6S   Computers & Accessories"
      ]
     },
     "execution_count": 63,
     "metadata": {},
     "output_type": "execute_result"
    }
   ],
   "source": [
    "df_cat_asin.head(5)"
   ]
  },
  {
   "cell_type": "code",
   "execution_count": null,
   "metadata": {
    "colab": {
     "base_uri": "https://localhost:8080/",
     "height": 293
    },
    "id": "3wLoy141fN7A",
    "outputId": "03c01b40-43f8-4008-fc93-d4ec4cc75a9d"
   },
   "outputs": [
    {
     "data": {
      "text/html": [
       "<div>\n",
       "<style scoped>\n",
       "    .dataframe tbody tr th:only-of-type {\n",
       "        vertical-align: middle;\n",
       "    }\n",
       "\n",
       "    .dataframe tbody tr th {\n",
       "        vertical-align: top;\n",
       "    }\n",
       "\n",
       "    .dataframe thead th {\n",
       "        text-align: right;\n",
       "    }\n",
       "</style>\n",
       "<table border=\"1\" class=\"dataframe\">\n",
       "  <thead>\n",
       "    <tr style=\"text-align: right;\">\n",
       "      <th></th>\n",
       "      <th>Unnamed: 0</th>\n",
       "      <th>overall</th>\n",
       "      <th>vote</th>\n",
       "      <th>verified</th>\n",
       "      <th>reviewTime</th>\n",
       "      <th>reviewerID</th>\n",
       "      <th>asin</th>\n",
       "      <th>style</th>\n",
       "      <th>reviewerName</th>\n",
       "      <th>reviewText</th>\n",
       "      <th>summary</th>\n",
       "      <th>unixReviewTime</th>\n",
       "      <th>image</th>\n",
       "      <th>category_type</th>\n",
       "    </tr>\n",
       "  </thead>\n",
       "  <tbody>\n",
       "    <tr>\n",
       "      <th>0</th>\n",
       "      <td>1425280</td>\n",
       "      <td>2.0</td>\n",
       "      <td>NaN</td>\n",
       "      <td>True</td>\n",
       "      <td>01 24, 2015</td>\n",
       "      <td>AMFPAS8VMIDGJ</td>\n",
       "      <td>B002B3YCQM</td>\n",
       "      <td>{'Package Type:': ' Standard Packaging'}</td>\n",
       "      <td>Crewtx</td>\n",
       "      <td>I've stopped counting the number of mice I've ...</td>\n",
       "      <td>I've stopped counting the number of mice I've ...</td>\n",
       "      <td>1422057600</td>\n",
       "      <td>NaN</td>\n",
       "      <td>Computers &amp; Accessories</td>\n",
       "    </tr>\n",
       "    <tr>\n",
       "      <th>1</th>\n",
       "      <td>1424955</td>\n",
       "      <td>4.0</td>\n",
       "      <td>NaN</td>\n",
       "      <td>True</td>\n",
       "      <td>03 26, 2016</td>\n",
       "      <td>A1UVU5YY6B6KQM</td>\n",
       "      <td>B002B3YCQM</td>\n",
       "      <td>{'Package Type:': ' Standard Packaging'}</td>\n",
       "      <td>Oohla</td>\n",
       "      <td>this mouse worked for 1 month and 10 days.  To...</td>\n",
       "      <td>Worked for under 2 months - Logitech was happy...</td>\n",
       "      <td>1458950400</td>\n",
       "      <td>NaN</td>\n",
       "      <td>Computers &amp; Accessories</td>\n",
       "    </tr>\n",
       "    <tr>\n",
       "      <th>2</th>\n",
       "      <td>1425020</td>\n",
       "      <td>5.0</td>\n",
       "      <td>NaN</td>\n",
       "      <td>True</td>\n",
       "      <td>11 28, 2015</td>\n",
       "      <td>A2G8K3GDE6R2Z5</td>\n",
       "      <td>B002B3YCQM</td>\n",
       "      <td>{'Package Type:': ' Standard Packaging'}</td>\n",
       "      <td>Rick Strahl</td>\n",
       "      <td>I bought a tethered mouse after buying a new 4...</td>\n",
       "      <td>Love the Scroll Wheel on this Mouse</td>\n",
       "      <td>1448668800</td>\n",
       "      <td>NaN</td>\n",
       "      <td>Computers &amp; Accessories</td>\n",
       "    </tr>\n",
       "  </tbody>\n",
       "</table>\n",
       "</div>"
      ],
      "text/plain": [
       "   Unnamed: 0  overall vote  ...  unixReviewTime image             category_type\n",
       "0     1425280      2.0  NaN  ...      1422057600   NaN   Computers & Accessories\n",
       "1     1424955      4.0  NaN  ...      1458950400   NaN   Computers & Accessories\n",
       "2     1425020      5.0  NaN  ...      1448668800   NaN   Computers & Accessories\n",
       "\n",
       "[3 rows x 14 columns]"
      ]
     },
     "execution_count": 74,
     "metadata": {},
     "output_type": "execute_result"
    }
   ],
   "source": [
    "df_inner = pd.merge(df1,df_cat_asin, on='asin', how='inner')\n",
    "\n",
    "df_inner.head(3)"
   ]
  },
  {
   "cell_type": "code",
   "execution_count": null,
   "metadata": {
    "colab": {
     "base_uri": "https://localhost:8080/"
    },
    "id": "BG4seiAafRrQ",
    "outputId": "382ea164-57a4-483a-dbe6-87b8cdb601df"
   },
   "outputs": [
    {
     "data": {
      "text/plain": [
       " Computers & Accessories            104724\n",
       " Accessories & Supplies              37711\n",
       " Camera & Photo                      33043\n",
       " Headphones                          13239\n",
       " Portable Audio & Video              12323\n",
       " Television & Video                   6562\n",
       " Car & Vehicle Electronics            6556\n",
       " Home Audio                           4928\n",
       " GPS                                  3313\n",
       " Computers &amp; Accessories          2927\n",
       " Camera &amp; Photo                   2089\n",
       " Accessories &amp; Supplies           2085\n",
       " Security & Surveillance              1876\n",
       " eBook Readers & Accessories           967\n",
       " Wearable Technology                   914\n",
       " Video Projectors                      622\n",
       " Portable Audio &amp; Video            616\n",
       " Electronics Warranties                542\n",
       " Car &amp; Vehicle Electronics         333\n",
       " Television &amp; Video                128\n",
       " Security &amp; Surveillance            60\n",
       " eBook Readers &amp; Accessories        35\n",
       " Service Plans                          24\n",
       " Cell Phones & Accessories               2\n",
       " Featured Categories                     1\n",
       "Name: category_type, dtype: int64"
      ]
     },
     "execution_count": 65,
     "metadata": {},
     "output_type": "execute_result"
    }
   ],
   "source": [
    "df_inner['category_type'].value_counts()"
   ]
  },
  {
   "cell_type": "code",
   "execution_count": null,
   "metadata": {
    "id": "nPdX1X33fXpr"
   },
   "outputs": [],
   "source": [
    "prod1 = deepcopy(df_inner)\n",
    "prod2 = prod1[['asin', 'category_type']]"
   ]
  },
  {
   "cell_type": "markdown",
   "metadata": {
    "id": "l3oLgyyygBzf"
   },
   "source": [
    "##recommendation category wise"
   ]
  },
  {
   "cell_type": "code",
   "execution_count": null,
   "metadata": {
    "id": "ctfHpcZWhI6J"
   },
   "outputs": [],
   "source": [
    "from pyspark.sql import SparkSession\n",
    "#Create PySpark SparkSession\n",
    "spark = SparkSession.builder.getOrCreate()\n",
    "sparkDF=spark.createDataFrame(prod2.astype(str))"
   ]
  },
  {
   "cell_type": "code",
   "execution_count": null,
   "metadata": {
    "id": "mA0ZhRa_hKHR"
   },
   "outputs": [],
   "source": [
    "jdf2 = prediction.join(sparkDF,prediction[\"asin\"] ==  sparkDF[\"asin\"],\"inner\")"
   ]
  },
  {
   "cell_type": "code",
   "execution_count": null,
   "metadata": {
    "colab": {
     "base_uri": "https://localhost:8080/",
     "height": 417
    },
    "id": "cGWaDVkPhN5P",
    "outputId": "2a8be264-4418-40b1-ec99-32a34a10695e"
   },
   "outputs": [
    {
     "data": {
      "text/html": [
       "<div>\n",
       "<style scoped>\n",
       "    .dataframe tbody tr th:only-of-type {\n",
       "        vertical-align: middle;\n",
       "    }\n",
       "\n",
       "    .dataframe tbody tr th {\n",
       "        vertical-align: top;\n",
       "    }\n",
       "\n",
       "    .dataframe thead th {\n",
       "        text-align: right;\n",
       "    }\n",
       "</style>\n",
       "<table border=\"1\" class=\"dataframe\">\n",
       "  <thead>\n",
       "    <tr style=\"text-align: right;\">\n",
       "      <th></th>\n",
       "      <th>overall</th>\n",
       "      <th>reviewerID</th>\n",
       "      <th>asin</th>\n",
       "      <th>category_type</th>\n",
       "    </tr>\n",
       "  </thead>\n",
       "  <tbody>\n",
       "    <tr>\n",
       "      <th>0</th>\n",
       "      <td>2.0</td>\n",
       "      <td>AMFPAS8VMIDGJ</td>\n",
       "      <td>B002B3YCQM</td>\n",
       "      <td>Computers &amp; Accessories</td>\n",
       "    </tr>\n",
       "    <tr>\n",
       "      <th>1</th>\n",
       "      <td>4.0</td>\n",
       "      <td>A1UVU5YY6B6KQM</td>\n",
       "      <td>B002B3YCQM</td>\n",
       "      <td>Computers &amp; Accessories</td>\n",
       "    </tr>\n",
       "    <tr>\n",
       "      <th>2</th>\n",
       "      <td>5.0</td>\n",
       "      <td>A2G8K3GDE6R2Z5</td>\n",
       "      <td>B002B3YCQM</td>\n",
       "      <td>Computers &amp; Accessories</td>\n",
       "    </tr>\n",
       "    <tr>\n",
       "      <th>3</th>\n",
       "      <td>3.0</td>\n",
       "      <td>A1N499QUWCGE4N</td>\n",
       "      <td>B002B3YCQM</td>\n",
       "      <td>Computers &amp; Accessories</td>\n",
       "    </tr>\n",
       "    <tr>\n",
       "      <th>4</th>\n",
       "      <td>4.0</td>\n",
       "      <td>A1OV75M25ENAND</td>\n",
       "      <td>B002B3YCQM</td>\n",
       "      <td>Computers &amp; Accessories</td>\n",
       "    </tr>\n",
       "    <tr>\n",
       "      <th>...</th>\n",
       "      <td>...</td>\n",
       "      <td>...</td>\n",
       "      <td>...</td>\n",
       "      <td>...</td>\n",
       "    </tr>\n",
       "    <tr>\n",
       "      <th>235615</th>\n",
       "      <td>5.0</td>\n",
       "      <td>ADDOTT8YOT0NS</td>\n",
       "      <td>B0048ABG6A</td>\n",
       "      <td>Camera &amp; Photo</td>\n",
       "    </tr>\n",
       "    <tr>\n",
       "      <th>235616</th>\n",
       "      <td>5.0</td>\n",
       "      <td>AKH6N84CBOBJ6</td>\n",
       "      <td>B004WI867K</td>\n",
       "      <td>Computers &amp; Accessories</td>\n",
       "    </tr>\n",
       "    <tr>\n",
       "      <th>235617</th>\n",
       "      <td>5.0</td>\n",
       "      <td>A2J0CYSHN37GA1</td>\n",
       "      <td>B01E5ITE2W</td>\n",
       "      <td>Computers &amp; Accessories</td>\n",
       "    </tr>\n",
       "    <tr>\n",
       "      <th>235618</th>\n",
       "      <td>5.0</td>\n",
       "      <td>AVW3SN671V6Q</td>\n",
       "      <td>B008XI59K2</td>\n",
       "      <td>Computers &amp; Accessories</td>\n",
       "    </tr>\n",
       "    <tr>\n",
       "      <th>235619</th>\n",
       "      <td>5.0</td>\n",
       "      <td>A1MGUMKNMC5DL5</td>\n",
       "      <td>B00HNDCWQM</td>\n",
       "      <td>Accessories &amp; Supplies</td>\n",
       "    </tr>\n",
       "  </tbody>\n",
       "</table>\n",
       "<p>235620 rows × 4 columns</p>\n",
       "</div>"
      ],
      "text/plain": [
       "        overall      reviewerID        asin             category_type\n",
       "0           2.0   AMFPAS8VMIDGJ  B002B3YCQM   Computers & Accessories\n",
       "1           4.0  A1UVU5YY6B6KQM  B002B3YCQM   Computers & Accessories\n",
       "2           5.0  A2G8K3GDE6R2Z5  B002B3YCQM   Computers & Accessories\n",
       "3           3.0  A1N499QUWCGE4N  B002B3YCQM   Computers & Accessories\n",
       "4           4.0  A1OV75M25ENAND  B002B3YCQM   Computers & Accessories\n",
       "...         ...             ...         ...                       ...\n",
       "235615      5.0   ADDOTT8YOT0NS  B0048ABG6A            Camera & Photo\n",
       "235616      5.0   AKH6N84CBOBJ6  B004WI867K   Computers & Accessories\n",
       "235617      5.0  A2J0CYSHN37GA1  B01E5ITE2W   Computers & Accessories\n",
       "235618      5.0    AVW3SN671V6Q  B008XI59K2   Computers & Accessories\n",
       "235619      5.0  A1MGUMKNMC5DL5  B00HNDCWQM    Accessories & Supplies\n",
       "\n",
       "[235620 rows x 4 columns]"
      ]
     },
     "execution_count": 78,
     "metadata": {},
     "output_type": "execute_result"
    }
   ],
   "source": [
    "ratings2 = deepcopy(df_inner)\n",
    "ratings2.drop(['Unnamed: 0', 'verified', 'reviewTime', \n",
    "       'reviewerName', 'reviewText', 'summary', 'unixReviewTime', 'vote',\n",
    "       'image', 'style'],axis=1, inplace = True)\n",
    "ratings2.fillna(value = 0, inplace = True)\n",
    "ratings2.drop_duplicates\n",
    "ratings2"
   ]
  },
  {
   "cell_type": "code",
   "execution_count": null,
   "metadata": {
    "id": "Dm8cyXj2i0gY"
   },
   "outputs": [],
   "source": [
    "l=df_inner['category_type'].unique()\n",
    "#l"
   ]
  },
  {
   "cell_type": "code",
   "execution_count": null,
   "metadata": {
    "colab": {
     "base_uri": "https://localhost:8080/",
     "height": 417
    },
    "id": "poGiVH3yjQzl",
    "outputId": "9a1130aa-82f0-4aa3-d2d3-b2e96953a664"
   },
   "outputs": [
    {
     "data": {
      "text/html": [
       "<div>\n",
       "<style scoped>\n",
       "    .dataframe tbody tr th:only-of-type {\n",
       "        vertical-align: middle;\n",
       "    }\n",
       "\n",
       "    .dataframe tbody tr th {\n",
       "        vertical-align: top;\n",
       "    }\n",
       "\n",
       "    .dataframe thead th {\n",
       "        text-align: right;\n",
       "    }\n",
       "</style>\n",
       "<table border=\"1\" class=\"dataframe\">\n",
       "  <thead>\n",
       "    <tr style=\"text-align: right;\">\n",
       "      <th></th>\n",
       "      <th>overall</th>\n",
       "      <th>reviewerID</th>\n",
       "      <th>asin</th>\n",
       "      <th>category_type</th>\n",
       "    </tr>\n",
       "  </thead>\n",
       "  <tbody>\n",
       "    <tr>\n",
       "      <th>0</th>\n",
       "      <td>2.0</td>\n",
       "      <td>AMFPAS8VMIDGJ</td>\n",
       "      <td>B002B3YCQM</td>\n",
       "      <td>Computers &amp; Accessories</td>\n",
       "    </tr>\n",
       "    <tr>\n",
       "      <th>1</th>\n",
       "      <td>4.0</td>\n",
       "      <td>A1UVU5YY6B6KQM</td>\n",
       "      <td>B002B3YCQM</td>\n",
       "      <td>Computers &amp; Accessories</td>\n",
       "    </tr>\n",
       "    <tr>\n",
       "      <th>2</th>\n",
       "      <td>5.0</td>\n",
       "      <td>A2G8K3GDE6R2Z5</td>\n",
       "      <td>B002B3YCQM</td>\n",
       "      <td>Computers &amp; Accessories</td>\n",
       "    </tr>\n",
       "    <tr>\n",
       "      <th>3</th>\n",
       "      <td>3.0</td>\n",
       "      <td>A1N499QUWCGE4N</td>\n",
       "      <td>B002B3YCQM</td>\n",
       "      <td>Computers &amp; Accessories</td>\n",
       "    </tr>\n",
       "    <tr>\n",
       "      <th>4</th>\n",
       "      <td>4.0</td>\n",
       "      <td>A1OV75M25ENAND</td>\n",
       "      <td>B002B3YCQM</td>\n",
       "      <td>Computers &amp; Accessories</td>\n",
       "    </tr>\n",
       "    <tr>\n",
       "      <th>...</th>\n",
       "      <td>...</td>\n",
       "      <td>...</td>\n",
       "      <td>...</td>\n",
       "      <td>...</td>\n",
       "    </tr>\n",
       "    <tr>\n",
       "      <th>235609</th>\n",
       "      <td>4.0</td>\n",
       "      <td>A16Q4CLQP3943B</td>\n",
       "      <td>B00OKULAQY</td>\n",
       "      <td>Computers &amp; Accessories</td>\n",
       "    </tr>\n",
       "    <tr>\n",
       "      <th>235611</th>\n",
       "      <td>5.0</td>\n",
       "      <td>A2IYVGCV556T7K</td>\n",
       "      <td>B01EJ7PCY8</td>\n",
       "      <td>Computers &amp; Accessories</td>\n",
       "    </tr>\n",
       "    <tr>\n",
       "      <th>235616</th>\n",
       "      <td>5.0</td>\n",
       "      <td>AKH6N84CBOBJ6</td>\n",
       "      <td>B004WI867K</td>\n",
       "      <td>Computers &amp; Accessories</td>\n",
       "    </tr>\n",
       "    <tr>\n",
       "      <th>235617</th>\n",
       "      <td>5.0</td>\n",
       "      <td>A2J0CYSHN37GA1</td>\n",
       "      <td>B01E5ITE2W</td>\n",
       "      <td>Computers &amp; Accessories</td>\n",
       "    </tr>\n",
       "    <tr>\n",
       "      <th>235618</th>\n",
       "      <td>5.0</td>\n",
       "      <td>AVW3SN671V6Q</td>\n",
       "      <td>B008XI59K2</td>\n",
       "      <td>Computers &amp; Accessories</td>\n",
       "    </tr>\n",
       "  </tbody>\n",
       "</table>\n",
       "<p>104724 rows × 4 columns</p>\n",
       "</div>"
      ],
      "text/plain": [
       "        overall      reviewerID        asin             category_type\n",
       "0           2.0   AMFPAS8VMIDGJ  B002B3YCQM   Computers & Accessories\n",
       "1           4.0  A1UVU5YY6B6KQM  B002B3YCQM   Computers & Accessories\n",
       "2           5.0  A2G8K3GDE6R2Z5  B002B3YCQM   Computers & Accessories\n",
       "3           3.0  A1N499QUWCGE4N  B002B3YCQM   Computers & Accessories\n",
       "4           4.0  A1OV75M25ENAND  B002B3YCQM   Computers & Accessories\n",
       "...         ...             ...         ...                       ...\n",
       "235609      4.0  A16Q4CLQP3943B  B00OKULAQY   Computers & Accessories\n",
       "235611      5.0  A2IYVGCV556T7K  B01EJ7PCY8   Computers & Accessories\n",
       "235616      5.0   AKH6N84CBOBJ6  B004WI867K   Computers & Accessories\n",
       "235617      5.0  A2J0CYSHN37GA1  B01E5ITE2W   Computers & Accessories\n",
       "235618      5.0    AVW3SN671V6Q  B008XI59K2   Computers & Accessories\n",
       "\n",
       "[104724 rows x 4 columns]"
      ]
     },
     "execution_count": 78,
     "metadata": {},
     "output_type": "execute_result"
    }
   ],
   "source": [
    "ratings2.loc[ratings2['category_type']==' Computers & Accessories']"
   ]
  },
  {
   "cell_type": "code",
   "execution_count": null,
   "metadata": {
    "id": "4lY7bkgpZbi6"
   },
   "outputs": [],
   "source": [
    "def preprocessed(data,r,iter,para):\n",
    "    #preprocessed = ratings2.values.tolist()\n",
    "    ##temp_data=data.loc[data['category_type']==cat]\n",
    "    ##dff=pd.DataFrame(temp_data)\n",
    "    ##temp_data_f=dff.drop(['category_type'],axis=1)\n",
    "    \n",
    "    data = spark.createDataFrame(ratings[['reviewerID', 'asin', 'overall']])\n",
    "    indexer = [StringIndexer(inputCol = column, outputCol = column+\"index\") for column in ['asin','reviewerID']]\n",
    "    pipeline = Pipeline(stages=indexer)\n",
    "    data = pipeline.fit(data).transform(data)\n",
    "\n",
    "    transformed_train = data.sampleBy(\"overall\", fractions={1: 0.7, 2: 0.7, 3: 0.7,4: 0.7,5: 0.7}, seed=10)\n",
    "    transformed_test = data.subtract(transformed_train)\n",
    "\n",
    "    transformed_train = transformed_train.withColumnRenamed('overall','label')\n",
    "    transformed_test = transformed_test.withColumnRenamed('overall','truelabel')\n",
    "\n",
    "    als = ALS(rank=r, maxIter = iter, regParam = para, userCol = 'reviewerIDindex', itemCol = 'asinindex', ratingCol = 'label', coldStartStrategy='drop', nonnegative=True)\n",
    "    model = als.fit(transformed_train)\n",
    "    prediction = model.transform(transformed_test)\n",
    "    jdf2 = prediction.join(sparkDF,prediction[\"asin\"] ==  sparkDF[\"asin\"],\"inner\")\n",
    "    jdf2=jdf2.dropDuplicates(['reviewerID','asin','truelabel','asinindex','reviewerIDindex','prediction','asin','category_type'])\n",
    "    #jdf2.show(n=5,truncate=False)\n",
    "    return(jdf2)"
   ]
  },
  {
   "cell_type": "code",
   "execution_count": null,
   "metadata": {
    "id": "ODpVTK7TaZ3Z"
   },
   "outputs": [],
   "source": [
    "def reco_user_category(user_id,cat,data,title,r,iter,para):\n",
    "    temp_data=data.loc[data['category_type']==cat]\n",
    "    dff=pd.DataFrame(temp_data)\n",
    "    temp_data_f=dff.drop(['category_type'],axis=1)\n",
    "\n",
    "    prediction=preprocessed(temp_data,r,iter,para)\n",
    "    temp_df = prediction.filter(prediction[\"reviewerID\"] == user_id)\n",
    "    temp_df = temp_df.sort(\"prediction\", ascending=False)\n",
    "    pandas_df = temp_df.select(\"*\").toPandas()\n",
    "    #print(pandas_df)\n",
    "    if len(pandas_df)<5:\n",
    "        #popularity based\n",
    "        ratings = pd.DataFrame(temp_data_f.groupby('asin')['overall'].median().sort_values(ascending=False).head())\n",
    "        #print(ratings)\n",
    "        ratings=pd.DataFrame(ratings)\n",
    "        ratings.reset_index(inplace=True)\n",
    "        #print(ratings)\n",
    "        #print(ratings.columns)\n",
    "        #print(type(ratings))\n",
    "        \n",
    "        recommendation=ratings[:5]\n",
    "       # print(recommendation)\n",
    "       # ratings.rename(columns={\"overall\": \"Rating_Median\"}, inplace=True)  \n",
    "        l1=pandas_df.loc[:,'asin']\n",
    "        #print(l1)\n",
    "        l2=recommendation.loc[:,'asin']\n",
    "        #print(l2)\n",
    "        reco=l1.values.tolist()\n",
    "        for i in l2.values.tolist():\n",
    "            if i not in l1.values.tolist():\n",
    "                reco.append(i)\n",
    "            if len(reco)==5:\n",
    "                break\n",
    "\n",
    "    else:\n",
    "       reco=pandas_df['asin'][:5]\n",
    "    df = pd.DataFrame(reco)\n",
    "    df.rename(columns={0: \"asin\"},inplace=True)\n",
    "    recommend = pd.merge(df,title, on='asin', how='inner').drop_duplicates( keep='last')\n",
    "\n",
    "    return(recommend)"
   ]
  },
  {
   "cell_type": "code",
   "execution_count": null,
   "metadata": {
    "colab": {
     "base_uri": "https://localhost:8080/",
     "height": 203
    },
    "id": "Qy1ADUL7afrl",
    "outputId": "0095f241-61b9-4e20-a133-9ed18b69236e"
   },
   "outputs": [
    {
     "data": {
      "text/html": [
       "<div>\n",
       "<style scoped>\n",
       "    .dataframe tbody tr th:only-of-type {\n",
       "        vertical-align: middle;\n",
       "    }\n",
       "\n",
       "    .dataframe tbody tr th {\n",
       "        vertical-align: top;\n",
       "    }\n",
       "\n",
       "    .dataframe thead th {\n",
       "        text-align: right;\n",
       "    }\n",
       "</style>\n",
       "<table border=\"1\" class=\"dataframe\">\n",
       "  <thead>\n",
       "    <tr style=\"text-align: right;\">\n",
       "      <th></th>\n",
       "      <th>asin</th>\n",
       "      <th>title</th>\n",
       "    </tr>\n",
       "  </thead>\n",
       "  <tbody>\n",
       "    <tr>\n",
       "      <th>0</th>\n",
       "      <td>B01HJCN1EI</td>\n",
       "      <td>Android charger cable 10 ft, Extra long Nylon ...</td>\n",
       "    </tr>\n",
       "    <tr>\n",
       "      <th>1</th>\n",
       "      <td>B00BWBEL1U</td>\n",
       "      <td>Acer V226WL bd 22-Inch Screen LED-Lit Monitor</td>\n",
       "    </tr>\n",
       "    <tr>\n",
       "      <th>2</th>\n",
       "      <td>B00BUZ0K68</td>\n",
       "      <td>Tera Grand - Premium USB 2.0 to RS232 Serial D...</td>\n",
       "    </tr>\n",
       "    <tr>\n",
       "      <th>3</th>\n",
       "      <td>B00BV31QU8</td>\n",
       "      <td>ROSEWILL ATX Mid Tower Gaming Computer Case, G...</td>\n",
       "    </tr>\n",
       "    <tr>\n",
       "      <th>4</th>\n",
       "      <td>B00BV9KAOK</td>\n",
       "      <td>Lenovo Flex 14 Flex 14d Flex 15 Flex 15D Y40-7...</td>\n",
       "    </tr>\n",
       "  </tbody>\n",
       "</table>\n",
       "</div>"
      ],
      "text/plain": [
       "         asin                                              title\n",
       "0  B01HJCN1EI  Android charger cable 10 ft, Extra long Nylon ...\n",
       "1  B00BWBEL1U      Acer V226WL bd 22-Inch Screen LED-Lit Monitor\n",
       "2  B00BUZ0K68  Tera Grand - Premium USB 2.0 to RS232 Serial D...\n",
       "3  B00BV31QU8  ROSEWILL ATX Mid Tower Gaming Computer Case, G...\n",
       "4  B00BV9KAOK  Lenovo Flex 14 Flex 14d Flex 15 Flex 15D Y40-7..."
      ]
     },
     "execution_count": 82,
     "metadata": {},
     "output_type": "execute_result"
    }
   ],
   "source": [
    "reco_user_category('AMFPAS8VMIDGJ',' Computers & Accessories',ratings2,prod_title,r,iter,para)"
   ]
  },
  {
   "cell_type": "code",
   "execution_count": null,
   "metadata": {
    "colab": {
     "base_uri": "https://localhost:8080/"
    },
    "id": "Vju5OewXIB7v",
    "outputId": "13d44623-8b45-4e4f-ee0a-703f5ff42eb1"
   },
   "outputs": [
    {
     "name": "stdout",
     "output_type": "stream",
     "text": [
      " Computers & Accessories\n",
      "         asin                                              title\n",
      "0  B01HJCN1EI  Android charger cable 10 ft, Extra long Nylon ...\n",
      "1  B00BWBEL1U      Acer V226WL bd 22-Inch Screen LED-Lit Monitor\n",
      "2  B00BUZ0K68  Tera Grand - Premium USB 2.0 to RS232 Serial D...\n",
      "3  B00BV31QU8  ROSEWILL ATX Mid Tower Gaming Computer Case, G...\n",
      "4  B00BV9KAOK  Lenovo Flex 14 Flex 14d Flex 15 Flex 15D Y40-7...\n",
      " Television & Video\n",
      "         asin                                              title\n",
      "0  B01HB3YWLG  Happycamping TV Antenna 50 Miles Range Amplifi...\n",
      "1  B000X3NROK  Sony Bravia M-Series KDL-37M3000 37-Inch 720p ...\n",
      "2  B000XG532Q        Toshiba REGZA 42HL67U 42-Inch 720p LCD HDTV\n",
      "3  B00A0EUA2Y  RCA LED55C55R120Q 55-Inch 1080p 120Hz LED HDTV...\n",
      "4  B00A7BGMTU  oCOSMO CE3200V 32-Inch 720p 60Hz LED  TV-DVD C...\n",
      " Camera & Photo\n",
      "         asin                                              title\n",
      "0  B01HITUTV0  Foto&amp;Tech Safety Camera Strap Tether Leash...\n",
      "1  B0078OVG0O                 Pandigital 7 Digital Picture Frame\n",
      "2  B0078K17WK                       Case Logic DSLR Camera Sling\n",
      "3  B0078K16IK                       Case Logic DSLR Shoulder Bag\n",
      "4  B0078J2HS4                Case Logic DM-1000 DSLR Travel Pack\n",
      " Portable Audio & Video\n",
      "         asin                                              title\n",
      "0  B00B8PRRTI  Eton Rugged Rukus Solar-powered, Bluetooth, sm...\n",
      "1  B00CBD65Z8  TOMTOP Mini Digital Portable Music MP3/4 Playe...\n",
      "2  B009WTYIKS  For Apple iPod Touch 5 Armor 3 in 1 w/Stand Bl...\n",
      "3  B009WGCGUA  iPod Touch 6 Case, 3-in-1 Duo Armor Case and H...\n",
      "4  B009W5O2U8  Scosche boomSTREAM mini Portable Bluetooth Wir...\n"
     ]
    }
   ],
   "source": [
    "list_category=df_inner['category_type'].unique()\n",
    "for i in list_category[:4]:\n",
    "    print(i)\n",
    "    print(reco_user_category('AMFPAS8VMIDGJ',i,ratings2,prod_title,r,iter,para))"
   ]
  },
  {
   "cell_type": "markdown",
   "metadata": {
    "id": "iTzdNAP7es6p"
   },
   "source": [
    "##Cross category"
   ]
  },
  {
   "cell_type": "code",
   "execution_count": null,
   "metadata": {
    "id": "BbFX_UD_5Vib"
   },
   "outputs": [],
   "source": [
    "df_item_info = pd.merge(prod_title,df_cat_asin, on='asin', how='inner')\n",
    "\n",
    "df_item_info.head(3)"
   ]
  },
  {
   "cell_type": "code",
   "execution_count": null,
   "metadata": {
    "id": "p39rMbjT5f-h"
   },
   "outputs": [],
   "source": [
    "def popular(data):\n",
    "    l=data['category_type'].unique()\n",
    "    list_rec=[]\n",
    "    for cat in l:\n",
    "        temp_data=data.loc[data['category_type']==cat]\n",
    "        dff=pd.DataFrame(temp_data)\n",
    "        temp_data_f=dff.drop(['category_type'],axis=1)\n",
    "        ratings = pd.DataFrame(temp_data_f.groupby('asin')['overall'].median().sort_values(ascending=False).head())\n",
    "        ratings=pd.DataFrame(ratings)\n",
    "        ratings.reset_index(inplace=True)\n",
    "        \n",
    "        recommendation=ratings[:5]\n",
    "        l1=recommendation.loc[:,'asin']\n",
    "        reco=l1.values.tolist()\n",
    "        for i in reco:\n",
    "            list_rec.append(i)\n",
    "    return(list_rec)"
   ]
  },
  {
   "cell_type": "code",
   "execution_count": null,
   "metadata": {
    "id": "WdJDQU9j5lZS"
   },
   "outputs": [],
   "source": [
    "def reco_user_cross_category(user_id,data,item,r,iter,para):\n",
    "    \n",
    "\n",
    "    user_list=data['reviewerID']\n",
    "    user=[]\n",
    "    for i in user_list:\n",
    "        user.append(i)\n",
    "\n",
    "    if user_id in user:\n",
    "    \n",
    "        user_subset=data_copy.groupby('reviewerID')\n",
    "        user_data=user_subset.get_group(user_id)\n",
    "        user_category=user_data['category_type']\n",
    "        cat_list=[]\n",
    "        for i in user_category:\n",
    "            if i not in cat_list:\n",
    "                 cat_list.append(i)\n",
    "        print('recommended categories for previous user',cat_list)\n",
    "        for i in cat_list:\n",
    "            print(i)\n",
    "            print(reco_user_category(user_id,i,ratings2,prod_title,r,iter,para))\n",
    "\n",
    "    else:\n",
    "    \n",
    "        top_rec=popular(data)\n",
    "        print('recommendation for new user',top_rec)\n",
    "    \n"
   ]
  },
  {
   "cell_type": "code",
   "execution_count": null,
   "metadata": {
    "colab": {
     "base_uri": "https://localhost:8080/"
    },
    "id": "dKQ0zyS4TbzA",
    "outputId": "862d789f-06fc-43ce-ae00-3866aebd0e52"
   },
   "outputs": [
    {
     "data": {
      "text/plain": [
       "pandas.core.frame.DataFrame"
      ]
     },
     "execution_count": 146,
     "metadata": {},
     "output_type": "execute_result"
    }
   ],
   "source": [
    "type(prod_title)"
   ]
  },
  {
   "cell_type": "code",
   "execution_count": null,
   "metadata": {
    "colab": {
     "base_uri": "https://localhost:8080/"
    },
    "id": "J8G_ZRlsTvc7",
    "outputId": "831dc926-c003-42c3-9e99-73b7e207c4ca"
   },
   "outputs": [
    {
     "name": "stdout",
     "output_type": "stream",
     "text": [
      "<class 'pandas.core.frame.DataFrame'>                 0                                                  1\n",
      "0      B002B3YCQM  Logitech M500 Corded Mouse &ndash; Wired USB M...\n",
      "1      B00JXXXOS0  Panasonic All Multi Region Code Zone Free PAL/...\n",
      "2      B00CSQYVWM                       GoPro HERO3 Skeleton Housing\n",
      "3      B002AF5184  CrazyOnDigital Premium Black Leather Case Appl...\n",
      "4      B008LTBM6S  Crucial 4GB Single DDR3/DDR3L 1600 MT/s (PC3-1...\n",
      "...           ...                                                ...\n",
      "72994  B0048ABG6A  Fotodiox Pro Lens Mount Adapter - Canon FD &am...\n",
      "72995  B004WI867K  Cosmos &reg; Brown PU/synthetic/faux leather 1...\n",
      "72996  B01E5ITE2W  REDGO Video Audio VHS VCR USB Video Capture Ca...\n",
      "72997  B008XI59K2  HP 2000 2000-2C29WM 2000-2B19WM 693711-001 677...\n",
      "72998  B00HNDCWQM  Fosmon 3 RCA Male to 3 RCA Male Stereo Audio C...\n",
      "\n",
      "[72999 rows x 2 columns]\n"
     ]
    }
   ],
   "source": [
    "prod_title_list=prod_title.values.tolist()\n",
    "prod_df=pd.DataFrame(prod_title_list)\n",
    "print(type(prod_df),prod_df)"
   ]
  },
  {
   "cell_type": "code",
   "execution_count": null,
   "metadata": {
    "colab": {
     "base_uri": "https://localhost:8080/"
    },
    "id": "eVFH4dxz5p86",
    "outputId": "85f98993-cada-4389-b3b2-109d59b38124"
   },
   "outputs": [
    {
     "name": "stdout",
     "output_type": "stream",
     "text": [
      "recommended categories for previous user [' Portable Audio & Video']\n",
      " Portable Audio & Video\n",
      "         asin                                              title\n",
      "0  B00B8PRRTI  Eton Rugged Rukus Solar-powered, Bluetooth, sm...\n",
      "1  B00CBD65Z8  TOMTOP Mini Digital Portable Music MP3/4 Playe...\n",
      "2  B009WTYIKS  For Apple iPod Touch 5 Armor 3 in 1 w/Stand Bl...\n",
      "3  B009WGCGUA  iPod Touch 6 Case, 3-in-1 Duo Armor Case and H...\n",
      "4  B009W5O2U8  Scosche boomSTREAM mini Portable Bluetooth Wir...\n"
     ]
    }
   ],
   "source": [
    "l=reco_user_cross_category('A24QYDVR8BKT5',ratings2,prod_title,r,iter,para)"
   ]
  },
  {
   "cell_type": "code",
   "execution_count": null,
   "metadata": {
    "colab": {
     "base_uri": "https://localhost:8080/"
    },
    "id": "tbx-W7wzPDZJ",
    "outputId": "373bce66-0c9c-48f7-9978-6f0efac82d7d"
   },
   "outputs": [
    {
     "name": "stdout",
     "output_type": "stream",
     "text": [
      "recommendation for new user ['B01HJCN1EI', 'B00BWBEL1U', 'B00BUZ0K68', 'B00BV31QU8', 'B00BV9KAOK', 'B01HB3YWLG', 'B000X3NROK', 'B000XG532Q', 'B00A0EUA2Y', 'B00A7BGMTU', 'B01HITUTV0', 'B0078OVG0O', 'B0078K17WK', 'B0078K16IK', 'B0078J2HS4', 'B00B8PRRTI', 'B00CBD65Z8', 'B009WTYIKS', 'B009WGCGUA', 'B009W5O2U8', 'B01GXJTDEU', 'B000097O5F', 'B00092DAFG', 'B0009FUX94', 'B0009HAI4W', 'B01HJDR9DQ', 'B00HFYGQHU', 'B007AUW3F8', 'B007B4ZDUA', 'B007B5Q25E', 'B00STP874O', 'B001NTFAOS', 'B001NTBVPA', 'B00U109CIA', 'B00U57WIYO', 'B00BLQ2T9M', 'B007P2NKNU', 'B007AQ2W2Q', 'B007AQ2YMO', 'B007BFZ4NU', 'B00CWEJ5NA', 'B00GYCWY70', 'B007KOS31W', 'B0043BVJ2U', 'B00EZB26I4', 'B00GSJROBA', 'B00BFF92XK', 'B00BPCQ6H8', 'B00BMFYYO0', 'B000ZZINTK', 'B00006JPV6', 'B00H3TJ3P4', 'B00FTH6WNS', 'B000N20668', 'B00G2QCJW8', 'B001JM55CQ', 'B000COVZD0', 'B00069QNGA', 'B0006BKG9I', 'B0006GR8CQ', 'B01GCP0QIM', 'B0000C4G8B', 'B0000C73CQ', 'B0000DC0T3', 'B0000DIVAQ', 'B002I007IA', 'B001N85Z12', 'B001N82JSY', 'B003V5B76C', 'B0037TA7QS', 'B005DIBIRS', 'B00550D1AG', 'B00542NVDW', 'B0052XZO1U', 'B005140NAW', 'B0000696CO', 'B00OEV9MW8', 'B00RPJON8E', 'B00RJU0SE2', 'B00QXS8L6I', 'B000WP2RC2', '140053271X', '1935009311', '1935009192', '1935009036', 'B00FGKECBW', 'B004SD229M', 'B00BU1KGGG', 'B002J46IYW', 'B00BNK3JWM', 'B00RY074RG', 'B0002GUBIS', 'B000234TYI', 'B00024VU5I', 'B0002BNS6A', 'B000796XYQ', 'B00029X21S', 'B0006GFVPC', 'B0006GX0IC', 'B0006HBBF0', 'B01HCT3GCU', 'B00ZN07GBS', 'B00ZABBRZQ', 'B00YKNY612', 'B00YKNW8GC', 'B000X4LR64', 'B0007N5LMM', 'B0002JJU2S', 'B0006AZDGK', 'B0006AZDII', 'B006HFVXSU', 'B00080FPRU', 'B000G835DA', 'B000F6SR0O', 'B000F2R5HO', 'B001EU4ZF6', 'B01DNTWIA4']\n"
     ]
    }
   ],
   "source": [
    "l=reco_user_cross_category('monalisa',ratings2,prod_title,r,iter,para)"
   ]
  }
 ],
 "metadata": {
  "colab": {
   "collapsed_sections": [
    "pk1_J1frr79c",
    "IsQa_2lnq799",
    "wQQdn596Vvdc",
    "dTdI-Ur_VpKr",
    "yZO2Be0erCjx",
    "YrMsbCyMVORV",
    "aqN_oW0_rNMd",
    "Nzn5loaKrWaP",
    "OpOswepWrZpt",
    "lEBubtBBXjCm",
    "aXnRbq-3Y84S",
    "3CZCKeZaZRcJ",
    "X8W3IhaIaYsF",
    "vL5-ek1IbCBQ"
   ],
   "name": "Monalisa_pyspark_Amazon_electronics.ipynb",
   "provenance": []
  },
  "kernelspec": {
   "display_name": "Python 3",
   "language": "python",
   "name": "python3"
  },
  "language_info": {
   "codemirror_mode": {
    "name": "ipython",
    "version": 3
   },
   "file_extension": ".py",
   "mimetype": "text/x-python",
   "name": "python",
   "nbconvert_exporter": "python",
   "pygments_lexer": "ipython3",
   "version": "3.8.8"
  }
 },
 "nbformat": 4,
 "nbformat_minor": 4
}
